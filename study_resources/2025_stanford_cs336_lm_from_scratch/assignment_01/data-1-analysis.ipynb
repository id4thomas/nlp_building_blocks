{
 "cells": [
  {
   "cell_type": "markdown",
   "id": "bb6b549d",
   "metadata": {},
   "source": [
    "# data-1 analysis\n",
    "* testing pretokenization_example code"
   ]
  },
  {
   "cell_type": "code",
   "execution_count": 7,
   "id": "4402bfac",
   "metadata": {},
   "outputs": [],
   "source": [
    "import json\n",
    "import os\n",
    "from typing import BinaryIO\n",
    "\n",
    "import pandas as pd"
   ]
  },
  {
   "cell_type": "code",
   "execution_count": 4,
   "id": "ce0419a8",
   "metadata": {},
   "outputs": [
    {
     "data": {
      "text/plain": [
       "b'<|endoftext|>'"
      ]
     },
     "execution_count": 4,
     "metadata": {},
     "output_type": "execute_result"
    }
   ],
   "source": [
    "split_token = \"<|endoftext|>\".encode(\"utf-8\")\n",
    "split_token"
   ]
  },
  {
   "cell_type": "code",
   "execution_count": 6,
   "id": "804f7bf1",
   "metadata": {},
   "outputs": [
    {
     "name": "stdout",
     "output_type": "stream",
     "text": [
      "289998753\n",
      "<class 'bytes'>\n"
     ]
    }
   ],
   "source": [
    "mini_chunk_size = 4096\n",
    "\n",
    "with open('data/owt_valid.txt', 'rb') as file:\n",
    "    file.seek(0, os.SEEK_END)\n",
    "    file_size = file.tell()\n",
    "    print(file_size)\n",
    "    file.seek(0)\n",
    "    \n",
    "    mini_chunk = file.read(mini_chunk_size) \n",
    "    print(type(mini_chunk))"
   ]
  },
  {
   "cell_type": "code",
   "execution_count": 9,
   "id": "87160dd1",
   "metadata": {},
   "outputs": [],
   "source": [
    "def find_chunk_boundaries(\n",
    "    file: BinaryIO, \n",
    "    desired_num_chunks: int, \n",
    "    split_special_token: bytes\n",
    ") -> list[int]:\n",
    "    \"\"\"\n",
    "    Chunk the file into parts that can be counted independently.\n",
    "    May return fewer chunks if the boundaries end up overlapping.\n",
    "    \"\"\"\n",
    "    assert isinstance(split_special_token, bytes), (\n",
    "        \"Must represent special token as a bytestring\"\n",
    "    )\n",
    "\n",
    "    # Get total file size in bytes\n",
    "    file.seek(0, os.SEEK_END)\n",
    "    file_size = file.tell()\n",
    "    file.seek(0)\n",
    "\n",
    "    chunk_size = file_size // desired_num_chunks\n",
    "\n",
    "    # Initial guesses for chunk boundary locations, uniformly spaced\n",
    "    # Chunks start on previous index, don't include last index\n",
    "    chunk_boundaries = [i * chunk_size for i in range(desired_num_chunks + 1)]\n",
    "    chunk_boundaries[-1] = file_size\n",
    "\n",
    "    mini_chunk_size = 4096  # Read ahead by 4k bytes at a time\n",
    "\n",
    "    for bi in range(1, len(chunk_boundaries) - 1):\n",
    "        initial_position = chunk_boundaries[bi]\n",
    "        file.seek(initial_position)  # Start at boundary guess\n",
    "        while True:\n",
    "            mini_chunk = file.read(mini_chunk_size)  # Read a mini chunk\n",
    "\n",
    "            # If EOF, this boundary should be at the end of the file\n",
    "            if mini_chunk == b\"\":\n",
    "                chunk_boundaries[bi] = file_size\n",
    "                break\n",
    "\n",
    "            # Find the special token in the mini chunk\n",
    "            found_at = mini_chunk.find(split_special_token)\n",
    "            if found_at != -1:\n",
    "                chunk_boundaries[bi] = initial_position + found_at\n",
    "                break\n",
    "            initial_position += mini_chunk_size\n",
    "\n",
    "    # Make sure all boundaries are unique, but might be fewer than desired_num_chunks\n",
    "    return sorted(set(chunk_boundaries))"
   ]
  },
  {
   "cell_type": "code",
   "execution_count": 14,
   "id": "1bb4c938",
   "metadata": {},
   "outputs": [
    {
     "name": "stdout",
     "output_type": "stream",
     "text": [
      "CHUNK 0 Size: 36009830\n",
      "CHUNK 36335216 Size: 35852690\n",
      "CHUNK 72505172 Size: 35941460\n",
      "CHUNK 108752143 Size: 35900753\n",
      "CHUNK 145027268 Size: 35914750\n",
      "CHUNK 181256470 Size: 35917461\n",
      "CHUNK 217499287 Size: 35927603\n",
      "CHUNK 253752435 Size: 35889585\n"
     ]
    },
    {
     "data": {
      "text/plain": [
       "[0,\n",
       " 36335216,\n",
       " 72505172,\n",
       " 108752143,\n",
       " 145027268,\n",
       " 181256470,\n",
       " 217499287,\n",
       " 253752435,\n",
       " 289998753]"
      ]
     },
     "execution_count": 14,
     "metadata": {},
     "output_type": "execute_result"
    }
   ],
   "source": [
    "mini_chunk_size = 4096\n",
    "num_processes = 8\n",
    "\n",
    "with open('data/owt_valid.txt', 'rb') as file:\n",
    "        boundaries = find_chunk_boundaries(\n",
    "                file,\n",
    "                num_processes,\n",
    "                \"<|endoftext|>\".encode(\"utf-8\")\n",
    "        )\n",
    "\n",
    "        for start, end in zip(boundaries[:-1], boundaries[1:]):\n",
    "                file.seek(start)\n",
    "                chunk = file.read(end - start).decode(\"utf-8\", errors=\"ignore\")\n",
    "                print(f\"CHUNK {start} Size:\", len(chunk))\n",
    "boundaries"
   ]
  },
  {
   "cell_type": "code",
   "execution_count": 19,
   "id": "24e13054",
   "metadata": {},
   "outputs": [
    {
     "name": "stdout",
     "output_type": "stream",
     "text": [
      "\u0000 '\\x00'\n"
     ]
    }
   ],
   "source": [
    "print(chr(0), repr(chr(0)))"
   ]
  },
  {
   "cell_type": "code",
   "execution_count": 20,
   "id": "eb224552",
   "metadata": {},
   "outputs": [
    {
     "data": {
      "text/plain": [
       "'Hi I am\\x00hello'"
      ]
     },
     "execution_count": 20,
     "metadata": {},
     "output_type": "execute_result"
    }
   ],
   "source": [
    "\"Hi I am\" + chr(0) + \"hello\""
   ]
  },
  {
   "cell_type": "code",
   "execution_count": 21,
   "id": "117e1491",
   "metadata": {},
   "outputs": [
    {
     "name": "stdout",
     "output_type": "stream",
     "text": [
      "Hi I am\u0000hello\n"
     ]
    }
   ],
   "source": [
    "print(\"Hi I am\" + chr(0) + \"hello\")"
   ]
  },
  {
   "cell_type": "code",
   "execution_count": null,
   "id": "3cee6742",
   "metadata": {},
   "outputs": [],
   "source": []
  }
 ],
 "metadata": {
  "kernelspec": {
   "display_name": "hf",
   "language": "python",
   "name": "hf"
  },
  "language_info": {
   "codemirror_mode": {
    "name": "ipython",
    "version": 3
   },
   "file_extension": ".py",
   "mimetype": "text/x-python",
   "name": "python",
   "nbconvert_exporter": "python",
   "pygments_lexer": "ipython3",
   "version": "3.10.14"
  }
 },
 "nbformat": 4,
 "nbformat_minor": 5
}
