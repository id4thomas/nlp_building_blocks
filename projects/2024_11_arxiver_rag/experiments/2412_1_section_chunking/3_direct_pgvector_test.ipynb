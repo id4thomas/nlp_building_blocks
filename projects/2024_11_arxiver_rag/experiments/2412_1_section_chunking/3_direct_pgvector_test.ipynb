{
 "cells": [
  {
   "cell_type": "code",
   "execution_count": 1,
   "metadata": {},
   "outputs": [],
   "source": [
    "import copy\n",
    "import itertools\n",
    "import os\n",
    "from typing import List\n",
    "\n",
    "import matplotlib.pyplot as plt\n",
    "import pandas as pd\n",
    "from pydantic import BaseModel, Field\n",
    "from transformers import AutoTokenizer\n",
    "\n",
    "from semantic_chunkers import StatisticalChunker\n",
    "# from semantic_router.encoders import OpenAIEncoder\n",
    "from src.encoder import OpenAIEncoder"
   ]
  },
  {
   "cell_type": "code",
   "execution_count": 3,
   "metadata": {},
   "outputs": [],
   "source": [
    "from pydantic_settings import BaseSettings, SettingsConfigDict\n",
    "\n",
    "class Settings(BaseSettings):\n",
    "    model_config = SettingsConfigDict(\n",
    "        env_file=\"../.env\", env_file_encoding=\"utf-8\", extra=\"ignore\"\n",
    "    )\n",
    "    embedding_base_url: str\n",
    "    embedding_api_key: str\n",
    "    embedding_model: str\n",
    "    embedding_model_dir: str\n",
    "    \n",
    "    sample_data_dir: str\n",
    "    pipeline_src_dir: str\n",
    "settings = Settings()\n",
    "\n",
    "import sys\n",
    "sys.path.append(settings.pipeline_src_dir)"
   ]
  },
  {
   "cell_type": "code",
   "execution_count": 4,
   "metadata": {},
   "outputs": [
    {
     "name": "stdout",
     "output_type": "stream",
     "text": [
      "(100, 7) Index(['id', 'title', 'abstract', 'authors', 'published_date', 'link',\n",
      "       'markdown'],\n",
      "      dtype='object')\n"
     ]
    }
   ],
   "source": [
    "## Load Sample\n",
    "df = pd.read_parquet(settings.sample_data_dir)\n",
    "df = df.sample(100)\n",
    "print(df.shape, df.columns)"
   ]
  },
  {
   "cell_type": "code",
   "execution_count": 5,
   "metadata": {},
   "outputs": [
    {
     "data": {
      "text/html": [
       "<div>\n",
       "<style scoped>\n",
       "    .dataframe tbody tr th:only-of-type {\n",
       "        vertical-align: middle;\n",
       "    }\n",
       "\n",
       "    .dataframe tbody tr th {\n",
       "        vertical-align: top;\n",
       "    }\n",
       "\n",
       "    .dataframe thead th {\n",
       "        text-align: right;\n",
       "    }\n",
       "</style>\n",
       "<table border=\"1\" class=\"dataframe\">\n",
       "  <thead>\n",
       "    <tr style=\"text-align: right;\">\n",
       "      <th></th>\n",
       "      <th>id</th>\n",
       "      <th>title</th>\n",
       "      <th>abstract</th>\n",
       "      <th>authors</th>\n",
       "      <th>published_date</th>\n",
       "      <th>link</th>\n",
       "      <th>markdown</th>\n",
       "    </tr>\n",
       "  </thead>\n",
       "  <tbody>\n",
       "    <tr>\n",
       "      <th>52803</th>\n",
       "      <td>2306.12543</td>\n",
       "      <td>Matroid lifts and representability</td>\n",
       "      <td>A 1965 result of Crapo shows that every elemen...</td>\n",
       "      <td>Daniel Irving Bernstein, Zach Walsh</td>\n",
       "      <td>2023-06-21T20:16:12Z</td>\n",
       "      <td>http://arxiv.org/abs/2306.12543v1</td>\n",
       "      <td># Matroid lifts and representability\\n\\n######...</td>\n",
       "    </tr>\n",
       "    <tr>\n",
       "      <th>32340</th>\n",
       "      <td>2303.15305</td>\n",
       "      <td>Why winning a soccer game is worth 5 points</td>\n",
       "      <td>Ranking is used in sport leagues to determine ...</td>\n",
       "      <td>Leszek Szczecinski</td>\n",
       "      <td>2023-02-22T21:10:44Z</td>\n",
       "      <td>http://arxiv.org/abs/2303.15305v1</td>\n",
       "      <td># Why winning a soccer game is worth 5 points\\...</td>\n",
       "    </tr>\n",
       "    <tr>\n",
       "      <th>41021</th>\n",
       "      <td>2305.10923</td>\n",
       "      <td>Query Performance Prediction: From Ad-hoc to C...</td>\n",
       "      <td>Query performance prediction (QPP) is a core t...</td>\n",
       "      <td>Chuan Meng, Negar Arabzadeh, Mohammad Aliannej...</td>\n",
       "      <td>2023-05-18T12:37:01Z</td>\n",
       "      <td>http://arxiv.org/abs/2305.10923v1</td>\n",
       "      <td># Query Performance Prediction:\\n\\n###### Abst...</td>\n",
       "    </tr>\n",
       "    <tr>\n",
       "      <th>48656</th>\n",
       "      <td>2310.15802</td>\n",
       "      <td>Nonlinear response theory for lossy supercondu...</td>\n",
       "      <td>We introduce a numerically exact and yet compu...</td>\n",
       "      <td>V. Vadimov, M. Xu, J. T. Stockburger, J. Anker...</td>\n",
       "      <td>2023-10-24T12:53:10Z</td>\n",
       "      <td>http://arxiv.org/abs/2310.15802v1</td>\n",
       "      <td># Nonlinear response theory for lossy supercon...</td>\n",
       "    </tr>\n",
       "    <tr>\n",
       "      <th>17079</th>\n",
       "      <td>2302.04949</td>\n",
       "      <td>Almost-Nash Sequential Bargaining</td>\n",
       "      <td>In a 2017 paper, later presented at the Web an...</td>\n",
       "      <td>Gokul Dharan, Hunter Guru, Michael Sun</td>\n",
       "      <td>2023-02-09T21:40:41Z</td>\n",
       "      <td>http://arxiv.org/abs/2302.04949v1</td>\n",
       "      <td># Almost-Nash Sequential Bargaining\\n\\n###### ...</td>\n",
       "    </tr>\n",
       "  </tbody>\n",
       "</table>\n",
       "</div>"
      ],
      "text/plain": [
       "               id                                              title  \\\n",
       "52803  2306.12543                 Matroid lifts and representability   \n",
       "32340  2303.15305        Why winning a soccer game is worth 5 points   \n",
       "41021  2305.10923  Query Performance Prediction: From Ad-hoc to C...   \n",
       "48656  2310.15802  Nonlinear response theory for lossy supercondu...   \n",
       "17079  2302.04949                  Almost-Nash Sequential Bargaining   \n",
       "\n",
       "                                                abstract  \\\n",
       "52803  A 1965 result of Crapo shows that every elemen...   \n",
       "32340  Ranking is used in sport leagues to determine ...   \n",
       "41021  Query performance prediction (QPP) is a core t...   \n",
       "48656  We introduce a numerically exact and yet compu...   \n",
       "17079  In a 2017 paper, later presented at the Web an...   \n",
       "\n",
       "                                                 authors  \\\n",
       "52803                Daniel Irving Bernstein, Zach Walsh   \n",
       "32340                                 Leszek Szczecinski   \n",
       "41021  Chuan Meng, Negar Arabzadeh, Mohammad Aliannej...   \n",
       "48656  V. Vadimov, M. Xu, J. T. Stockburger, J. Anker...   \n",
       "17079             Gokul Dharan, Hunter Guru, Michael Sun   \n",
       "\n",
       "             published_date                               link  \\\n",
       "52803  2023-06-21T20:16:12Z  http://arxiv.org/abs/2306.12543v1   \n",
       "32340  2023-02-22T21:10:44Z  http://arxiv.org/abs/2303.15305v1   \n",
       "41021  2023-05-18T12:37:01Z  http://arxiv.org/abs/2305.10923v1   \n",
       "48656  2023-10-24T12:53:10Z  http://arxiv.org/abs/2310.15802v1   \n",
       "17079  2023-02-09T21:40:41Z  http://arxiv.org/abs/2302.04949v1   \n",
       "\n",
       "                                                markdown  \n",
       "52803  # Matroid lifts and representability\\n\\n######...  \n",
       "32340  # Why winning a soccer game is worth 5 points\\...  \n",
       "41021  # Query Performance Prediction:\\n\\n###### Abst...  \n",
       "48656  # Nonlinear response theory for lossy supercon...  \n",
       "17079  # Almost-Nash Sequential Bargaining\\n\\n###### ...  "
      ]
     },
     "execution_count": 5,
     "metadata": {},
     "output_type": "execute_result"
    }
   ],
   "source": [
    "df.head()"
   ]
  }
 ],
 "metadata": {
  "kernelspec": {
   "display_name": "llm",
   "language": "python",
   "name": "llm"
  },
  "language_info": {
   "codemirror_mode": {
    "name": "ipython",
    "version": 3
   },
   "file_extension": ".py",
   "mimetype": "text/x-python",
   "name": "python",
   "nbconvert_exporter": "python",
   "pygments_lexer": "ipython3",
   "version": "3.10.14"
  }
 },
 "nbformat": 4,
 "nbformat_minor": 2
}
