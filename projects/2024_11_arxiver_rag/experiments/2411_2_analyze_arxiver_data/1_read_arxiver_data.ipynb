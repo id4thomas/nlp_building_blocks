{
 "cells": [
  {
   "cell_type": "code",
   "execution_count": 14,
   "metadata": {},
   "outputs": [],
   "source": [
    "import os\n",
    "\n",
    "import matplotlib.pyplot as plt\n",
    "import pandas as pd\n",
    "from tqdm import tqdm"
   ]
  },
  {
   "cell_type": "code",
   "execution_count": null,
   "metadata": {},
   "outputs": [],
   "source": [
    "from src.config import settings"
   ]
  },
  {
   "cell_type": "code",
   "execution_count": 8,
   "metadata": {},
   "outputs": [
    {
     "name": "stdout",
     "output_type": "stream",
     "text": [
      "(63357, 7) Index(['id', 'title', 'abstract', 'authors', 'published_date', 'link',\n",
      "       'markdown'],\n",
      "      dtype='object')\n"
     ]
    }
   ],
   "source": [
    "df = pd.read_parquet(os.path.join(settings.data_dir, \"arxiver/data/train.parquet\"))\n",
    "print(df.shape, df.columns)\n",
    "## Sample 10k\n",
    "df = df.sample(10000)"
   ]
  },
  {
   "cell_type": "code",
   "execution_count": 9,
   "metadata": {},
   "outputs": [
    {
     "data": {
      "text/html": [
       "<div>\n",
       "<style scoped>\n",
       "    .dataframe tbody tr th:only-of-type {\n",
       "        vertical-align: middle;\n",
       "    }\n",
       "\n",
       "    .dataframe tbody tr th {\n",
       "        vertical-align: top;\n",
       "    }\n",
       "\n",
       "    .dataframe thead th {\n",
       "        text-align: right;\n",
       "    }\n",
       "</style>\n",
       "<table border=\"1\" class=\"dataframe\">\n",
       "  <thead>\n",
       "    <tr style=\"text-align: right;\">\n",
       "      <th></th>\n",
       "      <th>id</th>\n",
       "      <th>title</th>\n",
       "      <th>abstract</th>\n",
       "      <th>authors</th>\n",
       "      <th>published_date</th>\n",
       "      <th>link</th>\n",
       "      <th>markdown</th>\n",
       "    </tr>\n",
       "  </thead>\n",
       "  <tbody>\n",
       "    <tr>\n",
       "      <th>46076</th>\n",
       "      <td>2308.01786</td>\n",
       "      <td>Unique properties of the optical activity in n...</td>\n",
       "      <td>We present general properties of the optical a...</td>\n",
       "      <td>Koki Shinada, Robert Peters</td>\n",
       "      <td>2023-08-03T14:35:36Z</td>\n",
       "      <td>http://arxiv.org/abs/2308.01786v2</td>\n",
       "      <td># Unique properties of the optical activity in...</td>\n",
       "    </tr>\n",
       "    <tr>\n",
       "      <th>30915</th>\n",
       "      <td>2310.13510</td>\n",
       "      <td>Beyond power density: unexpected scaling laws ...</td>\n",
       "      <td>Blue energy represents a large reservoir of re...</td>\n",
       "      <td>Timothee Derkenne, Annie Colin, Corentin Tregouet</td>\n",
       "      <td>2023-10-20T13:54:58Z</td>\n",
       "      <td>http://arxiv.org/abs/2310.13510v1</td>\n",
       "      <td>Beyond power density: unexpected scaling laws ...</td>\n",
       "    </tr>\n",
       "    <tr>\n",
       "      <th>51840</th>\n",
       "      <td>2301.03760</td>\n",
       "      <td>Over-The-Air Adversarial Attacks on Deep Learn...</td>\n",
       "      <td>Empowered by deep neural networks (DNNs), Wi-F...</td>\n",
       "      <td>Fei Xiao, Yong Huang, Yingying Zuo, Wei Kuang,...</td>\n",
       "      <td>2023-01-10T02:37:23Z</td>\n",
       "      <td>http://arxiv.org/abs/2301.03760v1</td>\n",
       "      <td># Over-The-Air Adversarial Attacks on Deep Lea...</td>\n",
       "    </tr>\n",
       "    <tr>\n",
       "      <th>39419</th>\n",
       "      <td>2302.05542</td>\n",
       "      <td>Dynamics of intermediate mass black holes in g...</td>\n",
       "      <td>We recently introduced a new method for simula...</td>\n",
       "      <td>Pierfrancesco Di Cintio, Mario Pasquato, Luca ...</td>\n",
       "      <td>2023-02-10T23:09:34Z</td>\n",
       "      <td>http://arxiv.org/abs/2302.05542v2</td>\n",
       "      <td># Dynamics of intermediate mass black holes in...</td>\n",
       "    </tr>\n",
       "    <tr>\n",
       "      <th>60173</th>\n",
       "      <td>2309.01369</td>\n",
       "      <td>Exploring Limits of Diffusion-Synthetic Traini...</td>\n",
       "      <td>The advance of generative models for images ha...</td>\n",
       "      <td>Ryota Yoshihashi, Yuya Otsuka, Kenji Doi, Tomo...</td>\n",
       "      <td>2023-09-04T05:34:19Z</td>\n",
       "      <td>http://arxiv.org/abs/2309.01369v2</td>\n",
       "      <td>Attention as Annotation: Generating Images and...</td>\n",
       "    </tr>\n",
       "  </tbody>\n",
       "</table>\n",
       "</div>"
      ],
      "text/plain": [
       "               id                                              title  \\\n",
       "46076  2308.01786  Unique properties of the optical activity in n...   \n",
       "30915  2310.13510  Beyond power density: unexpected scaling laws ...   \n",
       "51840  2301.03760  Over-The-Air Adversarial Attacks on Deep Learn...   \n",
       "39419  2302.05542  Dynamics of intermediate mass black holes in g...   \n",
       "60173  2309.01369  Exploring Limits of Diffusion-Synthetic Traini...   \n",
       "\n",
       "                                                abstract  \\\n",
       "46076  We present general properties of the optical a...   \n",
       "30915  Blue energy represents a large reservoir of re...   \n",
       "51840  Empowered by deep neural networks (DNNs), Wi-F...   \n",
       "39419  We recently introduced a new method for simula...   \n",
       "60173  The advance of generative models for images ha...   \n",
       "\n",
       "                                                 authors  \\\n",
       "46076                        Koki Shinada, Robert Peters   \n",
       "30915  Timothee Derkenne, Annie Colin, Corentin Tregouet   \n",
       "51840  Fei Xiao, Yong Huang, Yingying Zuo, Wei Kuang,...   \n",
       "39419  Pierfrancesco Di Cintio, Mario Pasquato, Luca ...   \n",
       "60173  Ryota Yoshihashi, Yuya Otsuka, Kenji Doi, Tomo...   \n",
       "\n",
       "             published_date                               link  \\\n",
       "46076  2023-08-03T14:35:36Z  http://arxiv.org/abs/2308.01786v2   \n",
       "30915  2023-10-20T13:54:58Z  http://arxiv.org/abs/2310.13510v1   \n",
       "51840  2023-01-10T02:37:23Z  http://arxiv.org/abs/2301.03760v1   \n",
       "39419  2023-02-10T23:09:34Z  http://arxiv.org/abs/2302.05542v2   \n",
       "60173  2023-09-04T05:34:19Z  http://arxiv.org/abs/2309.01369v2   \n",
       "\n",
       "                                                markdown  \n",
       "46076  # Unique properties of the optical activity in...  \n",
       "30915  Beyond power density: unexpected scaling laws ...  \n",
       "51840  # Over-The-Air Adversarial Attacks on Deep Lea...  \n",
       "39419  # Dynamics of intermediate mass black holes in...  \n",
       "60173  Attention as Annotation: Generating Images and...  "
      ]
     },
     "execution_count": 9,
     "metadata": {},
     "output_type": "execute_result"
    }
   ],
   "source": [
    "df.head()"
   ]
  },
  {
   "cell_type": "code",
   "execution_count": 6,
   "metadata": {},
   "outputs": [
    {
     "data": {
      "application/vnd.jupyter.widget-view+json": {
       "model_id": "ad6d83d5b4a742e3bd497603fbd88231",
       "version_major": 2,
       "version_minor": 0
      },
      "text/plain": [
       "tokenizer_config.json:   0%|          | 0.00/444 [00:00<?, ?B/s]"
      ]
     },
     "metadata": {},
     "output_type": "display_data"
    },
    {
     "data": {
      "application/vnd.jupyter.widget-view+json": {
       "model_id": "d001681930944e3b9424ff01785a9632",
       "version_major": 2,
       "version_minor": 0
      },
      "text/plain": [
       "sentencepiece.bpe.model:   0%|          | 0.00/5.07M [00:00<?, ?B/s]"
      ]
     },
     "metadata": {},
     "output_type": "display_data"
    },
    {
     "data": {
      "application/vnd.jupyter.widget-view+json": {
       "model_id": "bd164478fb23442a886b08dc56ff07d4",
       "version_major": 2,
       "version_minor": 0
      },
      "text/plain": [
       "tokenizer.json:   0%|          | 0.00/17.1M [00:00<?, ?B/s]"
      ]
     },
     "metadata": {},
     "output_type": "display_data"
    },
    {
     "data": {
      "application/vnd.jupyter.widget-view+json": {
       "model_id": "48191321a501468699b727bb307d7e5f",
       "version_major": 2,
       "version_minor": 0
      },
      "text/plain": [
       "special_tokens_map.json:   0%|          | 0.00/964 [00:00<?, ?B/s]"
      ]
     },
     "metadata": {},
     "output_type": "display_data"
    }
   ],
   "source": [
    "## Load Tokenizer\n",
    "from src.utils.tokenizer_utils import *\n",
    "\n",
    "gpt_4o_mini_tokenizer = init_tiktoken_tokenizer(\"gpt-4o-mini\")\n",
    "bge_m3_tokenizer = init_hf_tokenizer(\"baai/bge-m3\")"
   ]
  },
  {
   "cell_type": "markdown",
   "metadata": {},
   "source": [
    "# Abstract Lengths"
   ]
  },
  {
   "cell_type": "code",
   "execution_count": 10,
   "metadata": {},
   "outputs": [],
   "source": [
    "## Abstract Lengths\n",
    "abstract_texts = df.abstract.values.tolist()"
   ]
  },
  {
   "cell_type": "code",
   "execution_count": 12,
   "metadata": {},
   "outputs": [
    {
     "name": "stderr",
     "output_type": "stream",
     "text": [
      "100%|██████████| 10000/10000 [00:01<00:00, 7508.50it/s]\n"
     ]
    },
    {
     "data": {
      "image/png": "[encoded data removed]",
      "text/plain": [
       "<Figure size 640x480 with 1 Axes>"
      ]
     },
     "metadata": {},
     "output_type": "display_data"
    }
   ],
   "source": [
    "gpt_4o_mini_lens = [tiktoken_length(gpt_4o_mini_tokenizer, x) for x in tqdm(abstract_texts)]\n",
    "plt.clf()\n",
    "plt.hist(gpt_4o_mini_lens, bins = 50)\n",
    "plt.title(\"gpt-4o-mini abstract num_tokens\")\n",
    "plt.show()"
   ]
  },
  {
   "cell_type": "code",
   "execution_count": 13,
   "metadata": {},
   "outputs": [
    {
     "name": "stderr",
     "output_type": "stream",
     "text": [
      "100%|██████████| 10000/10000 [00:04<00:00, 2064.81it/s]\n"
     ]
    },
    {
     "data": {
      "image/png": "[encoded data removed]",
      "text/plain": [
       "<Figure size 640x480 with 1 Axes>"
      ]
     },
     "metadata": {},
     "output_type": "display_data"
    }
   ],
   "source": [
    "bge_m3_lens = [hf_length(bge_m3_tokenizer, x) for x in tqdm(abstract_texts)]\n",
    "plt.clf()\n",
    "plt.hist(bge_m3_lens, bins = 50)\n",
    "plt.title(\"bge-m3 abstract num_tokens\")\n",
    "plt.show()"
   ]
  },
  {
   "cell_type": "markdown",
   "metadata": {},
   "source": [
    "# Sections (+subsections)"
   ]
  }
 ],
 "metadata": {
  "kernelspec": {
   "display_name": "llm",
   "language": "python",
   "name": "llm"
  },
  "language_info": {
   "codemirror_mode": {
    "name": "ipython",
    "version": 3
   },
   "file_extension": ".py",
   "mimetype": "text/x-python",
   "name": "python",
   "nbconvert_exporter": "python",
   "pygments_lexer": "ipython3",
   "version": "3.10.14"
  }
 },
 "nbformat": 4,
 "nbformat_minor": 2
}
