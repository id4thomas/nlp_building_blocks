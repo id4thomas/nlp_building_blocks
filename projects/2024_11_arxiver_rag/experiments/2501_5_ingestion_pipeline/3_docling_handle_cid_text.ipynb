{
 "cells": [
  {
   "cell_type": "code",
   "execution_count": 3,
   "metadata": {},
   "outputs": [],
   "source": [
    "import json\n",
    "from pathlib import Path\n",
    "import os\n",
    "import time\n",
    "\n",
    "import fitz\n",
    "import pandas as pd"
   ]
  },
  {
   "cell_type": "code",
   "execution_count": 4,
   "metadata": {},
   "outputs": [],
   "source": [
    "from pydantic_settings import BaseSettings, SettingsConfigDict\n",
    "\n",
    "class Settings(BaseSettings):\n",
    "    model_config = SettingsConfigDict(\n",
    "        env_file=\"../.env\", env_file_encoding=\"utf-8\", extra=\"ignore\"\n",
    "    )\n",
    "    data_dir: str\n",
    "    docling_model_dir: str\n",
    "    \n",
    "settings = Settings()\n",
    "os.environ[\"HF_HOME\"] = settings.docling_model_dir"
   ]
  },
  {
   "cell_type": "code",
   "execution_count": 5,
   "metadata": {},
   "outputs": [],
   "source": [
    "import sys\n",
    "sys.path.append(\"src\")"
   ]
  },
  {
   "cell_type": "markdown",
   "metadata": {},
   "source": [
    "# Clean PDF"
   ]
  },
  {
   "cell_type": "code",
   "execution_count": 6,
   "metadata": {},
   "outputs": [
    {
     "name": "stdout",
     "output_type": "stream",
     "text": [
      "num files: 10\n"
     ]
    },
    {
     "data": {
      "text/plain": [
       "['★2019 제1회 증시콘서트 자료집_최종★.pdf',\n",
       " '240409(보도자료) 금융위 핀테크 투자 생태계 활성화 나선다.pdf',\n",
       " '2024년 3월_3. 향후 통화신용정책 방향.pdf',\n",
       " '133178946057443204_WP22-05.pdf',\n",
       " '240130(보도자료) 지방은행의 시중은행 전환시 인가방식 및 절차.pdf',\n",
       " '130292099630937500_KIFVIP2013-10.pdf',\n",
       " '2024년 3월_2. 통화신용정책 운영.pdf',\n",
       " '[별첨] 지방은행의 시중은행 전환시 인가방식 및 절차.pdf',\n",
       " '240320(보도자료) 금융권의 상생금융 추진현황.pdf',\n",
       " '한-호주 퇴직연금 포럼_책자(최종).pdf']"
      ]
     },
     "execution_count": 6,
     "metadata": {},
     "output_type": "execute_result"
    }
   ],
   "source": [
    "pdf_dir = os.path.join(settings.data_dir, \"allganize-RAG-Evaluation-Dataset-KO/finance\")\n",
    "pdf_fnames =[x for x in os.listdir(pdf_dir) if x.endswith(\".pdf\")]\n",
    "print(\"num files:\", len(pdf_fnames))\n",
    "\n",
    "file_path = os.path.join(pdf_dir, pdf_fnames[0])\n",
    "pdf_fnames[:10]"
   ]
  },
  {
   "cell_type": "code",
   "execution_count": 7,
   "metadata": {},
   "outputs": [],
   "source": [
    "out_doc = fitz.Document()\n",
    "page = fitz.Document(file_path)\n",
    "out_doc.insert_pdf(page)\n",
    "out_doc.save(\n",
    "    \"temp/clean-test.pdf\",\n",
    "    clean=True,\n",
    "    # ascii=True,\n",
    "    # sanitize=True\n",
    ")"
   ]
  },
  {
   "cell_type": "markdown",
   "metadata": {},
   "source": [
    "# Check CID font"
   ]
  },
  {
   "cell_type": "code",
   "execution_count": 8,
   "metadata": {},
   "outputs": [
    {
     "name": "stdout",
     "output_type": "stream",
     "text": [
      "[(1510, 'cid', 'Type0', 'BBLAYW+YDVYGOStd13', 'C0_0', 'Identity-H'), (1515, 'cid', 'Type0', 'ACWUKY+YDVYGOStd12', 'C0_1', 'Identity-H'), (1520, 'ttf', 'Type0', 'LVLNIC+KoPubBatangBold', 'C2_0', 'Identity-H'), (1525, 'ttf', 'Type0', 'GLYEQM+KoPubDotumBold', 'C2_1', 'Identity-H')]\n",
      "[(1930, 'cid', 'Type0', '*ÇÑ¾çÁß°íµñ-Identity-H', 'C0_0', 'Identity-H'), (1924, 'ttf', 'Type0', 'NEHJGA+KoPubDotumBold', 'C2_0', 'Identity-H'), (1925, 'ttf', 'Type0', 'NEHJIB+KoPubDotumMedium', 'C2_1', 'Identity-H'), (1926, 'ttf', 'Type0', 'NEHJPP+HYHeadLine-Medium', 'C2_2', 'Identity-H'), (1927, 'ttf', 'Type0', 'NEHKAP+KoPubBatangBold', 'C2_3', 'Identity-H'), (1928, 'ttf', 'Type0', 'NEHKDP+MalgunGothicBold', 'C2_4', 'Identity-H'), (1929, 'ttf', 'Type0', 'NEHKFP+MalgunGothicRegular', 'C2_5', 'Identity-H'), (1993, 'n/a', 'Type0', 'Gulim', 'Gulim', 'UniKS-UTF16-H')]\n",
      "[(1237, 'ttf', 'Type0', 'KCOMCF+KoPubBatangBold', 'C2_0', 'Identity-H'), (1236, 'ttf', 'Type0', 'KCOMDG+KoPubDotumBold', 'C2_1', 'Identity-H'), (1993, 'n/a', 'Type0', 'Gulim', 'Gulim', 'UniKS-UTF16-H')]\n",
      "[(1236, 'ttf', 'Type0', 'KCOMDG+KoPubDotumBold', 'C2_0', 'Identity-H'), (1238, 'ttf', 'Type0', 'KCOMFG+KoPubDotumMedium', 'C2_1', 'Identity-H'), (1993, 'n/a', 'Type0', 'Gulim', 'Gulim', 'UniKS-UTF16-H')]\n",
      "[(1246, 'ttf', 'Type0', 'EDINAB+»ï¼º±ä°íµñMedium-KSCms-UHC-H', 'C2_0', 'Identity-H'), (1247, 'ttf', 'Type0', 'EDINBB+»ï¼º±ä°íµñBold-KSCms-UHC-H', 'C2_1', 'Identity-H'), (1993, 'n/a', 'Type0', 'Gulim', 'Gulim', 'UniKS-UTF16-H')]\n",
      "[(1276, 'ttf', 'Type0', 'EDIPOB+»ï¼º±ä°íµñLight-KSCms-UHC-H', 'C2_0', 'Identity-H'), (1246, 'ttf', 'Type0', 'EDINAB+»ï¼º±ä°íµñMedium-KSCms-UHC-H', 'C2_1', 'Identity-H'), (1247, 'ttf', 'Type0', 'EDINBB+»ï¼º±ä°íµñBold-KSCms-UHC-H', 'C2_2', 'Identity-H'), (1266, 'ttf', 'Type0', 'EDIPOC+»ï¼º±ä°íµñRegular-KSCms-UHC-H', 'C2_3', 'Identity-H'), (1258, 'ttf', 'Type0', 'EDIPPD+HYÇìµå¶óÀÎM-KSCms-UHC-H', 'C2_4', 'Identity-H'), (1251, 'ttf', 'Type0', 'EDJAIA+»ï¼º±ä°íµñUltralight-KSCms-UHC-H', 'C2_5', 'Identity-H'), (1993, 'n/a', 'Type0', 'Gulim', 'Gulim', 'UniKS-UTF16-H')]\n",
      "[(1276, 'ttf', 'Type0', 'EDIPOB+»ï¼º±ä°íµñLight-KSCms-UHC-H', 'C2_0', 'Identity-H'), (1246, 'ttf', 'Type0', 'EDINAB+»ï¼º±ä°íµñMedium-KSCms-UHC-H', 'C2_1', 'Identity-H'), (1251, 'ttf', 'Type0', 'EDJAIA+»ï¼º±ä°íµñUltralight-KSCms-UHC-H', 'C2_2', 'Identity-H'), (1247, 'ttf', 'Type0', 'EDINBB+»ï¼º±ä°íµñBold-KSCms-UHC-H', 'C2_3', 'Identity-H'), (1266, 'ttf', 'Type0', 'EDIPOC+»ï¼º±ä°íµñRegular-KSCms-UHC-H', 'C2_4', 'Identity-H'), (1258, 'ttf', 'Type0', 'EDIPPD+HYÇìµå¶óÀÎM-KSCms-UHC-H', 'C2_5', 'Identity-H'), (1279, 'ttf', 'Type0', 'EDJCDH+9-KSCms-UHC-H', 'C2_6', 'Identity-H'), (1993, 'n/a', 'Type0', 'Gulim', 'Gulim', 'UniKS-UTF16-H')]\n",
      "[(1276, 'ttf', 'Type0', 'EDIPOB+»ï¼º±ä°íµñLight-KSCms-UHC-H', 'C2_0', 'Identity-H'), (1246, 'ttf', 'Type0', 'EDINAB+»ï¼º±ä°íµñMedium-KSCms-UHC-H', 'C2_1', 'Identity-H'), (1251, 'ttf', 'Type0', 'EDJAIA+»ï¼º±ä°íµñUltralight-KSCms-UHC-H', 'C2_2', 'Identity-H'), (1258, 'ttf', 'Type0', 'EDIPPD+HYÇìµå¶óÀÎM-KSCms-UHC-H', 'C2_3', 'Identity-H'), (1247, 'ttf', 'Type0', 'EDINBB+»ï¼º±ä°íµñBold-KSCms-UHC-H', 'C2_4', 'Identity-H'), (1280, 'ttf', 'TrueType', 'EDJCLG+Arial', 'TT0', 'WinAnsiEncoding'), (1993, 'n/a', 'Type0', 'Gulim', 'Gulim', 'UniKS-UTF16-H')]\n",
      "[(1276, 'ttf', 'Type0', 'EDIPOB+»ï¼º±ä°íµñLight-KSCms-UHC-H', 'C2_0', 'Identity-H'), (1246, 'ttf', 'Type0', 'EDINAB+»ï¼º±ä°íµñMedium-KSCms-UHC-H', 'C2_1', 'Identity-H'), (1251, 'ttf', 'Type0', 'EDJAIA+»ï¼º±ä°íµñUltralight-KSCms-UHC-H', 'C2_2', 'Identity-H'), (1247, 'ttf', 'Type0', 'EDINBB+»ï¼º±ä°íµñBold-KSCms-UHC-H', 'C2_3', 'Identity-H'), (1266, 'ttf', 'Type0', 'EDIPOC+»ï¼º±ä°íµñRegular-KSCms-UHC-H', 'C2_4', 'Identity-H'), (1258, 'ttf', 'Type0', 'EDIPPD+HYÇìµå¶óÀÎM-KSCms-UHC-H', 'C2_5', 'Identity-H'), (1993, 'n/a', 'Type0', 'Gulim', 'Gulim', 'UniKS-UTF16-H')]\n",
      "[(1276, 'ttf', 'Type0', 'EDIPOB+»ï¼º±ä°íµñLight-KSCms-UHC-H', 'C2_0', 'Identity-H'), (1246, 'ttf', 'Type0', 'EDINAB+»ï¼º±ä°íµñMedium-KSCms-UHC-H', 'C2_1', 'Identity-H'), (1251, 'ttf', 'Type0', 'EDJAIA+»ï¼º±ä°íµñUltralight-KSCms-UHC-H', 'C2_2', 'Identity-H'), (1247, 'ttf', 'Type0', 'EDINBB+»ï¼º±ä°íµñBold-KSCms-UHC-H', 'C2_3', 'Identity-H'), (1266, 'ttf', 'Type0', 'EDIPOC+»ï¼º±ä°íµñRegular-KSCms-UHC-H', 'C2_4', 'Identity-H'), (1993, 'n/a', 'Type0', 'Gulim', 'Gulim', 'UniKS-UTF16-H')]\n",
      "[(1276, 'ttf', 'Type0', 'EDIPOB+»ï¼º±ä°íµñLight-KSCms-UHC-H', 'C2_0', 'Identity-H'), (1246, 'ttf', 'Type0', 'EDINAB+»ï¼º±ä°íµñMedium-KSCms-UHC-H', 'C2_1', 'Identity-H'), (1251, 'ttf', 'Type0', 'EDJAIA+»ï¼º±ä°íµñUltralight-KSCms-UHC-H', 'C2_2', 'Identity-H'), (1247, 'ttf', 'Type0', 'EDINBB+»ï¼º±ä°íµñBold-KSCms-UHC-H', 'C2_3', 'Identity-H'), (1258, 'ttf', 'Type0', 'EDIPPD+HYÇìµå¶óÀÎM-KSCms-UHC-H', 'C2_4', 'Identity-H'), (1294, 'ttf', 'Type0', 'EDJEOJ+»ï¼ºPTL-KSCms-UHC-H', 'C2_5', 'Identity-H'), (1993, 'n/a', 'Type0', 'Gulim', 'Gulim', 'UniKS-UTF16-H')]\n",
      "[(1276, 'ttf', 'Type0', 'EDIPOB+»ï¼º±ä°íµñLight-KSCms-UHC-H', 'C2_0', 'Identity-H'), (1246, 'ttf', 'Type0', 'EDINAB+»ï¼º±ä°íµñMedium-KSCms-UHC-H', 'C2_1', 'Identity-H'), (1251, 'ttf', 'Type0', 'EDJAIA+»ï¼º±ä°íµñUltralight-KSCms-UHC-H', 'C2_2', 'Identity-H'), (1247, 'ttf', 'Type0', 'EDINBB+»ï¼º±ä°íµñBold-KSCms-UHC-H', 'C2_3', 'Identity-H'), (1266, 'ttf', 'Type0', 'EDIPOC+»ï¼º±ä°íµñRegular-KSCms-UHC-H', 'C2_4', 'Identity-H'), (1993, 'n/a', 'Type0', 'Gulim', 'Gulim', 'UniKS-UTF16-H')]\n",
      "[(1247, 'ttf', 'Type0', 'EDINBB+»ï¼º±ä°íµñBold-KSCms-UHC-H', 'C2_0', 'Identity-H'), (1276, 'ttf', 'Type0', 'EDIPOB+»ï¼º±ä°íµñLight-KSCms-UHC-H', 'C2_1', 'Identity-H'), (1246, 'ttf', 'Type0', 'EDINAB+»ï¼º±ä°íµñMedium-KSCms-UHC-H', 'C2_2', 'Identity-H'), (1251, 'ttf', 'Type0', 'EDJAIA+»ï¼º±ä°íµñUltralight-KSCms-UHC-H', 'C2_3', 'Identity-H'), (1266, 'ttf', 'Type0', 'EDIPOC+»ï¼º±ä°íµñRegular-KSCms-UHC-H', 'C2_4', 'Identity-H'), (1993, 'n/a', 'Type0', 'Gulim', 'Gulim', 'UniKS-UTF16-H')]\n",
      "[(1276, 'ttf', 'Type0', 'EDIPOB+»ï¼º±ä°íµñLight-KSCms-UHC-H', 'C2_0', 'Identity-H'), (1246, 'ttf', 'Type0', 'EDINAB+»ï¼º±ä°íµñMedium-KSCms-UHC-H', 'C2_1', 'Identity-H'), (1251, 'ttf', 'Type0', 'EDJAIA+»ï¼º±ä°íµñUltralight-KSCms-UHC-H', 'C2_2', 'Identity-H'), (1266, 'ttf', 'Type0', 'EDIPOC+»ï¼º±ä°íµñRegular-KSCms-UHC-H', 'C2_3', 'Identity-H'), (1247, 'ttf', 'Type0', 'EDINBB+»ï¼º±ä°íµñBold-KSCms-UHC-H', 'C2_4', 'Identity-H'), (1993, 'n/a', 'Type0', 'Gulim', 'Gulim', 'UniKS-UTF16-H')]\n",
      "[(1276, 'ttf', 'Type0', 'EDIPOB+»ï¼º±ä°íµñLight-KSCms-UHC-H', 'C2_0', 'Identity-H'), (1246, 'ttf', 'Type0', 'EDINAB+»ï¼º±ä°íµñMedium-KSCms-UHC-H', 'C2_1', 'Identity-H'), (1251, 'ttf', 'Type0', 'EDJAIA+»ï¼º±ä°íµñUltralight-KSCms-UHC-H', 'C2_2', 'Identity-H'), (1247, 'ttf', 'Type0', 'EDINBB+»ï¼º±ä°íµñBold-KSCms-UHC-H', 'C2_3', 'Identity-H'), (1993, 'n/a', 'Type0', 'Gulim', 'Gulim', 'UniKS-UTF16-H')]\n",
      "[(1276, 'ttf', 'Type0', 'EDIPOB+»ï¼º±ä°íµñLight-KSCms-UHC-H', 'C2_0', 'Identity-H'), (1246, 'ttf', 'Type0', 'EDINAB+»ï¼º±ä°íµñMedium-KSCms-UHC-H', 'C2_1', 'Identity-H'), (1251, 'ttf', 'Type0', 'EDJAIA+»ï¼º±ä°íµñUltralight-KSCms-UHC-H', 'C2_2', 'Identity-H'), (1247, 'ttf', 'Type0', 'EDINBB+»ï¼º±ä°íµñBold-KSCms-UHC-H', 'C2_3', 'Identity-H'), (1993, 'n/a', 'Type0', 'Gulim', 'Gulim', 'UniKS-UTF16-H')]\n",
      "[(1236, 'ttf', 'Type0', 'KCOMDG+KoPubDotumBold', 'C2_0', 'Identity-H'), (1238, 'ttf', 'Type0', 'KCOMFG+KoPubDotumMedium', 'C2_1', 'Identity-H'), (1993, 'n/a', 'Type0', 'Gulim', 'Gulim', 'UniKS-UTF16-H')]\n",
      "[(1305, 'ttf', 'Type0', 'EIGMKF+ÇÏ³ªB-KSCms-UHC-H', 'C2_0', 'Identity-H'), (1302, 'ttf', 'Type0', 'EIGMMF+ÇÏ³ªM-KSCms-UHC-H', 'C2_1', 'Identity-H'), (1299, 'ttf', 'Type0', 'EIGNBE+Wingdings2', 'C2_2', 'Identity-H'), (1993, 'n/a', 'Type0', 'Gulim', 'Gulim', 'UniKS-UTF16-H')]\n",
      "[(1305, 'ttf', 'Type0', 'EIGMKF+ÇÏ³ªB-KSCms-UHC-H', 'C2_0', 'Identity-H'), (1302, 'ttf', 'Type0', 'EIGMMF+ÇÏ³ªM-KSCms-UHC-H', 'C2_1', 'Identity-H'), (1993, 'n/a', 'Type0', 'Gulim', 'Gulim', 'UniKS-UTF16-H')]\n",
      "[(1305, 'ttf', 'Type0', 'EIGMKF+ÇÏ³ªB-KSCms-UHC-H', 'C2_0', 'Identity-H'), (1302, 'ttf', 'Type0', 'EIGMMF+ÇÏ³ªM-KSCms-UHC-H', 'C2_1', 'Identity-H'), (1299, 'ttf', 'Type0', 'EIGNBE+Wingdings2', 'C2_2', 'Identity-H'), (1993, 'n/a', 'Type0', 'Gulim', 'Gulim', 'UniKS-UTF16-H')]\n",
      "[(1305, 'ttf', 'Type0', 'EIGMKF+ÇÏ³ªB-KSCms-UHC-H', 'C2_0', 'Identity-H'), (1299, 'ttf', 'Type0', 'EIGNBE+Wingdings2', 'C2_1', 'Identity-H'), (1302, 'ttf', 'Type0', 'EIGMMF+ÇÏ³ªM-KSCms-UHC-H', 'C2_2', 'Identity-H'), (1993, 'n/a', 'Type0', 'Gulim', 'Gulim', 'UniKS-UTF16-H')]\n",
      "[(1305, 'ttf', 'Type0', 'EIGMKF+ÇÏ³ªB-KSCms-UHC-H', 'C2_0', 'Identity-H'), (1302, 'ttf', 'Type0', 'EIGMMF+ÇÏ³ªM-KSCms-UHC-H', 'C2_1', 'Identity-H'), (1299, 'ttf', 'Type0', 'EIGNBE+Wingdings2', 'C2_2', 'Identity-H'), (1993, 'n/a', 'Type0', 'Gulim', 'Gulim', 'UniKS-UTF16-H')]\n",
      "[(1305, 'ttf', 'Type0', 'EIGMKF+ÇÏ³ªB-KSCms-UHC-H', 'C2_0', 'Identity-H'), (1299, 'ttf', 'Type0', 'EIGNBE+Wingdings2', 'C2_1', 'Identity-H'), (1302, 'ttf', 'Type0', 'EIGMMF+ÇÏ³ªM-KSCms-UHC-H', 'C2_2', 'Identity-H'), (1314, 'ttf', 'Type0', 'EIHFIC+ÇÏ³ªUL-KSCms-UHC-H', 'C2_3', 'Identity-H'), (1993, 'n/a', 'Type0', 'Gulim', 'Gulim', 'UniKS-UTF16-H')]\n",
      "[(1305, 'ttf', 'Type0', 'EIGMKF+ÇÏ³ªB-KSCms-UHC-H', 'C2_0', 'Identity-H'), (1299, 'ttf', 'Type0', 'EIGNBE+Wingdings2', 'C2_1', 'Identity-H'), (1302, 'ttf', 'Type0', 'EIGMMF+ÇÏ³ªM-KSCms-UHC-H', 'C2_2', 'Identity-H'), (1993, 'n/a', 'Type0', 'Gulim', 'Gulim', 'UniKS-UTF16-H')]\n",
      "[(1305, 'ttf', 'Type0', 'EIGMKF+ÇÏ³ªB-KSCms-UHC-H', 'C2_0', 'Identity-H'), (1299, 'ttf', 'Type0', 'EIGNBE+Wingdings2', 'C2_1', 'Identity-H'), (1302, 'ttf', 'Type0', 'EIGMMF+ÇÏ³ªM-KSCms-UHC-H', 'C2_2', 'Identity-H'), (1993, 'n/a', 'Type0', 'Gulim', 'Gulim', 'UniKS-UTF16-H')]\n",
      "[(1305, 'ttf', 'Type0', 'EIGMKF+ÇÏ³ªB-KSCms-UHC-H', 'C2_0', 'Identity-H'), (1302, 'ttf', 'Type0', 'EIGMMF+ÇÏ³ªM-KSCms-UHC-H', 'C2_1', 'Identity-H'), (1299, 'ttf', 'Type0', 'EIGNBE+Wingdings2', 'C2_2', 'Identity-H'), (1318, 'ttf', 'Type0', 'EIHKAH+Wingdings', 'C2_3', 'Identity-H'), (1317, 'ttf', 'Type0', 'EIHKDH+¹ÙÅÁ-KSCms-UHC-H', 'C2_4', 'Identity-H'), (1993, 'n/a', 'Type0', 'Gulim', 'Gulim', 'UniKS-UTF16-H')]\n",
      "[(1305, 'ttf', 'Type0', 'EIGMKF+ÇÏ³ªB-KSCms-UHC-H', 'C2_0', 'Identity-H'), (1299, 'ttf', 'Type0', 'EIGNBE+Wingdings2', 'C2_1', 'Identity-H'), (1302, 'ttf', 'Type0', 'EIGMMF+ÇÏ³ªM-KSCms-UHC-H', 'C2_2', 'Identity-H'), (1318, 'ttf', 'Type0', 'EIHKAH+Wingdings', 'C2_3', 'Identity-H'), (1314, 'ttf', 'Type0', 'EIHFIC+ÇÏ³ªUL-KSCms-UHC-H', 'C2_4', 'Identity-H'), (1993, 'n/a', 'Type0', 'Gulim', 'Gulim', 'UniKS-UTF16-H')]\n",
      "[(1305, 'ttf', 'Type0', 'EIGMKF+ÇÏ³ªB-KSCms-UHC-H', 'C2_0', 'Identity-H'), (1299, 'ttf', 'Type0', 'EIGNBE+Wingdings2', 'C2_1', 'Identity-H'), (1302, 'ttf', 'Type0', 'EIGMMF+ÇÏ³ªM-KSCms-UHC-H', 'C2_2', 'Identity-H'), (1993, 'n/a', 'Type0', 'Gulim', 'Gulim', 'UniKS-UTF16-H')]\n",
      "[(1305, 'ttf', 'Type0', 'EIGMKF+ÇÏ³ªB-KSCms-UHC-H', 'C2_0', 'Identity-H'), (1302, 'ttf', 'Type0', 'EIGMMF+ÇÏ³ªM-KSCms-UHC-H', 'C2_1', 'Identity-H'), (1993, 'n/a', 'Type0', 'Gulim', 'Gulim', 'UniKS-UTF16-H')]\n",
      "[(1236, 'ttf', 'Type0', 'KCOMDG+KoPubDotumBold', 'C2_0', 'Identity-H'), (1238, 'ttf', 'Type0', 'KCOMFG+KoPubDotumMedium', 'C2_1', 'Identity-H'), (1993, 'n/a', 'Type0', 'Gulim', 'Gulim', 'UniKS-UTF16-H')]\n",
      "[(1392, 'ttf', 'Type0', 'EFLEIA+MalgunGothicBold-KSCms-UHC-H', 'C2_0', 'Identity-H'), (1391, 'ttf', 'Type0', 'EFLEJA+MalgunGothicBold-KSCms-UHC-H', 'C2_1', 'Identity-H'), (1388, 'ttf', 'Type0', 'EFLEJB+Wingdings-Regular', 'C2_2', 'Identity-H'), (1385, 'ttf', 'Type0', 'EFLEJC+Tahoma-Bold', 'C2_3', 'Identity-H'), (1993, 'n/a', 'Type0', 'Gulim', 'Gulim', 'UniKS-UTF16-H')]\n",
      "[(1392, 'ttf', 'Type0', 'EFLEIA+MalgunGothicBold-KSCms-UHC-H', 'C2_0', 'Identity-H'), (1391, 'ttf', 'Type0', 'EFLEJA+MalgunGothicBold-KSCms-UHC-H', 'C2_1', 'Identity-H'), (1388, 'ttf', 'Type0', 'EFLEJB+Wingdings-Regular', 'C2_2', 'Identity-H'), (1385, 'ttf', 'Type0', 'EFLEJC+Tahoma-Bold', 'C2_3', 'Identity-H'), (1993, 'n/a', 'Type0', 'Gulim', 'Gulim', 'UniKS-UTF16-H')]\n",
      "[(1392, 'ttf', 'Type0', 'EFLEIA+MalgunGothicBold-KSCms-UHC-H', 'C2_0', 'Identity-H'), (1391, 'ttf', 'Type0', 'EFLEJA+MalgunGothicBold-KSCms-UHC-H', 'C2_1', 'Identity-H'), (1388, 'ttf', 'Type0', 'EFLEJB+Wingdings-Regular', 'C2_2', 'Identity-H'), (1385, 'ttf', 'Type0', 'EFLEJC+Tahoma-Bold', 'C2_3', 'Identity-H'), (1993, 'n/a', 'Type0', 'Gulim', 'Gulim', 'UniKS-UTF16-H')]\n",
      "[(1392, 'ttf', 'Type0', 'EFLEIA+MalgunGothicBold-KSCms-UHC-H', 'C2_0', 'Identity-H'), (1391, 'ttf', 'Type0', 'EFLEJA+MalgunGothicBold-KSCms-UHC-H', 'C2_1', 'Identity-H'), (1388, 'ttf', 'Type0', 'EFLEJB+Wingdings-Regular', 'C2_2', 'Identity-H'), (1385, 'ttf', 'Type0', 'EFLEJC+Tahoma-Bold', 'C2_3', 'Identity-H'), (1993, 'n/a', 'Type0', 'Gulim', 'Gulim', 'UniKS-UTF16-H')]\n",
      "[(1392, 'ttf', 'Type0', 'EFLEIA+MalgunGothicBold-KSCms-UHC-H', 'C2_0', 'Identity-H'), (1391, 'ttf', 'Type0', 'EFLEJA+MalgunGothicBold-KSCms-UHC-H', 'C2_1', 'Identity-H'), (1388, 'ttf', 'Type0', 'EFLEJB+Wingdings-Regular', 'C2_2', 'Identity-H'), (1385, 'ttf', 'Type0', 'EFLEJC+Tahoma-Bold', 'C2_3', 'Identity-H'), (1403, 'ttf', 'Type0', 'EFLMND+MalgunGothicRegular-KSCms-UHC-H', 'C2_4', 'Identity-H'), (1402, 'ttf', 'Type0', 'EFLMMB+NanumGothicExtraBold-KSCms-UHC-H', 'C2_5', 'Identity-H'), (1401, 'ttf', 'Type0', 'EFLMOD+NanumGothicExtraBold-KSCms-UHC-H', 'C2_6', 'Identity-H'), (1400, 'ttf', 'Type0', 'EFLNGB+NanumGothic-KSCms-UHC-H', 'C2_7', 'Identity-H'), (1399, 'ttf', 'Type0', 'EFLMMC+NanumGothic-KSCms-UHC-H', 'C2_8', 'Identity-H'), (1993, 'n/a', 'Type0', 'Gulim', 'Gulim', 'UniKS-UTF16-H')]\n",
      "[(1392, 'ttf', 'Type0', 'EFLEIA+MalgunGothicBold-KSCms-UHC-H', 'C2_0', 'Identity-H'), (1391, 'ttf', 'Type0', 'EFLEJA+MalgunGothicBold-KSCms-UHC-H', 'C2_1', 'Identity-H'), (1388, 'ttf', 'Type0', 'EFLEJB+Wingdings-Regular', 'C2_2', 'Identity-H'), (1993, 'n/a', 'Type0', 'Gulim', 'Gulim', 'UniKS-UTF16-H')]\n",
      "[(1392, 'ttf', 'Type0', 'EFLEIA+MalgunGothicBold-KSCms-UHC-H', 'C2_0', 'Identity-H'), (1391, 'ttf', 'Type0', 'EFLEJA+MalgunGothicBold-KSCms-UHC-H', 'C2_1', 'Identity-H'), (1388, 'ttf', 'Type0', 'EFLEJB+Wingdings-Regular', 'C2_2', 'Identity-H'), (1385, 'ttf', 'Type0', 'EFLEJC+Tahoma-Bold', 'C2_3', 'Identity-H'), (1993, 'n/a', 'Type0', 'Gulim', 'Gulim', 'UniKS-UTF16-H')]\n",
      "[(1392, 'ttf', 'Type0', 'EFLEIA+MalgunGothicBold-KSCms-UHC-H', 'C2_0', 'Identity-H'), (1391, 'ttf', 'Type0', 'EFLEJA+MalgunGothicBold-KSCms-UHC-H', 'C2_1', 'Identity-H'), (1388, 'ttf', 'Type0', 'EFLEJB+Wingdings-Regular', 'C2_2', 'Identity-H'), (1385, 'ttf', 'Type0', 'EFLEJC+Tahoma-Bold', 'C2_3', 'Identity-H'), (1993, 'n/a', 'Type0', 'Gulim', 'Gulim', 'UniKS-UTF16-H')]\n",
      "[(1392, 'ttf', 'Type0', 'EFLEIA+MalgunGothicBold-KSCms-UHC-H', 'C2_0', 'Identity-H'), (1391, 'ttf', 'Type0', 'EFLEJA+MalgunGothicBold-KSCms-UHC-H', 'C2_1', 'Identity-H'), (1388, 'ttf', 'Type0', 'EFLEJB+Wingdings-Regular', 'C2_2', 'Identity-H'), (1385, 'ttf', 'Type0', 'EFLEJC+Tahoma-Bold', 'C2_3', 'Identity-H'), (1993, 'n/a', 'Type0', 'Gulim', 'Gulim', 'UniKS-UTF16-H')]\n",
      "[(1392, 'ttf', 'Type0', 'EFLEIA+MalgunGothicBold-KSCms-UHC-H', 'C2_0', 'Identity-H'), (1391, 'ttf', 'Type0', 'EFLEJA+MalgunGothicBold-KSCms-UHC-H', 'C2_1', 'Identity-H'), (1388, 'ttf', 'Type0', 'EFLEJB+Wingdings-Regular', 'C2_2', 'Identity-H'), (1385, 'ttf', 'Type0', 'EFLEJC+Tahoma-Bold', 'C2_3', 'Identity-H'), (1993, 'n/a', 'Type0', 'Gulim', 'Gulim', 'UniKS-UTF16-H')]\n",
      "[(1392, 'ttf', 'Type0', 'EFLEIA+MalgunGothicBold-KSCms-UHC-H', 'C2_0', 'Identity-H'), (1391, 'ttf', 'Type0', 'EFLEJA+MalgunGothicBold-KSCms-UHC-H', 'C2_1', 'Identity-H'), (1388, 'ttf', 'Type0', 'EFLEJB+Wingdings-Regular', 'C2_2', 'Identity-H'), (1385, 'ttf', 'Type0', 'EFLEJC+Tahoma-Bold', 'C2_3', 'Identity-H'), (1993, 'n/a', 'Type0', 'Gulim', 'Gulim', 'UniKS-UTF16-H')]\n",
      "[(1391, 'ttf', 'Type0', 'EFLEJA+MalgunGothicBold-KSCms-UHC-H', 'C2_0', 'Identity-H'), (1392, 'ttf', 'Type0', 'EFLEIA+MalgunGothicBold-KSCms-UHC-H', 'C2_1', 'Identity-H'), (1993, 'n/a', 'Type0', 'Gulim', 'Gulim', 'UniKS-UTF16-H')]\n",
      "[(1236, 'ttf', 'Type0', 'KCOMDG+KoPubDotumBold', 'C2_0', 'Identity-H'), (1238, 'ttf', 'Type0', 'KCOMFG+KoPubDotumMedium', 'C2_1', 'Identity-H'), (1993, 'n/a', 'Type0', 'Gulim', 'Gulim', 'UniKS-UTF16-H')]\n",
      "[(1412, 'ttf', 'Type0', 'EHHFDF+HYGoThic-Extra-KSCms-UHC-H', 'C2_0', 'Identity-H'), (1429, 'ttf', 'Type0', 'EHHFGI+ArialMT', 'C2_1', 'Identity-H'), (1424, 'ttf', 'Type0', 'EHHFEG+ÈÞ¸Õ»õ³»±âÃ¼', 'C2_2', 'Identity-H'), (1419, 'ttf', 'Type0', 'EHHFFG+HYGoThic-Medium-KSCms-UHC-H', 'C2_3', 'Identity-H'), (1416, 'ttf', 'Type0', 'EHHFFH+Dotum-KSCms-UHC-H', 'C2_4', 'Identity-H'), (1427, 'ttf', 'TrueType', 'EHHGDH+ArialNarrow-Bold', 'TT0', 'WinAnsiEncoding'), (1422, 'ttf', 'TrueType', 'EHHGEI+ArialNarrow', 'TT1', 'WinAnsiEncoding'), (1993, 'n/a', 'Type0', 'Gulim', 'Gulim', 'UniKS-UTF16-H')]\n",
      "[(1424, 'ttf', 'Type0', 'EHHFEG+ÈÞ¸Õ»õ³»±âÃ¼', 'C2_0', 'Identity-H'), (1412, 'ttf', 'Type0', 'EHHFDF+HYGoThic-Extra-KSCms-UHC-H', 'C2_1', 'Identity-H'), (1419, 'ttf', 'Type0', 'EHHFFG+HYGoThic-Medium-KSCms-UHC-H', 'C2_2', 'Identity-H'), (1416, 'ttf', 'Type0', 'EHHFFH+Dotum-KSCms-UHC-H', 'C2_3', 'Identity-H'), (1427, 'ttf', 'TrueType', 'EHHGDH+ArialNarrow-Bold', 'TT0', 'WinAnsiEncoding'), (1422, 'ttf', 'TrueType', 'EHHGEI+ArialNarrow', 'TT1', 'WinAnsiEncoding'), (1993, 'n/a', 'Type0', 'Gulim', 'Gulim', 'UniKS-UTF16-H')]\n",
      "[(1424, 'ttf', 'Type0', 'EHHFEG+ÈÞ¸Õ»õ³»±âÃ¼', 'C2_0', 'Identity-H'), (1412, 'ttf', 'Type0', 'EHHFDF+HYGoThic-Extra-KSCms-UHC-H', 'C2_1', 'Identity-H'), (1419, 'ttf', 'Type0', 'EHHFFG+HYGoThic-Medium-KSCms-UHC-H', 'C2_2', 'Identity-H'), (1416, 'ttf', 'Type0', 'EHHFFH+Dotum-KSCms-UHC-H', 'C2_3', 'Identity-H'), (1427, 'ttf', 'TrueType', 'EHHGDH+ArialNarrow-Bold', 'TT0', 'WinAnsiEncoding'), (1422, 'ttf', 'TrueType', 'EHHGEI+ArialNarrow', 'TT1', 'WinAnsiEncoding'), (1993, 'n/a', 'Type0', 'Gulim', 'Gulim', 'UniKS-UTF16-H')]\n",
      "[(1424, 'ttf', 'Type0', 'EHHFEG+ÈÞ¸Õ»õ³»±âÃ¼', 'C2_0', 'Identity-H'), (1412, 'ttf', 'Type0', 'EHHFDF+HYGoThic-Extra-KSCms-UHC-H', 'C2_1', 'Identity-H'), (1419, 'ttf', 'Type0', 'EHHFFG+HYGoThic-Medium-KSCms-UHC-H', 'C2_2', 'Identity-H'), (1416, 'ttf', 'Type0', 'EHHFFH+Dotum-KSCms-UHC-H', 'C2_3', 'Identity-H'), (1427, 'ttf', 'TrueType', 'EHHGDH+ArialNarrow-Bold', 'TT0', 'WinAnsiEncoding'), (1422, 'ttf', 'TrueType', 'EHHGEI+ArialNarrow', 'TT1', 'WinAnsiEncoding'), (1993, 'n/a', 'Type0', 'Gulim', 'Gulim', 'UniKS-UTF16-H')]\n",
      "[(1424, 'ttf', 'Type0', 'EHHFEG+ÈÞ¸Õ»õ³»±âÃ¼', 'C2_0', 'Identity-H'), (1412, 'ttf', 'Type0', 'EHHFDF+HYGoThic-Extra-KSCms-UHC-H', 'C2_1', 'Identity-H'), (1419, 'ttf', 'Type0', 'EHHFFG+HYGoThic-Medium-KSCms-UHC-H', 'C2_2', 'Identity-H'), (1416, 'ttf', 'Type0', 'EHHFFH+Dotum-KSCms-UHC-H', 'C2_3', 'Identity-H'), (1432, 'ttf', 'Type0', 'EHHHCD+MalgunGothicRegular-KSCms-UHC-H', 'C2_4', 'Identity-H'), (1431, 'ttf', 'Type0', 'EHHHGD+MalgunGothicRegular-KSCms-UHC-H', 'C2_5', 'Identity-H'), (1427, 'ttf', 'TrueType', 'EHHGDH+ArialNarrow-Bold', 'TT0', 'WinAnsiEncoding'), (1422, 'ttf', 'TrueType', 'EHHGEI+ArialNarrow', 'TT1', 'WinAnsiEncoding'), (1993, 'n/a', 'Type0', 'Gulim', 'Gulim', 'UniKS-UTF16-H')]\n",
      "[(1424, 'ttf', 'Type0', 'EHHFEG+ÈÞ¸Õ»õ³»±âÃ¼', 'C2_0', 'Identity-H'), (1412, 'ttf', 'Type0', 'EHHFDF+HYGoThic-Extra-KSCms-UHC-H', 'C2_1', 'Identity-H'), (1419, 'ttf', 'Type0', 'EHHFFG+HYGoThic-Medium-KSCms-UHC-H', 'C2_2', 'Identity-H'), (1416, 'ttf', 'Type0', 'EHHFFH+Dotum-KSCms-UHC-H', 'C2_3', 'Identity-H'), (1427, 'ttf', 'TrueType', 'EHHGDH+ArialNarrow-Bold', 'TT0', 'WinAnsiEncoding'), (1422, 'ttf', 'TrueType', 'EHHGEI+ArialNarrow', 'TT1', 'WinAnsiEncoding'), (1993, 'n/a', 'Type0', 'Gulim', 'Gulim', 'UniKS-UTF16-H')]\n",
      "[(1424, 'ttf', 'Type0', 'EHHFEG+ÈÞ¸Õ»õ³»±âÃ¼', 'C2_0', 'Identity-H'), (1412, 'ttf', 'Type0', 'EHHFDF+HYGoThic-Extra-KSCms-UHC-H', 'C2_1', 'Identity-H'), (1419, 'ttf', 'Type0', 'EHHFFG+HYGoThic-Medium-KSCms-UHC-H', 'C2_2', 'Identity-H'), (1416, 'ttf', 'Type0', 'EHHFFH+Dotum-KSCms-UHC-H', 'C2_3', 'Identity-H'), (1427, 'ttf', 'TrueType', 'EHHGDH+ArialNarrow-Bold', 'TT0', 'WinAnsiEncoding'), (1422, 'ttf', 'TrueType', 'EHHGEI+ArialNarrow', 'TT1', 'WinAnsiEncoding'), (1442, 'ttf', 'TrueType', 'EHHIKN+HyhwpEQ-KSCms-UHC-H', 'TT2', 'WinAnsiEncoding'), (1993, 'n/a', 'Type0', 'Gulim', 'Gulim', 'UniKS-UTF16-H')]\n",
      "[(1424, 'ttf', 'Type0', 'EHHFEG+ÈÞ¸Õ»õ³»±âÃ¼', 'C2_0', 'Identity-H'), (1412, 'ttf', 'Type0', 'EHHFDF+HYGoThic-Extra-KSCms-UHC-H', 'C2_1', 'Identity-H'), (1419, 'ttf', 'Type0', 'EHHFFG+HYGoThic-Medium-KSCms-UHC-H', 'C2_2', 'Identity-H'), (1416, 'ttf', 'Type0', 'EHHFFH+Dotum-KSCms-UHC-H', 'C2_3', 'Identity-H'), (1427, 'ttf', 'TrueType', 'EHHGDH+ArialNarrow-Bold', 'TT0', 'WinAnsiEncoding'), (1422, 'ttf', 'TrueType', 'EHHGEI+ArialNarrow', 'TT1', 'WinAnsiEncoding'), (1993, 'n/a', 'Type0', 'Gulim', 'Gulim', 'UniKS-UTF16-H')]\n",
      "[(1424, 'ttf', 'Type0', 'EHHFEG+ÈÞ¸Õ»õ³»±âÃ¼', 'C2_0', 'Identity-H'), (1419, 'ttf', 'Type0', 'EHHFFG+HYGoThic-Medium-KSCms-UHC-H', 'C2_1', 'Identity-H'), (1412, 'ttf', 'Type0', 'EHHFDF+HYGoThic-Extra-KSCms-UHC-H', 'C2_2', 'Identity-H'), (1416, 'ttf', 'Type0', 'EHHFFH+Dotum-KSCms-UHC-H', 'C2_3', 'Identity-H'), (1427, 'ttf', 'TrueType', 'EHHGDH+ArialNarrow-Bold', 'TT0', 'WinAnsiEncoding'), (1422, 'ttf', 'TrueType', 'EHHGEI+ArialNarrow', 'TT1', 'WinAnsiEncoding'), (1993, 'n/a', 'Type0', 'Gulim', 'Gulim', 'UniKS-UTF16-H')]\n",
      "[(1424, 'ttf', 'Type0', 'EHHFEG+ÈÞ¸Õ»õ³»±âÃ¼', 'C2_0', 'Identity-H'), (1412, 'ttf', 'Type0', 'EHHFDF+HYGoThic-Extra-KSCms-UHC-H', 'C2_1', 'Identity-H'), (1419, 'ttf', 'Type0', 'EHHFFG+HYGoThic-Medium-KSCms-UHC-H', 'C2_2', 'Identity-H'), (1416, 'ttf', 'Type0', 'EHHFFH+Dotum-KSCms-UHC-H', 'C2_3', 'Identity-H'), (1432, 'ttf', 'Type0', 'EHHHCD+MalgunGothicRegular-KSCms-UHC-H', 'C2_4', 'Identity-H'), (1443, 'ttf', 'Type0', 'EHHJMH+Calibri', 'C2_5', 'Identity-H'), (1427, 'ttf', 'TrueType', 'EHHGDH+ArialNarrow-Bold', 'TT0', 'WinAnsiEncoding'), (1422, 'ttf', 'TrueType', 'EHHGEI+ArialNarrow', 'TT1', 'WinAnsiEncoding'), (1993, 'n/a', 'Type0', 'Gulim', 'Gulim', 'UniKS-UTF16-H')]\n",
      "[(1237, 'ttf', 'Type0', 'KCOMCF+KoPubBatangBold', 'C2_0', 'Identity-H'), (1236, 'ttf', 'Type0', 'KCOMDG+KoPubDotumBold', 'C2_1', 'Identity-H'), (1993, 'n/a', 'Type0', 'Gulim', 'Gulim', 'UniKS-UTF16-H')]\n",
      "[(1447, 'ttf', 'Type0', 'NDJICI+HCRBatang', 'C2_0', 'Identity-H'), (1444, 'ttf', 'Type0', 'NDJIDJ+HCRBatang-Bold', 'C2_1', 'Identity-H'), (1993, 'n/a', 'Type0', 'Gulim', 'Gulim', 'UniKS-UTF16-H')]\n",
      "[(1451, 'ttf', 'Type0', 'NDJICI+HCRBatang', 'C2_0', 'Identity-H'), (1450, 'ttf', 'Type0', 'NDJIDJ+HCRBatang-Bold', 'C2_1', 'Identity-H'), (1993, 'n/a', 'Type0', 'Gulim', 'Gulim', 'UniKS-UTF16-H')]\n",
      "[(1453, 'ttf', 'Type0', 'NDJICI+HCRBatang', 'C2_0', 'Identity-H'), (1452, 'ttf', 'Type0', 'NDJIDJ+HCRBatang-Bold', 'C2_1', 'Identity-H'), (1993, 'n/a', 'Type0', 'Gulim', 'Gulim', 'UniKS-UTF16-H')]\n",
      "[(1455, 'ttf', 'Type0', 'NDJICI+HCRBatang', 'C2_0', 'Identity-H'), (1454, 'ttf', 'Type0', 'NDJIDJ+HCRBatang-Bold', 'C2_1', 'Identity-H'), (1993, 'n/a', 'Type0', 'Gulim', 'Gulim', 'UniKS-UTF16-H')]\n",
      "No CID fonts found in the PDF.\n"
     ]
    }
   ],
   "source": [
    "import fitz  # PyMuPDF\n",
    "\n",
    "def is_cid_font_in_pdf(pdf_path):\n",
    "    doc = fitz.open(pdf_path)\n",
    "    for page in doc:\n",
    "        font_list = page.get_fonts()\n",
    "        print(font_list)\n",
    "        for font in font_list:\n",
    "            # Check the font type\n",
    "            if \"CID\" in font[3]:  # Font info contains type at index 3\n",
    "                return True\n",
    "    return False\n",
    "\n",
    "# Example usage\n",
    "if is_cid_font_in_pdf(file_path):\n",
    "    print(\"The PDF contains CID fonts.\")\n",
    "else:\n",
    "    print(\"No CID fonts found in the PDF.\")"
   ]
  },
  {
   "cell_type": "code",
   "execution_count": 9,
   "metadata": {},
   "outputs": [
    {
     "name": "stdout",
     "output_type": "stream",
     "text": [
      "{'/C0_0': IndirectObject(1510, 0, 4585266944), '/C0_1': IndirectObject(1515, 0, 4585266944), '/C2_0': IndirectObject(1520, 0, 4585266944), '/C2_1': IndirectObject(1525, 0, 4585266944)}\n",
      "{'/C0_0': IndirectObject(1930, 0, 4585266944), '/C2_0': IndirectObject(1924, 0, 4585266944), '/C2_1': IndirectObject(1925, 0, 4585266944), '/C2_2': IndirectObject(1926, 0, 4585266944), '/C2_3': IndirectObject(1927, 0, 4585266944), '/C2_4': IndirectObject(1928, 0, 4585266944), '/C2_5': IndirectObject(1929, 0, 4585266944)}\n",
      "{'/C2_0': IndirectObject(1237, 0, 4585266944), '/C2_1': IndirectObject(1236, 0, 4585266944)}\n",
      "{'/C2_0': IndirectObject(1236, 0, 4585266944), '/C2_1': IndirectObject(1238, 0, 4585266944)}\n",
      "{'/C2_0': IndirectObject(1246, 0, 4585266944), '/C2_1': IndirectObject(1247, 0, 4585266944)}\n",
      "{'/C2_0': IndirectObject(1276, 0, 4585266944), '/C2_1': IndirectObject(1246, 0, 4585266944), '/C2_2': IndirectObject(1247, 0, 4585266944), '/C2_3': IndirectObject(1266, 0, 4585266944), '/C2_4': IndirectObject(1258, 0, 4585266944), '/C2_5': IndirectObject(1251, 0, 4585266944)}\n",
      "{'/C2_0': IndirectObject(1276, 0, 4585266944), '/C2_1': IndirectObject(1246, 0, 4585266944), '/C2_2': IndirectObject(1251, 0, 4585266944), '/C2_3': IndirectObject(1247, 0, 4585266944), '/C2_4': IndirectObject(1266, 0, 4585266944), '/C2_5': IndirectObject(1258, 0, 4585266944), '/C2_6': IndirectObject(1279, 0, 4585266944)}\n",
      "{'/C2_0': IndirectObject(1276, 0, 4585266944), '/C2_1': IndirectObject(1246, 0, 4585266944), '/C2_2': IndirectObject(1251, 0, 4585266944), '/C2_3': IndirectObject(1258, 0, 4585266944), '/C2_4': IndirectObject(1247, 0, 4585266944), '/TT0': IndirectObject(1280, 0, 4585266944)}\n",
      "{'/C2_0': IndirectObject(1276, 0, 4585266944), '/C2_1': IndirectObject(1246, 0, 4585266944), '/C2_2': IndirectObject(1251, 0, 4585266944), '/C2_3': IndirectObject(1247, 0, 4585266944), '/C2_4': IndirectObject(1266, 0, 4585266944), '/C2_5': IndirectObject(1258, 0, 4585266944)}\n",
      "{'/C2_0': IndirectObject(1276, 0, 4585266944), '/C2_1': IndirectObject(1246, 0, 4585266944), '/C2_2': IndirectObject(1251, 0, 4585266944), '/C2_3': IndirectObject(1247, 0, 4585266944), '/C2_4': IndirectObject(1266, 0, 4585266944)}\n",
      "{'/C2_0': IndirectObject(1276, 0, 4585266944), '/C2_1': IndirectObject(1246, 0, 4585266944), '/C2_2': IndirectObject(1251, 0, 4585266944), '/C2_3': IndirectObject(1247, 0, 4585266944), '/C2_4': IndirectObject(1258, 0, 4585266944), '/C2_5': IndirectObject(1294, 0, 4585266944)}\n",
      "{'/C2_0': IndirectObject(1276, 0, 4585266944), '/C2_1': IndirectObject(1246, 0, 4585266944), '/C2_2': IndirectObject(1251, 0, 4585266944), '/C2_3': IndirectObject(1247, 0, 4585266944), '/C2_4': IndirectObject(1266, 0, 4585266944)}\n",
      "{'/C2_0': IndirectObject(1247, 0, 4585266944), '/C2_1': IndirectObject(1276, 0, 4585266944), '/C2_2': IndirectObject(1246, 0, 4585266944), '/C2_3': IndirectObject(1251, 0, 4585266944), '/C2_4': IndirectObject(1266, 0, 4585266944)}\n",
      "{'/C2_0': IndirectObject(1276, 0, 4585266944), '/C2_1': IndirectObject(1246, 0, 4585266944), '/C2_2': IndirectObject(1251, 0, 4585266944), '/C2_3': IndirectObject(1266, 0, 4585266944), '/C2_4': IndirectObject(1247, 0, 4585266944)}\n",
      "{'/C2_0': IndirectObject(1276, 0, 4585266944), '/C2_1': IndirectObject(1246, 0, 4585266944), '/C2_2': IndirectObject(1251, 0, 4585266944), '/C2_3': IndirectObject(1247, 0, 4585266944)}\n",
      "{'/C2_0': IndirectObject(1276, 0, 4585266944), '/C2_1': IndirectObject(1246, 0, 4585266944), '/C2_2': IndirectObject(1251, 0, 4585266944), '/C2_3': IndirectObject(1247, 0, 4585266944)}\n",
      "{'/C2_0': IndirectObject(1236, 0, 4585266944), '/C2_1': IndirectObject(1238, 0, 4585266944)}\n",
      "{'/C2_0': IndirectObject(1305, 0, 4585266944), '/C2_1': IndirectObject(1302, 0, 4585266944), '/C2_2': IndirectObject(1299, 0, 4585266944)}\n",
      "{'/C2_0': IndirectObject(1305, 0, 4585266944), '/C2_1': IndirectObject(1302, 0, 4585266944)}\n",
      "{'/C2_0': IndirectObject(1305, 0, 4585266944), '/C2_1': IndirectObject(1302, 0, 4585266944), '/C2_2': IndirectObject(1299, 0, 4585266944)}\n",
      "{'/C2_0': IndirectObject(1305, 0, 4585266944), '/C2_1': IndirectObject(1299, 0, 4585266944), '/C2_2': IndirectObject(1302, 0, 4585266944)}\n",
      "{'/C2_0': IndirectObject(1305, 0, 4585266944), '/C2_1': IndirectObject(1302, 0, 4585266944), '/C2_2': IndirectObject(1299, 0, 4585266944)}\n",
      "{'/C2_0': IndirectObject(1305, 0, 4585266944), '/C2_1': IndirectObject(1299, 0, 4585266944), '/C2_2': IndirectObject(1302, 0, 4585266944), '/C2_3': IndirectObject(1314, 0, 4585266944)}\n",
      "{'/C2_0': IndirectObject(1305, 0, 4585266944), '/C2_1': IndirectObject(1299, 0, 4585266944), '/C2_2': IndirectObject(1302, 0, 4585266944)}\n",
      "{'/C2_0': IndirectObject(1305, 0, 4585266944), '/C2_1': IndirectObject(1299, 0, 4585266944), '/C2_2': IndirectObject(1302, 0, 4585266944)}\n",
      "{'/C2_0': IndirectObject(1305, 0, 4585266944), '/C2_1': IndirectObject(1302, 0, 4585266944), '/C2_2': IndirectObject(1299, 0, 4585266944), '/C2_3': IndirectObject(1318, 0, 4585266944), '/C2_4': IndirectObject(1317, 0, 4585266944)}\n",
      "{'/C2_0': IndirectObject(1305, 0, 4585266944), '/C2_1': IndirectObject(1299, 0, 4585266944), '/C2_2': IndirectObject(1302, 0, 4585266944), '/C2_3': IndirectObject(1318, 0, 4585266944), '/C2_4': IndirectObject(1314, 0, 4585266944)}\n",
      "{'/C2_0': IndirectObject(1305, 0, 4585266944), '/C2_1': IndirectObject(1299, 0, 4585266944), '/C2_2': IndirectObject(1302, 0, 4585266944)}\n",
      "{'/C2_0': IndirectObject(1305, 0, 4585266944), '/C2_1': IndirectObject(1302, 0, 4585266944)}\n",
      "{'/C2_0': IndirectObject(1236, 0, 4585266944), '/C2_1': IndirectObject(1238, 0, 4585266944)}\n",
      "{'/C2_0': IndirectObject(1392, 0, 4585266944), '/C2_1': IndirectObject(1391, 0, 4585266944), '/C2_2': IndirectObject(1388, 0, 4585266944), '/C2_3': IndirectObject(1385, 0, 4585266944)}\n",
      "{'/C2_0': IndirectObject(1392, 0, 4585266944), '/C2_1': IndirectObject(1391, 0, 4585266944), '/C2_2': IndirectObject(1388, 0, 4585266944), '/C2_3': IndirectObject(1385, 0, 4585266944)}\n",
      "{'/C2_0': IndirectObject(1392, 0, 4585266944), '/C2_1': IndirectObject(1391, 0, 4585266944), '/C2_2': IndirectObject(1388, 0, 4585266944), '/C2_3': IndirectObject(1385, 0, 4585266944)}\n",
      "{'/C2_0': IndirectObject(1392, 0, 4585266944), '/C2_1': IndirectObject(1391, 0, 4585266944), '/C2_2': IndirectObject(1388, 0, 4585266944), '/C2_3': IndirectObject(1385, 0, 4585266944)}\n",
      "{'/C2_0': IndirectObject(1392, 0, 4585266944), '/C2_1': IndirectObject(1391, 0, 4585266944), '/C2_2': IndirectObject(1388, 0, 4585266944), '/C2_3': IndirectObject(1385, 0, 4585266944), '/C2_4': IndirectObject(1403, 0, 4585266944), '/C2_5': IndirectObject(1402, 0, 4585266944), '/C2_6': IndirectObject(1401, 0, 4585266944), '/C2_7': IndirectObject(1400, 0, 4585266944), '/C2_8': IndirectObject(1399, 0, 4585266944)}\n",
      "{'/C2_0': IndirectObject(1392, 0, 4585266944), '/C2_1': IndirectObject(1391, 0, 4585266944), '/C2_2': IndirectObject(1388, 0, 4585266944)}\n",
      "{'/C2_0': IndirectObject(1392, 0, 4585266944), '/C2_1': IndirectObject(1391, 0, 4585266944), '/C2_2': IndirectObject(1388, 0, 4585266944), '/C2_3': IndirectObject(1385, 0, 4585266944)}\n",
      "{'/C2_0': IndirectObject(1392, 0, 4585266944), '/C2_1': IndirectObject(1391, 0, 4585266944), '/C2_2': IndirectObject(1388, 0, 4585266944), '/C2_3': IndirectObject(1385, 0, 4585266944)}\n",
      "{'/C2_0': IndirectObject(1392, 0, 4585266944), '/C2_1': IndirectObject(1391, 0, 4585266944), '/C2_2': IndirectObject(1388, 0, 4585266944), '/C2_3': IndirectObject(1385, 0, 4585266944)}\n",
      "{'/C2_0': IndirectObject(1392, 0, 4585266944), '/C2_1': IndirectObject(1391, 0, 4585266944), '/C2_2': IndirectObject(1388, 0, 4585266944), '/C2_3': IndirectObject(1385, 0, 4585266944)}\n",
      "{'/C2_0': IndirectObject(1392, 0, 4585266944), '/C2_1': IndirectObject(1391, 0, 4585266944), '/C2_2': IndirectObject(1388, 0, 4585266944), '/C2_3': IndirectObject(1385, 0, 4585266944)}\n",
      "{'/C2_0': IndirectObject(1391, 0, 4585266944), '/C2_1': IndirectObject(1392, 0, 4585266944)}\n",
      "{'/C2_0': IndirectObject(1236, 0, 4585266944), '/C2_1': IndirectObject(1238, 0, 4585266944)}\n",
      "{'/C2_0': IndirectObject(1412, 0, 4585266944), '/C2_1': IndirectObject(1429, 0, 4585266944), '/C2_2': IndirectObject(1424, 0, 4585266944), '/C2_3': IndirectObject(1419, 0, 4585266944), '/C2_4': IndirectObject(1416, 0, 4585266944), '/TT0': IndirectObject(1427, 0, 4585266944), '/TT1': IndirectObject(1422, 0, 4585266944)}\n",
      "{'/C2_0': IndirectObject(1424, 0, 4585266944), '/C2_1': IndirectObject(1412, 0, 4585266944), '/C2_2': IndirectObject(1419, 0, 4585266944), '/C2_3': IndirectObject(1416, 0, 4585266944), '/TT0': IndirectObject(1427, 0, 4585266944), '/TT1': IndirectObject(1422, 0, 4585266944)}\n",
      "{'/C2_0': IndirectObject(1424, 0, 4585266944), '/C2_1': IndirectObject(1412, 0, 4585266944), '/C2_2': IndirectObject(1419, 0, 4585266944), '/C2_3': IndirectObject(1416, 0, 4585266944), '/TT0': IndirectObject(1427, 0, 4585266944), '/TT1': IndirectObject(1422, 0, 4585266944)}\n",
      "{'/C2_0': IndirectObject(1424, 0, 4585266944), '/C2_1': IndirectObject(1412, 0, 4585266944), '/C2_2': IndirectObject(1419, 0, 4585266944), '/C2_3': IndirectObject(1416, 0, 4585266944), '/TT0': IndirectObject(1427, 0, 4585266944), '/TT1': IndirectObject(1422, 0, 4585266944)}\n",
      "{'/C2_0': IndirectObject(1424, 0, 4585266944), '/C2_1': IndirectObject(1412, 0, 4585266944), '/C2_2': IndirectObject(1419, 0, 4585266944), '/C2_3': IndirectObject(1416, 0, 4585266944), '/C2_4': IndirectObject(1432, 0, 4585266944), '/C2_5': IndirectObject(1431, 0, 4585266944), '/TT0': IndirectObject(1427, 0, 4585266944), '/TT1': IndirectObject(1422, 0, 4585266944)}\n",
      "{'/C2_0': IndirectObject(1424, 0, 4585266944), '/C2_1': IndirectObject(1412, 0, 4585266944), '/C2_2': IndirectObject(1419, 0, 4585266944), '/C2_3': IndirectObject(1416, 0, 4585266944), '/TT0': IndirectObject(1427, 0, 4585266944), '/TT1': IndirectObject(1422, 0, 4585266944)}\n",
      "{'/C2_0': IndirectObject(1424, 0, 4585266944), '/C2_1': IndirectObject(1412, 0, 4585266944), '/C2_2': IndirectObject(1419, 0, 4585266944), '/C2_3': IndirectObject(1416, 0, 4585266944), '/TT0': IndirectObject(1427, 0, 4585266944), '/TT1': IndirectObject(1422, 0, 4585266944), '/TT2': IndirectObject(1442, 0, 4585266944)}\n",
      "{'/C2_0': IndirectObject(1424, 0, 4585266944), '/C2_1': IndirectObject(1412, 0, 4585266944), '/C2_2': IndirectObject(1419, 0, 4585266944), '/C2_3': IndirectObject(1416, 0, 4585266944), '/TT0': IndirectObject(1427, 0, 4585266944), '/TT1': IndirectObject(1422, 0, 4585266944)}\n",
      "{'/C2_0': IndirectObject(1424, 0, 4585266944), '/C2_1': IndirectObject(1419, 0, 4585266944), '/C2_2': IndirectObject(1412, 0, 4585266944), '/C2_3': IndirectObject(1416, 0, 4585266944), '/TT0': IndirectObject(1427, 0, 4585266944), '/TT1': IndirectObject(1422, 0, 4585266944)}\n",
      "{'/C2_0': IndirectObject(1424, 0, 4585266944), '/C2_1': IndirectObject(1412, 0, 4585266944), '/C2_2': IndirectObject(1419, 0, 4585266944), '/C2_3': IndirectObject(1416, 0, 4585266944), '/C2_4': IndirectObject(1432, 0, 4585266944), '/C2_5': IndirectObject(1443, 0, 4585266944), '/TT0': IndirectObject(1427, 0, 4585266944), '/TT1': IndirectObject(1422, 0, 4585266944)}\n",
      "{'/C2_0': IndirectObject(1237, 0, 4585266944), '/C2_1': IndirectObject(1236, 0, 4585266944)}\n",
      "{'/C2_0': IndirectObject(1447, 0, 4585266944), '/C2_1': IndirectObject(1444, 0, 4585266944)}\n",
      "{'/C2_0': IndirectObject(1451, 0, 4585266944), '/C2_1': IndirectObject(1450, 0, 4585266944)}\n",
      "{'/C2_0': IndirectObject(1453, 0, 4585266944), '/C2_1': IndirectObject(1452, 0, 4585266944)}\n",
      "{'/C2_0': IndirectObject(1455, 0, 4585266944), '/C2_1': IndirectObject(1454, 0, 4585266944)}\n",
      "No CID fonts found in the PDF.\n"
     ]
    }
   ],
   "source": [
    "from PyPDF2 import PdfReader\n",
    "\n",
    "def is_cid_font_in_pdf(pdf_path):\n",
    "    reader = PdfReader(pdf_path)\n",
    "    for page in reader.pages:\n",
    "        # Access the page's resources\n",
    "        resources = page.get(\"/Resources\")\n",
    "        if resources and \"/Font\" in resources:\n",
    "            font_dict = resources[\"/Font\"]\n",
    "            print(font_dict)\n",
    "            for font_name, font_obj in font_dict.items():\n",
    "                # Check for CID fonts\n",
    "                if \"/CIDFont\" in str(font_obj):\n",
    "                    return True\n",
    "    return False\n",
    "\n",
    "# Example usage\n",
    "if is_cid_font_in_pdf(file_path):\n",
    "    print(\"The PDF contains CID fonts.\")\n",
    "else:\n",
    "    print(\"No CID fonts found in the PDF.\")"
   ]
  },
  {
   "cell_type": "markdown",
   "metadata": {},
   "source": [
    "# Try Extraction"
   ]
  },
  {
   "cell_type": "code",
   "execution_count": 10,
   "metadata": {},
   "outputs": [],
   "source": [
    "# Import docling\n",
    "from docling.datamodel.base_models import InputFormat\n",
    "from docling.document_converter import (\n",
    "    DocumentConverter,\n",
    "    PdfFormatOption,\n",
    "    WordFormatOption,\n",
    ")\n",
    "from docling.pipeline.simple_pipeline import SimplePipeline\n",
    "from docling.pipeline.standard_pdf_pipeline import StandardPdfPipeline\n",
    "from docling.datamodel.pipeline_options import PdfPipelineOptions\n",
    "from docling.backend.pypdfium2_backend import PyPdfiumDocumentBackend\n",
    "\n",
    "from docling.datamodel.document import ConversionResult\n",
    "\n",
    "from docling_core.types.doc import (\n",
    "    ImageRefMode, TextItem, PictureItem, TableItem, DoclingDocument, RefItem, DocItemLabel\n",
    ")"
   ]
  },
  {
   "cell_type": "code",
   "execution_count": 11,
   "metadata": {},
   "outputs": [],
   "source": [
    "IMAGE_RESOLUTION_SCALE = 1.0\n",
    "\n",
    "pdf_format_options = PdfPipelineOptions()\n",
    "pdf_format_options.images_scale = IMAGE_RESOLUTION_SCALE\n",
    "pdf_format_options.generate_page_images = True\n",
    "pdf_format_options.generate_picture_images = True\n",
    "\n",
    "# pdf_format_options.do_ocr = False\n",
    "pdf_format_options.do_ocr = True\n",
    "# pdf_format_options.do_table_structure = False\n",
    "pdf_format_options.do_table_structure = True\n",
    "\n",
    "converter = DocumentConverter(\n",
    "    allowed_formats=[\n",
    "            InputFormat.PDF,\n",
    "            # InputFormat.IMAGE,\n",
    "            # InputFormat.DOCX,\n",
    "            # InputFormat.HTML,\n",
    "            # InputFormat.PPTX,\n",
    "    ],\n",
    "    format_options={\n",
    "        InputFormat.PDF: PdfFormatOption(\n",
    "            pipeline_options=pdf_format_options, # pipeline options go here.\n",
    "            backend=PyPdfiumDocumentBackend # optional: pick an alternative backend\n",
    "        ),\n",
    "    }\n",
    ")"
   ]
  },
  {
   "cell_type": "code",
   "execution_count": 15,
   "metadata": {},
   "outputs": [],
   "source": [
    "result = converter.convert(\"temp/clean-test.pdf\")"
   ]
  },
  {
   "cell_type": "code",
   "execution_count": 16,
   "metadata": {},
   "outputs": [],
   "source": [
    "result.document.save_as_markdown(Path('temp/clean-test.md'), image_mode=ImageRefMode.REFERENCED)"
   ]
  },
  {
   "cell_type": "markdown",
   "metadata": {},
   "source": [
    "# Try error text recognition"
   ]
  },
  {
   "cell_type": "code",
   "execution_count": 14,
   "metadata": {},
   "outputs": [
    {
     "name": "stdout",
     "output_type": "stream",
     "text": [
      "'발표 1' -> Normal\n",
      "'-4 -' -> Normal\n",
      "'\u0013\u0011\u0012\u001a֙\u0001ೞ߈ӝ\u0001' -> Broken\n",
      "'\u0001ݎ੹\u0001੢धद઱' -> Broken\n",
      "'*  ߈࢚ӝ 3FWJFX' -> Normal\n",
      "'߈࢚ӝ द੢ DBUBMZTU GMPX ' -> Normal\n",
      "'FE  ژ ೠ ߣ੄ झగझ ࢶഥ  JOTVSBODF DVU ӝ؀' -> Broken\n"
     ]
    }
   ],
   "source": [
    "import re\n",
    "import unicodedata\n",
    "\n",
    "def is_broken_text(text):\n",
    "    \"\"\"\n",
    "    Determines if a given text is broken based on presence of unusual Unicode characters,\n",
    "    lack of meaningful word structure, and excessive non-printable characters.\n",
    "    \"\"\"\n",
    "    # Check for non-printable characters\n",
    "    if any(unicodedata.category(char) in (\"Cc\", \"Cf\") for char in text):\n",
    "        return True\n",
    "\n",
    "    # Check for excessive special characters or isolated symbols\n",
    "    if len(re.findall(r'[\\x00-\\x1F\\x7F-\\x9F]', text)) > 2:\n",
    "        return True\n",
    "    \n",
    "    # Check for the presence of valid Hangul, English, or common script structures\n",
    "    if re.search(r'[\\uAC00-\\uD7AFa-zA-Z가-힣0-9]', text):  \n",
    "        return False\n",
    "    \n",
    "    return True\n",
    "# Example usage\n",
    "texts = [\n",
    "    \"발표 1\",\n",
    "    \"-4 -\",\n",
    "    \"\u0013\u0011\u0012\u001a֙\u0001ೞ߈ӝ\u0001\",\n",
    "    \"\u0001ݎ੹\u0001੢धद઱\",\n",
    "    \"*  ߈࢚ӝ 3FWJFX\",\n",
    "    \"߈࢚ӝ द੢ DBUBMZTU GMPX \",\n",
    "    \"FE  ژ ೠ ߣ੄ झగझ ࢶഥ  JOTVSBODF DVU ӝ؀\"\n",
    "]\n",
    "\n",
    "for text in texts:\n",
    "    print(f\"'{text}' -> {'Broken' if is_broken_text(text) else 'Normal'}\")"
   ]
  },
  {
   "cell_type": "code",
   "execution_count": null,
   "metadata": {},
   "outputs": [],
   "source": []
  }
 ],
 "metadata": {
  "kernelspec": {
   "display_name": "docling",
   "language": "python",
   "name": "docling"
  },
  "language_info": {
   "codemirror_mode": {
    "name": "ipython",
    "version": 3
   },
   "file_extension": ".py",
   "mimetype": "text/x-python",
   "name": "python",
   "nbconvert_exporter": "python",
   "pygments_lexer": "ipython3",
   "version": "3.10.14"
  }
 },
 "nbformat": 4,
 "nbformat_minor": 2
}
