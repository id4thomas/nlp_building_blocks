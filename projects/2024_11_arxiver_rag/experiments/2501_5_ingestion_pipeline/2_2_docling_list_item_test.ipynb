{
 "cells": [
  {
   "cell_type": "code",
   "execution_count": 1,
   "metadata": {},
   "outputs": [],
   "source": [
    "import json\n",
    "from pathlib import Path\n",
    "import os\n",
    "import time\n",
    "\n",
    "import fitz\n",
    "import pandas as pd"
   ]
  },
  {
   "cell_type": "code",
   "execution_count": 2,
   "metadata": {},
   "outputs": [],
   "source": [
    "from pydantic_settings import BaseSettings, SettingsConfigDict\n",
    "\n",
    "class Settings(BaseSettings):\n",
    "    model_config = SettingsConfigDict(\n",
    "        env_file=\"../.env\", env_file_encoding=\"utf-8\", extra=\"ignore\"\n",
    "    )\n",
    "    data_dir: str\n",
    "    docling_model_dir: str\n",
    "    \n",
    "settings = Settings()\n",
    "os.environ[\"HF_HOME\"] = settings.docling_model_dir"
   ]
  },
  {
   "cell_type": "code",
   "execution_count": 3,
   "metadata": {},
   "outputs": [],
   "source": [
    "import sys\n",
    "sys.path.append(\"src\")"
   ]
  },
  {
   "cell_type": "markdown",
   "metadata": {},
   "source": [
    "# Load Converter"
   ]
  },
  {
   "cell_type": "code",
   "execution_count": 4,
   "metadata": {},
   "outputs": [],
   "source": [
    "# Import docling\n",
    "from docling.datamodel.base_models import InputFormat\n",
    "from docling.document_converter import (\n",
    "    DocumentConverter,\n",
    "    PdfFormatOption,\n",
    "    WordFormatOption,\n",
    ")\n",
    "from docling.pipeline.simple_pipeline import SimplePipeline\n",
    "from docling.pipeline.standard_pdf_pipeline import StandardPdfPipeline\n",
    "from docling.datamodel.pipeline_options import PdfPipelineOptions\n",
    "from docling.backend.docling_parse_v2_backend import DoclingParseV2DocumentBackend\n",
    "from docling.backend.pypdfium2_backend import PyPdfiumDocumentBackend\n",
    "\n",
    "from docling.datamodel.document import ConversionResult\n",
    "\n",
    "IMAGE_RESOLUTION_SCALE = 2.0\n",
    "\n",
    "pdf_format_options = PdfPipelineOptions()\n",
    "pdf_format_options.images_scale = IMAGE_RESOLUTION_SCALE\n",
    "pdf_format_options.generate_page_images = True\n",
    "pdf_format_options.generate_picture_images = True\n",
    "\n",
    "pdf_format_options.do_ocr = False\n",
    "# pdf_format_options.do_table_structure = False\n",
    "pdf_format_options.do_table_structure = True\n",
    "\n",
    "converter = DocumentConverter(\n",
    "    allowed_formats=[\n",
    "            InputFormat.PDF,\n",
    "            # InputFormat.IMAGE,\n",
    "            # InputFormat.DOCX,\n",
    "            # InputFormat.HTML,\n",
    "            # InputFormat.PPTX,\n",
    "    ],\n",
    "    format_options={\n",
    "        InputFormat.PDF: PdfFormatOption(\n",
    "            pipeline_options=pdf_format_options, # pipeline options go here.\n",
    "            # backend=PyPdfiumDocumentBackend # optional: pick an alternative backend\n",
    "            backend=DoclingParseV2DocumentBackend # optional: pick an alternative backend\n",
    "        ),\n",
    "    }\n",
    ")"
   ]
  },
  {
   "cell_type": "markdown",
   "metadata": {},
   "source": [
    "# Finance Example"
   ]
  },
  {
   "cell_type": "code",
   "execution_count": 45,
   "metadata": {},
   "outputs": [],
   "source": [
    "file_path = \"resources/1706.03762v7-sample.pdf\"\n",
    "result = converter.convert(file_path)"
   ]
  },
  {
   "cell_type": "code",
   "execution_count": 46,
   "metadata": {},
   "outputs": [],
   "source": [
    "finance_document = result.document"
   ]
  },
  {
   "cell_type": "code",
   "execution_count": 47,
   "metadata": {},
   "outputs": [
    {
     "name": "stdout",
     "output_type": "stream",
     "text": [
      " 0: unspecified with name=_root_\n",
      "  1: page_header\n",
      "  2: text\n",
      "  3: section_header\n",
      "  4: text\n",
      "  5: text\n",
      "  6: text\n",
      "  7: text\n",
      "  8: key_value_area with name=group\n",
      "   9: text\n",
      "   10: text\n",
      "   11: text\n",
      "  12: text\n",
      "  13: text\n",
      "  14: section_header\n",
      "  15: text\n",
      "  16: footnote\n",
      "  17: footnote\n",
      "  18: footnote\n",
      "  19: page_footer\n",
      "  20: section_header\n",
      "  21: text\n",
      "  22: text\n",
      "  23: text\n",
      "  24: text\n",
      "  25: section_header\n",
      "  26: text\n",
      "  27: text\n",
      "  28: text\n",
      "  29: text\n",
      "  30: section_header\n",
      "  31: text\n",
      "  32: page_footer\n",
      "  33: caption\n",
      "  34: picture\n",
      "  35: text\n",
      "  36: section_header\n",
      "  37: text\n",
      "  38: text\n",
      "  39: section_header\n",
      "  40: text\n",
      "  41: page_footer\n",
      "  42: section_header\n",
      "  43: picture\n",
      "  44: caption\n",
      "  45: picture\n",
      "  46: text\n",
      "  47: section_header\n",
      "  48: text\n",
      "  49: text\n",
      "  50: formula\n",
      "  51: text\n",
      "  52: text\n",
      "  53: section_header\n",
      "  54: text\n",
      "  55: footnote\n",
      "  56: page_footer\n",
      "  57: text\n",
      "  58: text\n",
      "  59: formula\n",
      "  60: formula\n",
      "  61: text\n",
      "  62: text\n",
      "  63: section_header\n",
      "  64: text\n",
      "  65: list with name=list\n",
      "   66: list_item\n",
      "   67: list_item\n",
      "   68: list_item\n",
      "  69: section_header\n",
      "  70: text\n",
      "  71: formula\n",
      "  72: text\n",
      "  73: section_header\n",
      "  74: text\n",
      "  75: page_footer\n"
     ]
    }
   ],
   "source": [
    "finance_document.print_element_tree()"
   ]
  },
  {
   "cell_type": "markdown",
   "metadata": {},
   "source": [
    "# Check GroupItem\n",
    "가능한 GroupLabel\n",
    "* https://github.com/DS4SD/docling-core/blob/b787d53173e9e2325f25f03a7e442d5b4194e5a4/docling_core/types/doc/labels.py#L63\n",
    "\n",
    "```\n",
    "UNSPECIFIED = \"unspecified\"\n",
    "LIST = (\n",
    "    \"list\"  # group label for list container (not the list-items) (e.g. HTML <ul/>)\n",
    ")\n",
    "ORDERED_LIST = \"ordered_list\"  # List with enumeration (e.g. HTML <ol/>)\n",
    "CHAPTER = \"chapter\"\n",
    "SECTION = \"section\"\n",
    "SHEET = \"sheet\"\n",
    "SLIDE = \"slide\"\n",
    "FORM_AREA = \"form_area\"\n",
    "KEY_VALUE_AREA = \"key_value_area\"\n",
    "COMMENT_SECTION = \"comment_section\"\n",
    "```"
   ]
  },
  {
   "cell_type": "code",
   "execution_count": 48,
   "metadata": {},
   "outputs": [
    {
     "name": "stdout",
     "output_type": "stream",
     "text": [
      "key_value_area\n",
      "[RefItem(cref='#/texts/7'), RefItem(cref='#/texts/8'), RefItem(cref='#/texts/9')]\n",
      "list\n",
      "[RefItem(cref='#/texts/61'), RefItem(cref='#/texts/62'), RefItem(cref='#/texts/63')]\n"
     ]
    }
   ],
   "source": [
    "for group in finance_document.groups:\n",
    "    print(group.label)\n",
    "    print(group.children)"
   ]
  },
  {
   "cell_type": "code",
   "execution_count": 49,
   "metadata": {},
   "outputs": [
    {
     "name": "stdout",
     "output_type": "stream",
     "text": [
      "#/groups/0\n",
      "self_ref='#/groups/0' parent=RefItem(cref='#/body') children=[RefItem(cref='#/texts/7'), RefItem(cref='#/texts/8'), RefItem(cref='#/texts/9')] name='group' label=<GroupLabel.KEY_VALUE_AREA: 'key_value_area'>\n"
     ]
    }
   ],
   "source": [
    "# Check KEY_VALUE_AREA\n",
    "kv_ref_item = finance_document.body.children[7]\n",
    "print(kv_ref_item.cref)\n",
    "print(finance_document.groups[0])"
   ]
  },
  {
   "cell_type": "code",
   "execution_count": 54,
   "metadata": {},
   "outputs": [
    {
     "name": "stdout",
     "output_type": "stream",
     "text": [
      "#/groups/1\n",
      "self_ref='#/groups/1' parent=RefItem(cref='#/body') children=[RefItem(cref='#/texts/61'), RefItem(cref='#/texts/62'), RefItem(cref='#/texts/63')] name='list' label=<GroupLabel.LIST: 'list'>\n",
      "l=135.39700317382812 t=470.8479919433594 r=505.24200439453125 b=418.5190124511719 coord_origin=<CoordOrigin.BOTTOMLEFT: 'BOTTOMLEFT'>\n",
      "· In \"encoder-decoder attention\" layers, the queries come from the previous decoder layer, and the memory keys and values come from the output of the encoder. This allows every position in the decoder to attend over all positions in the input sequence. This mimics the typical encoder-decoder attention mechanisms in sequence-to-sequence models such as [38, 2, 9].\n",
      "l=135.39700317382812 t=411.375 r=504.00299072265625 b=369.95599365234375 coord_origin=<CoordOrigin.BOTTOMLEFT: 'BOTTOMLEFT'>\n",
      "· The encoder contains self-attention layers. In a self-attention layer all of the keys, values and queries come from the same place, in this case, the output of the previous layer in the encoder. Each position in the encoder can attend to all positions in the previous layer of the encoder.\n",
      "l=135.39700317382812 t=362.81201171875 r=504.00299072265625 b=310.4840087890625 coord_origin=<CoordOrigin.BOTTOMLEFT: 'BOTTOMLEFT'>\n",
      "· Similarly, self-attention layers in the decoder allow each position in the decoder to attend to all positions in the decoder up to and including that position. We need to prevent leftward information flow in the decoder to preserve the auto-regressive property. We implement this inside of scaled dot-product attention by masking out (setting to -∞ ) all values in the input of the softmax which correspond to illegal connections. See Figure 2.\n"
     ]
    }
   ],
   "source": [
    "# Check LIST / ORDERED_LIST\n",
    "'''\n",
    "'''\n",
    "\n",
    "list_ref_item = finance_document.body.children[-8]\n",
    "print(list_ref_item.cref)\n",
    "print(finance_document.groups[1])\n",
    "\n",
    "for i in [61, 62,63]:\n",
    "    text_item = finance_document.texts[i]\n",
    "    print(text_item.prov[0].bbox)\n",
    "    print(text_item.text)"
   ]
  },
  {
   "cell_type": "code",
   "execution_count": 11,
   "metadata": {},
   "outputs": [
    {
     "name": "stdout",
     "output_type": "stream",
     "text": [
      "69\n"
     ]
    }
   ],
   "source": [
    "print(len(document.body.children))\n",
    "# for item in document.body.children:\n",
    "#     print(item.cref)"
   ]
  },
  {
   "cell_type": "markdown",
   "metadata": {},
   "source": [
    "# List Group Example\n",
    "contents:\n",
    "```\n",
    "* Test1\n",
    "    * Test1-1\n",
    "        * Test1-1-1\n",
    "        * Test1-1-2\n",
    "    * Test1-2\n",
    "* Test2\n",
    "```"
   ]
  },
  {
   "cell_type": "code",
   "execution_count": 5,
   "metadata": {},
   "outputs": [],
   "source": [
    "'''\n",
    "Contents:\n",
    "\n",
    "'''\n",
    "file_path = \"resources/list_group_sample_msword.pdf\"\n",
    "file_path = \"resources/list_group_sample_google.pdf\"\n",
    "result = converter.convert(file_path)\n",
    "document = result.document"
   ]
  },
  {
   "cell_type": "code",
   "execution_count": 6,
   "metadata": {},
   "outputs": [
    {
     "name": "stdout",
     "output_type": "stream",
     "text": [
      "self_ref='#/groups/0' parent=RefItem(cref='#/body') children=[RefItem(cref='#/texts/0'), RefItem(cref='#/texts/1'), RefItem(cref='#/texts/2'), RefItem(cref='#/texts/3'), RefItem(cref='#/texts/4'), RefItem(cref='#/texts/5')] name='list' label=<GroupLabel.LIST: 'list'>\n",
      "list\n",
      "[RefItem(cref='#/texts/0'), RefItem(cref='#/texts/1'), RefItem(cref='#/texts/2'), RefItem(cref='#/texts/3'), RefItem(cref='#/texts/4'), RefItem(cref='#/texts/5')]\n"
     ]
    }
   ],
   "source": [
    "for group in document.groups:\n",
    "    print(group)\n",
    "    print(group.label)\n",
    "    print(group.children)"
   ]
  },
  {
   "cell_type": "code",
   "execution_count": 7,
   "metadata": {},
   "outputs": [
    {
     "data": {
      "text/plain": [
       "{1: PageItem(size=Size(width=596.0, height=842.0), image=ImageRef(mimetype='image/png', dpi=144, size=Size(width=1192.0, height=1684.0), uri=AnyUrl('data:image/png;base64,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')), page_no=1)}"
      ]
     },
     "execution_count": 7,
     "metadata": {},
     "output_type": "execute_result"
    }
   ],
   "source": [
    "document.pages"
   ]
  },
  {
   "cell_type": "markdown",
   "metadata": {},
   "source": [
    "## Cropping Image Part"
   ]
  },
  {
   "cell_type": "code",
   "execution_count": 8,
   "metadata": {},
   "outputs": [
    {
     "name": "stdout",
     "output_type": "stream",
     "text": [
      "self_ref='#/texts/0' parent=RefItem(cref='#/groups/0') children=[] label=<DocItemLabel.LIST_ITEM: 'list_item'> prov=[ProvenanceItem(page_no=1, bbox=BoundingBox(l=90.0, t=767.5560302734375, r=137.3280029296875, b=757.8389892578125, coord_origin=<CoordOrigin.BOTTOMLEFT: 'BOTTOMLEFT'>), charspan=(0, 7))] orig='● Test1' text='● Test1' enumerated=False marker='-'\n",
      "self_ref='#/texts/1' parent=RefItem(cref='#/groups/0') children=[] label=<DocItemLabel.LIST_ITEM: 'list_item'> prov=[ProvenanceItem(page_no=1, bbox=BoundingBox(l=126.0, t=753.010009765625, r=183.1020050048828, b=743.2930297851562, coord_origin=<CoordOrigin.BOTTOMLEFT: 'BOTTOMLEFT'>), charspan=(0, 9))] orig='· Test1-1' text='· Test1-1' enumerated=False marker='-'\n",
      "self_ref='#/texts/2' parent=RefItem(cref='#/groups/0') children=[] label=<DocItemLabel.LIST_ITEM: 'list_item'> prov=[ProvenanceItem(page_no=1, bbox=BoundingBox(l=162.0, t=738.4639892578125, r=228.87600708007812, b=728.7459716796875, coord_origin=<CoordOrigin.BOTTOMLEFT: 'BOTTOMLEFT'>), charspan=(0, 11))] orig='■ Test1-1-1' text='■ Test1-1-1' enumerated=False marker='-'\n",
      "self_ref='#/texts/3' parent=RefItem(cref='#/groups/0') children=[] label=<DocItemLabel.LIST_ITEM: 'list_item'> prov=[ProvenanceItem(page_no=1, bbox=BoundingBox(l=162.0, t=723.9169921875, r=228.87600708007812, b=714.2000122070312, coord_origin=<CoordOrigin.BOTTOMLEFT: 'BOTTOMLEFT'>), charspan=(0, 11))] orig='■ Test1-1-2' text='■ Test1-1-2' enumerated=False marker='-'\n",
      "self_ref='#/texts/4' parent=RefItem(cref='#/groups/0') children=[] label=<DocItemLabel.LIST_ITEM: 'list_item'> prov=[ProvenanceItem(page_no=1, bbox=BoundingBox(l=126.0, t=709.3709716796875, r=183.1020050048828, b=699.6539916992188, coord_origin=<CoordOrigin.BOTTOMLEFT: 'BOTTOMLEFT'>), charspan=(0, 9))] orig='· Test1-2' text='· Test1-2' enumerated=False marker='-'\n",
      "self_ref='#/texts/5' parent=RefItem(cref='#/groups/0') children=[] label=<DocItemLabel.LIST_ITEM: 'list_item'> prov=[ProvenanceItem(page_no=1, bbox=BoundingBox(l=90.0, t=694.8250122070312, r=137.3280029296875, b=685.1079711914062, coord_origin=<CoordOrigin.BOTTOMLEFT: 'BOTTOMLEFT'>), charspan=(0, 7))] orig='● Test2' text='● Test2' enumerated=False marker='-'\n"
     ]
    }
   ],
   "source": [
    "for text in result.document.texts:\n",
    "    print(text)"
   ]
  },
  {
   "cell_type": "code",
   "execution_count": 10,
   "metadata": {},
   "outputs": [
    {
     "name": "stdout",
     "output_type": "stream",
     "text": [
      "[90.0, 767.5560302734375, 137.3280029296875, 757.8389892578125]\n",
      "- self_ref='#/texts/0' parent=RefItem(cref='#/groups/0') children=[] label=<DocItemLabel.LIST_ITEM: 'list_item'> prov=[ProvenanceItem(page_no=1, bbox=BoundingBox(l=90.0, t=767.5560302734375, r=137.3280029296875, b=757.8389892578125, coord_origin=<CoordOrigin.BOTTOMLEFT: 'BOTTOMLEFT'>), charspan=(0, 7))] orig='● Test1' text='● Test1' enumerated=False marker='-'\n",
      "'● Test1'\n",
      "[0.15100671140939598, 0.09995369446815618, 0.23041611229813339, 0.08841326570850654]\n",
      "[126.0, 753.010009765625, 183.1020050048828, 743.2930297851562]\n",
      "- self_ref='#/texts/1' parent=RefItem(cref='#/groups/0') children=[] label=<DocItemLabel.LIST_ITEM: 'list_item'> prov=[ProvenanceItem(page_no=1, bbox=BoundingBox(l=126.0, t=753.010009765625, r=183.1020050048828, b=743.2930297851562, coord_origin=<CoordOrigin.BOTTOMLEFT: 'BOTTOMLEFT'>), charspan=(0, 9))] orig='· Test1-1' text='· Test1-1' enumerated=False marker='-'\n",
      "'· Test1-1'\n",
      "[0.21140939597315436, 0.11722918077772417, 0.3072181292028235, 0.10568882450638362]\n",
      "[162.0, 738.4639892578125, 228.87600708007812, 728.7459716796875]\n",
      "- self_ref='#/texts/2' parent=RefItem(cref='#/groups/0') children=[] label=<DocItemLabel.LIST_ITEM: 'list_item'> prov=[ProvenanceItem(page_no=1, bbox=BoundingBox(l=162.0, t=738.4639892578125, r=228.87600708007812, b=728.7459716796875, coord_origin=<CoordOrigin.BOTTOMLEFT: 'BOTTOMLEFT'>), charspan=(0, 11))] orig='■ Test1-1-1' text='■ Test1-1-1' enumerated=False marker='-'\n",
      "'■ Test1-1-1'\n",
      "[0.27181208053691275, 0.1345059718768557, 0.3840201461075136, 0.12296438330426068]\n",
      "[162.0, 723.9169921875, 228.87600708007812, 714.2000122070312]\n",
      "- self_ref='#/texts/3' parent=RefItem(cref='#/groups/0') children=[] label=<DocItemLabel.LIST_ITEM: 'list_item'> prov=[ProvenanceItem(page_no=1, bbox=BoundingBox(l=162.0, t=723.9169921875, r=228.87600708007812, b=714.2000122070312, coord_origin=<CoordOrigin.BOTTOMLEFT: 'BOTTOMLEFT'>), charspan=(0, 11))] orig='■ Test1-1-2' text='■ Test1-1-2' enumerated=False marker='-'\n",
      "'■ Test1-1-2'\n",
      "[0.27181208053691275, 0.1517814581864237, 0.3840201461075136, 0.14024110191508313]\n",
      "[126.0, 709.3709716796875, 183.1020050048828, 699.6539916992188]\n",
      "- self_ref='#/texts/4' parent=RefItem(cref='#/groups/0') children=[] label=<DocItemLabel.LIST_ITEM: 'list_item'> prov=[ProvenanceItem(page_no=1, bbox=BoundingBox(l=126.0, t=709.3709716796875, r=183.1020050048828, b=699.6539916992188, coord_origin=<CoordOrigin.BOTTOMLEFT: 'BOTTOMLEFT'>), charspan=(0, 9))] orig='· Test1-2' text='· Test1-2' enumerated=False marker='-'\n",
      "'· Test1-2'\n",
      "[0.21140939597315436, 0.16905701698430078, 0.3072181292028235, 0.15751666071296022]\n",
      "[90.0, 694.8250122070312, 137.3280029296875, 685.1079711914062]\n",
      "- self_ref='#/texts/5' parent=RefItem(cref='#/groups/0') children=[] label=<DocItemLabel.LIST_ITEM: 'list_item'> prov=[ProvenanceItem(page_no=1, bbox=BoundingBox(l=90.0, t=694.8250122070312, r=137.3280029296875, b=685.1079711914062, coord_origin=<CoordOrigin.BOTTOMLEFT: 'BOTTOMLEFT'>), charspan=(0, 7))] orig='● Test2' text='● Test2' enumerated=False marker='-'\n",
      "'● Test2'\n",
      "[0.15100671140939598, 0.18633257578217785, 0.23041611229813339, 0.1747921470225282]\n",
      "{'l': 0.15100671140939598, 't': 0.18633257578217785, 'r': 0.3840201461075136, 'b': 0.08841326570850654}\n"
     ]
    },
    {
     "data": {
      "image/jpeg": "[encoded data removed]",
      "image/png": "[encoded data removed]",
      "text/plain": [
       "<PIL.Image.Image image mode=RGB size=289x172>"
      ]
     },
     "execution_count": 10,
     "metadata": {},
     "output_type": "execute_result"
    }
   ],
   "source": [
    "# Try Getting bbox\n",
    "from core.reader.image_utils import crop_image\n",
    "\n",
    "def _convert_bbox_bl_tl(\n",
    "    bbox: list[float], page_width: int, page_height: int\n",
    ") -> list[float]:\n",
    "    \"\"\"Convert bbox from bottom-left to top-left\"\"\"\n",
    "    x0, y0, x1, y1 = bbox\n",
    "    return [\n",
    "        x0 / page_width,\n",
    "        (page_height - y1) / page_height,\n",
    "        x1 / page_width,\n",
    "        (page_height - y0) / page_height,\n",
    "    ]\n",
    "\n",
    "page_width = document.pages[1].size.width\n",
    "page_height = document.pages[1].size.height\n",
    "bboxes = []\n",
    "for text in result.document.texts:\n",
    "    bbox = [\n",
    "        text.prov[0].bbox.l,\n",
    "        text.prov[0].bbox.t,\n",
    "        text.prov[0].bbox.r,\n",
    "        text.prov[0].bbox.b,\n",
    "    ]\n",
    "    print(bbox)\n",
    "    bbox = _convert_bbox_bl_tl(bbox, page_width, page_height)\n",
    "    print(text.marker, text)\n",
    "    print(repr(text.text))\n",
    "    print(bbox)\n",
    "    bboxes.append(bbox)\n",
    "    \n",
    "all_lefts   = [bb[0] for bb in bboxes]\n",
    "all_tops    = [bb[1] for bb in bboxes]\n",
    "all_rights  = [bb[2] for bb in bboxes]\n",
    "all_bottoms = [bb[3] for bb in bboxes]\n",
    "\n",
    "# # Compute the aggregate bounding box\n",
    "aggregated_bbox = {\n",
    "    \"l\": min(all_lefts),\n",
    "    \"t\": max(all_tops),\n",
    "    \"r\": max(all_rights),\n",
    "    \"b\": min(all_bottoms)\n",
    "}\n",
    "print(aggregated_bbox)\n",
    "\n",
    "\n",
    "bbox = [aggregated_bbox[\"l\"], aggregated_bbox[\"t\"], aggregated_bbox[\"r\"], aggregated_bbox[\"b\"]]\n",
    "# bbox = _convert_bbox_bl_tl(bbox, page_width, page_height)\n",
    "img = crop_image(Path(file_path), bbox, 0)\n",
    "img"
   ]
  },
  {
   "cell_type": "code",
   "execution_count": 67,
   "metadata": {},
   "outputs": [
    {
     "name": "stdout",
     "output_type": "stream",
     "text": [
      "- ● Test1\n",
      "\t- · Test1-1\n",
      "\t\t- ■ Test1-1-1\n",
      "\t\t- ■ Test1-1-2\n",
      "\t- · Test1-2\n",
      "- ● Test2\n"
     ]
    }
   ],
   "source": [
    "def _combine_list_text(items, ordered: bool = False) -> str:\n",
    "    \"\"\"Restore list hierarchy based on bbox.l (left) coordinates.\"\"\"\n",
    "    \n",
    "    def _is_item_inner(last: float, current: float) -> bool:\n",
    "        \"\"\"\n",
    "        Returns True if `current` (the new item's indentation) is \n",
    "        strictly greater (i.e., 'further right') than `last`.\n",
    "        \"\"\"\n",
    "        # If dealing with sub-1.0 floats (scaled coordinates),\n",
    "        # multiply them up so the comparison is still valid.\n",
    "        if last < 1 and current < 1:\n",
    "            last   *= 100\n",
    "            current *= 100\n",
    "        return current > last\n",
    "    \n",
    "    indent_stack = []\n",
    "    texts        = []\n",
    "\n",
    "    for item in items:\n",
    "        marker   = item.marker\n",
    "        bbox_obj = item.prov[0].bbox\n",
    "        l        = bbox_obj.l\n",
    "\n",
    "        # If the stack is empty, this is the first item at depth 0.\n",
    "        if not indent_stack:\n",
    "            indent_stack.append(l)\n",
    "            depth = 0\n",
    "            texts.append(\"\\t\"*depth + f\"{marker} {item.text}\")\n",
    "        else:\n",
    "            # If this new item is 'further right' than the previous, it goes deeper.\n",
    "            if _is_item_inner(indent_stack[-1], l):\n",
    "                indent_stack.append(l)\n",
    "                # depth is length of stack - 1 since we started from zero\n",
    "                depth = len(indent_stack) - 1\n",
    "                texts.append(\"\\t\"*depth + f\"{marker} {item.text}\")\n",
    "            else:\n",
    "                # Otherwise, we go back out (pop) until it's valid or stack is empty.\n",
    "                while indent_stack and not _is_item_inner(indent_stack[-1], l):\n",
    "                    indent_stack.pop()\n",
    "                \n",
    "                # Now we are at the correct \"outer\" level (or at root).\n",
    "                indent_stack.append(l)\n",
    "                depth = len(indent_stack) - 1\n",
    "                texts.append(\"\\t\"*depth + f\"{marker} {item.text}\")\n",
    "\n",
    "    return \"\\n\".join(texts)\n",
    "\n",
    "text = _combine_list_text(result.document.texts)\n",
    "print(text)"
   ]
  },
  {
   "cell_type": "code",
   "execution_count": 15,
   "metadata": {},
   "outputs": [
    {
     "name": "stdout",
     "output_type": "stream",
     "text": [
      "'  ●  Test1\\n       ○  Test1-1\\n            ■  Test1-1-1\\n            ■  Test1-1-2\\n       ○  Test1-2\\n\\n  ●  Test2'\n"
     ]
    }
   ],
   "source": [
    "import os\n",
    "\n",
    "import pdfplumber\n",
    "from bs4 import BeautifulSoup\n",
    "from pdf2image import convert_from_path\n",
    "from pdfplumber.utils import extract_text, get_bbox_overlap, obj_to_bbox\n",
    "\n",
    "import pandas as pd\n",
    "\n",
    "all_pages = []\n",
    "with pdfplumber.open(file_path) as pdf:\n",
    "    for page in pdf.pages:\n",
    "        filtered_page = page\n",
    "        chars = filtered_page.chars\n",
    "    page_text = extract_text(chars, layout=True)\n",
    "    print(repr(page_text))"
   ]
  },
  {
   "cell_type": "code",
   "execution_count": null,
   "metadata": {},
   "outputs": [],
   "source": []
  }
 ],
 "metadata": {
  "kernelspec": {
   "display_name": "docling",
   "language": "python",
   "name": "docling"
  },
  "language_info": {
   "codemirror_mode": {
    "name": "ipython",
    "version": 3
   },
   "file_extension": ".py",
   "mimetype": "text/x-python",
   "name": "python",
   "nbconvert_exporter": "python",
   "pygments_lexer": "ipython3",
   "version": "3.10.14"
  }
 },
 "nbformat": 4,
 "nbformat_minor": 2
}
