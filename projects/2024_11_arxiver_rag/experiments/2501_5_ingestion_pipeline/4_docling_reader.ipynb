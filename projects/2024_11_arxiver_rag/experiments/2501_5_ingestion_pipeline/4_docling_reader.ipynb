{
 "cells": [
  {
   "cell_type": "code",
   "execution_count": 1,
   "metadata": {},
   "outputs": [],
   "source": [
    "import json\n",
    "from pathlib import Path\n",
    "import os\n",
    "import time\n",
    "\n",
    "import pandas as pd"
   ]
  },
  {
   "cell_type": "code",
   "execution_count": 2,
   "metadata": {},
   "outputs": [],
   "source": [
    "from pydantic_settings import BaseSettings, SettingsConfigDict\n",
    "\n",
    "class Settings(BaseSettings):\n",
    "    model_config = SettingsConfigDict(\n",
    "        env_file=\"../.env\", env_file_encoding=\"utf-8\", extra=\"ignore\"\n",
    "    )\n",
    "    data_dir: str\n",
    "    docling_model_dir: str\n",
    "    \n",
    "settings = Settings()\n",
    "os.environ[\"HF_HOME\"] = settings.docling_model_dir"
   ]
  },
  {
   "cell_type": "code",
   "execution_count": 3,
   "metadata": {},
   "outputs": [],
   "source": [
    "import sys\n",
    "sys.path.append(\"src\")"
   ]
  },
  {
   "cell_type": "code",
   "execution_count": 4,
   "metadata": {},
   "outputs": [],
   "source": [
    "from core.base.schema import TextNode, TableNode"
   ]
  },
  {
   "cell_type": "code",
   "execution_count": 5,
   "metadata": {},
   "outputs": [],
   "source": [
    "from core.reader.docling.pdf_reader import DoclingPDFReader"
   ]
  },
  {
   "cell_type": "code",
   "execution_count": 6,
   "metadata": {},
   "outputs": [],
   "source": [
    "reader = DoclingPDFReader()"
   ]
  },
  {
   "cell_type": "code",
   "execution_count": 7,
   "metadata": {},
   "outputs": [
    {
     "name": "stdout",
     "output_type": "stream",
     "text": [
      "num files: 10\n"
     ]
    },
    {
     "data": {
      "text/plain": [
       "['★2019 제1회 증시콘서트 자료집_최종★.pdf',\n",
       " '240409(보도자료) 금융위 핀테크 투자 생태계 활성화 나선다.pdf',\n",
       " '2024년 3월_3. 향후 통화신용정책 방향.pdf',\n",
       " '133178946057443204_WP22-05.pdf',\n",
       " '240130(보도자료) 지방은행의 시중은행 전환시 인가방식 및 절차.pdf',\n",
       " '130292099630937500_KIFVIP2013-10.pdf',\n",
       " '2024년 3월_2. 통화신용정책 운영.pdf',\n",
       " '[별첨] 지방은행의 시중은행 전환시 인가방식 및 절차.pdf',\n",
       " '240320(보도자료) 금융권의 상생금융 추진현황.pdf',\n",
       " '한-호주 퇴직연금 포럼_책자(최종).pdf']"
      ]
     },
     "execution_count": 7,
     "metadata": {},
     "output_type": "execute_result"
    }
   ],
   "source": [
    "pdf_dir = os.path.join(settings.data_dir, \"allganize-RAG-Evaluation-Dataset-KO/finance\")\n",
    "pdf_fnames =[x for x in os.listdir(pdf_dir) if x.endswith(\".pdf\")]\n",
    "print(\"num files:\", len(pdf_fnames))\n",
    "pdf_fnames[:10]"
   ]
  },
  {
   "cell_type": "code",
   "execution_count": 8,
   "metadata": {},
   "outputs": [],
   "source": [
    "file_path = os.path.join(pdf_dir, pdf_fnames[0])\n",
    "file_path = \"resources/finance-small-images.pdf\"\n",
    "file_path = \"/Users/id4thomas/github/nlp_building_blocks/projects/2024_11_arxiver_rag/experiments/2501_1_document_parsing/samples/1706.03762v7.pdf\"\n",
    "# file_path = \"resources/1706.03762v7-sample.pdf\"\n",
    "# file_path = \"resources/list_group_sample_msword.pdf\"\n",
    "# file_path = \"resources/list_group_sample_google.pdf\"\n",
    "document = reader.run(file_path)"
   ]
  },
  {
   "cell_type": "code",
   "execution_count": 9,
   "metadata": {},
   "outputs": [
    {
     "name": "stdout",
     "output_type": "stream",
     "text": [
      "136\n"
     ]
    }
   ],
   "source": [
    "nodes = document.nodes\n",
    "print(len(nodes))"
   ]
  },
  {
   "cell_type": "code",
   "execution_count": 10,
   "metadata": {},
   "outputs": [
    {
     "data": {
      "text/plain": [
       "[TextNode(id_='52af3ecb-8d6d-4875-b3fa-c56e2b9e742d', metadata={}, text_type=<TextType.PLAIN: 'plain'>, label=<TextLabel.PAGE_HEADER: 'page_header'>, resource=MediaResource(data=None, text='arXiv:1706.03762v7  [cs.CL]  2 Aug 2023', path=None, url=None, mimetype=None)),\n",
       " TextNode(id_='345e7e77-ad7b-489c-8be5-49226e6c420d', metadata={}, text_type=<TextType.PLAIN: 'plain'>, label=<TextLabel.PLAIN: 'plain'>, resource=MediaResource(data=None, text='Provided proper attribution is provided, Google hereby grants permission to reproduce the tables and figures in this paper solely for use in journalistic or scholarly works.', path=None, url=None, mimetype=None)),\n",
       " TextNode(id_='ad1513aa-9aec-4ac0-b1c2-3d710170136d', metadata={}, text_type=<TextType.PLAIN: 'plain'>, label=<TextLabel.SECTION_HEADER: 'section_header'>, resource=MediaResource(data=None, text='Attention Is All You Need', path=None, url=None, mimetype=None)),\n",
       " TextNode(id_='54b81686-3ba8-461b-99ed-18efe959549f', metadata={}, text_type=<TextType.PLAIN: 'plain'>, label=<TextLabel.PLAIN: 'plain'>, resource=MediaResource(data=None, text='Ashish Vaswani ∗ Google Brain avaswani@google.com', path=None, url=None, mimetype=None)),\n",
       " TextNode(id_='3395ff40-3cca-4c40-976f-d6160add4a92', metadata={}, text_type=<TextType.PLAIN: 'plain'>, label=<TextLabel.PLAIN: 'plain'>, resource=MediaResource(data=None, text='Noam Shazeer ∗ Google Brain noam@google.com', path=None, url=None, mimetype=None)),\n",
       " TextNode(id_='e968d200-868a-4c4c-8b91-8a0b036db1b3', metadata={}, text_type=<TextType.PLAIN: 'plain'>, label=<TextLabel.PLAIN: 'plain'>, resource=MediaResource(data=None, text='Niki Parmar ∗ Google Research nikip@google.com', path=None, url=None, mimetype=None)),\n",
       " TextNode(id_='9fc4e215-bf5b-4440-915e-0c26f69f18b8', metadata={}, text_type=<TextType.PLAIN: 'plain'>, label=<TextLabel.PLAIN: 'plain'>, resource=MediaResource(data=None, text='Jakob Uszkoreit ∗ Google Research usz@google.com', path=None, url=None, mimetype=None)),\n",
       " TextNode(id_='7ec74ef0-d37d-4691-86d9-29ab834f4807', metadata={}, text_type=<TextType.PLAIN: 'plain'>, label=<TextLabel.PLAIN: 'plain'>, resource=MediaResource(data=None, text='Llion Jones ∗ Google Research llion@google.com', path=None, url=None, mimetype=None)),\n",
       " TextNode(id_='95be9709-f659-4a29-9782-c13be9af7654', metadata={}, text_type=<TextType.PLAIN: 'plain'>, label=<TextLabel.PLAIN: 'plain'>, resource=MediaResource(data=None, text='Aidan N. Gomez ∗ † University of Toronto aidan@cs.toronto.edu', path=None, url=None, mimetype=None)),\n",
       " TextNode(id_='b755ae2c-05f9-4c50-8d7b-d9b4f7966574', metadata={}, text_type=<TextType.PLAIN: 'plain'>, label=<TextLabel.PLAIN: 'plain'>, resource=MediaResource(data=None, text='Łukasz Kaiser Google Brain lukaszkaiser@google.com', path=None, url=None, mimetype=None))]"
      ]
     },
     "execution_count": 10,
     "metadata": {},
     "output_type": "execute_result"
    }
   ],
   "source": [
    "nodes[:10]"
   ]
  },
  {
   "cell_type": "code",
   "execution_count": 11,
   "metadata": {},
   "outputs": [
    {
     "name": "stdout",
     "output_type": "stream",
     "text": [
      "arXiv:1706.03762v7  [cs.CL]  2 Aug 2023\n"
     ]
    }
   ],
   "source": [
    "print(nodes[0].text)"
   ]
  },
  {
   "cell_type": "code",
   "execution_count": 12,
   "metadata": {},
   "outputs": [
    {
     "name": "stdout",
     "output_type": "stream",
     "text": [
      "NODE 64\n",
      "----------------------------------------------------------------------------------------------------\n",
      "NODE 92\n",
      "----------------------------------------------------------------------------------------------------\n",
      "NODE 104\n",
      "----------------------------------------------------------------------------------------------------\n",
      "NODE 113\n",
      "----------------------------------------------------------------------------------------------------\n",
      "NODE 125\n",
      "----------------------------------------------------------------------------------------------------\n",
      "NODE 126\n",
      "----------------------------------------------------------------------------------------------------\n"
     ]
    }
   ],
   "source": [
    "for i, node in enumerate(nodes):\n",
    "    # if not isinstance(node, TextNode) or not isinstance(node, TableNode):\n",
    "    if not isinstance(node, TableNode):\n",
    "        continue\n",
    "    print(\"NODE {}\".format(i))\n",
    "    node.image.show()\n",
    "    # print(node.get_text_type(),node.get_text_label())\n",
    "    print(\"-\"*100)"
   ]
  },
  {
   "cell_type": "code",
   "execution_count": null,
   "metadata": {},
   "outputs": [],
   "source": []
  }
 ],
 "metadata": {
  "kernelspec": {
   "display_name": "docling",
   "language": "python",
   "name": "docling"
  },
  "language_info": {
   "codemirror_mode": {
    "name": "ipython",
    "version": 3
   },
   "file_extension": ".py",
   "mimetype": "text/x-python",
   "name": "python",
   "nbconvert_exporter": "python",
   "pygments_lexer": "ipython3",
   "version": "3.10.14"
  }
 },
 "nbformat": 4,
 "nbformat_minor": 2
}
