{
 "cells": [
  {
   "cell_type": "code",
   "execution_count": 1,
   "metadata": {},
   "outputs": [],
   "source": [
    "import json\n",
    "import openai\n",
    "import os\n",
    "\n",
    "from PIL import Image\n",
    "import matplotlib.pyplot as plt\n",
    "\n",
    "from rapidocr_onnxruntime import RapidOCR\n",
    "# from rapidocr_paddle import RapidOCR"
   ]
  },
  {
   "cell_type": "code",
   "execution_count": 2,
   "metadata": {},
   "outputs": [],
   "source": [
    "from docling.datamodel.pipeline_options import (\n",
    "    AcceleratorDevice,\n",
    "    AcceleratorOptions,\n",
    "    RapidOcrOptions,\n",
    "    OcrOptions\n",
    ")"
   ]
  },
  {
   "cell_type": "code",
   "execution_count": 3,
   "metadata": {},
   "outputs": [],
   "source": [
    "import base64\n",
    "\n",
    "def encode_image(image_path):\n",
    "\twith open(image_path, \"rb\") as image_file:\n",
    "\t\treturn base64.b64encode(image_file.read()).decode('utf-8')"
   ]
  },
  {
   "cell_type": "code",
   "execution_count": 5,
   "metadata": {},
   "outputs": [],
   "source": [
    "# args\n",
    "# https://github.com/RapidAI/RapidOCR/blob/fecad1f7882bd4bf6916f709dfdb8889c3c9e9af/python/rapidocr_paddle/utils/parse_parameters.py#L23\n",
    "# RapidOCR\n",
    "# https://rapidai.github.io/RapidOCRDocs/install_usage/api/RapidOCR/#__init__-source\n",
    "# https://github.com/RapidAI/RapidOCR/blob/main/python/rapidocr_paddle/main.py\n",
    "reader = RapidOCR(\n",
    "    # no_rec = True,\n",
    "    use_rec = True,\n",
    "    rec_model_path=\"/Users/id4thomas/models/docling/paddle/korean_PP-OCRv4_rec_infer/model.onnx\",\n",
    "    rec_keys_path=\"/Users/id4thomas/models/docling/paddle/korean_PP-OCRv4_rec_infer/korean_dict.txt\",\n",
    "    \n",
    "    \n",
    "    # rec_model_path=\"/home/users/yrsong/research/2501-01-doc-parsing/models/mineru/pdf-extract-kit/models/OCR/PaddleOCR/rec/ch_PP-OCRv4_rec/inference.pdmodel\"\n",
    "    # text_score=0.4,\n",
    "    # rec_model_path=\"/home/users/yrsong/research/2501-01-doc-parsing/models/docling/ch_PP-OCRv4_rec_server_infer.onnx\",\n",
    "    # rec_model_path=\"/home/users/yrsong/research/2501-01-doc-parsing/models/docling/rec/korean_PP-OCRv3_rec_infer\",\n",
    "    # rec_keys_path=\"/home/users/yrsong/research/2501-01-doc-parsing/models/docling/rec/korean_PP-OCRv3_rec_infer/korean_dict.txt\",\n",
    "    # rec_use_cuda=True\n",
    "    # rec_use_cuda=False\n",
    ")"
   ]
  },
  {
   "cell_type": "code",
   "execution_count": 6,
   "metadata": {},
   "outputs": [],
   "source": [
    "img_path = 'results/docling/ai_parl_3/figure_export_without_table_structure/ai_parl_3-1.png'\n",
    "result, elapse = reader(img_path)"
   ]
  },
  {
   "cell_type": "code",
   "execution_count": 7,
   "metadata": {},
   "outputs": [
    {
     "data": {
      "text/plain": [
       "[[[[711.0, 83.0], [1124.0, 85.0], [1124.0, 108.0], [711.0, 106.0]],\n",
       "  '국회도서관|2023112812023-25호통권제237회',\n",
       "  0.9693812211354573],\n",
       " [[[813.0, 130.0], [1124.0, 130.0], [1124.0, 170.0], [813.0, 170.0]],\n",
       "  '최신외국입법정보',\n",
       "  0.9986552894115448],\n",
       " [[[1032.0, 453.0], [1128.0, 453.0], [1128.0, 484.0], [1032.0, 484.0]],\n",
       "  '콩음은',\n",
       "  0.8674750725428263],\n",
       " [[[128.0, 604.0], [1067.0, 605.0], [1067.0, 633.0], [128.0, 632.0]],\n",
       "  'IY h션 百ㄹn lo記 [Y弓 곤싱 [Y눌 百l_눕z百 룸표記 Io롱s 弓czoz',\n",
       "  0.5870448113014193],\n",
       " [[[150.0, 647.0], [1066.0, 647.0], [1066.0, 676.0], [150.0, 676.0]],\n",
       "  '인구중3%에해당하는약152만5천명이고독사위험군으로추정되고있다고독사의',\n",
       "  0.9995844444713077],\n",
       " [[[149.0, 690.0], [1067.0, 690.0], [1067.0, 716.0], [149.0, 716.0]],\n",
       "  '주요원인으로청장년층은경제적문제와정서적불안70대이상노인층은정서적불안과',\n",
       "  0.99955903678327],\n",
       " [[[151.0, 732.0], [525.0, 732.0], [525.0, 758.0], [151.0, 758.0]],\n",
       "  '건강문제가가장큰것으로나타났다',\n",
       "  0.9998569250106811],\n",
       " [[[136.0, 816.0], [1065.0, 816.0], [1065.0, 842.0], [136.0, 842.0]],\n",
       "  '우리나라는2021년4월에고독사예방및관리에관한법률]을제정하고이를근거로하여',\n",
       "  0.9972032996324393],\n",
       " [[[147.0, 856.0], [1067.0, 857.0], [1067.0, 886.0], [147.0, 885.0]],\n",
       "  'D之 허Y눌之 z `h탕 퍼olY 릉 lo [Y눌之 o心 I l百lX{zlZ [z',\n",
       "  0.5823579161531396],\n",
       " [[[150.0, 901.0], [1066.0, 901.0], [1066.0, 926.0], [150.0, 926.0]],\n",
       "  'Z울릉곱 렌융lY 正 HElob늉  곱貞 극川百요 성 Io記 릉콩 ',\n",
       "  0.5903003213020999],\n",
       " [[[150.0, 942.0], [674.0, 942.0], [674.0, 968.0], [150.0, 968.0]],\n",
       "  '생사확인등에머물고있다는지적이제기되고있다',\n",
       "  0.9997838253066653],\n",
       " [[[140.0, 1025.0], [1068.0, 1025.0], [1068.0, 1053.0], [140.0, 1053.0]],\n",
       "  'Iz- loh오 lbl lY08 tE국 lblo lY09 Ho성 릉읍lb IY눌건 a百hyo0z 극y은죠',\n",
       "  0.7306796922509012],\n",
       " [[[151.0, 1068.0], [1066.0, 1068.0], [1066.0, 1094.0], [151.0, 1094.0]],\n",
       "  \"생활하며정서적교류가가능한'세대간동거계약'제도를시행하고있다특히이제도를\",\n",
       "  0.9887246312321843],\n",
       " [[[149.0, 1110.0], [1067.0, 1110.0], [1067.0, 1136.0], [149.0, 1136.0]],\n",
       "  \"흐[z0l-8lOz 弓z 弓[l 8lOz 丘 를룹 록Z 弓_h 옴 룹 '뉴] E百h8lOz\",\n",
       "  0.6219244651123881],\n",
       " [[[147.0, 1192.0], [333.0, 1192.0], [333.0, 1221.0], [147.0, 1221.0]],\n",
       "  '될수있을것이다',\n",
       "  0.9997162563460213],\n",
       " [[[126.0, 1311.0], [788.0, 1312.0], [788.0, 1338.0], [126.0, 1337.0]],\n",
       "  \"롱'st9szoz'후8v6D롤顚뤄군Iol군帝oIY눌롤性군|\",\n",
       "  0.6487789020175114],\n",
       " [[[126.0, 1349.0], [203.0, 1349.0], [203.0, 1374.0], [126.0, 1374.0]],\n",
       "  'I주제어',\n",
       "  0.8869810700416565],\n",
       " [[[247.0, 1348.0], [967.0, 1349.0], [967.0, 1375.0], [247.0, 1374.0]],\n",
       "  '고독사/고독사예방/E[AN법률/세대간동거계약/세대간동거계약중개협회/쁘띠서비스',\n",
       "  0.9664620863539832],\n",
       " [[[66.0, 1529.0], [215.0, 1529.0], [215.0, 1556.0], [66.0, 1556.0]],\n",
       "  '발행처국회도서관',\n",
       "  0.9997583329677582],\n",
       " [[[67.0, 1562.0], [288.0, 1562.0], [288.0, 1588.0], [67.0, 1588.0]],\n",
       "  '요균후논릿o공우료',\n",
       "  0.5891500984628996],\n",
       " [[[966.0, 1556.0], [1125.0, 1558.0], [1124.0, 1595.0], [965.0, 1592.0]],\n",
       "  '국회도서관',\n",
       "  0.9998313426971436],\n",
       " [[[67.0, 1594.0], [723.0, 1594.0], [723.0, 1619.0], [67.0, 1619.0]],\n",
       "  \"6L-88_9-_0'Hy」Y오퍼롤反百오롤深논르百金롤深而記X뇨\",\n",
       "  0.5331955343259104],\n",
       " [[[968.0, 1597.0], [1123.0, 1597.0], [1123.0, 1614.0], [968.0, 1614.0]],\n",
       "  'NATIONAL ASSEMBLY LIBRARY',\n",
       "  0.999017276763916]]"
      ]
     },
     "execution_count": 7,
     "metadata": {},
     "output_type": "execute_result"
    }
   ],
   "source": [
    "result"
   ]
  },
  {
   "cell_type": "code",
   "execution_count": 8,
   "metadata": {},
   "outputs": [
    {
     "name": "stdout",
     "output_type": "stream",
     "text": [
      "[[[711.0, 83.0], [1124.0, 85.0], [1124.0, 108.0], [711.0, 106.0]], '국회도서관|2023112812023-25호통권제237회', 0.9693812211354573]\n",
      "[[711.0, 83.0], [1124.0, 85.0], [1124.0, 108.0], [711.0, 106.0]]\n",
      "국회도서관|2023112812023-25호통권제237회\n",
      "0.9693812211354573\n"
     ]
    }
   ],
   "source": [
    "'''[\n",
    "    [boundingbox coordinates, text, score]\n",
    "]\n",
    "'''\n",
    "print(result[0])\n",
    "print(result[0][0])\n",
    "print(result[0][1])\n",
    "print(result[0][2])"
   ]
  },
  {
   "cell_type": "code",
   "execution_count": 9,
   "metadata": {},
   "outputs": [
    {
     "name": "stdout",
     "output_type": "stream",
     "text": [
      "[[[128.0, 604.0], [1067.0, 605.0], [1067.0, 633.0], [128.0, 632.0]], 'IY h션 百ㄹn lo記 [Y弓 곤싱 [Y눌 百l_눕z百 룸표記 Io롱s 弓czoz', 0.5870448113014193]\n"
     ]
    },
    {
     "ename": "TypeError",
     "evalue": "'float' object is not subscriptable",
     "output_type": "error",
     "traceback": [
      "\u001b[0;31m---------------------------------------------------------------------------\u001b[0m",
      "\u001b[0;31mTypeError\u001b[0m                                 Traceback (most recent call last)",
      "Cell \u001b[0;32mIn[9], line 7\u001b[0m\n\u001b[1;32m      4\u001b[0m bounding_box_points \u001b[38;5;241m=\u001b[39m result[\u001b[38;5;241m3\u001b[39m]\n\u001b[1;32m      5\u001b[0m \u001b[38;5;28mprint\u001b[39m(bounding_box_points)\n\u001b[0;32m----> 7\u001b[0m x_coords \u001b[38;5;241m=\u001b[39m [point[\u001b[38;5;241m0\u001b[39m] \u001b[38;5;28;01mfor\u001b[39;00m point \u001b[38;5;129;01min\u001b[39;00m bounding_box_points]\n\u001b[1;32m      8\u001b[0m y_coords \u001b[38;5;241m=\u001b[39m [point[\u001b[38;5;241m1\u001b[39m] \u001b[38;5;28;01mfor\u001b[39;00m point \u001b[38;5;129;01min\u001b[39;00m bounding_box_points]\n\u001b[1;32m     10\u001b[0m min_x, max_x \u001b[38;5;241m=\u001b[39m \u001b[38;5;28mint\u001b[39m(\u001b[38;5;28mmin\u001b[39m(x_coords)), \u001b[38;5;28mint\u001b[39m(\u001b[38;5;28mmax\u001b[39m(x_coords))\n",
      "Cell \u001b[0;32mIn[9], line 7\u001b[0m, in \u001b[0;36m<listcomp>\u001b[0;34m(.0)\u001b[0m\n\u001b[1;32m      4\u001b[0m bounding_box_points \u001b[38;5;241m=\u001b[39m result[\u001b[38;5;241m3\u001b[39m]\n\u001b[1;32m      5\u001b[0m \u001b[38;5;28mprint\u001b[39m(bounding_box_points)\n\u001b[0;32m----> 7\u001b[0m x_coords \u001b[38;5;241m=\u001b[39m [\u001b[43mpoint\u001b[49m\u001b[43m[\u001b[49m\u001b[38;5;241;43m0\u001b[39;49m\u001b[43m]\u001b[49m \u001b[38;5;28;01mfor\u001b[39;00m point \u001b[38;5;129;01min\u001b[39;00m bounding_box_points]\n\u001b[1;32m      8\u001b[0m y_coords \u001b[38;5;241m=\u001b[39m [point[\u001b[38;5;241m1\u001b[39m] \u001b[38;5;28;01mfor\u001b[39;00m point \u001b[38;5;129;01min\u001b[39;00m bounding_box_points]\n\u001b[1;32m     10\u001b[0m min_x, max_x \u001b[38;5;241m=\u001b[39m \u001b[38;5;28mint\u001b[39m(\u001b[38;5;28mmin\u001b[39m(x_coords)), \u001b[38;5;28mint\u001b[39m(\u001b[38;5;28mmax\u001b[39m(x_coords))\n",
      "\u001b[0;31mTypeError\u001b[0m: 'float' object is not subscriptable"
     ]
    }
   ],
   "source": [
    "## Load Image\n",
    "image = Image.open(img_path)\n",
    "\n",
    "bounding_box_points = result[3]\n",
    "print(bounding_box_points)\n",
    "\n",
    "x_coords = [point[0] for point in bounding_box_points]\n",
    "y_coords = [point[1] for point in bounding_box_points]\n",
    "\n",
    "min_x, max_x = int(min(x_coords)), int(max(x_coords))\n",
    "min_y, max_y = int(min(y_coords)), int(max(y_coords))\n",
    "\n",
    "cropped_image = image.crop((min_x, min_y, max_x, max_y))\n",
    "\n",
    "plt.imshow(cropped_image)\n",
    "plt.axis(\"off\")  # Hide axis for better visualization\n",
    "plt.show()"
   ]
  },
  {
   "cell_type": "markdown",
   "metadata": {},
   "source": [
    "# OpenAI Version"
   ]
  },
  {
   "cell_type": "code",
   "execution_count": null,
   "metadata": {},
   "outputs": [],
   "source": [
    "from typing import Any, Dict\n",
    "\n",
    "class OpenAIVLMOcrOptions(OcrOptions):\n",
    "    openai_base_url: str\n",
    "    openai_api_key: str\n",
    "    model: str\n",
    "    system_prompt: str\n",
    "    user_prompt: str\n",
    "    generation_configs: Dict[str, Any]"
   ]
  },
  {
   "cell_type": "code",
   "execution_count": null,
   "metadata": {},
   "outputs": [],
   "source": [
    "from docling.models.base_ocr_model import BaseOcrModel\n",
    "\n",
    "class OpenAIVLMOcrModel(BaseOcrModel):\n",
    "    pass"
   ]
  }
 ],
 "metadata": {
  "kernelspec": {
   "display_name": "docling",
   "language": "python",
   "name": "docling"
  },
  "language_info": {
   "codemirror_mode": {
    "name": "ipython",
    "version": 3
   },
   "file_extension": ".py",
   "mimetype": "text/x-python",
   "name": "python",
   "nbconvert_exporter": "python",
   "pygments_lexer": "ipython3",
   "version": "3.10.14"
  }
 },
 "nbformat": 4,
 "nbformat_minor": 2
}
