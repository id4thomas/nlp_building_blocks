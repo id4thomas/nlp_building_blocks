{
 "cells": [
  {
   "cell_type": "code",
   "execution_count": 1,
   "metadata": {},
   "outputs": [],
   "source": [
    "from pydantic_settings import BaseSettings, SettingsConfigDict\n",
    "\n",
    "class Settings(BaseSettings):\n",
    "    model_config = SettingsConfigDict(\n",
    "        env_file=\"../.env\", env_file_encoding=\"utf-8\", extra=\"ignore\"\n",
    "    )\n",
    "    docling_model_dir: str\n",
    "settings = Settings()"
   ]
  },
  {
   "cell_type": "code",
   "execution_count": 2,
   "metadata": {},
   "outputs": [],
   "source": [
    "import json\n",
    "import os\n",
    "from pathlib import Path\n",
    "import time\n",
    "\n",
    "os.environ[\"HF_HOME\"] = settings.docling_model_dir\n",
    "\n",
    "from docling.document_converter import DocumentConverter"
   ]
  },
  {
   "cell_type": "code",
   "execution_count": 23,
   "metadata": {},
   "outputs": [],
   "source": [
    "# source = \"https://arxiv.org/pdf/2408.09869\"  # document per local path or URL\n",
    "\n",
    "fname = \"1706.03762v7\"\n",
    "fname = \"ai_parl_2\" # 국회도서관 문서 - 이미지 PDF\n",
    "fname = \"ai_parl_3\" # 국회도서관 문서 - 텍스트 PDF\n",
    "\n",
    "source = f\"samples/{fname}.pdf\" # attention is all you need\n",
    "\n",
    "result_dir = f\"results/docling/{fname}\"\n",
    "if not os.path.exists(result_dir):\n",
    "    os.makedirs(result_dir)"
   ]
  },
  {
   "cell_type": "markdown",
   "metadata": {},
   "source": [
    "# 1. Simple Conversion"
   ]
  },
  {
   "cell_type": "code",
   "execution_count": 24,
   "metadata": {},
   "outputs": [],
   "source": [
    "converter = DocumentConverter()"
   ]
  },
  {
   "cell_type": "code",
   "execution_count": 25,
   "metadata": {},
   "outputs": [
    {
     "name": "stderr",
     "output_type": "stream",
     "text": [
      "WARNING: content stream objects stream 746 0 (content, offset 11097): parse error while reading object\n",
      "WARNING: content stream objects stream 747 0 (content, offset 4): unexpected dictionary close token\n"
     ]
    }
   ],
   "source": [
    "result = converter.convert(source)"
   ]
  },
  {
   "cell_type": "code",
   "execution_count": 26,
   "metadata": {},
   "outputs": [
    {
     "name": "stdout",
     "output_type": "stream",
     "text": [
      "<!-- image -->\n",
      "\n",
      "<!-- image -->\n",
      "\n",
      "## 프랑스의 고독사 예방을 위한 세대 간 동거계약 입법례\n",
      "\n",
      "## 강 명 원\n",
      "\n",
      "- ◆   2023년 5월에 발표된 보건복지부 고독사 위험군 실태조사 결과에 따르면 우리나라 전체  인구 중 3%에 해당하는 약 152만 5천 명이 고독사 위험군으로 추정되고 있다. 고독사의  주요 원인으로 청·장년층은 경제적 문제와 정서적 불안, 70대 이상 노인층은 정서적 불안과  건강 문제가 가장 큰 것으로 나타났다.\n",
      "- ◆   우리나라는 2021년 4월에 「고독사 예방 및 관리에 관한 법률」\n"
     ]
    }
   ],
   "source": [
    "## Markdown\n",
    "print(result.document.export_to_markdown()[:300]) "
   ]
  },
  {
   "cell_type": "code",
   "execution_count": 27,
   "metadata": {},
   "outputs": [
    {
     "name": "stdout",
     "output_type": "stream",
     "text": [
      "dict_keys(['schema_name', 'version', 'name', 'origin', 'furniture', 'body', 'groups', 'texts', 'pictures', 'tables', 'key_value_items', 'pages'])\n"
     ]
    }
   ],
   "source": [
    "converted_dict = result.document.export_to_dict()\n",
    "print(converted_dict.keys())\n",
    "with open(os.path.join(result_dir, \"result.json\"), \"w\") as f:\n",
    "    f.write(json.dumps(converted_dict, indent = \"\\t\"))"
   ]
  },
  {
   "cell_type": "markdown",
   "metadata": {},
   "source": [
    "# 2. Docling-V2\n",
    "* https://ds4sd.github.io/docling/v2/#setting-up-a-documentconverter\n",
    "\n",
    "API Docs\n",
    "* https://ds4sd.github.io/docling/reference/document_converter/"
   ]
  },
  {
   "cell_type": "code",
   "execution_count": 28,
   "metadata": {},
   "outputs": [],
   "source": [
    "from docling.document_converter import DocumentConverter\n",
    "from docling.datamodel.base_models import InputFormat\n",
    "from docling.document_converter import (\n",
    "    DocumentConverter,\n",
    "    PdfFormatOption,\n",
    "    WordFormatOption,\n",
    ")\n",
    "from docling.pipeline.simple_pipeline import SimplePipeline\n",
    "from docling.pipeline.standard_pdf_pipeline import StandardPdfPipeline\n",
    "from docling.datamodel.pipeline_options import PdfPipelineOptions\n",
    "from docling.backend.pypdfium2_backend import PyPdfiumDocumentBackend"
   ]
  },
  {
   "cell_type": "code",
   "execution_count": 29,
   "metadata": {},
   "outputs": [],
   "source": [
    "pipeline_options = PdfPipelineOptions()\n",
    "pipeline_options.do_ocr = False\n",
    "pipeline_options.do_table_structure = True"
   ]
  },
  {
   "cell_type": "code",
   "execution_count": 30,
   "metadata": {},
   "outputs": [],
   "source": [
    "doc_converter = (\n",
    "    DocumentConverter(  # all of the below is optional, has internal defaults.\n",
    "        allowed_formats=[\n",
    "            InputFormat.PDF,\n",
    "            # InputFormat.IMAGE,\n",
    "            # InputFormat.DOCX,\n",
    "            # InputFormat.HTML,\n",
    "            # InputFormat.PPTX,\n",
    "        ],  # whitelist formats, non-matching files are ignored.\n",
    "        format_options={\n",
    "            InputFormat.PDF: PdfFormatOption(\n",
    "                pipeline_options=pipeline_options, # pipeline options go here.\n",
    "                backend=PyPdfiumDocumentBackend # optional: pick an alternative backend\n",
    "            ),\n",
    "            # InputFormat.DOCX: WordFormatOption(\n",
    "            #     pipeline_cls=SimplePipeline # default for office formats and HTML\n",
    "            # ),\n",
    "        },\n",
    "    )\n",
    ")"
   ]
  },
  {
   "cell_type": "markdown",
   "metadata": {},
   "source": [
    "## Figure Export Without Table Structure\n",
    "* https://ds4sd.github.io/docling/examples/export_figures/\n",
    "\n",
    "\n",
    "Treating table as image\n",
    "* https://github.com/DS4SD/docling/issues/590"
   ]
  },
  {
   "cell_type": "code",
   "execution_count": 31,
   "metadata": {},
   "outputs": [],
   "source": [
    "result_dir = f\"results/docling/{fname}/figure_export_without_table_structure\"\n",
    "if not os.path.exists(result_dir):\n",
    "    os.makedirs(result_dir)\n",
    "\n",
    "result_dir = Path(result_dir)"
   ]
  },
  {
   "cell_type": "code",
   "execution_count": 32,
   "metadata": {},
   "outputs": [],
   "source": [
    "from docling_core.types.doc import ImageRefMode, PictureItem, TableItem"
   ]
  },
  {
   "cell_type": "code",
   "execution_count": 33,
   "metadata": {},
   "outputs": [],
   "source": [
    "IMAGE_RESOLUTION_SCALE = 2.0\n",
    "\n",
    "pipeline_options = PdfPipelineOptions()\n",
    "pipeline_options.images_scale = IMAGE_RESOLUTION_SCALE\n",
    "pipeline_options.generate_page_images = True\n",
    "pipeline_options.generate_picture_images = True\n",
    "pipeline_options.do_table_structure = False ## Don't Parse Table\n",
    "\n",
    "doc_converter = DocumentConverter(\n",
    "    format_options={\n",
    "        InputFormat.PDF: PdfFormatOption(pipeline_options=pipeline_options)\n",
    "    }\n",
    ")"
   ]
  },
  {
   "cell_type": "code",
   "execution_count": 34,
   "metadata": {},
   "outputs": [
    {
     "name": "stderr",
     "output_type": "stream",
     "text": [
      "WARNING: content stream objects stream 746 0 (content, offset 11097): parse error while reading object\n",
      "WARNING: content stream objects stream 747 0 (content, offset 4): unexpected dictionary close token\n"
     ]
    },
    {
     "name": "stdout",
     "output_type": "stream",
     "text": [
      "Converted in 6.332\n"
     ]
    }
   ],
   "source": [
    "start = time.time()\n",
    "conv_res = doc_converter.convert(source)\n",
    "end = time.time()\n",
    "print(\"Converted in {:.3f}\".format(end-start))"
   ]
  },
  {
   "cell_type": "code",
   "execution_count": 35,
   "metadata": {},
   "outputs": [],
   "source": [
    "doc_filename = conv_res.input.file.stem\n",
    "# Save page images\n",
    "for page_no, page in conv_res.document.pages.items():\n",
    "    page_no = page.page_no\n",
    "    page_image_filename = result_dir / f\"{doc_filename}-{page_no}.png\"\n",
    "    with page_image_filename.open(\"wb\") as fp:\n",
    "        page.image.pil_image.save(fp, format=\"PNG\")"
   ]
  },
  {
   "cell_type": "code",
   "execution_count": 36,
   "metadata": {},
   "outputs": [],
   "source": [
    "table_counter = 0\n",
    "picture_counter = 0\n",
    "for element, _level in conv_res.document.iterate_items():\n",
    "    if isinstance(element, TableItem):\n",
    "        table_counter += 1\n",
    "        element_image_filename = (\n",
    "            result_dir / f\"{doc_filename}-table-{table_counter}.png\"\n",
    "        )\n",
    "        with element_image_filename.open(\"wb\") as fp:\n",
    "            element.get_image(conv_res.document).save(fp, \"PNG\")\n",
    "\n",
    "    if isinstance(element, PictureItem):\n",
    "        picture_counter += 1\n",
    "        element_image_filename = (\n",
    "            result_dir / f\"{doc_filename}-picture-{picture_counter}.png\"\n",
    "        )\n",
    "        with element_image_filename.open(\"wb\") as fp:\n",
    "            element.get_image(conv_res.document).save(fp, \"PNG\")"
   ]
  },
  {
   "cell_type": "code",
   "execution_count": 37,
   "metadata": {},
   "outputs": [
    {
     "data": {
      "text/plain": [
       "docling_core.types.doc.document.DoclingDocument"
      ]
     },
     "execution_count": 37,
     "metadata": {},
     "output_type": "execute_result"
    }
   ],
   "source": [
    "# docling_core.types.doc.document.DoclingDocument\n",
    "# https://github.com/DS4SD/docling-core/blob/127dd2f6f8862e2c74f821cdb3a1995ee0a243cc/docling_core/types/doc/document.py#L1323\n",
    "type(conv_res.document)"
   ]
  },
  {
   "cell_type": "code",
   "execution_count": 38,
   "metadata": {},
   "outputs": [],
   "source": [
    "# Save markdown with externally referenced pictures\n",
    "md_filename = result_dir / f\"{doc_filename}-with-image-refs.md\"\n",
    "\n",
    "# https://github.com/DS4SD/docling-core/blob/127dd2f6f8862e2c74f821cdb3a1995ee0a243cc/docling_core/types/doc/document.py#L1936\n",
    "conv_res.document.save_as_markdown(\n",
    "    md_filename,\n",
    "    image_mode=ImageRefMode.REFERENCED\n",
    ")"
   ]
  },
  {
   "cell_type": "code",
   "execution_count": 39,
   "metadata": {},
   "outputs": [
    {
     "name": "stdout",
     "output_type": "stream",
     "text": [
      "dict_keys(['schema_name', 'version', 'name', 'origin', 'furniture', 'body', 'groups', 'texts', 'pictures', 'tables', 'key_value_items', 'pages'])\n"
     ]
    }
   ],
   "source": [
    "## Dump DoclingDocument\n",
    "converted_dict = conv_res.document.export_to_dict()\n",
    "print(converted_dict.keys())\n",
    "with open(result_dir / f\"{doc_filename}-with-image-refs.json\", \"w\") as f:\n",
    "    f.write(json.dumps(converted_dict, indent = \"\\t\"))"
   ]
  },
  {
   "cell_type": "code",
   "execution_count": 40,
   "metadata": {},
   "outputs": [
    {
     "data": {
      "text/plain": [
       "[RefItem(cref='#/pictures/0'),\n",
       " RefItem(cref='#/pictures/1'),\n",
       " RefItem(cref='#/texts/2'),\n",
       " RefItem(cref='#/texts/3'),\n",
       " RefItem(cref='#/groups/0'),\n",
       " RefItem(cref='#/groups/1'),\n",
       " RefItem(cref='#/texts/11'),\n",
       " RefItem(cref='#/pictures/2'),\n",
       " RefItem(cref='#/texts/12'),\n",
       " RefItem(cref='#/texts/13'),\n",
       " RefItem(cref='#/texts/14'),\n",
       " RefItem(cref='#/groups/2'),\n",
       " RefItem(cref='#/texts/19'),\n",
       " RefItem(cref='#/texts/20'),\n",
       " RefItem(cref='#/groups/3'),\n",
       " RefItem(cref='#/texts/22'),\n",
       " RefItem(cref='#/texts/23'),\n",
       " RefItem(cref='#/texts/24'),\n",
       " RefItem(cref='#/texts/25'),\n",
       " RefItem(cref='#/groups/4')]"
      ]
     },
     "execution_count": 40,
     "metadata": {},
     "output_type": "execute_result"
    }
   ],
   "source": [
    "conv_res.document.body.children[:20]"
   ]
  },
  {
   "cell_type": "code",
   "execution_count": 41,
   "metadata": {},
   "outputs": [
    {
     "data": {
      "text/plain": [
       "[RefItem(cref='#/texts/4'),\n",
       " RefItem(cref='#/texts/5'),\n",
       " RefItem(cref='#/texts/6')]"
      ]
     },
     "execution_count": 41,
     "metadata": {},
     "output_type": "execute_result"
    }
   ],
   "source": [
    "conv_res.document.groups[0].children"
   ]
  },
  {
   "cell_type": "code",
   "execution_count": 42,
   "metadata": {},
   "outputs": [
    {
     "data": {
      "text/plain": [
       "TextItem(self_ref='#/texts/7', parent=RefItem(cref='#/groups/1'), children=[], label=<DocItemLabel.TEXT: 'text'>, prov=[ProvenanceItem(page_no=1, bbox=BoundingBox(l=63.029000103400385, t=186.97300325323067, r=111.44900018283438, b=172.95300300929011, coord_origin=<CoordOrigin.BOTTOMLEFT: 'BOTTOMLEFT'>), charspan=(0, 8))], orig='| \\x07관련\\x07법률', text='| \\x07관련\\x07법률')"
      ]
     },
     "execution_count": 42,
     "metadata": {},
     "output_type": "execute_result"
    }
   ],
   "source": [
    "conv_res.document.texts[7]"
   ]
  }
 ],
 "metadata": {
  "kernelspec": {
   "display_name": "docling",
   "language": "python",
   "name": "docling"
  },
  "language_info": {
   "codemirror_mode": {
    "name": "ipython",
    "version": 3
   },
   "file_extension": ".py",
   "mimetype": "text/x-python",
   "name": "python",
   "nbconvert_exporter": "python",
   "pygments_lexer": "ipython3",
   "version": "3.10.14"
  }
 },
 "nbformat": 4,
 "nbformat_minor": 2
}
