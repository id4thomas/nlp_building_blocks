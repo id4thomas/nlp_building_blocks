{
 "cells": [
  {
   "cell_type": "code",
   "execution_count": 1,
   "metadata": {},
   "outputs": [],
   "source": [
    "from pydantic_settings import BaseSettings, SettingsConfigDict\n",
    "\n",
    "class Settings(BaseSettings):\n",
    "    model_config = SettingsConfigDict(\n",
    "        env_file=\"../.env\", env_file_encoding=\"utf-8\", extra=\"ignore\"\n",
    "    )\n",
    "    docling_model_dir: str\n",
    "settings = Settings()"
   ]
  },
  {
   "cell_type": "code",
   "execution_count": 19,
   "metadata": {},
   "outputs": [],
   "source": [
    "import json\n",
    "import os\n",
    "from pathlib import Path\n",
    "import time\n",
    "\n",
    "os.environ[\"HF_HOME\"] = settings.docling_model_dir\n",
    "\n",
    "from docling.document_converter import DocumentConverter"
   ]
  },
  {
   "cell_type": "code",
   "execution_count": 7,
   "metadata": {},
   "outputs": [],
   "source": [
    "# source = \"https://arxiv.org/pdf/2408.09869\"  # document per local path or URL\n",
    "\n",
    "fname = \"1706.03762v7\"\n",
    "source = f\"samples/{fname}.pdf\" # attention is all you need\n",
    "\n",
    "result_dir = f\"results/docling/{fname}\"\n",
    "if not os.path.exists(result_dir):\n",
    "    os.makedirs(result_dir)"
   ]
  },
  {
   "cell_type": "markdown",
   "metadata": {},
   "source": [
    "# 1. Simple Conversion"
   ]
  },
  {
   "cell_type": "code",
   "execution_count": 4,
   "metadata": {},
   "outputs": [],
   "source": [
    "converter = DocumentConverter()"
   ]
  },
  {
   "cell_type": "code",
   "execution_count": 5,
   "metadata": {},
   "outputs": [],
   "source": [
    "result = converter.convert(source)"
   ]
  },
  {
   "cell_type": "code",
   "execution_count": 14,
   "metadata": {},
   "outputs": [
    {
     "name": "stdout",
     "output_type": "stream",
     "text": [
      "Provided proper attribution is provided, Google hereby grants permission to reproduce the tables and figures in this paper solely for use in journalistic or scholarly works.\n",
      "\n",
      "## Attention Is All You Need\n",
      "\n",
      "Ashish Vaswani ∗ Google Brain avaswani@google.com\n",
      "\n",
      "Noam Shazeer ∗ Google Brain noam@google.com\n",
      "\n"
     ]
    }
   ],
   "source": [
    "## Markdown\n",
    "print(result.document.export_to_markdown()[:300]) "
   ]
  },
  {
   "cell_type": "code",
   "execution_count": 10,
   "metadata": {},
   "outputs": [
    {
     "name": "stdout",
     "output_type": "stream",
     "text": [
      "dict_keys(['schema_name', 'version', 'name', 'origin', 'furniture', 'body', 'groups', 'texts', 'pictures', 'tables', 'key_value_items', 'pages'])\n"
     ]
    }
   ],
   "source": [
    "converted_dict = result.document.export_to_dict()\n",
    "print(converted_dict.keys())\n",
    "with open(os.path.join(result_dir, \"result.json\"), \"w\") as f:\n",
    "    f.write(json.dumps(converted_dict, indent = \"\\t\"))"
   ]
  },
  {
   "cell_type": "markdown",
   "metadata": {},
   "source": [
    "# 2. Docling-V2\n",
    "* https://ds4sd.github.io/docling/v2/#setting-up-a-documentconverter\n",
    "\n",
    "API Docs\n",
    "* https://ds4sd.github.io/docling/reference/document_converter/"
   ]
  },
  {
   "cell_type": "code",
   "execution_count": 15,
   "metadata": {},
   "outputs": [],
   "source": [
    "from docling.document_converter import DocumentConverter\n",
    "from docling.datamodel.base_models import InputFormat\n",
    "from docling.document_converter import (\n",
    "    DocumentConverter,\n",
    "    PdfFormatOption,\n",
    "    WordFormatOption,\n",
    ")\n",
    "from docling.pipeline.simple_pipeline import SimplePipeline\n",
    "from docling.pipeline.standard_pdf_pipeline import StandardPdfPipeline\n",
    "from docling.datamodel.pipeline_options import PdfPipelineOptions\n",
    "from docling.backend.pypdfium2_backend import PyPdfiumDocumentBackend"
   ]
  },
  {
   "cell_type": "code",
   "execution_count": null,
   "metadata": {},
   "outputs": [],
   "source": [
    "pipeline_options = PdfPipelineOptions()\n",
    "pipeline_options.do_ocr = False\n",
    "pipeline_options.do_table_structure = True"
   ]
  },
  {
   "cell_type": "code",
   "execution_count": null,
   "metadata": {},
   "outputs": [],
   "source": [
    "doc_converter = (\n",
    "    DocumentConverter(  # all of the below is optional, has internal defaults.\n",
    "        allowed_formats=[\n",
    "            InputFormat.PDF,\n",
    "            # InputFormat.IMAGE,\n",
    "            # InputFormat.DOCX,\n",
    "            # InputFormat.HTML,\n",
    "            # InputFormat.PPTX,\n",
    "        ],  # whitelist formats, non-matching files are ignored.\n",
    "        format_options={\n",
    "            InputFormat.PDF: PdfFormatOption(\n",
    "                pipeline_options=pipeline_options, # pipeline options go here.\n",
    "                backend=PyPdfiumDocumentBackend # optional: pick an alternative backend\n",
    "            ),\n",
    "            # InputFormat.DOCX: WordFormatOption(\n",
    "            #     pipeline_cls=SimplePipeline # default for office formats and HTML\n",
    "            # ),\n",
    "        },\n",
    "    )\n",
    ")"
   ]
  },
  {
   "cell_type": "markdown",
   "metadata": {},
   "source": [
    "## Figure Export Without Table Structure\n",
    "* https://ds4sd.github.io/docling/examples/export_figures/\n",
    "\n",
    "\n",
    "Treating table as image\n",
    "* https://github.com/DS4SD/docling/issues/590"
   ]
  },
  {
   "cell_type": "code",
   "execution_count": 27,
   "metadata": {},
   "outputs": [],
   "source": [
    "result_dir = f\"results/docling/{fname}/figure_export_without_table_structure\"\n",
    "if not os.path.exists(result_dir):\n",
    "    os.makedirs(result_dir)\n",
    "\n",
    "result_dir = Path(result_dir)"
   ]
  },
  {
   "cell_type": "code",
   "execution_count": 28,
   "metadata": {},
   "outputs": [],
   "source": [
    "from docling_core.types.doc import ImageRefMode, PictureItem, TableItem"
   ]
  },
  {
   "cell_type": "code",
   "execution_count": 29,
   "metadata": {},
   "outputs": [],
   "source": [
    "IMAGE_RESOLUTION_SCALE = 2.0\n",
    "\n",
    "pipeline_options = PdfPipelineOptions()\n",
    "pipeline_options.images_scale = IMAGE_RESOLUTION_SCALE\n",
    "pipeline_options.generate_page_images = True\n",
    "pipeline_options.generate_picture_images = True\n",
    "pipeline_options.do_table_structure = False ## Don't Parse Table\n",
    "\n",
    "doc_converter = DocumentConverter(\n",
    "    format_options={\n",
    "        InputFormat.PDF: PdfFormatOption(pipeline_options=pipeline_options)\n",
    "    }\n",
    ")"
   ]
  },
  {
   "cell_type": "code",
   "execution_count": 30,
   "metadata": {},
   "outputs": [
    {
     "name": "stdout",
     "output_type": "stream",
     "text": [
      "Converted in 15.882\n"
     ]
    }
   ],
   "source": [
    "start = time.time()\n",
    "conv_res = doc_converter.convert(source)\n",
    "end = time.time()\n",
    "print(\"Converted in {:.3f}\".format(end-start))"
   ]
  },
  {
   "cell_type": "code",
   "execution_count": 31,
   "metadata": {},
   "outputs": [],
   "source": [
    "doc_filename = conv_res.input.file.stem\n",
    "# Save page images\n",
    "for page_no, page in conv_res.document.pages.items():\n",
    "    page_no = page.page_no\n",
    "    page_image_filename = result_dir / f\"{doc_filename}-{page_no}.png\"\n",
    "    with page_image_filename.open(\"wb\") as fp:\n",
    "        page.image.pil_image.save(fp, format=\"PNG\")"
   ]
  },
  {
   "cell_type": "code",
   "execution_count": 32,
   "metadata": {},
   "outputs": [],
   "source": [
    "table_counter = 0\n",
    "picture_counter = 0\n",
    "for element, _level in conv_res.document.iterate_items():\n",
    "    if isinstance(element, TableItem):\n",
    "        table_counter += 1\n",
    "        element_image_filename = (\n",
    "            result_dir / f\"{doc_filename}-table-{table_counter}.png\"\n",
    "        )\n",
    "        with element_image_filename.open(\"wb\") as fp:\n",
    "            element.get_image(conv_res.document).save(fp, \"PNG\")\n",
    "\n",
    "    if isinstance(element, PictureItem):\n",
    "        picture_counter += 1\n",
    "        element_image_filename = (\n",
    "            result_dir / f\"{doc_filename}-picture-{picture_counter}.png\"\n",
    "        )\n",
    "        with element_image_filename.open(\"wb\") as fp:\n",
    "            element.get_image(conv_res.document).save(fp, \"PNG\")"
   ]
  },
  {
   "cell_type": "code",
   "execution_count": 33,
   "metadata": {},
   "outputs": [
    {
     "data": {
      "text/plain": [
       "docling_core.types.doc.document.DoclingDocument"
      ]
     },
     "execution_count": 33,
     "metadata": {},
     "output_type": "execute_result"
    }
   ],
   "source": [
    "# docling_core.types.doc.document.DoclingDocument\n",
    "# https://github.com/DS4SD/docling-core/blob/127dd2f6f8862e2c74f821cdb3a1995ee0a243cc/docling_core/types/doc/document.py#L1323\n",
    "type(conv_res.document)"
   ]
  },
  {
   "cell_type": "code",
   "execution_count": 34,
   "metadata": {},
   "outputs": [],
   "source": [
    "# Save markdown with externally referenced pictures\n",
    "md_filename = result_dir / f\"{doc_filename}-with-image-refs.md\"\n",
    "\n",
    "# https://github.com/DS4SD/docling-core/blob/127dd2f6f8862e2c74f821cdb3a1995ee0a243cc/docling_core/types/doc/document.py#L1936\n",
    "conv_res.document.save_as_markdown(\n",
    "    md_filename,\n",
    "    image_mode=ImageRefMode.REFERENCED\n",
    ")"
   ]
  },
  {
   "cell_type": "code",
   "execution_count": 36,
   "metadata": {},
   "outputs": [
    {
     "name": "stdout",
     "output_type": "stream",
     "text": [
      "dict_keys(['schema_name', 'version', 'name', 'origin', 'furniture', 'body', 'groups', 'texts', 'pictures', 'tables', 'key_value_items', 'pages'])\n"
     ]
    }
   ],
   "source": [
    "## Dump DoclingDocument\n",
    "converted_dict = conv_res.document.export_to_dict()\n",
    "print(converted_dict.keys())\n",
    "with open(result_dir / f\"{doc_filename}-with-image-refs.json\", \"w\") as f:\n",
    "    f.write(json.dumps(converted_dict, indent = \"\\t\"))"
   ]
  },
  {
   "cell_type": "code",
   "execution_count": 45,
   "metadata": {},
   "outputs": [
    {
     "data": {
      "text/plain": [
       "[RefItem(cref='#/texts/0'),\n",
       " RefItem(cref='#/texts/1'),\n",
       " RefItem(cref='#/texts/2'),\n",
       " RefItem(cref='#/texts/3'),\n",
       " RefItem(cref='#/texts/4'),\n",
       " RefItem(cref='#/texts/5'),\n",
       " RefItem(cref='#/texts/6'),\n",
       " RefItem(cref='#/groups/0'),\n",
       " RefItem(cref='#/texts/11'),\n",
       " RefItem(cref='#/texts/12'),\n",
       " RefItem(cref='#/texts/13'),\n",
       " RefItem(cref='#/texts/14'),\n",
       " RefItem(cref='#/texts/15'),\n",
       " RefItem(cref='#/texts/16'),\n",
       " RefItem(cref='#/texts/17'),\n",
       " RefItem(cref='#/texts/18'),\n",
       " RefItem(cref='#/texts/19'),\n",
       " RefItem(cref='#/texts/20'),\n",
       " RefItem(cref='#/texts/21'),\n",
       " RefItem(cref='#/texts/22')]"
      ]
     },
     "execution_count": 45,
     "metadata": {},
     "output_type": "execute_result"
    }
   ],
   "source": [
    "conv_res.document.body.children[:20]"
   ]
  },
  {
   "cell_type": "code",
   "execution_count": 50,
   "metadata": {},
   "outputs": [
    {
     "data": {
      "text/plain": [
       "[RefItem(cref='#/texts/7'),\n",
       " RefItem(cref='#/texts/8'),\n",
       " RefItem(cref='#/texts/9'),\n",
       " RefItem(cref='#/texts/10')]"
      ]
     },
     "execution_count": 50,
     "metadata": {},
     "output_type": "execute_result"
    }
   ],
   "source": [
    "conv_res.document.groups[0].children"
   ]
  },
  {
   "cell_type": "code",
   "execution_count": 51,
   "metadata": {},
   "outputs": [
    {
     "data": {
      "text/plain": [
       "TextItem(self_ref='#/texts/7', parent=RefItem(cref='#/groups/0'), children=[], label=<DocItemLabel.TEXT: 'text'>, prov=[ProvenanceItem(page_no=1, bbox=BoundingBox(l=126.882, t=508.153, r=210.552, b=475.27699999999993, coord_origin=<CoordOrigin.BOTTOMLEFT: 'BOTTOMLEFT'>), charspan=(0, 46))], orig='Llion Jones ∗ Google Research llion@google.com', text='Llion Jones ∗ Google Research llion@google.com')"
      ]
     },
     "execution_count": 51,
     "metadata": {},
     "output_type": "execute_result"
    }
   ],
   "source": [
    "conv_res.document.texts[7]"
   ]
  }
 ],
 "metadata": {
  "kernelspec": {
   "display_name": "docling",
   "language": "python",
   "name": "docling"
  },
  "language_info": {
   "codemirror_mode": {
    "name": "ipython",
    "version": 3
   },
   "file_extension": ".py",
   "mimetype": "text/x-python",
   "name": "python",
   "nbconvert_exporter": "python",
   "pygments_lexer": "ipython3",
   "version": "3.10.14"
  }
 },
 "nbformat": 4,
 "nbformat_minor": 2
}
