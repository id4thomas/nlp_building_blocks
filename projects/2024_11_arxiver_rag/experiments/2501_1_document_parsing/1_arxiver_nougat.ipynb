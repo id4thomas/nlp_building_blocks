{
 "cells": [
  {
   "cell_type": "code",
   "execution_count": 2,
   "metadata": {},
   "outputs": [],
   "source": [
    "import os\n",
    "from functools import partial\n",
    "from pathlib import Path\n",
    "import sys\n",
    "from typing import List\n",
    "\n",
    "import torch\n",
    "import pypdf\n",
    "from tqdm import tqdm"
   ]
  },
  {
   "cell_type": "code",
   "execution_count": 3,
   "metadata": {},
   "outputs": [
    {
     "name": "stderr",
     "output_type": "stream",
     "text": [
      "/Users/id4thomas/github/nlp_building_blocks/projects/2024_11_arxiver_rag/experiments/2501_1_document_extraction/nougat/nougat/transforms.py:146: UserWarning: Argument 'alpha_affine' is not valid and will be ignored.\n",
      "  alb.ElasticTransform(\n"
     ]
    }
   ],
   "source": [
    "sys.path.append(\"src/nougat\")\n",
    "from nougat import NougatModel\n",
    "from nougat.utils.dataset import LazyDataset\n",
    "from nougat.utils.checkpoint import get_checkpoint\n",
    "from nougat.postprocessing import markdown_compatible"
   ]
  },
  {
   "cell_type": "code",
   "execution_count": 4,
   "metadata": {},
   "outputs": [],
   "source": [
    "from pydantic_settings import BaseSettings, SettingsConfigDict\n",
    "\n",
    "class Settings(BaseSettings):\n",
    "    model_config = SettingsConfigDict(\n",
    "        env_file=\"../.env\", env_file_encoding=\"utf-8\", extra=\"ignore\"\n",
    "    )\n",
    "    nougat_model_dir: str\n",
    "settings = Settings()"
   ]
  },
  {
   "cell_type": "code",
   "execution_count": 5,
   "metadata": {},
   "outputs": [],
   "source": [
    "def load_model_to_gpu(model_dir: str, device = \"mps\") -> NougatModel:\n",
    "    \"\"\"Initialize and load Nougat model to specified GPU.\"\"\"\n",
    "    print(f\"Loading model to device {device}\")\n",
    "    model = NougatModel.from_pretrained(model_dir)\n",
    "    model.to(device).to(torch.bfloat16)\n",
    "    model.eval()\n",
    "    return model"
   ]
  },
  {
   "cell_type": "code",
   "execution_count": 6,
   "metadata": {},
   "outputs": [
    {
     "name": "stdout",
     "output_type": "stream",
     "text": [
      "Loading model to device mps\n"
     ]
    },
    {
     "name": "stderr",
     "output_type": "stream",
     "text": [
      "/opt/miniconda3/envs/doc_llm/lib/python3.10/site-packages/torch/functional.py:534: UserWarning: torch.meshgrid: in an upcoming release, it will be required to pass the indexing argument. (Triggered internally at /Users/runner/work/pytorch/pytorch/pytorch/aten/src/ATen/native/TensorShape.cpp:3596.)\n",
      "  return _VF.meshgrid(tensors, **kwargs)  # type: ignore[attr-defined]\n"
     ]
    }
   ],
   "source": [
    "# using nougat 0.1.0-base\n",
    "model = load_model_to_gpu(settings.nougat_model_dir, device=\"mps\")"
   ]
  },
  {
   "cell_type": "code",
   "execution_count": 7,
   "metadata": {},
   "outputs": [],
   "source": [
    "# model"
   ]
  },
  {
   "cell_type": "markdown",
   "metadata": {},
   "source": [
    "# Process PDF"
   ]
  },
  {
   "cell_type": "code",
   "execution_count": 12,
   "metadata": {},
   "outputs": [
    {
     "data": {
      "text/plain": [
       "(PosixPath('samples/1706.03762v7.pdf'), PosixPath('results/1706.03762v7'))"
      ]
     },
     "execution_count": 12,
     "metadata": {},
     "output_type": "execute_result"
    }
   ],
   "source": [
    "# attention is all you need\n",
    "sample_fname = \"1706.03762v7.pdf\"\n",
    "pdf_path = Path(os.path.join(\"samples\", sample_fname))\n",
    "output_path = Path(os.path.join(\"results/nougat\", sample_fname.replace(\".pdf\", \"\")))\n",
    "if not os.path.exists(output_path):\n",
    "    os.makedirs(output_path)\n",
    "pdf_path, output_path"
   ]
  },
  {
   "cell_type": "code",
   "execution_count": 9,
   "metadata": {},
   "outputs": [
    {
     "name": "stdout",
     "output_type": "stream",
     "text": [
      "1706.03762v7 samples\n"
     ]
    },
    {
     "data": {
      "text/plain": [
       "<nougat.utils.dataset.LazyDataset at 0x172d6cf40>"
      ]
     },
     "execution_count": 9,
     "metadata": {},
     "output_type": "execute_result"
    }
   ],
   "source": [
    " # get document ID (remove .pdf and use full path structure)\n",
    "document_id = pdf_path.stem\n",
    "month_dir = pdf_path.parent.name\n",
    "print(document_id, month_dir)\n",
    "try:\n",
    "    # prepare dataset for all pages\n",
    "    full_dataset = LazyDataset(\n",
    "        str(pdf_path), partial(model.encoder.prepare_input, random_padding=False)\n",
    "    )\n",
    "except pypdf.errors.PdfStreamError as e:\n",
    "    print(e)\n",
    "    \n",
    "full_dataset"
   ]
  },
  {
   "cell_type": "code",
   "execution_count": 10,
   "metadata": {},
   "outputs": [],
   "source": [
    "batch_size = 8\n",
    "dataloader = torch.utils.data.DataLoader(\n",
    "    full_dataset,\n",
    "    batch_size=batch_size,\n",
    "    shuffle=False,\n",
    "    collate_fn=LazyDataset.ignore_none_collate,\n",
    ")"
   ]
  },
  {
   "cell_type": "code",
   "execution_count": 13,
   "metadata": {},
   "outputs": [
    {
     "name": "stderr",
     "output_type": "stream",
     "text": [
      "Processing 1706.03762v7: 100%|██████████| 2/2 [05:19<00:00, 159.77s/it]\n"
     ]
    }
   ],
   "source": [
    "for batch_idx, (sample, is_last_page) in enumerate(tqdm(dataloader, desc=f\"Processing {document_id}\")):\n",
    "    with torch.no_grad():\n",
    "        model_output = model.inference(\n",
    "            image_tensors=sample.to(torch.bfloat16),\n",
    "            early_stopping=False\n",
    "        )\n",
    "        for j, output in enumerate(model_output[\"predictions\"]):\n",
    "            page_num = batch_idx * batch_size + j + 1\n",
    "            formatted_output = markdown_compatible(output.strip())\n",
    "            save_path = output_path / f\"{document_id}_{page_num}.mmd\"\n",
    "            save_path.write_text(formatted_output)"
   ]
  },
  {
   "cell_type": "markdown",
   "metadata": {},
   "source": [
    "# Postprocessing"
   ]
  },
  {
   "cell_type": "code",
   "execution_count": 21,
   "metadata": {},
   "outputs": [],
   "source": [
    "from arxiver.postprocess import (\n",
    "    read_mmd,\n",
    "    has_abstract,\n",
    "    detect_headers,\n",
    "    find_references,\n",
    "    remove_authors,\n",
    "    remove_references\n",
    ")"
   ]
  },
  {
   "cell_type": "code",
   "execution_count": 24,
   "metadata": {},
   "outputs": [
    {
     "name": "stdout",
     "output_type": "stream",
     "text": [
      "# Attention Is All You Need\n",
      "\n",
      " Ashish Vaswani\n",
      "\n",
      "Google Brain\n",
      "\n",
      "avaswani@google.com\n",
      "\n",
      "&Noam Shazeer1\n",
      "\n",
      "Google Brain\n",
      "\n",
      "noam@google.com\n",
      "\n",
      "&Niki Parmar1\n",
      "\n",
      "Google Research\n",
      "\n",
      "nikip@google.com\n",
      "\n",
      "&Jakob Uszkoreit1\n",
      "\n",
      "Google Research\n",
      "\n",
      "usz@google.com\n",
      "\n",
      "&Llion Jones1\n",
      "\n",
      "Google Research\n",
      "\n",
      "llion@google.com\n",
      "\n",
      "&Aidan N. Gomez1\n",
      "\n",
      "University of Toronto\n",
      "\n",
      "aidan@cs.toronto.edu\n",
      "\n",
      "&Lukasz Kaiser1\n",
      "\n",
      "Google Brain\n",
      "\n",
      "lukaszkaiser@google.com\n",
      "\n",
      "&Illia Polosukhin1\n",
      "\n",
      "illia.polosukhin@gmail.com\n",
      "\n",
      "Equal contribution. Listing order is random. Jakob proposed replacing RNNs with self-attention and started the effort to evaluate this idea. Ashish, with Illia, designed and implemented the first Transformer models and has been crucially involved in every aspect of this work. Noam proposed scaled dot-product attention, multi-head attention and the parameter-free position representation and became the other person involved in nearly every detail. Niki designed, implemented, tuned and evaluated countless model variants in our original codebase and tensor2tensor. Llion also experimented with novel model variants, was responsible for our initial codebase, and efficient inference and visualizations. Lukasz and Aidan spent countless long days designing various parts of and implementing tensor2tensor, replacing our earlier codebase, greatly improving results and massively accelerating our research.Work performed while at Google Brain.Work performed while at Google Research.Work performed while at Google Research.\n",
      "\n",
      "Footnote 1: footnotemark:\n",
      "\n",
      "Footnote 2: footnotemark:\n",
      "\n",
      "###### Abstract\n",
      "\n",
      "The dominant sequence transduction models are based on complex recurrent or convolutional neural networks that include an encoder and a decoder. The best performing models also connect the encoder and decoder through an attention mechanism. We propose a new simple network architecture, the Transformer, based solely on attention mechanisms, dispensing with recurrence and convolutions entirely. Experiments on two machine translation tasks show these models to be superior in quality while being more parallelizable and requiring significantly less time to train. Our model achieves 28.4 BLEU on the WMT 2014 English-to-German translation task, improving over the existing best results, including ensembles, by over 2 BLEU. On the WMT 2014 English-to-French translation task, our model establishes a new single-model state-of-the-art BLEU score of 41.8 after training for 3.5 days on eight GPUs, a small fraction of the training costs of the best models from the literature. We show that the Transformer generalizes well to other tasks by applying it successfully to English constituency parsing both with large and limited training data.\n"
     ]
    }
   ],
   "source": [
    "page1_mmd = output_path/f\"{document_id}_1.mmd\"\n",
    "mmd_content = read_mmd(str(page1_mmd))\n",
    "print(mmd_content)"
   ]
  },
  {
   "cell_type": "code",
   "execution_count": 18,
   "metadata": {},
   "outputs": [
    {
     "data": {
      "text/plain": [
       "True"
      ]
     },
     "execution_count": 18,
     "metadata": {},
     "output_type": "execute_result"
    }
   ],
   "source": [
    "has_abstract(mmd_content)"
   ]
  },
  {
   "cell_type": "code",
   "execution_count": 19,
   "metadata": {},
   "outputs": [
    {
     "data": {
      "text/plain": [
       "[(0, '# Attention Is All You Need'), (54, '###### Abstract')]"
      ]
     },
     "execution_count": 19,
     "metadata": {},
     "output_type": "execute_result"
    }
   ],
   "source": [
    "detect_headers(mmd_content)"
   ]
  },
  {
   "cell_type": "code",
   "execution_count": 20,
   "metadata": {},
   "outputs": [
    {
     "data": {
      "text/plain": [
       "False"
      ]
     },
     "execution_count": 20,
     "metadata": {},
     "output_type": "execute_result"
    }
   ],
   "source": [
    "find_references(mmd_content)"
   ]
  },
  {
   "cell_type": "code",
   "execution_count": 23,
   "metadata": {},
   "outputs": [
    {
     "name": "stdout",
     "output_type": "stream",
     "text": [
      "# Attention Is All You Need\n",
      "\n",
      "###### Abstract\n",
      "\n",
      "The dominant sequence transduction models are based on complex recurrent or convolutional neural networks that include an encoder and a decoder. The best performing models also connect the encoder and decoder through an attention mechanism. We propose a new simple network architecture, the Transformer, based solely on attention mechanisms, dispensing with recurrence and convolutions entirely. Experiments on two machine translation tasks show these models to be superior in quality while being more parallelizable and requiring significantly less time to train. Our model achieves 28.4 BLEU on the WMT 2014 English-to-German translation task, improving over the existing best results, including ensembles, by over 2 BLEU. On the WMT 2014 English-to-French translation task, our model establishes a new single-model state-of-the-art BLEU score of 41.8 after training for 3.5 days on eight GPUs, a small fraction of the training costs of the best models from the literature. We show that the Transformer generalizes well to other tasks by applying it successfully to English constituency parsing both with large and limited training data.\n"
     ]
    }
   ],
   "source": [
    "'''\n",
    "Removes author names between title (first) & abstract\n",
    "\n",
    "def remove_authors(mmd: str) -> str:\n",
    "    \"\"\"Remove author names while preserving layout.\"\"\"\n",
    "    lines = mmd.splitlines()\n",
    "    abstract_line = 0\n",
    "    for i, line in enumerate(lines):\n",
    "        if line.startswith(\"#\") and \"abstract\" in line.lower():\n",
    "            abstract_line = i\n",
    "            break\n",
    "    return \"\\n\".join([lines[0], \"\"] + lines[abstract_line:])\n",
    "'''\n",
    "processed_mmd = remove_authors(mmd_content)\n",
    "print(processed_mmd)"
   ]
  }
 ],
 "metadata": {
  "kernelspec": {
   "display_name": "doc_llm",
   "language": "python",
   "name": "doc_llm"
  },
  "language_info": {
   "codemirror_mode": {
    "name": "ipython",
    "version": 3
   },
   "file_extension": ".py",
   "mimetype": "text/x-python",
   "name": "python",
   "nbconvert_exporter": "python",
   "pygments_lexer": "ipython3",
   "version": "3.10.14"
  }
 },
 "nbformat": 4,
 "nbformat_minor": 2
}
