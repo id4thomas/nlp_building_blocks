{
 "cells": [
  {
   "cell_type": "code",
   "execution_count": 9,
   "metadata": {},
   "outputs": [],
   "source": [
    "import os\n",
    "\n",
    "import pdfplumber\n",
    "from bs4 import BeautifulSoup\n",
    "from pdf2image import convert_from_path\n",
    "from pdfplumber.utils import extract_text, get_bbox_overlap, obj_to_bbox\n",
    "\n",
    "import pandas as pd"
   ]
  },
  {
   "cell_type": "code",
   "execution_count": 12,
   "metadata": {},
   "outputs": [],
   "source": [
    "from pydantic_settings import BaseSettings, SettingsConfigDict\n",
    "\n",
    "class Settings(BaseSettings):\n",
    "    model_config = SettingsConfigDict(\n",
    "        env_file=\"../.env\", env_file_encoding=\"utf-8\", extra=\"ignore\"\n",
    "    )\n",
    "    data_dir: str\n",
    "    docling_model_dir: str\n",
    "    \n",
    "settings = Settings()\n",
    "os.environ[\"HF_HOME\"] = settings.docling_model_dir"
   ]
  },
  {
   "cell_type": "code",
   "execution_count": 13,
   "metadata": {},
   "outputs": [],
   "source": [
    "# source = \"https://arxiv.org/pdf/2408.09869\"  # document per local path or URL\n",
    "\n",
    "# fname = \"1706.03762v7\"\n",
    "# fname = \"1706.03762v7_sample\"\n",
    "# # fname = \"ai_parl_2\" # 국회도서관 문서 - 이미지 PDF\n",
    "# # fname = \"ai_parl_3\" # 국회도서관 문서 - 텍스트 PDF\n",
    "\n",
    "# source = f\"samples/{fname}.pdf\" # attention is all you need\n",
    "\n",
    "pdf_dir = os.path.join(settings.data_dir, \"allganize-RAG-Evaluation-Dataset-KO/finance\")\n",
    "fname = \"★2019 제1회 증시콘서트 자료집_최종★\"\n",
    "\n",
    "source = os.path.join(pdf_dir, f\"{fname}.pdf\")\n",
    "\n",
    "result_dir = f\"results/pdfplumber/{fname}\"\n",
    "if not os.path.exists(result_dir):\n",
    "    os.makedirs(result_dir)"
   ]
  },
  {
   "cell_type": "code",
   "execution_count": 14,
   "metadata": {},
   "outputs": [],
   "source": [
    "all_pages = []\n",
    "with pdfplumber.open(source) as pdf:\n",
    "    for page in pdf.pages:\n",
    "        filtered_page = page\n",
    "        chars = filtered_page.chars\n",
    "\n",
    "        for table in page.find_tables():\n",
    "            try:\n",
    "                first_table_char = page.crop(table.bbox).chars[0]\n",
    "            except Exception:\n",
    "                continue\n",
    "            filtered_page = filtered_page.filter(\n",
    "                lambda obj: get_bbox_overlap(obj_to_bbox(obj), table.bbox) is None\n",
    "            )\n",
    "            chars = filtered_page.chars\n",
    "            df = pd.DataFrame(table.extract())\n",
    "            df.columns = df.iloc[0]\n",
    "            html = df.drop(0).to_markdown(index=False)\n",
    "            chars.append(first_table_char | {\"text\": html})\n",
    "        page_text = extract_text(chars, layout=True)\n",
    "        # all_pages.extend(self._parse_content(page_text))\n",
    "        all_pages.append(\n",
    "            {\n",
    "                \"text\": page_text,\n",
    "                \"italicEndOffsets\": [],\n",
    "                \"notes\": [],\n",
    "                \"citations\": [],\n",
    "                \"indent\": False,\n",
    "                \"memos\": [],\n",
    "                \"italicStartOffsets\": [],\n",
    "                \"type\": \"plain\",\n",
    "                \"captions\": [],\n",
    "            }\n",
    "        )"
   ]
  },
  {
   "cell_type": "code",
   "execution_count": 20,
   "metadata": {},
   "outputs": [
    {
     "data": {
      "text/plain": [
       "[{'text': \"(cid:11407)(cid:4943)(cid:1383)(cid:1012)(cid:8019)(cid:7995)(cid:4372)\\n(cid:3299)(cid:6279)(cid:6231)(cid:35)(cid:3983)(cid:6279)(cid:4463)(cid:35)(cid:2910)(cid:9755)(cid:35)(cid:2968)(cid:3339)(cid:11587)(cid:11151)(cid:6231)(cid:35)(cid:9779)(cid:6867)(cid:66)(cid:35)\\n\\n(cid:10067)(cid:9822)(cid:35)(cid:10431)(cid:10242)(cid:9850)(cid:35)(cid:10662)(cid:10242)(cid:61)(cid:35)(cid:3431)(cid:3802)(cid:12050)(cid:11614)(cid:4926)(cid:35)(cid:53)(cid:3270)(cid:35)(cid:7726)(cid:3802)(cid:35)(cid:9882)(cid:8759)(cid:10214)(cid:6406)(cid:35)(cid:74)(cid:71)(cid:83)(cid:35)(cid:8667)(cid:10319)(cid:6666)(cid:10270)(cid:35)(cid:6770)(cid:10270)(cid:4530)(cid:9038)(cid:6694)(cid:35)(cid:3802)(cid:6407)(cid:35)\\n(cid:53)(cid:51)(cid:51)(cid:52)(cid:4590)(cid:3494)(cid:35)(cid:53)(cid:51)(cid:51)(cid:58)(cid:4590)(cid:9850)(cid:4926)(cid:35)(cid:9882)(cid:10666)(cid:10270)(cid:35)(cid:3762)(cid:6742)(cid:6694)(cid:35)(cid:4446)(cid:6746)(cid:35)(cid:9094)(cid:10426)(cid:10270)(cid:35)(cid:3431)(cid:3802)(cid:12050)(cid:11614)(cid:9962)(cid:35)(cid:10278)(cid:12034)(cid:47)(cid:35)(cid:52)(cid:60)(cid:60)(cid:56)(cid:4590)(cid:3494)(cid:35)(cid:52)(cid:60)(cid:60)(cid:59)(cid:4590)(cid:9850)(cid:4926)(cid:35)(cid:3746)(cid:6321)(cid:10858)(cid:35)(cid:9716)(cid:10230)(cid:35)\\n(cid:9419)(cid:10203)(cid:9807)(cid:35)(cid:3299)(cid:6279)(cid:6231)(cid:35)(cid:3983)(cid:6283)(cid:35)(cid:8631)(cid:9963)(cid:9807)(cid:35)(cid:3592)(cid:35)(cid:2968)(cid:3339)(cid:11587)(cid:11151)(cid:9499)(cid:35)(cid:9815)(cid:11571)(cid:13363)(cid:10395)(cid:4463)(cid:35)(cid:9253)(cid:9767)(cid:35)\\n\\n  (%)\\n                                        (cid:27730)(cid:27399):(cid:20931)(cid:21302)(cid:25230)(cid:31599) (cid:27382)(cid:28166)(cid:21302)(cid:28166)(cid:21262)(cid:24242)\\n 14\\n 12\\n 10\\n\\n  8\\n\\n  6\\n  4\\n\\n  2\\n\\n  0\\n   '83'84'85'86'87'88'89'90'91'92'93'94'95'96'97'98'99'00'01'02'03'04'05'06'07'08'09'10'11'12'13'14'15'16'17'18'19\\n(cid:7879)(cid:4099): Fed, NH(cid:10595)(cid:7879)(cid:8404)(cid:1219)(cid:4323)(cid:6227)(cid:9615)(cid:5167)(cid:5303)\\n                                                          11\\n\\n\\n\\n\\n(cid:11407)(cid:4943)(cid:1383)(cid:1012)(cid:8019)(cid:7995)(cid:4372)\\n\\n(cid:9856)(cid:4547)(cid:3339)(cid:35)(cid:8575)(cid:13279)(cid:5859)(cid:5047)(cid:9779)(cid:35)(cid:6447)(cid:8631)(cid:10395)(cid:61)(cid:35)(cid:4911)(cid:13615)(cid:4463)(cid:35)(cid:6329)(cid:10395)(cid:6311)(cid:35)(cid:11587)(cid:11151)(cid:4463)(cid:35)(cid:9247)(cid:4515)(cid:4543)(cid:35)\\n(cid:3431)(cid:3802)(cid:35)(cid:12050)(cid:11614)(cid:35)(cid:14079)(cid:6666)(cid:35)(cid:3242)(cid:4938)(cid:13826)(cid:4926)(cid:35)(cid:7330)(cid:3607)(cid:11502)(cid:35)(cid:54)(cid:112)(cid:50)(cid:52)(cid:51)(cid:124)(cid:35)(cid:9038)(cid:13742)(cid:6322)(cid:5510)(cid:4926)(cid:35)(cid:48)(cid:53)(cid:51)(cid:101)(cid:115)(cid:3830)(cid:10858)(cid:35)(cid:35)(cid:14079)(cid:5034)(cid:47)(cid:35)(cid:5006)(cid:6774)(cid:35)(cid:53)(cid:124)(cid:50)(cid:52)(cid:51)(cid:124)(cid:35)(cid:9038)(cid:13742)(cid:6322)(cid:5510)(cid:4926)(cid:35)(cid:53)(cid:51)(cid:101)(cid:115)(cid:35)(cid:8898)(cid:10666)(cid:35)\\n(cid:54)(cid:3270)(cid:10110)(cid:7142)(cid:35)(cid:3762)(cid:6742)(cid:10242)(cid:35)(cid:8898)(cid:3763)(cid:10411)(cid:35)(cid:8555)(cid:9059)(cid:10214)(cid:6406)(cid:35)(cid:13242)(cid:5010)(cid:47)(cid:35)(cid:10270)(cid:4926)(cid:35)(cid:7722)(cid:11502)(cid:13830)(cid:5230)(cid:35)(cid:14011)(cid:8555)(cid:10222)(cid:35)(cid:9736)(cid:5370)(cid:3466)(cid:35)(cid:7722)(cid:11502)(cid:10242)(cid:35)(cid:10418)(cid:5034)(cid:3718)(cid:6994)(cid:6694)(cid:35)(cid:10670)(cid:10270)(cid:3802)(cid:35)(cid:10158)(cid:13830)(cid:35)(cid:5010)(cid:3802)(cid:35)(cid:7379)(cid:9714)(cid:35)\\n\\n(cid:53)(cid:50)(cid:52)(cid:51)(cid:35)(cid:8575)(cid:13279)(cid:5859)(cid:5047)(cid:35)(cid:9416)(cid:9951)(cid:9807)(cid:35)(cid:35)(cid:54)(cid:112)(cid:50)(cid:52)(cid:51)(cid:124)(cid:35)(cid:9416)(cid:9951)(cid:9387)(cid:35)(cid:8187)(cid:13412)(cid:13363)(cid:4463)(cid:35)(cid:2910)(cid:9807)(cid:35)(cid:9815)(cid:6899)(cid:9948)(cid:35)\\n (bp)               (cid:24830)(cid:21107)(cid:29002)2/10 (cid:26538)(cid:31242)(cid:23822)(cid:23010) (cid:24830)(cid:21107)(cid:29002)3m/10y (cid:26538)(cid:31242)(cid:23822)(cid:23010)\\n 600\\n 500\\n\\n 400\\n\\n 300\\n 200\\n\\n 100\\n  0\\n\\n -100\\n -200\\n   '86 '88 '90 '92 '94 '96 '98 '00 '02 '04 '06 '08 '10 '12 '14 '16 '18\\n(cid:7879)(cid:4099):Bloomberg, NH(cid:10595)(cid:7879)(cid:8404)(cid:1219)(cid:4323)(cid:6227)(cid:9615)(cid:5167)(cid:5303)\\n\\n                                                          12\\n\\n\\n                            - 49 -\",\n",
       "  'italicEndOffsets': [],\n",
       "  'notes': [],\n",
       "  'citations': [],\n",
       "  'indent': False,\n",
       "  'memos': [],\n",
       "  'italicStartOffsets': [],\n",
       "  'type': 'plain',\n",
       "  'captions': []},\n",
       " {'text': \"(cid:11407)(cid:4943)(cid:1383)(cid:1012)(cid:8019)(cid:7995)(cid:4372)\\n(cid:52)(cid:60)(cid:60)(cid:56)(cid:4127)(cid:35)(cid:8071)(cid:5915)(cid:61)(cid:35)(cid:7119)(cid:13491)(cid:9604)(cid:35)(cid:3299)(cid:6279)(cid:9811)(cid:13363)(cid:6231)(cid:35)(cid:12432)(cid:13391)(cid:35)(cid:2968)(cid:3339)(cid:35)(cid:11587)(cid:11151)(cid:6231)(cid:35)(cid:13335)(cid:13367)(cid:35)(cid:2968)(cid:13491)(cid:35)\\n\\n(cid:9882)(cid:10666)(cid:10218)(cid:35)(cid:31)(cid:60)(cid:55)(cid:4590)(cid:129)(cid:31)(cid:60)(cid:56)(cid:4590)(cid:35)(cid:53)(cid:10110)(cid:35)(cid:11719)(cid:35)(cid:54)(cid:51)(cid:51)(cid:101)(cid:115)(cid:10242)(cid:35)(cid:3762)(cid:6742)(cid:10274)(cid:8555)(cid:10222)(cid:35)(cid:10862)(cid:13875)(cid:49)(cid:35)(cid:5027)(cid:9094)(cid:35)(cid:52)(cid:44)(cid:35)(cid:31)(cid:60)(cid:55)(cid:4590)(cid:35)(cid:5146)(cid:12630)(cid:6182)(cid:35)(cid:10158)(cid:3802)(cid:9962)(cid:35)(cid:4434)(cid:7330)(cid:35)(cid:3431)(cid:10438)(cid:10158)(cid:3802)(cid:6410)(cid:47)(cid:35)(cid:53)(cid:44)(cid:35)(cid:31)(cid:60)(cid:57)(cid:4590)(cid:35)\\n(cid:5034)(cid:8650)(cid:10222)(cid:35)(cid:9736)(cid:5370)(cid:3466)(cid:35)(cid:9906)(cid:8538)(cid:9714)(cid:35)(cid:13843)(cid:10242)(cid:35)(cid:9102)(cid:13266)(cid:13826)(cid:6938)(cid:35)(cid:31)(cid:60)(cid:56)(cid:4590)(cid:35)(cid:6778)(cid:35)(cid:8721)(cid:5006)(cid:10078)(cid:35)(cid:7366)(cid:8583)(cid:47)(cid:35)(cid:54)(cid:44)(cid:35)(cid:9714)(cid:10431)(cid:10411)(cid:35)(cid:7142)(cid:3242)(cid:49)(cid:35)(cid:10270)(cid:4926)(cid:35)(cid:11782)(cid:3750)(cid:35)(cid:8555)(cid:14099)(cid:3494)(cid:35)(cid:10186)(cid:8534)(cid:35)\\n(cid:52)(cid:60)(cid:60)(cid:56)(cid:4127)(cid:35)(cid:10220)(cid:6899)(cid:35)(cid:7119)(cid:13491)(cid:9604)(cid:35)(cid:3299)(cid:6279)(cid:9811)(cid:13363)(cid:6231)(cid:35)(cid:12432)(cid:13391)(cid:35)(cid:6867)(cid:3144)(cid:11039)(cid:35)(cid:3299)(cid:6279)(cid:35)(cid:13363)(cid:5720)(cid:35)(cid:6890)(cid:35)(cid:6867)(cid:35)(cid:10360)(cid:8631)(cid:35)(cid:6899)(cid:5068)(cid:9807)(cid:35)(cid:13616)(cid:9811)(cid:35)\\n\\n (%)  (cid:20931)(cid:21302)(cid:29550)(cid:29114)(cid:21302)(cid:20746) (cid:22394)(cid:27547)(cid:27382)(cid:27718)(cid:20931)(cid:21302)(cid:29550)(cid:29114)(cid:31579)(cid:24166)\\n 100\\n 90\\n 80\\n 70\\n\\n 60\\n 50\\n 40\\n 30\\n 20\\n\\n 10\\n  0\\n   '59 '61 '63 '65 '67 '69 '71 '73 '75 '77 '79 '81 '83 '85 '87 '89 '91 '93 |         |\\n|:--------|\\n| '95 '97 | '99 '01 '03 '05 '07 '09 '11 '13 '15 '17 '19\\n(cid:7879)(cid:4099): NY FED, Bloomberg, NH(cid:10595)(cid:7879)(cid:8404)(cid:1219)(cid:4323)(cid:6227)(cid:9615)(cid:5167)(cid:5303)\\n                                                          13\\n\\n\\n\\n\\n(cid:11407)(cid:4943)(cid:1383)(cid:1012)(cid:8019)(cid:7995)(cid:4372)\\n\\n(cid:55)(cid:7263)(cid:3339)(cid:7259)(cid:12299)(cid:4463)(cid:35)(cid:3291)(cid:5943)(cid:7015)(cid:35)(cid:3339)(cid:11376)(cid:12432)(cid:13615)(cid:35)(cid:9723)(cid:4788)(cid:8204)(cid:4767)(cid:35)(cid:4543)(cid:8631)(cid:35)(cid:3024)(cid:3300)(cid:35)\\n(cid:9882)(cid:10666)(cid:10242)(cid:35)(cid:8562)(cid:6406)(cid:10078)(cid:35)(cid:10298)(cid:8538)(cid:11839)(cid:8758)(cid:35)(cid:9094)(cid:4418)(cid:6742)(cid:9934)(cid:6694)(cid:35)(cid:7362)(cid:9899)(cid:13834)(cid:35)(cid:3431)(cid:10074)(cid:35)(cid:9942)(cid:13854)(cid:35)(cid:9882)(cid:6778)(cid:7722)(cid:12762)(cid:35)(cid:10662)(cid:10046)(cid:35)(cid:55)(cid:5034)(cid:35)(cid:8650)(cid:10862)(cid:3607)(cid:35)(cid:10683)(cid:9731)(cid:10218)(cid:13875)(cid:10242)(cid:35)(cid:7582)(cid:10186)(cid:10298)(cid:8538)(cid:10218)(cid:35)(cid:5006)(cid:9094)(cid:35)\\n(cid:10823)(cid:3242)(cid:43)(cid:124)(cid:48)(cid:124)(cid:44)(cid:35)(cid:7362)(cid:10414)(cid:49)(cid:35)(cid:9882)(cid:6778)(cid:7722)(cid:12762)(cid:4926)(cid:35)(cid:3802)(cid:11839)(cid:35)(cid:12895)(cid:14078)(cid:10242)(cid:35)(cid:10186)(cid:5251)(cid:8667)(cid:10270)(cid:35)(cid:5006)(cid:9094)(cid:35)(cid:14079)(cid:5034)(cid:5314)(cid:4926)(cid:35)(cid:3606)(cid:3246)(cid:10214)(cid:6406)(cid:35)(cid:10862)(cid:10287)(cid:35)\\n\\n(cid:55)(cid:4571)(cid:35)(cid:10220)(cid:9268)(cid:9755)(cid:13412)(cid:35)(cid:11256)(cid:9835)(cid:8075)(cid:35)(cid:10360)(cid:2779)(cid:7263)(cid:61)(cid:35)(cid:53)(cid:51)(cid:52)(cid:59)(cid:4127)(cid:35)(cid:3343)(cid:11376)(cid:35)(cid:2800)(cid:4767)(cid:2779)(cid:35)(cid:2779)(cid:9856)(cid:35)(cid:11731)(cid:9767)(cid:49)(cid:35)(cid:9479)(cid:13391)(cid:35)(cid:55)(cid:7263)(cid:3339)(cid:7259)(cid:12299)(cid:35)(cid:4543)(cid:8631)(cid:35)(cid:10360)(cid:2779)(cid:35)(cid:6899)(cid:9951)(cid:35)\\n ($bn)                (cid:28162)(cid:27546)(cid:26150)(cid:28362)(cid:21107)(cid:28183)(cid:27231)(cid:27718)(cid:31375)(cid:25082)(cid:27686)(cid:27798)(cid:26038)(cid:31343)(cid:20938)(cid:28323)(cid:25226)\\n 3,000\\n\\n 2,500\\n 2,000\\n\\n 1,500\\n 1,000\\n\\n  500\\n\\n   0\\n  -500\\n\\n -1,000\\n    '15      '16      '17      '18      '19      '20\\n(cid:8243):(cid:8243)(cid:7627)(cid:6231)(cid:8443)(cid:1188)(cid:7799)Fed, ECB, BoE, BoJ(cid:4275)(cid:7823)(cid:4911)\\n(cid:7879)(cid:4099): Bloomberg, NH(cid:10595)(cid:7879)(cid:8404)(cid:1219)(cid:4323)(cid:6227)(cid:9615)(cid:5167)(cid:5303)\\n                                                          14\\n\\n                            - 50 -\",\n",
       "  'italicEndOffsets': [],\n",
       "  'notes': [],\n",
       "  'citations': [],\n",
       "  'indent': False,\n",
       "  'memos': [],\n",
       "  'italicStartOffsets': [],\n",
       "  'type': 'plain',\n",
       "  'captions': []}]"
      ]
     },
     "execution_count": 20,
     "metadata": {},
     "output_type": "execute_result"
    }
   ],
   "source": [
    "# Text has (cid:x) patterns\n",
    "# ex. \"(cid:1523)(cid:1758)...\"\n",
    "all_pages[-10:-8]"
   ]
  },
  {
   "cell_type": "code",
   "execution_count": 16,
   "metadata": {},
   "outputs": [
    {
     "data": {
      "text/plain": [
       "'***\\x0f\\x01ೞ߈ӝ\\x01\\u0a79ݎҗ\\x01\\u0a79ۚ\\x01\\n׳۞\\x01ъࣁী\\x01ઁز\\x1b\\x01ো݈\\x01ਗ\\x10׳۞\\x01ജਯ\\x01\\x12\\r\\x12\\x16\\x11ਗ\\x01\\u0a79ݎ\\x01\\n\\n\\n\\n\\nਗച\\x01\\u0a78\\u0a7f\\x01ࣻળਵ۽\\x01ࠂӈ\\x01 ਗച৬\\x01ਤউച\\x01р\\x01زઑച\\x01बച\\x01\\n\\n\\t\\u0ad1ࣻ\\x1b\\x01\\x12\\x1a\\x1a\\x15֙\\x01\\x1e'"
      ]
     },
     "execution_count": 16,
     "metadata": {},
     "output_type": "execute_result"
    }
   ],
   "source": [
    "import re\n",
    "def prune_text(text):\n",
    "    def replace_cid(match):\n",
    "        ascii_num = int(match.group(1))\n",
    "        try:\n",
    "            return chr(ascii_num)\n",
    "        except:\n",
    "            return ''  # In case of conversion failure, return empty string\n",
    "\n",
    "    # Regular expression to find all (cid:x) patterns\n",
    "    cid_pattern = re.compile(r'\\(cid:(\\d+)\\)')\n",
    "    pruned_text = re.sub(cid_pattern, replace_cid, text)\n",
    "    return pruned_text\n",
    "\n",
    "text = '(cid:42)(cid:42)(cid:42)(cid:15)(cid:1)(cid:3294)(cid:1992)(cid:1245)(cid:1)(cid:2681)(cid:1870)(cid:1175)(cid:1)(cid:2681)(cid:1754)(cid:1)\\n(cid:1523)(cid:1758)(cid:1)(cid:1098)(cid:2241)(cid:2496)(cid:1)(cid:2689)(cid:1586)(cid:27)(cid:1)(cid:2507)(cid:1864)(cid:1)(cid:2583)(cid:16)(cid:1523)(cid:1758)(cid:1)(cid:3356)(cid:2607)(cid:1)(cid:18)(cid:13)(cid:18)(cid:22)(cid:17)(cid:2583)(cid:1)(cid:2681)(cid:1870)(cid:1)\\n\\n\\n\\n\\n(cid:2583)(cid:3354)(cid:1)(cid:2680)(cid:2687)(cid:1)(cid:2299)(cid:2739)(cid:2613)(cid:1789)(cid:1)(cid:2050)(cid:1224)(cid:1) (cid:2583)(cid:3354)(cid:2540)(cid:1)(cid:2596)(cid:2441)(cid:3354)(cid:1)(cid:1088)(cid:1)(cid:1586)(cid:2705)(cid:3354)(cid:1)(cid:2348)(cid:3354)(cid:1)\\n\\n(cid:9)(cid:2769)(cid:2299)(cid:27)(cid:1)(cid:18)(cid:26)(cid:26)(cid:21)(cid:1433)(cid:1)(cid:30)'\n",
    "prune_text(text)"
   ]
  }
 ],
 "metadata": {
  "kernelspec": {
   "display_name": "docling",
   "language": "python",
   "name": "docling"
  },
  "language_info": {
   "codemirror_mode": {
    "name": "ipython",
    "version": 3
   },
   "file_extension": ".py",
   "mimetype": "text/x-python",
   "name": "python",
   "nbconvert_exporter": "python",
   "pygments_lexer": "ipython3",
   "version": "3.10.14"
  }
 },
 "nbformat": 4,
 "nbformat_minor": 2
}
