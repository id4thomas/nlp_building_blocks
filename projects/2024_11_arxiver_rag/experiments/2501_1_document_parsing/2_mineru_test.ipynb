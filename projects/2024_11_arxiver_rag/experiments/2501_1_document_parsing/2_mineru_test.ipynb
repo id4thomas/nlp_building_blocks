{
 "cells": [
  {
   "cell_type": "code",
   "execution_count": 2,
   "metadata": {},
   "outputs": [],
   "source": [
    "from pydantic_settings import BaseSettings, SettingsConfigDict\n",
    "\n",
    "class Settings(BaseSettings):\n",
    "    model_config = SettingsConfigDict(\n",
    "        env_file=\"../.env\", env_file_encoding=\"utf-8\", extra=\"ignore\"\n",
    "    )\n",
    "    mineru_model_dir: str\n",
    "settings = Settings()"
   ]
  },
  {
   "cell_type": "markdown",
   "metadata": {},
   "source": [
    "# 1. Download mineru weights"
   ]
  },
  {
   "cell_type": "code",
   "execution_count": 1,
   "metadata": {},
   "outputs": [],
   "source": [
    "import json\n",
    "import os\n",
    "\n",
    "import requests\n",
    "from huggingface_hub import snapshot_download"
   ]
  },
  {
   "cell_type": "code",
   "execution_count": 7,
   "metadata": {},
   "outputs": [],
   "source": [
    "# download code from https://github.com/opendatalab/MinerU/blob/master/scripts/download_models_hf.py\n",
    "def download_json(url):\n",
    "    response = requests.get(url)\n",
    "    response.raise_for_status() \n",
    "    return response.json()\n",
    "\n",
    "\n",
    "def download_and_modify_json(url, local_filename, modifications):\n",
    "    if os.path.exists(local_filename):\n",
    "        data = json.load(open(local_filename))\n",
    "        config_version = data.get('config_version', '0.0.0')\n",
    "        if config_version < '1.0.0':\n",
    "            data = download_json(url)\n",
    "    else:\n",
    "        data = download_json(url)\n",
    "\n",
    "    for key, value in modifications.items():\n",
    "        data[key] = value\n",
    "\n",
    "    with open(local_filename, 'w', encoding='utf-8') as f:\n",
    "        json.dump(data, f, ensure_ascii=False, indent=4)"
   ]
  },
  {
   "cell_type": "code",
   "execution_count": 4,
   "metadata": {},
   "outputs": [
    {
     "name": "stderr",
     "output_type": "stream",
     "text": [
      "/opt/miniconda3/envs/MinerU/lib/python3.10/site-packages/huggingface_hub/file_download.py:832: UserWarning: `local_dir_use_symlinks` parameter is deprecated and will be ignored. The process to download files to a local folder has been updated and do not rely on symlinks anymore. You only need to pass a destination folder as`local_dir`.\n",
      "For more details, check out https://huggingface.co/docs/huggingface_hub/main/en/guides/download#download-files-to-local-folder.\n",
      "  warnings.warn(\n"
     ]
    },
    {
     "data": {
      "application/vnd.jupyter.widget-view+json": {
       "model_id": "c4c12417d5f0473dac34a4665cf66c05",
       "version_major": 2,
       "version_minor": 0
      },
      "text/plain": [
       "Fetching 42 files:   0%|          | 0/42 [00:00<?, ?it/s]"
      ]
     },
     "metadata": {},
     "output_type": "display_data"
    },
    {
     "data": {
      "application/vnd.jupyter.widget-view+json": {
       "model_id": "64df7dafe4484d48b4a79701eaee6b83",
       "version_major": 2,
       "version_minor": 0
      },
      "text/plain": [
       "models/MFR/unimernet_small/.mdl:   0%|          | 0.00/48.0 [00:00<?, ?B/s]"
      ]
     },
     "metadata": {},
     "output_type": "display_data"
    },
    {
     "data": {
      "application/vnd.jupyter.widget-view+json": {
       "model_id": "9a63b7d5a5794e6a8166a2c4c4be25ac",
       "version_major": 2,
       "version_minor": 0
      },
      "text/plain": [
       "models/MFR/unimernet_small/.msc:   0%|          | 0.00/524 [00:00<?, ?B/s]"
      ]
     },
     "metadata": {},
     "output_type": "display_data"
    },
    {
     "data": {
      "application/vnd.jupyter.widget-view+json": {
       "model_id": "a9acd667e58946df9a40f895f0f66dd9",
       "version_major": 2,
       "version_minor": 0
      },
      "text/plain": [
       "models/MFR/unimernet_small/.mv:   0%|          | 0.00/36.0 [00:00<?, ?B/s]"
      ]
     },
     "metadata": {},
     "output_type": "display_data"
    },
    {
     "data": {
      "application/vnd.jupyter.widget-view+json": {
       "model_id": "58ed92f47b9843cd9f34d140d3e4219a",
       "version_major": 2,
       "version_minor": 0
      },
      "text/plain": [
       "models/Layout/LayoutLMv3/config.json:   0%|          | 0.00/857 [00:00<?, ?B/s]"
      ]
     },
     "metadata": {},
     "output_type": "display_data"
    },
    {
     "data": {
      "application/vnd.jupyter.widget-view+json": {
       "model_id": "b00ded7684b34deeb90e27b40ae6d4b4",
       "version_major": 2,
       "version_minor": 0
      },
      "text/plain": [
       "doclayout_yolo_ft.pt:   0%|          | 0.00/40.7M [00:00<?, ?B/s]"
      ]
     },
     "metadata": {},
     "output_type": "display_data"
    },
    {
     "data": {
      "application/vnd.jupyter.widget-view+json": {
       "model_id": "19d1f4c1fec243029f1ff9ae23325f10",
       "version_major": 2,
       "version_minor": 0
      },
      "text/plain": [
       "yolo_v8_ft.pt:   0%|          | 0.00/350M [00:00<?, ?B/s]"
      ]
     },
     "metadata": {},
     "output_type": "display_data"
    },
    {
     "data": {
      "application/vnd.jupyter.widget-view+json": {
       "model_id": "3d92778513754e188c0c326d37796e83",
       "version_major": 2,
       "version_minor": 0
      },
      "text/plain": [
       "yolov10l_ft.pt:   0%|          | 0.00/52.3M [00:00<?, ?B/s]"
      ]
     },
     "metadata": {},
     "output_type": "display_data"
    },
    {
     "data": {
      "application/vnd.jupyter.widget-view+json": {
       "model_id": "683eb3ad486b4e889518b094e5440cdf",
       "version_major": 2,
       "version_minor": 0
      },
      "text/plain": [
       "model_final.pth:   0%|          | 0.00/564M [00:00<?, ?B/s]"
      ]
     },
     "metadata": {},
     "output_type": "display_data"
    },
    {
     "data": {
      "application/vnd.jupyter.widget-view+json": {
       "model_id": "467b5fead546475595ee5b98f4d59ee1",
       "version_major": 2,
       "version_minor": 0
      },
      "text/plain": [
       "(…)unimernet_small/preprocessor_config.json:   0%|          | 0.00/617 [00:00<?, ?B/s]"
      ]
     },
     "metadata": {},
     "output_type": "display_data"
    },
    {
     "data": {
      "application/vnd.jupyter.widget-view+json": {
       "model_id": "6db06c45b42a4e34abbedac8d5e9d04d",
       "version_major": 2,
       "version_minor": 0
      },
      "text/plain": [
       "models/MFR/unimernet_small/config.json:   0%|          | 0.00/4.92k [00:00<?, ?B/s]"
      ]
     },
     "metadata": {},
     "output_type": "display_data"
    },
    {
     "data": {
      "application/vnd.jupyter.widget-view+json": {
       "model_id": "3cbb28f3f8c3418eb5a5e0c4d06d3974",
       "version_major": 2,
       "version_minor": 0
      },
      "text/plain": [
       "(…)s/MFR/unimernet_small/configuration.json:   0%|          | 0.00/48.0 [00:00<?, ?B/s]"
      ]
     },
     "metadata": {},
     "output_type": "display_data"
    },
    {
     "data": {
      "application/vnd.jupyter.widget-view+json": {
       "model_id": "cd5b49de06c342868abb88dd1ec49be6",
       "version_major": 2,
       "version_minor": 0
      },
      "text/plain": [
       "models/MFR/unimernet_small/README.md:   0%|          | 0.00/1.66k [00:00<?, ?B/s]"
      ]
     },
     "metadata": {},
     "output_type": "display_data"
    },
    {
     "data": {
      "application/vnd.jupyter.widget-view+json": {
       "model_id": "ff630fb5fbac4098b3ae895abc1a4312",
       "version_major": 2,
       "version_minor": 0
      },
      "text/plain": [
       "(…)MFR/unimernet_small/unimernet_small.yaml:   0%|          | 0.00/833 [00:00<?, ?B/s]"
      ]
     },
     "metadata": {},
     "output_type": "display_data"
    },
    {
     "data": {
      "application/vnd.jupyter.widget-view+json": {
       "model_id": "ec6c06dbf5a8446780e581539791a32c",
       "version_major": 2,
       "version_minor": 0
      },
      "text/plain": [
       "(…)odels/MFR/unimernet_small/tokenizer.json:   0%|          | 0.00/2.14M [00:00<?, ?B/s]"
      ]
     },
     "metadata": {},
     "output_type": "display_data"
    },
    {
     "data": {
      "application/vnd.jupyter.widget-view+json": {
       "model_id": "95dc70cb5071456881a70f8c1a1a9de6",
       "version_major": 2,
       "version_minor": 0
      },
      "text/plain": [
       "pytorch_model.pth:   0%|          | 0.00/810M [00:00<?, ?B/s]"
      ]
     },
     "metadata": {},
     "output_type": "display_data"
    },
    {
     "data": {
      "application/vnd.jupyter.widget-view+json": {
       "model_id": "4cc971cb3c584ac19890a7df758e51f8",
       "version_major": 2,
       "version_minor": 0
      },
      "text/plain": [
       "(…)FR/unimernet_small/tokenizer_config.json:   0%|          | 0.00/4.49k [00:00<?, ?B/s]"
      ]
     },
     "metadata": {},
     "output_type": "display_data"
    },
    {
     "data": {
      "application/vnd.jupyter.widget-view+json": {
       "model_id": "94b3b7ee351445bbabaaefac280999bc",
       "version_major": 2,
       "version_minor": 0
      },
      "text/plain": [
       "models/TabRec/StructEqTable/README.md:   0%|          | 0.00/7.30k [00:00<?, ?B/s]"
      ]
     },
     "metadata": {},
     "output_type": "display_data"
    },
    {
     "data": {
      "application/vnd.jupyter.widget-view+json": {
       "model_id": "e920b392152c4f0aaccf9701808bb932",
       "version_major": 2,
       "version_minor": 0
      },
      "text/plain": [
       "(…)s/TabRec/StructEqTable/added_tokens.json:   0%|          | 0.00/265 [00:00<?, ?B/s]"
      ]
     },
     "metadata": {},
     "output_type": "display_data"
    },
    {
     "data": {
      "application/vnd.jupyter.widget-view+json": {
       "model_id": "390ac44a0e384011ba01ad924965dd81",
       "version_major": 2,
       "version_minor": 0
      },
      "text/plain": [
       "models/TabRec/StructEqTable/config.json:   0%|          | 0.00/5.25k [00:00<?, ?B/s]"
      ]
     },
     "metadata": {},
     "output_type": "display_data"
    },
    {
     "data": {
      "application/vnd.jupyter.widget-view+json": {
       "model_id": "25a4910fc5104e44a89c156830029eb9",
       "version_major": 2,
       "version_minor": 0
      },
      "text/plain": [
       "(…)tructEqTable/configuration_intern_vit.py:   0%|          | 0.00/5.55k [00:00<?, ?B/s]"
      ]
     },
     "metadata": {},
     "output_type": "display_data"
    },
    {
     "data": {
      "application/vnd.jupyter.widget-view+json": {
       "model_id": "4c3ac3f8933c45078311bb8cef789ffb",
       "version_major": 2,
       "version_minor": 0
      },
      "text/plain": [
       "(…)ctEqTable/configuration_internvl_chat.py:   0%|          | 0.00/3.80k [00:00<?, ?B/s]"
      ]
     },
     "metadata": {},
     "output_type": "display_data"
    },
    {
     "data": {
      "application/vnd.jupyter.widget-view+json": {
       "model_id": "2ff02552e63b4eb2a1b2082ea967c690",
       "version_major": 2,
       "version_minor": 0
      },
      "text/plain": [
       "(…)els/TabRec/StructEqTable/conversation.py:   0%|          | 0.00/15.1k [00:00<?, ?B/s]"
      ]
     },
     "metadata": {},
     "output_type": "display_data"
    },
    {
     "data": {
      "application/vnd.jupyter.widget-view+json": {
       "model_id": "fe2d8d89bb3246daa7fc47ef577d1fdf",
       "version_major": 2,
       "version_minor": 0
      },
      "text/plain": [
       "(…)Rec/StructEqTable/generation_config.json:   0%|          | 0.00/122 [00:00<?, ?B/s]"
      ]
     },
     "metadata": {},
     "output_type": "display_data"
    },
    {
     "data": {
      "application/vnd.jupyter.widget-view+json": {
       "model_id": "7ce074ec2a4b495f8ed149f89af56680",
       "version_major": 2,
       "version_minor": 0
      },
      "text/plain": [
       "models/TabRec/StructEqTable/merges.txt:   0%|          | 0.00/1.67M [00:00<?, ?B/s]"
      ]
     },
     "metadata": {},
     "output_type": "display_data"
    },
    {
     "data": {
      "application/vnd.jupyter.widget-view+json": {
       "model_id": "0c41123d0d684d2fae53c58808481839",
       "version_major": 2,
       "version_minor": 0
      },
      "text/plain": [
       "model.safetensors:   0%|          | 0.00/1.88G [00:00<?, ?B/s]"
      ]
     },
     "metadata": {},
     "output_type": "display_data"
    },
    {
     "data": {
      "application/vnd.jupyter.widget-view+json": {
       "model_id": "b4150933948442ba8fc4f1ebfbcda20a",
       "version_major": 2,
       "version_minor": 0
      },
      "text/plain": [
       "(…)Rec/StructEqTable/modeling_intern_vit.py:   0%|          | 0.00/18.1k [00:00<?, ?B/s]"
      ]
     },
     "metadata": {},
     "output_type": "display_data"
    },
    {
     "data": {
      "application/vnd.jupyter.widget-view+json": {
       "model_id": "cbfd9cc686424f37bad771ee029a6672",
       "version_major": 2,
       "version_minor": 0
      },
      "text/plain": [
       "(…)/StructEqTable/modeling_internvl_chat.py:   0%|          | 0.00/15.7k [00:00<?, ?B/s]"
      ]
     },
     "metadata": {},
     "output_type": "display_data"
    },
    {
     "data": {
      "application/vnd.jupyter.widget-view+json": {
       "model_id": "be36a9da7c0a4bfbad7bf87c03111381",
       "version_major": 2,
       "version_minor": 0
      },
      "text/plain": [
       "(…)c/StructEqTable/preprocessor_config.json:   0%|          | 0.00/287 [00:00<?, ?B/s]"
      ]
     },
     "metadata": {},
     "output_type": "display_data"
    },
    {
     "data": {
      "application/vnd.jupyter.widget-view+json": {
       "model_id": "e11b0b21e29d408883b19cbb32171cf9",
       "version_major": 2,
       "version_minor": 0
      },
      "text/plain": [
       "(…)ec/StructEqTable/special_tokens_map.json:   0%|          | 0.00/498 [00:00<?, ?B/s]"
      ]
     },
     "metadata": {},
     "output_type": "display_data"
    },
    {
     "data": {
      "application/vnd.jupyter.widget-view+json": {
       "model_id": "3c3837ab44724ad090bfa03e7152def0",
       "version_major": 2,
       "version_minor": 0
      },
      "text/plain": [
       "(…)bRec/StructEqTable/tokenizer_config.json:   0%|          | 0.00/3.02k [00:00<?, ?B/s]"
      ]
     },
     "metadata": {},
     "output_type": "display_data"
    },
    {
     "data": {
      "application/vnd.jupyter.widget-view+json": {
       "model_id": "ab3f6a20b14840f2a234e1851a110aa6",
       "version_major": 2,
       "version_minor": 0
      },
      "text/plain": [
       "models/TabRec/StructEqTable/vocab.json:   0%|          | 0.00/3.38M [00:00<?, ?B/s]"
      ]
     },
     "metadata": {},
     "output_type": "display_data"
    },
    {
     "data": {
      "application/vnd.jupyter.widget-view+json": {
       "model_id": "caba8f9ff531445fac268d93f442c42e",
       "version_major": 2,
       "version_minor": 0
      },
      "text/plain": [
       "inference.pdiparams:   0%|          | 0.00/4.69M [00:00<?, ?B/s]"
      ]
     },
     "metadata": {},
     "output_type": "display_data"
    },
    {
     "data": {
      "application/vnd.jupyter.widget-view+json": {
       "model_id": "dbd97fd623864d03855b532b97dfae30",
       "version_major": 2,
       "version_minor": 0
      },
      "text/plain": [
       "(…)OCRv4_det_infer/inference.pdiparams.info:   0%|          | 0.00/23.6k [00:00<?, ?B/s]"
      ]
     },
     "metadata": {},
     "output_type": "display_data"
    },
    {
     "data": {
      "application/vnd.jupyter.widget-view+json": {
       "model_id": "ec2ca22ca12b46bb9fcae6526ff00c3a",
       "version_major": 2,
       "version_minor": 0
      },
      "text/plain": [
       "inference.pdmodel:   0%|          | 0.00/166k [00:00<?, ?B/s]"
      ]
     },
     "metadata": {},
     "output_type": "display_data"
    },
    {
     "data": {
      "application/vnd.jupyter.widget-view+json": {
       "model_id": "32aa3b2a7b6b42838ccbd7ed01eb134f",
       "version_major": 2,
       "version_minor": 0
      },
      "text/plain": [
       "inference.pdiparams:   0%|          | 0.00/10.8M [00:00<?, ?B/s]"
      ]
     },
     "metadata": {},
     "output_type": "display_data"
    },
    {
     "data": {
      "application/vnd.jupyter.widget-view+json": {
       "model_id": "fac6d5508408449894c269af5a03534b",
       "version_major": 2,
       "version_minor": 0
      },
      "text/plain": [
       "(…)OCRv4_rec_infer/inference.pdiparams.info:   0%|          | 0.00/30.6k [00:00<?, ?B/s]"
      ]
     },
     "metadata": {},
     "output_type": "display_data"
    },
    {
     "data": {
      "application/vnd.jupyter.widget-view+json": {
       "model_id": "e73e7ceb16e7427db41f8b90c7a8cb26",
       "version_major": 2,
       "version_minor": 0
      },
      "text/plain": [
       "inference.pdmodel:   0%|          | 0.00/169k [00:00<?, ?B/s]"
      ]
     },
     "metadata": {},
     "output_type": "display_data"
    },
    {
     "data": {
      "application/vnd.jupyter.widget-view+json": {
       "model_id": "04a5e92ad66542ca92fd94ddd3ea453f",
       "version_major": 2,
       "version_minor": 0
      },
      "text/plain": [
       "(…)els/TabRec/TableMaster/ppocr_keys_v1.txt:   0%|          | 0.00/26.2k [00:00<?, ?B/s]"
      ]
     },
     "metadata": {},
     "output_type": "display_data"
    },
    {
     "data": {
      "application/vnd.jupyter.widget-view+json": {
       "model_id": "158733cd772649d9bc9094b3ff56ef3f",
       "version_major": 2,
       "version_minor": 0
      },
      "text/plain": [
       "(…)leMaster/table_master_structure_dict.txt:   0%|          | 0.00/435 [00:00<?, ?B/s]"
      ]
     },
     "metadata": {},
     "output_type": "display_data"
    },
    {
     "data": {
      "application/vnd.jupyter.widget-view+json": {
       "model_id": "e13811e7f192408c8ec197d49b72dfc0",
       "version_major": 2,
       "version_minor": 0
      },
      "text/plain": [
       "inference.pdiparams:   0%|          | 0.00/262M [00:00<?, ?B/s]"
      ]
     },
     "metadata": {},
     "output_type": "display_data"
    },
    {
     "data": {
      "application/vnd.jupyter.widget-view+json": {
       "model_id": "ec3286eb0adc4e0a9f97d22a8f3f5f20",
       "version_major": 2,
       "version_minor": 0
      },
      "text/plain": [
       "(…)blemaster_infer/inference.pdiparams.info:   0%|          | 0.00/25.9k [00:00<?, ?B/s]"
      ]
     },
     "metadata": {},
     "output_type": "display_data"
    },
    {
     "data": {
      "application/vnd.jupyter.widget-view+json": {
       "model_id": "140fc21200274d3cb284733ef062be28",
       "version_major": 2,
       "version_minor": 0
      },
      "text/plain": [
       "inference.pdmodel:   0%|          | 0.00/3.39M [00:00<?, ?B/s]"
      ]
     },
     "metadata": {},
     "output_type": "display_data"
    },
    {
     "name": "stdout",
     "output_type": "stream",
     "text": [
      "model_dir is: /Users/id4thomas/models/mineru\n"
     ]
    }
   ],
   "source": [
    "## pdf-extract-kit\n",
    "mineru_patterns = [\n",
    "    \"models/Layout/LayoutLMv3/*\",\n",
    "    \"models/Layout/YOLO/*\",\n",
    "    \"models/MFD/YOLO/*\",\n",
    "    \"models/MFR/unimernet_small/*\",\n",
    "    \"models/TabRec/TableMaster/*\",\n",
    "    \"models/TabRec/StructEqTable/*\",\n",
    "]\n",
    "model_dir = snapshot_download(\n",
    "    'opendatalab/PDF-Extract-Kit-1.0',\n",
    "    allow_patterns=mineru_patterns,\n",
    "    local_dir=os.path.join(settings.mineru_model_dir, 'pdf-extract-kit'),\n",
    "    local_dir_use_symlinks=False\n",
    ")\n",
    "print(f'model_dir is: {model_dir}')"
   ]
  },
  {
   "cell_type": "code",
   "execution_count": 5,
   "metadata": {},
   "outputs": [
    {
     "name": "stderr",
     "output_type": "stream",
     "text": [
      "/opt/miniconda3/envs/MinerU/lib/python3.10/site-packages/huggingface_hub/file_download.py:832: UserWarning: `local_dir_use_symlinks` parameter is deprecated and will be ignored. The process to download files to a local folder has been updated and do not rely on symlinks anymore. You only need to pass a destination folder as`local_dir`.\n",
      "For more details, check out https://huggingface.co/docs/huggingface_hub/main/en/guides/download#download-files-to-local-folder.\n",
      "  warnings.warn(\n"
     ]
    },
    {
     "data": {
      "application/vnd.jupyter.widget-view+json": {
       "model_id": "53179057a46e41a9b21480cd7b09c9fe",
       "version_major": 2,
       "version_minor": 0
      },
      "text/plain": [
       "Fetching 2 files:   0%|          | 0/2 [00:00<?, ?it/s]"
      ]
     },
     "metadata": {},
     "output_type": "display_data"
    },
    {
     "data": {
      "application/vnd.jupyter.widget-view+json": {
       "model_id": "7d65ffe58f534dccad42ee856f869c75",
       "version_major": 2,
       "version_minor": 0
      },
      "text/plain": [
       "config.json:   0%|          | 0.00/24.1k [00:00<?, ?B/s]"
      ]
     },
     "metadata": {},
     "output_type": "display_data"
    },
    {
     "data": {
      "application/vnd.jupyter.widget-view+json": {
       "model_id": "6fc901430da24fd7b86243e8fc503c05",
       "version_major": 2,
       "version_minor": 0
      },
      "text/plain": [
       "model.safetensors:   0%|          | 0.00/713M [00:00<?, ?B/s]"
      ]
     },
     "metadata": {},
     "output_type": "display_data"
    },
    {
     "name": "stdout",
     "output_type": "stream",
     "text": [
      "layoutreader_model_dir is: /Users/id4thomas/models/mineru/layoutreader\n"
     ]
    }
   ],
   "source": [
    "layoutreader_pattern = [\n",
    "    \"*.json\",\n",
    "    \"*.safetensors\",\n",
    "]\n",
    "layoutreader_model_dir = snapshot_download(\n",
    "    'hantian/layoutreader',\n",
    "    allow_patterns=layoutreader_pattern,\n",
    "    local_dir=os.path.join(settings.mineru_model_dir, 'layoutreader'),\n",
    "    local_dir_use_symlinks=False\n",
    ")\n",
    "\n",
    "print(f'layoutreader_model_dir is: {layoutreader_model_dir}')"
   ]
  },
  {
   "cell_type": "code",
   "execution_count": 9,
   "metadata": {},
   "outputs": [
    {
     "name": "stdout",
     "output_type": "stream",
     "text": [
      "The configuration file has been configured successfully, the path is: /Users/id4thomas/models/mineru/magic-pdf.json\n"
     ]
    }
   ],
   "source": [
    "json_url = 'https://github.com/opendatalab/MinerU/raw/master/magic-pdf.template.json'\n",
    "config_file_name = 'magic-pdf.json'\n",
    "config_file = os.path.join(settings.mineru_model_dir, config_file_name)\n",
    "\n",
    "json_mods = {\n",
    "    'models-dir': os.path.join(settings.mineru_model_dir, 'pdf-extract-kit/models'),\n",
    "    'layoutreader-model-dir': os.path.join(settings.mineru_model_dir, 'layoutreader'),\n",
    "}\n",
    "\n",
    "download_and_modify_json(json_url, config_file, json_mods)\n",
    "print(f'The configuration file has been configured successfully, the path is: {config_file}')"
   ]
  },
  {
   "cell_type": "markdown",
   "metadata": {},
   "source": [
    "# 2. mineru test\n",
    "* https://mineru.readthedocs.io/en/latest/user_guide/quick_start/to_markdown.html"
   ]
  },
  {
   "cell_type": "code",
   "execution_count": 2,
   "metadata": {},
   "outputs": [],
   "source": [
    "os.environ[\"MINERU_TOOLS_CONFIG_JSON\"] = \"models/mineru/magic-pdf.json\""
   ]
  },
  {
   "cell_type": "code",
   "execution_count": 3,
   "metadata": {},
   "outputs": [
    {
     "name": "stdout",
     "output_type": "stream",
     "text": [
      "\u001b[93mimport tensorrt_llm failed, if do not use tensorrt, ignore this message\u001b[0m\n",
      "\u001b[93mimport lmdeploy failed, if do not use lmdeploy, ignore this message\u001b[0m\n"
     ]
    }
   ],
   "source": [
    "from magic_pdf.data.data_reader_writer import FileBasedDataWriter, FileBasedDataReader\n",
    "from magic_pdf.data.dataset import PymuDocDataset\n",
    "from magic_pdf.model.doc_analyze_by_custom_model import doc_analyze\n",
    "from magic_pdf.config.enums import SupportedPdfParseMethod"
   ]
  },
  {
   "cell_type": "code",
   "execution_count": 4,
   "metadata": {},
   "outputs": [],
   "source": [
    "pdf_file_name = \"samples/1706.03762v7.pdf\"\n",
    "name_without_suff = pdf_file_name.split(\".\")[0]"
   ]
  },
  {
   "cell_type": "code",
   "execution_count": 5,
   "metadata": {},
   "outputs": [],
   "source": [
    "local_image_dir, local_md_dir = \"results/mineru/images\", \"results/mineru/output\"\n",
    "image_dir = str(os.path.basename(local_image_dir))\n",
    "os.makedirs(local_image_dir, exist_ok=True)"
   ]
  },
  {
   "cell_type": "code",
   "execution_count": 6,
   "metadata": {},
   "outputs": [],
   "source": [
    "image_writer, md_writer = FileBasedDataWriter(local_image_dir), FileBasedDataWriter(\n",
    "    local_md_dir\n",
    ")\n",
    "image_dir = str(os.path.basename(local_image_dir))"
   ]
  },
  {
   "cell_type": "code",
   "execution_count": 7,
   "metadata": {},
   "outputs": [],
   "source": [
    "reader1 = FileBasedDataReader(\"\")\n",
    "pdf_bytes = reader1.read(pdf_file_name) "
   ]
  },
  {
   "cell_type": "code",
   "execution_count": 8,
   "metadata": {},
   "outputs": [
    {
     "name": "stderr",
     "output_type": "stream",
     "text": [
      "\u001b[32m2025-01-01 02:28:10.919\u001b[0m | \u001b[1mINFO    \u001b[0m | \u001b[36mmagic_pdf.libs.pdf_check\u001b[0m:\u001b[36mdetect_invalid_chars\u001b[0m:\u001b[36m57\u001b[0m - \u001b[1mcid_count: 1, text_len: 26978, cid_chars_radio: 3.7076860331467135e-05\u001b[0m\n"
     ]
    },
    {
     "name": "stdout",
     "output_type": "stream",
     "text": [
      "SupportedPdfParseMethod.TXT\n"
     ]
    }
   ],
   "source": [
    "ds = PymuDocDataset(pdf_bytes)\n",
    "print(ds.classify())"
   ]
  },
  {
   "cell_type": "code",
   "execution_count": 9,
   "metadata": {},
   "outputs": [
    {
     "name": "stderr",
     "output_type": "stream",
     "text": [
      "\u001b[32m2025-01-01 02:28:12.414\u001b[0m | \u001b[1mINFO    \u001b[0m | \u001b[36mmagic_pdf.libs.pdf_check\u001b[0m:\u001b[36mdetect_invalid_chars\u001b[0m:\u001b[36m57\u001b[0m - \u001b[1mcid_count: 0, text_len: 26304, cid_chars_radio: 0.0\u001b[0m\n",
      "\u001b[32m2025-01-01 02:28:12.425\u001b[0m | \u001b[1mINFO    \u001b[0m | \u001b[36mmagic_pdf.model.pdf_extract_kit\u001b[0m:\u001b[36m__init__\u001b[0m:\u001b[36m78\u001b[0m - \u001b[1mDocAnalysis init, this may take some times, layout_model: layoutlmv3, apply_formula: True, apply_ocr: False, apply_table: False, table_model: rapid_table, lang: None\u001b[0m\n",
      "\u001b[32m2025-01-01 02:28:12.426\u001b[0m | \u001b[1mINFO    \u001b[0m | \u001b[36mmagic_pdf.model.pdf_extract_kit\u001b[0m:\u001b[36m__init__\u001b[0m:\u001b[36m91\u001b[0m - \u001b[1musing device: cpu\u001b[0m\n",
      "\u001b[32m2025-01-01 02:28:12.426\u001b[0m | \u001b[1mINFO    \u001b[0m | \u001b[36mmagic_pdf.model.pdf_extract_kit\u001b[0m:\u001b[36m__init__\u001b[0m:\u001b[36m95\u001b[0m - \u001b[1musing models_dir: /Users/id4thomas/models/mineru/pdf-extract-kit/models\u001b[0m\n"
     ]
    },
    {
     "name": "stdout",
     "output_type": "stream",
     "text": [
      "CustomVisionEncoderDecoderModel init\n",
      "VariableUnimerNetModel init\n",
      "VariableUnimerNetPatchEmbeddings init\n",
      "VariableUnimerNetModel init\n",
      "VariableUnimerNetPatchEmbeddings init\n",
      "CustomMBartForCausalLM init\n",
      "CustomMBartDecoder init\n",
      "\u001b[32m[01/01 02:28:22 detectron2]: \u001b[0mRank of current process: 0. World size: 1\n",
      "\u001b[32m[01/01 02:28:22 detectron2]: \u001b[0mEnvironment info:\n",
      "-------------------------------  ----------------------------------------------------------------------------\n",
      "sys.platform                     darwin\n",
      "Python                           3.10.16 (main, Dec 11 2024, 10:22:29) [Clang 14.0.6 ]\n",
      "numpy                            1.26.4\n",
      "detectron2                       0.6 @/opt/miniconda3/envs/MinerU/lib/python3.10/site-packages/detectron2\n",
      "Compiler                         clang 16.0.0\n",
      "CUDA compiler                    not available\n",
      "DETECTRON2_ENV_MODULE            <not set>\n",
      "PyTorch                          2.5.1 @/opt/miniconda3/envs/MinerU/lib/python3.10/site-packages/torch\n",
      "PyTorch debug build              False\n",
      "torch._C._GLIBCXX_USE_CXX11_ABI  False\n",
      "GPU available                    No: torch.cuda.is_available() == False\n",
      "Pillow                           11.0.0\n",
      "torchvision                      0.20.1 @/opt/miniconda3/envs/MinerU/lib/python3.10/site-packages/torchvision\n",
      "fvcore                           0.1.5.post20221221\n",
      "iopath                           0.1.9\n",
      "cv2                              4.10.0\n",
      "-------------------------------  ----------------------------------------------------------------------------\n",
      "PyTorch built with:\n",
      "  - GCC 4.2\n",
      "  - C++ Version: 201703\n",
      "  - clang 14.0.3\n",
      "  - OpenMP 201811\n",
      "  - LAPACK is enabled (usually provided by MKL)\n",
      "  - NNPACK is enabled\n",
      "  - CPU capability usage: NO AVX\n",
      "  - Build settings: BLAS_INFO=accelerate, BUILD_TYPE=Release, CXX_COMPILER=/Applications/Xcode_14.3.1.app/Contents/Developer/Toolchains/XcodeDefault.xctoolchain/usr/bin/c++, CXX_FLAGS= -fvisibility-inlines-hidden -DUSE_PTHREADPOOL -DNDEBUG -DUSE_KINETO -DLIBKINETO_NOCUPTI -DLIBKINETO_NOROCTRACER -DLIBKINETO_NOXPUPTI=ON -DUSE_PYTORCH_QNNPACK -DAT_BUILD_ARM_VEC256_WITH_SLEEF -DUSE_XNNPACK -DUSE_PYTORCH_METAL_EXPORT -DSYMBOLICATE_MOBILE_DEBUG_HANDLE -DUSE_COREML_DELEGATE -O2 -fPIC -Wall -Wextra -Werror=return-type -Werror=non-virtual-dtor -Werror=braced-scalar-init -Werror=range-loop-construct -Werror=bool-operation -Wnarrowing -Wno-missing-field-initializers -Wno-type-limits -Wno-array-bounds -Wno-unknown-pragmas -Wno-unused-parameter -Wno-strict-overflow -Wno-strict-aliasing -Wvla-extension -Wsuggest-override -Wnewline-eof -Winconsistent-missing-override -Winconsistent-missing-destructor-override -Wno-pass-failed -Wno-error=old-style-cast -Wconstant-conversion -Wno-missing-braces -Qunused-arguments -fcolor-diagnostics -faligned-new -Wno-unused-but-set-variable -fno-math-errno -fno-trapping-math -Werror=format -DUSE_MPS -Wno-unused-private-field -Wno-missing-braces, LAPACK_INFO=accelerate, TORCH_VERSION=2.5.1, USE_CUDA=OFF, USE_CUDNN=OFF, USE_CUSPARSELT=OFF, USE_EIGEN_FOR_BLAS=ON, USE_EXCEPTION_PTR=1, USE_GFLAGS=OFF, USE_GLOG=OFF, USE_GLOO=ON, USE_MKL=OFF, USE_MKLDNN=OFF, USE_MPI=OFF, USE_NCCL=OFF, USE_NNPACK=ON, USE_OPENMP=ON, USE_ROCM=OFF, USE_ROCM_KERNEL_ASSERT=OFF, \n",
      "\n",
      "\u001b[32m[01/01 02:28:22 detectron2]: \u001b[0mCommand line arguments: {'config_file': '/opt/miniconda3/envs/MinerU/lib/python3.10/site-packages/magic_pdf/resources/model_config/layoutlmv3/layoutlmv3_base_inference.yaml', 'resume': False, 'eval_only': False, 'num_gpus': 1, 'num_machines': 1, 'machine_rank': 0, 'dist_url': 'tcp://127.0.0.1:57823', 'opts': ['MODEL.WEIGHTS', '/Users/id4thomas/models/mineru/pdf-extract-kit/models/Layout/LayoutLMv3/model_final.pth']}\n",
      "\u001b[32m[01/01 02:28:22 detectron2]: \u001b[0mContents of args.config_file=/opt/miniconda3/envs/MinerU/lib/python3.10/site-packages/magic_pdf/resources/model_config/layoutlmv3/layoutlmv3_base_inference.yaml:\n",
      "\u001b[38;5;204mAUG\u001b[39m\u001b[38;5;15m:\u001b[39m\n",
      "\u001b[38;5;15m  \u001b[39m\u001b[38;5;204mDETR\u001b[39m\u001b[38;5;15m:\u001b[39m\u001b[38;5;15m \u001b[39m\u001b[38;5;141mtrue\u001b[39m\n",
      "\u001b[38;5;204mCACHE_DIR\u001b[39m\u001b[38;5;15m:\u001b[39m\u001b[38;5;15m \u001b[39m\u001b[38;5;141m~/cache/huggingface\u001b[39m\n",
      "\u001b[38;5;204mCUDNN_BENCHMARK\u001b[39m\u001b[38;5;15m:\u001b[39m\u001b[38;5;15m \u001b[39m\u001b[38;5;141mfalse\u001b[39m\n",
      "\u001b[38;5;204mDATALOADER\u001b[39m\u001b[38;5;15m:\u001b[39m\n",
      "\u001b[38;5;15m  \u001b[39m\u001b[38;5;204mASPECT_RATIO_GROUPING\u001b[39m\u001b[38;5;15m:\u001b[39m\u001b[38;5;15m \u001b[39m\u001b[38;5;141mtrue\u001b[39m\n",
      "\u001b[38;5;15m  \u001b[39m\u001b[38;5;204mFILTER_EMPTY_ANNOTATIONS\u001b[39m\u001b[38;5;15m:\u001b[39m\u001b[38;5;15m \u001b[39m\u001b[38;5;141mfalse\u001b[39m\n",
      "\u001b[38;5;15m  \u001b[39m\u001b[38;5;204mNUM_WORKERS\u001b[39m\u001b[38;5;15m:\u001b[39m\u001b[38;5;15m \u001b[39m\u001b[38;5;141m4\u001b[39m\n",
      "\u001b[38;5;15m  \u001b[39m\u001b[38;5;204mREPEAT_THRESHOLD\u001b[39m\u001b[38;5;15m:\u001b[39m\u001b[38;5;15m \u001b[39m\u001b[38;5;141m0.0\u001b[39m\n",
      "\u001b[38;5;15m  \u001b[39m\u001b[38;5;204mSAMPLER_TRAIN\u001b[39m\u001b[38;5;15m:\u001b[39m\u001b[38;5;15m \u001b[39m\u001b[38;5;141mTrainingSampler\u001b[39m\n",
      "\u001b[38;5;204mDATASETS\u001b[39m\u001b[38;5;15m:\u001b[39m\n",
      "\u001b[38;5;15m  \u001b[39m\u001b[38;5;204mPRECOMPUTED_PROPOSAL_TOPK_TEST\u001b[39m\u001b[38;5;15m:\u001b[39m\u001b[38;5;15m \u001b[39m\u001b[38;5;141m1000\u001b[39m\n",
      "\u001b[38;5;15m  \u001b[39m\u001b[38;5;204mPRECOMPUTED_PROPOSAL_TOPK_TRAIN\u001b[39m\u001b[38;5;15m:\u001b[39m\u001b[38;5;15m \u001b[39m\u001b[38;5;141m2000\u001b[39m\n",
      "\u001b[38;5;15m  \u001b[39m\u001b[38;5;204mPROPOSAL_FILES_TEST\u001b[39m\u001b[38;5;15m:\u001b[39m\u001b[38;5;15m \u001b[39m\u001b[38;5;15m[\u001b[39m\u001b[38;5;15m]\u001b[39m\n",
      "\u001b[38;5;15m  \u001b[39m\u001b[38;5;204mPROPOSAL_FILES_TRAIN\u001b[39m\u001b[38;5;15m:\u001b[39m\u001b[38;5;15m \u001b[39m\u001b[38;5;15m[\u001b[39m\u001b[38;5;15m]\u001b[39m\n",
      "\u001b[38;5;15m  \u001b[39m\u001b[38;5;204mTEST\u001b[39m\u001b[38;5;15m:\u001b[39m\n",
      "\u001b[38;5;15m  \u001b[39m\u001b[38;5;15m-\u001b[39m\u001b[38;5;15m \u001b[39m\u001b[38;5;141mscihub_train\u001b[39m\n",
      "\u001b[38;5;15m  \u001b[39m\u001b[38;5;204mTRAIN\u001b[39m\u001b[38;5;15m:\u001b[39m\n",
      "\u001b[38;5;15m  \u001b[39m\u001b[38;5;15m-\u001b[39m\u001b[38;5;15m \u001b[39m\u001b[38;5;141mscihub_train\u001b[39m\n",
      "\u001b[38;5;204mGLOBAL\u001b[39m\u001b[38;5;15m:\u001b[39m\n",
      "\u001b[38;5;15m  \u001b[39m\u001b[38;5;204mHACK\u001b[39m\u001b[38;5;15m:\u001b[39m\u001b[38;5;15m \u001b[39m\u001b[38;5;141m1.0\u001b[39m\n",
      "\u001b[38;5;204mICDAR_DATA_DIR_TEST\u001b[39m\u001b[38;5;15m:\u001b[39m\u001b[38;5;15m \u001b[39m\u001b[38;5;186m'\u001b[39m\u001b[38;5;186m'\u001b[39m\n",
      "\u001b[38;5;204mICDAR_DATA_DIR_TRAIN\u001b[39m\u001b[38;5;15m:\u001b[39m\u001b[38;5;15m \u001b[39m\u001b[38;5;186m'\u001b[39m\u001b[38;5;186m'\u001b[39m\n",
      "\u001b[38;5;204mINPUT\u001b[39m\u001b[38;5;15m:\u001b[39m\n",
      "\u001b[38;5;15m  \u001b[39m\u001b[38;5;204mCROP\u001b[39m\u001b[38;5;15m:\u001b[39m\n",
      "\u001b[38;5;15m    \u001b[39m\u001b[38;5;204mENABLED\u001b[39m\u001b[38;5;15m:\u001b[39m\u001b[38;5;15m \u001b[39m\u001b[38;5;141mtrue\u001b[39m\n",
      "\u001b[38;5;15m    \u001b[39m\u001b[38;5;204mSIZE\u001b[39m\u001b[38;5;15m:\u001b[39m\n",
      "\u001b[38;5;15m    \u001b[39m\u001b[38;5;15m-\u001b[39m\u001b[38;5;15m \u001b[39m\u001b[38;5;141m384\u001b[39m\n",
      "\u001b[38;5;15m    \u001b[39m\u001b[38;5;15m-\u001b[39m\u001b[38;5;15m \u001b[39m\u001b[38;5;141m600\u001b[39m\n",
      "\u001b[38;5;15m    \u001b[39m\u001b[38;5;204mTYPE\u001b[39m\u001b[38;5;15m:\u001b[39m\u001b[38;5;15m \u001b[39m\u001b[38;5;141mabsolute_range\u001b[39m\n",
      "\u001b[38;5;15m  \u001b[39m\u001b[38;5;204mFORMAT\u001b[39m\u001b[38;5;15m:\u001b[39m\u001b[38;5;15m \u001b[39m\u001b[38;5;141mRGB\u001b[39m\n",
      "\u001b[38;5;15m  \u001b[39m\u001b[38;5;204mMASK_FORMAT\u001b[39m\u001b[38;5;15m:\u001b[39m\u001b[38;5;15m \u001b[39m\u001b[38;5;141mpolygon\u001b[39m\n",
      "\u001b[38;5;15m  \u001b[39m\u001b[38;5;204mMAX_SIZE_TEST\u001b[39m\u001b[38;5;15m:\u001b[39m\u001b[38;5;15m \u001b[39m\u001b[38;5;141m1333\u001b[39m\n",
      "\u001b[38;5;15m  \u001b[39m\u001b[38;5;204mMAX_SIZE_TRAIN\u001b[39m\u001b[38;5;15m:\u001b[39m\u001b[38;5;15m \u001b[39m\u001b[38;5;141m1333\u001b[39m\n",
      "\u001b[38;5;15m  \u001b[39m\u001b[38;5;204mMIN_SIZE_TEST\u001b[39m\u001b[38;5;15m:\u001b[39m\u001b[38;5;15m \u001b[39m\u001b[38;5;141m800\u001b[39m\n",
      "\u001b[38;5;15m  \u001b[39m\u001b[38;5;204mMIN_SIZE_TRAIN\u001b[39m\u001b[38;5;15m:\u001b[39m\n",
      "\u001b[38;5;15m  \u001b[39m\u001b[38;5;15m-\u001b[39m\u001b[38;5;15m \u001b[39m\u001b[38;5;141m480\u001b[39m\n",
      "\u001b[38;5;15m  \u001b[39m\u001b[38;5;15m-\u001b[39m\u001b[38;5;15m \u001b[39m\u001b[38;5;141m512\u001b[39m\n",
      "\u001b[38;5;15m  \u001b[39m\u001b[38;5;15m-\u001b[39m\u001b[38;5;15m \u001b[39m\u001b[38;5;141m544\u001b[39m\n",
      "\u001b[38;5;15m  \u001b[39m\u001b[38;5;15m-\u001b[39m\u001b[38;5;15m \u001b[39m\u001b[38;5;141m576\u001b[39m\n",
      "\u001b[38;5;15m  \u001b[39m\u001b[38;5;15m-\u001b[39m\u001b[38;5;15m \u001b[39m\u001b[38;5;141m608\u001b[39m\n",
      "\u001b[38;5;15m  \u001b[39m\u001b[38;5;15m-\u001b[39m\u001b[38;5;15m \u001b[39m\u001b[38;5;141m640\u001b[39m\n",
      "\u001b[38;5;15m  \u001b[39m\u001b[38;5;15m-\u001b[39m\u001b[38;5;15m \u001b[39m\u001b[38;5;141m672\u001b[39m\n",
      "\u001b[38;5;15m  \u001b[39m\u001b[38;5;15m-\u001b[39m\u001b[38;5;15m \u001b[39m\u001b[38;5;141m704\u001b[39m\n",
      "\u001b[38;5;15m  \u001b[39m\u001b[38;5;15m-\u001b[39m\u001b[38;5;15m \u001b[39m\u001b[38;5;141m736\u001b[39m\n",
      "\u001b[38;5;15m  \u001b[39m\u001b[38;5;15m-\u001b[39m\u001b[38;5;15m \u001b[39m\u001b[38;5;141m768\u001b[39m\n",
      "\u001b[38;5;15m  \u001b[39m\u001b[38;5;15m-\u001b[39m\u001b[38;5;15m \u001b[39m\u001b[38;5;141m800\u001b[39m\n",
      "\u001b[38;5;15m  \u001b[39m\u001b[38;5;204mMIN_SIZE_TRAIN_SAMPLING\u001b[39m\u001b[38;5;15m:\u001b[39m\u001b[38;5;15m \u001b[39m\u001b[38;5;141mchoice\u001b[39m\n",
      "\u001b[38;5;15m  \u001b[39m\u001b[38;5;204mRANDOM_FLIP\u001b[39m\u001b[38;5;15m:\u001b[39m\u001b[38;5;15m \u001b[39m\u001b[38;5;141mhorizontal\u001b[39m\n",
      "\u001b[38;5;204mMODEL\u001b[39m\u001b[38;5;15m:\u001b[39m\n",
      "\u001b[38;5;15m  \u001b[39m\u001b[38;5;204mANCHOR_GENERATOR\u001b[39m\u001b[38;5;15m:\u001b[39m\n",
      "\u001b[38;5;15m    \u001b[39m\u001b[38;5;204mANGLES\u001b[39m\u001b[38;5;15m:\u001b[39m\n",
      "\u001b[38;5;15m    \u001b[39m\u001b[38;5;15m-\u001b[39m\u001b[38;5;15m \u001b[39m\u001b[38;5;15m-\u001b[39m\u001b[38;5;15m \u001b[39m\u001b[38;5;141m-90\u001b[39m\n",
      "\u001b[38;5;15m      \u001b[39m\u001b[38;5;15m-\u001b[39m\u001b[38;5;15m \u001b[39m\u001b[38;5;141m0\u001b[39m\n",
      "\u001b[38;5;15m      \u001b[39m\u001b[38;5;15m-\u001b[39m\u001b[38;5;15m \u001b[39m\u001b[38;5;141m90\u001b[39m\n",
      "\u001b[38;5;15m    \u001b[39m\u001b[38;5;204mASPECT_RATIOS\u001b[39m\u001b[38;5;15m:\u001b[39m\n",
      "\u001b[38;5;15m    \u001b[39m\u001b[38;5;15m-\u001b[39m\u001b[38;5;15m \u001b[39m\u001b[38;5;15m-\u001b[39m\u001b[38;5;15m \u001b[39m\u001b[38;5;141m0.5\u001b[39m\n",
      "\u001b[38;5;15m      \u001b[39m\u001b[38;5;15m-\u001b[39m\u001b[38;5;15m \u001b[39m\u001b[38;5;141m1.0\u001b[39m\n",
      "\u001b[38;5;15m      \u001b[39m\u001b[38;5;15m-\u001b[39m\u001b[38;5;15m \u001b[39m\u001b[38;5;141m2.0\u001b[39m\n",
      "\u001b[38;5;15m    \u001b[39m\u001b[38;5;204mNAME\u001b[39m\u001b[38;5;15m:\u001b[39m\u001b[38;5;15m \u001b[39m\u001b[38;5;141mDefaultAnchorGenerator\u001b[39m\n",
      "\u001b[38;5;15m    \u001b[39m\u001b[38;5;204mOFFSET\u001b[39m\u001b[38;5;15m:\u001b[39m\u001b[38;5;15m \u001b[39m\u001b[38;5;141m0.0\u001b[39m\n",
      "\u001b[38;5;15m    \u001b[39m\u001b[38;5;204mSIZES\u001b[39m\u001b[38;5;15m:\u001b[39m\n",
      "\u001b[38;5;15m    \u001b[39m\u001b[38;5;15m-\u001b[39m\u001b[38;5;15m \u001b[39m\u001b[38;5;15m-\u001b[39m\u001b[38;5;15m \u001b[39m\u001b[38;5;141m32\u001b[39m\n",
      "\u001b[38;5;15m    \u001b[39m\u001b[38;5;15m-\u001b[39m\u001b[38;5;15m \u001b[39m\u001b[38;5;15m-\u001b[39m\u001b[38;5;15m \u001b[39m\u001b[38;5;141m64\u001b[39m\n",
      "\u001b[38;5;15m    \u001b[39m\u001b[38;5;15m-\u001b[39m\u001b[38;5;15m \u001b[39m\u001b[38;5;15m-\u001b[39m\u001b[38;5;15m \u001b[39m\u001b[38;5;141m128\u001b[39m\n",
      "\u001b[38;5;15m    \u001b[39m\u001b[38;5;15m-\u001b[39m\u001b[38;5;15m \u001b[39m\u001b[38;5;15m-\u001b[39m\u001b[38;5;15m \u001b[39m\u001b[38;5;141m256\u001b[39m\n",
      "\u001b[38;5;15m    \u001b[39m\u001b[38;5;15m-\u001b[39m\u001b[38;5;15m \u001b[39m\u001b[38;5;15m-\u001b[39m\u001b[38;5;15m \u001b[39m\u001b[38;5;141m512\u001b[39m\n",
      "\u001b[38;5;15m  \u001b[39m\u001b[38;5;204mBACKBONE\u001b[39m\u001b[38;5;15m:\u001b[39m\n",
      "\u001b[38;5;15m    \u001b[39m\u001b[38;5;204mFREEZE_AT\u001b[39m\u001b[38;5;15m:\u001b[39m\u001b[38;5;15m \u001b[39m\u001b[38;5;141m2\u001b[39m\n",
      "\u001b[38;5;15m    \u001b[39m\u001b[38;5;204mNAME\u001b[39m\u001b[38;5;15m:\u001b[39m\u001b[38;5;15m \u001b[39m\u001b[38;5;141mbuild_vit_fpn_backbone\u001b[39m\n",
      "\u001b[38;5;15m  \u001b[39m\u001b[38;5;204mCONFIG_PATH\u001b[39m\u001b[38;5;15m:\u001b[39m\u001b[38;5;15m \u001b[39m\u001b[38;5;186m'\u001b[39m\u001b[38;5;186m'\u001b[39m\n",
      "\u001b[38;5;15m  \u001b[39m\u001b[38;5;204mDEVICE\u001b[39m\u001b[38;5;15m:\u001b[39m\u001b[38;5;15m \u001b[39m\u001b[38;5;141mcuda\u001b[39m\n",
      "\u001b[38;5;15m  \u001b[39m\u001b[38;5;204mFPN\u001b[39m\u001b[38;5;15m:\u001b[39m\n",
      "\u001b[38;5;15m    \u001b[39m\u001b[38;5;204mFUSE_TYPE\u001b[39m\u001b[38;5;15m:\u001b[39m\u001b[38;5;15m \u001b[39m\u001b[38;5;141msum\u001b[39m\n",
      "\u001b[38;5;15m    \u001b[39m\u001b[38;5;204mIN_FEATURES\u001b[39m\u001b[38;5;15m:\u001b[39m\n",
      "\u001b[38;5;15m    \u001b[39m\u001b[38;5;15m-\u001b[39m\u001b[38;5;15m \u001b[39m\u001b[38;5;141mlayer3\u001b[39m\n",
      "\u001b[38;5;15m    \u001b[39m\u001b[38;5;15m-\u001b[39m\u001b[38;5;15m \u001b[39m\u001b[38;5;141mlayer5\u001b[39m\n",
      "\u001b[38;5;15m    \u001b[39m\u001b[38;5;15m-\u001b[39m\u001b[38;5;15m \u001b[39m\u001b[38;5;141mlayer7\u001b[39m\n",
      "\u001b[38;5;15m    \u001b[39m\u001b[38;5;15m-\u001b[39m\u001b[38;5;15m \u001b[39m\u001b[38;5;141mlayer11\u001b[39m\n",
      "\u001b[38;5;15m    \u001b[39m\u001b[38;5;204mNORM\u001b[39m\u001b[38;5;15m:\u001b[39m\u001b[38;5;15m \u001b[39m\u001b[38;5;186m'\u001b[39m\u001b[38;5;186m'\u001b[39m\n",
      "\u001b[38;5;15m    \u001b[39m\u001b[38;5;204mOUT_CHANNELS\u001b[39m\u001b[38;5;15m:\u001b[39m\u001b[38;5;15m \u001b[39m\u001b[38;5;141m256\u001b[39m\n",
      "\u001b[38;5;15m  \u001b[39m\u001b[38;5;204mIMAGE_ONLY\u001b[39m\u001b[38;5;15m:\u001b[39m\u001b[38;5;15m \u001b[39m\u001b[38;5;141mtrue\u001b[39m\n",
      "\u001b[38;5;15m  \u001b[39m\u001b[38;5;204mKEYPOINT_ON\u001b[39m\u001b[38;5;15m:\u001b[39m\u001b[38;5;15m \u001b[39m\u001b[38;5;141mfalse\u001b[39m\n",
      "\u001b[38;5;15m  \u001b[39m\u001b[38;5;204mLOAD_PROPOSALS\u001b[39m\u001b[38;5;15m:\u001b[39m\u001b[38;5;15m \u001b[39m\u001b[38;5;141mfalse\u001b[39m\n",
      "\u001b[38;5;15m  \u001b[39m\u001b[38;5;204mMASK_ON\u001b[39m\u001b[38;5;15m:\u001b[39m\u001b[38;5;15m \u001b[39m\u001b[38;5;141mtrue\u001b[39m\n",
      "\u001b[38;5;15m  \u001b[39m\u001b[38;5;204mMETA_ARCHITECTURE\u001b[39m\u001b[38;5;15m:\u001b[39m\u001b[38;5;15m \u001b[39m\u001b[38;5;141mVLGeneralizedRCNN\u001b[39m\n",
      "\u001b[38;5;15m  \u001b[39m\u001b[38;5;204mPANOPTIC_FPN\u001b[39m\u001b[38;5;15m:\u001b[39m\n",
      "\u001b[38;5;15m    \u001b[39m\u001b[38;5;204mCOMBINE\u001b[39m\u001b[38;5;15m:\u001b[39m\n",
      "\u001b[38;5;15m      \u001b[39m\u001b[38;5;204mENABLED\u001b[39m\u001b[38;5;15m:\u001b[39m\u001b[38;5;15m \u001b[39m\u001b[38;5;141mtrue\u001b[39m\n",
      "\u001b[38;5;15m      \u001b[39m\u001b[38;5;204mINSTANCES_CONFIDENCE_THRESH\u001b[39m\u001b[38;5;15m:\u001b[39m\u001b[38;5;15m \u001b[39m\u001b[38;5;141m0.5\u001b[39m\n",
      "\u001b[38;5;15m      \u001b[39m\u001b[38;5;204mOVERLAP_THRESH\u001b[39m\u001b[38;5;15m:\u001b[39m\u001b[38;5;15m \u001b[39m\u001b[38;5;141m0.5\u001b[39m\n",
      "\u001b[38;5;15m      \u001b[39m\u001b[38;5;204mSTUFF_AREA_LIMIT\u001b[39m\u001b[38;5;15m:\u001b[39m\u001b[38;5;15m \u001b[39m\u001b[38;5;141m4096\u001b[39m\n",
      "\u001b[38;5;15m    \u001b[39m\u001b[38;5;204mINSTANCE_LOSS_WEIGHT\u001b[39m\u001b[38;5;15m:\u001b[39m\u001b[38;5;15m \u001b[39m\u001b[38;5;141m1.0\u001b[39m\n",
      "\u001b[38;5;15m  \u001b[39m\u001b[38;5;204mPIXEL_MEAN\u001b[39m\u001b[38;5;15m:\u001b[39m\n",
      "\u001b[38;5;15m  \u001b[39m\u001b[38;5;15m-\u001b[39m\u001b[38;5;15m \u001b[39m\u001b[38;5;141m127.5\u001b[39m\n",
      "\u001b[38;5;15m  \u001b[39m\u001b[38;5;15m-\u001b[39m\u001b[38;5;15m \u001b[39m\u001b[38;5;141m127.5\u001b[39m\n",
      "\u001b[38;5;15m  \u001b[39m\u001b[38;5;15m-\u001b[39m\u001b[38;5;15m \u001b[39m\u001b[38;5;141m127.5\u001b[39m\n",
      "\u001b[38;5;15m  \u001b[39m\u001b[38;5;204mPIXEL_STD\u001b[39m\u001b[38;5;15m:\u001b[39m\n",
      "\u001b[38;5;15m  \u001b[39m\u001b[38;5;15m-\u001b[39m\u001b[38;5;15m \u001b[39m\u001b[38;5;141m127.5\u001b[39m\n",
      "\u001b[38;5;15m  \u001b[39m\u001b[38;5;15m-\u001b[39m\u001b[38;5;15m \u001b[39m\u001b[38;5;141m127.5\u001b[39m\n",
      "\u001b[38;5;15m  \u001b[39m\u001b[38;5;15m-\u001b[39m\u001b[38;5;15m \u001b[39m\u001b[38;5;141m127.5\u001b[39m\n",
      "\u001b[38;5;15m  \u001b[39m\u001b[38;5;204mPROPOSAL_GENERATOR\u001b[39m\u001b[38;5;15m:\u001b[39m\n",
      "\u001b[38;5;15m    \u001b[39m\u001b[38;5;204mMIN_SIZE\u001b[39m\u001b[38;5;15m:\u001b[39m\u001b[38;5;15m \u001b[39m\u001b[38;5;141m0\u001b[39m\n",
      "\u001b[38;5;15m    \u001b[39m\u001b[38;5;204mNAME\u001b[39m\u001b[38;5;15m:\u001b[39m\u001b[38;5;15m \u001b[39m\u001b[38;5;141mRPN\u001b[39m\n",
      "\u001b[38;5;15m  \u001b[39m\u001b[38;5;204mRESNETS\u001b[39m\u001b[38;5;15m:\u001b[39m\n",
      "\u001b[38;5;15m    \u001b[39m\u001b[38;5;204mDEFORM_MODULATED\u001b[39m\u001b[38;5;15m:\u001b[39m\u001b[38;5;15m \u001b[39m\u001b[38;5;141mfalse\u001b[39m\n",
      "\u001b[38;5;15m    \u001b[39m\u001b[38;5;204mDEFORM_NUM_GROUPS\u001b[39m\u001b[38;5;15m:\u001b[39m\u001b[38;5;15m \u001b[39m\u001b[38;5;141m1\u001b[39m\n",
      "\u001b[38;5;15m    \u001b[39m\u001b[38;5;204mDEFORM_ON_PER_STAGE\u001b[39m\u001b[38;5;15m:\u001b[39m\n",
      "\u001b[38;5;15m    \u001b[39m\u001b[38;5;15m-\u001b[39m\u001b[38;5;15m \u001b[39m\u001b[38;5;141mfalse\u001b[39m\n",
      "\u001b[38;5;15m    \u001b[39m\u001b[38;5;15m-\u001b[39m\u001b[38;5;15m \u001b[39m\u001b[38;5;141mfalse\u001b[39m\n",
      "\u001b[38;5;15m    \u001b[39m\u001b[38;5;15m-\u001b[39m\u001b[38;5;15m \u001b[39m\u001b[38;5;141mfalse\u001b[39m\n",
      "\u001b[38;5;15m    \u001b[39m\u001b[38;5;15m-\u001b[39m\u001b[38;5;15m \u001b[39m\u001b[38;5;141mfalse\u001b[39m\n",
      "\u001b[38;5;15m    \u001b[39m\u001b[38;5;204mDEPTH\u001b[39m\u001b[38;5;15m:\u001b[39m\u001b[38;5;15m \u001b[39m\u001b[38;5;141m50\u001b[39m\n",
      "\u001b[38;5;15m    \u001b[39m\u001b[38;5;204mNORM\u001b[39m\u001b[38;5;15m:\u001b[39m\u001b[38;5;15m \u001b[39m\u001b[38;5;141mFrozenBN\u001b[39m\n",
      "\u001b[38;5;15m    \u001b[39m\u001b[38;5;204mNUM_GROUPS\u001b[39m\u001b[38;5;15m:\u001b[39m\u001b[38;5;15m \u001b[39m\u001b[38;5;141m1\u001b[39m\n",
      "\u001b[38;5;15m    \u001b[39m\u001b[38;5;204mOUT_FEATURES\u001b[39m\u001b[38;5;15m:\u001b[39m\n",
      "\u001b[38;5;15m    \u001b[39m\u001b[38;5;15m-\u001b[39m\u001b[38;5;15m \u001b[39m\u001b[38;5;141mres4\u001b[39m\n",
      "\u001b[38;5;15m    \u001b[39m\u001b[38;5;204mRES2_OUT_CHANNELS\u001b[39m\u001b[38;5;15m:\u001b[39m\u001b[38;5;15m \u001b[39m\u001b[38;5;141m256\u001b[39m\n",
      "\u001b[38;5;15m    \u001b[39m\u001b[38;5;204mRES5_DILATION\u001b[39m\u001b[38;5;15m:\u001b[39m\u001b[38;5;15m \u001b[39m\u001b[38;5;141m1\u001b[39m\n",
      "\u001b[38;5;15m    \u001b[39m\u001b[38;5;204mSTEM_OUT_CHANNELS\u001b[39m\u001b[38;5;15m:\u001b[39m\u001b[38;5;15m \u001b[39m\u001b[38;5;141m64\u001b[39m\n",
      "\u001b[38;5;15m    \u001b[39m\u001b[38;5;204mSTRIDE_IN_1X1\u001b[39m\u001b[38;5;15m:\u001b[39m\u001b[38;5;15m \u001b[39m\u001b[38;5;141mtrue\u001b[39m\n",
      "\u001b[38;5;15m    \u001b[39m\u001b[38;5;204mWIDTH_PER_GROUP\u001b[39m\u001b[38;5;15m:\u001b[39m\u001b[38;5;15m \u001b[39m\u001b[38;5;141m64\u001b[39m\n",
      "\u001b[38;5;15m  \u001b[39m\u001b[38;5;204mRETINANET\u001b[39m\u001b[38;5;15m:\u001b[39m\n",
      "\u001b[38;5;15m    \u001b[39m\u001b[38;5;204mBBOX_REG_LOSS_TYPE\u001b[39m\u001b[38;5;15m:\u001b[39m\u001b[38;5;15m \u001b[39m\u001b[38;5;141msmooth_l1\u001b[39m\n",
      "\u001b[38;5;15m    \u001b[39m\u001b[38;5;204mBBOX_REG_WEIGHTS\u001b[39m\u001b[38;5;15m:\u001b[39m\n",
      "\u001b[38;5;15m    \u001b[39m\u001b[38;5;15m-\u001b[39m\u001b[38;5;15m \u001b[39m\u001b[38;5;141m1.0\u001b[39m\n",
      "\u001b[38;5;15m    \u001b[39m\u001b[38;5;15m-\u001b[39m\u001b[38;5;15m \u001b[39m\u001b[38;5;141m1.0\u001b[39m\n",
      "\u001b[38;5;15m    \u001b[39m\u001b[38;5;15m-\u001b[39m\u001b[38;5;15m \u001b[39m\u001b[38;5;141m1.0\u001b[39m\n",
      "\u001b[38;5;15m    \u001b[39m\u001b[38;5;15m-\u001b[39m\u001b[38;5;15m \u001b[39m\u001b[38;5;141m1.0\u001b[39m\n",
      "\u001b[38;5;15m    \u001b[39m\u001b[38;5;204mFOCAL_LOSS_ALPHA\u001b[39m\u001b[38;5;15m:\u001b[39m\u001b[38;5;15m \u001b[39m\u001b[38;5;141m0.25\u001b[39m\n",
      "\u001b[38;5;15m    \u001b[39m\u001b[38;5;204mFOCAL_LOSS_GAMMA\u001b[39m\u001b[38;5;15m:\u001b[39m\u001b[38;5;15m \u001b[39m\u001b[38;5;141m2.0\u001b[39m\n",
      "\u001b[38;5;15m    \u001b[39m\u001b[38;5;204mIN_FEATURES\u001b[39m\u001b[38;5;15m:\u001b[39m\n",
      "\u001b[38;5;15m    \u001b[39m\u001b[38;5;15m-\u001b[39m\u001b[38;5;15m \u001b[39m\u001b[38;5;141mp3\u001b[39m\n",
      "\u001b[38;5;15m    \u001b[39m\u001b[38;5;15m-\u001b[39m\u001b[38;5;15m \u001b[39m\u001b[38;5;141mp4\u001b[39m\n",
      "\u001b[38;5;15m    \u001b[39m\u001b[38;5;15m-\u001b[39m\u001b[38;5;15m \u001b[39m\u001b[38;5;141mp5\u001b[39m\n",
      "\u001b[38;5;15m    \u001b[39m\u001b[38;5;15m-\u001b[39m\u001b[38;5;15m \u001b[39m\u001b[38;5;141mp6\u001b[39m\n",
      "\u001b[38;5;15m    \u001b[39m\u001b[38;5;15m-\u001b[39m\u001b[38;5;15m \u001b[39m\u001b[38;5;141mp7\u001b[39m\n",
      "\u001b[38;5;15m    \u001b[39m\u001b[38;5;204mIOU_LABELS\u001b[39m\u001b[38;5;15m:\u001b[39m\n",
      "\u001b[38;5;15m    \u001b[39m\u001b[38;5;15m-\u001b[39m\u001b[38;5;15m \u001b[39m\u001b[38;5;141m0\u001b[39m\n",
      "\u001b[38;5;15m    \u001b[39m\u001b[38;5;15m-\u001b[39m\u001b[38;5;15m \u001b[39m\u001b[38;5;141m-1\u001b[39m\n",
      "\u001b[38;5;15m    \u001b[39m\u001b[38;5;15m-\u001b[39m\u001b[38;5;15m \u001b[39m\u001b[38;5;141m1\u001b[39m\n",
      "\u001b[38;5;15m    \u001b[39m\u001b[38;5;204mIOU_THRESHOLDS\u001b[39m\u001b[38;5;15m:\u001b[39m\n",
      "\u001b[38;5;15m    \u001b[39m\u001b[38;5;15m-\u001b[39m\u001b[38;5;15m \u001b[39m\u001b[38;5;141m0.4\u001b[39m\n",
      "\u001b[38;5;15m    \u001b[39m\u001b[38;5;15m-\u001b[39m\u001b[38;5;15m \u001b[39m\u001b[38;5;141m0.5\u001b[39m\n",
      "\u001b[38;5;15m    \u001b[39m\u001b[38;5;204mNMS_THRESH_TEST\u001b[39m\u001b[38;5;15m:\u001b[39m\u001b[38;5;15m \u001b[39m\u001b[38;5;141m0.5\u001b[39m\n",
      "\u001b[38;5;15m    \u001b[39m\u001b[38;5;204mNORM\u001b[39m\u001b[38;5;15m:\u001b[39m\u001b[38;5;15m \u001b[39m\u001b[38;5;186m'\u001b[39m\u001b[38;5;186m'\u001b[39m\n",
      "\u001b[38;5;15m    \u001b[39m\u001b[38;5;204mNUM_CLASSES\u001b[39m\u001b[38;5;15m:\u001b[39m\u001b[38;5;15m \u001b[39m\u001b[38;5;141m10\u001b[39m\n",
      "\u001b[38;5;15m    \u001b[39m\u001b[38;5;204mNUM_CONVS\u001b[39m\u001b[38;5;15m:\u001b[39m\u001b[38;5;15m \u001b[39m\u001b[38;5;141m4\u001b[39m\n",
      "\u001b[38;5;15m    \u001b[39m\u001b[38;5;204mPRIOR_PROB\u001b[39m\u001b[38;5;15m:\u001b[39m\u001b[38;5;15m \u001b[39m\u001b[38;5;141m0.01\u001b[39m\n",
      "\u001b[38;5;15m    \u001b[39m\u001b[38;5;204mSCORE_THRESH_TEST\u001b[39m\u001b[38;5;15m:\u001b[39m\u001b[38;5;15m \u001b[39m\u001b[38;5;141m0.05\u001b[39m\n",
      "\u001b[38;5;15m    \u001b[39m\u001b[38;5;204mSMOOTH_L1_LOSS_BETA\u001b[39m\u001b[38;5;15m:\u001b[39m\u001b[38;5;15m \u001b[39m\u001b[38;5;141m0.1\u001b[39m\n",
      "\u001b[38;5;15m    \u001b[39m\u001b[38;5;204mTOPK_CANDIDATES_TEST\u001b[39m\u001b[38;5;15m:\u001b[39m\u001b[38;5;15m \u001b[39m\u001b[38;5;141m1000\u001b[39m\n",
      "\u001b[38;5;15m  \u001b[39m\u001b[38;5;204mROI_BOX_CASCADE_HEAD\u001b[39m\u001b[38;5;15m:\u001b[39m\n",
      "\u001b[38;5;15m    \u001b[39m\u001b[38;5;204mBBOX_REG_WEIGHTS\u001b[39m\u001b[38;5;15m:\u001b[39m\n",
      "\u001b[38;5;15m    \u001b[39m\u001b[38;5;15m-\u001b[39m\u001b[38;5;15m \u001b[39m\u001b[38;5;15m-\u001b[39m\u001b[38;5;15m \u001b[39m\u001b[38;5;141m10.0\u001b[39m\n",
      "\u001b[38;5;15m      \u001b[39m\u001b[38;5;15m-\u001b[39m\u001b[38;5;15m \u001b[39m\u001b[38;5;141m10.0\u001b[39m\n",
      "\u001b[38;5;15m      \u001b[39m\u001b[38;5;15m-\u001b[39m\u001b[38;5;15m \u001b[39m\u001b[38;5;141m5.0\u001b[39m\n",
      "\u001b[38;5;15m      \u001b[39m\u001b[38;5;15m-\u001b[39m\u001b[38;5;15m \u001b[39m\u001b[38;5;141m5.0\u001b[39m\n",
      "\u001b[38;5;15m    \u001b[39m\u001b[38;5;15m-\u001b[39m\u001b[38;5;15m \u001b[39m\u001b[38;5;15m-\u001b[39m\u001b[38;5;15m \u001b[39m\u001b[38;5;141m20.0\u001b[39m\n",
      "\u001b[38;5;15m      \u001b[39m\u001b[38;5;15m-\u001b[39m\u001b[38;5;15m \u001b[39m\u001b[38;5;141m20.0\u001b[39m\n",
      "\u001b[38;5;15m      \u001b[39m\u001b[38;5;15m-\u001b[39m\u001b[38;5;15m \u001b[39m\u001b[38;5;141m10.0\u001b[39m\n",
      "\u001b[38;5;15m      \u001b[39m\u001b[38;5;15m-\u001b[39m\u001b[38;5;15m \u001b[39m\u001b[38;5;141m10.0\u001b[39m\n",
      "\u001b[38;5;15m    \u001b[39m\u001b[38;5;15m-\u001b[39m\u001b[38;5;15m \u001b[39m\u001b[38;5;15m-\u001b[39m\u001b[38;5;15m \u001b[39m\u001b[38;5;141m30.0\u001b[39m\n",
      "\u001b[38;5;15m      \u001b[39m\u001b[38;5;15m-\u001b[39m\u001b[38;5;15m \u001b[39m\u001b[38;5;141m30.0\u001b[39m\n",
      "\u001b[38;5;15m      \u001b[39m\u001b[38;5;15m-\u001b[39m\u001b[38;5;15m \u001b[39m\u001b[38;5;141m15.0\u001b[39m\n",
      "\u001b[38;5;15m      \u001b[39m\u001b[38;5;15m-\u001b[39m\u001b[38;5;15m \u001b[39m\u001b[38;5;141m15.0\u001b[39m\n",
      "\u001b[38;5;15m    \u001b[39m\u001b[38;5;204mIOUS\u001b[39m\u001b[38;5;15m:\u001b[39m\n",
      "\u001b[38;5;15m    \u001b[39m\u001b[38;5;15m-\u001b[39m\u001b[38;5;15m \u001b[39m\u001b[38;5;141m0.5\u001b[39m\n",
      "\u001b[38;5;15m    \u001b[39m\u001b[38;5;15m-\u001b[39m\u001b[38;5;15m \u001b[39m\u001b[38;5;141m0.6\u001b[39m\n",
      "\u001b[38;5;15m    \u001b[39m\u001b[38;5;15m-\u001b[39m\u001b[38;5;15m \u001b[39m\u001b[38;5;141m0.7\u001b[39m\n",
      "\u001b[38;5;15m  \u001b[39m\u001b[38;5;204mROI_BOX_HEAD\u001b[39m\u001b[38;5;15m:\u001b[39m\n",
      "\u001b[38;5;15m    \u001b[39m\u001b[38;5;204mBBOX_REG_LOSS_TYPE\u001b[39m\u001b[38;5;15m:\u001b[39m\u001b[38;5;15m \u001b[39m\u001b[38;5;141msmooth_l1\u001b[39m\n",
      "\u001b[38;5;15m    \u001b[39m\u001b[38;5;204mBBOX_REG_LOSS_WEIGHT\u001b[39m\u001b[38;5;15m:\u001b[39m\u001b[38;5;15m \u001b[39m\u001b[38;5;141m1.0\u001b[39m\n",
      "\u001b[38;5;15m    \u001b[39m\u001b[38;5;204mBBOX_REG_WEIGHTS\u001b[39m\u001b[38;5;15m:\u001b[39m\n",
      "\u001b[38;5;15m    \u001b[39m\u001b[38;5;15m-\u001b[39m\u001b[38;5;15m \u001b[39m\u001b[38;5;141m10.0\u001b[39m\n",
      "\u001b[38;5;15m    \u001b[39m\u001b[38;5;15m-\u001b[39m\u001b[38;5;15m \u001b[39m\u001b[38;5;141m10.0\u001b[39m\n",
      "\u001b[38;5;15m    \u001b[39m\u001b[38;5;15m-\u001b[39m\u001b[38;5;15m \u001b[39m\u001b[38;5;141m5.0\u001b[39m\n",
      "\u001b[38;5;15m    \u001b[39m\u001b[38;5;15m-\u001b[39m\u001b[38;5;15m \u001b[39m\u001b[38;5;141m5.0\u001b[39m\n",
      "\u001b[38;5;15m    \u001b[39m\u001b[38;5;204mCLS_AGNOSTIC_BBOX_REG\u001b[39m\u001b[38;5;15m:\u001b[39m\u001b[38;5;15m \u001b[39m\u001b[38;5;141mtrue\u001b[39m\n",
      "\u001b[38;5;15m    \u001b[39m\u001b[38;5;204mCONV_DIM\u001b[39m\u001b[38;5;15m:\u001b[39m\u001b[38;5;15m \u001b[39m\u001b[38;5;141m256\u001b[39m\n",
      "\u001b[38;5;15m    \u001b[39m\u001b[38;5;204mFC_DIM\u001b[39m\u001b[38;5;15m:\u001b[39m\u001b[38;5;15m \u001b[39m\u001b[38;5;141m1024\u001b[39m\n",
      "\u001b[38;5;15m    \u001b[39m\u001b[38;5;204mNAME\u001b[39m\u001b[38;5;15m:\u001b[39m\u001b[38;5;15m \u001b[39m\u001b[38;5;141mFastRCNNConvFCHead\u001b[39m\n",
      "\u001b[38;5;15m    \u001b[39m\u001b[38;5;204mNORM\u001b[39m\u001b[38;5;15m:\u001b[39m\u001b[38;5;15m \u001b[39m\u001b[38;5;186m'\u001b[39m\u001b[38;5;186m'\u001b[39m\n",
      "\u001b[38;5;15m    \u001b[39m\u001b[38;5;204mNUM_CONV\u001b[39m\u001b[38;5;15m:\u001b[39m\u001b[38;5;15m \u001b[39m\u001b[38;5;141m0\u001b[39m\n",
      "\u001b[38;5;15m    \u001b[39m\u001b[38;5;204mNUM_FC\u001b[39m\u001b[38;5;15m:\u001b[39m\u001b[38;5;15m \u001b[39m\u001b[38;5;141m2\u001b[39m\n",
      "\u001b[38;5;15m    \u001b[39m\u001b[38;5;204mPOOLER_RESOLUTION\u001b[39m\u001b[38;5;15m:\u001b[39m\u001b[38;5;15m \u001b[39m\u001b[38;5;141m7\u001b[39m\n",
      "\u001b[38;5;15m    \u001b[39m\u001b[38;5;204mPOOLER_SAMPLING_RATIO\u001b[39m\u001b[38;5;15m:\u001b[39m\u001b[38;5;15m \u001b[39m\u001b[38;5;141m0\u001b[39m\n",
      "\u001b[38;5;15m    \u001b[39m\u001b[38;5;204mPOOLER_TYPE\u001b[39m\u001b[38;5;15m:\u001b[39m\u001b[38;5;15m \u001b[39m\u001b[38;5;141mROIAlignV2\u001b[39m\n",
      "\u001b[38;5;15m    \u001b[39m\u001b[38;5;204mSMOOTH_L1_BETA\u001b[39m\u001b[38;5;15m:\u001b[39m\u001b[38;5;15m \u001b[39m\u001b[38;5;141m0.0\u001b[39m\n",
      "\u001b[38;5;15m    \u001b[39m\u001b[38;5;204mTRAIN_ON_PRED_BOXES\u001b[39m\u001b[38;5;15m:\u001b[39m\u001b[38;5;15m \u001b[39m\u001b[38;5;141mfalse\u001b[39m\n",
      "\u001b[38;5;15m  \u001b[39m\u001b[38;5;204mROI_HEADS\u001b[39m\u001b[38;5;15m:\u001b[39m\n",
      "\u001b[38;5;15m    \u001b[39m\u001b[38;5;204mBATCH_SIZE_PER_IMAGE\u001b[39m\u001b[38;5;15m:\u001b[39m\u001b[38;5;15m \u001b[39m\u001b[38;5;141m512\u001b[39m\n",
      "\u001b[38;5;15m    \u001b[39m\u001b[38;5;204mIN_FEATURES\u001b[39m\u001b[38;5;15m:\u001b[39m\n",
      "\u001b[38;5;15m    \u001b[39m\u001b[38;5;15m-\u001b[39m\u001b[38;5;15m \u001b[39m\u001b[38;5;141mp2\u001b[39m\n",
      "\u001b[38;5;15m    \u001b[39m\u001b[38;5;15m-\u001b[39m\u001b[38;5;15m \u001b[39m\u001b[38;5;141mp3\u001b[39m\n",
      "\u001b[38;5;15m    \u001b[39m\u001b[38;5;15m-\u001b[39m\u001b[38;5;15m \u001b[39m\u001b[38;5;141mp4\u001b[39m\n",
      "\u001b[38;5;15m    \u001b[39m\u001b[38;5;15m-\u001b[39m\u001b[38;5;15m \u001b[39m\u001b[38;5;141mp5\u001b[39m\n",
      "\u001b[38;5;15m    \u001b[39m\u001b[38;5;204mIOU_LABELS\u001b[39m\u001b[38;5;15m:\u001b[39m\n",
      "\u001b[38;5;15m    \u001b[39m\u001b[38;5;15m-\u001b[39m\u001b[38;5;15m \u001b[39m\u001b[38;5;141m0\u001b[39m\n",
      "\u001b[38;5;15m    \u001b[39m\u001b[38;5;15m-\u001b[39m\u001b[38;5;15m \u001b[39m\u001b[38;5;141m1\u001b[39m\n",
      "\u001b[38;5;15m    \u001b[39m\u001b[38;5;204mIOU_THRESHOLDS\u001b[39m\u001b[38;5;15m:\u001b[39m\n",
      "\u001b[38;5;15m    \u001b[39m\u001b[38;5;15m-\u001b[39m\u001b[38;5;15m \u001b[39m\u001b[38;5;141m0.5\u001b[39m\n",
      "\u001b[38;5;15m    \u001b[39m\u001b[38;5;204mNAME\u001b[39m\u001b[38;5;15m:\u001b[39m\u001b[38;5;15m \u001b[39m\u001b[38;5;141mCascadeROIHeads\u001b[39m\n",
      "\u001b[38;5;15m    \u001b[39m\u001b[38;5;204mNMS_THRESH_TEST\u001b[39m\u001b[38;5;15m:\u001b[39m\u001b[38;5;15m \u001b[39m\u001b[38;5;141m0.5\u001b[39m\n",
      "\u001b[38;5;15m    \u001b[39m\u001b[38;5;204mNUM_CLASSES\u001b[39m\u001b[38;5;15m:\u001b[39m\u001b[38;5;15m \u001b[39m\u001b[38;5;141m10\u001b[39m\n",
      "\u001b[38;5;15m    \u001b[39m\u001b[38;5;204mPOSITIVE_FRACTION\u001b[39m\u001b[38;5;15m:\u001b[39m\u001b[38;5;15m \u001b[39m\u001b[38;5;141m0.25\u001b[39m\n",
      "\u001b[38;5;15m    \u001b[39m\u001b[38;5;204mPROPOSAL_APPEND_GT\u001b[39m\u001b[38;5;15m:\u001b[39m\u001b[38;5;15m \u001b[39m\u001b[38;5;141mtrue\u001b[39m\n",
      "\u001b[38;5;15m    \u001b[39m\u001b[38;5;204mSCORE_THRESH_TEST\u001b[39m\u001b[38;5;15m:\u001b[39m\u001b[38;5;15m \u001b[39m\u001b[38;5;141m0.05\u001b[39m\n",
      "\u001b[38;5;15m  \u001b[39m\u001b[38;5;204mROI_KEYPOINT_HEAD\u001b[39m\u001b[38;5;15m:\u001b[39m\n",
      "\u001b[38;5;15m    \u001b[39m\u001b[38;5;204mCONV_DIMS\u001b[39m\u001b[38;5;15m:\u001b[39m\n",
      "\u001b[38;5;15m    \u001b[39m\u001b[38;5;15m-\u001b[39m\u001b[38;5;15m \u001b[39m\u001b[38;5;141m512\u001b[39m\n",
      "\u001b[38;5;15m    \u001b[39m\u001b[38;5;15m-\u001b[39m\u001b[38;5;15m \u001b[39m\u001b[38;5;141m512\u001b[39m\n",
      "\u001b[38;5;15m    \u001b[39m\u001b[38;5;15m-\u001b[39m\u001b[38;5;15m \u001b[39m\u001b[38;5;141m512\u001b[39m\n",
      "\u001b[38;5;15m    \u001b[39m\u001b[38;5;15m-\u001b[39m\u001b[38;5;15m \u001b[39m\u001b[38;5;141m512\u001b[39m\n",
      "\u001b[38;5;15m    \u001b[39m\u001b[38;5;15m-\u001b[39m\u001b[38;5;15m \u001b[39m\u001b[38;5;141m512\u001b[39m\n",
      "\u001b[38;5;15m    \u001b[39m\u001b[38;5;15m-\u001b[39m\u001b[38;5;15m \u001b[39m\u001b[38;5;141m512\u001b[39m\n",
      "\u001b[38;5;15m    \u001b[39m\u001b[38;5;15m-\u001b[39m\u001b[38;5;15m \u001b[39m\u001b[38;5;141m512\u001b[39m\n",
      "\u001b[38;5;15m    \u001b[39m\u001b[38;5;15m-\u001b[39m\u001b[38;5;15m \u001b[39m\u001b[38;5;141m512\u001b[39m\n",
      "\u001b[38;5;15m    \u001b[39m\u001b[38;5;204mLOSS_WEIGHT\u001b[39m\u001b[38;5;15m:\u001b[39m\u001b[38;5;15m \u001b[39m\u001b[38;5;141m1.0\u001b[39m\n",
      "\u001b[38;5;15m    \u001b[39m\u001b[38;5;204mMIN_KEYPOINTS_PER_IMAGE\u001b[39m\u001b[38;5;15m:\u001b[39m\u001b[38;5;15m \u001b[39m\u001b[38;5;141m1\u001b[39m\n",
      "\u001b[38;5;15m    \u001b[39m\u001b[38;5;204mNAME\u001b[39m\u001b[38;5;15m:\u001b[39m\u001b[38;5;15m \u001b[39m\u001b[38;5;141mKRCNNConvDeconvUpsampleHead\u001b[39m\n",
      "\u001b[38;5;15m    \u001b[39m\u001b[38;5;204mNORMALIZE_LOSS_BY_VISIBLE_KEYPOINTS\u001b[39m\u001b[38;5;15m:\u001b[39m\u001b[38;5;15m \u001b[39m\u001b[38;5;141mtrue\u001b[39m\n",
      "\u001b[38;5;15m    \u001b[39m\u001b[38;5;204mNUM_KEYPOINTS\u001b[39m\u001b[38;5;15m:\u001b[39m\u001b[38;5;15m \u001b[39m\u001b[38;5;141m17\u001b[39m\n",
      "\u001b[38;5;15m    \u001b[39m\u001b[38;5;204mPOOLER_RESOLUTION\u001b[39m\u001b[38;5;15m:\u001b[39m\u001b[38;5;15m \u001b[39m\u001b[38;5;141m14\u001b[39m\n",
      "\u001b[38;5;15m    \u001b[39m\u001b[38;5;204mPOOLER_SAMPLING_RATIO\u001b[39m\u001b[38;5;15m:\u001b[39m\u001b[38;5;15m \u001b[39m\u001b[38;5;141m0\u001b[39m\n",
      "\u001b[38;5;15m    \u001b[39m\u001b[38;5;204mPOOLER_TYPE\u001b[39m\u001b[38;5;15m:\u001b[39m\u001b[38;5;15m \u001b[39m\u001b[38;5;141mROIAlignV2\u001b[39m\n",
      "\u001b[38;5;15m  \u001b[39m\u001b[38;5;204mROI_MASK_HEAD\u001b[39m\u001b[38;5;15m:\u001b[39m\n",
      "\u001b[38;5;15m    \u001b[39m\u001b[38;5;204mCLS_AGNOSTIC_MASK\u001b[39m\u001b[38;5;15m:\u001b[39m\u001b[38;5;15m \u001b[39m\u001b[38;5;141mfalse\u001b[39m\n",
      "\u001b[38;5;15m    \u001b[39m\u001b[38;5;204mCONV_DIM\u001b[39m\u001b[38;5;15m:\u001b[39m\u001b[38;5;15m \u001b[39m\u001b[38;5;141m256\u001b[39m\n",
      "\u001b[38;5;15m    \u001b[39m\u001b[38;5;204mNAME\u001b[39m\u001b[38;5;15m:\u001b[39m\u001b[38;5;15m \u001b[39m\u001b[38;5;141mMaskRCNNConvUpsampleHead\u001b[39m\n",
      "\u001b[38;5;15m    \u001b[39m\u001b[38;5;204mNORM\u001b[39m\u001b[38;5;15m:\u001b[39m\u001b[38;5;15m \u001b[39m\u001b[38;5;186m'\u001b[39m\u001b[38;5;186m'\u001b[39m\n",
      "\u001b[38;5;15m    \u001b[39m\u001b[38;5;204mNUM_CONV\u001b[39m\u001b[38;5;15m:\u001b[39m\u001b[38;5;15m \u001b[39m\u001b[38;5;141m4\u001b[39m\n",
      "\u001b[38;5;15m    \u001b[39m\u001b[38;5;204mPOOLER_RESOLUTION\u001b[39m\u001b[38;5;15m:\u001b[39m\u001b[38;5;15m \u001b[39m\u001b[38;5;141m14\u001b[39m\n",
      "\u001b[38;5;15m    \u001b[39m\u001b[38;5;204mPOOLER_SAMPLING_RATIO\u001b[39m\u001b[38;5;15m:\u001b[39m\u001b[38;5;15m \u001b[39m\u001b[38;5;141m0\u001b[39m\n",
      "\u001b[38;5;15m    \u001b[39m\u001b[38;5;204mPOOLER_TYPE\u001b[39m\u001b[38;5;15m:\u001b[39m\u001b[38;5;15m \u001b[39m\u001b[38;5;141mROIAlignV2\u001b[39m\n",
      "\u001b[38;5;15m  \u001b[39m\u001b[38;5;204mRPN\u001b[39m\u001b[38;5;15m:\u001b[39m\n",
      "\u001b[38;5;15m    \u001b[39m\u001b[38;5;204mBATCH_SIZE_PER_IMAGE\u001b[39m\u001b[38;5;15m:\u001b[39m\u001b[38;5;15m \u001b[39m\u001b[38;5;141m256\u001b[39m\n",
      "\u001b[38;5;15m    \u001b[39m\u001b[38;5;204mBBOX_REG_LOSS_TYPE\u001b[39m\u001b[38;5;15m:\u001b[39m\u001b[38;5;15m \u001b[39m\u001b[38;5;141msmooth_l1\u001b[39m\n",
      "\u001b[38;5;15m    \u001b[39m\u001b[38;5;204mBBOX_REG_LOSS_WEIGHT\u001b[39m\u001b[38;5;15m:\u001b[39m\u001b[38;5;15m \u001b[39m\u001b[38;5;141m1.0\u001b[39m\n",
      "\u001b[38;5;15m    \u001b[39m\u001b[38;5;204mBBOX_REG_WEIGHTS\u001b[39m\u001b[38;5;15m:\u001b[39m\n",
      "\u001b[38;5;15m    \u001b[39m\u001b[38;5;15m-\u001b[39m\u001b[38;5;15m \u001b[39m\u001b[38;5;141m1.0\u001b[39m\n",
      "\u001b[38;5;15m    \u001b[39m\u001b[38;5;15m-\u001b[39m\u001b[38;5;15m \u001b[39m\u001b[38;5;141m1.0\u001b[39m\n",
      "\u001b[38;5;15m    \u001b[39m\u001b[38;5;15m-\u001b[39m\u001b[38;5;15m \u001b[39m\u001b[38;5;141m1.0\u001b[39m\n",
      "\u001b[38;5;15m    \u001b[39m\u001b[38;5;15m-\u001b[39m\u001b[38;5;15m \u001b[39m\u001b[38;5;141m1.0\u001b[39m\n",
      "\u001b[38;5;15m    \u001b[39m\u001b[38;5;204mBOUNDARY_THRESH\u001b[39m\u001b[38;5;15m:\u001b[39m\u001b[38;5;15m \u001b[39m\u001b[38;5;141m-1\u001b[39m\n",
      "\u001b[38;5;15m    \u001b[39m\u001b[38;5;204mCONV_DIMS\u001b[39m\u001b[38;5;15m:\u001b[39m\n",
      "\u001b[38;5;15m    \u001b[39m\u001b[38;5;15m-\u001b[39m\u001b[38;5;15m \u001b[39m\u001b[38;5;141m-1\u001b[39m\n",
      "\u001b[38;5;15m    \u001b[39m\u001b[38;5;204mHEAD_NAME\u001b[39m\u001b[38;5;15m:\u001b[39m\u001b[38;5;15m \u001b[39m\u001b[38;5;141mStandardRPNHead\u001b[39m\n",
      "\u001b[38;5;15m    \u001b[39m\u001b[38;5;204mIN_FEATURES\u001b[39m\u001b[38;5;15m:\u001b[39m\n",
      "\u001b[38;5;15m    \u001b[39m\u001b[38;5;15m-\u001b[39m\u001b[38;5;15m \u001b[39m\u001b[38;5;141mp2\u001b[39m\n",
      "\u001b[38;5;15m    \u001b[39m\u001b[38;5;15m-\u001b[39m\u001b[38;5;15m \u001b[39m\u001b[38;5;141mp3\u001b[39m\n",
      "\u001b[38;5;15m    \u001b[39m\u001b[38;5;15m-\u001b[39m\u001b[38;5;15m \u001b[39m\u001b[38;5;141mp4\u001b[39m\n",
      "\u001b[38;5;15m    \u001b[39m\u001b[38;5;15m-\u001b[39m\u001b[38;5;15m \u001b[39m\u001b[38;5;141mp5\u001b[39m\n",
      "\u001b[38;5;15m    \u001b[39m\u001b[38;5;15m-\u001b[39m\u001b[38;5;15m \u001b[39m\u001b[38;5;141mp6\u001b[39m\n",
      "\u001b[38;5;15m    \u001b[39m\u001b[38;5;204mIOU_LABELS\u001b[39m\u001b[38;5;15m:\u001b[39m\n",
      "\u001b[38;5;15m    \u001b[39m\u001b[38;5;15m-\u001b[39m\u001b[38;5;15m \u001b[39m\u001b[38;5;141m0\u001b[39m\n",
      "\u001b[38;5;15m    \u001b[39m\u001b[38;5;15m-\u001b[39m\u001b[38;5;15m \u001b[39m\u001b[38;5;141m-1\u001b[39m\n",
      "\u001b[38;5;15m    \u001b[39m\u001b[38;5;15m-\u001b[39m\u001b[38;5;15m \u001b[39m\u001b[38;5;141m1\u001b[39m\n",
      "\u001b[38;5;15m    \u001b[39m\u001b[38;5;204mIOU_THRESHOLDS\u001b[39m\u001b[38;5;15m:\u001b[39m\n",
      "\u001b[38;5;15m    \u001b[39m\u001b[38;5;15m-\u001b[39m\u001b[38;5;15m \u001b[39m\u001b[38;5;141m0.3\u001b[39m\n",
      "\u001b[38;5;15m    \u001b[39m\u001b[38;5;15m-\u001b[39m\u001b[38;5;15m \u001b[39m\u001b[38;5;141m0.7\u001b[39m\n",
      "\u001b[38;5;15m    \u001b[39m\u001b[38;5;204mLOSS_WEIGHT\u001b[39m\u001b[38;5;15m:\u001b[39m\u001b[38;5;15m \u001b[39m\u001b[38;5;141m1.0\u001b[39m\n",
      "\u001b[38;5;15m    \u001b[39m\u001b[38;5;204mNMS_THRESH\u001b[39m\u001b[38;5;15m:\u001b[39m\u001b[38;5;15m \u001b[39m\u001b[38;5;141m0.7\u001b[39m\n",
      "\u001b[38;5;15m    \u001b[39m\u001b[38;5;204mPOSITIVE_FRACTION\u001b[39m\u001b[38;5;15m:\u001b[39m\u001b[38;5;15m \u001b[39m\u001b[38;5;141m0.5\u001b[39m\n",
      "\u001b[38;5;15m    \u001b[39m\u001b[38;5;204mPOST_NMS_TOPK_TEST\u001b[39m\u001b[38;5;15m:\u001b[39m\u001b[38;5;15m \u001b[39m\u001b[38;5;141m1000\u001b[39m\n",
      "\u001b[38;5;15m    \u001b[39m\u001b[38;5;204mPOST_NMS_TOPK_TRAIN\u001b[39m\u001b[38;5;15m:\u001b[39m\u001b[38;5;15m \u001b[39m\u001b[38;5;141m2000\u001b[39m\n",
      "\u001b[38;5;15m    \u001b[39m\u001b[38;5;204mPRE_NMS_TOPK_TEST\u001b[39m\u001b[38;5;15m:\u001b[39m\u001b[38;5;15m \u001b[39m\u001b[38;5;141m1000\u001b[39m\n",
      "\u001b[38;5;15m    \u001b[39m\u001b[38;5;204mPRE_NMS_TOPK_TRAIN\u001b[39m\u001b[38;5;15m:\u001b[39m\u001b[38;5;15m \u001b[39m\u001b[38;5;141m2000\u001b[39m\n",
      "\u001b[38;5;15m    \u001b[39m\u001b[38;5;204mSMOOTH_L1_BETA\u001b[39m\u001b[38;5;15m:\u001b[39m\u001b[38;5;15m \u001b[39m\u001b[38;5;141m0.0\u001b[39m\n",
      "\u001b[38;5;15m  \u001b[39m\u001b[38;5;204mSEM_SEG_HEAD\u001b[39m\u001b[38;5;15m:\u001b[39m\n",
      "\u001b[38;5;15m    \u001b[39m\u001b[38;5;204mCOMMON_STRIDE\u001b[39m\u001b[38;5;15m:\u001b[39m\u001b[38;5;15m \u001b[39m\u001b[38;5;141m4\u001b[39m\n",
      "\u001b[38;5;15m    \u001b[39m\u001b[38;5;204mCONVS_DIM\u001b[39m\u001b[38;5;15m:\u001b[39m\u001b[38;5;15m \u001b[39m\u001b[38;5;141m128\u001b[39m\n",
      "\u001b[38;5;15m    \u001b[39m\u001b[38;5;204mIGNORE_VALUE\u001b[39m\u001b[38;5;15m:\u001b[39m\u001b[38;5;15m \u001b[39m\u001b[38;5;141m255\u001b[39m\n",
      "\u001b[38;5;15m    \u001b[39m\u001b[38;5;204mIN_FEATURES\u001b[39m\u001b[38;5;15m:\u001b[39m\n",
      "\u001b[38;5;15m    \u001b[39m\u001b[38;5;15m-\u001b[39m\u001b[38;5;15m \u001b[39m\u001b[38;5;141mp2\u001b[39m\n",
      "\u001b[38;5;15m    \u001b[39m\u001b[38;5;15m-\u001b[39m\u001b[38;5;15m \u001b[39m\u001b[38;5;141mp3\u001b[39m\n",
      "\u001b[38;5;15m    \u001b[39m\u001b[38;5;15m-\u001b[39m\u001b[38;5;15m \u001b[39m\u001b[38;5;141mp4\u001b[39m\n",
      "\u001b[38;5;15m    \u001b[39m\u001b[38;5;15m-\u001b[39m\u001b[38;5;15m \u001b[39m\u001b[38;5;141mp5\u001b[39m\n",
      "\u001b[38;5;15m    \u001b[39m\u001b[38;5;204mLOSS_WEIGHT\u001b[39m\u001b[38;5;15m:\u001b[39m\u001b[38;5;15m \u001b[39m\u001b[38;5;141m1.0\u001b[39m\n",
      "\u001b[38;5;15m    \u001b[39m\u001b[38;5;204mNAME\u001b[39m\u001b[38;5;15m:\u001b[39m\u001b[38;5;15m \u001b[39m\u001b[38;5;141mSemSegFPNHead\u001b[39m\n",
      "\u001b[38;5;15m    \u001b[39m\u001b[38;5;204mNORM\u001b[39m\u001b[38;5;15m:\u001b[39m\u001b[38;5;15m \u001b[39m\u001b[38;5;141mGN\u001b[39m\n",
      "\u001b[38;5;15m    \u001b[39m\u001b[38;5;204mNUM_CLASSES\u001b[39m\u001b[38;5;15m:\u001b[39m\u001b[38;5;15m \u001b[39m\u001b[38;5;141m10\u001b[39m\n",
      "\u001b[38;5;15m  \u001b[39m\u001b[38;5;204mVIT\u001b[39m\u001b[38;5;15m:\u001b[39m\n",
      "\u001b[38;5;15m    \u001b[39m\u001b[38;5;204mDROP_PATH\u001b[39m\u001b[38;5;15m:\u001b[39m\u001b[38;5;15m \u001b[39m\u001b[38;5;141m0.1\u001b[39m\n",
      "\u001b[38;5;15m    \u001b[39m\u001b[38;5;204mIMG_SIZE\u001b[39m\u001b[38;5;15m:\u001b[39m\n",
      "\u001b[38;5;15m    \u001b[39m\u001b[38;5;15m-\u001b[39m\u001b[38;5;15m \u001b[39m\u001b[38;5;141m224\u001b[39m\n",
      "\u001b[38;5;15m    \u001b[39m\u001b[38;5;15m-\u001b[39m\u001b[38;5;15m \u001b[39m\u001b[38;5;141m224\u001b[39m\n",
      "\u001b[38;5;15m    \u001b[39m\u001b[38;5;204mNAME\u001b[39m\u001b[38;5;15m:\u001b[39m\u001b[38;5;15m \u001b[39m\u001b[38;5;141mlayoutlmv3_base\u001b[39m\n",
      "\u001b[38;5;15m    \u001b[39m\u001b[38;5;204mOUT_FEATURES\u001b[39m\u001b[38;5;15m:\u001b[39m\n",
      "\u001b[38;5;15m    \u001b[39m\u001b[38;5;15m-\u001b[39m\u001b[38;5;15m \u001b[39m\u001b[38;5;141mlayer3\u001b[39m\n",
      "\u001b[38;5;15m    \u001b[39m\u001b[38;5;15m-\u001b[39m\u001b[38;5;15m \u001b[39m\u001b[38;5;141mlayer5\u001b[39m\n",
      "\u001b[38;5;15m    \u001b[39m\u001b[38;5;15m-\u001b[39m\u001b[38;5;15m \u001b[39m\u001b[38;5;141mlayer7\u001b[39m\n",
      "\u001b[38;5;15m    \u001b[39m\u001b[38;5;15m-\u001b[39m\u001b[38;5;15m \u001b[39m\u001b[38;5;141mlayer11\u001b[39m\n",
      "\u001b[38;5;15m    \u001b[39m\u001b[38;5;204mPOS_TYPE\u001b[39m\u001b[38;5;15m:\u001b[39m\u001b[38;5;15m \u001b[39m\u001b[38;5;141mabs\u001b[39m\n",
      "\u001b[38;5;15m  \u001b[39m\u001b[38;5;204mWEIGHTS\u001b[39m\u001b[38;5;15m:\u001b[39m\u001b[38;5;15m \u001b[39m\n",
      "\u001b[38;5;204mOUTPUT_DIR\u001b[39m\u001b[38;5;15m:\u001b[39m\u001b[38;5;15m \u001b[39m\n",
      "\u001b[38;5;204mSCIHUB_DATA_DIR_TRAIN\u001b[39m\u001b[38;5;15m:\u001b[39m\u001b[38;5;15m \u001b[39m\u001b[38;5;141m~/publaynet/layout_scihub/train\u001b[39m\n",
      "\u001b[38;5;204mSEED\u001b[39m\u001b[38;5;15m:\u001b[39m\u001b[38;5;15m \u001b[39m\u001b[38;5;141m42\u001b[39m\n",
      "\u001b[38;5;204mSOLVER\u001b[39m\u001b[38;5;15m:\u001b[39m\n",
      "\u001b[38;5;15m  \u001b[39m\u001b[38;5;204mAMP\u001b[39m\u001b[38;5;15m:\u001b[39m\n",
      "\u001b[38;5;15m    \u001b[39m\u001b[38;5;204mENABLED\u001b[39m\u001b[38;5;15m:\u001b[39m\u001b[38;5;15m \u001b[39m\u001b[38;5;141mtrue\u001b[39m\n",
      "\u001b[38;5;15m  \u001b[39m\u001b[38;5;204mBACKBONE_MULTIPLIER\u001b[39m\u001b[38;5;15m:\u001b[39m\u001b[38;5;15m \u001b[39m\u001b[38;5;141m1.0\u001b[39m\n",
      "\u001b[38;5;15m  \u001b[39m\u001b[38;5;204mBASE_LR\u001b[39m\u001b[38;5;15m:\u001b[39m\u001b[38;5;15m \u001b[39m\u001b[38;5;141m0.0002\u001b[39m\n",
      "\u001b[38;5;15m  \u001b[39m\u001b[38;5;204mBIAS_LR_FACTOR\u001b[39m\u001b[38;5;15m:\u001b[39m\u001b[38;5;15m \u001b[39m\u001b[38;5;141m1.0\u001b[39m\n",
      "\u001b[38;5;15m  \u001b[39m\u001b[38;5;204mCHECKPOINT_PERIOD\u001b[39m\u001b[38;5;15m:\u001b[39m\u001b[38;5;15m \u001b[39m\u001b[38;5;141m2000\u001b[39m\n",
      "\u001b[38;5;15m  \u001b[39m\u001b[38;5;204mCLIP_GRADIENTS\u001b[39m\u001b[38;5;15m:\u001b[39m\n",
      "\u001b[38;5;15m    \u001b[39m\u001b[38;5;204mCLIP_TYPE\u001b[39m\u001b[38;5;15m:\u001b[39m\u001b[38;5;15m \u001b[39m\u001b[38;5;141mfull_model\u001b[39m\n",
      "\u001b[38;5;15m    \u001b[39m\u001b[38;5;204mCLIP_VALUE\u001b[39m\u001b[38;5;15m:\u001b[39m\u001b[38;5;15m \u001b[39m\u001b[38;5;141m1.0\u001b[39m\n",
      "\u001b[38;5;15m    \u001b[39m\u001b[38;5;204mENABLED\u001b[39m\u001b[38;5;15m:\u001b[39m\u001b[38;5;15m \u001b[39m\u001b[38;5;141mtrue\u001b[39m\n",
      "\u001b[38;5;15m    \u001b[39m\u001b[38;5;204mNORM_TYPE\u001b[39m\u001b[38;5;15m:\u001b[39m\u001b[38;5;15m \u001b[39m\u001b[38;5;141m2.0\u001b[39m\n",
      "\u001b[38;5;15m  \u001b[39m\u001b[38;5;204mGAMMA\u001b[39m\u001b[38;5;15m:\u001b[39m\u001b[38;5;15m \u001b[39m\u001b[38;5;141m0.1\u001b[39m\n",
      "\u001b[38;5;15m  \u001b[39m\u001b[38;5;204mGRADIENT_ACCUMULATION_STEPS\u001b[39m\u001b[38;5;15m:\u001b[39m\u001b[38;5;15m \u001b[39m\u001b[38;5;141m1\u001b[39m\n",
      "\u001b[38;5;15m  \u001b[39m\u001b[38;5;204mIMS_PER_BATCH\u001b[39m\u001b[38;5;15m:\u001b[39m\u001b[38;5;15m \u001b[39m\u001b[38;5;141m32\u001b[39m\n",
      "\u001b[38;5;15m  \u001b[39m\u001b[38;5;204mLR_SCHEDULER_NAME\u001b[39m\u001b[38;5;15m:\u001b[39m\u001b[38;5;15m \u001b[39m\u001b[38;5;141mWarmupCosineLR\u001b[39m\n",
      "\u001b[38;5;15m  \u001b[39m\u001b[38;5;204mMAX_ITER\u001b[39m\u001b[38;5;15m:\u001b[39m\u001b[38;5;15m \u001b[39m\u001b[38;5;141m20000\u001b[39m\n",
      "\u001b[38;5;15m  \u001b[39m\u001b[38;5;204mMOMENTUM\u001b[39m\u001b[38;5;15m:\u001b[39m\u001b[38;5;15m \u001b[39m\u001b[38;5;141m0.9\u001b[39m\n",
      "\u001b[38;5;15m  \u001b[39m\u001b[38;5;204mNESTEROV\u001b[39m\u001b[38;5;15m:\u001b[39m\u001b[38;5;15m \u001b[39m\u001b[38;5;141mfalse\u001b[39m\n",
      "\u001b[38;5;15m  \u001b[39m\u001b[38;5;204mOPTIMIZER\u001b[39m\u001b[38;5;15m:\u001b[39m\u001b[38;5;15m \u001b[39m\u001b[38;5;141mADAMW\u001b[39m\n",
      "\u001b[38;5;15m  \u001b[39m\u001b[38;5;204mREFERENCE_WORLD_SIZE\u001b[39m\u001b[38;5;15m:\u001b[39m\u001b[38;5;15m \u001b[39m\u001b[38;5;141m0\u001b[39m\n",
      "\u001b[38;5;15m  \u001b[39m\u001b[38;5;204mSTEPS\u001b[39m\u001b[38;5;15m:\u001b[39m\n",
      "\u001b[38;5;15m  \u001b[39m\u001b[38;5;15m-\u001b[39m\u001b[38;5;15m \u001b[39m\u001b[38;5;141m10000\u001b[39m\n",
      "\u001b[38;5;15m  \u001b[39m\u001b[38;5;204mWARMUP_FACTOR\u001b[39m\u001b[38;5;15m:\u001b[39m\u001b[38;5;15m \u001b[39m\u001b[38;5;141m0.01\u001b[39m\n",
      "\u001b[38;5;15m  \u001b[39m\u001b[38;5;204mWARMUP_ITERS\u001b[39m\u001b[38;5;15m:\u001b[39m\u001b[38;5;15m \u001b[39m\u001b[38;5;141m333\u001b[39m\n",
      "\u001b[38;5;15m  \u001b[39m\u001b[38;5;204mWARMUP_METHOD\u001b[39m\u001b[38;5;15m:\u001b[39m\u001b[38;5;15m \u001b[39m\u001b[38;5;141mlinear\u001b[39m\n",
      "\u001b[38;5;15m  \u001b[39m\u001b[38;5;204mWEIGHT_DECAY\u001b[39m\u001b[38;5;15m:\u001b[39m\u001b[38;5;15m \u001b[39m\u001b[38;5;141m0.05\u001b[39m\n",
      "\u001b[38;5;15m  \u001b[39m\u001b[38;5;204mWEIGHT_DECAY_BIAS\u001b[39m\u001b[38;5;15m:\u001b[39m\u001b[38;5;15m \u001b[39m\u001b[38;5;141mnull\u001b[39m\n",
      "\u001b[38;5;15m  \u001b[39m\u001b[38;5;204mWEIGHT_DECAY_NORM\u001b[39m\u001b[38;5;15m:\u001b[39m\u001b[38;5;15m \u001b[39m\u001b[38;5;141m0.0\u001b[39m\n",
      "\u001b[38;5;204mTEST\u001b[39m\u001b[38;5;15m:\u001b[39m\n",
      "\u001b[38;5;15m  \u001b[39m\u001b[38;5;204mAUG\u001b[39m\u001b[38;5;15m:\u001b[39m\n",
      "\u001b[38;5;15m    \u001b[39m\u001b[38;5;204mENABLED\u001b[39m\u001b[38;5;15m:\u001b[39m\u001b[38;5;15m \u001b[39m\u001b[38;5;141mfalse\u001b[39m\n",
      "\u001b[38;5;15m    \u001b[39m\u001b[38;5;204mFLIP\u001b[39m\u001b[38;5;15m:\u001b[39m\u001b[38;5;15m \u001b[39m\u001b[38;5;141mtrue\u001b[39m\n",
      "\u001b[38;5;15m    \u001b[39m\u001b[38;5;204mMAX_SIZE\u001b[39m\u001b[38;5;15m:\u001b[39m\u001b[38;5;15m \u001b[39m\u001b[38;5;141m4000\u001b[39m\n",
      "\u001b[38;5;15m    \u001b[39m\u001b[38;5;204mMIN_SIZES\u001b[39m\u001b[38;5;15m:\u001b[39m\n",
      "\u001b[38;5;15m    \u001b[39m\u001b[38;5;15m-\u001b[39m\u001b[38;5;15m \u001b[39m\u001b[38;5;141m400\u001b[39m\n",
      "\u001b[38;5;15m    \u001b[39m\u001b[38;5;15m-\u001b[39m\u001b[38;5;15m \u001b[39m\u001b[38;5;141m500\u001b[39m\n",
      "\u001b[38;5;15m    \u001b[39m\u001b[38;5;15m-\u001b[39m\u001b[38;5;15m \u001b[39m\u001b[38;5;141m600\u001b[39m\n",
      "\u001b[38;5;15m    \u001b[39m\u001b[38;5;15m-\u001b[39m\u001b[38;5;15m \u001b[39m\u001b[38;5;141m700\u001b[39m\n",
      "\u001b[38;5;15m    \u001b[39m\u001b[38;5;15m-\u001b[39m\u001b[38;5;15m \u001b[39m\u001b[38;5;141m800\u001b[39m\n",
      "\u001b[38;5;15m    \u001b[39m\u001b[38;5;15m-\u001b[39m\u001b[38;5;15m \u001b[39m\u001b[38;5;141m900\u001b[39m\n",
      "\u001b[38;5;15m    \u001b[39m\u001b[38;5;15m-\u001b[39m\u001b[38;5;15m \u001b[39m\u001b[38;5;141m1000\u001b[39m\n",
      "\u001b[38;5;15m    \u001b[39m\u001b[38;5;15m-\u001b[39m\u001b[38;5;15m \u001b[39m\u001b[38;5;141m1100\u001b[39m\n",
      "\u001b[38;5;15m    \u001b[39m\u001b[38;5;15m-\u001b[39m\u001b[38;5;15m \u001b[39m\u001b[38;5;141m1200\u001b[39m\n",
      "\u001b[38;5;15m  \u001b[39m\u001b[38;5;204mDETECTIONS_PER_IMAGE\u001b[39m\u001b[38;5;15m:\u001b[39m\u001b[38;5;15m \u001b[39m\u001b[38;5;141m100\u001b[39m\n",
      "\u001b[38;5;15m  \u001b[39m\u001b[38;5;204mEVAL_PERIOD\u001b[39m\u001b[38;5;15m:\u001b[39m\u001b[38;5;15m \u001b[39m\u001b[38;5;141m1000\u001b[39m\n",
      "\u001b[38;5;15m  \u001b[39m\u001b[38;5;204mEXPECTED_RESULTS\u001b[39m\u001b[38;5;15m:\u001b[39m\u001b[38;5;15m \u001b[39m\u001b[38;5;15m[\u001b[39m\u001b[38;5;15m]\u001b[39m\n",
      "\u001b[38;5;15m  \u001b[39m\u001b[38;5;204mKEYPOINT_OKS_SIGMAS\u001b[39m\u001b[38;5;15m:\u001b[39m\u001b[38;5;15m \u001b[39m\u001b[38;5;15m[\u001b[39m\u001b[38;5;15m]\u001b[39m\n",
      "\u001b[38;5;15m  \u001b[39m\u001b[38;5;204mPRECISE_BN\u001b[39m\u001b[38;5;15m:\u001b[39m\n",
      "\u001b[38;5;15m    \u001b[39m\u001b[38;5;204mENABLED\u001b[39m\u001b[38;5;15m:\u001b[39m\u001b[38;5;15m \u001b[39m\u001b[38;5;141mfalse\u001b[39m\n",
      "\u001b[38;5;15m    \u001b[39m\u001b[38;5;204mNUM_ITER\u001b[39m\u001b[38;5;15m:\u001b[39m\u001b[38;5;15m \u001b[39m\u001b[38;5;141m200\u001b[39m\n",
      "\u001b[38;5;204mVERSION\u001b[39m\u001b[38;5;15m:\u001b[39m\u001b[38;5;15m \u001b[39m\u001b[38;5;141m2\u001b[39m\n",
      "\u001b[38;5;204mVIS_PERIOD\u001b[39m\u001b[38;5;15m:\u001b[39m\u001b[38;5;15m \u001b[39m\u001b[38;5;141m0\u001b[39m\n",
      "\n",
      "\u001b[32m[01/01 02:28:24 d2.checkpoint.detection_checkpoint]: \u001b[0m[DetectionCheckpointer] Loading from /Users/id4thomas/models/mineru/pdf-extract-kit/models/Layout/LayoutLMv3/model_final.pth ...\n",
      "\u001b[32m[01/01 02:28:24 fvcore.common.checkpoint]: \u001b[0m[Checkpointer] Loading from /Users/id4thomas/models/mineru/pdf-extract-kit/models/Layout/LayoutLMv3/model_final.pth ...\n",
      "download https://paddleocr.bj.bcebos.com/PP-OCRv4/chinese/ch_PP-OCRv4_det_infer.tar to /Users/id4thomas/.paddleocr/whl/det/ch/ch_PP-OCRv4_det_infer/ch_PP-OCRv4_det_infer.tar\n"
     ]
    },
    {
     "name": "stderr",
     "output_type": "stream",
     "text": [
      "100%|██████████| 4780/4780 [00:14<00:00, 338.82it/s]\n"
     ]
    },
    {
     "name": "stdout",
     "output_type": "stream",
     "text": [
      "download https://paddleocr.bj.bcebos.com/PP-OCRv4/chinese/ch_PP-OCRv4_rec_infer.tar to /Users/id4thomas/.paddleocr/whl/rec/ch/ch_PP-OCRv4_rec_infer/ch_PP-OCRv4_rec_infer.tar\n"
     ]
    },
    {
     "name": "stderr",
     "output_type": "stream",
     "text": [
      "100%|██████████| 10720/10720 [00:04<00:00, 2538.33it/s]\n"
     ]
    },
    {
     "name": "stdout",
     "output_type": "stream",
     "text": [
      "download https://paddleocr.bj.bcebos.com/dygraph_v2.0/ch/ch_ppocr_mobile_v2.0_cls_infer.tar to /Users/id4thomas/.paddleocr/whl/cls/ch_ppocr_mobile_v2.0_cls_infer/ch_ppocr_mobile_v2.0_cls_infer.tar\n"
     ]
    },
    {
     "name": "stderr",
     "output_type": "stream",
     "text": [
      "100%|██████████| 2138/2138 [00:06<00:00, 330.91it/s]\n",
      "\u001b[32m2025-01-01 02:28:52.214\u001b[0m | \u001b[1mINFO    \u001b[0m | \u001b[36mmagic_pdf.model.pdf_extract_kit\u001b[0m:\u001b[36m__init__\u001b[0m:\u001b[36m170\u001b[0m - \u001b[1mDocAnalysis init done!\u001b[0m\n",
      "\u001b[32m2025-01-01 02:28:52.214\u001b[0m | \u001b[1mINFO    \u001b[0m | \u001b[36mmagic_pdf.model.doc_analyze_by_custom_model\u001b[0m:\u001b[36mcustom_model_init\u001b[0m:\u001b[36m181\u001b[0m - \u001b[1mmodel init cost: 39.79191517829895\u001b[0m\n",
      "\u001b[32m2025-01-01 02:29:07.288\u001b[0m | \u001b[1mINFO    \u001b[0m | \u001b[36mmagic_pdf.model.pdf_extract_kit\u001b[0m:\u001b[36m__call__\u001b[0m:\u001b[36m202\u001b[0m - \u001b[1mlayout detection time: 15.05\u001b[0m\n",
      "\u001b[32m2025-01-01 02:29:10.096\u001b[0m | \u001b[1mINFO    \u001b[0m | \u001b[36mmagic_pdf.model.pdf_extract_kit\u001b[0m:\u001b[36m__call__\u001b[0m:\u001b[36m210\u001b[0m - \u001b[1mmfd time: 2.8\u001b[0m\n",
      "\u001b[32m2025-01-01 02:29:10.099\u001b[0m | \u001b[1mINFO    \u001b[0m | \u001b[36mmagic_pdf.model.pdf_extract_kit\u001b[0m:\u001b[36m__call__\u001b[0m:\u001b[36m217\u001b[0m - \u001b[1mformula nums: 0, mfr time: 0.0\u001b[0m\n",
      "\u001b[32m2025-01-01 02:29:11.229\u001b[0m | \u001b[1mINFO    \u001b[0m | \u001b[36mmagic_pdf.model.pdf_extract_kit\u001b[0m:\u001b[36m__call__\u001b[0m:\u001b[36m251\u001b[0m - \u001b[1mdet time: 1.13\u001b[0m\n",
      "\u001b[32m2025-01-01 02:29:11.229\u001b[0m | \u001b[1mINFO    \u001b[0m | \u001b[36mmagic_pdf.model.doc_analyze_by_custom_model\u001b[0m:\u001b[36mdoc_analyze\u001b[0m:\u001b[36m224\u001b[0m - \u001b[1m-----page_id : 0, page total time: 18.99-----\u001b[0m\n",
      "\u001b[32m2025-01-01 02:29:16.952\u001b[0m | \u001b[1mINFO    \u001b[0m | \u001b[36mmagic_pdf.model.pdf_extract_kit\u001b[0m:\u001b[36m__call__\u001b[0m:\u001b[36m202\u001b[0m - \u001b[1mlayout detection time: 5.7\u001b[0m\n",
      "\u001b[32m2025-01-01 02:29:19.451\u001b[0m | \u001b[1mINFO    \u001b[0m | \u001b[36mmagic_pdf.model.pdf_extract_kit\u001b[0m:\u001b[36m__call__\u001b[0m:\u001b[36m210\u001b[0m - \u001b[1mmfd time: 2.5\u001b[0m\n",
      "\u001b[32m2025-01-01 02:29:26.472\u001b[0m | \u001b[1mINFO    \u001b[0m | \u001b[36mmagic_pdf.model.pdf_extract_kit\u001b[0m:\u001b[36m__call__\u001b[0m:\u001b[36m217\u001b[0m - \u001b[1mformula nums: 7, mfr time: 7.02\u001b[0m\n",
      "\u001b[32m2025-01-01 02:29:27.715\u001b[0m | \u001b[1mINFO    \u001b[0m | \u001b[36mmagic_pdf.model.pdf_extract_kit\u001b[0m:\u001b[36m__call__\u001b[0m:\u001b[36m251\u001b[0m - \u001b[1mdet time: 1.24\u001b[0m\n",
      "\u001b[32m2025-01-01 02:29:27.716\u001b[0m | \u001b[1mINFO    \u001b[0m | \u001b[36mmagic_pdf.model.doc_analyze_by_custom_model\u001b[0m:\u001b[36mdoc_analyze\u001b[0m:\u001b[36m224\u001b[0m - \u001b[1m-----page_id : 1, page total time: 16.47-----\u001b[0m\n",
      "\u001b[32m2025-01-01 02:29:33.898\u001b[0m | \u001b[1mINFO    \u001b[0m | \u001b[36mmagic_pdf.model.pdf_extract_kit\u001b[0m:\u001b[36m__call__\u001b[0m:\u001b[36m202\u001b[0m - \u001b[1mlayout detection time: 6.12\u001b[0m\n",
      "\u001b[32m2025-01-01 02:29:36.452\u001b[0m | \u001b[1mINFO    \u001b[0m | \u001b[36mmagic_pdf.model.pdf_extract_kit\u001b[0m:\u001b[36m__call__\u001b[0m:\u001b[36m210\u001b[0m - \u001b[1mmfd time: 2.55\u001b[0m\n",
      "\u001b[32m2025-01-01 02:29:41.532\u001b[0m | \u001b[1mINFO    \u001b[0m | \u001b[36mmagic_pdf.model.pdf_extract_kit\u001b[0m:\u001b[36m__call__\u001b[0m:\u001b[36m217\u001b[0m - \u001b[1mformula nums: 7, mfr time: 5.08\u001b[0m\n",
      "\u001b[32m2025-01-01 02:29:42.154\u001b[0m | \u001b[1mINFO    \u001b[0m | \u001b[36mmagic_pdf.model.pdf_extract_kit\u001b[0m:\u001b[36m__call__\u001b[0m:\u001b[36m251\u001b[0m - \u001b[1mdet time: 0.62\u001b[0m\n",
      "\u001b[32m2025-01-01 02:29:42.154\u001b[0m | \u001b[1mINFO    \u001b[0m | \u001b[36mmagic_pdf.model.doc_analyze_by_custom_model\u001b[0m:\u001b[36mdoc_analyze\u001b[0m:\u001b[36m224\u001b[0m - \u001b[1m-----page_id : 2, page total time: 14.38-----\u001b[0m\n",
      "\u001b[32m2025-01-01 02:29:48.222\u001b[0m | \u001b[1mINFO    \u001b[0m | \u001b[36mmagic_pdf.model.pdf_extract_kit\u001b[0m:\u001b[36m__call__\u001b[0m:\u001b[36m202\u001b[0m - \u001b[1mlayout detection time: 6.03\u001b[0m\n",
      "\u001b[32m2025-01-01 02:29:50.721\u001b[0m | \u001b[1mINFO    \u001b[0m | \u001b[36mmagic_pdf.model.pdf_extract_kit\u001b[0m:\u001b[36m__call__\u001b[0m:\u001b[36m210\u001b[0m - \u001b[1mmfd time: 2.5\u001b[0m\n",
      "\u001b[32m2025-01-01 02:30:08.931\u001b[0m | \u001b[1mINFO    \u001b[0m | \u001b[36mmagic_pdf.model.pdf_extract_kit\u001b[0m:\u001b[36m__call__\u001b[0m:\u001b[36m217\u001b[0m - \u001b[1mformula nums: 22, mfr time: 18.21\u001b[0m\n",
      "\u001b[32m2025-01-01 02:30:10.004\u001b[0m | \u001b[1mINFO    \u001b[0m | \u001b[36mmagic_pdf.model.pdf_extract_kit\u001b[0m:\u001b[36m__call__\u001b[0m:\u001b[36m251\u001b[0m - \u001b[1mdet time: 1.07\u001b[0m\n",
      "\u001b[32m2025-01-01 02:30:10.005\u001b[0m | \u001b[1mINFO    \u001b[0m | \u001b[36mmagic_pdf.model.doc_analyze_by_custom_model\u001b[0m:\u001b[36mdoc_analyze\u001b[0m:\u001b[36m224\u001b[0m - \u001b[1m-----page_id : 3, page total time: 27.81-----\u001b[0m\n",
      "\u001b[32m2025-01-01 02:30:16.249\u001b[0m | \u001b[1mINFO    \u001b[0m | \u001b[36mmagic_pdf.model.pdf_extract_kit\u001b[0m:\u001b[36m__call__\u001b[0m:\u001b[36m202\u001b[0m - \u001b[1mlayout detection time: 6.23\u001b[0m\n",
      "\u001b[32m2025-01-01 02:30:18.858\u001b[0m | \u001b[1mINFO    \u001b[0m | \u001b[36mmagic_pdf.model.pdf_extract_kit\u001b[0m:\u001b[36m__call__\u001b[0m:\u001b[36m210\u001b[0m - \u001b[1mmfd time: 2.6\u001b[0m\n",
      "\u001b[32m2025-01-01 02:30:39.141\u001b[0m | \u001b[1mINFO    \u001b[0m | \u001b[36mmagic_pdf.model.pdf_extract_kit\u001b[0m:\u001b[36m__call__\u001b[0m:\u001b[36m217\u001b[0m - \u001b[1mformula nums: 11, mfr time: 20.28\u001b[0m\n",
      "\u001b[32m2025-01-01 02:30:40.310\u001b[0m | \u001b[1mINFO    \u001b[0m | \u001b[36mmagic_pdf.model.pdf_extract_kit\u001b[0m:\u001b[36m__call__\u001b[0m:\u001b[36m251\u001b[0m - \u001b[1mdet time: 1.17\u001b[0m\n",
      "\u001b[32m2025-01-01 02:30:40.311\u001b[0m | \u001b[1mINFO    \u001b[0m | \u001b[36mmagic_pdf.model.doc_analyze_by_custom_model\u001b[0m:\u001b[36mdoc_analyze\u001b[0m:\u001b[36m224\u001b[0m - \u001b[1m-----page_id : 4, page total time: 30.29-----\u001b[0m\n",
      "\u001b[32m2025-01-01 02:30:46.176\u001b[0m | \u001b[1mINFO    \u001b[0m | \u001b[36mmagic_pdf.model.pdf_extract_kit\u001b[0m:\u001b[36m__call__\u001b[0m:\u001b[36m202\u001b[0m - \u001b[1mlayout detection time: 5.85\u001b[0m\n",
      "\u001b[32m2025-01-01 02:30:48.666\u001b[0m | \u001b[1mINFO    \u001b[0m | \u001b[36mmagic_pdf.model.pdf_extract_kit\u001b[0m:\u001b[36m__call__\u001b[0m:\u001b[36m210\u001b[0m - \u001b[1mmfd time: 2.49\u001b[0m\n",
      "\u001b[32m2025-01-01 02:31:13.226\u001b[0m | \u001b[1mINFO    \u001b[0m | \u001b[36mmagic_pdf.model.pdf_extract_kit\u001b[0m:\u001b[36m__call__\u001b[0m:\u001b[36m217\u001b[0m - \u001b[1mformula nums: 18, mfr time: 24.56\u001b[0m\n",
      "\u001b[32m2025-01-01 02:31:14.380\u001b[0m | \u001b[1mINFO    \u001b[0m | \u001b[36mmagic_pdf.model.pdf_extract_kit\u001b[0m:\u001b[36m__call__\u001b[0m:\u001b[36m251\u001b[0m - \u001b[1mdet time: 1.15\u001b[0m\n",
      "\u001b[32m2025-01-01 02:31:14.381\u001b[0m | \u001b[1mINFO    \u001b[0m | \u001b[36mmagic_pdf.model.doc_analyze_by_custom_model\u001b[0m:\u001b[36mdoc_analyze\u001b[0m:\u001b[36m224\u001b[0m - \u001b[1m-----page_id : 5, page total time: 34.05-----\u001b[0m\n",
      "\u001b[32m2025-01-01 02:31:20.587\u001b[0m | \u001b[1mINFO    \u001b[0m | \u001b[36mmagic_pdf.model.pdf_extract_kit\u001b[0m:\u001b[36m__call__\u001b[0m:\u001b[36m202\u001b[0m - \u001b[1mlayout detection time: 6.19\u001b[0m\n",
      "\u001b[32m2025-01-01 02:31:23.190\u001b[0m | \u001b[1mINFO    \u001b[0m | \u001b[36mmagic_pdf.model.pdf_extract_kit\u001b[0m:\u001b[36m__call__\u001b[0m:\u001b[36m210\u001b[0m - \u001b[1mmfd time: 2.6\u001b[0m\n",
      "\u001b[32m2025-01-01 02:31:41.677\u001b[0m | \u001b[1mINFO    \u001b[0m | \u001b[36mmagic_pdf.model.pdf_extract_kit\u001b[0m:\u001b[36m__call__\u001b[0m:\u001b[36m217\u001b[0m - \u001b[1mformula nums: 16, mfr time: 18.49\u001b[0m\n",
      "\u001b[32m2025-01-01 02:31:42.830\u001b[0m | \u001b[1mINFO    \u001b[0m | \u001b[36mmagic_pdf.model.pdf_extract_kit\u001b[0m:\u001b[36m__call__\u001b[0m:\u001b[36m251\u001b[0m - \u001b[1mdet time: 1.15\u001b[0m\n",
      "\u001b[32m2025-01-01 02:31:42.831\u001b[0m | \u001b[1mINFO    \u001b[0m | \u001b[36mmagic_pdf.model.doc_analyze_by_custom_model\u001b[0m:\u001b[36mdoc_analyze\u001b[0m:\u001b[36m224\u001b[0m - \u001b[1m-----page_id : 6, page total time: 28.44-----\u001b[0m\n",
      "\u001b[32m2025-01-01 02:31:49.097\u001b[0m | \u001b[1mINFO    \u001b[0m | \u001b[36mmagic_pdf.model.pdf_extract_kit\u001b[0m:\u001b[36m__call__\u001b[0m:\u001b[36m202\u001b[0m - \u001b[1mlayout detection time: 6.24\u001b[0m\n",
      "\u001b[32m2025-01-01 02:31:51.598\u001b[0m | \u001b[1mINFO    \u001b[0m | \u001b[36mmagic_pdf.model.pdf_extract_kit\u001b[0m:\u001b[36m__call__\u001b[0m:\u001b[36m210\u001b[0m - \u001b[1mmfd time: 2.5\u001b[0m\n",
      "\u001b[32m2025-01-01 02:31:56.262\u001b[0m | \u001b[1mINFO    \u001b[0m | \u001b[36mmagic_pdf.model.pdf_extract_kit\u001b[0m:\u001b[36m__call__\u001b[0m:\u001b[36m217\u001b[0m - \u001b[1mformula nums: 7, mfr time: 4.66\u001b[0m\n",
      "\u001b[32m2025-01-01 02:31:57.284\u001b[0m | \u001b[1mINFO    \u001b[0m | \u001b[36mmagic_pdf.model.pdf_extract_kit\u001b[0m:\u001b[36m__call__\u001b[0m:\u001b[36m251\u001b[0m - \u001b[1mdet time: 1.02\u001b[0m\n",
      "\u001b[32m2025-01-01 02:31:57.285\u001b[0m | \u001b[1mINFO    \u001b[0m | \u001b[36mmagic_pdf.model.doc_analyze_by_custom_model\u001b[0m:\u001b[36mdoc_analyze\u001b[0m:\u001b[36m224\u001b[0m - \u001b[1m-----page_id : 7, page total time: 14.43-----\u001b[0m\n",
      "\u001b[32m2025-01-01 02:32:03.616\u001b[0m | \u001b[1mINFO    \u001b[0m | \u001b[36mmagic_pdf.model.pdf_extract_kit\u001b[0m:\u001b[36m__call__\u001b[0m:\u001b[36m202\u001b[0m - \u001b[1mlayout detection time: 6.31\u001b[0m\n",
      "\u001b[32m2025-01-01 02:32:06.361\u001b[0m | \u001b[1mINFO    \u001b[0m | \u001b[36mmagic_pdf.model.pdf_extract_kit\u001b[0m:\u001b[36m__call__\u001b[0m:\u001b[36m210\u001b[0m - \u001b[1mmfd time: 2.74\u001b[0m\n",
      "\u001b[32m2025-01-01 02:32:09.755\u001b[0m | \u001b[1mINFO    \u001b[0m | \u001b[36mmagic_pdf.model.pdf_extract_kit\u001b[0m:\u001b[36m__call__\u001b[0m:\u001b[36m217\u001b[0m - \u001b[1mformula nums: 2, mfr time: 3.39\u001b[0m\n",
      "\u001b[32m2025-01-01 02:32:10.684\u001b[0m | \u001b[1mINFO    \u001b[0m | \u001b[36mmagic_pdf.model.pdf_extract_kit\u001b[0m:\u001b[36m__call__\u001b[0m:\u001b[36m251\u001b[0m - \u001b[1mdet time: 0.93\u001b[0m\n",
      "\u001b[32m2025-01-01 02:32:10.685\u001b[0m | \u001b[1mINFO    \u001b[0m | \u001b[36mmagic_pdf.model.doc_analyze_by_custom_model\u001b[0m:\u001b[36mdoc_analyze\u001b[0m:\u001b[36m224\u001b[0m - \u001b[1m-----page_id : 8, page total time: 13.38-----\u001b[0m\n",
      "\u001b[32m2025-01-01 02:32:16.340\u001b[0m | \u001b[1mINFO    \u001b[0m | \u001b[36mmagic_pdf.model.pdf_extract_kit\u001b[0m:\u001b[36m__call__\u001b[0m:\u001b[36m202\u001b[0m - \u001b[1mlayout detection time: 5.64\u001b[0m\n",
      "\u001b[32m2025-01-01 02:32:18.797\u001b[0m | \u001b[1mINFO    \u001b[0m | \u001b[36mmagic_pdf.model.pdf_extract_kit\u001b[0m:\u001b[36m__call__\u001b[0m:\u001b[36m210\u001b[0m - \u001b[1mmfd time: 2.45\u001b[0m\n",
      "\u001b[32m2025-01-01 02:32:21.215\u001b[0m | \u001b[1mINFO    \u001b[0m | \u001b[36mmagic_pdf.model.pdf_extract_kit\u001b[0m:\u001b[36m__call__\u001b[0m:\u001b[36m217\u001b[0m - \u001b[1mformula nums: 2, mfr time: 2.42\u001b[0m\n",
      "\u001b[32m2025-01-01 02:32:22.339\u001b[0m | \u001b[1mINFO    \u001b[0m | \u001b[36mmagic_pdf.model.pdf_extract_kit\u001b[0m:\u001b[36m__call__\u001b[0m:\u001b[36m251\u001b[0m - \u001b[1mdet time: 1.12\u001b[0m\n",
      "\u001b[32m2025-01-01 02:32:22.340\u001b[0m | \u001b[1mINFO    \u001b[0m | \u001b[36mmagic_pdf.model.doc_analyze_by_custom_model\u001b[0m:\u001b[36mdoc_analyze\u001b[0m:\u001b[36m224\u001b[0m - \u001b[1m-----page_id : 9, page total time: 11.64-----\u001b[0m\n",
      "\u001b[32m2025-01-01 02:32:28.213\u001b[0m | \u001b[1mINFO    \u001b[0m | \u001b[36mmagic_pdf.model.pdf_extract_kit\u001b[0m:\u001b[36m__call__\u001b[0m:\u001b[36m202\u001b[0m - \u001b[1mlayout detection time: 5.85\u001b[0m\n",
      "\u001b[32m2025-01-01 02:32:30.724\u001b[0m | \u001b[1mINFO    \u001b[0m | \u001b[36mmagic_pdf.model.pdf_extract_kit\u001b[0m:\u001b[36m__call__\u001b[0m:\u001b[36m210\u001b[0m - \u001b[1mmfd time: 2.51\u001b[0m\n",
      "\u001b[32m2025-01-01 02:32:30.725\u001b[0m | \u001b[1mINFO    \u001b[0m | \u001b[36mmagic_pdf.model.pdf_extract_kit\u001b[0m:\u001b[36m__call__\u001b[0m:\u001b[36m217\u001b[0m - \u001b[1mformula nums: 0, mfr time: 0.0\u001b[0m\n",
      "\u001b[32m2025-01-01 02:32:31.123\u001b[0m | \u001b[1mINFO    \u001b[0m | \u001b[36mmagic_pdf.model.pdf_extract_kit\u001b[0m:\u001b[36m__call__\u001b[0m:\u001b[36m251\u001b[0m - \u001b[1mdet time: 0.4\u001b[0m\n",
      "\u001b[32m2025-01-01 02:32:31.124\u001b[0m | \u001b[1mINFO    \u001b[0m | \u001b[36mmagic_pdf.model.doc_analyze_by_custom_model\u001b[0m:\u001b[36mdoc_analyze\u001b[0m:\u001b[36m224\u001b[0m - \u001b[1m-----page_id : 10, page total time: 8.77-----\u001b[0m\n",
      "\u001b[32m2025-01-01 02:32:37.137\u001b[0m | \u001b[1mINFO    \u001b[0m | \u001b[36mmagic_pdf.model.pdf_extract_kit\u001b[0m:\u001b[36m__call__\u001b[0m:\u001b[36m202\u001b[0m - \u001b[1mlayout detection time: 6.0\u001b[0m\n",
      "\u001b[32m2025-01-01 02:32:39.940\u001b[0m | \u001b[1mINFO    \u001b[0m | \u001b[36mmagic_pdf.model.pdf_extract_kit\u001b[0m:\u001b[36m__call__\u001b[0m:\u001b[36m210\u001b[0m - \u001b[1mmfd time: 2.8\u001b[0m\n",
      "\u001b[32m2025-01-01 02:32:39.940\u001b[0m | \u001b[1mINFO    \u001b[0m | \u001b[36mmagic_pdf.model.pdf_extract_kit\u001b[0m:\u001b[36m__call__\u001b[0m:\u001b[36m217\u001b[0m - \u001b[1mformula nums: 0, mfr time: 0.0\u001b[0m\n",
      "\u001b[32m2025-01-01 02:32:40.322\u001b[0m | \u001b[1mINFO    \u001b[0m | \u001b[36mmagic_pdf.model.pdf_extract_kit\u001b[0m:\u001b[36m__call__\u001b[0m:\u001b[36m251\u001b[0m - \u001b[1mdet time: 0.38\u001b[0m\n",
      "\u001b[32m2025-01-01 02:32:40.323\u001b[0m | \u001b[1mINFO    \u001b[0m | \u001b[36mmagic_pdf.model.doc_analyze_by_custom_model\u001b[0m:\u001b[36mdoc_analyze\u001b[0m:\u001b[36m224\u001b[0m - \u001b[1m-----page_id : 11, page total time: 9.18-----\u001b[0m\n",
      "\u001b[32m2025-01-01 02:32:46.363\u001b[0m | \u001b[1mINFO    \u001b[0m | \u001b[36mmagic_pdf.model.pdf_extract_kit\u001b[0m:\u001b[36m__call__\u001b[0m:\u001b[36m202\u001b[0m - \u001b[1mlayout detection time: 6.01\u001b[0m\n",
      "\u001b[32m2025-01-01 02:32:48.804\u001b[0m | \u001b[1mINFO    \u001b[0m | \u001b[36mmagic_pdf.model.pdf_extract_kit\u001b[0m:\u001b[36m__call__\u001b[0m:\u001b[36m210\u001b[0m - \u001b[1mmfd time: 2.44\u001b[0m\n",
      "\u001b[32m2025-01-01 02:32:48.805\u001b[0m | \u001b[1mINFO    \u001b[0m | \u001b[36mmagic_pdf.model.pdf_extract_kit\u001b[0m:\u001b[36m__call__\u001b[0m:\u001b[36m217\u001b[0m - \u001b[1mformula nums: 0, mfr time: 0.0\u001b[0m\n",
      "\u001b[32m2025-01-01 02:32:48.996\u001b[0m | \u001b[1mINFO    \u001b[0m | \u001b[36mmagic_pdf.model.pdf_extract_kit\u001b[0m:\u001b[36m__call__\u001b[0m:\u001b[36m251\u001b[0m - \u001b[1mdet time: 0.19\u001b[0m\n",
      "\u001b[32m2025-01-01 02:32:48.997\u001b[0m | \u001b[1mINFO    \u001b[0m | \u001b[36mmagic_pdf.model.doc_analyze_by_custom_model\u001b[0m:\u001b[36mdoc_analyze\u001b[0m:\u001b[36m224\u001b[0m - \u001b[1m-----page_id : 12, page total time: 8.65-----\u001b[0m\n",
      "\u001b[32m2025-01-01 02:32:55.183\u001b[0m | \u001b[1mINFO    \u001b[0m | \u001b[36mmagic_pdf.model.pdf_extract_kit\u001b[0m:\u001b[36m__call__\u001b[0m:\u001b[36m202\u001b[0m - \u001b[1mlayout detection time: 6.09\u001b[0m\n",
      "\u001b[32m2025-01-01 02:32:57.808\u001b[0m | \u001b[1mINFO    \u001b[0m | \u001b[36mmagic_pdf.model.pdf_extract_kit\u001b[0m:\u001b[36m__call__\u001b[0m:\u001b[36m210\u001b[0m - \u001b[1mmfd time: 2.62\u001b[0m\n",
      "\u001b[32m2025-01-01 02:32:57.809\u001b[0m | \u001b[1mINFO    \u001b[0m | \u001b[36mmagic_pdf.model.pdf_extract_kit\u001b[0m:\u001b[36m__call__\u001b[0m:\u001b[36m217\u001b[0m - \u001b[1mformula nums: 0, mfr time: 0.0\u001b[0m\n",
      "\u001b[32m2025-01-01 02:32:57.921\u001b[0m | \u001b[1mINFO    \u001b[0m | \u001b[36mmagic_pdf.model.pdf_extract_kit\u001b[0m:\u001b[36m__call__\u001b[0m:\u001b[36m251\u001b[0m - \u001b[1mdet time: 0.11\u001b[0m\n",
      "\u001b[32m2025-01-01 02:32:57.921\u001b[0m | \u001b[1mINFO    \u001b[0m | \u001b[36mmagic_pdf.model.doc_analyze_by_custom_model\u001b[0m:\u001b[36mdoc_analyze\u001b[0m:\u001b[36m224\u001b[0m - \u001b[1m-----page_id : 13, page total time: 8.83-----\u001b[0m\n",
      "\u001b[32m2025-01-01 02:33:04.159\u001b[0m | \u001b[1mINFO    \u001b[0m | \u001b[36mmagic_pdf.model.pdf_extract_kit\u001b[0m:\u001b[36m__call__\u001b[0m:\u001b[36m202\u001b[0m - \u001b[1mlayout detection time: 6.14\u001b[0m\n",
      "\u001b[32m2025-01-01 02:33:06.665\u001b[0m | \u001b[1mINFO    \u001b[0m | \u001b[36mmagic_pdf.model.pdf_extract_kit\u001b[0m:\u001b[36m__call__\u001b[0m:\u001b[36m210\u001b[0m - \u001b[1mmfd time: 2.5\u001b[0m\n",
      "\u001b[32m2025-01-01 02:33:06.666\u001b[0m | \u001b[1mINFO    \u001b[0m | \u001b[36mmagic_pdf.model.pdf_extract_kit\u001b[0m:\u001b[36m__call__\u001b[0m:\u001b[36m217\u001b[0m - \u001b[1mformula nums: 0, mfr time: 0.0\u001b[0m\n",
      "\u001b[32m2025-01-01 02:33:06.779\u001b[0m | \u001b[1mINFO    \u001b[0m | \u001b[36mmagic_pdf.model.pdf_extract_kit\u001b[0m:\u001b[36m__call__\u001b[0m:\u001b[36m251\u001b[0m - \u001b[1mdet time: 0.11\u001b[0m\n",
      "\u001b[32m2025-01-01 02:33:06.780\u001b[0m | \u001b[1mINFO    \u001b[0m | \u001b[36mmagic_pdf.model.doc_analyze_by_custom_model\u001b[0m:\u001b[36mdoc_analyze\u001b[0m:\u001b[36m224\u001b[0m - \u001b[1m-----page_id : 14, page total time: 8.76-----\u001b[0m\n",
      "\u001b[32m2025-01-01 02:33:06.956\u001b[0m | \u001b[1mINFO    \u001b[0m | \u001b[36mmagic_pdf.model.doc_analyze_by_custom_model\u001b[0m:\u001b[36mdoc_analyze\u001b[0m:\u001b[36m235\u001b[0m - \u001b[1mgc time: 0.18\u001b[0m\n",
      "\u001b[32m2025-01-01 02:33:06.957\u001b[0m | \u001b[1mINFO    \u001b[0m | \u001b[36mmagic_pdf.model.doc_analyze_by_custom_model\u001b[0m:\u001b[36mdoc_analyze\u001b[0m:\u001b[36m239\u001b[0m - \u001b[1mdoc analyze time: 254.74, speed: 0.06 pages/second\u001b[0m\n"
     ]
    }
   ],
   "source": [
    "## inference\n",
    "if ds.classify() == SupportedPdfParseMethod.OCR:\n",
    "    infer_result = ds.apply(doc_analyze, ocr=True)\n",
    "\n",
    "    ## pipeline\n",
    "    pipe_result = infer_result.pipe_ocr_mode(image_writer)\n",
    "\n",
    "else:\n",
    "    infer_result = ds.apply(doc_analyze, ocr=False)\n",
    "\n",
    "    ## pipeline\n",
    "    pipe_result = infer_result.pipe_txt_mode(image_writer)"
   ]
  }
 ],
 "metadata": {
  "kernelspec": {
   "display_name": "mineru",
   "language": "python",
   "name": "mineru"
  },
  "language_info": {
   "codemirror_mode": {
    "name": "ipython",
    "version": 3
   },
   "file_extension": ".py",
   "mimetype": "text/x-python",
   "name": "python",
   "nbconvert_exporter": "python",
   "pygments_lexer": "ipython3",
   "version": "3.10.16"
  }
 },
 "nbformat": 4,
 "nbformat_minor": 2
}
