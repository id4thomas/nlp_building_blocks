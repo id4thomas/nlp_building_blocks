{
 "cells": [
  {
   "cell_type": "code",
   "execution_count": 1,
   "metadata": {},
   "outputs": [],
   "source": [
    "from pydantic_settings import BaseSettings, SettingsConfigDict\n",
    "\n",
    "class Settings(BaseSettings):\n",
    "    model_config = SettingsConfigDict(\n",
    "        env_file=\"../.env\", env_file_encoding=\"utf-8\", extra=\"ignore\"\n",
    "    )\n",
    "    mineru_model_dir: str\n",
    "settings = Settings()"
   ]
  },
  {
   "cell_type": "markdown",
   "metadata": {},
   "source": [
    "# 1. Download mineru weights"
   ]
  },
  {
   "cell_type": "code",
   "execution_count": 2,
   "metadata": {},
   "outputs": [],
   "source": [
    "import json\n",
    "import os\n",
    "\n",
    "import requests\n",
    "from huggingface_hub import snapshot_download"
   ]
  },
  {
   "cell_type": "code",
   "execution_count": 3,
   "metadata": {},
   "outputs": [],
   "source": [
    "# download code from https://github.com/opendatalab/MinerU/blob/master/scripts/download_models_hf.py\n",
    "def download_json(url):\n",
    "    response = requests.get(url)\n",
    "    response.raise_for_status() \n",
    "    return response.json()\n",
    "\n",
    "\n",
    "def download_and_modify_json(url, local_filename, modifications):\n",
    "    if os.path.exists(local_filename):\n",
    "        data = json.load(open(local_filename))\n",
    "        config_version = data.get('config_version', '0.0.0')\n",
    "        if config_version < '1.0.0':\n",
    "            data = download_json(url)\n",
    "    else:\n",
    "        data = download_json(url)\n",
    "\n",
    "    for key, value in modifications.items():\n",
    "        data[key] = value\n",
    "\n",
    "    with open(local_filename, 'w', encoding='utf-8') as f:\n",
    "        json.dump(data, f, ensure_ascii=False, indent=4)"
   ]
  },
  {
   "cell_type": "code",
   "execution_count": 4,
   "metadata": {},
   "outputs": [
    {
     "name": "stderr",
     "output_type": "stream",
     "text": [
      "/opt/miniconda3/envs/MinerU/lib/python3.10/site-packages/huggingface_hub/file_download.py:832: UserWarning: `local_dir_use_symlinks` parameter is deprecated and will be ignored. The process to download files to a local folder has been updated and do not rely on symlinks anymore. You only need to pass a destination folder as`local_dir`.\n",
      "For more details, check out https://huggingface.co/docs/huggingface_hub/main/en/guides/download#download-files-to-local-folder.\n",
      "  warnings.warn(\n"
     ]
    },
    {
     "data": {
      "application/vnd.jupyter.widget-view+json": {
       "model_id": "8353650348b34d0980ead6d53258a584",
       "version_major": 2,
       "version_minor": 0
      },
      "text/plain": [
       "Fetching 42 files:   0%|          | 0/42 [00:00<?, ?it/s]"
      ]
     },
     "metadata": {},
     "output_type": "display_data"
    },
    {
     "name": "stdout",
     "output_type": "stream",
     "text": [
      "model_dir is: /Users/id4thomas/models/mineru/pdf-extract-kit\n"
     ]
    }
   ],
   "source": [
    "## pdf-extract-kit\n",
    "mineru_patterns = [\n",
    "    \"models/Layout/LayoutLMv3/*\",\n",
    "    \"models/Layout/YOLO/*\",\n",
    "    \"models/MFD/YOLO/*\",\n",
    "    \"models/MFR/unimernet_small/*\",\n",
    "    \"models/TabRec/TableMaster/*\",\n",
    "    \"models/TabRec/StructEqTable/*\",\n",
    "]\n",
    "model_dir = snapshot_download(\n",
    "    'opendatalab/PDF-Extract-Kit-1.0',\n",
    "    allow_patterns=mineru_patterns,\n",
    "    local_dir=os.path.join(settings.mineru_model_dir, 'pdf-extract-kit'),\n",
    "    local_dir_use_symlinks=False\n",
    ")\n",
    "print(f'model_dir is: {model_dir}')"
   ]
  },
  {
   "cell_type": "code",
   "execution_count": 5,
   "metadata": {},
   "outputs": [
    {
     "data": {
      "application/vnd.jupyter.widget-view+json": {
       "model_id": "b3059fa875af45c3b547c282d40804b2",
       "version_major": 2,
       "version_minor": 0
      },
      "text/plain": [
       "Fetching 2 files:   0%|          | 0/2 [00:00<?, ?it/s]"
      ]
     },
     "metadata": {},
     "output_type": "display_data"
    },
    {
     "name": "stdout",
     "output_type": "stream",
     "text": [
      "layoutreader_model_dir is: /Users/id4thomas/models/mineru/layoutreader\n"
     ]
    }
   ],
   "source": [
    "layoutreader_pattern = [\n",
    "    \"*.json\",\n",
    "    \"*.safetensors\",\n",
    "]\n",
    "layoutreader_model_dir = snapshot_download(\n",
    "    'hantian/layoutreader',\n",
    "    allow_patterns=layoutreader_pattern,\n",
    "    local_dir=os.path.join(settings.mineru_model_dir, 'layoutreader'),\n",
    "    local_dir_use_symlinks=False\n",
    ")\n",
    "\n",
    "print(f'layoutreader_model_dir is: {layoutreader_model_dir}')"
   ]
  },
  {
   "cell_type": "code",
   "execution_count": 6,
   "metadata": {},
   "outputs": [
    {
     "name": "stdout",
     "output_type": "stream",
     "text": [
      "The configuration file has been configured successfully, the path is: /Users/id4thomas/models/mineru/magic-pdf.json\n"
     ]
    }
   ],
   "source": [
    "json_url = 'https://github.com/opendatalab/MinerU/raw/master/magic-pdf.template.json'\n",
    "config_file_name = 'magic-pdf.json'\n",
    "config_file = os.path.join(settings.mineru_model_dir, config_file_name)\n",
    "\n",
    "json_mods = {\n",
    "    'models-dir': os.path.join(settings.mineru_model_dir, 'pdf-extract-kit/models'),\n",
    "    'layoutreader-model-dir': os.path.join(settings.mineru_model_dir, 'layoutreader'),\n",
    "}\n",
    "\n",
    "download_and_modify_json(json_url, config_file, json_mods)\n",
    "print(f'The configuration file has been configured successfully, the path is: {config_file}')"
   ]
  },
  {
   "cell_type": "markdown",
   "metadata": {},
   "source": [
    "# 2. mineru test\n",
    "* https://mineru.readthedocs.io/en/latest/user_guide/quick_start/to_markdown.html"
   ]
  },
  {
   "cell_type": "code",
   "execution_count": 7,
   "metadata": {},
   "outputs": [],
   "source": [
    "os.environ[\"MINERU_TOOLS_CONFIG_JSON\"] = \"models/mineru/magic-pdf.json\""
   ]
  },
  {
   "cell_type": "code",
   "execution_count": 8,
   "metadata": {},
   "outputs": [
    {
     "name": "stdout",
     "output_type": "stream",
     "text": [
      "\u001b[93mimport tensorrt_llm failed, if do not use tensorrt, ignore this message\u001b[0m\n",
      "\u001b[93mimport lmdeploy failed, if do not use lmdeploy, ignore this message\u001b[0m\n"
     ]
    }
   ],
   "source": [
    "from magic_pdf.data.data_reader_writer import FileBasedDataWriter, FileBasedDataReader\n",
    "from magic_pdf.data.dataset import PymuDocDataset\n",
    "from magic_pdf.model.doc_analyze_by_custom_model import doc_analyze\n",
    "from magic_pdf.config.enums import SupportedPdfParseMethod"
   ]
  },
  {
   "cell_type": "code",
   "execution_count": 16,
   "metadata": {},
   "outputs": [],
   "source": [
    "fname = \"1706.03762v7\"\n",
    "fname = \"ai_parl_2\" # 국회도서관 문서 - 이미지 PDF\n",
    "fname = \"ai_parl_3\" # 국회도서관 문서 - 텍스트 PDF\n",
    "\n",
    "pdf_file_name = f\"samples/{fname}.pdf\"\n",
    "name_without_suff = pdf_file_name.split(\".\")[0]"
   ]
  },
  {
   "cell_type": "code",
   "execution_count": 17,
   "metadata": {},
   "outputs": [],
   "source": [
    "local_image_dir, local_md_dir = f\"results/mineru/{fname}/images\", f\"results/mineru/{fname}/output\"\n",
    "image_dir = str(os.path.basename(local_image_dir))\n",
    "os.makedirs(local_image_dir, exist_ok=True)"
   ]
  },
  {
   "cell_type": "code",
   "execution_count": 18,
   "metadata": {},
   "outputs": [],
   "source": [
    "image_writer, md_writer = FileBasedDataWriter(local_image_dir), FileBasedDataWriter(\n",
    "    local_md_dir\n",
    ")\n",
    "image_dir = str(os.path.basename(local_image_dir))"
   ]
  },
  {
   "cell_type": "code",
   "execution_count": 19,
   "metadata": {},
   "outputs": [],
   "source": [
    "reader1 = FileBasedDataReader(\"\")\n",
    "pdf_bytes = reader1.read(pdf_file_name) "
   ]
  },
  {
   "cell_type": "code",
   "execution_count": 20,
   "metadata": {},
   "outputs": [
    {
     "name": "stderr",
     "output_type": "stream",
     "text": [
      "\u001b[32m2025-01-08 23:52:44.892\u001b[0m | \u001b[1mINFO    \u001b[0m | \u001b[36mmagic_pdf.libs.pdf_check\u001b[0m:\u001b[36mdetect_invalid_chars\u001b[0m:\u001b[36m57\u001b[0m - \u001b[1mcid_count: 0, text_len: 9614, cid_chars_radio: 0.0\u001b[0m\n"
     ]
    },
    {
     "name": "stdout",
     "output_type": "stream",
     "text": [
      "SupportedPdfParseMethod.TXT\n"
     ]
    }
   ],
   "source": [
    "ds = PymuDocDataset(pdf_bytes)\n",
    "print(ds.classify())"
   ]
  },
  {
   "cell_type": "code",
   "execution_count": 21,
   "metadata": {},
   "outputs": [
    {
     "name": "stderr",
     "output_type": "stream",
     "text": [
      "\u001b[32m2025-01-08 23:52:45.529\u001b[0m | \u001b[1mINFO    \u001b[0m | \u001b[36mmagic_pdf.libs.pdf_check\u001b[0m:\u001b[36mdetect_invalid_chars\u001b[0m:\u001b[36m57\u001b[0m - \u001b[1mcid_count: 0, text_len: 9614, cid_chars_radio: 0.0\u001b[0m\n",
      "\u001b[32m2025-01-08 23:52:45.535\u001b[0m | \u001b[1mINFO    \u001b[0m | \u001b[36mmagic_pdf.model.pdf_extract_kit\u001b[0m:\u001b[36m__init__\u001b[0m:\u001b[36m78\u001b[0m - \u001b[1mDocAnalysis init, this may take some times, layout_model: layoutlmv3, apply_formula: True, apply_ocr: False, apply_table: False, table_model: rapid_table, lang: None\u001b[0m\n",
      "\u001b[32m2025-01-08 23:52:45.535\u001b[0m | \u001b[1mINFO    \u001b[0m | \u001b[36mmagic_pdf.model.pdf_extract_kit\u001b[0m:\u001b[36m__init__\u001b[0m:\u001b[36m91\u001b[0m - \u001b[1musing device: cpu\u001b[0m\n",
      "\u001b[32m2025-01-08 23:52:45.535\u001b[0m | \u001b[1mINFO    \u001b[0m | \u001b[36mmagic_pdf.model.pdf_extract_kit\u001b[0m:\u001b[36m__init__\u001b[0m:\u001b[36m95\u001b[0m - \u001b[1musing models_dir: /Users/id4thomas/models/mineru/pdf-extract-kit/models\u001b[0m\n",
      "\u001b[32m2025-01-08 23:52:45.535\u001b[0m | \u001b[1mINFO    \u001b[0m | \u001b[36mmagic_pdf.model.pdf_extract_kit\u001b[0m:\u001b[36m__init__\u001b[0m:\u001b[36m170\u001b[0m - \u001b[1mDocAnalysis init done!\u001b[0m\n",
      "\u001b[32m2025-01-08 23:52:45.536\u001b[0m | \u001b[1mINFO    \u001b[0m | \u001b[36mmagic_pdf.model.doc_analyze_by_custom_model\u001b[0m:\u001b[36mcustom_model_init\u001b[0m:\u001b[36m181\u001b[0m - \u001b[1mmodel init cost: 0.0040740966796875\u001b[0m\n"
     ]
    },
    {
     "name": "stdout",
     "output_type": "stream",
     "text": [
      "TEXT MODE\n"
     ]
    },
    {
     "name": "stderr",
     "output_type": "stream",
     "text": [
      "\u001b[32m2025-01-08 23:52:53.866\u001b[0m | \u001b[1mINFO    \u001b[0m | \u001b[36mmagic_pdf.model.pdf_extract_kit\u001b[0m:\u001b[36m__call__\u001b[0m:\u001b[36m202\u001b[0m - \u001b[1mlayout detection time: 8.3\u001b[0m\n",
      "\u001b[32m2025-01-08 23:52:56.213\u001b[0m | \u001b[1mINFO    \u001b[0m | \u001b[36mmagic_pdf.model.pdf_extract_kit\u001b[0m:\u001b[36m__call__\u001b[0m:\u001b[36m210\u001b[0m - \u001b[1mmfd time: 2.34\u001b[0m\n",
      "\u001b[32m2025-01-08 23:53:00.025\u001b[0m | \u001b[1mINFO    \u001b[0m | \u001b[36mmagic_pdf.model.pdf_extract_kit\u001b[0m:\u001b[36m__call__\u001b[0m:\u001b[36m217\u001b[0m - \u001b[1mformula nums: 5, mfr time: 3.81\u001b[0m\n",
      "\u001b[32m2025-01-08 23:53:01.117\u001b[0m | \u001b[1mINFO    \u001b[0m | \u001b[36mmagic_pdf.model.pdf_extract_kit\u001b[0m:\u001b[36m__call__\u001b[0m:\u001b[36m251\u001b[0m - \u001b[1mdet time: 1.09\u001b[0m\n",
      "\u001b[32m2025-01-08 23:53:01.118\u001b[0m | \u001b[1mINFO    \u001b[0m | \u001b[36mmagic_pdf.model.doc_analyze_by_custom_model\u001b[0m:\u001b[36mdoc_analyze\u001b[0m:\u001b[36m224\u001b[0m - \u001b[1m-----page_id : 0, page total time: 15.55-----\u001b[0m\n",
      "\u001b[32m2025-01-08 23:53:07.693\u001b[0m | \u001b[1mINFO    \u001b[0m | \u001b[36mmagic_pdf.model.pdf_extract_kit\u001b[0m:\u001b[36m__call__\u001b[0m:\u001b[36m202\u001b[0m - \u001b[1mlayout detection time: 6.55\u001b[0m\n",
      "\u001b[32m2025-01-08 23:53:09.983\u001b[0m | \u001b[1mINFO    \u001b[0m | \u001b[36mmagic_pdf.model.pdf_extract_kit\u001b[0m:\u001b[36m__call__\u001b[0m:\u001b[36m210\u001b[0m - \u001b[1mmfd time: 2.29\u001b[0m\n",
      "\u001b[32m2025-01-08 23:53:14.340\u001b[0m | \u001b[1mINFO    \u001b[0m | \u001b[36mmagic_pdf.model.pdf_extract_kit\u001b[0m:\u001b[36m__call__\u001b[0m:\u001b[36m217\u001b[0m - \u001b[1mformula nums: 8, mfr time: 4.36\u001b[0m\n",
      "\u001b[32m2025-01-08 23:53:15.216\u001b[0m | \u001b[1mINFO    \u001b[0m | \u001b[36mmagic_pdf.model.pdf_extract_kit\u001b[0m:\u001b[36m__call__\u001b[0m:\u001b[36m251\u001b[0m - \u001b[1mdet time: 0.88\u001b[0m\n",
      "\u001b[32m2025-01-08 23:53:15.217\u001b[0m | \u001b[1mINFO    \u001b[0m | \u001b[36mmagic_pdf.model.doc_analyze_by_custom_model\u001b[0m:\u001b[36mdoc_analyze\u001b[0m:\u001b[36m224\u001b[0m - \u001b[1m-----page_id : 1, page total time: 14.07-----\u001b[0m\n",
      "\u001b[32m2025-01-08 23:53:22.385\u001b[0m | \u001b[1mINFO    \u001b[0m | \u001b[36mmagic_pdf.model.pdf_extract_kit\u001b[0m:\u001b[36m__call__\u001b[0m:\u001b[36m202\u001b[0m - \u001b[1mlayout detection time: 7.15\u001b[0m\n",
      "\u001b[32m2025-01-08 23:53:24.673\u001b[0m | \u001b[1mINFO    \u001b[0m | \u001b[36mmagic_pdf.model.pdf_extract_kit\u001b[0m:\u001b[36m__call__\u001b[0m:\u001b[36m210\u001b[0m - \u001b[1mmfd time: 2.28\u001b[0m\n",
      "\u001b[32m2025-01-08 23:53:26.905\u001b[0m | \u001b[1mINFO    \u001b[0m | \u001b[36mmagic_pdf.model.pdf_extract_kit\u001b[0m:\u001b[36m__call__\u001b[0m:\u001b[36m217\u001b[0m - \u001b[1mformula nums: 3, mfr time: 2.23\u001b[0m\n",
      "\u001b[32m2025-01-08 23:53:27.462\u001b[0m | \u001b[1mINFO    \u001b[0m | \u001b[36mmagic_pdf.model.pdf_extract_kit\u001b[0m:\u001b[36m__call__\u001b[0m:\u001b[36m251\u001b[0m - \u001b[1mdet time: 0.56\u001b[0m\n",
      "\u001b[32m2025-01-08 23:53:27.463\u001b[0m | \u001b[1mINFO    \u001b[0m | \u001b[36mmagic_pdf.model.doc_analyze_by_custom_model\u001b[0m:\u001b[36mdoc_analyze\u001b[0m:\u001b[36m224\u001b[0m - \u001b[1m-----page_id : 2, page total time: 12.22-----\u001b[0m\n",
      "\u001b[32m2025-01-08 23:53:34.827\u001b[0m | \u001b[1mINFO    \u001b[0m | \u001b[36mmagic_pdf.model.pdf_extract_kit\u001b[0m:\u001b[36m__call__\u001b[0m:\u001b[36m202\u001b[0m - \u001b[1mlayout detection time: 7.35\u001b[0m\n",
      "\u001b[32m2025-01-08 23:53:37.206\u001b[0m | \u001b[1mINFO    \u001b[0m | \u001b[36mmagic_pdf.model.pdf_extract_kit\u001b[0m:\u001b[36m__call__\u001b[0m:\u001b[36m210\u001b[0m - \u001b[1mmfd time: 2.37\u001b[0m\n",
      "\u001b[32m2025-01-08 23:53:40.101\u001b[0m | \u001b[1mINFO    \u001b[0m | \u001b[36mmagic_pdf.model.pdf_extract_kit\u001b[0m:\u001b[36m__call__\u001b[0m:\u001b[36m217\u001b[0m - \u001b[1mformula nums: 3, mfr time: 2.9\u001b[0m\n",
      "\u001b[32m2025-01-08 23:53:40.649\u001b[0m | \u001b[1mINFO    \u001b[0m | \u001b[36mmagic_pdf.model.pdf_extract_kit\u001b[0m:\u001b[36m__call__\u001b[0m:\u001b[36m251\u001b[0m - \u001b[1mdet time: 0.55\u001b[0m\n",
      "\u001b[32m2025-01-08 23:53:40.650\u001b[0m | \u001b[1mINFO    \u001b[0m | \u001b[36mmagic_pdf.model.doc_analyze_by_custom_model\u001b[0m:\u001b[36mdoc_analyze\u001b[0m:\u001b[36m224\u001b[0m - \u001b[1m-----page_id : 3, page total time: 13.17-----\u001b[0m\n",
      "\u001b[32m2025-01-08 23:53:47.551\u001b[0m | \u001b[1mINFO    \u001b[0m | \u001b[36mmagic_pdf.model.pdf_extract_kit\u001b[0m:\u001b[36m__call__\u001b[0m:\u001b[36m202\u001b[0m - \u001b[1mlayout detection time: 6.88\u001b[0m\n",
      "\u001b[32m2025-01-08 23:53:50.141\u001b[0m | \u001b[1mINFO    \u001b[0m | \u001b[36mmagic_pdf.model.pdf_extract_kit\u001b[0m:\u001b[36m__call__\u001b[0m:\u001b[36m210\u001b[0m - \u001b[1mmfd time: 2.59\u001b[0m\n",
      "\u001b[32m2025-01-08 23:53:51.975\u001b[0m | \u001b[1mINFO    \u001b[0m | \u001b[36mmagic_pdf.model.pdf_extract_kit\u001b[0m:\u001b[36m__call__\u001b[0m:\u001b[36m217\u001b[0m - \u001b[1mformula nums: 2, mfr time: 1.83\u001b[0m\n",
      "\u001b[32m2025-01-08 23:53:53.137\u001b[0m | \u001b[1mINFO    \u001b[0m | \u001b[36mmagic_pdf.model.pdf_extract_kit\u001b[0m:\u001b[36m__call__\u001b[0m:\u001b[36m251\u001b[0m - \u001b[1mdet time: 1.16\u001b[0m\n",
      "\u001b[32m2025-01-08 23:53:53.137\u001b[0m | \u001b[1mINFO    \u001b[0m | \u001b[36mmagic_pdf.model.doc_analyze_by_custom_model\u001b[0m:\u001b[36mdoc_analyze\u001b[0m:\u001b[36m224\u001b[0m - \u001b[1m-----page_id : 4, page total time: 12.47-----\u001b[0m\n",
      "\u001b[32m2025-01-08 23:54:00.216\u001b[0m | \u001b[1mINFO    \u001b[0m | \u001b[36mmagic_pdf.model.pdf_extract_kit\u001b[0m:\u001b[36m__call__\u001b[0m:\u001b[36m202\u001b[0m - \u001b[1mlayout detection time: 7.06\u001b[0m\n",
      "\u001b[32m2025-01-08 23:54:02.596\u001b[0m | \u001b[1mINFO    \u001b[0m | \u001b[36mmagic_pdf.model.pdf_extract_kit\u001b[0m:\u001b[36m__call__\u001b[0m:\u001b[36m210\u001b[0m - \u001b[1mmfd time: 2.37\u001b[0m\n",
      "\u001b[32m2025-01-08 23:54:05.535\u001b[0m | \u001b[1mINFO    \u001b[0m | \u001b[36mmagic_pdf.model.pdf_extract_kit\u001b[0m:\u001b[36m__call__\u001b[0m:\u001b[36m217\u001b[0m - \u001b[1mformula nums: 4, mfr time: 2.94\u001b[0m\n",
      "\u001b[32m2025-01-08 23:54:06.568\u001b[0m | \u001b[1mINFO    \u001b[0m | \u001b[36mmagic_pdf.model.pdf_extract_kit\u001b[0m:\u001b[36m__call__\u001b[0m:\u001b[36m251\u001b[0m - \u001b[1mdet time: 1.03\u001b[0m\n",
      "\u001b[32m2025-01-08 23:54:06.569\u001b[0m | \u001b[1mINFO    \u001b[0m | \u001b[36mmagic_pdf.model.doc_analyze_by_custom_model\u001b[0m:\u001b[36mdoc_analyze\u001b[0m:\u001b[36m224\u001b[0m - \u001b[1m-----page_id : 5, page total time: 13.42-----\u001b[0m\n",
      "\u001b[32m2025-01-08 23:54:13.623\u001b[0m | \u001b[1mINFO    \u001b[0m | \u001b[36mmagic_pdf.model.pdf_extract_kit\u001b[0m:\u001b[36m__call__\u001b[0m:\u001b[36m202\u001b[0m - \u001b[1mlayout detection time: 7.04\u001b[0m\n",
      "\u001b[32m2025-01-08 23:54:15.901\u001b[0m | \u001b[1mINFO    \u001b[0m | \u001b[36mmagic_pdf.model.pdf_extract_kit\u001b[0m:\u001b[36m__call__\u001b[0m:\u001b[36m210\u001b[0m - \u001b[1mmfd time: 2.27\u001b[0m\n",
      "\u001b[32m2025-01-08 23:54:18.680\u001b[0m | \u001b[1mINFO    \u001b[0m | \u001b[36mmagic_pdf.model.pdf_extract_kit\u001b[0m:\u001b[36m__call__\u001b[0m:\u001b[36m217\u001b[0m - \u001b[1mformula nums: 5, mfr time: 2.78\u001b[0m\n",
      "\u001b[32m2025-01-08 23:54:19.776\u001b[0m | \u001b[1mINFO    \u001b[0m | \u001b[36mmagic_pdf.model.pdf_extract_kit\u001b[0m:\u001b[36m__call__\u001b[0m:\u001b[36m251\u001b[0m - \u001b[1mdet time: 1.1\u001b[0m\n",
      "\u001b[32m2025-01-08 23:54:19.777\u001b[0m | \u001b[1mINFO    \u001b[0m | \u001b[36mmagic_pdf.model.doc_analyze_by_custom_model\u001b[0m:\u001b[36mdoc_analyze\u001b[0m:\u001b[36m224\u001b[0m - \u001b[1m-----page_id : 6, page total time: 13.19-----\u001b[0m\n",
      "\u001b[32m2025-01-08 23:54:26.587\u001b[0m | \u001b[1mINFO    \u001b[0m | \u001b[36mmagic_pdf.model.pdf_extract_kit\u001b[0m:\u001b[36m__call__\u001b[0m:\u001b[36m202\u001b[0m - \u001b[1mlayout detection time: 6.76\u001b[0m\n",
      "\u001b[32m2025-01-08 23:54:28.829\u001b[0m | \u001b[1mINFO    \u001b[0m | \u001b[36mmagic_pdf.model.pdf_extract_kit\u001b[0m:\u001b[36m__call__\u001b[0m:\u001b[36m210\u001b[0m - \u001b[1mmfd time: 2.24\u001b[0m\n",
      "\u001b[32m2025-01-08 23:54:28.830\u001b[0m | \u001b[1mINFO    \u001b[0m | \u001b[36mmagic_pdf.model.pdf_extract_kit\u001b[0m:\u001b[36m__call__\u001b[0m:\u001b[36m217\u001b[0m - \u001b[1mformula nums: 0, mfr time: 0.0\u001b[0m\n",
      "\u001b[32m2025-01-08 23:54:30.616\u001b[0m | \u001b[1mINFO    \u001b[0m | \u001b[36mmagic_pdf.model.pdf_extract_kit\u001b[0m:\u001b[36m__call__\u001b[0m:\u001b[36m251\u001b[0m - \u001b[1mdet time: 1.79\u001b[0m\n",
      "\u001b[32m2025-01-08 23:54:30.617\u001b[0m | \u001b[1mINFO    \u001b[0m | \u001b[36mmagic_pdf.model.doc_analyze_by_custom_model\u001b[0m:\u001b[36mdoc_analyze\u001b[0m:\u001b[36m224\u001b[0m - \u001b[1m-----page_id : 7, page total time: 10.79-----\u001b[0m\n",
      "\u001b[32m2025-01-08 23:54:30.826\u001b[0m | \u001b[1mINFO    \u001b[0m | \u001b[36mmagic_pdf.model.doc_analyze_by_custom_model\u001b[0m:\u001b[36mdoc_analyze\u001b[0m:\u001b[36m235\u001b[0m - \u001b[1mgc time: 0.21\u001b[0m\n",
      "\u001b[32m2025-01-08 23:54:30.826\u001b[0m | \u001b[1mINFO    \u001b[0m | \u001b[36mmagic_pdf.model.doc_analyze_by_custom_model\u001b[0m:\u001b[36mdoc_analyze\u001b[0m:\u001b[36m239\u001b[0m - \u001b[1mdoc analyze time: 105.29, speed: 0.09 pages/second\u001b[0m\n"
     ]
    }
   ],
   "source": [
    "## inference\n",
    "if ds.classify() == SupportedPdfParseMethod.OCR:\n",
    "    print(\"OCR MODE\")\n",
    "    infer_result = ds.apply(doc_analyze, ocr=True)\n",
    "    pipe_result = infer_result.pipe_ocr_mode(image_writer)\n",
    "else:\n",
    "    print(\"TEXT MODE\")\n",
    "    infer_result = ds.apply(doc_analyze, ocr=False)\n",
    "    pipe_result = infer_result.pipe_txt_mode(image_writer)"
   ]
  },
  {
   "cell_type": "code",
   "execution_count": 22,
   "metadata": {},
   "outputs": [],
   "source": [
    "### draw model result on each page\n",
    "infer_result.draw_model(os.path.join(local_md_dir, f\"{fname}_model.pdf\"))\n",
    "\n",
    "### draw layout result on each page\n",
    "pipe_result.draw_layout(os.path.join(local_md_dir, f\"{fname}_layout.pdf\"))\n",
    "\n",
    "### draw spans result on each page\n",
    "pipe_result.draw_span(os.path.join(local_md_dir, f\"{fname}_spans.pdf\"))\n",
    "\n",
    "### dump markdown\n",
    "pipe_result.dump_md(md_writer, f\"{fname}.md\", image_dir)\n",
    "\n",
    "### dump content list\n",
    "pipe_result.dump_content_list(md_writer, f\"{fname}_content_list.json\", image_dir)"
   ]
  }
 ],
 "metadata": {
  "kernelspec": {
   "display_name": "mineru",
   "language": "python",
   "name": "mineru"
  },
  "language_info": {
   "codemirror_mode": {
    "name": "ipython",
    "version": 3
   },
   "file_extension": ".py",
   "mimetype": "text/x-python",
   "name": "python",
   "nbconvert_exporter": "python",
   "pygments_lexer": "ipython3",
   "version": "3.10.16"
  }
 },
 "nbformat": 4,
 "nbformat_minor": 2
}
