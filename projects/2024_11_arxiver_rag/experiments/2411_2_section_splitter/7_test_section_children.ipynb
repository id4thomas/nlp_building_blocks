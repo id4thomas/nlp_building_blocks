{
 "cells": [
  {
   "cell_type": "code",
   "execution_count": 1,
   "metadata": {},
   "outputs": [],
   "source": [
    "from datetime import datetime\n",
    "from typing import List, Literal\n",
    "\n",
    "import matplotlib.pyplot as plt\n",
    "import pandas as pd\n",
    "from pydantic import BaseModel, Field\n",
    "from tqdm import tqdm"
   ]
  },
  {
   "cell_type": "code",
   "execution_count": 2,
   "metadata": {},
   "outputs": [],
   "source": [
    "from pydantic_settings import BaseSettings, SettingsConfigDict\n",
    "\n",
    "class Settings(BaseSettings):\n",
    "    model_config = SettingsConfigDict(\n",
    "        env_file=\"../.env\", env_file_encoding=\"utf-8\", extra=\"ignore\"\n",
    "    )\n",
    "    pipeline_src_dir: str\n",
    "settings = Settings()\n",
    "\n",
    "import sys\n",
    "sys.path.append(settings.pipeline_src_dir)"
   ]
  },
  {
   "cell_type": "code",
   "execution_count": 3,
   "metadata": {},
   "outputs": [],
   "source": [
    "from core.data.paper import ArxivPaperSection, ArxivPaperMetadata, ArxivPaper\n",
    "from core.parser.md2py import TreeOfContents\n",
    "\n",
    "from modules.extractor.section_splitter import MarkdownArxivPaperSectionSplitter"
   ]
  },
  {
   "cell_type": "markdown",
   "metadata": {},
   "source": [
    "# 1. 테스트 샘플"
   ]
  },
  {
   "cell_type": "code",
   "execution_count": 4,
   "metadata": {},
   "outputs": [],
   "source": [
    "text = '''# Test Title\n",
    "\n",
    "## 1. Test section 1\n",
    "something something intro to section\n",
    "something something intro2 to section\n",
    "\n",
    "### 1.1 Something section 1\n",
    "something something intro to section1.1\n",
    "\n",
    "### 1.2 Something section 1\n",
    "something something intro to section 1.2'''"
   ]
  },
  {
   "cell_type": "code",
   "execution_count": 5,
   "metadata": {},
   "outputs": [],
   "source": [
    "for filter_cls in MarkdownArxivPaperSectionSplitter.__subclasses__():\n",
    "    try:\n",
    "        if filter_cls.is_type(text):\n",
    "            # print(\"FOUND\",filter_cls)\n",
    "            found_filter = True\n",
    "            sections = filter_cls().split(text)\n",
    "            break\n",
    "    except RecursionError as e:\n",
    "        print(\"RECURSION ERROR {}\".format(str(e)))\n",
    "        break\n",
    "    except Exception as e:\n",
    "        print(\"ERROR {}\".format(str(e)))\n",
    "        # print(traceback.format_exc())\n",
    "        raise e"
   ]
  },
  {
   "cell_type": "code",
   "execution_count": 6,
   "metadata": {},
   "outputs": [
    {
     "name": "stdout",
     "output_type": "stream",
     "text": [
      "something something intro to section\n",
      "something something intro2 to section\n",
      "\n",
      "### 1\\.1 Something section 1\n",
      "\n",
      "something something intro to section1\\.1\n",
      "\n",
      "### 1\\.2 Something section 1\n",
      "\n",
      "something something intro to section 1\\.2\n",
      "\n",
      "\n"
     ]
    }
   ],
   "source": [
    "print(sections[0].text)"
   ]
  },
  {
   "cell_type": "code",
   "execution_count": 7,
   "metadata": {},
   "outputs": [],
   "source": [
    "## Test langchain MarkdownHeaderSplitter\n",
    "from langchain_text_splitters import MarkdownHeaderTextSplitter"
   ]
  },
  {
   "cell_type": "code",
   "execution_count": 8,
   "metadata": {},
   "outputs": [],
   "source": [
    "headers_to_split_on = [\n",
    "    (\"###\", \"h3\"),\n",
    "]\n",
    "markdown_splitter = MarkdownHeaderTextSplitter(headers_to_split_on=headers_to_split_on)"
   ]
  },
  {
   "cell_type": "code",
   "execution_count": 9,
   "metadata": {},
   "outputs": [
    {
     "data": {
      "text/plain": [
       "[Document(metadata={}, page_content='something something intro to section\\nsomething something intro2 to section'),\n",
       " Document(metadata={'h3': '1\\\\.1 Something section 1'}, page_content='something something intro to section1\\\\.1'),\n",
       " Document(metadata={'h3': '1\\\\.2 Something section 1'}, page_content='something something intro to section 1\\\\.2')]"
      ]
     },
     "execution_count": 9,
     "metadata": {},
     "output_type": "execute_result"
    }
   ],
   "source": [
    "md_header_splits = markdown_splitter.split_text(sections[0].text)\n",
    "md_header_splits"
   ]
  },
  {
   "cell_type": "code",
   "execution_count": 10,
   "metadata": {},
   "outputs": [],
   "source": [
    "split_sections = []\n",
    "for split in md_header_splits:\n",
    "    if 'h3' in split.metadata:\n",
    "        header = \"h3\"\n",
    "        title=split.metadata.get(\"h3\", \"\")\n",
    "    else:\n",
    "        header = \"p\"\n",
    "        title=\"\"\n",
    "        \n",
    "    section = ArxivPaperSection(\n",
    "        header=header,\n",
    "        title=title,\n",
    "        text=split.page_content\n",
    "    )\n",
    "    split_sections.append(section)"
   ]
  },
  {
   "cell_type": "code",
   "execution_count": 11,
   "metadata": {},
   "outputs": [
    {
     "data": {
      "text/plain": [
       "[ArxivPaperSection(header='p', title='', text='something something intro to section\\nsomething something intro2 to section', children=[]),\n",
       " ArxivPaperSection(header='h3', title='1\\\\.1 Something section 1', text='something something intro to section1\\\\.1', children=[]),\n",
       " ArxivPaperSection(header='h3', title='1\\\\.2 Something section 1', text='something something intro to section 1\\\\.2', children=[])]"
      ]
     },
     "execution_count": 11,
     "metadata": {},
     "output_type": "execute_result"
    }
   ],
   "source": [
    "split_sections"
   ]
  },
  {
   "cell_type": "markdown",
   "metadata": {},
   "source": [
    "# Test Module version"
   ]
  },
  {
   "cell_type": "code",
   "execution_count": 13,
   "metadata": {},
   "outputs": [
    {
     "data": {
      "text/plain": [
       "[ArxivPaperSection(header='p', title='', text='something something intro to section\\nsomething something intro2 to section', children=[]),\n",
       " ArxivPaperSection(header='h3', title='1\\\\.1 Something section 1', text='something something intro to section1\\\\.1', children=[]),\n",
       " ArxivPaperSection(header='h3', title='1\\\\.2 Something section 1', text='something something intro to section 1\\\\.2', children=[])]"
      ]
     },
     "execution_count": 13,
     "metadata": {},
     "output_type": "execute_result"
    }
   ],
   "source": [
    "sections[0].children"
   ]
  }
 ],
 "metadata": {
  "kernelspec": {
   "display_name": "llm",
   "language": "python",
   "name": "llm"
  },
  "language_info": {
   "codemirror_mode": {
    "name": "ipython",
    "version": 3
   },
   "file_extension": ".py",
   "mimetype": "text/x-python",
   "name": "python",
   "nbconvert_exporter": "python",
   "pygments_lexer": "ipython3",
   "version": "3.10.14"
  }
 },
 "nbformat": 4,
 "nbformat_minor": 2
}
