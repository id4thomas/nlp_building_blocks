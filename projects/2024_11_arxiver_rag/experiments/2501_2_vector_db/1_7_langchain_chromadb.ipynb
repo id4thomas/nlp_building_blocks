{
 "cells": [
  {
   "cell_type": "code",
   "execution_count": 1,
   "metadata": {},
   "outputs": [],
   "source": [
    "import os\n",
    "import pandas as pd\n",
    "from pydantic import Field\n",
    "from pydantic_settings import BaseSettings, SettingsConfigDict"
   ]
  },
  {
   "cell_type": "code",
   "execution_count": 2,
   "metadata": {},
   "outputs": [
    {
     "name": "stdout",
     "output_type": "stream",
     "text": [
      "baai/bge-m3\n"
     ]
    }
   ],
   "source": [
    "class Settings(BaseSettings):\n",
    "    model_config = SettingsConfigDict(\n",
    "        env_file=\"../.env\", env_file_encoding=\"utf-8\", extra=\"ignore\"\n",
    "    )\n",
    "    embedding_base_url: str\n",
    "    embedding_api_key: str\n",
    "    embedding_model: str\n",
    "\n",
    "settings = Settings()\n",
    "print(settings.embedding_model)"
   ]
  },
  {
   "cell_type": "markdown",
   "metadata": {},
   "source": [
    "# Prepare Embedder"
   ]
  },
  {
   "cell_type": "code",
   "execution_count": 3,
   "metadata": {},
   "outputs": [
    {
     "data": {
      "text/plain": [
       "1024"
      ]
     },
     "execution_count": 3,
     "metadata": {},
     "output_type": "execute_result"
    }
   ],
   "source": [
    "import os\n",
    "from langchain_openai import OpenAIEmbeddings\n",
    "\n",
    "os.environ[\"OPENAI_API_BASE\"] = \"{}/v1/\".format(settings.embedding_base_url)\n",
    "embeddings = OpenAIEmbeddings(\n",
    "    model=settings.embedding_model,\n",
    "    api_key=settings.embedding_api_key\n",
    ")\n",
    "vectors = embeddings.embed_documents([\"hello\", \"goodbye\"])\n",
    "len(vectors[0])"
   ]
  },
  {
   "cell_type": "markdown",
   "metadata": {},
   "source": [
    "# Prepare DB"
   ]
  },
  {
   "cell_type": "code",
   "execution_count": 4,
   "metadata": {},
   "outputs": [],
   "source": [
    "from langchain_chroma import Chroma"
   ]
  },
  {
   "cell_type": "code",
   "execution_count": 5,
   "metadata": {},
   "outputs": [],
   "source": [
    "vector_store = Chroma(\n",
    "    collection_name=\"test2\",\n",
    "    embedding_function=embeddings,\n",
    "    persist_directory=\"./database/chroma_langchain/local_storage\"\n",
    ")"
   ]
  },
  {
   "cell_type": "markdown",
   "metadata": {},
   "source": [
    "# Test Docs"
   ]
  },
  {
   "cell_type": "code",
   "execution_count": 6,
   "metadata": {},
   "outputs": [],
   "source": [
    "from uuid import uuid4\n",
    "from langchain_core.documents import Document"
   ]
  },
  {
   "cell_type": "code",
   "execution_count": 7,
   "metadata": {},
   "outputs": [],
   "source": [
    "document_1 = Document(\n",
    "    page_content=\"I had chocalate chip pancakes and scrambled eggs for breakfast this morning.\",\n",
    "    metadata={\"source\": \"tweet\"},\n",
    ")\n",
    "\n",
    "document_2 = Document(\n",
    "    page_content=\"The weather forecast for tomorrow is cloudy and overcast, with a high of 62 degrees.\",\n",
    "    metadata={\"source\": \"news\"},\n",
    ")\n",
    "documents = [\n",
    "    document_1,\n",
    "    document_2\n",
    "]\n",
    "uuids = [str(uuid4()) for _ in range(len(documents))]"
   ]
  },
  {
   "cell_type": "code",
   "execution_count": 8,
   "metadata": {},
   "outputs": [
    {
     "data": {
      "text/plain": [
       "['31f19867-7926-4547-8137-49b449ae9510',\n",
       " '2a87642f-dad1-4182-8ce0-a7679fe1948a']"
      ]
     },
     "execution_count": 8,
     "metadata": {},
     "output_type": "execute_result"
    }
   ],
   "source": [
    "vector_store.add_documents(documents=documents, ids=uuids)"
   ]
  },
  {
   "cell_type": "code",
   "execution_count": 9,
   "metadata": {},
   "outputs": [
    {
     "name": "stdout",
     "output_type": "stream",
     "text": [
      "* I had chocalate chip pancakes and scrambled eggs for breakfast this morning. [{'source': 'tweet'}]\n",
      "* The weather forecast for tomorrow is cloudy and overcast, with a high of 62 degrees. [{'source': 'news'}]\n"
     ]
    }
   ],
   "source": [
    "results = vector_store.similarity_search(\n",
    "    \"LangChain provides abstractions to make working with LLMs easy\", k=2\n",
    ")\n",
    "for res in results:\n",
    "    print(f\"* {res.page_content} [{res.metadata}]\")"
   ]
  },
  {
   "cell_type": "code",
   "execution_count": 10,
   "metadata": {},
   "outputs": [
    {
     "name": "stderr",
     "output_type": "stream",
     "text": [
      "Number of requested results 10 is greater than number of elements in index 2, updating n_results = 2\n",
      "Number of requested results 10 is greater than number of elements in index 2, updating n_results = 2\n"
     ]
    },
    {
     "name": "stdout",
     "output_type": "stream",
     "text": [
      "FILTERING WITH TWEET\n",
      "* I had chocalate chip pancakes and scrambled eggs for breakfast this morning. [{'source': 'tweet'}]\n",
      "FILTERING WITH NEWS\n",
      "* The weather forecast for tomorrow is cloudy and overcast, with a high of 62 degrees. [{'source': 'news'}]\n"
     ]
    }
   ],
   "source": [
    "print(\"FILTERING WITH TWEET\")\n",
    "results = vector_store.similarity_search(\n",
    "    \"kitty\", k=10, filter={\"source\": {\"$in\": [\"tweet\"]}}\n",
    ")\n",
    "for doc in results:\n",
    "    print(f\"* {doc.page_content} [{doc.metadata}]\")\n",
    "    \n",
    "print(\"FILTERING WITH NEWS\")\n",
    "results = vector_store.similarity_search(\n",
    "    \"kitty\", k=10, filter={\"source\": {\"$in\": [\"news\"]}}\n",
    ")\n",
    "for doc in results:\n",
    "    print(f\"* {doc.page_content} [{doc.metadata}]\")"
   ]
  },
  {
   "cell_type": "code",
   "execution_count": 12,
   "metadata": {},
   "outputs": [
    {
     "name": "stdout",
     "output_type": "stream",
     "text": [
      "-- Schema for table: migrations\n",
      "CREATE TABLE migrations (\n",
      "                        dir TEXT NOT NULL,\n",
      "                        version INTEGER NOT NULL,\n",
      "                        filename TEXT NOT NULL,\n",
      "                        sql TEXT NOT NULL,\n",
      "                        hash TEXT NOT NULL,\n",
      "                        PRIMARY KEY (dir, version)\n",
      "                    );\n",
      "\n",
      "-- Schema for table: embeddings_queue\n",
      "CREATE TABLE embeddings_queue (\n",
      "    seq_id INTEGER PRIMARY KEY,\n",
      "    created_at TIMESTAMP NOT NULL DEFAULT CURRENT_TIMESTAMP,\n",
      "    operation INTEGER NOT NULL,\n",
      "    topic TEXT NOT NULL,\n",
      "    id TEXT NOT NULL,\n",
      "    vector BLOB,\n",
      "    encoding TEXT,\n",
      "    metadata TEXT\n",
      ");\n",
      "\n",
      "-- Schema for table: embeddings_queue_config\n",
      "CREATE TABLE embeddings_queue_config (\n",
      "    id INTEGER PRIMARY KEY,\n",
      "    config_json_str TEXT\n",
      ");\n",
      "\n",
      "-- Schema for table: collection_metadata\n",
      "CREATE TABLE collection_metadata (\n",
      "    collection_id TEXT REFERENCES collections(id) ON DELETE CASCADE,\n",
      "    key TEXT NOT NULL,\n",
      "    str_value TEXT,\n",
      "    int_value INTEGER,\n",
      "    float_value REAL, bool_value INTEGER,\n",
      "    PRIMARY KEY (collection_id, key)\n",
      ");\n",
      "\n",
      "-- Schema for table: segment_metadata\n",
      "CREATE TABLE segment_metadata (\n",
      "    segment_id TEXT  REFERENCES segments(id) ON DELETE CASCADE,\n",
      "    key TEXT NOT NULL,\n",
      "    str_value TEXT,\n",
      "    int_value INTEGER,\n",
      "    float_value REAL, bool_value INTEGER,\n",
      "    PRIMARY KEY (segment_id, key)\n",
      ");\n",
      "\n",
      "-- Schema for table: tenants\n",
      "CREATE TABLE tenants (\n",
      "    id TEXT PRIMARY KEY,\n",
      "    UNIQUE (id)\n",
      ");\n",
      "\n",
      "-- Schema for table: databases\n",
      "CREATE TABLE databases (\n",
      "    id TEXT PRIMARY KEY, -- unique globally\n",
      "    name TEXT NOT NULL, -- unique per tenant\n",
      "    tenant_id TEXT NOT NULL REFERENCES tenants(id) ON DELETE CASCADE,\n",
      "    UNIQUE (tenant_id, name) -- Ensure that a tenant has only one database with a given name\n",
      ");\n",
      "\n",
      "-- Schema for table: collections\n",
      "CREATE TABLE \"collections\" (\n",
      "    id TEXT PRIMARY KEY, -- unique globally\n",
      "    name TEXT NOT NULL, -- unique per database\n",
      "    dimension INTEGER,\n",
      "    database_id TEXT NOT NULL REFERENCES databases(id) ON DELETE CASCADE, config_json_str TEXT,\n",
      "    UNIQUE (name, database_id)\n",
      ");\n",
      "\n",
      "-- Schema for table: maintenance_log\n",
      "CREATE TABLE maintenance_log (\n",
      "  id INT PRIMARY KEY,\n",
      "  timestamp INT NOT NULL,\n",
      "  operation TEXT NOT NULL\n",
      ");\n",
      "\n",
      "-- Schema for table: segments\n",
      "CREATE TABLE \"segments\" (\n",
      "    id TEXT PRIMARY KEY,\n",
      "    type TEXT NOT NULL,\n",
      "    scope TEXT NOT NULL,\n",
      "    collection TEXT REFERENCES collection(id) NOT NULL\n",
      ");\n",
      "\n",
      "-- Schema for table: embeddings\n",
      "CREATE TABLE embeddings (\n",
      "    id INTEGER PRIMARY KEY,\n",
      "    segment_id TEXT NOT NULL,\n",
      "    embedding_id TEXT NOT NULL,\n",
      "    seq_id BLOB NOT NULL,\n",
      "    created_at TIMESTAMP NOT NULL DEFAULT CURRENT_TIMESTAMP,\n",
      "    UNIQUE (segment_id, embedding_id)\n",
      ");\n",
      "\n",
      "-- Schema for table: embedding_metadata\n",
      "CREATE TABLE embedding_metadata (\n",
      "    id INTEGER REFERENCES embeddings(id),\n",
      "    key TEXT NOT NULL,\n",
      "    string_value TEXT,\n",
      "    int_value INTEGER,\n",
      "    float_value REAL, bool_value INTEGER,\n",
      "    PRIMARY KEY (id, key)\n",
      ");\n",
      "\n",
      "-- Schema for table: max_seq_id\n",
      "CREATE TABLE max_seq_id (\n",
      "    segment_id TEXT PRIMARY KEY,\n",
      "    seq_id BLOB NOT NULL\n",
      ");\n",
      "\n",
      "-- Schema for table: embedding_fulltext_search\n",
      "CREATE VIRTUAL TABLE embedding_fulltext_search USING fts5(string_value, tokenize='trigram');\n",
      "\n",
      "-- Schema for table: embedding_fulltext_search_data\n",
      "CREATE TABLE 'embedding_fulltext_search_data'(id INTEGER PRIMARY KEY, block BLOB);\n",
      "\n",
      "-- Schema for table: embedding_fulltext_search_idx\n",
      "CREATE TABLE 'embedding_fulltext_search_idx'(segid, term, pgno, PRIMARY KEY(segid, term)) WITHOUT ROWID;\n",
      "\n",
      "-- Schema for table: embedding_fulltext_search_content\n",
      "CREATE TABLE 'embedding_fulltext_search_content'(id INTEGER PRIMARY KEY, c0);\n",
      "\n",
      "-- Schema for table: embedding_fulltext_search_docsize\n",
      "CREATE TABLE 'embedding_fulltext_search_docsize'(id INTEGER PRIMARY KEY, sz BLOB);\n",
      "\n",
      "-- Schema for table: embedding_fulltext_search_config\n",
      "CREATE TABLE 'embedding_fulltext_search_config'(k PRIMARY KEY, v) WITHOUT ROWID;\n",
      "\n"
     ]
    }
   ],
   "source": [
    "import sqlite3\n",
    "import sqlite_vec\n",
    "\n",
    "## Print Schemas\n",
    "connection = sqlite3.connect(\"./database/chroma_langchain/local_storage/chroma.sqlite3\")\n",
    "connection.enable_load_extension(True)\n",
    "sqlite_vec.load(connection)\n",
    "connection.enable_load_extension(False)\n",
    "\n",
    "cursor = connection.cursor()\n",
    "\n",
    "try:\n",
    "    # Retrieve the CREATE TABLE statements for all tables in the database\n",
    "    cursor.execute(\"SELECT name, sql FROM sqlite_master WHERE type='table';\")\n",
    "    tables = cursor.fetchall()\n",
    "\n",
    "    # Print the SQL CREATE TABLE statements\n",
    "    for table_name, create_statement in tables:\n",
    "        print(f\"-- Schema for table: {table_name}\")\n",
    "        print(f\"{create_statement};\\n\")\n",
    "finally:\n",
    "    # Close the connection\n",
    "    connection.close()"
   ]
  }
 ],
 "metadata": {
  "kernelspec": {
   "display_name": "llm",
   "language": "python",
   "name": "llm"
  },
  "language_info": {
   "codemirror_mode": {
    "name": "ipython",
    "version": 3
   },
   "file_extension": ".py",
   "mimetype": "text/x-python",
   "name": "python",
   "nbconvert_exporter": "python",
   "pygments_lexer": "ipython3",
   "version": "3.10.14"
  }
 },
 "nbformat": 4,
 "nbformat_minor": 2
}
