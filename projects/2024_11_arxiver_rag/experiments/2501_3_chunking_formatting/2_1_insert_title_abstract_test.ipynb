{
 "cells": [
  {
   "cell_type": "code",
   "execution_count": 23,
   "metadata": {},
   "outputs": [],
   "source": [
    "import copy\n",
    "from datetime import datetime\n",
    "import itertools\n",
    "import os\n",
    "from typing import List\n",
    "\n",
    "import matplotlib.pyplot as plt\n",
    "import pandas as pd\n",
    "from pydantic import BaseModel, Field\n",
    "from transformers import AutoTokenizer"
   ]
  },
  {
   "cell_type": "code",
   "execution_count": 2,
   "metadata": {},
   "outputs": [],
   "source": [
    "from pydantic_settings import BaseSettings, SettingsConfigDict\n",
    "\n",
    "class EnvSettings(BaseSettings):\n",
    "    model_config = SettingsConfigDict(\n",
    "        env_file=\"../.env\", env_file_encoding=\"utf-8\", extra=\"ignore\"\n",
    "    )\n",
    "    embedding_base_url: str\n",
    "    embedding_api_key: str\n",
    "    embedding_model: str\n",
    "    embedding_model_dir: str\n",
    "    \n",
    "    sample_data_dir: str\n",
    "    pipeline_src_dir: str\n",
    "settings = EnvSettings()\n",
    "\n",
    "import sys\n",
    "sys.path.append(settings.pipeline_src_dir)"
   ]
  },
  {
   "cell_type": "code",
   "execution_count": 4,
   "metadata": {},
   "outputs": [
    {
     "name": "stdout",
     "output_type": "stream",
     "text": [
      "pgvector_llamaindex\n"
     ]
    }
   ],
   "source": [
    "class DBSettings(BaseSettings):\n",
    "    model_config = SettingsConfigDict(\n",
    "        env_file=\"database/.env\", env_file_encoding=\"utf-8\", extra=\"ignore\"\n",
    "    )\n",
    "    postgres_user: str\n",
    "    postgres_password: str\n",
    "    postgres_db: str\n",
    "    postgres_url: str\n",
    "    postgres_port: str\n",
    "\n",
    "db_settings = DBSettings()\n",
    "print(db_settings.postgres_db)"
   ]
  },
  {
   "cell_type": "markdown",
   "metadata": {},
   "source": [
    "# 1. Prepare Embedding & VectorStore"
   ]
  },
  {
   "cell_type": "code",
   "execution_count": 5,
   "metadata": {},
   "outputs": [],
   "source": [
    "from llama_index.core import Settings\n",
    "from llama_index.embeddings.text_embeddings_inference import (\n",
    "    TextEmbeddingsInference,\n",
    ")\n",
    "\n",
    "from llama_index.core import SimpleDirectoryReader, StorageContext\n",
    "from llama_index.core import VectorStoreIndex\n",
    "from llama_index.vector_stores.postgres import PGVectorStore\n",
    "\n",
    "from sqlalchemy import make_url"
   ]
  },
  {
   "cell_type": "code",
   "execution_count": 6,
   "metadata": {},
   "outputs": [],
   "source": [
    "# https://docs.llamaindex.ai/en/stable/examples/embeddings/text_embedding_inference/\n",
    "embed_model = TextEmbeddingsInference(\n",
    "    model_name=settings.embedding_model,\n",
    "    base_url=settings.embedding_base_url,\n",
    "    timeout=60,\n",
    "    embed_batch_size=10,\n",
    ")\n",
    "Settings.embed_model = embed_model"
   ]
  },
  {
   "cell_type": "code",
   "execution_count": 7,
   "metadata": {},
   "outputs": [
    {
     "name": "stdout",
     "output_type": "stream",
     "text": [
      "DB: pgvector_llamaindex\n"
     ]
    }
   ],
   "source": [
    "import psycopg2\n",
    "# connection_string = \"postgresql://{}:{}@localhost:{}/{}\".format(\n",
    "connection_string = \"postgresql://{}:{}@localhost:{}/{}\".format(\n",
    "    db_settings.postgres_user,\n",
    "    db_settings.postgres_password,\n",
    "    db_settings.postgres_port,\n",
    "    db_settings.postgres_db\n",
    ")\n",
    "\n",
    "db_name = db_settings.postgres_db\n",
    "print(f\"DB: {db_name}\")\n",
    "conn = psycopg2.connect(connection_string)\n",
    "conn.autocommit=True"
   ]
  },
  {
   "cell_type": "code",
   "execution_count": 9,
   "metadata": {},
   "outputs": [],
   "source": [
    "## Initialize vector store instance\n",
    "url = make_url(connection_string)\n",
    "\n",
    "## hnsw indexing config\n",
    "hnsw_config = {\n",
    "    \"hnsw_m\": 16,\n",
    "    \"hnsw_ef_construction\": 64,\n",
    "    \"hnsw_ef_search\": 40,\n",
    "    \"hnsw_dist_method\": \"vector_cosine_ops\",\n",
    "}"
   ]
  },
  {
   "cell_type": "markdown",
   "metadata": {},
   "source": [
    "## Make Abstract Vectorstore\n",
    "* for embedding title+abstract"
   ]
  },
  {
   "cell_type": "code",
   "execution_count": 10,
   "metadata": {},
   "outputs": [],
   "source": [
    "abstract_vector_store = PGVectorStore.from_params(\n",
    "    database=db_name,\n",
    "    host=url.host,\n",
    "    password=url.password,\n",
    "    port=url.port,\n",
    "    user=url.username,\n",
    "    table_name=\"paper_abstract\",\n",
    "    embed_dim=1024,  #bge-m3\n",
    "    hnsw_kwargs=hnsw_config,\n",
    ")\n",
    "\n",
    "## create storage context\n",
    "abstact_storage_context = StorageContext.from_defaults(vector_store=abstract_vector_store)"
   ]
  },
  {
   "cell_type": "markdown",
   "metadata": {},
   "source": [
    "# 2. Analyze Data"
   ]
  },
  {
   "cell_type": "code",
   "execution_count": 11,
   "metadata": {},
   "outputs": [
    {
     "name": "stdout",
     "output_type": "stream",
     "text": [
      "(100, 7) Index(['id', 'title', 'abstract', 'authors', 'published_date', 'link',\n",
      "       'markdown'],\n",
      "      dtype='object')\n"
     ]
    }
   ],
   "source": [
    "## Load Sample\n",
    "df = pd.read_parquet(settings.sample_data_dir)\n",
    "df = df.sample(100)\n",
    "print(df.shape, df.columns)"
   ]
  },
  {
   "cell_type": "code",
   "execution_count": 12,
   "metadata": {},
   "outputs": [
    {
     "data": {
      "text/plain": [
       "id                                                       2306.16925\n",
       "title             MIS-FM: 3D Medical Image Segmentation using Fo...\n",
       "abstract          Pretraining with large-scale 3D volumes has a ...\n",
       "authors           Guotai Wang, Jianghao Wu, Xiangde Luo, Xinglon...\n",
       "published_date                                 2023-06-29T13:22:13Z\n",
       "link                              http://arxiv.org/abs/2306.16925v1\n",
       "markdown          # MIS-FM: 3D Medical Image Segmentation using ...\n",
       "Name: 18077, dtype: object"
      ]
     },
     "execution_count": 12,
     "metadata": {},
     "output_type": "execute_result"
    }
   ],
   "source": [
    "df.iloc[0]"
   ]
  },
  {
   "cell_type": "code",
   "execution_count": 13,
   "metadata": {},
   "outputs": [
    {
     "data": {
      "text/plain": [
       "5"
      ]
     },
     "execution_count": 13,
     "metadata": {},
     "output_type": "execute_result"
    }
   ],
   "source": [
    "tokenizer = AutoTokenizer.from_pretrained(settings.embedding_model_dir)\n",
    "def count_tokens(tokenizer, text):\n",
    "    return len(tokenizer(text)['input_ids'])\n",
    "\n",
    "count_tokens(tokenizer, 'hello world')"
   ]
  },
  {
   "cell_type": "code",
   "execution_count": 14,
   "metadata": {},
   "outputs": [],
   "source": [
    "ABSTRACT_TEMPLATE = '''Title: {title}\n",
    "Abstract:\n",
    "{abstract}'''\n",
    "\n",
    "def format_abstract(title = \"\", abstract = \"\"):\n",
    "    formatted_abstract = copy.deepcopy(ABSTRACT_TEMPLATE)\n",
    "    return formatted_abstract.format(title=title, abstract=abstract)"
   ]
  },
  {
   "cell_type": "code",
   "execution_count": 16,
   "metadata": {},
   "outputs": [],
   "source": [
    "formatted_abstracts = []\n",
    "for i in range(df.shape[0]):\n",
    "    formatted_abstract = format_abstract(\n",
    "        title = df.iloc[i][\"title\"],\n",
    "        abstract = df.iloc[i][\"abstract\"],\n",
    "    )\n",
    "    formatted_abstracts.append(formatted_abstract)"
   ]
  },
  {
   "cell_type": "code",
   "execution_count": 19,
   "metadata": {},
   "outputs": [
    {
     "data": {
      "image/png": "[encoded data removed]",
      "text/plain": [
       "<Figure size 640x480 with 1 Axes>"
      ]
     },
     "metadata": {},
     "output_type": "display_data"
    }
   ],
   "source": [
    "formatted_abstract_num_tokens = [count_tokens(tokenizer, x) for x in formatted_abstracts]\n",
    "plt.hist(formatted_abstract_num_tokens, bins = 30)\n",
    "plt.title(\"Formatted Title+Abstract num_tokens (bge-m3)\")\n",
    "plt.show()"
   ]
  },
  {
   "cell_type": "markdown",
   "metadata": {},
   "source": [
    "# 3. Make llama-index Documents"
   ]
  },
  {
   "cell_type": "code",
   "execution_count": 20,
   "metadata": {},
   "outputs": [],
   "source": [
    "from llama_index.core import Document"
   ]
  },
  {
   "cell_type": "code",
   "execution_count": 24,
   "metadata": {},
   "outputs": [
    {
     "data": {
      "text/plain": [
       "'2023-06-29T13:22:13Z'"
      ]
     },
     "execution_count": 24,
     "metadata": {},
     "output_type": "execute_result"
    }
   ],
   "source": [
    "df.iloc[0][\"published_date\"]"
   ]
  },
  {
   "cell_type": "code",
   "execution_count": 25,
   "metadata": {},
   "outputs": [
    {
     "data": {
      "text/plain": [
       "datetime.datetime(2023, 6, 29, 13, 22, 13)"
      ]
     },
     "execution_count": 25,
     "metadata": {},
     "output_type": "execute_result"
    }
   ],
   "source": [
    "type(df.iloc[0][\"published_date\"])\n",
    "datetime.strptime(df.iloc[0][\"published_date\"], '%Y-%m-%dT%H:%M:%SZ')"
   ]
  },
  {
   "cell_type": "code",
   "execution_count": 26,
   "metadata": {},
   "outputs": [],
   "source": [
    "abstract_documents = []\n",
    "\n",
    "for i in range(df.shape[0]):\n",
    "    published_date = datetime.strptime(df.iloc[i][\"published_date\"], '%Y-%m-%dT%H:%M:%SZ')\n",
    "    document = Document(\n",
    "        text = formatted_abstracts[i],\n",
    "        metadata = {\n",
    "            \"paper_information_id\": i, ## mock id, use df row id\n",
    "            \"published_date\": published_date.strftime('%Y-%m-%d %H:%M:%S')\n",
    "        },\n",
    "        text_template='{content}'\n",
    "    )\n",
    "    abstract_documents.append(document)"
   ]
  },
  {
   "cell_type": "markdown",
   "metadata": {},
   "source": [
    "# 4. Insert Documents"
   ]
  },
  {
   "cell_type": "code",
   "execution_count": 28,
   "metadata": {},
   "outputs": [
    {
     "name": "stderr",
     "output_type": "stream",
     "text": [
      "huggingface/tokenizers: The current process just got forked, after parallelism has already been used. Disabling parallelism to avoid deadlocks...\n",
      "To disable this warning, you can either:\n",
      "\t- Avoid using `tokenizers` before the fork if possible\n",
      "\t- Explicitly set the environment variable TOKENIZERS_PARALLELISM=(true | false)\n"
     ]
    },
    {
     "data": {
      "application/vnd.jupyter.widget-view+json": {
       "model_id": "9fa6d3dd7e8049d5b1070b6a7ef2c50f",
       "version_major": 2,
       "version_minor": 0
      },
      "text/plain": [
       "Parsing nodes:   0%|          | 0/100 [00:00<?, ?it/s]"
      ]
     },
     "metadata": {},
     "output_type": "display_data"
    },
    {
     "data": {
      "application/vnd.jupyter.widget-view+json": {
       "model_id": "7e35b24a3ba04f7ca11344b09a429e59",
       "version_major": 2,
       "version_minor": 0
      },
      "text/plain": [
       "Generating embeddings:   0%|          | 0/100 [00:00<?, ?it/s]"
      ]
     },
     "metadata": {},
     "output_type": "display_data"
    }
   ],
   "source": [
    "## Must add at least one document to make index like this\n",
    "# abstact_storage_index = VectorStoreIndex(storage_context=abstact_storage_context)\n",
    "\n",
    "# Initialize index from documents\n",
    "abstact_storage_index = VectorStoreIndex.from_documents(\n",
    "    abstract_documents,\n",
    "    storage_context=abstact_storage_context,\n",
    "    show_progress=True\n",
    ")"
   ]
  },
  {
   "cell_type": "markdown",
   "metadata": {},
   "source": [
    "# 5. Test Retrieval"
   ]
  },
  {
   "cell_type": "code",
   "execution_count": 29,
   "metadata": {},
   "outputs": [],
   "source": [
    "retriever_args = {\"similarity_top_k\": 10}\n",
    "retriever = abstact_storage_index.as_retriever(**retriever_args)"
   ]
  },
  {
   "cell_type": "code",
   "execution_count": 30,
   "metadata": {},
   "outputs": [
    {
     "data": {
      "text/plain": [
       "[NodeWithScore(node=TextNode(id_='7eb94f34-af50-4f8f-967a-6b779229ef2d', embedding=None, metadata={'paper_information_id': 4, 'published_date': '2023-08-25 19:35:58'}, excluded_embed_metadata_keys=[], excluded_llm_metadata_keys=[], relationships={<NodeRelationship.SOURCE: '1'>: RelatedNodeInfo(node_id='7eb5f76f-a9a4-43ed-9b14-77f26e097a9e', node_type='4', metadata={'paper_information_id': 4, 'published_date': '2023-08-25 19:35:58'}, hash='302d9152de24a6f6fdac54b594c9f83f506776238daab61b8ab92d02a0bd1ec4')}, metadata_template='{key}: {value}', metadata_separator='\\n', text=\"Title: Emulating Radiative Transfer with Artificial Neural Networks\\nAbstract:\\nForward-modeling observables from galaxy simulations enables direct\\ncomparisons between theory and observations. To generate synthetic spectral\\nenergy distributions (SEDs) that include dust absorption, re-emission, and\\nscattering, Monte Carlo radiative transfer is often used in post-processing on\\na galaxy-by-galaxy basis. However, this is computationally expensive,\\nespecially if one wants to make predictions for suites of many cosmological\\nsimulations. To alleviate this computational burden, we have developed a\\nradiative transfer emulator using an artificial neural network (ANN),\\nANNgelina, that can reliably predict SEDs of simulated galaxies using a small\\nnumber of integrated properties of the simulated galaxies: star formation rate,\\nstellar and dust masses, and mass-weighted metallicities of all star particles\\nand of only star particles with age <10 Myr. Here, we present the methodology\\nand quantify the accuracy of the predictions. We train the ANN on SEDs computed\\nfor galaxies from the IllustrisTNG project's TNG50 cosmological\\nmagnetohydrodynamical simulation. ANNgelina is able to predict the SEDs of\\nTNG50 galaxies in the ultraviolet (UV) to millimetre regime with a typical\\nmedian absolute error of ~7 per cent. The prediction error is the greatest in\\nthe UV, possibly due to the viewing-angle dependence being greatest in this\\nwavelength regime. Our results demonstrate that our ANN-based emulator is a\\npromising computationally inexpensive alternative for forward-modeling galaxy\\nSEDs from cosmological simulations.\", mimetype='text/plain', start_char_idx=0, end_char_idx=1617, metadata_seperator='\\n', text_template='{content}'), score=0.5374557331257223),\n",
       " NodeWithScore(node=TextNode(id_='e6c7a6b1-4d05-4cb4-8b30-4994abdba8bd', embedding=None, metadata={'paper_information_id': 97, 'published_date': '2023-10-01 18:50:29'}, excluded_embed_metadata_keys=[], excluded_llm_metadata_keys=[], relationships={<NodeRelationship.SOURCE: '1'>: RelatedNodeInfo(node_id='8688dfa5-a460-4d35-a1bc-f772479a0059', node_type='4', metadata={'paper_information_id': 97, 'published_date': '2023-10-01 18:50:29'}, hash='8f4eb7018b11d633f9d7d4b27213989723622bcca6297ac6fa839c09f0f127e6')}, metadata_template='{key}: {value}', metadata_separator='\\n', text='Title: Counterfactual Image Generation for adversarially robust and\\n  interpretable Classifiers\\nAbstract:\\nNeural Image Classifiers are effective but inherently hard to interpret and\\nsusceptible to adversarial attacks. Solutions to both problems exist, among\\nothers, in the form of counterfactual examples generation to enhance\\nexplainability or adversarially augment training datasets for improved\\nrobustness. However, existing methods exclusively address only one of the\\nissues. We propose a unified framework leveraging image-to-image translation\\nGenerative Adversarial Networks (GANs) to produce counterfactual samples that\\nhighlight salient regions for interpretability and act as adversarial samples\\nto augment the dataset for more robustness. This is achieved by combining the\\nclassifier and discriminator into a single model that attributes real images to\\ntheir respective classes and flags generated images as \"fake\". We assess the\\nmethod\\'s effectiveness by evaluating (i) the produced explainability masks on a\\nsemantic segmentation task for concrete cracks and (ii) the model\\'s resilience\\nagainst the Projected Gradient Descent (PGD) attack on a fruit defects\\ndetection problem. Our produced saliency maps are highly descriptive, achieving\\ncompetitive IoU values compared to classical segmentation models despite being\\ntrained exclusively on classification labels. Furthermore, the model exhibits\\nimproved robustness to adversarial attacks, and we show how the discriminator\\'s\\n\"fakeness\" value serves as an uncertainty measure of the predictions.', mimetype='text/plain', start_char_idx=0, end_char_idx=1556, metadata_seperator='\\n', text_template='{content}'), score=0.5299918967480607),\n",
       " NodeWithScore(node=TextNode(id_='a083c017-d3e6-401b-8902-43eebe40ff63', embedding=None, metadata={'paper_information_id': 17, 'published_date': '2023-07-17 11:55:20'}, excluded_embed_metadata_keys=[], excluded_llm_metadata_keys=[], relationships={<NodeRelationship.SOURCE: '1'>: RelatedNodeInfo(node_id='d679e788-c88e-46e0-b8d9-611e1a0bf7d9', node_type='4', metadata={'paper_information_id': 17, 'published_date': '2023-07-17 11:55:20'}, hash='ff7a0f23deeaf8b91c6741e78511203f9b6792a813635ad63d303c8d1826b4fb')}, metadata_template='{key}: {value}', metadata_separator='\\n', text='Title: Active Learning for Object Detection with Non-Redundant Informative\\n  Sampling\\nAbstract:\\nCurating an informative and representative dataset is essential for enhancing\\nthe performance of 2D object detectors. We present a novel active learning\\nsampling strategy that addresses both the informativeness and diversity of the\\nselections. Our strategy integrates uncertainty and diversity-based selection\\nprinciples into a joint selection objective by measuring the collective\\ninformation score of the selected samples. Specifically, our proposed NORIS\\nalgorithm quantifies the impact of training with a sample on the\\ninformativeness of other similar samples. By exclusively selecting samples that\\nare simultaneously informative and distant from other highly informative\\nsamples, we effectively avoid redundancy while maintaining a high level of\\ninformativeness. Moreover, instead of utilizing whole image features to\\ncalculate distances between samples, we leverage features extracted from\\ndetected object regions within images to define object features. This allows us\\nto construct a dataset encompassing diverse object types, shapes, and angles.\\nExtensive experiments on object detection and image classification tasks\\ndemonstrate the effectiveness of our strategy over the state-of-the-art\\nbaselines. Specifically, our selection strategy achieves a 20% and 30%\\nreduction in labeling costs compared to random selection for PASCAL-VOC and\\nKITTI, respectively.', mimetype='text/plain', start_char_idx=0, end_char_idx=1462, metadata_seperator='\\n', text_template='{content}'), score=0.5222774147987366),\n",
       " NodeWithScore(node=TextNode(id_='c1af34c3-7b02-4370-b4f3-45ae41767851', embedding=None, metadata={'paper_information_id': 1, 'published_date': '2023-08-22 21:03:58'}, excluded_embed_metadata_keys=[], excluded_llm_metadata_keys=[], relationships={<NodeRelationship.SOURCE: '1'>: RelatedNodeInfo(node_id='c1b63ced-5357-40cd-92c4-1ae8bdc4894f', node_type='4', metadata={'paper_information_id': 1, 'published_date': '2023-08-22 21:03:58'}, hash='4b3632450e2ce00867ebb5349206fedd1ddd0f7be86c498e79267cbfe457d166')}, metadata_template='{key}: {value}', metadata_separator='\\n', text='Title: An extensible point-based method for data chart value detection\\nAbstract:\\nWe present an extensible method for identifying semantic points to reverse\\nengineer (i.e. extract the values of) data charts, particularly those in\\nscientific articles. Our method uses a point proposal network (akin to region\\nproposal networks for object detection) to directly predict the position of\\npoints of interest in a chart, and it is readily extensible to multiple chart\\ntypes and chart elements. We focus on complex bar charts in the scientific\\nliterature, on which our model is able to detect salient points with an\\naccuracy of 0.8705 F1 (@1.5-cell max deviation); it achieves 0.9810 F1 on\\nsynthetically-generated charts similar to those used in prior works. We also\\nexplore training exclusively on synthetic data with novel augmentations,\\nreaching surprisingly competent performance in this way (0.6621 F1) on real\\ncharts with widely varying appearance, and we further demonstrate our unchanged\\nmethod applied directly to synthetic pie charts (0.8343 F1). Datasets, trained\\nmodels, and evaluation code are available at\\nhttps://github.com/BNLNLP/PPN_model.', mimetype='text/plain', start_char_idx=0, end_char_idx=1148, metadata_seperator='\\n', text_template='{content}'), score=0.5082253672086051),\n",
       " NodeWithScore(node=TextNode(id_='f6d03f51-fda1-436f-b00f-6c91810e84d4', embedding=None, metadata={'paper_information_id': 86, 'published_date': '2023-04-22 09:35:51'}, excluded_embed_metadata_keys=[], excluded_llm_metadata_keys=[], relationships={<NodeRelationship.SOURCE: '1'>: RelatedNodeInfo(node_id='40480af8-e670-44bb-9ca4-9e81517311d9', node_type='4', metadata={'paper_information_id': 86, 'published_date': '2023-04-22 09:35:51'}, hash='23c749497506a840f159b0063ea9595e45d0926e92bd314f81895962b867d157')}, metadata_template='{key}: {value}', metadata_separator='\\n', text='Title: Learning Symbolic Representations Through Joint GEnerative and\\n  DIscriminative Training\\nAbstract:\\nWe introduce GEDI, a Bayesian framework that combines existing\\nself-supervised learning objectives with likelihood-based generative models.\\nThis framework leverages the benefits of both GEnerative and DIscriminative\\napproaches, resulting in improved symbolic representations over standalone\\nsolutions. Additionally, GEDI can be easily integrated and trained jointly with\\nexisting neuro-symbolic frameworks without the need for additional supervision\\nor costly pre-training steps. We demonstrate through experiments on real-world\\ndata, including SVHN, CIFAR10, and CIFAR100, that GEDI outperforms existing\\nself-supervised learning strategies in terms of clustering performance by a\\nsignificant margin. The symbolic component further allows it to leverage\\nknowledge in the form of logical constraints to improve performance in the\\nsmall data regime.', mimetype='text/plain', start_char_idx=0, end_char_idx=953, metadata_seperator='\\n', text_template='{content}'), score=0.5052429732535506),\n",
       " NodeWithScore(node=TextNode(id_='fb4a47f8-0ced-4e26-884a-de489d72f62e', embedding=None, metadata={'paper_information_id': 13, 'published_date': '2023-06-27 02:46:08'}, excluded_embed_metadata_keys=[], excluded_llm_metadata_keys=[], relationships={<NodeRelationship.SOURCE: '1'>: RelatedNodeInfo(node_id='d264db76-ab75-4a3a-a64f-fe1a0cc8d8d3', node_type='4', metadata={'paper_information_id': 13, 'published_date': '2023-06-27 02:46:08'}, hash='74dd6f38c4509f52b9fbde9a775a6cb4495195be8e65282b8386d54762c9c240')}, metadata_template='{key}: {value}', metadata_separator='\\n', text=\"Title: DSRM: Boost Textual Adversarial Training with Distribution Shift Risk\\n  Minimization\\nAbstract:\\nAdversarial training is one of the best-performing methods in improving the\\nrobustness of deep language models. However, robust models come at the cost of\\nhigh time consumption, as they require multi-step gradient ascents or word\\nsubstitutions to obtain adversarial samples. In addition, these generated\\nsamples are deficient in grammatical quality and semantic consistency, which\\nimpairs the effectiveness of adversarial training. To address these problems,\\nwe introduce a novel, effective procedure for instead adversarial training with\\nonly clean data. Our procedure, distribution shift risk minimization (DSRM),\\nestimates the adversarial loss by perturbing the input data's probability\\ndistribution rather than their embeddings. This formulation results in a robust\\nmodel that minimizes the expected global loss under adversarial attacks. Our\\napproach requires zero adversarial samples for training and reduces time\\nconsumption by up to 70\\\\% compared to current best-performing adversarial\\ntraining methods. Experiments demonstrate that DSRM considerably improves\\nBERT's resistance to textual adversarial attacks and achieves state-of-the-art\\nrobust accuracy on various benchmarks.\", mimetype='text/plain', start_char_idx=0, end_char_idx=1287, metadata_seperator='\\n', text_template='{content}'), score=0.5021710395812988),\n",
       " NodeWithScore(node=TextNode(id_='e55f77d6-4eb4-428a-ae93-7c0351f176e5', embedding=None, metadata={'paper_information_id': 47, 'published_date': '2023-04-24 13:24:00'}, excluded_embed_metadata_keys=[], excluded_llm_metadata_keys=[], relationships={<NodeRelationship.SOURCE: '1'>: RelatedNodeInfo(node_id='b3d61df3-d05b-4ce9-96eb-be1b693a666b', node_type='4', metadata={'paper_information_id': 47, 'published_date': '2023-04-24 13:24:00'}, hash='0e7488ad3314419c00b7a417d30f25a43e1b470204106479e236c36c48166d4e')}, metadata_template='{key}: {value}', metadata_separator='\\n', text=\"Title: Quality-Diversity Optimisation on a Physical Robot Through\\n  Dynamics-Aware and Reset-Free Learning\\nAbstract:\\nLearning algorithms, like Quality-Diversity (QD), can be used to acquire\\nrepertoires of diverse robotics skills. This learning is commonly done via\\ncomputer simulation due to the large number of evaluations required. However,\\ntraining in a virtual environment generates a gap between simulation and\\nreality. Here, we build upon the Reset-Free QD (RF-QD) algorithm to learn\\ncontrollers directly on a physical robot. This method uses a dynamics model,\\nlearned from interactions between the robot and the environment, to predict the\\nrobot's behaviour and improve sample efficiency. A behaviour selection policy\\nfilters out uninteresting or unsafe policies predicted by the model. RF-QD also\\nincludes a recovery policy that returns the robot to a safe zone when it has\\nwalked outside of it, allowing continuous learning. We demonstrate that our\\nmethod enables a physical quadruped robot to learn a repertoire of behaviours\\nin two hours without human supervision. We successfully test the solution\\nrepertoire using a maze navigation task. Finally, we compare our approach to\\nthe MAP-Elites algorithm. We show that dynamics awareness and a recovery policy\\nare required for training on a physical robot for optimal archive generation.\\nVideo available at https://youtu.be/BgGNvIsRh7Q\", mimetype='text/plain', start_char_idx=0, end_char_idx=1392, metadata_seperator='\\n', text_template='{content}'), score=0.501980721950531),\n",
       " NodeWithScore(node=TextNode(id_='dacb3972-b204-41a5-9379-94a6ef891f6f', embedding=None, metadata={'paper_information_id': 53, 'published_date': '2023-06-18 15:50:57'}, excluded_embed_metadata_keys=[], excluded_llm_metadata_keys=[], relationships={<NodeRelationship.SOURCE: '1'>: RelatedNodeInfo(node_id='acb9733f-8483-4ac1-9ff7-687107e0ff3e', node_type='4', metadata={'paper_information_id': 53, 'published_date': '2023-06-18 15:50:57'}, hash='f38cdada5440720f18f6731dcf7ac5dbd9aecf49749fbb67bfddab3074f89c90')}, metadata_template='{key}: {value}', metadata_separator='\\n', text='Title: Acceleration in Policy Optimization\\nAbstract:\\nWe work towards a unifying paradigm for accelerating policy optimization\\nmethods in reinforcement learning (RL) by integrating foresight in the policy\\nimprovement step via optimistic and adaptive updates. Leveraging the connection\\nbetween policy iteration and policy gradient methods, we view policy\\noptimization algorithms as iteratively solving a sequence of surrogate\\nobjectives, local lower bounds on the original objective. We define optimism as\\npredictive modelling of the future behavior of a policy, and adaptivity as\\ntaking immediate and anticipatory corrective actions to mitigate accumulating\\nerrors from overshooting predictions or delayed responses to change. We use\\nthis shared lens to jointly express other well-known algorithms, including\\nmodel-based policy improvement based on forward search, and optimistic\\nmeta-learning algorithms. We analyze properties of this formulation, and show\\nconnections to other accelerated optimization algorithms. Then, we design an\\noptimistic policy gradient algorithm, adaptive via meta-gradient learning, and\\nempirically highlight several design choices pertaining to acceleration, in an\\nillustrative task.', mimetype='text/plain', start_char_idx=0, end_char_idx=1210, metadata_seperator='\\n', text_template='{content}'), score=0.4949085718502352),\n",
       " NodeWithScore(node=TextNode(id_='72d27886-3bf5-4d30-a3a6-52f31e59c3ae', embedding=None, metadata={'paper_information_id': 14, 'published_date': '2023-09-20 14:59:06'}, excluded_embed_metadata_keys=[], excluded_llm_metadata_keys=[], relationships={<NodeRelationship.SOURCE: '1'>: RelatedNodeInfo(node_id='0ad9984a-ba0c-4154-a12f-e37b9b743750', node_type='4', metadata={'paper_information_id': 14, 'published_date': '2023-09-20 14:59:06'}, hash='29cb1b4acec8fd4ff2fa94822c1848e0eeb8bae6cccaa8dc50eb917d032fb240')}, metadata_template='{key}: {value}', metadata_separator='\\n', text='Title: Incremental Blockwise Beam Search for Simultaneous Speech Translation\\n  with Controllable Quality-Latency Tradeoff\\nAbstract:\\nBlockwise self-attentional encoder models have recently emerged as one\\npromising end-to-end approach to simultaneous speech translation. These models\\nemploy a blockwise beam search with hypothesis reliability scoring to determine\\nwhen to wait for more input speech before translating further. However, this\\nmethod maintains multiple hypotheses until the entire speech input is consumed\\n-- this scheme cannot directly show a single \\\\textit{incremental} translation\\nto users. Further, this method lacks mechanisms for \\\\textit{controlling} the\\nquality vs. latency tradeoff. We propose a modified incremental blockwise beam\\nsearch incorporating local agreement or hold-$n$ policies for quality-latency\\ncontrol. We apply our framework to models trained for online or offline\\ntranslation and demonstrate that both types can be effectively used in online\\nmode.\\n  Experimental results on MuST-C show 0.6-3.6 BLEU improvement without changing\\nlatency or 0.8-1.4 s latency improvement without changing quality.', mimetype='text/plain', start_char_idx=0, end_char_idx=1132, metadata_seperator='\\n', text_template='{content}'), score=0.4947289824485779),\n",
       " NodeWithScore(node=TextNode(id_='7b463ee3-bbc5-48ce-9a38-6603166c564c', embedding=None, metadata={'paper_information_id': 24, 'published_date': '2023-02-20 21:05:17'}, excluded_embed_metadata_keys=[], excluded_llm_metadata_keys=[], relationships={<NodeRelationship.SOURCE: '1'>: RelatedNodeInfo(node_id='0a7a25d9-8d9c-4d5d-aa08-ba715c2d3671', node_type='4', metadata={'paper_information_id': 24, 'published_date': '2023-02-20 21:05:17'}, hash='0583ae52c3435040c895d81d1024f2c629751495d379673bcab4f9940fda1d75')}, metadata_template='{key}: {value}', metadata_separator='\\n', text=\"Title: Hadamard Layer to Improve Semantic Segmentation\\nAbstract:\\nThe Hadamard Layer, a simple and computationally efficient way to improve\\nresults in semantic segmentation tasks, is presented. This layer has no free\\nparameters that require to be trained. Therefore it does not increase the\\nnumber of model parameters, and the extra computational cost is marginal.\\nExperimental results show that the new Hadamard layer substantially improves\\nthe performance of the investigated models (variants of the Pix2Pix model). The\\nperformance's improvement can be explained by the Hadamard layer forcing the\\nnetwork to produce an internal encoding of the classes so that all bins are\\nactive. Therefore, the network computation is more distributed. In a sort that\\nthe Hadamard layer requires that to change the predicted class, it is necessary\\nto modify $2^{k-1}$ bins, assuming $k$ bins in the encoding. A specific loss\\nfunction allows a stable and fast training convergence.\", mimetype='text/plain', start_char_idx=0, end_char_idx=965, metadata_seperator='\\n', text_template='{content}'), score=0.48583659614106534)]"
      ]
     },
     "execution_count": 30,
     "metadata": {},
     "output_type": "execute_result"
    }
   ],
   "source": [
    "## Simple query\n",
    "query = \"Retrieval Augmented Generation\"\n",
    "nodes = retriever.retrieve(query)\n",
    "nodes"
   ]
  },
  {
   "cell_type": "code",
   "execution_count": 31,
   "metadata": {},
   "outputs": [
    {
     "name": "stdout",
     "output_type": "stream",
     "text": [
      "Result 0 - 0.537\n",
      "4 Emulating Radiative Transfer with Artificial Neural Networks\n",
      "Forward-modeling observables from galaxy simulations enables direct\n",
      "comparisons between theory and o\n",
      "------------------------------\n",
      "Result 1 - 0.530\n",
      "97 Counterfactual Image Generation for adversarially robust and\n",
      "  interpretable Classifiers\n",
      "Neural Image Classifiers are effective but inherently hard to interpret and\n",
      "susceptible to adversari\n",
      "------------------------------\n",
      "Result 2 - 0.522\n",
      "17 Active Learning for Object Detection with Non-Redundant Informative\n",
      "  Sampling\n",
      "Curating an informative and representative dataset is essential for enhancing\n",
      "the performance of 2D \n",
      "------------------------------\n",
      "Result 3 - 0.508\n",
      "1 An extensible point-based method for data chart value detection\n",
      "We present an extensible method for identifying semantic points to reverse\n",
      "engineer (i.e. extract th\n",
      "------------------------------\n",
      "Result 4 - 0.505\n",
      "86 Learning Symbolic Representations Through Joint GEnerative and\n",
      "  DIscriminative Training\n",
      "We introduce GEDI, a Bayesian framework that combines existing\n",
      "self-supervised learning objectives w\n",
      "------------------------------\n",
      "Result 5 - 0.502\n",
      "13 DSRM: Boost Textual Adversarial Training with Distribution Shift Risk\n",
      "  Minimization\n",
      "Adversarial training is one of the best-performing methods in improving the\n",
      "robustness of deep langu\n",
      "------------------------------\n",
      "Result 6 - 0.502\n",
      "47 Quality-Diversity Optimisation on a Physical Robot Through\n",
      "  Dynamics-Aware and Reset-Free Learning\n",
      "Learning algorithms, like Quality-Diversity (QD), can be used to acquire\n",
      "repertoires of diverse robo\n",
      "------------------------------\n",
      "Result 7 - 0.495\n",
      "53 Acceleration in Policy Optimization\n",
      "We work towards a unifying paradigm for accelerating policy optimization\n",
      "methods in reinforcement le\n",
      "------------------------------\n",
      "Result 8 - 0.495\n",
      "14 Incremental Blockwise Beam Search for Simultaneous Speech Translation\n",
      "  with Controllable Quality-Latency Tradeoff\n",
      "Blockwise self-attentional encoder models have recently emerged as one\n",
      "promising end-to-end approach\n",
      "------------------------------\n",
      "Result 9 - 0.486\n",
      "24 Hadamard Layer to Improve Semantic Segmentation\n",
      "The Hadamard Layer, a simple and computationally efficient way to improve\n",
      "results in semantic segmen\n",
      "------------------------------\n"
     ]
    }
   ],
   "source": [
    "for i, node in enumerate(nodes):\n",
    "    ## Score\n",
    "    score = node.score\n",
    "    ## Source\n",
    "    paper_info_id = node.metadata['paper_information_id']\n",
    "    title = df.iloc[paper_info_id][\"title\"]\n",
    "    abstract = df.iloc[paper_info_id][\"abstract\"]\n",
    "    print(\"Result {} - {:.3f}\".format(i, score))\n",
    "    print(paper_info_id, title)\n",
    "    print(abstract[:100])\n",
    "    print('-'*30)"
   ]
  }
 ],
 "metadata": {
  "kernelspec": {
   "display_name": "llm",
   "language": "python",
   "name": "llm"
  },
  "language_info": {
   "codemirror_mode": {
    "name": "ipython",
    "version": 3
   },
   "file_extension": ".py",
   "mimetype": "text/x-python",
   "name": "python",
   "nbconvert_exporter": "python",
   "pygments_lexer": "ipython3",
   "version": "3.10.14"
  }
 },
 "nbformat": 4,
 "nbformat_minor": 2
}
