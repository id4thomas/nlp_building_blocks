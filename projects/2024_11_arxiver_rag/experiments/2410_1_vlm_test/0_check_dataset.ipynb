{
 "cells": [
  {
   "cell_type": "code",
   "execution_count": 1,
   "metadata": {},
   "outputs": [],
   "source": [
    "import pandas as pd"
   ]
  },
  {
   "cell_type": "code",
   "execution_count": 4,
   "metadata": {},
   "outputs": [],
   "source": [
    "data_dir = \"train.parquet\""
   ]
  },
  {
   "cell_type": "code",
   "execution_count": 5,
   "metadata": {},
   "outputs": [
    {
     "name": "stdout",
     "output_type": "stream",
     "text": [
      "(63357, 7) Index(['id', 'title', 'abstract', 'authors', 'published_date', 'link',\n",
      "       'markdown'],\n",
      "      dtype='object')\n"
     ]
    }
   ],
   "source": [
    "df = pd.read_parquet(data_dir)\n",
    "print(df.shape, df.columns)"
   ]
  },
  {
   "cell_type": "code",
   "execution_count": 6,
   "metadata": {},
   "outputs": [
    {
     "data": {
      "text/html": [
       "<div>\n",
       "<style scoped>\n",
       "    .dataframe tbody tr th:only-of-type {\n",
       "        vertical-align: middle;\n",
       "    }\n",
       "\n",
       "    .dataframe tbody tr th {\n",
       "        vertical-align: top;\n",
       "    }\n",
       "\n",
       "    .dataframe thead th {\n",
       "        text-align: right;\n",
       "    }\n",
       "</style>\n",
       "<table border=\"1\" class=\"dataframe\">\n",
       "  <thead>\n",
       "    <tr style=\"text-align: right;\">\n",
       "      <th></th>\n",
       "      <th>id</th>\n",
       "      <th>title</th>\n",
       "      <th>abstract</th>\n",
       "      <th>authors</th>\n",
       "      <th>published_date</th>\n",
       "      <th>link</th>\n",
       "      <th>markdown</th>\n",
       "    </tr>\n",
       "  </thead>\n",
       "  <tbody>\n",
       "    <tr>\n",
       "      <th>0</th>\n",
       "      <td>2305.00379</td>\n",
       "      <td>Image Completion via Dual-path Cooperative Fil...</td>\n",
       "      <td>Given the recent advances with image-generatin...</td>\n",
       "      <td>Pourya Shamsolmoali, Masoumeh Zareapoor, Eric ...</td>\n",
       "      <td>2023-04-30T03:54:53Z</td>\n",
       "      <td>http://arxiv.org/abs/2305.00379v1</td>\n",
       "      <td># Image Completion via Dual-Path Cooperative F...</td>\n",
       "    </tr>\n",
       "    <tr>\n",
       "      <th>1</th>\n",
       "      <td>2307.16362</td>\n",
       "      <td>High Sensitivity Beamformed Observations of th...</td>\n",
       "      <td>We analyzed four epochs of beamformed EVN data...</td>\n",
       "      <td>Rebecca Lin, Marten H. van Kerkwijk</td>\n",
       "      <td>2023-07-31T01:36:55Z</td>\n",
       "      <td>http://arxiv.org/abs/2307.16362v2</td>\n",
       "      <td># High Sensitivity Beamformed Observations of ...</td>\n",
       "    </tr>\n",
       "    <tr>\n",
       "      <th>2</th>\n",
       "      <td>2301.07687</td>\n",
       "      <td>Maybe, Maybe Not: A Survey on Uncertainty in V...</td>\n",
       "      <td>Understanding and evaluating uncertainty play ...</td>\n",
       "      <td>Krisha Mehta</td>\n",
       "      <td>2022-12-14T00:07:06Z</td>\n",
       "      <td>http://arxiv.org/abs/2301.07687v1</td>\n",
       "      <td># Maybe, Maybe Not: A Survey on Uncertainty in...</td>\n",
       "    </tr>\n",
       "    <tr>\n",
       "      <th>3</th>\n",
       "      <td>2309.09088</td>\n",
       "      <td>Enhancing GAN-Based Vocoders with Contrastive ...</td>\n",
       "      <td>Vocoder models have recently achieved substant...</td>\n",
       "      <td>Haoming Guo, Seth Z. Zhao, Jiachen Lian, Gopal...</td>\n",
       "      <td>2023-09-16T20:04:16Z</td>\n",
       "      <td>http://arxiv.org/abs/2309.09088v2</td>\n",
       "      <td># Enhancing Gan-Based Vocoders with Contrastiv...</td>\n",
       "    </tr>\n",
       "    <tr>\n",
       "      <th>4</th>\n",
       "      <td>2307.16404</td>\n",
       "      <td>Nonvolatile Magneto-Thermal Switching in MgB2</td>\n",
       "      <td>Ongoing research explores thermal switching ma...</td>\n",
       "      <td>Hiroto Arima, Yoshikazu Mizuguchi</td>\n",
       "      <td>2023-07-31T04:59:19Z</td>\n",
       "      <td>http://arxiv.org/abs/2307.16404v1</td>\n",
       "      <td># Nonvolatile Magneto-Thermal Switching in MgB...</td>\n",
       "    </tr>\n",
       "  </tbody>\n",
       "</table>\n",
       "</div>"
      ],
      "text/plain": [
       "           id                                              title  \\\n",
       "0  2305.00379  Image Completion via Dual-path Cooperative Fil...   \n",
       "1  2307.16362  High Sensitivity Beamformed Observations of th...   \n",
       "2  2301.07687  Maybe, Maybe Not: A Survey on Uncertainty in V...   \n",
       "3  2309.09088  Enhancing GAN-Based Vocoders with Contrastive ...   \n",
       "4  2307.16404      Nonvolatile Magneto-Thermal Switching in MgB2   \n",
       "\n",
       "                                            abstract  \\\n",
       "0  Given the recent advances with image-generatin...   \n",
       "1  We analyzed four epochs of beamformed EVN data...   \n",
       "2  Understanding and evaluating uncertainty play ...   \n",
       "3  Vocoder models have recently achieved substant...   \n",
       "4  Ongoing research explores thermal switching ma...   \n",
       "\n",
       "                                             authors        published_date  \\\n",
       "0  Pourya Shamsolmoali, Masoumeh Zareapoor, Eric ...  2023-04-30T03:54:53Z   \n",
       "1                Rebecca Lin, Marten H. van Kerkwijk  2023-07-31T01:36:55Z   \n",
       "2                                       Krisha Mehta  2022-12-14T00:07:06Z   \n",
       "3  Haoming Guo, Seth Z. Zhao, Jiachen Lian, Gopal...  2023-09-16T20:04:16Z   \n",
       "4                  Hiroto Arima, Yoshikazu Mizuguchi  2023-07-31T04:59:19Z   \n",
       "\n",
       "                                link  \\\n",
       "0  http://arxiv.org/abs/2305.00379v1   \n",
       "1  http://arxiv.org/abs/2307.16362v2   \n",
       "2  http://arxiv.org/abs/2301.07687v1   \n",
       "3  http://arxiv.org/abs/2309.09088v2   \n",
       "4  http://arxiv.org/abs/2307.16404v1   \n",
       "\n",
       "                                            markdown  \n",
       "0  # Image Completion via Dual-Path Cooperative F...  \n",
       "1  # High Sensitivity Beamformed Observations of ...  \n",
       "2  # Maybe, Maybe Not: A Survey on Uncertainty in...  \n",
       "3  # Enhancing Gan-Based Vocoders with Contrastiv...  \n",
       "4  # Nonvolatile Magneto-Thermal Switching in MgB...  "
      ]
     },
     "execution_count": 6,
     "metadata": {},
     "output_type": "execute_result"
    }
   ],
   "source": [
    "df.head()"
   ]
  },
  {
   "cell_type": "markdown",
   "metadata": {},
   "source": [
    "## Test arxiv-downloader"
   ]
  },
  {
   "cell_type": "code",
   "execution_count": 9,
   "metadata": {},
   "outputs": [],
   "source": [
    "import os\n",
    "import arxiv\n",
    "\n",
    "# from arxiv-downloader\n",
    "def download_article(article_id, directory, download_source=False):\n",
    "    \"\"\"\n",
    "    Downloads the article with the given ID from arXiv and saves it to the specified directory.\n",
    "\n",
    "    Args:\n",
    "        article_id: The arXiv ID of the article to download.\n",
    "        directory: The directory where the article will be saved.\n",
    "        download_source: Whether to download the source files of the article.\n",
    "    \"\"\"\n",
    "    # Proceed with the download\n",
    "    directory = directory\n",
    "    os.makedirs(directory, exist_ok=True)\n",
    "    search_result = arxiv.Client().results(arxiv.Search(id_list=[article_id]))\n",
    "\n",
    "    if article := next(search_result):\n",
    "        print(f'Starting download of article: \"{article.title}\" ({article_id})')\n",
    "        pdf_path = article.download_pdf(dirpath=directory)\n",
    "        print(f\"Download finished! Result saved at:\\n{pdf_path}\")\n",
    "\n",
    "        if download_source:\n",
    "            print(f'Starting download of article source files: \"{article.title}\" ({article_id})')\n",
    "            article.download_source(dirpath=directory)\n",
    "    else:\n",
    "        print(\"Article not found.\")"
   ]
  },
  {
   "cell_type": "code",
   "execution_count": 10,
   "metadata": {},
   "outputs": [
    {
     "name": "stdout",
     "output_type": "stream",
     "text": [
      "Starting download of article: \"Image Completion via Dual-path Cooperative Filtering\" (2305.00379)\n",
      "Download finished! Result saved at:\n",
      "cache/2305.00379v1.Image_Completion_via_Dual_path_Cooperative_Filtering.pdf\n"
     ]
    }
   ],
   "source": [
    "article_id = df.iloc[0][\"id\"]\n",
    "save_dir = \"cache\"\n",
    "download_article(article_id, directory=save_dir)"
   ]
  },
  {
   "cell_type": "code",
   "execution_count": 11,
   "metadata": {},
   "outputs": [
    {
     "data": {
      "text/plain": [
       "['2305.00379v1.Image_Completion_via_Dual_path_Cooperative_Filtering.pdf']"
      ]
     },
     "execution_count": 11,
     "metadata": {},
     "output_type": "execute_result"
    }
   ],
   "source": [
    "os.listdir(\"cache\")"
   ]
  },
  {
   "cell_type": "markdown",
   "metadata": {},
   "source": [
    "## Test pypdf (pdf->img)"
   ]
  },
  {
   "cell_type": "code",
   "execution_count": 13,
   "metadata": {},
   "outputs": [],
   "source": [
    "from pdf2image import convert_from_path"
   ]
  },
  {
   "cell_type": "code",
   "execution_count": 12,
   "metadata": {},
   "outputs": [],
   "source": [
    "fname = \"cache/2305.00379v1.Image_Completion_via_Dual_path_Cooperative_Filtering.pdf\"\n",
    "png_path=f\"cache/pdf2img/{article_id}\"\n",
    "\n",
    "if not os.path.exists(png_path):\n",
    "    os.makedirs(png_path)"
   ]
  },
  {
   "cell_type": "code",
   "execution_count": 14,
   "metadata": {},
   "outputs": [],
   "source": [
    "def convert_pdf_to_png(pdf_path, png_path):\n",
    "    images = convert_from_path(pdf_path)\n",
    "    for i, img in enumerate(images):\n",
    "        png_fpath = os.path.join(png_path, f\"{i}.png\")\n",
    "        img.save(png_fpath, \"PNG\")\n",
    "        print(f\"Saved {png_fpath}\")"
   ]
  },
  {
   "cell_type": "code",
   "execution_count": 15,
   "metadata": {},
   "outputs": [
    {
     "name": "stdout",
     "output_type": "stream",
     "text": [
      "Saved cache/pdf2img/2305.00379/0.png\n",
      "Saved cache/pdf2img/2305.00379/1.png\n",
      "Saved cache/pdf2img/2305.00379/2.png\n",
      "Saved cache/pdf2img/2305.00379/3.png\n",
      "Saved cache/pdf2img/2305.00379/4.png\n"
     ]
    },
    {
     "data": {
      "text/plain": [
       "['0.png', '1.png', '2.png', '3.png', '4.png']"
      ]
     },
     "execution_count": 15,
     "metadata": {},
     "output_type": "execute_result"
    }
   ],
   "source": [
    "convert_pdf_to_png(pdf_path=fname, png_path=png_path)\n",
    "os.listdir(png_path)"
   ]
  }
 ],
 "metadata": {
  "kernelspec": {
   "display_name": "hf",
   "language": "python",
   "name": "hf"
  },
  "language_info": {
   "codemirror_mode": {
    "name": "ipython",
    "version": 3
   },
   "file_extension": ".py",
   "mimetype": "text/x-python",
   "name": "python",
   "nbconvert_exporter": "python",
   "pygments_lexer": "ipython3",
   "version": "3.10.14"
  }
 },
 "nbformat": 4,
 "nbformat_minor": 2
}
