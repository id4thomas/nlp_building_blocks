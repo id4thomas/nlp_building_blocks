{
 "cells": [
  {
   "cell_type": "code",
   "execution_count": 29,
   "metadata": {},
   "outputs": [],
   "source": [
    "import json\n",
    "import os\n",
    "import random\n",
    "from typing import List, Dict\n",
    "import uuid\n",
    "\n",
    "from openai import OpenAI, AsyncOpenAI\n",
    "from pydantic import BaseModel, Extra, Field\n",
    "import tiktoken\n",
    "\n",
    "from config import settings, app_settings\n",
    "\n",
    "from src.simschat.models import (\n",
    "    CharacterSpecification,\n",
    "    SceneState,\n",
    "    CharacterRelationState,\n",
    "    CharacterState,\n",
    "    create_dynamic_enum\n",
    ")"
   ]
  },
  {
   "cell_type": "code",
   "execution_count": 30,
   "metadata": {},
   "outputs": [],
   "source": [
    "openai_client = OpenAI(api_key=settings.openai_api_key)\n",
    "tokenizer = tiktoken.encoding_for_model(\"gpt-4o\")"
   ]
  },
  {
   "cell_type": "code",
   "execution_count": 31,
   "metadata": {},
   "outputs": [],
   "source": [
    "class Character(BaseModel):\n",
    "    uid: str\n",
    "    spec: CharacterSpecification\n",
    "    state: CharacterState"
   ]
  },
  {
   "cell_type": "markdown",
   "metadata": {},
   "source": [
    "# 0. Load Character & State"
   ]
  },
  {
   "cell_type": "code",
   "execution_count": 32,
   "metadata": {},
   "outputs": [],
   "source": [
    "# Load Scene\n",
    "scene_uid = \"2f2462c1-bdef-4089-b206-c47decd841f3\"\n",
    "\n",
    "with open(f\"simschat/scene/{scene_uid}.json\", \"r\") as f:\n",
    "    scene_dict = json.load(f)"
   ]
  },
  {
   "cell_type": "code",
   "execution_count": 33,
   "metadata": {},
   "outputs": [],
   "source": [
    "scene_description = scene_dict[\"scene\"][\"revised_trope\"]\n",
    "scene_state = SceneState.model_validate(scene_dict[\"scene\"][\"scene\"])"
   ]
  },
  {
   "cell_type": "code",
   "execution_count": 34,
   "metadata": {},
   "outputs": [],
   "source": [
    "character_states = {\n",
    "    scene_dict[\"character_states\"][\"character1_uid\"]: CharacterState.model_validate(scene_dict[\"character_states\"][\"character1\"]),\n",
    "    scene_dict[\"character_states\"][\"character2_uid\"]: CharacterState.model_validate(scene_dict[\"character_states\"][\"character2\"]),\n",
    "}"
   ]
  },
  {
   "cell_type": "code",
   "execution_count": 35,
   "metadata": {},
   "outputs": [
    {
     "name": "stdout",
     "output_type": "stream",
     "text": [
      "35f0c56f-263d-42df-846c-e1833d8ca0ab wiki_Zephyr Orion.txt\n",
      "00d66087-9b3b-46da-bd74-bf45cbe81d3c wiki_Vivienne LaRoux.txt\n"
     ]
    }
   ],
   "source": [
    "# Load Character\n",
    "with open(\"simschat/character_collection.json\", \"r\") as f:\n",
    "    character_collection = json.load(f)\n",
    "\n",
    "character_ids = list(character_collection[\"source\"].keys())\n",
    "\n",
    "character1_id=\"35f0c56f-263d-42df-846c-e1833d8ca0ab\"\n",
    "character2_id=\"00d66087-9b3b-46da-bd74-bf45cbe81d3c\"\n",
    "\n",
    "print(character1_id, character_collection[\"source\"][character1_id])\n",
    "print(character2_id, character_collection[\"source\"][character2_id])"
   ]
  },
  {
   "cell_type": "code",
   "execution_count": 36,
   "metadata": {},
   "outputs": [],
   "source": [
    "# Load Characters\n",
    "with open(f\"simschat/characters/{character1_id}.json\", \"r\") as f:\n",
    "    character1_spec = CharacterSpecification(**json.load(f))\n",
    "    \n",
    "with open(f\"simschat/characters/{character2_id}.json\", \"r\") as f:\n",
    "    character2_spec = CharacterSpecification(**json.load(f))"
   ]
  },
  {
   "cell_type": "code",
   "execution_count": 37,
   "metadata": {},
   "outputs": [],
   "source": [
    "character1 = Character(\n",
    "    uid=character1_id,\n",
    "    spec=character1_spec,\n",
    "    state=character_states[character1_id]\n",
    ")\n",
    "character2 = Character(\n",
    "    uid=character2_id,\n",
    "    spec=character2_spec,\n",
    "    state=character_states[character2_id]\n",
    ")"
   ]
  },
  {
   "cell_type": "code",
   "execution_count": 38,
   "metadata": {},
   "outputs": [
    {
     "name": "stdout",
     "output_type": "stream",
     "text": [
      "{\n",
      "    \"uid\": \"35f0c56f-263d-42df-846c-e1833d8ca0ab\",\n",
      "    \"spec\": {\n",
      "        \"name\": \"Zephyr Orion\",\n",
      "        \"gender\": \"male\",\n",
      "        \"age\": 28,\n",
      "        \"dialogue_tone\": \"playful, jovial, and engaging, with a witty humor and warmth that makes everyone feel at ease. Known for storytelling with captivating tales of space adventures.\",\n",
      "        \"career\": \"Astronaut\",\n",
      "        \"personality_traits\": [\n",
      "            {\n",
      "                \"trait\": \"Goofball\",\n",
      "                \"description\": \"Enjoys joking and making others laugh, bringing a playful spirit to social situations.\"\n",
      "            },\n",
      "            {\n",
      "                \"trait\": \"Materialistic\",\n",
      "                \"description\": \"Loves acquiring new possessions and often leans towards bragging about them.\"\n",
      "            },\n",
      "            {\n",
      "                \"trait\": \"Outgoing\",\n",
      "                \"description\": \"Flourishes in social situations and enjoys being around people.\"\n",
      "            },\n",
      "            {\n",
      "                \"trait\": \"Gloomy\",\n",
      "                \"description\": \"Grows sad when left alone for too long.\"\n",
      "            },\n",
      "            {\n",
      "                \"trait\": \"Ambitious\",\n",
      "                \"description\": \"Continuously strives to reach new milestones in his career.\"\n",
      "            }\n",
      "        ],\n",
      "        \"hobbies\": [\n",
      "            \"Fitness\",\n",
      "            \"Cooking\",\n",
      "            \"Painting\"\n",
      "        ],\n",
      "        \"living_conditions\": [\n",
      "            \"Resides in a modern city apartment filled with space memorabilia and art supplies.\",\n",
      "            \"Leads a healthy lifestyle, working out regularly, and maintaining balanced meals.\"\n",
      "        ],\n",
      "        \"social_relationships\": [\n",
      "            {\n",
      "                \"target\": \"Close-knit group of friends\",\n",
      "                \"status\": \"positive\",\n",
      "                \"description\": \"Share a strong bond through a mutual passion for space exploration.\"\n",
      "            },\n",
      "            {\n",
      "                \"target\": \"Community and professional field\",\n",
      "                \"status\": \"positive\",\n",
      "                \"description\": \"Well-respected and liked within community and professional circles.\"\n",
      "            }\n",
      "        ]\n",
      "    },\n",
      "    \"state\": {\n",
      "        \"sentiment\": \"neutral\",\n",
      "        \"emotion\": \"anticipation\",\n",
      "        \"social_relations\": [\n",
      "            {\n",
      "                \"character_uid\": \"00d66087-9b3b-46da-bd74-bf45cbe81d3c\",\n",
      "                \"emotion\": \"trust\",\n",
      "                \"knowledge\": [\n",
      "                    \"Vivienne LaRoux is a renowned style influencer with an assertive demeanor.\",\n",
      "                    \"Vivienne initially greets Zephyr with icy indifference during their interaction at the gala.\",\n",
      "                    \"Despite Vivienne's dismissive nature, Zephyr sees potential for a deeper connection.\"\n",
      "                ]\n",
      "            }\n",
      "        ]\n",
      "    }\n",
      "}\n"
     ]
    }
   ],
   "source": [
    "print(character1.model_dump_json(indent=4))"
   ]
  },
  {
   "cell_type": "markdown",
   "metadata": {},
   "source": [
    "# 1. Action Prediction"
   ]
  },
  {
   "cell_type": "code",
   "execution_count": 50,
   "metadata": {},
   "outputs": [
    {
     "name": "stderr",
     "output_type": "stream",
     "text": [
      "/var/folders/wj/0c7skj2154q4844jqxlw3yxr0000gn/T/ipykernel_94912/266023748.py:7: PydanticDeprecatedSince20: `pydantic.config.Extra` is deprecated, use literal values instead (e.g. `extra='allow'`). Deprecated in Pydantic V2.0 to be removed in V3.0. See Pydantic V2 Migration Guide at https://errors.pydantic.dev/2.10/migration/\n",
      "  extra = Extra.forbid\n",
      "/var/folders/wj/0c7skj2154q4844jqxlw3yxr0000gn/T/ipykernel_94912/266023748.py:12: PydanticDeprecatedSince20: `pydantic.config.Extra` is deprecated, use literal values instead (e.g. `extra='allow'`). Deprecated in Pydantic V2.0 to be removed in V3.0. See Pydantic V2 Migration Guide at https://errors.pydantic.dev/2.10/migration/\n",
      "  extra = Extra.forbid\n"
     ]
    }
   ],
   "source": [
    "class CharacterAction(BaseModel):\n",
    "    character: str\n",
    "    think: str\n",
    "    action: str\n",
    "    targets: List[str]\n",
    "    class Config:\n",
    "        extra = Extra.forbid\n",
    "\n",
    "class ActionsResult(BaseModel):\n",
    "    actions: List[CharacterAction]\n",
    "    class Config:\n",
    "        extra = Extra.forbid"
   ]
  },
  {
   "cell_type": "code",
   "execution_count": null,
   "metadata": {},
   "outputs": [],
   "source": [
    "ACTION_PREDICTION_INSTRUCTION = '''Given the following informations about a story scene, write a sequence of actions that the characters will perform in the scene.\n",
    "\n",
    "# Given Informations\n",
    "* Characters: 2 characters involved in the story. (identified through their uid)\n",
    "* Scene Trope: the story trope that the given scene follows\n",
    "* Scene Setting: location, setting of the scene\n",
    "\n",
    "## Characters\n",
    "[Character1]\n",
    "{character1}\n",
    "\n",
    "[Character2]\n",
    "{character2}\n",
    "\n",
    "## Scene Trope\n",
    "{trope}\n",
    "\n",
    "## Scene Setting\n",
    "{scene}\n",
    "\n",
    "# Action Prediction\n",
    "## Definition of 'Action'\n",
    "a character performs an 'action' through the following steps\n",
    "* 'character': select the character that will perform this action (by uid)\n",
    "* 'think': consider what the character should say and what goals the character wants to achieve. write the thinking process here\n",
    "* 'action': description of the action this character will actually perform\n",
    "    * the action must be detailed description of a single-verb action.\n",
    "    * if there are dialogues, write the actual dialogues\n",
    "    * if there are any background, items, characters involved, include the details about them\n",
    "    * action must be maximum 2 sentences\n",
    "    * don't make the actions obvious\n",
    "* 'targets': List of characters (by uid) that will be affected. leave it empty if it there are no targets\n",
    "\n",
    "\n",
    "Return a list of actions in the following json format (maximum of 3)\n",
    "{{\n",
    "    \"actions\": [\n",
    "        {{\n",
    "            \"character\": str,\n",
    "            \"think\": str\n",
    "            \"action\": str,\n",
    "            \"targets\": List[str]\n",
    "        }},\n",
    "        ...\n",
    "    ]\n",
    "}}'''"
   ]
  },
  {
   "cell_type": "code",
   "execution_count": 62,
   "metadata": {},
   "outputs": [],
   "source": [
    "action_pred_instruction = ACTION_PREDICTION_INSTRUCTION.format(\n",
    "    character1=character1.model_dump_json(),\n",
    "    character2=character2.model_dump_json(),\n",
    "    trope=scene_description,\n",
    "    scene=scene_state.model_dump_json()\n",
    ")"
   ]
  },
  {
   "cell_type": "code",
   "execution_count": 66,
   "metadata": {},
   "outputs": [],
   "source": [
    "messages = [\n",
    "    {\"role\": \"user\", \"content\": action_pred_instruction}\n",
    "]\n",
    "# decode_params = {\"temperature\": 0.95}\n",
    "decode_params = {\"reasoning_effort\": \"low\"}\n",
    "\n",
    "response = openai_client.beta.chat.completions.parse(\n",
    "    # model=\"gpt-4o\",\n",
    "    model=\"o3-mini\",\n",
    "    messages=messages,\n",
    "    response_format=ActionsResult,\n",
    "    **decode_params,\n",
    ")\n",
    "predicted_actions = response.choices[0].message.parsed.actions"
   ]
  },
  {
   "cell_type": "code",
   "execution_count": 67,
   "metadata": {},
   "outputs": [
    {
     "name": "stdout",
     "output_type": "stream",
     "text": [
      "3\n"
     ]
    }
   ],
   "source": [
    "print(len(predicted_actions))"
   ]
  },
  {
   "cell_type": "code",
   "execution_count": 68,
   "metadata": {},
   "outputs": [
    {
     "name": "stdout",
     "output_type": "stream",
     "text": [
      "{\n",
      "    \"character\": \"35f0c56f-263d-42df-846c-e1833d8ca0ab\",\n",
      "    \"think\": \"Zephyr wants to break the ice with his playful storytelling, showcasing his charm and poking fun at his own love for space memorabilia while gently teasing Vivienne's high-fashion persona.\",\n",
      "    \"action\": \"Approaches Vivienne with a warm smile and says, 'Even the stars seem dim without a splash of high fashion tonight!' while gesturing towards the glimmering chandeliers.\",\n",
      "    \"targets\": [\n",
      "        \"00d66087-9b3b-46da-bd74-bf45cbe81d3c\"\n",
      "    ]\n",
      "}\n",
      "------------------------------\n",
      "{\n",
      "    \"character\": \"00d66087-9b3b-46da-bd74-bf45cbe81d3c\",\n",
      "    \"think\": \"Vivienne is taken aback by Zephyr’s banter, her initial icy demeanor slowly melting as she finds his wit unexpectedly charming, pushing her to engage despite her mean streak.\",\n",
      "    \"action\": \"Raises an eyebrow and replies sharply, 'I must admit, your astronomical puns shine brighter than expected,' with a half-smile that softens her tone.\",\n",
      "    \"targets\": [\n",
      "        \"35f0c56f-263d-42df-846c-e1833d8ca0ab\"\n",
      "    ]\n",
      "}\n",
      "------------------------------\n",
      "{\n",
      "    \"character\": \"35f0c56f-263d-42df-846c-e1833d8ca0ab\",\n",
      "    \"think\": \"Encouraged by the newfound connection from Vivienne's subtle shift, Zephyr continues to bridge their worlds, aiming to further merge his playful energy with her elegant flair.\",\n",
      "    \"action\": \"Laughs lightly and adds, 'Maybe later, I can give you a tour of the cosmos—just my way of mixing space rock with high couture,' ensuring his tone remains charming and inviting.\",\n",
      "    \"targets\": [\n",
      "        \"00d66087-9b3b-46da-bd74-bf45cbe81d3c\"\n",
      "    ]\n",
      "}\n",
      "------------------------------\n"
     ]
    }
   ],
   "source": [
    "for action in predicted_actions:\n",
    "    print(action.model_dump_json(indent=4))\n",
    "    print('-'*30)"
   ]
  }
 ],
 "metadata": {
  "kernelspec": {
   "display_name": "llm",
   "language": "python",
   "name": "llm"
  },
  "language_info": {
   "codemirror_mode": {
    "name": "ipython",
    "version": 3
   },
   "file_extension": ".py",
   "mimetype": "text/x-python",
   "name": "python",
   "nbconvert_exporter": "python",
   "pygments_lexer": "ipython3",
   "version": "3.10.14"
  }
 },
 "nbformat": 4,
 "nbformat_minor": 2
}
