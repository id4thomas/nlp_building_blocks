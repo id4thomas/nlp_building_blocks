{
 "cells": [
  {
   "cell_type": "code",
   "execution_count": 8,
   "metadata": {},
   "outputs": [],
   "source": [
    "import os\n",
    "from enum import Enum\n",
    "from typing import Any, Dict, List\n",
    "\n",
    "from openai import OpenAI, AsyncOpenAI\n",
    "import pandas as pd\n",
    "import pprint\n",
    "from pydantic import BaseModel, Extra, Field\n",
    "import tiktoken\n",
    "\n",
    "from config import settings"
   ]
  },
  {
   "cell_type": "code",
   "execution_count": 4,
   "metadata": {},
   "outputs": [],
   "source": [
    "openai_client = OpenAI(api_key=settings.openai_api_key)"
   ]
  },
  {
   "cell_type": "code",
   "execution_count": 5,
   "metadata": {},
   "outputs": [],
   "source": [
    "tokenizer = tiktoken.encoding_for_model(\"gpt-4o\")"
   ]
  },
  {
   "cell_type": "code",
   "execution_count": 6,
   "metadata": {},
   "outputs": [
    {
     "data": {
      "text/plain": [
       "2"
      ]
     },
     "execution_count": 6,
     "metadata": {},
     "output_type": "execute_result"
    }
   ],
   "source": [
    "def calculate_tokens(text):\n",
    "    return len(tokenizer.encode(text))\n",
    "calculate_tokens(\"hello world\")"
   ]
  },
  {
   "cell_type": "markdown",
   "metadata": {},
   "source": [
    "# TVTropes Dataset\n",
    "* https://github.com/dhruvilgala/tvtropes"
   ]
  },
  {
   "cell_type": "code",
   "execution_count": 2,
   "metadata": {},
   "outputs": [
    {
     "name": "stdout",
     "output_type": "stream",
     "text": [
      "(30984, 4) Index(['Unnamed: 0', 'TropeID', 'Trope', 'Description'], dtype='object')\n"
     ]
    }
   ],
   "source": [
    "# tropes table\n",
    "tropes_fname = \"story/TVTropesData/tropes.csv\"\n",
    "tropes_fpath = os.path.join(settings.data_dir, tropes_fname)\n",
    "\n",
    "tropes_df = pd.read_csv(tropes_fpath)\n",
    "print(tropes_df.shape, tropes_df.columns)"
   ]
  },
  {
   "cell_type": "code",
   "execution_count": 3,
   "metadata": {},
   "outputs": [
    {
     "data": {
      "text/html": [
       "<div>\n",
       "<style scoped>\n",
       "    .dataframe tbody tr th:only-of-type {\n",
       "        vertical-align: middle;\n",
       "    }\n",
       "\n",
       "    .dataframe tbody tr th {\n",
       "        vertical-align: top;\n",
       "    }\n",
       "\n",
       "    .dataframe thead th {\n",
       "        text-align: right;\n",
       "    }\n",
       "</style>\n",
       "<table border=\"1\" class=\"dataframe\">\n",
       "  <thead>\n",
       "    <tr style=\"text-align: right;\">\n",
       "      <th></th>\n",
       "      <th>Unnamed: 0</th>\n",
       "      <th>TropeID</th>\n",
       "      <th>Trope</th>\n",
       "      <th>Description</th>\n",
       "    </tr>\n",
       "  </thead>\n",
       "  <tbody>\n",
       "    <tr>\n",
       "      <th>0</th>\n",
       "      <td>0</td>\n",
       "      <td>t00001</td>\n",
       "      <td>AbandonedArea</td>\n",
       "      <td>\\nAbandoned places make good settings for fict...</td>\n",
       "    </tr>\n",
       "    <tr>\n",
       "      <th>1</th>\n",
       "      <td>1</td>\n",
       "      <td>t00002</td>\n",
       "      <td>AbandonedCatchphrase</td>\n",
       "      <td>Catchphrases are a great and simple way to hel...</td>\n",
       "    </tr>\n",
       "    <tr>\n",
       "      <th>2</th>\n",
       "      <td>2</td>\n",
       "      <td>t00003</td>\n",
       "      <td>AbandonedHospital</td>\n",
       "      <td>The creepy abandoned hospital/mental instituti...</td>\n",
       "    </tr>\n",
       "    <tr>\n",
       "      <th>3</th>\n",
       "      <td>3</td>\n",
       "      <td>t00004</td>\n",
       "      <td>AbandonedHospitalAwakening</td>\n",
       "      <td>An Abandoned Hospital Awakening is, as the nam...</td>\n",
       "    </tr>\n",
       "    <tr>\n",
       "      <th>4</th>\n",
       "      <td>4</td>\n",
       "      <td>t00005</td>\n",
       "      <td>AbandonedInfoPage</td>\n",
       "      <td>When a work is getting more and more complicat...</td>\n",
       "    </tr>\n",
       "  </tbody>\n",
       "</table>\n",
       "</div>"
      ],
      "text/plain": [
       "   Unnamed: 0 TropeID                       Trope  \\\n",
       "0           0  t00001               AbandonedArea   \n",
       "1           1  t00002        AbandonedCatchphrase   \n",
       "2           2  t00003           AbandonedHospital   \n",
       "3           3  t00004  AbandonedHospitalAwakening   \n",
       "4           4  t00005           AbandonedInfoPage   \n",
       "\n",
       "                                         Description  \n",
       "0  \\nAbandoned places make good settings for fict...  \n",
       "1  Catchphrases are a great and simple way to hel...  \n",
       "2  The creepy abandoned hospital/mental instituti...  \n",
       "3  An Abandoned Hospital Awakening is, as the nam...  \n",
       "4  When a work is getting more and more complicat...  "
      ]
     },
     "execution_count": 3,
     "metadata": {},
     "output_type": "execute_result"
    }
   ],
   "source": [
    "tropes_df.head()"
   ]
  },
  {
   "cell_type": "code",
   "execution_count": 9,
   "metadata": {},
   "outputs": [
    {
     "name": "stdout",
     "output_type": "stream",
     "text": [
      "TROPE:\n",
      "AbandonedCatchphrase\n",
      "DESC:\n",
      "Catchphrases are a great and simple way to help a character's image. But sometimes, catchphrases don't stick. Perhaps the writers were experimenting with one early on, but eventually decided against it. Or perhaps a catchphrase was done to death and is no longer funny. Or sometimes, a character simply evolves and the catchphrase no longer fits the character.\n",
      "Whatever the reason, this trope is whenever an early catchphrase is dropped or becomes used seldom. This is a catchphrase specific sub-trope of Early Installment Weirdness, and frequently a result of Characterization Marches On and Character Development. The closest inverse to this would be Flanderization (wherein a character's catchphrase acts as a quirk that takes over their personality). Unrelated to Subverted Catch Phrase.\n"
     ]
    }
   ],
   "source": [
    "idx = 1\n",
    "print(\"TROPE:\")\n",
    "print(tropes_df.iloc[idx][\"Trope\"])\n",
    "print(\"DESC:\")\n",
    "print(tropes_df.iloc[idx][\"Description\"].strip())"
   ]
  },
  {
   "cell_type": "code",
   "execution_count": 11,
   "metadata": {},
   "outputs": [
    {
     "name": "stdout",
     "output_type": "stream",
     "text": [
      "(751594, 6) Index(['Unnamed: 0', 'Title', 'Trope', 'Example', 'trope_id', 'title_id'], dtype='object')\n"
     ]
    }
   ],
   "source": [
    "# film-tropes table (tropes in films)\n",
    "film_tropes_fname = \"story/TVTropesData/film_tropes.csv\"\n",
    "film_tropes_fpath = os.path.join(settings.data_dir, film_tropes_fname)\n",
    "\n",
    "film_tropes_df = pd.read_csv(film_tropes_fpath)\n",
    "print(film_tropes_df.shape, film_tropes_df.columns)"
   ]
  },
  {
   "cell_type": "code",
   "execution_count": 15,
   "metadata": {},
   "outputs": [
    {
     "data": {
      "text/plain": [
       "(17019, array(['f0', 'f1', 'f2', 'f3', 'f4'], dtype=object))"
      ]
     },
     "execution_count": 15,
     "metadata": {},
     "output_type": "execute_result"
    }
   ],
   "source": [
    "film_title_ids = film_tropes_df.title_id.unique()\n",
    "len(film_title_ids), film_title_ids[:5]"
   ]
  },
  {
   "cell_type": "code",
   "execution_count": 17,
   "metadata": {},
   "outputs": [
    {
     "name": "stdout",
     "output_type": "stream",
     "text": [
      "(35, 6)\n"
     ]
    }
   ],
   "source": [
    "title_rows = film_tropes_df[film_tropes_df.title_id=='f0']\n",
    "print(title_rows.shape)"
   ]
  },
  {
   "cell_type": "code",
   "execution_count": 22,
   "metadata": {},
   "outputs": [
    {
     "name": "stdout",
     "output_type": "stream",
     "text": [
      "Title: ABBATheMovie\n",
      "MsFanservice\n",
      "The concert segments make it clear that Agnetha and Frida's looks play a big part of the band's act; the \"Get on the Carousel\"/\"I'm a Marionette\" segment has them in form-fitting leotards that have them cut very shapely figures, and Frida at points also wears very short shorts (such as in one performance of \"Why Did It Have to Be Me?\"), leading to some sensationalist headlines hoping for a  Wardrobe Malfunction . And that's not even counting the repeated mentions about Agnetha's bottom.\n",
      "------------------------------\n",
      "InsistentTerminology\n",
      "The radio station manager that tasks Ashley with delivering an interview with the band insists that it's not an interview, it's a  dialogue , and when Ashley asks if he wants him to do a documentary, he says that it's not a documentary, it's an  event .\n",
      "------------------------------\n",
      "TheIngenue\n",
      "A rare male example; when Benny reads one newspaper reporting about the band asking for a \"kinky bed\", he ask what \"kinky\" means. Then again, this could also be because English isn't his native language.\n",
      "------------------------------\n",
      "GettingCrapPastTheRadar\n",
      "During Ashley's fantasy sequence in which he imagines Agnetha and Frida being in love with him, at one point Agnetha and Frida are both draped over him in an  Almost Kiss  before it cuts away to another scene, which  really  looks like it's  cutting away  from a  threesome .\n",
      "------------------------------\n",
      "WhoWearsShortShorts\n",
      "Frida's outfit in the \"Why Did It Have to Be Me?\" number has her in white shorts.\n",
      "------------------------------\n"
     ]
    }
   ],
   "source": [
    "print(\"Title:\",title_rows.iloc[0][\"Title\"])\n",
    "# for i in range(title_rows.shape[0]):\n",
    "for i in range(5):\n",
    "    row = title_rows.iloc[i]\n",
    "    print(row[\"Trope\"])\n",
    "    print(row[\"Example\"].strip())\n",
    "    print('-'*30)"
   ]
  },
  {
   "cell_type": "markdown",
   "metadata": {},
   "source": [
    "# SimsConv\n",
    "* (2025) Crafting Customisable Characters with LLMs: A Persona-Driven\n",
    "Role-Playing Agent Framework\n",
    "* https://arxiv.org/pdf/2406.17962"
   ]
  },
  {
   "cell_type": "code",
   "execution_count": 17,
   "metadata": {},
   "outputs": [
    {
     "name": "stdout",
     "output_type": "stream",
     "text": [
      "68 [\"wiki_Raphael 'Raffy' DeMarco.txt\", 'wiki_Lorenzo Bellini.txt', 'wiki_Vladimir Specter.txt', 'wiki_Cassidy Sterling.txt', \"wiki_Benedict 'Benny' Russo.txt\"]\n"
     ]
    }
   ],
   "source": [
    "# list of characters\n",
    "character_dir = os.path.join(settings.data_dir, \"story/SimsChat-60D0/characters\")\n",
    "character_fnames = [x for x in os.listdir(character_dir) if \"txt\" in x]\n",
    "print(len(character_fnames), character_fnames[:5])"
   ]
  },
  {
   "cell_type": "code",
   "execution_count": 18,
   "metadata": {},
   "outputs": [
    {
     "name": "stdout",
     "output_type": "stream",
     "text": [
      "2119 396\n",
      "('# Zephyr Orion\\n'\n",
      " '\\n'\n",
      " 'You are Zephyr Orion, a charming 28-year-old male astronaut who serves as a '\n",
      " 'Commander and has already embarked on three space missions, including one to '\n",
      " 'Mars. Your notable contributions to space exploration have earned you the '\n",
      " 'esteemed NASA Distinguished Service Medal.Your playful and jovial tone makes '\n",
      " 'conversations with you delightful and engaging. You possess a kind of witty '\n",
      " 'humor and a warmth in your voice that makes everyone feel at ease. You have '\n",
      " 'a real talent for storytelling and people are often captivated by your tales '\n",
      " 'of thrilling space adventures. You are quite materialistic, loving to '\n",
      " 'acquire new possessions and quite proud, often leaning towards bragging '\n",
      " 'about what you own. You flourish in social situations and, being an outgoing '\n",
      " 'goofball, you enjoy being around people, so much that you grow gloomy when '\n",
      " 'left alone too long.Despite your materialistic leanings, you have a playful '\n",
      " 'spirit, and love joking and making others laugh. Combined with your ambition '\n",
      " 'and determination, this makes you an all-around charming personality, '\n",
      " 'continuously striving to reach new milestones in your already impressive '\n",
      " 'career. You are quite materialistic, loving to acquire new possessions and '\n",
      " 'quite proud, often leaning towards bragging about what you own. You flourish '\n",
      " 'in social situations and, being an outgoing goofball, you enjoy being around '\n",
      " 'people, so much that you grow gloomy when left alone too long. Despite your '\n",
      " 'materialistic leanings, you have a playful spirit, and love joking and '\n",
      " 'making others laugh. Combined with your ambition and determination, this '\n",
      " 'makes you an all-around charming personality, continuously striving to reach '\n",
      " 'new milestones in your already impressive career. You share a strong bond '\n",
      " 'with your close-knit group of friends, all of whom share your passion for '\n",
      " 'space exploration. You are well-respected and liked in your community and '\n",
      " 'professional field. Living in a modern city apartment, your home brims with '\n",
      " 'items collected over the years, including space memorabilia and art '\n",
      " 'supplies. You live a healthy lifestyle, regularly working out and eating '\n",
      " 'balanced meals.')\n"
     ]
    }
   ],
   "source": [
    "# paper example\n",
    "with open(os.path.join(character_dir, \"wiki_Zephyr Orion.txt\"), \"r\") as f:\n",
    "    character_desc = f.read()\n",
    "    \n",
    "\n",
    "print(len(character_desc), calculate_tokens(character_desc))\n",
    "pprint.pprint(character_desc)"
   ]
  },
  {
   "cell_type": "markdown",
   "metadata": {},
   "source": [
    "## Character Description Text -> Structured Aspects\n",
    "Description & Example from the paper (Section 3.1.1):\n",
    "* \"Character Construction: Characters are customised through pre-defined aspects (career, aspiration, traits, skills), which are then expanded into detailed personal and social profiles\"\n",
    "* incorporating elements that enable detailed personality customization and realistic social interactions\n",
    "* We provide diverse choices for pre-defined customised aspects, including **career, aspiration, trait, and skill** derived from The Sims and tailored to various human preferences\n",
    "* GPT-4 further develops characters’ profiles by considering both personal aspects (name, gender, tone, personality) and social backgrounds (relationships, family dynamics).\n",
    "\n",
    "### Aspects\n",
    "pre-defined Aspects are defined in `Appendix C`\n",
    "* Career\n",
    "* Aspiration\n",
    "* Trait\n",
    "* Skill\n",
    "* Emotion\n",
    "* Conversation Topic\n",
    "\n",
    "### Prompt\n",
    "Description generation prompt from the paper\n",
    "```\n",
    "You are an outstanding creator, you can construct a variety of characters in the real world.\n",
    "Now, based on the given career, aspiration, trait, and skill type, please design a virtual character according to the following given fields, it is necessary to ensure that\n",
    "some attribute information of the characters needs to be distributed diversely, reasonably related, and in line with the laws of nature.\n",
    "Here is the brief introduction of the given career, aspiration, trait, and skill type:\n",
    "career:\n",
    "career description:\n",
    "aspiration:\n",
    "aspiration description:\n",
    "trait:\n",
    "trait description:\n",
    "skill:\n",
    "Fill the result into JSON:\n",
    "{\n",
    "\"name\": ,# a name. Don’t come up with common names like Jack, think carefully about all possible names\n",
    "\"gender\": ,# male or female. This person could be a man or a woman, so don’t be gender biased\n",
    "\"age\": , # it can be any age, it is best to randomly select a number between 12 and 40 years old, preferably a younger age\n",
    "\"tone\": , # describe in detail the character’s idiomatic tone of voice when chatting with others\n",
    "\"career\": , # the character’s job. Refer to the above career\n",
    "\"personality\": , # a person’s personality should be diverse and unified, refer to the above trait\n",
    "\"advantages_and_disadvantages\": , # describe in detail the character’s strengths and weaknesses\n",
    "\"hobby\": , # personal hobbies. It may be a relatively unknown niche hobby, please think about all possible hobbies, even though there are some niche and weird\n",
    "hobbies\n",
    "\"family_relationship\": , # the person’s family situation\n",
    "\"social_relationship\": , # the person’s social status\n",
    "\"living_conditions\": , # how is this character’s life currently\n",
    "}\n",
    "1.According to the above requirements, first start to conceive a unique character, ensure that the character image is rich, diverse and comprehensive.\n",
    "2.Then transform the generated character settings in JSON format into natural language. When rewriting, use the second person to express (you are...), and the\n",
    "expression should be natural and succinct, in line with English speaking habits. }\n",
    "```\n",
    "\n",
    "### Example\n",
    "Example from Fig1:\n",
    "```\n",
    "- Name :Zephyr Orion\n",
    "- Age: 28-year-old\n",
    "- Gender: Male\n",
    "- Career: Astronaut\n",
    "- Aspiration: Athletic\n",
    "- Traits: Materialistic, Goofball, Outgoing\n",
    "- Skill: Painting\n",
    "- Relationship:…\n",
    "```\n",
    "\n",
    "Example from Table1:\n",
    "```\n",
    "[Customised aspects]\n",
    "Career: Astronaut\n",
    "Aspiration: Athletic\n",
    "Trait: Materialistic, Goofball, Outgoing\n",
    "Skill: Painting\n",
    "\n",
    "[Personal aspects]\n",
    "Name: Zephyr Orion\n",
    "Gender: Male\n",
    "Age: 28\n",
    "Tone: Zephyr has a playful and jovial tone\n",
    "Career: Astronaut\n",
    "Personality: Materialistic, Goofball, Outgoing\n",
    "Advantages and disadvantages: Zephyr’s outgoing\n",
    "nature makes him a great team player\n",
    "Hobby: Painting\n",
    "\n",
    "[Social aspects]\n",
    "Family relationship: One younger sister, Luna,\n",
    "who aspires to be an astronaut\n",
    "Social relationship: Has a close-knit group of\n",
    "friends who share his passion for space exploration.\n",
    "Well-liked in his community and respected in his\n",
    "field\n",
    "Living conditions: Modern apartment in the city...\n",
    "```"
   ]
  },
  {
   "cell_type": "code",
   "execution_count": 11,
   "metadata": {},
   "outputs": [],
   "source": [
    "def create_dynamic_enum(name: str, values: List[Any]) -> Enum:\n",
    "    return Enum(name, {str(v): v for v in values})\n",
    "\n",
    "# Predefined Aspects in Appendix C\n",
    "gender = [\"male\", \"female\"]\n",
    "\n",
    "career = [\n",
    "    \"Actor\", \"Astronaut\", \"Athlete\", \"Business\", \"Civil Designer\", \"Conservationist\",\n",
    "    \"Criminal\", \"Critic\", \"Culinary\", \"Detective\", \"Doctor\", \"Education\", \"Engineer\",\n",
    "    \"Entertainer\", \"Freelancer\", \"Gardener\", \"Law\", \"Military\", \"Painter\", \"Politician\",\n",
    "    \"Scientist\", \"Social Media\", \"Secret Agent\", \"Style Influencer\", \"Tech Guru\", \"Writer\"\n",
    "]\n",
    "\n",
    "aspiration = [\n",
    "    \"Athletic\", \"Cheerful\", \"Deviance\", \"Family\", \"Food\", \"Fortune\", \"Knowledge\",\n",
    "    \"Love\", \"Nature\", \"Popularity\"\n",
    "]\n",
    "\n",
    "trait = [\n",
    "    \"Ambitious\", \"Cheerful\", \"Childish\", \"Clumsy\", \"Creative\", \"Erratic\", \"Genius\",\n",
    "    \"Gloomy\", \"Goofball\", \"Hot-Headed\", \"Romantic\", \"Self-Assured\", \"Bro\", \"Evil\",\n",
    "    \"Family-Oriented\", \"Good\", \"Hates Children\", \"Jealous\", \"Loner\", \"Loyal\", \"Mean\",\n",
    "    \"Noncommittal\", \"Outgoing\", \"Snob\", \"Active\", \"Glutton\", \"Kleptomaniac\", \"Lazy\",\n",
    "    \"Materialistic\", \"Neat\", \"Perfectionist\", \"Slob\", \"Vegetarian\", \"Art Lover\",\n",
    "    \"Bookworm\", \"Foodie\", \"Geek\", \"Loves the Outdoors\", \"Music Lover\"\n",
    "]\n",
    "\n",
    "skill = [\n",
    "    \"Acting\", \"Archaeology\", \"Baking\", \"Bowling\", \"Charisma\", \"Comedy\", \"Cooking\",\n",
    "    \"Cross-Stitch\", \"DJ Mixing\", \"Dancing\", \"Fabrication\", \"Fishing\", \"Fitness\",\n",
    "    \"Flower Arranging\", \"Gardening\", \"Gourmet Cooking\", \"Guitar\", \"Handiness\",\n",
    "    \"Herbalism\", \"Juice Fizzing\", \"Logic\", \"Media Production\", \"Mischief\", \"Mixology\",\n",
    "    \"Painting\", \"Parenting\", \"Pet Training\", \"Photography\", \"Piano\", \"Pipe Organ\",\n",
    "    \"Programming\", \"Rock Climbing\", \"Rocket Science\", \"Selvadoradian Culture\", \"Singing\",\n",
    "    \"Vampiric Lore\", \"Veterinarian\", \"Video Gaming\", \"Violin\",\n",
    "    \"Wellness\", \"Writing\"\n",
    "]\n",
    "\n",
    "emotion = [\n",
    "    \"Angry\", \"Asleep\", \"Bored\", \"Confident\", \"Dazed\", \"Embarrassed\",\n",
    "    \"Energized\", \"Fine\", \"Flirty\", \"Focused\", \"Happy\", \"Inspired\",\n",
    "    \"Playful\", \"Sad\", \"Tense\", \"Uncomfortable\"\n",
    "]\n",
    "\n",
    "conversation_topic = [\n",
    "    \"affection\", \"arguments\", \"complaints\", \"compliments\", \"deception\", \"deep thoughts\",\n",
    "    \"discussing hobbies\", \"discussing interests\", \"flirtation\", \"gossip\", \"jokes\",\n",
    "    \"malicious interactions\", \"physical intimacy\", \"potty humor\", \"pranks\", \"silly behavior\",\n",
    "    \"small talk\", \"stories\"\n",
    "]\n",
    "\n",
    "defined_aspects = {\n",
    "    \"Gender\": create_dynamic_enum(\"GenderAspect\", gender),\n",
    "    \"Career\": create_dynamic_enum(\"CareerAspect\", career),\n",
    "    \"Aspiration\": create_dynamic_enum(\"AspirationAspect\", aspiration),\n",
    "    \"Trait\": create_dynamic_enum(\"TraitAspect\", trait),\n",
    "    \"Skill\": create_dynamic_enum(\"SkillAspect\", skill),\n",
    "    \"Emotion\": create_dynamic_enum(\"EmotionAspect\", emotion),\n",
    "    \"ConversationTopic\": create_dynamic_enum(\"ConversationTopicAspect\", conversation_topic),\n",
    "}"
   ]
  },
  {
   "cell_type": "code",
   "execution_count": 10,
   "metadata": {},
   "outputs": [
    {
     "data": {
      "text/plain": [
       "<enum 'CareerAspect'>"
      ]
     },
     "execution_count": 10,
     "metadata": {},
     "output_type": "execute_result"
    }
   ],
   "source": [
    "defined_aspects[\"Career\"]"
   ]
  },
  {
   "cell_type": "code",
   "execution_count": 41,
   "metadata": {},
   "outputs": [
    {
     "name": "stderr",
     "output_type": "stream",
     "text": [
      "/var/folders/wj/0c7skj2154q4844jqxlw3yxr0000gn/T/ipykernel_58372/3638488267.py:6: PydanticDeprecatedSince20: `pydantic.config.Extra` is deprecated, use literal values instead (e.g. `extra='allow'`). Deprecated in Pydantic V2.0 to be removed in V3.0. See Pydantic V2 Migration Guide at https://errors.pydantic.dev/2.10/migration/\n",
      "  extra = Extra.forbid\n",
      "/var/folders/wj/0c7skj2154q4844jqxlw3yxr0000gn/T/ipykernel_58372/3638488267.py:19: PydanticDeprecatedSince20: `pydantic.config.Extra` is deprecated, use literal values instead (e.g. `extra='allow'`). Deprecated in Pydantic V2.0 to be removed in V3.0. See Pydantic V2 Migration Guide at https://errors.pydantic.dev/2.10/migration/\n",
      "  extra = Extra.forbid\n",
      "/var/folders/wj/0c7skj2154q4844jqxlw3yxr0000gn/T/ipykernel_58372/3638488267.py:33: PydanticDeprecatedSince20: `pydantic.config.Extra` is deprecated, use literal values instead (e.g. `extra='allow'`). Deprecated in Pydantic V2.0 to be removed in V3.0. See Pydantic V2 Migration Guide at https://errors.pydantic.dev/2.10/migration/\n",
      "  extra = Extra.forbid\n"
     ]
    }
   ],
   "source": [
    "class PersonalityTrait(BaseModel):\n",
    "    trait: defined_aspects[\"Trait\"]\n",
    "    description: str\n",
    "    \n",
    "    class Config:\n",
    "        extra = Extra.forbid\n",
    "\n",
    "class RelationshipStatus(str, Enum):\n",
    "    positive = \"positive\"\n",
    "    neutral = \"neutral\"\n",
    "    negative = \"negative\"\n",
    "    \n",
    "class SocialRelationship(BaseModel):\n",
    "    target: str\n",
    "    status: RelationshipStatus\n",
    "    description: str\n",
    "    \n",
    "    class Config:\n",
    "        extra = Extra.forbid\n",
    "    \n",
    "class CharacterSpecification(BaseModel):\n",
    "    name: str\n",
    "    gender: defined_aspects[\"Gender\"]\n",
    "    age: int\n",
    "    dialogue_tone: str\n",
    "    career: defined_aspects[\"Career\"]\n",
    "    personality_traits: List[PersonalityTrait]\n",
    "    hobbies: List[defined_aspects[\"Skill\"]]\n",
    "    living_conditions: List[str]\n",
    "    social_relationships: List[SocialRelationship]\n",
    "    \n",
    "    class Config:\n",
    "        extra = Extra.forbid"
   ]
  },
  {
   "cell_type": "code",
   "execution_count": 42,
   "metadata": {},
   "outputs": [],
   "source": [
    "# info descriptions taken from paper\n",
    "extract_instruction = '''Given the description of a character, extract the following informations.\n",
    "[Information Schema]\n",
    "* name: full name of the character\n",
    "* gender: gender (male/female)\n",
    "* age: numerical age value of the character\n",
    "* dialogue_tone: detailed description of the character's idiomatic tone of voice when chatting with others\n",
    "* career: character’s job. Refer to the predefined career list below\n",
    "* personality_traits: refer to the below PersonalityTrait description.\n",
    "* hobby: personal hobbies which are defined in 'Skills'. refer to the below Skill description\n",
    "* living_coditions: how is this character’s life currently (ex. housing, work-life balance pattern, daily routine, etc..)\n",
    "* social_relationships: character's social relationships with other characters (ex. family, friends, ...). Refer to below SocialRelationship description\n",
    "\n",
    "[Career]\n",
    "Allowed job values are as follows\n",
    "```\n",
    "[\n",
    "    \"Actor\", \"Astronaut\", \"Athlete\", \"Business\", \"Civil Designer\", \"Conservationist\",\n",
    "    \"Criminal\", \"Critic\", \"Culinary\", \"Detective\", \"Doctor\", \"Education\", \"Engineer\",\n",
    "    \"Entertainer\", \"Freelancer\", \"Gardener\", \"Law\", \"Military\", \"Painter\", \"Politician\",\n",
    "    \"Scientist\", \"Social Media\", \"Secret Agent\", \"Style Influencer\", \"Tech Guru\", \"Writer\"\n",
    "]\n",
    "```\n",
    "\n",
    "[PersonalityTrait]\n",
    "a character's Personality Trait comprises of the following information\n",
    "* trait\n",
    "* description: \n",
    "\n",
    "Allowed 'Trait' values are as follows\n",
    "```\n",
    "[\n",
    "    \"Ambitious\", \"Cheerful\", \"Childish\", \"Clumsy\", \"Creative\", \"Erratic\", \"Genius\",\n",
    "    \"Gloomy\", \"Goofball\", \"Hot-Headed\", \"Romantic\", \"Self-Assured\", \"Bro\", \"Evil\",\n",
    "    \"Family-Oriented\", \"Good\", \"Hates Children\", \"Jealous\", \"Loner\", \"Loyal\", \"Mean\",\n",
    "    \"Noncommittal\", \"Outgoing\", \"Snob\", \"Active\", \"Glutton\", \"Kleptomaniac\", \"Lazy\",\n",
    "    \"Materialistic\", \"Neat\", \"Perfectionist\", \"Slob\", \"Vegetarian\", \"Art Lover\",\n",
    "    \"Bookworm\", \"Foodie\", \"Geek\", \"Loves the Outdoors\", \"Music Lover\"\n",
    "]\n",
    "```\n",
    "\n",
    "[Skill]\n",
    "Allowed 'Skill' values are as follows\n",
    "```\n",
    "[\n",
    "    \"Acting\", \"Archaeology\", \"Baking\", \"Bowling\", \"Charisma\", \"Comedy\", \"Cooking\",\n",
    "    \"Cross-Stitch\", \"DJ Mixing\", \"Dancing\", \"Fabrication\", \"Fishing\", \"Fitness\",\n",
    "    \"Flower Arranging\", \"Gardening\", \"Gourmet Cooking\", \"Guitar\", \"Handiness\",\n",
    "    \"Herbalism\", \"Juice Fizzing\", \"Logic\", \"Media Production\", \"Mischief\", \"Mixology\",\n",
    "    \"Painting\", \"Parenting\", \"Pet Training\", \"Photography\", \"Piano\", \"Pipe Organ\",\n",
    "    \"Programming\", \"Rock Climbing\", \"Rocket Science\", \"Selvadoradian Culture\", \"Singing\",\n",
    "    \"Vampiric Lore\", \"Veterinarian\", \"Video Gaming\", \"Violin\",\n",
    "    \"Wellness\", \"Writing\"\n",
    "]\n",
    "```\n",
    "\n",
    "[SocialRelationship]\n",
    "a character's social relationship comprises of the following information\n",
    "* target: the target of the relationship\n",
    "* status: positive/neutral/negative\n",
    "* description: detailed description of the relationship\n",
    "\n",
    "\n",
    "Extract int the following JSON format.\n",
    "{\n",
    "    \"name\": str,\n",
    "    \"gender\": str,\n",
    "    \"age\": int,\n",
    "    \"dialogue_tone\": str,\n",
    "    \"career\": str,\n",
    "    \"personality_traits\": [\n",
    "        {\"trait\": str, \"description\": str},\n",
    "        ...\n",
    "    ],\n",
    "    \"hobbies\": List[str],\n",
    "    \"living_coditions\": List[str],\n",
    "    \"social_relationships\": [\n",
    "        {\"target\": str, \"status\": str, \"description\": str},\n",
    "        ...\n",
    "    ]\n",
    "}\n",
    "'''"
   ]
  },
  {
   "cell_type": "code",
   "execution_count": 43,
   "metadata": {},
   "outputs": [],
   "source": [
    "instruction = f\"{extract_instruction}\\nDescription\\n:{character_desc}\"\n",
    "messages = [\n",
    "    {\"role\": \"user\", \"content\": instruction}\n",
    "]\n",
    "decode_params = {\"temperature\": 0.8}\n",
    "\n",
    "response = openai_client.beta.chat.completions.parse(\n",
    "    model=\"gpt-4o\",\n",
    "    messages=messages,\n",
    "    response_format=CharacterSpecification,\n",
    "    **decode_params,\n",
    ")"
   ]
  },
  {
   "cell_type": "code",
   "execution_count": 44,
   "metadata": {},
   "outputs": [],
   "source": [
    "structured_character_desc = response.choices[0].message.parsed"
   ]
  },
  {
   "cell_type": "code",
   "execution_count": 45,
   "metadata": {},
   "outputs": [
    {
     "name": "stdout",
     "output_type": "stream",
     "text": [
      "{\n",
      "    \"name\": \"Zephyr Orion\",\n",
      "    \"gender\": \"male\",\n",
      "    \"age\": 28,\n",
      "    \"dialogue_tone\": \"Playful and jovial, with a witty humor and warmth that puts others at ease; known for captivating storytelling and making conversations delightful and engaging.\",\n",
      "    \"career\": \"Astronaut\",\n",
      "    \"personality_traits\": [\n",
      "        {\n",
      "            \"trait\": \"Materialistic\",\n",
      "            \"description\": \"Loves to acquire new possessions and often brags about them.\"\n",
      "        },\n",
      "        {\n",
      "            \"trait\": \"Outgoing\",\n",
      "            \"description\": \"Flourishes in social situations and enjoys being around people.\"\n",
      "        },\n",
      "        {\n",
      "            \"trait\": \"Ambitious\",\n",
      "            \"description\": \"Continuously striving to reach new milestones in his impressive career.\"\n",
      "        },\n",
      "        {\n",
      "            \"trait\": \"Goofball\",\n",
      "            \"description\": \"Has a playful spirit and loves joking and making others laugh.\"\n",
      "        },\n",
      "        {\n",
      "            \"trait\": \"Gloomy\",\n",
      "            \"description\": \"Grows gloomy when left alone for too long.\"\n",
      "        }\n",
      "    ],\n",
      "    \"hobbies\": [\n",
      "        \"Fitness\",\n",
      "        \"Cooking\",\n",
      "        \"Photography\"\n",
      "    ],\n",
      "    \"living_conditions\": [\n",
      "        \"Lives in a modern city apartment brimming with space memorabilia and art supplies.\",\n",
      "        \"Leads a healthy lifestyle, regularly working out and eating balanced meals.\",\n",
      "        \"Enjoys a good work-life balance, with space missions providing an adventurous break from routine.\",\n",
      "        \"Integrates storytelling and social interactions into daily routine.\"\n",
      "    ],\n",
      "    \"social_relationships\": [\n",
      "        {\n",
      "            \"target\": \"close-knit group of friends\",\n",
      "            \"status\": \"positive\",\n",
      "            \"description\": \"Shares a strong bond with friends who share his passion for space exploration.\"\n",
      "        },\n",
      "        {\n",
      "            \"target\": \"community\",\n",
      "            \"status\": \"positive\",\n",
      "            \"description\": \"Well-respected and liked in both community and professional field.\"\n",
      "        }\n",
      "    ]\n",
      "}\n"
     ]
    }
   ],
   "source": [
    "print(structured_character_desc.model_dump_json(indent=4))"
   ]
  },
  {
   "cell_type": "code",
   "execution_count": null,
   "metadata": {},
   "outputs": [],
   "source": []
  },
  {
   "cell_type": "markdown",
   "metadata": {},
   "source": []
  }
 ],
 "metadata": {
  "kernelspec": {
   "display_name": "llm",
   "language": "python",
   "name": "llm"
  },
  "language_info": {
   "codemirror_mode": {
    "name": "ipython",
    "version": 3
   },
   "file_extension": ".py",
   "mimetype": "text/x-python",
   "name": "python",
   "nbconvert_exporter": "python",
   "pygments_lexer": "ipython3",
   "version": "3.10.14"
  }
 },
 "nbformat": 4,
 "nbformat_minor": 2
}
