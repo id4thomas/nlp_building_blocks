{
 "cells": [
  {
   "cell_type": "code",
   "execution_count": 1,
   "metadata": {},
   "outputs": [],
   "source": [
    "import json\n",
    "import os\n",
    "import uuid\n",
    "\n",
    "import pandas as pd"
   ]
  },
  {
   "cell_type": "code",
   "execution_count": 10,
   "metadata": {},
   "outputs": [
    {
     "name": "stdout",
     "output_type": "stream",
     "text": [
      "(152209, 3) Index(['source', 'relation', 'target'], dtype='object')\n",
      "test xReact 8146 oReact 6695\n",
      "React: 14841\n"
     ]
    }
   ],
   "source": [
    "comet_data_dir = \"/Users/id4thomas/datasets/commonsense/atomic2020_data-feb2021\"\n",
    "split = \"test\" # train, dev, test\n",
    "comet_df = pd.read_csv(os.path.join(comet_data_dir, f\"{split}.tsv\"), sep=\"\\t\", header=None, names=[\"source\", \"relation\", \"target\"])\n",
    "print(comet_df.shape, comet_df.columns)\n",
    "print(\n",
    "    \"{} xReact {} oReact {}\".format(\n",
    "        split,\n",
    "        comet_df[comet_df.relation=='xReact'].shape[0],\n",
    "        comet_df[comet_df.relation=='oReact'].shape[0]\n",
    "    )\n",
    ")\n",
    "\n",
    "react_df = comet_df[comet_df.relation.isin(['xReact', 'oReact'])]\n",
    "print(\"React: {}\".format(react_df.shape[0]))"
   ]
  },
  {
   "cell_type": "code",
   "execution_count": 11,
   "metadata": {},
   "outputs": [
    {
     "name": "stdout",
     "output_type": "stream",
     "text": [
      "(1484, 3)\n"
     ]
    }
   ],
   "source": [
    "n = int(react_df.shape[0] * 0.1)\n",
    "react_df_sample = react_df.sample(n = n)\n",
    "print(react_df_sample.shape)"
   ]
  },
  {
   "cell_type": "code",
   "execution_count": 12,
   "metadata": {},
   "outputs": [
    {
     "data": {
      "text/plain": [
       "Index([52705, 80872, 3099, 70924, 20870, 66006, 591, 17309, 23107, 46869], dtype='int64')"
      ]
     },
     "execution_count": 12,
     "metadata": {},
     "output_type": "execute_result"
    }
   ],
   "source": [
    "react_df_sample.index[:10]"
   ]
  },
  {
   "cell_type": "code",
   "execution_count": 13,
   "metadata": {},
   "outputs": [],
   "source": [
    "react_df_sample.to_csv(f\"emotion_data/comet/{split}/react_sample.tsv\", sep=\"\\t\", index_label='original_idx')\n",
    "react_df_sample = pd.read_csv(f\"emotion_data/comet/{split}/react_sample.tsv\", sep=\"\\t\")"
   ]
  },
  {
   "cell_type": "code",
   "execution_count": 14,
   "metadata": {},
   "outputs": [
    {
     "data": {
      "text/html": [
       "<div>\n",
       "<style scoped>\n",
       "    .dataframe tbody tr th:only-of-type {\n",
       "        vertical-align: middle;\n",
       "    }\n",
       "\n",
       "    .dataframe tbody tr th {\n",
       "        vertical-align: top;\n",
       "    }\n",
       "\n",
       "    .dataframe thead th {\n",
       "        text-align: right;\n",
       "    }\n",
       "</style>\n",
       "<table border=\"1\" class=\"dataframe\">\n",
       "  <thead>\n",
       "    <tr style=\"text-align: right;\">\n",
       "      <th></th>\n",
       "      <th>original_idx</th>\n",
       "      <th>source</th>\n",
       "      <th>relation</th>\n",
       "      <th>target</th>\n",
       "    </tr>\n",
       "  </thead>\n",
       "  <tbody>\n",
       "    <tr>\n",
       "      <th>0</th>\n",
       "      <td>52705</td>\n",
       "      <td>PersonX opens PersonX's legs</td>\n",
       "      <td>oReact</td>\n",
       "      <td>aroused</td>\n",
       "    </tr>\n",
       "    <tr>\n",
       "      <th>1</th>\n",
       "      <td>80872</td>\n",
       "      <td>PersonX understands the ___ fully</td>\n",
       "      <td>oReact</td>\n",
       "      <td>none</td>\n",
       "    </tr>\n",
       "    <tr>\n",
       "      <th>2</th>\n",
       "      <td>3099</td>\n",
       "      <td>PersonX beats everyone</td>\n",
       "      <td>oReact</td>\n",
       "      <td>like they need to practice more</td>\n",
       "    </tr>\n",
       "    <tr>\n",
       "      <th>3</th>\n",
       "      <td>70924</td>\n",
       "      <td>PersonX spills PersonY's coffee</td>\n",
       "      <td>xReact</td>\n",
       "      <td>sorry</td>\n",
       "    </tr>\n",
       "    <tr>\n",
       "      <th>4</th>\n",
       "      <td>20870</td>\n",
       "      <td>PersonX feels helpless</td>\n",
       "      <td>oReact</td>\n",
       "      <td>none</td>\n",
       "    </tr>\n",
       "  </tbody>\n",
       "</table>\n",
       "</div>"
      ],
      "text/plain": [
       "   original_idx                             source relation  \\\n",
       "0         52705       PersonX opens PersonX's legs   oReact   \n",
       "1         80872  PersonX understands the ___ fully   oReact   \n",
       "2          3099             PersonX beats everyone   oReact   \n",
       "3         70924    PersonX spills PersonY's coffee   xReact   \n",
       "4         20870             PersonX feels helpless   oReact   \n",
       "\n",
       "                            target  \n",
       "0                          aroused  \n",
       "1                             none  \n",
       "2  like they need to practice more  \n",
       "3                            sorry  \n",
       "4                             none  "
      ]
     },
     "execution_count": 14,
     "metadata": {},
     "output_type": "execute_result"
    }
   ],
   "source": [
    "react_df_sample.head()"
   ]
  },
  {
   "cell_type": "code",
   "execution_count": 15,
   "metadata": {},
   "outputs": [],
   "source": [
    "request_dir = f\"emotion_data/comet/{split}/request\""
   ]
  },
  {
   "cell_type": "code",
   "execution_count": 16,
   "metadata": {},
   "outputs": [],
   "source": [
    "def prepare_entries(rows):\n",
    "    uids = dict()\n",
    "    entries = []\n",
    "    for i in range(rows.shape[0]):\n",
    "        row = rows.iloc[i]\n",
    "        uid = str(uuid.uuid4())\n",
    "        entry = {\n",
    "            \"uid\": uid,\n",
    "            \"source\": row['source'],\n",
    "            \"relation\": row[\"relation\"],\n",
    "            \"target\": row[\"target\"]\n",
    "        }\n",
    "        \n",
    "        uids[int(row[\"original_idx\"])]=uid\n",
    "        entries.append(entry)\n",
    "    return uids, entries"
   ]
  },
  {
   "cell_type": "code",
   "execution_count": 18,
   "metadata": {},
   "outputs": [],
   "source": [
    "batch_size = 32\n",
    "\n",
    "for i in range(0, react_df_sample.shape[0], batch_size):\n",
    "    batch_df = react_df_sample.iloc[i:i+batch_size]\n",
    "    batch_uids, batch_entries = prepare_entries(batch_df)\n",
    "    request = {\n",
    "        \"uids\": batch_uids,\n",
    "        \"entries\": batch_entries,\n",
    "    }\n",
    "    with open(os.path.join(request_dir, f\"request_{i}_{i+batch_size}.json\"), \"w\") as f:\n",
    "        json.dump(request, f, indent=2)"
   ]
  }
 ],
 "metadata": {
  "kernelspec": {
   "display_name": "llm",
   "language": "python",
   "name": "llm"
  },
  "language_info": {
   "codemirror_mode": {
    "name": "ipython",
    "version": 3
   },
   "file_extension": ".py",
   "mimetype": "text/x-python",
   "name": "python",
   "nbconvert_exporter": "python",
   "pygments_lexer": "ipython3",
   "version": "3.10.14"
  }
 },
 "nbformat": 4,
 "nbformat_minor": 2
}
