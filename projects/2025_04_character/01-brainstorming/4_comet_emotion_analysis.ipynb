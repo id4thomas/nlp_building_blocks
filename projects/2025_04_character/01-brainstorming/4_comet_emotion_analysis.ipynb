{
 "cells": [
  {
   "cell_type": "markdown",
   "metadata": {},
   "source": [
    "# emotion related data analysis\n",
    "* Modeling Naive Psychology of Characters in Simple Commonsense Stories\n",
    "    * https://uwnlp.github.io/storycommonsense/"
   ]
  },
  {
   "cell_type": "code",
   "execution_count": 1,
   "metadata": {},
   "outputs": [],
   "source": [
    "from enum import Enum\n",
    "import json\n",
    "import os\n",
    "\n",
    "from openai import AsyncOpenAI\n",
    "import pandas as pd\n",
    "from pydantic import BaseModel, Extra, Field\n",
    "\n",
    "from config import settings"
   ]
  },
  {
   "cell_type": "code",
   "execution_count": 2,
   "metadata": {},
   "outputs": [
    {
     "name": "stdout",
     "output_type": "stream",
     "text": [
      "gpt-4.1-nano\n"
     ]
    }
   ],
   "source": [
    "print(settings.llm_model)\n",
    "client = AsyncOpenAI(\n",
    "    base_url=settings.llm_base_url,\n",
    "    api_key=settings.llm_api_key\n",
    ")"
   ]
  },
  {
   "cell_type": "markdown",
   "metadata": {},
   "source": [
    "# 1. COMET-2020\n",
    "COMET (commonsense knowledge datasets) contains triples related to emotional reactions\n",
    "* https://arxiv.org/abs/2010.05953\n",
    "* `xReact`, `oReact`: Relations xReact and oReact define the emotional reactions on the part of X or other participants in an event."
   ]
  },
  {
   "cell_type": "code",
   "execution_count": 3,
   "metadata": {},
   "outputs": [
    {
     "data": {
      "text/plain": [
       "['.DS_Store',\n",
       " 'LICENSE',\n",
       " 'train.tsv',\n",
       " 'dev.tsv',\n",
       " 'README.md',\n",
       " 'test.tsv',\n",
       " 'hwang2021comet.pdf']"
      ]
     },
     "execution_count": 3,
     "metadata": {},
     "output_type": "execute_result"
    }
   ],
   "source": [
    "comet_data_dir = \"/Users/id4thomas/datasets/commonsense/atomic2020_data-feb2021\"\n",
    "os.listdir(comet_data_dir)"
   ]
  },
  {
   "cell_type": "code",
   "execution_count": 4,
   "metadata": {},
   "outputs": [
    {
     "name": "stdout",
     "output_type": "stream",
     "text": [
      "(1076880, 3) Index(['source', 'relation', 'target'], dtype='object')\n"
     ]
    }
   ],
   "source": [
    "split = \"train\" # train, dev, test\n",
    "comet_df = pd.read_csv(os.path.join(comet_data_dir, f\"{split}.tsv\"), sep=\"\\t\", header=None, names=[\"source\", \"relation\", \"target\"])\n",
    "print(comet_df.shape, comet_df.columns)"
   ]
  },
  {
   "cell_type": "code",
   "execution_count": 5,
   "metadata": {},
   "outputs": [
    {
     "name": "stdout",
     "output_type": "stream",
     "text": [
      "train xReact 65984 oReact 54632\n"
     ]
    }
   ],
   "source": [
    "print(\n",
    "    \"{} xReact {} oReact {}\".format(\n",
    "        split,\n",
    "        comet_df[comet_df.relation=='xReact'].shape[0],\n",
    "        comet_df[comet_df.relation=='oReact'].shape[0]\n",
    "    )\n",
    ")"
   ]
  },
  {
   "cell_type": "code",
   "execution_count": 6,
   "metadata": {},
   "outputs": [
    {
     "name": "stdout",
     "output_type": "stream",
     "text": [
      "['oEffect' 'oReact' 'oWant' 'xAttr' 'xEffect' 'xIntent' 'xNeed' 'xReact'\n",
      " 'xWant' 'AtLocation' 'ObjectUse' 'Desires' 'HasProperty' 'NotDesires'\n",
      " 'Causes' 'HasSubEvent' 'xReason' 'CapableOf' 'MadeUpOf' 'isAfter'\n",
      " 'isBefore' 'isFilledBy' 'HinderedBy']\n"
     ]
    }
   ],
   "source": [
    "print(comet_df.relation.unique())"
   ]
  },
  {
   "cell_type": "code",
   "execution_count": 7,
   "metadata": {},
   "outputs": [
    {
     "data": {
      "text/html": [
       "<div>\n",
       "<style scoped>\n",
       "    .dataframe tbody tr th:only-of-type {\n",
       "        vertical-align: middle;\n",
       "    }\n",
       "\n",
       "    .dataframe tbody tr th {\n",
       "        vertical-align: top;\n",
       "    }\n",
       "\n",
       "    .dataframe thead th {\n",
       "        text-align: right;\n",
       "    }\n",
       "</style>\n",
       "<table border=\"1\" class=\"dataframe\">\n",
       "  <thead>\n",
       "    <tr style=\"text-align: right;\">\n",
       "      <th></th>\n",
       "      <th>source</th>\n",
       "      <th>relation</th>\n",
       "      <th>target</th>\n",
       "    </tr>\n",
       "  </thead>\n",
       "  <tbody>\n",
       "    <tr>\n",
       "      <th>23</th>\n",
       "      <td>PersonX abandons ___ altogether</td>\n",
       "      <td>xReact</td>\n",
       "      <td>authoritative</td>\n",
       "    </tr>\n",
       "    <tr>\n",
       "      <th>55</th>\n",
       "      <td>PersonX abandons the ___ altogether</td>\n",
       "      <td>xReact</td>\n",
       "      <td>pressurized</td>\n",
       "    </tr>\n",
       "    <tr>\n",
       "      <th>88</th>\n",
       "      <td>PersonX abolishes ___ altogether</td>\n",
       "      <td>xReact</td>\n",
       "      <td>he was sad</td>\n",
       "    </tr>\n",
       "    <tr>\n",
       "      <th>115</th>\n",
       "      <td>PersonX abolishes ___ in the states</td>\n",
       "      <td>xReact</td>\n",
       "      <td>sad</td>\n",
       "    </tr>\n",
       "    <tr>\n",
       "      <th>145</th>\n",
       "      <td>PersonX abolishes the ___ altogether</td>\n",
       "      <td>xReact</td>\n",
       "      <td>happy</td>\n",
       "    </tr>\n",
       "  </tbody>\n",
       "</table>\n",
       "</div>"
      ],
      "text/plain": [
       "                                   source relation         target\n",
       "23        PersonX abandons ___ altogether   xReact  authoritative\n",
       "55    PersonX abandons the ___ altogether   xReact    pressurized\n",
       "88       PersonX abolishes ___ altogether   xReact     he was sad\n",
       "115   PersonX abolishes ___ in the states   xReact            sad\n",
       "145  PersonX abolishes the ___ altogether   xReact          happy"
      ]
     },
     "execution_count": 7,
     "metadata": {},
     "output_type": "execute_result"
    }
   ],
   "source": [
    "comet_df[comet_df.relation=='xReact'].head()"
   ]
  },
  {
   "cell_type": "markdown",
   "metadata": {},
   "source": [
    "## 1-1. Data collection test"
   ]
  },
  {
   "cell_type": "markdown",
   "metadata": {},
   "source": [
    "## Single Inference"
   ]
  },
  {
   "cell_type": "code",
   "execution_count": 8,
   "metadata": {},
   "outputs": [],
   "source": [
    "# Single Sample\n",
    "system_prompt = '''You are provided with entries from a commonsense reasoning dataset (COMET-2020) that consist of three parts:\n",
    "1.\tsource: A short event description containing the placeholder “PersonX” or “PersonY.”\n",
    "2.\trelation: Either xReact (indicating the subject’s emotional reaction) or oReact (indicating the other person’s emotional reaction).\n",
    "3.\ttarget: A brief description of the emotion, state, or reaction.\n",
    "\n",
    "# Task\n",
    "For each entry in the dataset, you need to:\n",
    "## Expand the Source\n",
    "Replace “PersonX” or “PersonY” with a random human name (e.g., Alex, Jordan, María, Fatima, Ethan, etc.) and expand the event into a realistic scenario by adding enough context.\n",
    "For example, if the source is “PersonX abandons ___ altogether,” you might expand it to:\n",
    "“Veronica decides to stop relying on social media altogether, feeling that she has complete control over her personal life.”\n",
    "\n",
    "## Map the Emotion: Map the target emotion onto the 8 primary emotions from Plutchik’s Wheel\n",
    "* Joy\n",
    "* Trust\n",
    "* Fear\n",
    "* Surprise\n",
    "* Sadness\n",
    "* Disgust\n",
    "* Anger\n",
    "* Anticipation\n",
    "\n",
    "For each emotion, assign one of the following intensities:\n",
    "* \"na\" (not applicable)\n",
    "* \"low\"\n",
    "* \"medium\"\n",
    "* \"high\"\n",
    "\n",
    "Interpret the target emotion (e.g., “authoritative”) in terms of Plutchik’s emotions. For example, you might decide:\n",
    "* trust: high\n",
    "* joy: low\n",
    "* anticipation: medium\n",
    "\n",
    "## Write a Reason:\n",
    "Provide a one-sentence rationale (\"reason\") explaining why the subject (if xReact) or the other person (if oReact) feels the given emotion(s).\n",
    "ex. “She feels empowered and confident after cutting out social media.”\n",
    "\n",
    "# Note\n",
    "* For xReact, the emotion data should pertain to the subject’s (formerly “PersonX”) reaction.\n",
    "* For oReact, the emotion data should pertain to the other person (formerly “PersonY”)\n",
    "\n",
    "Return in the following JSON format\n",
    "{\n",
    "  \"source\": \"Expanded realistic scenario with a real name in place of PersonX/PersonY\",\n",
    "  \"emotion\": {\n",
    "    \"joy\": \"na\" | \"low\" | \"medium\" | \"high\",\n",
    "    \"trust\": \"na\" | \"low\" | \"medium\" | \"high\",\n",
    "    \"fear\": \"na\" | \"low\" | \"medium\" | \"high\",\n",
    "    \"surprise\": \"na\" | \"low\" | \"medium\" | \"high\",\n",
    "    \"sadness\": \"na\" | \"low\" | \"medium\" | \"high\",\n",
    "    \"disgust\": \"na\" | \"low\" | \"medium\" | \"high\",\n",
    "    \"anger\": \"na\" | \"low\" | \"medium\" | \"high\",\n",
    "    \"anticipation\": \"na\" | \"low\" | \"medium\" | \"high\"\n",
    "  },\n",
    "  \"reason\": \"One sentence explaining why these emotions occur\"\n",
    "}\n",
    "Only return the JSON, don't return in markdown format. (ex. \"```json...\") start like \"{...\"\n",
    "'''\n",
    "user_template = '''[Source]\n",
    "{source}\n",
    "[Relation]\n",
    "{relation}\n",
    "[Target]\n",
    "{target}'''"
   ]
  },
  {
   "cell_type": "code",
   "execution_count": 9,
   "metadata": {},
   "outputs": [
    {
     "name": "stderr",
     "output_type": "stream",
     "text": [
      "/var/folders/wj/0c7skj2154q4844jqxlw3yxr0000gn/T/ipykernel_91962/824004795.py:18: PydanticDeprecatedSince20: `pydantic.config.Extra` is deprecated, use literal values instead (e.g. `extra='allow'`). Deprecated in Pydantic V2.0 to be removed in V3.0. See Pydantic V2 Migration Guide at https://errors.pydantic.dev/2.10/migration/\n",
      "  extra = Extra.forbid\n",
      "/var/folders/wj/0c7skj2154q4844jqxlw3yxr0000gn/T/ipykernel_91962/824004795.py:27: PydanticDeprecatedSince20: `pydantic.config.Extra` is deprecated, use literal values instead (e.g. `extra='allow'`). Deprecated in Pydantic V2.0 to be removed in V3.0. See Pydantic V2 Migration Guide at https://errors.pydantic.dev/2.10/migration/\n",
      "  extra = Extra.forbid\n"
     ]
    }
   ],
   "source": [
    "class RelationshipStatus(str, Enum):\n",
    "    na = \"na\"\n",
    "    low = \"low\"\n",
    "    medium = \"medium\"\n",
    "    high = \"high\"\n",
    "    \n",
    "class EmotionLabel(BaseModel):\n",
    "    joy: RelationshipStatus\n",
    "    trust: RelationshipStatus\n",
    "    fear: RelationshipStatus\n",
    "    surprise: RelationshipStatus\n",
    "    sadness: RelationshipStatus\n",
    "    disgust: RelationshipStatus\n",
    "    anger: RelationshipStatus\n",
    "    anticipation: RelationshipStatus\n",
    "    \n",
    "    class Config:\n",
    "        extra = Extra.forbid\n",
    "        use_enum_values = True\n",
    "        \n",
    "class Result(BaseModel):\n",
    "    source: str\n",
    "    emotion: EmotionLabel\n",
    "    reason: str\n",
    "    \n",
    "    class Config:\n",
    "        extra = Extra.forbid\n",
    "        use_enum_values = True"
   ]
  },
  {
   "cell_type": "code",
   "execution_count": 10,
   "metadata": {},
   "outputs": [],
   "source": [
    "row = comet_df[comet_df.relation=='xReact'].iloc[0]\n",
    "\n",
    "user_message = user_template.format(\n",
    "    source=row['source'],\n",
    "    relation=row['relation'],\n",
    "    target=row['target'],\n",
    ")\n",
    "\n",
    "result = await client.beta.chat.completions.parse(\n",
    "    model=settings.llm_model,\n",
    "    messages=[\n",
    "        {\"role\": \"system\", \"content\": system_prompt},\n",
    "        {\"role\": \"user\", \"content\": user_message},\n",
    "    ],\n",
    "    response_format=Result,\n",
    ")"
   ]
  },
  {
   "cell_type": "code",
   "execution_count": 11,
   "metadata": {},
   "outputs": [
    {
     "name": "stdout",
     "output_type": "stream",
     "text": [
      "{\n",
      "    \"source\": \"Emma decides to stop relying on her social network altogether, feeling that she must be self-reliant.\",\n",
      "    \"emotion\": {\n",
      "        \"joy\": \"na\",\n",
      "        \"trust\": \"low\",\n",
      "        \"fear\": \"na\",\n",
      "        \"surprise\": \"na\",\n",
      "        \"sadness\": \"low\",\n",
      "        \"disgust\": \"na\",\n",
      "        \"anger\": \"na\",\n",
      "        \"anticipation\": \"medium\"\n",
      "    },\n",
      "    \"reason\": \"She feels empowered and confident after cutting out social media.\"\n",
      "}\n"
     ]
    }
   ],
   "source": [
    "prediction_result = result.choices[0].message.parsed\n",
    "print(prediction_result.model_dump_json(indent=4))"
   ]
  },
  {
   "cell_type": "markdown",
   "metadata": {},
   "source": [
    "## Multiple Inference"
   ]
  },
  {
   "cell_type": "code",
   "execution_count": 12,
   "metadata": {},
   "outputs": [],
   "source": [
    "# Multiple Samples\n",
    "system_prompt = '''You are provided with entries from a commonsense reasoning dataset (COMET-2020) that consist of three parts:\n",
    "1.\tsource: A short event description containing the placeholder “PersonX” or “PersonY.”\n",
    "2.\trelation: Either xReact (indicating the subject’s emotional reaction) or oReact (indicating the other person’s emotional reaction).\n",
    "3.\ttarget: A brief description of the emotion, state, or reaction.\n",
    "\n",
    "# Task\n",
    "For each entry in the dataset, you need to:\n",
    "## Expand the Source\n",
    "Replace “PersonX” or “PersonY” with a random human name (e.g., Alex, Jordan, María, Fatima, Ethan, etc.) and expand the event into a realistic scenario by adding enough context.\n",
    "For example, if the source is “PersonX abandons ___ altogether,” you might expand it to:\n",
    "“Veronica decides to stop relying on social media altogether, feeling that she has complete control over her personal life.”\n",
    "\n",
    "## Map the Emotion: Map the target emotion onto the 8 primary emotions from Plutchik’s Wheel\n",
    "* Joy\n",
    "* Trust\n",
    "* Fear\n",
    "* Surprise\n",
    "* Sadness\n",
    "* Disgust\n",
    "* Anger\n",
    "* Anticipation\n",
    "\n",
    "For each emotion, assign one of the following intensities:\n",
    "* \"na\" (not applicable)\n",
    "* \"low\"\n",
    "* \"medium\"\n",
    "* \"high\"\n",
    "\n",
    "Interpret the target emotion (e.g., “authoritative”) in terms of Plutchik’s emotions. For example, you might decide:\n",
    "* trust: high\n",
    "* joy: low\n",
    "* anticipation: medium\n",
    "\n",
    "## Write a Reason:\n",
    "Provide a one-sentence rationale (\"reason\") explaining why the subject (if xReact) or the other person (if oReact) feels the given emotion(s).\n",
    "ex. “She feels empowered and confident after cutting out social media.”\n",
    "\n",
    "# Note\n",
    "* For xReact, the emotion data should pertain to the subject’s (formerly “PersonX”) reaction.\n",
    "* For oReact, the emotion data should pertain to the other person (formerly “PersonY”)\n",
    "\n",
    "Return in the following JSON format\n",
    "{\n",
    "  \"result\": [\n",
    "    {\n",
    "      \"uid\": str,\n",
    "      \"source\": \"Expanded realistic scenario with a real name in place of PersonX/PersonY\",\n",
    "      \"emotion\": {\n",
    "        \"joy\": \"na\" | \"low\" | \"medium\" | \"high\",\n",
    "        \"trust\": \"na\" | \"low\" | \"medium\" | \"high\",\n",
    "        \"fear\": \"na\" | \"low\" | \"medium\" | \"high\",\n",
    "        \"surprise\": \"na\" | \"low\" | \"medium\" | \"high\",\n",
    "        \"sadness\": \"na\" | \"low\" | \"medium\" | \"high\",\n",
    "        \"disgust\": \"na\" | \"low\" | \"medium\" | \"high\",\n",
    "        \"anger\": \"na\" | \"low\" | \"medium\" | \"high\",\n",
    "        \"anticipation\": \"na\" | \"low\" | \"medium\" | \"high\"\n",
    "      },\n",
    "      \"reason\": \"One sentence explaining why these emotions occur\"\n",
    "    },\n",
    "    ...\n",
    "  ]\n",
    "}\n",
    "Only return the JSON, don't return in markdown format. (ex. \"```json...\") start like \"{...\"\n",
    "'''\n",
    "user_template = '''[Entries]\n",
    "{entries}'''"
   ]
  },
  {
   "cell_type": "code",
   "execution_count": 13,
   "metadata": {},
   "outputs": [],
   "source": [
    "import uuid\n",
    "def prepare_entries(rows):\n",
    "    uids = []\n",
    "    entries = []\n",
    "    for i in range(rows.shape[0]):\n",
    "        row = rows.iloc[i]\n",
    "        uid = str(uuid.uuid4())\n",
    "        entry = {\n",
    "            \"uid\": uid,\n",
    "            \"source\": row['source'],\n",
    "            \"relation\": row[\"relation\"],\n",
    "            \"target\": row[\"target\"]\n",
    "        }\n",
    "        \n",
    "        uids.append(uid)\n",
    "        entries.append(entry)\n",
    "    return uids, entries\n",
    "\n",
    "idxs = list(range(10))\n",
    "uids, entries = prepare_entries(comet_df.iloc[idxs])"
   ]
  },
  {
   "cell_type": "code",
   "execution_count": 14,
   "metadata": {},
   "outputs": [],
   "source": [
    "from typing import Any, List\n",
    "\n",
    "def create_dynamic_enum(name: str, values: List[Any]) -> Enum:\n",
    "    return Enum(name, {str(v): v for v in values})"
   ]
  },
  {
   "cell_type": "code",
   "execution_count": 15,
   "metadata": {},
   "outputs": [
    {
     "name": "stderr",
     "output_type": "stream",
     "text": [
      "/var/folders/wj/0c7skj2154q4844jqxlw3yxr0000gn/T/ipykernel_91962/1713437733.py:12: PydanticDeprecatedSince20: `pydantic.config.Extra` is deprecated, use literal values instead (e.g. `extra='allow'`). Deprecated in Pydantic V2.0 to be removed in V3.0. See Pydantic V2 Migration Guide at https://errors.pydantic.dev/2.10/migration/\n",
      "  extra = Extra.forbid\n",
      "/var/folders/wj/0c7skj2154q4844jqxlw3yxr0000gn/T/ipykernel_91962/1713437733.py:19: PydanticDeprecatedSince20: `pydantic.config.Extra` is deprecated, use literal values instead (e.g. `extra='allow'`). Deprecated in Pydantic V2.0 to be removed in V3.0. See Pydantic V2 Migration Guide at https://errors.pydantic.dev/2.10/migration/\n",
      "  extra = Extra.forbid\n"
     ]
    }
   ],
   "source": [
    "user_message = user_template.format(\n",
    "    entries = json.dumps(entries)\n",
    ")\n",
    "\n",
    "class EntryResult(BaseModel):\n",
    "    uid: create_dynamic_enum(\"uid\", uids)\n",
    "    source: str\n",
    "    emotion: EmotionLabel\n",
    "    reason: str\n",
    "    \n",
    "    class Config:\n",
    "        extra = Extra.forbid\n",
    "        use_enum_values = True\n",
    "        \n",
    "class Results(BaseModel):\n",
    "    result: List[EntryResult]\n",
    "    \n",
    "    class Config:\n",
    "        extra = Extra.forbid\n",
    "        use_enum_values = True"
   ]
  },
  {
   "cell_type": "code",
   "execution_count": 16,
   "metadata": {},
   "outputs": [],
   "source": [
    "result = await client.beta.chat.completions.parse(\n",
    "    model=settings.llm_model,\n",
    "    messages=[\n",
    "        {\"role\": \"system\", \"content\": system_prompt},\n",
    "        {\"role\": \"user\", \"content\": user_message},\n",
    "    ],\n",
    "    response_format=Results,\n",
    ")"
   ]
  },
  {
   "cell_type": "code",
   "execution_count": 19,
   "metadata": {},
   "outputs": [
    {
     "name": "stdout",
     "output_type": "stream",
     "text": [
      "{\n",
      "    \"completion_tokens\": 1244,\n",
      "    \"prompt_tokens\": 1720,\n",
      "    \"total_tokens\": 2964,\n",
      "    \"completion_tokens_details\": {\n",
      "        \"accepted_prediction_tokens\": 0,\n",
      "        \"audio_tokens\": 0,\n",
      "        \"reasoning_tokens\": 0,\n",
      "        \"rejected_prediction_tokens\": 0\n",
      "    },\n",
      "    \"prompt_tokens_details\": {\n",
      "        \"audio_tokens\": 0,\n",
      "        \"cached_tokens\": 0\n",
      "    }\n",
      "}\n"
     ]
    }
   ],
   "source": [
    "print(result.usage.model_dump_json(indent=4))"
   ]
  },
  {
   "cell_type": "code",
   "execution_count": 17,
   "metadata": {},
   "outputs": [
    {
     "name": "stdout",
     "output_type": "stream",
     "text": [
      "{\n",
      "    \"result\": [\n",
      "        {\n",
      "            \"uid\": \"f9bcf8ed-f068-4525-894f-16aa27790f7c\",\n",
      "            \"source\": \"Emily decides to leave her social media accounts altogether, feeling overwhelmed by the constant connectivity and pressure.\",\n",
      "            \"emotion\": {\n",
      "                \"joy\": \"na\",\n",
      "                \"trust\": \"na\",\n",
      "                \"fear\": \"na\",\n",
      "                \"surprise\": \"na\",\n",
      "                \"sadness\": \"na\",\n",
      "                \"disgust\": \"na\",\n",
      "                \"anger\": \"na\",\n",
      "                \"anticipation\": \"na\"\n",
      "            },\n",
      "            \"reason\": \"No specific emotional reaction is associated with abandoning social media in this context.\"\n",
      "        },\n",
      "        {\n",
      "            \"uid\": \"91aafb42-1ef9-4c2c-b8de-4028a03a1b9a\",\n",
      "            \"source\": \"Luke decides to stop attending his weekly sports club, feeling that it no longer interests him or benefits him.\",\n",
      "            \"emotion\": {\n",
      "                \"joy\": \"na\",\n",
      "                \"trust\": \"na\",\n",
      "                \"fear\": \"na\",\n",
      "                \"surprise\": \"na\",\n",
      "                \"sadness\": \"na\",\n",
      "                \"disgust\": \"na\",\n",
      "                \"anger\": \"na\",\n",
      "                \"anticipation\": \"na\"\n",
      "            },\n",
      "            \"reason\": \"His decision is driven more by personal disinterest than specific emotions.\"\n",
      "        },\n",
      "        {\n",
      "            \"uid\": \"89fa317f-3fe1-443a-8312-217276cc6788\",\n",
      "            \"source\": \"Sophie feels dejected after her team lost the championship game, feeling disappointed and disheartened.\",\n",
      "            \"emotion\": {\n",
      "                \"joy\": \"low\",\n",
      "                \"trust\": \"na\",\n",
      "                \"fear\": \"na\",\n",
      "                \"surprise\": \"na\",\n",
      "                \"sadness\": \"high\",\n",
      "                \"disgust\": \"na\",\n",
      "                \"anger\": \"na\",\n",
      "                \"anticipation\": \"na\"\n",
      "            },\n",
      "            \"reason\": \"The loss made Sophie feel sad and disappointed about her team's performance.\"\n",
      "        },\n",
      "        {\n",
      "            \"uid\": \"2a87858f-d6e1-4336-ab81-4176b76ebd9b\",\n",
      "            \"source\": \"Carlos chooses to stop practicing piano altogether, feeling uninspired by his recent lessons.\",\n",
      "            \"emotion\": {\n",
      "                \"joy\": \"na\",\n",
      "                \"trust\": \"na\",\n",
      "                \"fear\": \"na\",\n",
      "                \"surprise\": \"na\",\n",
      "                \"sadness\": \"na\",\n",
      "                \"disgust\": \"na\",\n",
      "                \"anger\": \"na\",\n",
      "                \"anticipation\": \"na\"\n",
      "            },\n",
      "            \"reason\": \"His decision to cease training is due to lack of motivation, not a specific emotional response.\"\n",
      "        },\n",
      "        {\n",
      "            \"uid\": \"8ab958ba-ae6e-4f8c-9e7d-ab13c1738cb7\",\n",
      "            \"source\": \"Alicia discards her old clothing altogether, feeling it no longer reflected her style.\",\n",
      "            \"emotion\": {\n",
      "                \"joy\": \"na\",\n",
      "                \"trust\": \"na\",\n",
      "                \"fear\": \"na\",\n",
      "                \"surprise\": \"na\",\n",
      "                \"sadness\": \"na\",\n",
      "                \"disgust\": \"na\",\n",
      "                \"anger\": \"na\",\n",
      "                \"anticipation\": \"na\"\n",
      "            },\n",
      "            \"reason\": \"There is no particular emotional reaction associated with her action of discarding clothing.\"\n",
      "        },\n",
      "        {\n",
      "            \"uid\": \"309c1670-a32f-465f-acb2-9fc54fe23424\",\n",
      "            \"source\": \"Michael abandons his plan to switch careers altogether, feeling uncertain about his decision.\",\n",
      "            \"emotion\": {\n",
      "                \"joy\": \"na\",\n",
      "                \"trust\": \"na\",\n",
      "                \"fear\": \"medium\",\n",
      "                \"surprise\": \"na\",\n",
      "                \"sadness\": \"low\",\n",
      "                \"disgust\": \"na\",\n",
      "                \"anger\": \"na\",\n",
      "                \"anticipation\": \"medium\"\n",
      "            },\n",
      "            \"reason\": \"He feels anxious and uncertain about his future prospects in a new career path.\"\n",
      "        },\n",
      "        {\n",
      "            \"uid\": \"785d4d85-a965-4759-8dac-16916bd51dd4\",\n",
      "            \"source\": \"Rachel abandons her dream of moving abroad altogether, feeling overwhelmed by the complexity of her plans.\",\n",
      "            \"emotion\": {\n",
      "                \"joy\": \"na\",\n",
      "                \"trust\": \"na\",\n",
      "                \"fear\": \"medium\",\n",
      "                \"surprise\": \"na\",\n",
      "                \"sadness\": \"medium\",\n",
      "                \"disgust\": \"na\",\n",
      "                \"anger\": \"na\",\n",
      "                \"anticipation\": \"low\"\n",
      "            },\n",
      "            \"reason\": \"The stress and uncertainty of planning an international move cause emotional apprehension and sadness.\"\n",
      "        },\n",
      "        {\n",
      "            \"uid\": \"42cd86eb-9b90-4bea-81b9-ff62171a7d3a\",\n",
      "            \"source\": \"David sees himself as impatient altogether, often becoming annoyed quickly during his daily activities.\",\n",
      "            \"emotion\": {\n",
      "                \"joy\": \"na\",\n",
      "                \"trust\": \"na\",\n",
      "                \"fear\": \"na\",\n",
      "                \"surprise\": \"na\",\n",
      "                \"sadness\": \"na\",\n",
      "                \"disgust\": \"na\",\n",
      "                \"anger\": \"medium\",\n",
      "                \"anticipation\": \"low\"\n",
      "            },\n",
      "            \"reason\": \"His impatience leads him to feel irritable and frustrated more often.\"\n",
      "        },\n",
      "        {\n",
      "            \"uid\": \"c7e03fb4-a3f6-4847-a4f5-c642827482d8\",\n",
      "            \"source\": \"Nina perceives herself as decisive altogether, making quick and firm choices in her work projects.\",\n",
      "            \"emotion\": {\n",
      "                \"joy\": \"na\",\n",
      "                \"trust\": \"high\",\n",
      "                \"fear\": \"na\",\n",
      "                \"surprise\": \"na\",\n",
      "                \"sadness\": \"na\",\n",
      "                \"disgust\": \"na\",\n",
      "                \"anger\": \"na\",\n",
      "                \"anticipation\": \"high\"\n",
      "            },\n",
      "            \"reason\": \"Her decisiveness boosts her confidence and sense of control in her tasks.\"\n",
      "        },\n",
      "        {\n",
      "            \"uid\": \"93775d03-18ea-47d4-88bf-651a82fab206\",\n",
      "            \"source\": \"Liam considers himself undependable altogether, often feeling insecure about his reliability.\",\n",
      "            \"emotion\": {\n",
      "                \"joy\": \"na\",\n",
      "                \"trust\": \"low\",\n",
      "                \"fear\": \"medium\",\n",
      "                \"surprise\": \"na\",\n",
      "                \"sadness\": \"medium\",\n",
      "                \"disgust\": \"na\",\n",
      "                \"anger\": \"na\",\n",
      "                \"anticipation\": \"low\"\n",
      "            },\n",
      "            \"reason\": \"His doubts about his dependability cause feelings of insecurity and worry.\"\n",
      "        }\n",
      "    ]\n",
      "}\n"
     ]
    }
   ],
   "source": [
    "prediction_result = result.choices[0].message.parsed\n",
    "print(prediction_result.model_dump_json(indent=4))"
   ]
  },
  {
   "cell_type": "code",
   "execution_count": 23,
   "metadata": {},
   "outputs": [
    {
     "name": "stdout",
     "output_type": "stream",
     "text": [
      "UID: f9bcf8ed-f068-4525-894f-16aa27790f7c\n",
      "Entry: {\"uid\": \"f9bcf8ed-f068-4525-894f-16aa27790f7c\", \"source\": \"PersonX abandons ___ altogether\", \"relation\": \"oEffect\", \"target\": \"none\"}\n",
      "Result: {\"uid\":\"f9bcf8ed-f068-4525-894f-16aa27790f7c\",\"source\":\"Emily decides to leave her social media accounts altogether, feeling overwhelmed by the constant connectivity and pressure.\",\"emotion\":{\"joy\":\"na\",\"trust\":\"na\",\"fear\":\"na\",\"surprise\":\"na\",\"sadness\":\"na\",\"disgust\":\"na\",\"anger\":\"na\",\"anticipation\":\"na\"},\"reason\":\"No specific emotional reaction is associated with abandoning social media in this context.\"}\n",
      "------------------------------\n",
      "UID: 91aafb42-1ef9-4c2c-b8de-4028a03a1b9a\n",
      "Entry: {\"uid\": \"91aafb42-1ef9-4c2c-b8de-4028a03a1b9a\", \"source\": \"PersonX abandons ___ altogether\", \"relation\": \"oEffect\", \"target\": \"none\"}\n",
      "Result: {\"uid\":\"91aafb42-1ef9-4c2c-b8de-4028a03a1b9a\",\"source\":\"Luke decides to stop attending his weekly sports club, feeling that it no longer interests him or benefits him.\",\"emotion\":{\"joy\":\"na\",\"trust\":\"na\",\"fear\":\"na\",\"surprise\":\"na\",\"sadness\":\"na\",\"disgust\":\"na\",\"anger\":\"na\",\"anticipation\":\"na\"},\"reason\":\"His decision is driven more by personal disinterest than specific emotions.\"}\n",
      "------------------------------\n",
      "UID: 89fa317f-3fe1-443a-8312-217276cc6788\n",
      "Entry: {\"uid\": \"89fa317f-3fe1-443a-8312-217276cc6788\", \"source\": \"PersonX abandons ___ altogether\", \"relation\": \"oReact\", \"target\": \"dejected\"}\n",
      "Result: {\"uid\":\"89fa317f-3fe1-443a-8312-217276cc6788\",\"source\":\"Sophie feels dejected after her team lost the championship game, feeling disappointed and disheartened.\",\"emotion\":{\"joy\":\"low\",\"trust\":\"na\",\"fear\":\"na\",\"surprise\":\"na\",\"sadness\":\"high\",\"disgust\":\"na\",\"anger\":\"na\",\"anticipation\":\"na\"},\"reason\":\"The loss made Sophie feel sad and disappointed about her team's performance.\"}\n",
      "------------------------------\n",
      "UID: 2a87858f-d6e1-4336-ab81-4176b76ebd9b\n",
      "Entry: {\"uid\": \"2a87858f-d6e1-4336-ab81-4176b76ebd9b\", \"source\": \"PersonX abandons ___ altogether\", \"relation\": \"oWant\", \"target\": \"none\"}\n",
      "Result: {\"uid\":\"2a87858f-d6e1-4336-ab81-4176b76ebd9b\",\"source\":\"Carlos chooses to stop practicing piano altogether, feeling uninspired by his recent lessons.\",\"emotion\":{\"joy\":\"na\",\"trust\":\"na\",\"fear\":\"na\",\"surprise\":\"na\",\"sadness\":\"na\",\"disgust\":\"na\",\"anger\":\"na\",\"anticipation\":\"na\"},\"reason\":\"His decision to cease training is due to lack of motivation, not a specific emotional response.\"}\n",
      "------------------------------\n",
      "UID: 8ab958ba-ae6e-4f8c-9e7d-ab13c1738cb7\n",
      "Entry: {\"uid\": \"8ab958ba-ae6e-4f8c-9e7d-ab13c1738cb7\", \"source\": \"PersonX abandons ___ altogether\", \"relation\": \"oWant\", \"target\": \"none\"}\n",
      "Result: {\"uid\":\"8ab958ba-ae6e-4f8c-9e7d-ab13c1738cb7\",\"source\":\"Alicia discards her old clothing altogether, feeling it no longer reflected her style.\",\"emotion\":{\"joy\":\"na\",\"trust\":\"na\",\"fear\":\"na\",\"surprise\":\"na\",\"sadness\":\"na\",\"disgust\":\"na\",\"anger\":\"na\",\"anticipation\":\"na\"},\"reason\":\"There is no particular emotional reaction associated with her action of discarding clothing.\"}\n",
      "------------------------------\n",
      "UID: 309c1670-a32f-465f-acb2-9fc54fe23424\n",
      "Entry: {\"uid\": \"309c1670-a32f-465f-acb2-9fc54fe23424\", \"source\": \"PersonX abandons ___ altogether\", \"relation\": \"oWant\", \"target\": \"to find a new job for him\"}\n",
      "Result: {\"uid\":\"309c1670-a32f-465f-acb2-9fc54fe23424\",\"source\":\"Michael abandons his plan to switch careers altogether, feeling uncertain about his decision.\",\"emotion\":{\"joy\":\"na\",\"trust\":\"na\",\"fear\":\"medium\",\"surprise\":\"na\",\"sadness\":\"low\",\"disgust\":\"na\",\"anger\":\"na\",\"anticipation\":\"medium\"},\"reason\":\"He feels anxious and uncertain about his future prospects in a new career path.\"}\n",
      "------------------------------\n",
      "UID: 785d4d85-a965-4759-8dac-16916bd51dd4\n",
      "Entry: {\"uid\": \"785d4d85-a965-4759-8dac-16916bd51dd4\", \"source\": \"PersonX abandons ___ altogether\", \"relation\": \"oWant\", \"target\": \"to support him\"}\n",
      "Result: {\"uid\":\"785d4d85-a965-4759-8dac-16916bd51dd4\",\"source\":\"Rachel abandons her dream of moving abroad altogether, feeling overwhelmed by the complexity of her plans.\",\"emotion\":{\"joy\":\"na\",\"trust\":\"na\",\"fear\":\"medium\",\"surprise\":\"na\",\"sadness\":\"medium\",\"disgust\":\"na\",\"anger\":\"na\",\"anticipation\":\"low\"},\"reason\":\"The stress and uncertainty of planning an international move cause emotional apprehension and sadness.\"}\n",
      "------------------------------\n",
      "UID: 42cd86eb-9b90-4bea-81b9-ff62171a7d3a\n",
      "Entry: {\"uid\": \"42cd86eb-9b90-4bea-81b9-ff62171a7d3a\", \"source\": \"PersonX abandons ___ altogether\", \"relation\": \"xAttr\", \"target\": \"impatient\"}\n",
      "Result: {\"uid\":\"42cd86eb-9b90-4bea-81b9-ff62171a7d3a\",\"source\":\"David sees himself as impatient altogether, often becoming annoyed quickly during his daily activities.\",\"emotion\":{\"joy\":\"na\",\"trust\":\"na\",\"fear\":\"na\",\"surprise\":\"na\",\"sadness\":\"na\",\"disgust\":\"na\",\"anger\":\"medium\",\"anticipation\":\"low\"},\"reason\":\"His impatience leads him to feel irritable and frustrated more often.\"}\n",
      "------------------------------\n",
      "UID: c7e03fb4-a3f6-4847-a4f5-c642827482d8\n",
      "Entry: {\"uid\": \"c7e03fb4-a3f6-4847-a4f5-c642827482d8\", \"source\": \"PersonX abandons ___ altogether\", \"relation\": \"xAttr\", \"target\": \"decisive\"}\n",
      "Result: {\"uid\":\"c7e03fb4-a3f6-4847-a4f5-c642827482d8\",\"source\":\"Nina perceives herself as decisive altogether, making quick and firm choices in her work projects.\",\"emotion\":{\"joy\":\"na\",\"trust\":\"high\",\"fear\":\"na\",\"surprise\":\"na\",\"sadness\":\"na\",\"disgust\":\"na\",\"anger\":\"na\",\"anticipation\":\"high\"},\"reason\":\"Her decisiveness boosts her confidence and sense of control in her tasks.\"}\n",
      "------------------------------\n",
      "UID: 93775d03-18ea-47d4-88bf-651a82fab206\n",
      "Entry: {\"uid\": \"93775d03-18ea-47d4-88bf-651a82fab206\", \"source\": \"PersonX abandons ___ altogether\", \"relation\": \"xAttr\", \"target\": \"undependable\"}\n",
      "Result: {\"uid\":\"93775d03-18ea-47d4-88bf-651a82fab206\",\"source\":\"Liam considers himself undependable altogether, often feeling insecure about his reliability.\",\"emotion\":{\"joy\":\"na\",\"trust\":\"low\",\"fear\":\"medium\",\"surprise\":\"na\",\"sadness\":\"medium\",\"disgust\":\"na\",\"anger\":\"na\",\"anticipation\":\"low\"},\"reason\":\"His doubts about his dependability cause feelings of insecurity and worry.\"}\n",
      "------------------------------\n"
     ]
    }
   ],
   "source": [
    "batch_results = {}\n",
    "for result in prediction_result.result:\n",
    "    batch_results[result.uid]=result\n",
    "    \n",
    "for uid, entry in zip(uids, entries):\n",
    "    print(f\"UID: {uid}\")\n",
    "    print(\"Entry: {}\".format(json.dumps(entry)))\n",
    "    \n",
    "    result = batch_results[uid]\n",
    "    print(\"Result: {}\".format(result.model_dump_json()))\n",
    "    print('-'*30)"
   ]
  },
  {
   "cell_type": "code",
   "execution_count": null,
   "metadata": {},
   "outputs": [],
   "source": []
  }
 ],
 "metadata": {
  "kernelspec": {
   "display_name": "llm",
   "language": "python",
   "name": "llm"
  },
  "language_info": {
   "codemirror_mode": {
    "name": "ipython",
    "version": 3
   },
   "file_extension": ".py",
   "mimetype": "text/x-python",
   "name": "python",
   "nbconvert_exporter": "python",
   "pygments_lexer": "ipython3",
   "version": "3.10.14"
  }
 },
 "nbformat": 4,
 "nbformat_minor": 2
}
