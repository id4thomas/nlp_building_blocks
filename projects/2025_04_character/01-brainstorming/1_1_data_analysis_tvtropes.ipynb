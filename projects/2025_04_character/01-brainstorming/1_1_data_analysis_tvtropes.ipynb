{
 "cells": [
  {
   "cell_type": "code",
   "execution_count": 8,
   "metadata": {},
   "outputs": [],
   "source": [
    "import os\n",
    "from enum import Enum\n",
    "from typing import Any, Dict, List\n",
    "\n",
    "from openai import OpenAI, AsyncOpenAI\n",
    "import pandas as pd\n",
    "import pprint\n",
    "from pydantic import BaseModel, Extra, Field\n",
    "import tiktoken\n",
    "\n",
    "from config import settings"
   ]
  },
  {
   "cell_type": "code",
   "execution_count": 4,
   "metadata": {},
   "outputs": [],
   "source": [
    "openai_client = OpenAI(api_key=settings.openai_api_key)"
   ]
  },
  {
   "cell_type": "code",
   "execution_count": 5,
   "metadata": {},
   "outputs": [],
   "source": [
    "tokenizer = tiktoken.encoding_for_model(\"gpt-4o\")"
   ]
  },
  {
   "cell_type": "code",
   "execution_count": 6,
   "metadata": {},
   "outputs": [
    {
     "data": {
      "text/plain": [
       "2"
      ]
     },
     "execution_count": 6,
     "metadata": {},
     "output_type": "execute_result"
    }
   ],
   "source": [
    "def calculate_tokens(text):\n",
    "    return len(tokenizer.encode(text))\n",
    "calculate_tokens(\"hello world\")"
   ]
  },
  {
   "cell_type": "markdown",
   "metadata": {},
   "source": [
    "# TVTropes Dataset\n",
    "* https://github.com/dhruvilgala/tvtropes"
   ]
  },
  {
   "cell_type": "code",
   "execution_count": 2,
   "metadata": {},
   "outputs": [
    {
     "name": "stdout",
     "output_type": "stream",
     "text": [
      "(30984, 4) Index(['Unnamed: 0', 'TropeID', 'Trope', 'Description'], dtype='object')\n"
     ]
    }
   ],
   "source": [
    "# tropes table\n",
    "tropes_fname = \"story/TVTropesData/tropes.csv\"\n",
    "tropes_fpath = os.path.join(settings.data_dir, tropes_fname)\n",
    "\n",
    "tropes_df = pd.read_csv(tropes_fpath)\n",
    "print(tropes_df.shape, tropes_df.columns)"
   ]
  },
  {
   "cell_type": "code",
   "execution_count": 3,
   "metadata": {},
   "outputs": [
    {
     "data": {
      "text/html": [
       "<div>\n",
       "<style scoped>\n",
       "    .dataframe tbody tr th:only-of-type {\n",
       "        vertical-align: middle;\n",
       "    }\n",
       "\n",
       "    .dataframe tbody tr th {\n",
       "        vertical-align: top;\n",
       "    }\n",
       "\n",
       "    .dataframe thead th {\n",
       "        text-align: right;\n",
       "    }\n",
       "</style>\n",
       "<table border=\"1\" class=\"dataframe\">\n",
       "  <thead>\n",
       "    <tr style=\"text-align: right;\">\n",
       "      <th></th>\n",
       "      <th>Unnamed: 0</th>\n",
       "      <th>TropeID</th>\n",
       "      <th>Trope</th>\n",
       "      <th>Description</th>\n",
       "    </tr>\n",
       "  </thead>\n",
       "  <tbody>\n",
       "    <tr>\n",
       "      <th>0</th>\n",
       "      <td>0</td>\n",
       "      <td>t00001</td>\n",
       "      <td>AbandonedArea</td>\n",
       "      <td>\\nAbandoned places make good settings for fict...</td>\n",
       "    </tr>\n",
       "    <tr>\n",
       "      <th>1</th>\n",
       "      <td>1</td>\n",
       "      <td>t00002</td>\n",
       "      <td>AbandonedCatchphrase</td>\n",
       "      <td>Catchphrases are a great and simple way to hel...</td>\n",
       "    </tr>\n",
       "    <tr>\n",
       "      <th>2</th>\n",
       "      <td>2</td>\n",
       "      <td>t00003</td>\n",
       "      <td>AbandonedHospital</td>\n",
       "      <td>The creepy abandoned hospital/mental instituti...</td>\n",
       "    </tr>\n",
       "    <tr>\n",
       "      <th>3</th>\n",
       "      <td>3</td>\n",
       "      <td>t00004</td>\n",
       "      <td>AbandonedHospitalAwakening</td>\n",
       "      <td>An Abandoned Hospital Awakening is, as the nam...</td>\n",
       "    </tr>\n",
       "    <tr>\n",
       "      <th>4</th>\n",
       "      <td>4</td>\n",
       "      <td>t00005</td>\n",
       "      <td>AbandonedInfoPage</td>\n",
       "      <td>When a work is getting more and more complicat...</td>\n",
       "    </tr>\n",
       "  </tbody>\n",
       "</table>\n",
       "</div>"
      ],
      "text/plain": [
       "   Unnamed: 0 TropeID                       Trope  \\\n",
       "0           0  t00001               AbandonedArea   \n",
       "1           1  t00002        AbandonedCatchphrase   \n",
       "2           2  t00003           AbandonedHospital   \n",
       "3           3  t00004  AbandonedHospitalAwakening   \n",
       "4           4  t00005           AbandonedInfoPage   \n",
       "\n",
       "                                         Description  \n",
       "0  \\nAbandoned places make good settings for fict...  \n",
       "1  Catchphrases are a great and simple way to hel...  \n",
       "2  The creepy abandoned hospital/mental instituti...  \n",
       "3  An Abandoned Hospital Awakening is, as the nam...  \n",
       "4  When a work is getting more and more complicat...  "
      ]
     },
     "execution_count": 3,
     "metadata": {},
     "output_type": "execute_result"
    }
   ],
   "source": [
    "tropes_df.head()"
   ]
  },
  {
   "cell_type": "code",
   "execution_count": 9,
   "metadata": {},
   "outputs": [
    {
     "name": "stdout",
     "output_type": "stream",
     "text": [
      "TROPE:\n",
      "AbandonedCatchphrase\n",
      "DESC:\n",
      "Catchphrases are a great and simple way to help a character's image. But sometimes, catchphrases don't stick. Perhaps the writers were experimenting with one early on, but eventually decided against it. Or perhaps a catchphrase was done to death and is no longer funny. Or sometimes, a character simply evolves and the catchphrase no longer fits the character.\n",
      "Whatever the reason, this trope is whenever an early catchphrase is dropped or becomes used seldom. This is a catchphrase specific sub-trope of Early Installment Weirdness, and frequently a result of Characterization Marches On and Character Development. The closest inverse to this would be Flanderization (wherein a character's catchphrase acts as a quirk that takes over their personality). Unrelated to Subverted Catch Phrase.\n"
     ]
    }
   ],
   "source": [
    "idx = 1\n",
    "print(\"TROPE:\")\n",
    "print(tropes_df.iloc[idx][\"Trope\"])\n",
    "print(\"DESC:\")\n",
    "print(tropes_df.iloc[idx][\"Description\"].strip())"
   ]
  },
  {
   "cell_type": "code",
   "execution_count": 11,
   "metadata": {},
   "outputs": [
    {
     "name": "stdout",
     "output_type": "stream",
     "text": [
      "(751594, 6) Index(['Unnamed: 0', 'Title', 'Trope', 'Example', 'trope_id', 'title_id'], dtype='object')\n"
     ]
    }
   ],
   "source": [
    "# film-tropes table (tropes in films)\n",
    "film_tropes_fname = \"story/TVTropesData/film_tropes.csv\"\n",
    "film_tropes_fpath = os.path.join(settings.data_dir, film_tropes_fname)\n",
    "\n",
    "film_tropes_df = pd.read_csv(film_tropes_fpath)\n",
    "print(film_tropes_df.shape, film_tropes_df.columns)"
   ]
  },
  {
   "cell_type": "code",
   "execution_count": 15,
   "metadata": {},
   "outputs": [
    {
     "data": {
      "text/plain": [
       "(17019, array(['f0', 'f1', 'f2', 'f3', 'f4'], dtype=object))"
      ]
     },
     "execution_count": 15,
     "metadata": {},
     "output_type": "execute_result"
    }
   ],
   "source": [
    "film_title_ids = film_tropes_df.title_id.unique()\n",
    "len(film_title_ids), film_title_ids[:5]"
   ]
  },
  {
   "cell_type": "code",
   "execution_count": 17,
   "metadata": {},
   "outputs": [
    {
     "name": "stdout",
     "output_type": "stream",
     "text": [
      "(35, 6)\n"
     ]
    }
   ],
   "source": [
    "title_rows = film_tropes_df[film_tropes_df.title_id=='f0']\n",
    "print(title_rows.shape)"
   ]
  },
  {
   "cell_type": "code",
   "execution_count": 22,
   "metadata": {},
   "outputs": [
    {
     "name": "stdout",
     "output_type": "stream",
     "text": [
      "Title: ABBATheMovie\n",
      "MsFanservice\n",
      "The concert segments make it clear that Agnetha and Frida's looks play a big part of the band's act; the \"Get on the Carousel\"/\"I'm a Marionette\" segment has them in form-fitting leotards that have them cut very shapely figures, and Frida at points also wears very short shorts (such as in one performance of \"Why Did It Have to Be Me?\"), leading to some sensationalist headlines hoping for a  Wardrobe Malfunction . And that's not even counting the repeated mentions about Agnetha's bottom.\n",
      "------------------------------\n",
      "InsistentTerminology\n",
      "The radio station manager that tasks Ashley with delivering an interview with the band insists that it's not an interview, it's a  dialogue , and when Ashley asks if he wants him to do a documentary, he says that it's not a documentary, it's an  event .\n",
      "------------------------------\n",
      "TheIngenue\n",
      "A rare male example; when Benny reads one newspaper reporting about the band asking for a \"kinky bed\", he ask what \"kinky\" means. Then again, this could also be because English isn't his native language.\n",
      "------------------------------\n",
      "GettingCrapPastTheRadar\n",
      "During Ashley's fantasy sequence in which he imagines Agnetha and Frida being in love with him, at one point Agnetha and Frida are both draped over him in an  Almost Kiss  before it cuts away to another scene, which  really  looks like it's  cutting away  from a  threesome .\n",
      "------------------------------\n",
      "WhoWearsShortShorts\n",
      "Frida's outfit in the \"Why Did It Have to Be Me?\" number has her in white shorts.\n",
      "------------------------------\n"
     ]
    }
   ],
   "source": [
    "print(\"Title:\",title_rows.iloc[0][\"Title\"])\n",
    "# for i in range(title_rows.shape[0]):\n",
    "for i in range(5):\n",
    "    row = title_rows.iloc[i]\n",
    "    print(row[\"Trope\"])\n",
    "    print(row[\"Example\"].strip())\n",
    "    print('-'*30)"
   ]
  }
 ],
 "metadata": {
  "kernelspec": {
   "display_name": "llm",
   "language": "python",
   "name": "llm"
  },
  "language_info": {
   "codemirror_mode": {
    "name": "ipython",
    "version": 3
   },
   "file_extension": ".py",
   "mimetype": "text/x-python",
   "name": "python",
   "nbconvert_exporter": "python",
   "pygments_lexer": "ipython3",
   "version": "3.10.14"
  }
 },
 "nbformat": 4,
 "nbformat_minor": 2
}
