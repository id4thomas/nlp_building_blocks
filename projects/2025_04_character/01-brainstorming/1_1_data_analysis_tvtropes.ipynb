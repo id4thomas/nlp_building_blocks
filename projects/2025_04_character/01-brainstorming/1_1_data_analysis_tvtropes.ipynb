{
 "cells": [
  {
   "cell_type": "code",
   "execution_count": 44,
   "metadata": {},
   "outputs": [],
   "source": [
    "import os\n",
    "from enum import Enum\n",
    "import random\n",
    "from typing import Any, Dict, List\n",
    "\n",
    "import matplotlib.pyplot as plt\n",
    "from openai import OpenAI, AsyncOpenAI\n",
    "import pandas as pd\n",
    "import pprint\n",
    "from pydantic import BaseModel, Extra, Field\n",
    "import tiktoken\n",
    "\n",
    "from config import settings"
   ]
  },
  {
   "cell_type": "code",
   "execution_count": 2,
   "metadata": {},
   "outputs": [],
   "source": [
    "openai_client = OpenAI(api_key=settings.openai_api_key)"
   ]
  },
  {
   "cell_type": "code",
   "execution_count": 3,
   "metadata": {},
   "outputs": [],
   "source": [
    "tokenizer = tiktoken.encoding_for_model(\"gpt-4o\")"
   ]
  },
  {
   "cell_type": "code",
   "execution_count": 4,
   "metadata": {},
   "outputs": [
    {
     "data": {
      "text/plain": [
       "2"
      ]
     },
     "execution_count": 4,
     "metadata": {},
     "output_type": "execute_result"
    }
   ],
   "source": [
    "def calculate_tokens(text):\n",
    "    return len(tokenizer.encode(text))\n",
    "calculate_tokens(\"hello world\")"
   ]
  },
  {
   "cell_type": "markdown",
   "metadata": {},
   "source": [
    "# TVTropes Dataset\n",
    "* https://github.com/dhruvilgala/tvtropes"
   ]
  },
  {
   "cell_type": "code",
   "execution_count": 5,
   "metadata": {},
   "outputs": [
    {
     "name": "stdout",
     "output_type": "stream",
     "text": [
      "(30984, 4) Index(['Unnamed: 0', 'TropeID', 'Trope', 'Description'], dtype='object')\n"
     ]
    }
   ],
   "source": [
    "# tropes table\n",
    "tropes_fname = \"story/TVTropesData/tropes.csv\"\n",
    "tropes_fpath = os.path.join(settings.data_dir, tropes_fname)\n",
    "\n",
    "tropes_df = pd.read_csv(tropes_fpath)\n",
    "print(tropes_df.shape, tropes_df.columns)"
   ]
  },
  {
   "cell_type": "code",
   "execution_count": 6,
   "metadata": {},
   "outputs": [
    {
     "data": {
      "text/html": [
       "<div>\n",
       "<style scoped>\n",
       "    .dataframe tbody tr th:only-of-type {\n",
       "        vertical-align: middle;\n",
       "    }\n",
       "\n",
       "    .dataframe tbody tr th {\n",
       "        vertical-align: top;\n",
       "    }\n",
       "\n",
       "    .dataframe thead th {\n",
       "        text-align: right;\n",
       "    }\n",
       "</style>\n",
       "<table border=\"1\" class=\"dataframe\">\n",
       "  <thead>\n",
       "    <tr style=\"text-align: right;\">\n",
       "      <th></th>\n",
       "      <th>Unnamed: 0</th>\n",
       "      <th>TropeID</th>\n",
       "      <th>Trope</th>\n",
       "      <th>Description</th>\n",
       "    </tr>\n",
       "  </thead>\n",
       "  <tbody>\n",
       "    <tr>\n",
       "      <th>0</th>\n",
       "      <td>0</td>\n",
       "      <td>t00001</td>\n",
       "      <td>AbandonedArea</td>\n",
       "      <td>\\nAbandoned places make good settings for fict...</td>\n",
       "    </tr>\n",
       "    <tr>\n",
       "      <th>1</th>\n",
       "      <td>1</td>\n",
       "      <td>t00002</td>\n",
       "      <td>AbandonedCatchphrase</td>\n",
       "      <td>Catchphrases are a great and simple way to hel...</td>\n",
       "    </tr>\n",
       "    <tr>\n",
       "      <th>2</th>\n",
       "      <td>2</td>\n",
       "      <td>t00003</td>\n",
       "      <td>AbandonedHospital</td>\n",
       "      <td>The creepy abandoned hospital/mental instituti...</td>\n",
       "    </tr>\n",
       "    <tr>\n",
       "      <th>3</th>\n",
       "      <td>3</td>\n",
       "      <td>t00004</td>\n",
       "      <td>AbandonedHospitalAwakening</td>\n",
       "      <td>An Abandoned Hospital Awakening is, as the nam...</td>\n",
       "    </tr>\n",
       "    <tr>\n",
       "      <th>4</th>\n",
       "      <td>4</td>\n",
       "      <td>t00005</td>\n",
       "      <td>AbandonedInfoPage</td>\n",
       "      <td>When a work is getting more and more complicat...</td>\n",
       "    </tr>\n",
       "  </tbody>\n",
       "</table>\n",
       "</div>"
      ],
      "text/plain": [
       "   Unnamed: 0 TropeID                       Trope  \\\n",
       "0           0  t00001               AbandonedArea   \n",
       "1           1  t00002        AbandonedCatchphrase   \n",
       "2           2  t00003           AbandonedHospital   \n",
       "3           3  t00004  AbandonedHospitalAwakening   \n",
       "4           4  t00005           AbandonedInfoPage   \n",
       "\n",
       "                                         Description  \n",
       "0  \\nAbandoned places make good settings for fict...  \n",
       "1  Catchphrases are a great and simple way to hel...  \n",
       "2  The creepy abandoned hospital/mental instituti...  \n",
       "3  An Abandoned Hospital Awakening is, as the nam...  \n",
       "4  When a work is getting more and more complicat...  "
      ]
     },
     "execution_count": 6,
     "metadata": {},
     "output_type": "execute_result"
    }
   ],
   "source": [
    "tropes_df.head()"
   ]
  },
  {
   "cell_type": "code",
   "execution_count": 7,
   "metadata": {},
   "outputs": [
    {
     "name": "stdout",
     "output_type": "stream",
     "text": [
      "TROPE:\n",
      "AbandonedCatchphrase\n",
      "DESC:\n",
      "Catchphrases are a great and simple way to help a character's image. But sometimes, catchphrases don't stick. Perhaps the writers were experimenting with one early on, but eventually decided against it. Or perhaps a catchphrase was done to death and is no longer funny. Or sometimes, a character simply evolves and the catchphrase no longer fits the character.\n",
      "Whatever the reason, this trope is whenever an early catchphrase is dropped or becomes used seldom. This is a catchphrase specific sub-trope of Early Installment Weirdness, and frequently a result of Characterization Marches On and Character Development. The closest inverse to this would be Flanderization (wherein a character's catchphrase acts as a quirk that takes over their personality). Unrelated to Subverted Catch Phrase.\n"
     ]
    }
   ],
   "source": [
    "idx = 1\n",
    "print(\"TROPE:\")\n",
    "print(tropes_df.iloc[idx][\"Trope\"])\n",
    "print(\"DESC:\")\n",
    "print(tropes_df.iloc[idx][\"Description\"].strip())"
   ]
  },
  {
   "cell_type": "code",
   "execution_count": 8,
   "metadata": {},
   "outputs": [
    {
     "name": "stdout",
     "output_type": "stream",
     "text": [
      "(751594, 6) Index(['Unnamed: 0', 'Title', 'Trope', 'Example', 'trope_id', 'title_id'], dtype='object')\n"
     ]
    }
   ],
   "source": [
    "# film-tropes table (tropes in films)\n",
    "film_tropes_fname = \"story/TVTropesData/film_tropes.csv\"\n",
    "film_tropes_fpath = os.path.join(settings.data_dir, film_tropes_fname)\n",
    "\n",
    "film_tropes_df = pd.read_csv(film_tropes_fpath)\n",
    "print(film_tropes_df.shape, film_tropes_df.columns)"
   ]
  },
  {
   "cell_type": "code",
   "execution_count": 9,
   "metadata": {},
   "outputs": [
    {
     "data": {
      "text/plain": [
       "(17019, array(['f0', 'f1', 'f2', 'f3', 'f4'], dtype=object))"
      ]
     },
     "execution_count": 9,
     "metadata": {},
     "output_type": "execute_result"
    }
   ],
   "source": [
    "film_title_ids = film_tropes_df.title_id.unique()\n",
    "len(film_title_ids), film_title_ids[:5]"
   ]
  },
  {
   "cell_type": "code",
   "execution_count": 10,
   "metadata": {},
   "outputs": [
    {
     "name": "stdout",
     "output_type": "stream",
     "text": [
      "(35, 6)\n"
     ]
    }
   ],
   "source": [
    "title_rows = film_tropes_df[film_tropes_df.title_id=='f0']\n",
    "print(title_rows.shape)"
   ]
  },
  {
   "cell_type": "code",
   "execution_count": 11,
   "metadata": {},
   "outputs": [
    {
     "name": "stdout",
     "output_type": "stream",
     "text": [
      "Title: ABBATheMovie\n",
      "MsFanservice\n",
      "The concert segments make it clear that Agnetha and Frida's looks play a big part of the band's act; the \"Get on the Carousel\"/\"I'm a Marionette\" segment has them in form-fitting leotards that have them cut very shapely figures, and Frida at points also wears very short shorts (such as in one performance of \"Why Did It Have to Be Me?\"), leading to some sensationalist headlines hoping for a  Wardrobe Malfunction . And that's not even counting the repeated mentions about Agnetha's bottom.\n",
      "------------------------------\n",
      "InsistentTerminology\n",
      "The radio station manager that tasks Ashley with delivering an interview with the band insists that it's not an interview, it's a  dialogue , and when Ashley asks if he wants him to do a documentary, he says that it's not a documentary, it's an  event .\n",
      "------------------------------\n",
      "TheIngenue\n",
      "A rare male example; when Benny reads one newspaper reporting about the band asking for a \"kinky bed\", he ask what \"kinky\" means. Then again, this could also be because English isn't his native language.\n",
      "------------------------------\n",
      "GettingCrapPastTheRadar\n",
      "During Ashley's fantasy sequence in which he imagines Agnetha and Frida being in love with him, at one point Agnetha and Frida are both draped over him in an  Almost Kiss  before it cuts away to another scene, which  really  looks like it's  cutting away  from a  threesome .\n",
      "------------------------------\n",
      "WhoWearsShortShorts\n",
      "Frida's outfit in the \"Why Did It Have to Be Me?\" number has her in white shorts.\n",
      "------------------------------\n"
     ]
    }
   ],
   "source": [
    "print(\"Title:\",title_rows.iloc[0][\"Title\"])\n",
    "# for i in range(title_rows.shape[0]):\n",
    "for i in range(5):\n",
    "    row = title_rows.iloc[i]\n",
    "    print(row[\"Trope\"])\n",
    "    print(row[\"Example\"].strip())\n",
    "    print('-'*30)"
   ]
  },
  {
   "cell_type": "code",
   "execution_count": 45,
   "metadata": {},
   "outputs": [
    {
     "name": "stdout",
     "output_type": "stream",
     "text": [
      "(390511, 8) Index(['Unnamed: 0', 'Title', 'Trope', 'Example', 'CleanTitle', 'tconst',\n",
      "       'trope_id', 'title_id'],\n",
      "      dtype='object')\n"
     ]
    }
   ],
   "source": [
    "# film-imdb-match table (tropes in films)\n",
    "film_imdb_match_fname = \"story/TVTropesData/film_imdb_match.csv\"\n",
    "film_imdb_match_fpath = os.path.join(settings.data_dir, film_imdb_match_fname)\n",
    "\n",
    "film_imdb_match_df = pd.read_csv(film_imdb_match_fpath)\n",
    "print(film_imdb_match_df.shape, film_imdb_match_df.columns)"
   ]
  },
  {
   "cell_type": "code",
   "execution_count": 46,
   "metadata": {},
   "outputs": [
    {
     "data": {
      "text/html": [
       "<div>\n",
       "<style scoped>\n",
       "    .dataframe tbody tr th:only-of-type {\n",
       "        vertical-align: middle;\n",
       "    }\n",
       "\n",
       "    .dataframe tbody tr th {\n",
       "        vertical-align: top;\n",
       "    }\n",
       "\n",
       "    .dataframe thead th {\n",
       "        text-align: right;\n",
       "    }\n",
       "</style>\n",
       "<table border=\"1\" class=\"dataframe\">\n",
       "  <thead>\n",
       "    <tr style=\"text-align: right;\">\n",
       "      <th></th>\n",
       "      <th>Unnamed: 0</th>\n",
       "      <th>Title</th>\n",
       "      <th>Trope</th>\n",
       "      <th>Example</th>\n",
       "      <th>CleanTitle</th>\n",
       "      <th>tconst</th>\n",
       "      <th>trope_id</th>\n",
       "      <th>title_id</th>\n",
       "    </tr>\n",
       "  </thead>\n",
       "  <tbody>\n",
       "    <tr>\n",
       "      <th>0</th>\n",
       "      <td>0</td>\n",
       "      <td>ABBATheMovie</td>\n",
       "      <td>MsFanservice</td>\n",
       "      <td>The concert segments make it clear that Agnet...</td>\n",
       "      <td>abbathemovie</td>\n",
       "      <td>tt0075617</td>\n",
       "      <td>t14656</td>\n",
       "      <td>f0</td>\n",
       "    </tr>\n",
       "    <tr>\n",
       "      <th>1</th>\n",
       "      <td>1</td>\n",
       "      <td>ABBATheMovie</td>\n",
       "      <td>InsistentTerminology</td>\n",
       "      <td>The radio station manager that tasks Ashley w...</td>\n",
       "      <td>abbathemovie</td>\n",
       "      <td>tt0075617</td>\n",
       "      <td>t11527</td>\n",
       "      <td>f0</td>\n",
       "    </tr>\n",
       "    <tr>\n",
       "      <th>2</th>\n",
       "      <td>2</td>\n",
       "      <td>ABBATheMovie</td>\n",
       "      <td>TheIngenue</td>\n",
       "      <td>A rare male example; when Benny reads one new...</td>\n",
       "      <td>abbathemovie</td>\n",
       "      <td>tt0075617</td>\n",
       "      <td>t23019</td>\n",
       "      <td>f0</td>\n",
       "    </tr>\n",
       "    <tr>\n",
       "      <th>3</th>\n",
       "      <td>3</td>\n",
       "      <td>ABBATheMovie</td>\n",
       "      <td>GettingCrapPastTheRadar</td>\n",
       "      <td>During Ashley's fantasy sequence in which he ...</td>\n",
       "      <td>abbathemovie</td>\n",
       "      <td>tt0075617</td>\n",
       "      <td>t09016</td>\n",
       "      <td>f0</td>\n",
       "    </tr>\n",
       "    <tr>\n",
       "      <th>4</th>\n",
       "      <td>4</td>\n",
       "      <td>ABBATheMovie</td>\n",
       "      <td>WhoWearsShortShorts</td>\n",
       "      <td>Frida's outfit in the \"Why Did It Have to Be ...</td>\n",
       "      <td>abbathemovie</td>\n",
       "      <td>tt0075617</td>\n",
       "      <td>t25994</td>\n",
       "      <td>f0</td>\n",
       "    </tr>\n",
       "  </tbody>\n",
       "</table>\n",
       "</div>"
      ],
      "text/plain": [
       "   Unnamed: 0         Title                    Trope  \\\n",
       "0           0  ABBATheMovie             MsFanservice   \n",
       "1           1  ABBATheMovie     InsistentTerminology   \n",
       "2           2  ABBATheMovie               TheIngenue   \n",
       "3           3  ABBATheMovie  GettingCrapPastTheRadar   \n",
       "4           4  ABBATheMovie      WhoWearsShortShorts   \n",
       "\n",
       "                                             Example    CleanTitle     tconst  \\\n",
       "0   The concert segments make it clear that Agnet...  abbathemovie  tt0075617   \n",
       "1   The radio station manager that tasks Ashley w...  abbathemovie  tt0075617   \n",
       "2   A rare male example; when Benny reads one new...  abbathemovie  tt0075617   \n",
       "3   During Ashley's fantasy sequence in which he ...  abbathemovie  tt0075617   \n",
       "4   Frida's outfit in the \"Why Did It Have to Be ...  abbathemovie  tt0075617   \n",
       "\n",
       "  trope_id title_id  \n",
       "0   t14656       f0  \n",
       "1   t11527       f0  \n",
       "2   t23019       f0  \n",
       "3   t09016       f0  \n",
       "4   t25994       f0  "
      ]
     },
     "execution_count": 46,
     "metadata": {},
     "output_type": "execute_result"
    }
   ],
   "source": [
    "film_imdb_match_df.head()"
   ]
  },
  {
   "cell_type": "markdown",
   "metadata": {},
   "source": [
    "# index"
   ]
  },
  {
   "cell_type": "code",
   "execution_count": 16,
   "metadata": {},
   "outputs": [],
   "source": [
    "from llama_index.core import (\n",
    "\tDocument,\n",
    "\tSimpleDirectoryReader, VectorStoreIndex,\n",
    "\tStorageContext,\n",
    "\tSettings,\n",
    "\tQueryBundle\n",
    ")\n",
    "from llama_index.core.indices.vector_store.base import VectorStoreIndex\n",
    "from llama_index.vector_stores.qdrant import QdrantVectorStore\n",
    "\n",
    "from llama_index.embeddings.text_embeddings_inference import (\n",
    "    TextEmbeddingsInference,\n",
    ")\n",
    "from qdrant_client import QdrantClient\n",
    "from config import app_settings"
   ]
  },
  {
   "cell_type": "code",
   "execution_count": 17,
   "metadata": {},
   "outputs": [],
   "source": [
    "embedder = TextEmbeddingsInference(\n",
    "    settings.embedding_model,\n",
    "    base_url=settings.embedding_base_url,\n",
    "    auth_token=settings.embedding_api_key\n",
    ")\n",
    "Settings.embed_model = embedder"
   ]
  },
  {
   "cell_type": "code",
   "execution_count": 18,
   "metadata": {},
   "outputs": [],
   "source": [
    "client = QdrantClient(host=\"localhost\", port=app_settings.qdrant_port)\n",
    "\n",
    "vector_store = QdrantVectorStore(client=client, collection_name=\"tropes\")\n",
    "storage_context = StorageContext.from_defaults(vector_store=vector_store)"
   ]
  },
  {
   "cell_type": "code",
   "execution_count": null,
   "metadata": {},
   "outputs": [],
   "source": [
    "def make_document(row):\n",
    "    text = \"Trope: {}\\n{}\".format(\n",
    "        row['Trope'], row['Description'].strip()\n",
    "    )\n",
    "    document = Document(\n",
    "        text = text,\n",
    "        metadata = {\n",
    "            \"TropeID\": row[\"TropeID\"]\n",
    "        },\n",
    "        text_template='{content}'\n",
    "    )\n",
    "    return document\n",
    "\n",
    "documents = [make_document(tropes_df.iloc[i]) for i in range(tropes_df.shape[0])]"
   ]
  },
  {
   "cell_type": "code",
   "execution_count": 20,
   "metadata": {},
   "outputs": [
    {
     "data": {
      "application/vnd.jupyter.widget-view+json": {
       "model_id": "c7f705102d824ff5a76df91fcb1cce42",
       "version_major": 2,
       "version_minor": 0
      },
      "text/plain": [
       "Parsing nodes:   0%|          | 0/30984 [00:00<?, ?it/s]"
      ]
     },
     "metadata": {},
     "output_type": "display_data"
    },
    {
     "data": {
      "application/vnd.jupyter.widget-view+json": {
       "model_id": "3c1f6c60d1c14e8baf41e0d5ac661e88",
       "version_major": 2,
       "version_minor": 0
      },
      "text/plain": [
       "Generating embeddings:   0%|          | 0/2048 [00:00<?, ?it/s]"
      ]
     },
     "metadata": {},
     "output_type": "display_data"
    },
    {
     "data": {
      "application/vnd.jupyter.widget-view+json": {
       "model_id": "0140ea7b77824cbab541f020fd41d3f4",
       "version_major": 2,
       "version_minor": 0
      },
      "text/plain": [
       "Generating embeddings:   0%|          | 0/2048 [00:00<?, ?it/s]"
      ]
     },
     "metadata": {},
     "output_type": "display_data"
    },
    {
     "data": {
      "application/vnd.jupyter.widget-view+json": {
       "model_id": "17cd2293342b4a3f80279581352e26e0",
       "version_major": 2,
       "version_minor": 0
      },
      "text/plain": [
       "Generating embeddings:   0%|          | 0/2048 [00:00<?, ?it/s]"
      ]
     },
     "metadata": {},
     "output_type": "display_data"
    },
    {
     "data": {
      "application/vnd.jupyter.widget-view+json": {
       "model_id": "c023012cb40149608c37a65d19503d18",
       "version_major": 2,
       "version_minor": 0
      },
      "text/plain": [
       "Generating embeddings:   0%|          | 0/2048 [00:00<?, ?it/s]"
      ]
     },
     "metadata": {},
     "output_type": "display_data"
    },
    {
     "data": {
      "application/vnd.jupyter.widget-view+json": {
       "model_id": "f680cb8db19f4072945881b2960872be",
       "version_major": 2,
       "version_minor": 0
      },
      "text/plain": [
       "Generating embeddings:   0%|          | 0/2048 [00:00<?, ?it/s]"
      ]
     },
     "metadata": {},
     "output_type": "display_data"
    },
    {
     "data": {
      "application/vnd.jupyter.widget-view+json": {
       "model_id": "4a72fb4d01ce40a183588195a68ec056",
       "version_major": 2,
       "version_minor": 0
      },
      "text/plain": [
       "Generating embeddings:   0%|          | 0/2048 [00:00<?, ?it/s]"
      ]
     },
     "metadata": {},
     "output_type": "display_data"
    },
    {
     "data": {
      "application/vnd.jupyter.widget-view+json": {
       "model_id": "2c24caf232e04ff0955e7f79218bca7b",
       "version_major": 2,
       "version_minor": 0
      },
      "text/plain": [
       "Generating embeddings:   0%|          | 0/2048 [00:00<?, ?it/s]"
      ]
     },
     "metadata": {},
     "output_type": "display_data"
    },
    {
     "data": {
      "application/vnd.jupyter.widget-view+json": {
       "model_id": "6e618ae3c1f3473cbdfefb69d653174f",
       "version_major": 2,
       "version_minor": 0
      },
      "text/plain": [
       "Generating embeddings:   0%|          | 0/2048 [00:00<?, ?it/s]"
      ]
     },
     "metadata": {},
     "output_type": "display_data"
    },
    {
     "data": {
      "application/vnd.jupyter.widget-view+json": {
       "model_id": "5542334e17214f1095cc5bb2418f1687",
       "version_major": 2,
       "version_minor": 0
      },
      "text/plain": [
       "Generating embeddings:   0%|          | 0/2048 [00:00<?, ?it/s]"
      ]
     },
     "metadata": {},
     "output_type": "display_data"
    },
    {
     "data": {
      "application/vnd.jupyter.widget-view+json": {
       "model_id": "193ac44086c84a1fbc090c6fa5c444b5",
       "version_major": 2,
       "version_minor": 0
      },
      "text/plain": [
       "Generating embeddings:   0%|          | 0/2048 [00:00<?, ?it/s]"
      ]
     },
     "metadata": {},
     "output_type": "display_data"
    },
    {
     "data": {
      "application/vnd.jupyter.widget-view+json": {
       "model_id": "0e220617b27f4b4bbf32045739d50f66",
       "version_major": 2,
       "version_minor": 0
      },
      "text/plain": [
       "Generating embeddings:   0%|          | 0/2048 [00:00<?, ?it/s]"
      ]
     },
     "metadata": {},
     "output_type": "display_data"
    },
    {
     "data": {
      "application/vnd.jupyter.widget-view+json": {
       "model_id": "fe93bd9aae2747dc887757e079179bc9",
       "version_major": 2,
       "version_minor": 0
      },
      "text/plain": [
       "Generating embeddings:   0%|          | 0/2048 [00:00<?, ?it/s]"
      ]
     },
     "metadata": {},
     "output_type": "display_data"
    },
    {
     "data": {
      "application/vnd.jupyter.widget-view+json": {
       "model_id": "05c339dcf00a47ff923ac084b38249fb",
       "version_major": 2,
       "version_minor": 0
      },
      "text/plain": [
       "Generating embeddings:   0%|          | 0/2048 [00:00<?, ?it/s]"
      ]
     },
     "metadata": {},
     "output_type": "display_data"
    },
    {
     "data": {
      "application/vnd.jupyter.widget-view+json": {
       "model_id": "a1f92802a34043afb206dfc2be28a2c3",
       "version_major": 2,
       "version_minor": 0
      },
      "text/plain": [
       "Generating embeddings:   0%|          | 0/2048 [00:00<?, ?it/s]"
      ]
     },
     "metadata": {},
     "output_type": "display_data"
    },
    {
     "data": {
      "application/vnd.jupyter.widget-view+json": {
       "model_id": "38a416a0fca44421a1a7590d9f715102",
       "version_major": 2,
       "version_minor": 0
      },
      "text/plain": [
       "Generating embeddings:   0%|          | 0/2048 [00:00<?, ?it/s]"
      ]
     },
     "metadata": {},
     "output_type": "display_data"
    },
    {
     "data": {
      "application/vnd.jupyter.widget-view+json": {
       "model_id": "3c92f140b66541beb1e99da617f0c5bb",
       "version_major": 2,
       "version_minor": 0
      },
      "text/plain": [
       "Generating embeddings:   0%|          | 0/962 [00:00<?, ?it/s]"
      ]
     },
     "metadata": {},
     "output_type": "display_data"
    }
   ],
   "source": [
    "index = VectorStoreIndex.from_documents(\n",
    "    documents,\n",
    "    storage_context=storage_context,\n",
    "    embed_model = embedder,\n",
    "    show_progress = True,\n",
    "    transformations = [],\n",
    ")"
   ]
  },
  {
   "cell_type": "code",
   "execution_count": 21,
   "metadata": {},
   "outputs": [
    {
     "data": {
      "text/plain": [
       "<llama_index.core.indices.vector_store.base.VectorStoreIndex at 0x15b1edd50>"
      ]
     },
     "execution_count": 21,
     "metadata": {},
     "output_type": "execute_result"
    }
   ],
   "source": [
    "index"
   ]
  },
  {
   "cell_type": "code",
   "execution_count": 22,
   "metadata": {},
   "outputs": [],
   "source": [
    "retriever_args = {\"similarity_top_k\": 10}\n",
    "retriever = index.as_retriever(**retriever_args)"
   ]
  },
  {
   "cell_type": "markdown",
   "metadata": {},
   "source": [
    "# Query\n",
    "make a story trope between 2 characters from simschat using o3-mini-high\n",
    "* \"Vivienne LaRoux\" (00d66087-9b3b-46da-bd74-bf45cbe81d3c)\n",
    "    * Female, 28, Style Influencer\n",
    "* \"Zephyr Orion\" (35f0c56f-263d-42df-846c-e1833d8ca0ab)\n",
    "    * Male, 28, Astronaut\n",
    "\n",
    "\n",
    "## Prompt\n",
    "```\n",
    "Given the following 2 character specifications write 3 story tropes that are suitable for the interaction of these characters.\n",
    "interaction is character 1->character2\n",
    "\n",
    "[Character1]\n",
    "{{character1}}\n",
    "[Character2]\n",
    "{{character2}}\n",
    "\n",
    "Return in the following json format\n",
    "{\"tropes\": List[str]}\n",
    "\n",
    "Rules:\n",
    "* the tropes must be detailed description in minimum 3 sentences.\n",
    "* the tropes must focus on character behavioral interaction and less about the surrounding settings of the characters\n",
    "```"
   ]
  },
  {
   "cell_type": "code",
   "execution_count": 39,
   "metadata": {},
   "outputs": [
    {
     "name": "stdout",
     "output_type": "stream",
     "text": [
      "('Cosmic Charmer Meets Fashionable Realist: Zephyr’s playful banter and '\n",
      " 'captivating tales of space adventures are directed toward Vivienne, whose '\n",
      " 'confident and sometimes sharp-tongued demeanor creates a fascinating '\n",
      " 'counterpoint. He tries to charm her with humor and exuberance, even sharing '\n",
      " 'personal quirks and prized memorabilia in his storytelling. Vivienne, with '\n",
      " 'her intellectual brilliance and stylish assertiveness, responds with '\n",
      " 'measured, sometimes dismissive remarks, sparking a witty verbal dance that '\n",
      " 'reveals both their vulnerabilities and strengths.')\n"
     ]
    }
   ],
   "source": [
    "# tropes\n",
    "# try1\n",
    "# tropes = [\n",
    "#     \"Celestial Charm vs. Urban Chic: Zephyr Orion’s playful, space-faring spirit meets Vivienne LaRoux’s sleek, high-fashion attitude in a clash of lifestyles. His witty, adventurous banter serves as a counterpoint to her assertive and sometimes dismissive sophistication, creating a dynamic tension that is both humorous and endearing. As Zephyr attempts to bridge the cosmic with the couture, both characters are forced to confront their own preconceptions and discover hidden depths beneath their outward facades.\",\n",
    "#     \"Stars Align on the Runway: In this trope, Zephyr uses his infectious enthusiasm and captivating space adventure stories to charm Vivienne, whose cool demeanor and stylish insights challenge his every word. Their encounter transforms a simple conversation into a runway where cosmic dreams meet high-fashion realities, revealing unexpected vulnerabilities and shared aspirations. Over time, the playful interjections of Zephyr begin to soften Vivienne’s guarded exterior, sparking a journey where differences illuminate common ground.\",\n",
    "#     \"Cosmic Coaxing of a Sophisticated Heart: Here, Zephyr’s jovial, ambitious nature is put to the test as he attempts to win over Vivienne’s sophisticated yet guarded heart. His goofball charm and materialistic bragging about his interstellar exploits clash with her sharp, dismissive remarks, yet gradually reveal moments of genuine connection. Through persistent humor and heartfelt storytelling, Zephyr slowly unravels Vivienne’s noncommittal shell, allowing both characters to experience personal growth and a surprising, unconventional camaraderie.\"\n",
    "# ]\n",
    "\n",
    "# try2\n",
    "tropes = [\n",
    "    \"Cosmic Charmer Meets Fashionable Realist: Zephyr’s playful banter and captivating tales of space adventures are directed toward Vivienne, whose confident and sometimes sharp-tongued demeanor creates a fascinating counterpoint. He tries to charm her with humor and exuberance, even sharing personal quirks and prized memorabilia in his storytelling. Vivienne, with her intellectual brilliance and stylish assertiveness, responds with measured, sometimes dismissive remarks, sparking a witty verbal dance that reveals both their vulnerabilities and strengths.\",\n",
    "    \"Galactic Showdown of Egos: Zephyr’s materialistic flair and outgoing nature lead him to boast about his latest cosmic exploits and treasured possessions, aiming to impress Vivienne. Instead, Vivienne’s cutting wit and high-fashion critique quickly put his self-praise under scrutiny, resulting in a spirited clash of egos. Their interaction evolves into a dynamic battle where humor and sharp retorts collide, highlighting their contrasting values and the tension between ambition and sophistication.\",\n",
    "    \"Unlikely Mentor in a Duel of Perspectives: In this trope, Zephyr’s ambition and heartfelt vulnerability shine through as he shares not only his adventures but also his moments of loneliness and introspection. Vivienne’s assertive and sometimes mean responses mask a hidden curiosity about his genuine passion for exploration and self-improvement. Their dialogue becomes a transformative exchange where Zephyr’s open-hearted storytelling and resilient optimism gradually challenge Vivienne’s noncommittal, guarded attitude, paving the way for mutual growth and unexpected understanding.\"\n",
    "]\n",
    "query = tropes[0]\n",
    "pprint.pprint(query)"
   ]
  },
  {
   "cell_type": "code",
   "execution_count": 40,
   "metadata": {},
   "outputs": [],
   "source": [
    "results = retriever.retrieve(query)"
   ]
  },
  {
   "cell_type": "code",
   "execution_count": 42,
   "metadata": {},
   "outputs": [
    {
     "name": "stdout",
     "output_type": "stream",
     "text": [
      "t29945 - 0.575\n",
      "Trope: DarkFeminineLightFeminine\n",
      "\n",
      "\n",
      "This is a character contrast trope. Both female characters are decidedly feminine but in different ways. The light is generally angelic and feels love, whereas the dark is generally devilish and plays with desire. The light is usually sweet and naïve, whereas the dark is usually aloof and brooding. Either type applies to a Tomboy and Girly Girl contrast. When a love interest is involved, it's likely to lead to a Betty and Veronica love triangle: Betty being the Light Feminine, and Veronica being the Dark Feminine.\n",
      "As with any two-character trope, the two characters have to have some sort of relationship with each other, be it friends, family, love interests, or rivals for a love interest, so the two characters can be playing the traits directly off each other.\n",
      "The dark feminine character is not always a villain or a whore, or even necessarily half of a \"good girl, bad girl\" or \"naughty and nice\" pair. It could be that she's just the more serious, sophisticated, or mature half of the pair. In some cases she's even as sweet and innocent as her Light counterpart, but finds herself drawn to the shadows. Remember, Dark Is Not Evil. Likewise, Good Is Not Nice, and the Light Feminine need not be either The Ingenue or The Pollyanna, but may be distinguished by her nobleness, proactiveness, or determination. Together, they're the whole package...but the titillation of their dynamic comes from which set of values proves more alluring.\n",
      "Compare the innocent child and the seductress of The Three Faces of Eve as well as the sweet-naïve one and sexy one of the Four-Girl Ensemble. With a duo consisting of a Magical Girl and a Dark Magical Girl, in general, the Magical Girl is Light Feminine and the Dark Magical Girl is Dark Feminine.\n",
      "The Spear Counterpart is Noble Male, Roguish Male — two guys who are both masculine but in different ways.\n",
      "In modern Western culture, \"feminine\" usually implies Light Feminine, while \"masculine\" usually implies Roguish Male. When Dark Feminine and Noble Male are paired up, you usually get Masculine Girl, Feminine Boy.\n",
      "Not to be confused with Pale Females, Dark Males. This is about personality, not fur/skin color.\n",
      "------------------------------\n",
      "t19375 - 0.572\n",
      "Trope: SavvyGuyEnergeticGirl\n",
      "\n",
      "This is a potential pairing (platonic or otherwise) between a pragmatic guy and a girl who is very full of energy.\n",
      "The usual gender stereotype is that guys are stronger and may only care about sex, while girls are soft but nicer/smarter. This averts that stereotype (for the most part at least): the guy is the smart but physically inept one and it seems he got himself the company of a girl who most would have trouble keeping up with in the first place.\n",
      "In some cases, the girl can be smarter than the guy, but because she's too busy trying to have fun, this is occasional at most. Perhaps this is why she acts as a Morality Pet sometimes. Compare Good Is Dumb, although she's more likely to merely be calling out the savvy guy than be evil in her smart moments.\n",
      "If the guy and the girl are in a romantic relationship, the girl may also be a Manic Pixie Dream Girl. If this girl is living with several savvy guys, she's likely a Nerd Nanny.\n",
      "Unlike the Savvy Girl, the Savvy Guy is usually wittier and more prone to wisecracks, and doesn't give in to his emotions quite as much.\n",
      "It doesn't even have to be a guy or a girl, either. Many works featuring male x male or female x female romantic relationships will also follow the trope, with one partner being perky and optimistic while the other is savvy and smarter.\n",
      "Compare Perky Female Minion, Uptight Loves Wild, Red Oni, Blue Oni, Strong Girl, Smart Guy, Masculine Girl, Feminine Boy. For another couples trope based on personality, see Brooding Boy, Gentle Girl.\n",
      "------------------------------\n",
      "t27387 - 0.572\n",
      "Trope: LightFeminineDarkFeminine\n",
      "\n",
      "\n",
      "This is a character contrast trope. Both female characters are decidedly feminine but in different ways. The light is generally angelic and feels love, whereas the dark is generally devilish and plays with desire. The light is usually sweet and naïve, whereas the dark is usually aloof and brooding. Either type applies to a Tomboy and Girly Girl contrast. When a love interest is involved, it's likely to lead to a Betty and Veronica love triangle: Betty being the Light Feminine, and Veronica being the Dark Feminine.\n",
      "As with any two-character trope, the two characters have to have some sort of relationship with each other, be it friends, family, love interests, or rivals for a love interest, so the two characters can be playing the traits directly off each other.\n",
      "The dark feminine character is not always a villain or a whore, or even necessarily half of a \"good girl, bad girl\" or \"naughty and nice\" pair. It could be that she's just the more serious, sophisticated, or mature half of the pair. In some cases she's even as sweet and innocent as her Light counterpart, but finds herself drawn to the shadows. Remember, Dark Is Not Evil. Likewise, Good Is Not Nice, and the Light Feminine need not be either The Ingenue or The Pollyanna, but may be distinguished by her nobleness, proactiveness, or determination. Together, they're the whole package...but the titillation of their dynamic comes from which set of values proves more alluring.\n",
      "Compare the innocent child and the seductress of The Three Faces of Eve as well as the sweet-naïve one and sexy one of the Four-Girl Ensemble. With a duo consisting of a Magical Girl and a Dark Magical Girl, in general, the Magical Girl is Light Feminine and the Dark Magical Girl is Dark Feminine.\n",
      "The Spear Counterpart is Noble Male, Roguish Male — two guys who are both masculine but in different ways.\n",
      "In modern Western culture, \"feminine\" usually implies Light Feminine, while \"masculine\" usually implies Roguish Male. When Dark Feminine and Noble Male are paired up, you usually get Masculine Girl, Feminine Boy.\n",
      "Not to be confused with Pale Females, Dark Males. This is about personality, not fur/skin color.\n",
      "------------------------------\n",
      "t16860 - 0.570\n",
      "Trope: PerkyFemaleMinion\n",
      "A good way of applying the humor of The Comically Serious to villains is by pairing them with the Perky Female Minion. This character is something like the Distaff Counterpart/Foil to the Enigmatic Minion; she can range in psyche from Punch-Clock Villain to fairly psychotic, but have an upbeat, Genki Girl personality, in sharp contrast to the (usually male) Big Bad she serves, who will be gloomy, Ax-Crazy, etc. If the female minion has a crush on her boss, which she often does, it will generally be of the Mad Love variety, although this affection isn't a requirement, nor is its reciprocation.\n",
      "However, despite her cheerfulness and energy, she is usually still good at what she does. When this is the case, her employer usually views her as a Bunny-Ears Lawyer.\n",
      "Compare Savvy Guy, Energetic Girl for a similar dynamic. Contrasts The Baroness for the exact opposite, a chilly/chilling and sadistic villainess. Can be a subtrope of Vile Villain, Laughable Lackey.\n",
      "------------------------------\n",
      "t12876 - 0.560\n",
      "Trope: LightFeminineAndDarkFeminine\n",
      "\n",
      "This is a character contrast trope. Both female characters are decidedly feminine but in different ways. The light is generally angelic and feels love, whereas the dark is generally devilish and plays with desire. The light is usually sweet and naïve, whereas the dark is usually aloof and brooding. Either type applies to a Tomboy and Girly Girl contrast. When a love interest is involved, it's likely to lead to a Betty and Veronica love triangle: Betty being the Light Feminine, and Veronica being the Dark Feminine.\n",
      "As with any two-character trope, the two characters have to have some sort of relationship with each other, be it friends, family, love interests, or rivals for a love interest, so the two characters can be playing the traits directly off each other.\n",
      "The dark feminine character is not always a villain or a whore but half of a \"good girl, bad girl\" or \"naughty and nice\" pair. Remember, Dark Is Not Evil.\n",
      "Compare the innocent child and the seductress of The Three Faces of Eve as well as the sweet-naïve one and sexy one of the Four-Girl Ensemble. With a duo consisting of a Magical Girl and a Dark Magical Girl, in general, the Magical Girl is Light Feminine and the Dark Magical Girl is Dark Feminine.\n",
      "The Spear Counterpart is Noble Male, Roguish Male — two guys who are both masculine but in different ways.\n",
      "In modern Western culture, \"feminine\" usually implies Light Feminine, while \"masculine\" usually implies Roguish Male. When Dark Feminine and Noble Male are paired up, you usually get Masculine Girl, Feminine Boy.\n",
      "Not to be confused with Pale Females, Dark Males. This is about personality, not fur/skin color.\n",
      "------------------------------\n",
      "t30207 - 0.559\n",
      "Look up Cock Fight for the almost-literal *ahem* Spear Counterpart.\n",
      "Movies have lately come to a compromise with the Manic Pixie Dream Girl; cute and non-threatening, yet exciting and different. Video games with Multiple Endings get to Take a Third Option by letting the player choose who the hero ends up with. Comic book and TV show franchises tend to have Negative Continuity over the long term due to constantly rebooting their origins to avoid Continuity Lockout.\n",
      "Compare the admirable one and sexy one of the Four-Girl Ensemble as well as the wife and seductress of The Three Faces of Eve. Betty might be the Light Feminine while Veronica is the Dark Feminine in Light Feminine and Dark Feminine. In a Four-Temperament Ensemble, Betty is most likely people-oriented/emotionally available sanguine or phlegmatic, while Veronica is task-oriented/emotionally unavailable (melancholic or choleric. In the case of a Bust-Contrast Duo, Betty could be the slender girl with few chest and Veronica... having the advantage in that aspect.\n",
      "Do be aware that fans like to exaggerate potential relationships; Shipping would not exist without it. As a result there are likely to be multiple instances of an Official Couple (vindicated by Word of God) that has some sort of Fanon-based \"romantic rival\" mirroring this trope. Even shows without such romantic entanglements in-universe can inspire Betty/Veronica debates amongst the Fandom; hence, Mary Ann/Ginger, Bailey/Jennifer, Janet/Chrissy, Velma/Daphne, etc.\n",
      "In a very small number of these scenarios, particularly in more recent times or exotic settings, the conflict may be resolved by the triangle becoming a One True Threesome or a Marry Them All ending. This is particularly prevalent in fan works.\n",
      "See also Betty and Veronica Switch, where the presumed Betty and Veronica somehow switch roles.\n",
      "Please avoid referring to characters as \"the Betty\" and \"the Veronica\" to someone else's \"Archie\" when referring to this trope, as it is not particularly helpful to those tropers who are not familiar enough with the characters in question to immediately extrapolate the implied relationships.\n",
      "------------------------------\n",
      "t25757 - 0.558\n",
      "Trope: WellExcuseMePrincess\n",
      "\n",
      "Snarky loser hero meets snarky haughty heroine. They either fall in love, or they snark. Usually both.\n",
      "This is essentially a satire of the standard Magical Girlfriend, which describes a beautiful, classy, good-mannered, loyal girl—the logical result being she should be somewhat critical of her loser boyfriend. She makes no attempt to ignore the fact that he is the Loser Protagonist, and frequently calls him on it, criticizes him, and rarely if ever fawns over him like some Fangirl. She expects better from him and pushes him to improve, while still expecting to be taken care of. However, the guy usually takes it in stride, mocks her in return, or just says the trope title.\n",
      "Expect a generous helping of Aw, Look! They Really Do Love Each Other moments, to let the audience know why they should be supporting this couple. The idea is that the snarky loser will help the princess loosen up and be friendlier, while the princess constantly holding the loser to a higher standard will eventually make him improve himself. Often appears in Love Comedies, depending on how satirical the story is.\n",
      "See also Tsundere. Related to Belligerent Sexual Tension. Compare/Contrast Screw You, Elves! and Surrounded by Idiots.\n",
      "If it involves an actual Princess Princess, see Royal Brat. The Woman Wearing the Queenly Mask can make similar demands.\n",
      "The trope name comes from the The Legend of Zelda cartoon, where Link would quite often retort to Zelda's nagging with those words.note The line, including Link's delivery of it (but excluding \"princess\"), is heavily inspired by comedian Steve Martin.\n",
      "------------------------------\n",
      "t05156 - 0.558\n",
      "Trope: DatingCatwoman\n",
      "When the hero of the show and one of the antagonists have a romantic tone right out in the open, as opposed to Foe Romance Subtext. This adds a degree of tension to the relationship, and as long as you make sure the antagonist is less of a \"villain\", we're allowed to root for them.\n",
      "As the name indicates, this tends to be the gender dynamic of a male hero and a female villain. A female hero and a male villain is far rarer, but not unheard of (speculation as to why this gender dynamic occurs can be found on the Analysis page).\n",
      "Their different senses of morality will conveniently keep things from progressing too quickly and sometimes they won't move at all, since the character won't be as fun if they go straight. The same concerns about getting rid of the dramatic tension that fuel Will They or Won't They? apply here.\n",
      "A Sub-Trope of Opposites Attract. Compare Go-Karting with Bowser (when the relationship is platonic rather than romantic or sexual), Loves My Alter Ego (for similar relationships between heroes and bystanders), and Defecting for Love (which happens when the Catwoman decides to go straight after all). Easily overlaps with Villainesses Want Heroes, Trickster Girlfriend, and All Girls Want Bad Boys. May lead to The Masquerade Will Kill Your Dating Life if the pairing is ultimately incompatible or too unstable. The one-sided version of this may be a Villainous Crush. See Foe Romance Subtext for the less explicit version of this, and Fatal Attraction when it's more dangerous. Compare Friendly Enemies.\n",
      "Has nothing to do with dating a Cat Girl. Usually.\n",
      "------------------------------\n",
      "t13173 - 0.557\n",
      "Trope: LoonyFriendsImproveYourPersonality\n",
      "\n",
      "\n",
      "\n",
      "A stiff character learns and grows from unwanted interaction with annoying and eccentric people.\n",
      "The focus character is a fairly stiff guy (rarely a gal), may be the Only Sane Man, The Comically Serious or a Jerkass of the \"stick up his rear\" type, and often comes across as an Ineffectual Loner. He may not be content with his life, but it's stable, and he probably has a long-term plan for fixing what he thinks is wrong, if he can just get the right breaks. Instead, he is dragged into wacky hijinks by the other characters against his will, making a mess of his life. But implicitly or explicitly, the goal in the story is to make him a better person by putting him through \"horrible\" experiences - or at least ones he considers horrible, in order to show him the brighter side of things.\n",
      "May involve a Manic Pixie Dream Girl, but in most examples, it's an entire cast imposing on the stiff guy's time, money and patience. The Power of Friendship is usually evoked by the end of the story. There may be a montage as the character remembers how things used to be, and how despite how much the other characters irritate them, they have made stiff guy a better person by getting him to take off his Jade-Colored Glasses.\n",
      "Contrast Defrosting Ice Queen, an Always Female version, and Unsympathetic Comedy Protagonist, who may have a similar personality and equally annoying cohorts, but does not have the Character Development.\n",
      "------------------------------\n",
      "t14827 - 0.553\n",
      "Trope: MustMakeHerLaugh\n",
      "He's the joker of the group. She's the Emotionless Girl or perhaps the Tsundere, maybe both. He makes it his mission in life to make her let out one of the most powerful emotional responses. It's a matter of personal pride. If he can break through her shell, he can brag about it for years.\n",
      "Said girl's friends will wonder why she puts up with it. Don't expect his jokes to actually be funny. The comedy really comes from her reaction, or lack thereof. Compare Straight Man and Wise Guy for a similar setup.\n",
      "This is often played as romantic interest. After all, guys like girls that laugh at their jokes and girls like guys who can make them laugh. And even if she doesn't laugh, she does at least listen. If it's meant to become a romantic relationship, don't expect them to resolve it anytime soon.\n",
      "Most of the time, what finally makes her laugh wasn't even intended to be funny.\n",
      "Can result in a When She Smiles moment, where the guy falls even harder for her when he finally sees her radiant smile.\n",
      "------------------------------\n"
     ]
    }
   ],
   "source": [
    "for result in results:\n",
    "    trope_id = result.node.metadata[\"TropeID\"]\n",
    "    print(\"{} - {:.3f}\".format(trope_id, result.score))\n",
    "    print(result.node.text)\n",
    "    # pprint.pprint(result.node.text[:200])\n",
    "    print('-'*30)\n",
    "    "
   ]
  },
  {
   "cell_type": "code",
   "execution_count": 48,
   "metadata": {},
   "outputs": [
    {
     "data": {
      "text/plain": [
       "'MustMakeHerLaugh'"
      ]
     },
     "execution_count": 48,
     "metadata": {},
     "output_type": "execute_result"
    }
   ],
   "source": [
    "result.node.text.split(\"\\n\", 1)[0][7:]"
   ]
  },
  {
   "cell_type": "code",
   "execution_count": 49,
   "metadata": {},
   "outputs": [
    {
     "data": {
      "text/plain": [
       "\"He's the joker of the group. She's the Emotionless Girl or perhaps the Tsundere, maybe both. He makes it his mission in life to make her let out one of the most powerful emotional responses. It's a matter of personal pride. If he can break through her shell, he can brag about it for years.\\nSaid girl's friends will wonder why she puts up with it. Don't expect his jokes to actually be funny. The comedy really comes from her reaction, or lack thereof. Compare Straight Man and Wise Guy for a similar setup.\\nThis is often played as romantic interest. After all, guys like girls that laugh at their jokes and girls like guys who can make them laugh. And even if she doesn't laugh, she does at least listen. If it's meant to become a romantic relationship, don't expect them to resolve it anytime soon.\\nMost of the time, what finally makes her laugh wasn't even intended to be funny.\\nCan result in a When She Smiles moment, where the guy falls even harder for her when he finally sees her radiant smile.\""
      ]
     },
     "execution_count": 49,
     "metadata": {},
     "output_type": "execute_result"
    }
   ],
   "source": [
    "result.node.text.split(\"\\n\", 1)[1].strip()"
   ]
  },
  {
   "cell_type": "code",
   "execution_count": null,
   "metadata": {},
   "outputs": [],
   "source": []
  }
 ],
 "metadata": {
  "kernelspec": {
   "display_name": "docling",
   "language": "python",
   "name": "docling"
  },
  "language_info": {
   "codemirror_mode": {
    "name": "ipython",
    "version": 3
   },
   "file_extension": ".py",
   "mimetype": "text/x-python",
   "name": "python",
   "nbconvert_exporter": "python",
   "pygments_lexer": "ipython3",
   "version": "3.10.14"
  }
 },
 "nbformat": 4,
 "nbformat_minor": 2
}
