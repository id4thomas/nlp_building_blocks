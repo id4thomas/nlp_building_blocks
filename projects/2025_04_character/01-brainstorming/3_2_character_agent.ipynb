{
 "cells": [
  {
   "cell_type": "code",
   "execution_count": 1,
   "metadata": {},
   "outputs": [],
   "source": [
    "import itertools\n",
    "import json\n",
    "import os\n",
    "import random\n",
    "from typing import Dict, List, Optional\n",
    "\n",
    "from openai import AsyncOpenAI\n",
    "from pydantic import BaseModel, Extra, Field\n",
    "\n",
    "from pydantic_ai import Agent, RunContext\n",
    "from pydantic_ai.models.openai import OpenAIModel, OpenAIResponsesModelSettings\n",
    "from pydantic_ai.providers.openai import OpenAIProvider\n",
    "\n",
    "from pydantic_ai.models import ModelRequestParameters\n",
    "from pydantic_ai.messages import ModelMessage\n",
    "from pydantic_ai.settings import ModelSettings\n",
    "import tiktoken\n",
    "\n",
    "from config import settings\n",
    "\n",
    "from src.simschat.models import (\n",
    "    CharacterSpecification,\n",
    "    SceneState,\n",
    "    CharacterRelationState,\n",
    "    CharacterState,\n",
    "    create_dynamic_enum\n",
    ")"
   ]
  },
  {
   "cell_type": "code",
   "execution_count": 2,
   "metadata": {},
   "outputs": [
    {
     "name": "stdout",
     "output_type": "stream",
     "text": [
      "gpt-4.1-nano\n"
     ]
    }
   ],
   "source": [
    "# Use OpenRouter as inference endpoint\n",
    "print(settings.llm_model)\n",
    "\n",
    "# Pydantic Model\n",
    "provider = OpenAIProvider(\n",
    "    base_url=settings.llm_base_url,\n",
    "    api_key=settings.llm_api_key\n",
    ")\n",
    "model = OpenAIModel(\n",
    "    model_name=settings.llm_model,\n",
    "    provider=provider\n",
    ")\n",
    "\n",
    "# OpenAI Client\n",
    "aopenai_client = AsyncOpenAI(\n",
    "    base_url=settings.llm_base_url,\n",
    "    api_key=settings.llm_api_key\n",
    ")"
   ]
  },
  {
   "cell_type": "markdown",
   "metadata": {},
   "source": [
    "# 0. Prepare Scene & Characters"
   ]
  },
  {
   "cell_type": "code",
   "execution_count": 3,
   "metadata": {},
   "outputs": [
    {
     "name": "stdout",
     "output_type": "stream",
     "text": [
      "{\n",
      "    \"uid\": \"2f2462c1-bdef-4089-b206-c47decd841f3\",\n",
      "    \"stage\": 0,\n",
      "    \"scene\": {\n",
      "        \"revised_trope\": \"Inside the bustling grandeur of the metropolitan fashion gala, Zephyr Orion, a 28-year-old jocular astronaut with a penchant for playful storytelling, encounters Vivienne LaRoux. Vivienne, also 28, exudes sophistication and an assertive demeanor as a renowned style influencer. Initially, she greets Zephyr's lighthearted banter with icy indifference, her mean streak surfacing sporadically. However, Zephyr's infectious humor gradually softens her edges, revealing a subtly receptive side. Their verbal dance, rich with lively exchanges, challenges both to reconsider their outlooks, Zephyr embracing Vivienne's world of high fashion while she discovers a brighter perspective in his social magnetism.\",\n",
      "        \"utilized_reference_tropes\": [\n",
      "            \"Defrosting Ice Queen\",\n",
      "            \"SavvyGuyEnergeticGirl\"\n",
      "        ],\n",
      "        \"scene\": {\n",
      "            \"location\": \"The Metropolitan Fashion Gala\",\n",
      "            \"setting\": \"An opulent event hall adorned with sparkling chandeliers and cutting-edge fashion displays.\",\n",
      "            \"explanation\": \"In the midst of a vibrant and luxurious fashion gala, Zephyr Orion and Vivienne LaRoux engage in a compelling social interaction. Zephyr, with his distinctive brand of humor and affable nature, engages Vivienne in a conversation that is both disarming and endearing. Their exchange, a medley of banter and keen observations, reflects not only their mutual intrigue but also hints at a budding dynamic that bridges their contrasting worlds of space and style. As the evening unfolds, both characters experience subtle shifts in their perspectives, opening their minds to each other's unique lives, and suggesting the start of a meaningful connection.\"\n",
      "        }\n",
      "    },\n",
      "    \"character_states\": {\n",
      "        \"character1_uid\": \"35f0c56f-263d-42df-846c-e1833d8ca0ab\",\n",
      "        \"character1\": {\n",
      "            \"sentiment\": \"neutral\",\n",
      "            \"emotion\": \"anticipation\",\n",
      "            \"social_relations\": [\n",
      "                {\n",
      "                    \"character_uid\": \"00d66087-9b3b-46da-bd74-bf45cbe81d3c\",\n",
      "                    \"emotion\": \"trust\",\n",
      "                    \"knowledge\": [\n",
      "                        \"Vivienne LaRoux is a renowned style influencer with an assertive demeanor.\",\n",
      "                        \"Vivienne initially greets Zephyr with icy indifference during their interaction at the gala.\",\n",
      "                        \"Despite Vivienne's dismissive nature, Zephyr sees potential for a deeper connection.\"\n",
      "                    ]\n",
      "                }\n",
      "            ]\n",
      "        },\n",
      "        \"character2_uid\": \"00d66087-9b3b-46da-bd74-bf45cbe81d3c\",\n",
      "        \"character2\": {\n",
      "            \"sentiment\": \"neutral\",\n",
      "            \"emotion\": \"surprise\",\n",
      "            \"social_relations\": [\n",
      "                {\n",
      "                    \"character_uid\": \"35f0c56f-263d-42df-846c-e1833d8ca0ab\",\n",
      "                    \"emotion\": \"surprise\",\n",
      "                    \"knowledge\": [\n",
      "                        \"Zephyr is a 28-year-old jocular astronaut known for his storytelling and humor.\",\n",
      "                        \"Zephyr engages Vivienne with playful banter despite her initial indifference.\",\n",
      "                        \"Vivienne is intrigued by Zephyr's ability to connect socially at the gala.\"\n",
      "                    ]\n",
      "                }\n",
      "            ]\n",
      "        }\n",
      "    }\n",
      "}\n"
     ]
    }
   ],
   "source": [
    "scene_uid = \"2f2462c1-bdef-4089-b206-c47decd841f3\"\n",
    "\n",
    "with open(f\"simschat/scene/{scene_uid}.json\", \"r\") as f:\n",
    "    scene_dict = json.load(f)\n",
    "\n",
    "print(json.dumps(scene_dict,indent=4))"
   ]
  },
  {
   "cell_type": "markdown",
   "metadata": {},
   "source": [
    "# 1. Load Character Agents"
   ]
  },
  {
   "cell_type": "code",
   "execution_count": 4,
   "metadata": {},
   "outputs": [],
   "source": [
    "class Character(BaseModel):\n",
    "    uid: str\n",
    "    spec: CharacterSpecification\n",
    "    state: CharacterState"
   ]
  },
  {
   "cell_type": "code",
   "execution_count": 5,
   "metadata": {},
   "outputs": [
    {
     "data": {
      "text/plain": [
       "{'35f0c56f-263d-42df-846c-e1833d8ca0ab': Character(uid='35f0c56f-263d-42df-846c-e1833d8ca0ab', spec=CharacterSpecification(name='Zephyr Orion', gender='male', age=28, dialogue_tone='playful, jovial, and engaging, with a witty humor and warmth that makes everyone feel at ease. Known for storytelling with captivating tales of space adventures.', career='Astronaut', personality_traits=[PersonalityTrait(trait='Goofball', description='Enjoys joking and making others laugh, bringing a playful spirit to social situations.'), PersonalityTrait(trait='Materialistic', description='Loves acquiring new possessions and often leans towards bragging about them.'), PersonalityTrait(trait='Outgoing', description='Flourishes in social situations and enjoys being around people.'), PersonalityTrait(trait='Gloomy', description='Grows sad when left alone for too long.'), PersonalityTrait(trait='Ambitious', description='Continuously strives to reach new milestones in his career.')], hobbies=['Fitness', 'Cooking', 'Painting'], living_conditions=['Resides in a modern city apartment filled with space memorabilia and art supplies.', 'Leads a healthy lifestyle, working out regularly, and maintaining balanced meals.'], social_relationships=[SocialRelationship(target='Close-knit group of friends', status='positive', description='Share a strong bond through a mutual passion for space exploration.'), SocialRelationship(target='Community and professional field', status='positive', description='Well-respected and liked within community and professional circles.')]), state=CharacterState(sentiment='neutral', emotion='anticipation', social_relations=[CharacterRelationState(character_uid='00d66087-9b3b-46da-bd74-bf45cbe81d3c', emotion='trust', knowledge=['Vivienne LaRoux is a renowned style influencer with an assertive demeanor.', 'Vivienne initially greets Zephyr with icy indifference during their interaction at the gala.', \"Despite Vivienne's dismissive nature, Zephyr sees potential for a deeper connection.\"])])),\n",
       " '00d66087-9b3b-46da-bd74-bf45cbe81d3c': Character(uid='00d66087-9b3b-46da-bd74-bf45cbe81d3c', spec=CharacterSpecification(name='Vivienne LaRoux', gender='female', age=28, dialogue_tone=\"Vivienne's speech is assertive and confident, laced with stylish, high-end fashion terminologies. Her voice is smooth and melodic, suggesting sophistication. However, it can become sharp when she is being dismissive or unkind.\", career='Style Influencer', personality_traits=[PersonalityTrait(trait='Genius', description='Intellectually gifted, Vivienne is viewed as a genius and thrives on intellectual pursuits.'), PersonalityTrait(trait='Noncommittal', description='Vivienne is known for frequently changing her mind on a whim.'), PersonalityTrait(trait='Mean', description='Despite her sophisticated demeanor, Vivienne possesses a mean streak and a dismissive nature that has created some contention among her peers.')], hobbies=['Acting', 'Singing'], living_conditions=['Vivienne resides in a luxurious apartment in a bustling metropolitan area, characterized by a hectic yet glamorous lifestyle.', 'Her work-life balance is skewed heavily towards her career, with frequent travel to fashion shows and events.', \"Vivienne's daily routine includes reviewing fashion trends, attending high-end boutiques, and engaging with her audience on social media.\"], social_relationships=[SocialRelationship(target='Peers in the fashion industry', status='neutral', description=\"While well-regarded for her style, Vivienne's mean streak and dismissive nature occasionally lead to tense relationships with her peers.\"), SocialRelationship(target='Animals', status='negative', description='Vivienne is not particularly fond of showing affection to animals, leading to a distant relationship.')]), state=CharacterState(sentiment='neutral', emotion='surprise', social_relations=[CharacterRelationState(character_uid='35f0c56f-263d-42df-846c-e1833d8ca0ab', emotion='surprise', knowledge=['Zephyr is a 28-year-old jocular astronaut known for his storytelling and humor.', 'Zephyr engages Vivienne with playful banter despite her initial indifference.', \"Vivienne is intrigued by Zephyr's ability to connect socially at the gala.\"])]))}"
      ]
     },
     "execution_count": 5,
     "metadata": {},
     "output_type": "execute_result"
    }
   ],
   "source": [
    "# Load Character Spec\n",
    "character1_id=\"35f0c56f-263d-42df-846c-e1833d8ca0ab\"\n",
    "character2_id=\"00d66087-9b3b-46da-bd74-bf45cbe81d3c\"\n",
    "\n",
    "with open(f\"simschat/characters/{character1_id}.json\", \"r\") as f:\n",
    "    character1_spec = CharacterSpecification(**json.load(f))\n",
    "    \n",
    "with open(f\"simschat/characters/{character2_id}.json\", \"r\") as f:\n",
    "    character2_spec = CharacterSpecification(**json.load(f))\n",
    "    \n",
    "character1 = Character(\n",
    "    uid=character1_id,\n",
    "    spec=character1_spec,\n",
    "    state=CharacterState.model_validate(scene_dict[\"character_states\"][\"character1\"]),\n",
    ")\n",
    "character2 = Character(\n",
    "    uid=character2_id,\n",
    "    spec=character2_spec,\n",
    "    state=CharacterState.model_validate(scene_dict[\"character_states\"][\"character2\"]),\n",
    ")\n",
    "\n",
    "CHARACTERS = {\n",
    "    character1_id: character1,\n",
    "    character2_id: character2,\n",
    "}\n",
    "CHARACTERS"
   ]
  },
  {
   "cell_type": "code",
   "execution_count": 6,
   "metadata": {},
   "outputs": [
    {
     "name": "stdout",
     "output_type": "stream",
     "text": [
      "dict_keys(['Friendly', 'Ask', 'Romantic', 'Mean', 'Neutral'])\n",
      "Interaction: Friendly\n",
      "\t[\"Gossip\", \"Talk About Hobby\", \"Ask to Join\", \"Dare\", \"Get to Know\", \"Enthuse about ...\", \"Tip\", \"Tickle\", \"Compliment\", \"Admire\"]\n",
      "Interaction: Ask\n",
      "\t[\"What Turns You Off?\", \"About Interests\", \"What Are Your Skills?\", \"Do You Like What You See?\", \"What Turns You On?\", \"What's Your Zodiac sign?\", \"How Much Money Do You Have?\", \"What's Your Job?\", \"What Do You Fear?\", \"What Do You Want?\"]\n",
      "Interaction: Romantic\n",
      "\t[\"Squeeze\", \"Suck Face\", \"Smooch\", \"Stroke Cheek\", \"Serenade\", \"Tender Kiss\", \"Have Private Wedding\", \"Make Out\", \"Juiced WooHoo & Kiss\", \"Kiss Hand\"]\n",
      "Interaction: Mean\n",
      "\t[\"Shout Forbidden Words at (Sim)\", \"Slap\", \"Scare\", \"Yell at\", \"Accuse of (trait)\", \"Push\", \"Petty Jab\", \"Mock (trait)\", \"Poodle (Werewolf)\", \"Insult\"]\n",
      "Interaction: Neutral\n",
      "\t[\"Shoo\", \"Ask to leave/Say Goodbye\", \"Join (in activity)\", \"Introduce to...\", \"Stop doing that\", \"Call Over\"]\n"
     ]
    }
   ],
   "source": [
    "# Load Allowed Actions\n",
    "import random\n",
    "with open(\"sims_interactions.json\", \"r\") as f:\n",
    "    full_sims_interactions = json.load(f)\n",
    "\n",
    "# sample    \n",
    "n = 10\n",
    "sims_interactions = {k: random.sample(v, min(len(v), n)) for k,v in full_sims_interactions.items()}\n",
    "print(sims_interactions.keys())\n",
    "\n",
    "## Make enum of actions\n",
    "possible_actions_model = create_dynamic_enum(\n",
    "    \"PossibleCharacterActions\",\n",
    "    itertools.chain(*[\n",
    "        [f\"{k}-{a['action']}\" for a in v]\n",
    "        for k,v in sims_interactions.items()\n",
    "    ])\n",
    ")\n",
    "\n",
    "for k, v in sims_interactions.items():\n",
    "    print(f\"Interaction: {k}\")\n",
    "    print(\"\\t{}\".format(json.dumps([x['action'] for x in v])))"
   ]
  },
  {
   "cell_type": "code",
   "execution_count": 7,
   "metadata": {},
   "outputs": [],
   "source": [
    "CharacterActionPredictionSystemPrompt = '''You are a creative storyteller that does the following.\n",
    "Given informations about a character (Character) and context of a story scene (Scene Context)\n",
    "(1) write the next action that the character will perform in the scene.\n",
    "(2) update the character state after performing this action\n",
    "\n",
    "# Given Informations\n",
    "## Character\n",
    "description: character persona that you will be taking\n",
    "state:\n",
    "* polarity: sentiment towards the character (positive/neutral/negative)\n",
    "* emotion: emotional state of the character\n",
    "* social_relations: a one-directional relationship with other characters. (ex. what character1 thinks of character2)\n",
    "    * character_uid: uid of the target character\n",
    "    * emotion: emotional relation towards the other character\n",
    "    * knowledge: what the character knows about the other character \n",
    "\n",
    "## Scene Context\n",
    "description of the current state of the scene\n",
    "\n",
    "# Action Prediction\n",
    "## Definition of 'Action'\n",
    "a character performs an 'action' through the following steps\n",
    "* 'think': consider what the character should say and what goals the character wants to achieve. write the thinking process here\n",
    "* 'action_type': type of the action this character will actually perform\n",
    "* 'description': description of the action this character will perform\n",
    "    * the action must be detailed description of a single-verb action.\n",
    "    * if there are dialogues, write the actual dialogues\n",
    "    * if there are any background, items, characters involved, include the details about them\n",
    "    * action must be maximum 2 sentences\n",
    "    * don't make the actions obvious\n",
    "* 'dialogue': the dialogue this character will perform (leave it empty if there are no dialogues)\n",
    "* 'targets': List of characters (by uid) that will be affected. leave it empty if it there are no targets\n",
    "    * use the uid value in character.social_relations to identify the character\n",
    "\n",
    "### Action Type\n",
    "type of actions that the character can perform are defined as the following\n",
    "* actions are grouped by their 'Interaction' type (ex. Fiendly, Mean, ..)\n",
    "* select the action in the form of \"{{interaction}}-{{action}}\" from the following dictionary (ex. Friendly-Admire)\n",
    "\n",
    "Defined Actions:\n",
    "{action_pool}\n",
    "\n",
    "# State Update\n",
    "## Emotions\n",
    "utilize the following emotion descriptions (from Plutchik's emotion wheel) to describe the emotional state of the character\n",
    "* \"joy\": Joy is a bright, uplifting emotion that reflects happiness, satisfaction, and a sense of well-being. It often arises when our desires are fulfilled or we experience positive moments, and it helps energize both our minds and bodies. Joy can enhance social connections and overall resilience by radiating positivity\n",
    "* \"trust\": Trust is the reassuring feeling of confidence and security in another person or situation. It builds from consistent, reliable interactions and underpins strong, supportive relationships. This emotion fosters cooperation and reduces anxiety by creating a sense of safety\n",
    "* \"fear\": Fear is an instinctive response to perceived threats that activates our fight-or-flight mechanism. It heightens awareness and prepares our body to respond quickly to danger, making it essential for survival. Despite its discomfort, fear is a crucial signal that prompts protective action and risk assessment\n",
    "* \"surprise\": Surprise occurs when we encounter the unexpected, momentarily halting our regular thought process. This emotion can be positive, neutral, or even negative, depending on the context, and often sparks curiosity about what comes next. Its brief nature helps redirect our focus and encourages adaptive responses to new situations\n",
    "* \"sadness\": Sadness is a deep, reflective emotion that often emerges from loss, disappointment, or unmet expectations. It can lead to introspection and a desire for support as we navigate feelings of grief or dejection. Although challenging, sadness can also foster empathy and pave the way for emotional healing and growth\n",
    "* \"disgust\": Disgust is an aversive emotion that signals rejection toward something perceived as harmful, unclean, or morally offensive. It serves as a protective mechanism, prompting us to avoid substances or situations that might be dangerous. This emotion plays a vital role in maintaining both physical health and ethical boundaries\n",
    "* \"anger\": Anger arises when we perceive injustice, frustration, or a threat to our well-being, often urging us to act in response. It can manifest as physical tension and heightened energy, signaling that something in our environment needs to change. When managed effectively, anger can motivate constructive action and help assert personal boundaries\n",
    "* \"anticipation\": Anticipation is the forward-looking emotion characterized by a mix of excitement and apprehension about future events. It motivates preparation and planning while balancing hope with cautious vigilance. This emotion bridges the gap between our present state and the potential for positive outcomes in the future\n",
    "\n",
    "## Social Relations\n",
    "a one-directional relationship with other characters. (ex. what character1 thinks of character2)\n",
    "Update the knowledge of this character towards the other character\n",
    "* character_uid: uid of the target character\n",
    "* emotion: emotional relation towards the other character\n",
    "* knowledge: what the character knows about the other character \n",
    "    \n",
    "Return predicted action in the following json format\n",
    "* action must be defined in 'Defined Actions'\n",
    "{{\n",
    "    \"action\": {{\n",
    "        \"think\": str\n",
    "        \"action_type\": str,\n",
    "        \"description\": str,\n",
    "        \"dialogue\": str,\n",
    "        \"targets\": List[str]\n",
    "    }},\n",
    "    \"updated_state\": {{\n",
    "        \"sentiment\": str,\n",
    "        \"emotion\": str,\n",
    "        \"social_relations\": [\n",
    "            {{\n",
    "                \"character_uid\": str,\n",
    "                \"emotion\": str,\n",
    "                \"knowledge\": List[str]\n",
    "            }},\n",
    "            ...\n",
    "        ]\n",
    "    }}\n",
    "}}\n",
    "'''.format(\n",
    "    action_pool=json.dumps(sims_interactions)\n",
    ")\n",
    "\n",
    "CharacterActionPredictionUserTemplate = '''Information:\n",
    "[Character]\n",
    "{character}\n",
    "\n",
    "[Scene Context]\n",
    "{scene_context}'''"
   ]
  },
  {
   "cell_type": "code",
   "execution_count": null,
   "metadata": {},
   "outputs": [
    {
     "name": "stderr",
     "output_type": "stream",
     "text": [
      "/var/folders/wj/0c7skj2154q4844jqxlw3yxr0000gn/T/ipykernel_44179/2711018394.py:10: PydanticDeprecatedSince20: `pydantic.config.Extra` is deprecated, use literal values instead (e.g. `extra='allow'`). Deprecated in Pydantic V2.0 to be removed in V3.0. See Pydantic V2 Migration Guide at https://errors.pydantic.dev/2.10/migration/\n",
      "  extra = Extra.forbid\n",
      "/var/folders/wj/0c7skj2154q4844jqxlw3yxr0000gn/T/ipykernel_44179/2711018394.py:16: PydanticDeprecatedSince20: `pydantic.config.Extra` is deprecated, use literal values instead (e.g. `extra='allow'`). Deprecated in Pydantic V2.0 to be removed in V3.0. See Pydantic V2 Migration Guide at https://errors.pydantic.dev/2.10/migration/\n",
      "  extra = Extra.forbid\n"
     ]
    }
   ],
   "source": [
    "# Action Prediction Tool Function\n",
    "class CharacterAction(BaseModel):\n",
    "    # character: str\n",
    "    think: str\n",
    "    action_type: possible_actions_model\n",
    "    description: str\n",
    "    dialogue: str\n",
    "    targets: List[str]\n",
    "    class Config:\n",
    "        extra = Extra.forbid\n",
    "\n",
    "class ActionPredictionResult(BaseModel):\n",
    "    action: CharacterAction\n",
    "    updated_state: CharacterState\n",
    "    class Config:\n",
    "        extra = Extra.forbid\n",
    "\n",
    "async def predict_action(\n",
    "    character: Character,\n",
    "    scene_context: str\n",
    ")->ActionPredictionResult:\n",
    "    user_message = CharacterActionPredictionUserTemplate.format(\n",
    "        character=character.model_dump_json(),\n",
    "        scene_context=scene_context\n",
    "    )\n",
    "    print(user_message)\n",
    "    result = await aopenai_client.beta.chat.completions.parse(\n",
    "        model=settings.llm_model,\n",
    "        messages=[\n",
    "            {\"role\": \"system\", \"content\": CharacterActionPredictionSystemPrompt},\n",
    "            {\"role\": \"user\", \"content\": user_message},\n",
    "        ],\n",
    "        response_format=ActionPredictionResult,\n",
    "    )\n",
    "    return result.choices[0].message.parsed"
   ]
  },
  {
   "cell_type": "code",
   "execution_count": 9,
   "metadata": {},
   "outputs": [
    {
     "name": "stdout",
     "output_type": "stream",
     "text": [
      "Information:\n",
      "[Character]\n",
      "{\"uid\":\"35f0c56f-263d-42df-846c-e1833d8ca0ab\",\"spec\":{\"name\":\"Zephyr Orion\",\"gender\":\"male\",\"age\":28,\"dialogue_tone\":\"playful, jovial, and engaging, with a witty humor and warmth that makes everyone feel at ease. Known for storytelling with captivating tales of space adventures.\",\"career\":\"Astronaut\",\"personality_traits\":[{\"trait\":\"Goofball\",\"description\":\"Enjoys joking and making others laugh, bringing a playful spirit to social situations.\"},{\"trait\":\"Materialistic\",\"description\":\"Loves acquiring new possessions and often leans towards bragging about them.\"},{\"trait\":\"Outgoing\",\"description\":\"Flourishes in social situations and enjoys being around people.\"},{\"trait\":\"Gloomy\",\"description\":\"Grows sad when left alone for too long.\"},{\"trait\":\"Ambitious\",\"description\":\"Continuously strives to reach new milestones in his career.\"}],\"hobbies\":[\"Fitness\",\"Cooking\",\"Painting\"],\"living_conditions\":[\"Resides in a modern city apartment filled with space memorabilia and art supplies.\",\"Leads a healthy lifestyle, working out regularly, and maintaining balanced meals.\"],\"social_relationships\":[{\"target\":\"Close-knit group of friends\",\"status\":\"positive\",\"description\":\"Share a strong bond through a mutual passion for space exploration.\"},{\"target\":\"Community and professional field\",\"status\":\"positive\",\"description\":\"Well-respected and liked within community and professional circles.\"}]},\"state\":{\"sentiment\":\"neutral\",\"emotion\":\"anticipation\",\"social_relations\":[{\"character_uid\":\"00d66087-9b3b-46da-bd74-bf45cbe81d3c\",\"emotion\":\"trust\",\"knowledge\":[\"Vivienne LaRoux is a renowned style influencer with an assertive demeanor.\",\"Vivienne initially greets Zephyr with icy indifference during their interaction at the gala.\",\"Despite Vivienne's dismissive nature, Zephyr sees potential for a deeper connection.\"]}]}}\n",
      "\n",
      "[Scene Context]\n",
      "Inside the bustling grandeur of the metropolitan fashion gala, Zephyr Orion, a 28-year-old jocular astronaut with a penchant for playful storytelling, encounters Vivienne LaRoux. Vivienne, also 28, exudes sophistication and an assertive demeanor as a renowned style influencer. Initially, she greets Zephyr's lighthearted banter with icy indifference, her mean streak surfacing sporadically. However, Zephyr's infectious humor gradually softens her edges, revealing a subtly receptive side. Their verbal dance, rich with lively exchanges, challenges both to reconsider their outlooks, Zephyr embracing Vivienne's world of high fashion while she discovers a brighter perspective in his social magnetism.\n"
     ]
    }
   ],
   "source": [
    "character = character1\n",
    "scene_context=\"Inside the bustling grandeur of the metropolitan fashion gala, Zephyr Orion, a 28-year-old jocular astronaut with a penchant for playful storytelling, encounters Vivienne LaRoux. Vivienne, also 28, exudes sophistication and an assertive demeanor as a renowned style influencer. Initially, she greets Zephyr's lighthearted banter with icy indifference, her mean streak surfacing sporadically. However, Zephyr's infectious humor gradually softens her edges, revealing a subtly receptive side. Their verbal dance, rich with lively exchanges, challenges both to reconsider their outlooks, Zephyr embracing Vivienne's world of high fashion while she discovers a brighter perspective in his social magnetism.\"\n",
    "predicted_action = await predict_action(\n",
    "    character=character1,\n",
    "    scene_context=scene_context\n",
    ")"
   ]
  },
  {
   "cell_type": "code",
   "execution_count": 11,
   "metadata": {},
   "outputs": [
    {
     "name": "stdout",
     "output_type": "stream",
     "text": [
      "{\n",
      "  \"action\": {\n",
      "    \"think\": \"Zephyr wants to continue engaging Vivienne to build rapport despite her initial icy demeanor. He considers using his humor to break the ice further and show his genuine interest.\",\n",
      "    \"action_type\": \"Friendly-Compliment\",\n",
      "    \"description\": \"Zephyr gestures playfully towards Vivienne's fashionable outfit, saying, 'You must be the star of this gala—your style outshines the stars!'\",\n",
      "    \"dialogue\": \"You must be the star of this gala—your style outshines the stars!\",\n",
      "    \"targets\": [\n",
      "      \"00d66087-9b3b-46da-bf45cbe81d3c\"\n",
      "    ]\n",
      "  },\n",
      "  \"updated_state\": {\n",
      "    \"sentiment\": \"positive\",\n",
      "    \"emotion\": \"trust\",\n",
      "    \"social_relations\": [\n",
      "      {\n",
      "        \"character_uid\": \"00d66087-9b3b-46da-bf45cbe81d3c\",\n",
      "        \"emotion\": \"trust\",\n",
      "        \"knowledge\": [\n",
      "          \"Vivienne LaRoux is a renowned style influencer with an assertive demeanor.\",\n",
      "          \"Zephyr is playful, outgoing, and eager to connect, even with someone initially dismissive.\"\n",
      "        ]\n",
      "      }\n",
      "    ]\n",
      "  }\n",
      "}\n"
     ]
    }
   ],
   "source": [
    "print(predicted_action.model_dump_json(indent=2))"
   ]
  },
  {
   "cell_type": "markdown",
   "metadata": {},
   "source": [
    "# 2. Initialize Storytelling Agent"
   ]
  },
  {
   "cell_type": "code",
   "execution_count": 12,
   "metadata": {},
   "outputs": [],
   "source": [
    "SCENE_ACTION_HISTORY = []"
   ]
  },
  {
   "cell_type": "code",
   "execution_count": 14,
   "metadata": {},
   "outputs": [],
   "source": [
    "StorytellingSystemPrompt = '''You are a creative storyteller that does the following.\n",
    "Given the following informations about a story scene\n",
    "(1) select a character that should perform the action by their uid\n",
    "(2) use 'predict_action' to predict the next action\n",
    "(3) Return the predicted action\n",
    "\n",
    "# 1. Given Informations\n",
    "## Explanation\n",
    "* Scene Description:\n",
    "    * trope: the story trope that the given scene follows\n",
    "    * setting: location, background setting of the scene\n",
    "    \n",
    "* Characters: characters involved in this scene\n",
    "    * uid: unique id value that differentiates the characters\n",
    "    * description: description of the character\n",
    "\n",
    "* History: History of actions performed in this scene\n",
    "\n",
    "# 2. Use predict_action to predict the next action\n",
    "predict_action receives the following information and returns a predicted action\n",
    "Receives:\n",
    "* character_uid: uid of the character that will perform the action\n",
    "* scene_context: context summary that the character needs to know in order to predict an action\n",
    "    * keep the context very detailed so that the character can predict the appropriate action\n",
    "\n",
    "Returns:\n",
    "action in the following schema\n",
    "* think: the character's thought process that was used to predict the action\n",
    "* action: the action that was predicted\n",
    "* targets: UID of characters that are affected by this action\n",
    "{{\n",
    "    \"think\": str\n",
    "    \"action\": str,\n",
    "    \"targets\": List[str]\n",
    "}}\n",
    "    \n",
    "Return in the following JSON\n",
    "* return the action returned from predict_action as is \n",
    "{{\n",
    "    \"action\": {{\n",
    "        \"think\": str\n",
    "        \"action\": str,\n",
    "        \"targets\": List[str]\n",
    "    }}\n",
    "}}'''\n",
    "\n",
    "StorytellingUserTemplate = '''[Scene Description]\n",
    "trope:\n",
    "{scene_trope}\n",
    "\n",
    "setting:\n",
    "{scene_setting}\n",
    "\n",
    "[Characters]\n",
    "{characters}\n",
    "\n",
    "[History]\n",
    "{history}'''"
   ]
  },
  {
   "cell_type": "code",
   "execution_count": 15,
   "metadata": {},
   "outputs": [],
   "source": [
    "scene_trope = scene_dict[\"scene\"][\"revised_trope\"]\n",
    "scene_state = SceneState.model_validate(scene_dict[\"scene\"][\"scene\"])\n",
    "\n",
    "StorytellerAgent = Agent(\n",
    "    model=model,\n",
    "    name=\"storyteller\",\n",
    "    # deps_type=CharacterState,\n",
    "    output_type=CharacterAction,\n",
    "    system_prompt = StorytellingSystemPrompt\n",
    ")\n",
    "\n",
    "allowed_characters = create_dynamic_enum(\n",
    "    \"AllowedCharacterUIDs\",\n",
    "    list(CHARACTERS.keys())\n",
    ")\n",
    "@StorytellerAgent.tool\n",
    "async def predict_action(\n",
    "    ctx: RunContext[None],\n",
    "    character_uid: allowed_characters,\n",
    "    scene_context: str\n",
    ")->Optional[CharacterAction]:\n",
    "    character = CHARACTERS.get(character_uid, None)\n",
    "    if not character:\n",
    "        return None\n",
    "    \n",
    "    result = await predict_action(\n",
    "        character_uid=character_uid,\n",
    "        scene_context=scene_context\n",
    "    )\n",
    "    return result.action"
   ]
  },
  {
   "cell_type": "code",
   "execution_count": 16,
   "metadata": {},
   "outputs": [],
   "source": [
    "user_message = StorytellingUserTemplate.format(\n",
    "    scene_trope=scene_trope,\n",
    "    scene_setting=scene_state.model_dump(),\n",
    "    characters=json.dumps(\n",
    "        [v.model_dump() for k,v in CHARACTERS.items()]\n",
    "    ),\n",
    "    history=json.dumps(\n",
    "        [x.model_dump() for x in SCENE_ACTION_HISTORY]\n",
    "    ),\n",
    ")\n",
    "\n",
    "result = await StorytellerAgent.run(user_message)"
   ]
  },
  {
   "cell_type": "code",
   "execution_count": 21,
   "metadata": {},
   "outputs": [
    {
     "name": "stdout",
     "output_type": "stream",
     "text": [
      "{\n",
      "    \"think\": \"Zephyr, noticing that Vivienne's guard is lowering thanks to his humor, decides to keep the momentum going by offering her a playful and charming remark to cement this unexpected connection.\",\n",
      "    \"action_type\": \"Friendly-Gossip\",\n",
      "    \"description\": \"Zephyr looks at Vivienne with a wry smile, teasingly commenting on the dazzling fashion around them, hinting that even astronauts need to stay grounded in style.\",\n",
      "    \"dialogue\": \"You know, with all these sparkling outfits, I might as well be landing on a dazzling galaxy myself.\",\n",
      "    \"targets\": []\n",
      "}\n"
     ]
    }
   ],
   "source": [
    "print(result.output.model_dump_json(indent=4))"
   ]
  }
 ],
 "metadata": {
  "kernelspec": {
   "display_name": "llm",
   "language": "python",
   "name": "llm"
  },
  "language_info": {
   "codemirror_mode": {
    "name": "ipython",
    "version": 3
   },
   "file_extension": ".py",
   "mimetype": "text/x-python",
   "name": "python",
   "nbconvert_exporter": "python",
   "pygments_lexer": "ipython3",
   "version": "3.10.14"
  }
 },
 "nbformat": 4,
 "nbformat_minor": 2
}
