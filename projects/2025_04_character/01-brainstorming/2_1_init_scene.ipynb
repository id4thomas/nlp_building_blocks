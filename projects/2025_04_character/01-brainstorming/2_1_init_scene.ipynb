{
 "cells": [
  {
   "cell_type": "code",
   "execution_count": 1,
   "metadata": {},
   "outputs": [],
   "source": [
    "import json\n",
    "import os\n",
    "import random\n",
    "from typing import List, Dict\n",
    "import uuid\n",
    "\n",
    "from openai import OpenAI, AsyncOpenAI\n",
    "from pydantic import BaseModel, Extra, Field\n",
    "import tiktoken\n",
    "\n",
    "from config import settings, app_settings"
   ]
  },
  {
   "cell_type": "code",
   "execution_count": 2,
   "metadata": {},
   "outputs": [],
   "source": [
    "from src.simschat.models import CharacterSpecification, create_dynamic_enum"
   ]
  },
  {
   "cell_type": "code",
   "execution_count": 3,
   "metadata": {},
   "outputs": [],
   "source": [
    "openai_client = OpenAI(api_key=settings.openai_api_key)\n",
    "tokenizer = tiktoken.encoding_for_model(\"gpt-4o\")"
   ]
  },
  {
   "cell_type": "markdown",
   "metadata": {},
   "source": [
    "# 2. Scene Construction"
   ]
  },
  {
   "cell_type": "markdown",
   "metadata": {},
   "source": [
    "## 2-1. Sample Characters\n",
    "* select 2 characters from collection"
   ]
  },
  {
   "cell_type": "code",
   "execution_count": 4,
   "metadata": {},
   "outputs": [],
   "source": [
    "with open(\"simschat/character_collection.json\", \"r\") as f:\n",
    "    character_collection = json.load(f)\n",
    "\n",
    "character_ids = list(character_collection[\"source\"].keys())"
   ]
  },
  {
   "cell_type": "code",
   "execution_count": 5,
   "metadata": {},
   "outputs": [
    {
     "name": "stdout",
     "output_type": "stream",
     "text": [
      "35f0c56f-263d-42df-846c-e1833d8ca0ab wiki_Zephyr Orion.txt\n",
      "00d66087-9b3b-46da-bd74-bf45cbe81d3c wiki_Vivienne LaRoux.txt\n"
     ]
    }
   ],
   "source": [
    "# selected_character_ids = random.sample(character_ids, 2)\n",
    "\n",
    "# character1_id = selected_character_ids[0]\n",
    "# character2_id = selected_character_ids[1]\n",
    "\n",
    "# fix characters for testing\n",
    "character1_id=\"35f0c56f-263d-42df-846c-e1833d8ca0ab\"\n",
    "character2_id=\"00d66087-9b3b-46da-bd74-bf45cbe81d3c\"\n",
    "\n",
    "print(character1_id, character_collection[\"source\"][character1_id])\n",
    "print(character2_id, character_collection[\"source\"][character2_id])"
   ]
  },
  {
   "cell_type": "code",
   "execution_count": 6,
   "metadata": {},
   "outputs": [],
   "source": [
    "# Load Characters\n",
    "with open(f\"simschat/characters/{character1_id}.json\", \"r\") as f:\n",
    "    character1_spec = CharacterSpecification(**json.load(f))\n",
    "    \n",
    "with open(f\"simschat/characters/{character2_id}.json\", \"r\") as f:\n",
    "    character2_spec = CharacterSpecification(**json.load(f))"
   ]
  },
  {
   "cell_type": "code",
   "execution_count": 7,
   "metadata": {},
   "outputs": [],
   "source": [
    "class Character(BaseModel):\n",
    "    uid: str\n",
    "    spec: CharacterSpecification"
   ]
  },
  {
   "cell_type": "code",
   "execution_count": 8,
   "metadata": {},
   "outputs": [],
   "source": [
    "character1 = Character(\n",
    "    uid=character1_id,\n",
    "    spec=character1_spec\n",
    ")\n",
    "\n",
    "character2 = Character(\n",
    "    uid=character2_id,\n",
    "    spec=character2_spec\n",
    ")"
   ]
  },
  {
   "cell_type": "code",
   "execution_count": 9,
   "metadata": {},
   "outputs": [
    {
     "name": "stdout",
     "output_type": "stream",
     "text": [
      "{\n",
      "    \"uid\": \"35f0c56f-263d-42df-846c-e1833d8ca0ab\",\n",
      "    \"spec\": {\n",
      "        \"name\": \"Zephyr Orion\",\n",
      "        \"gender\": \"male\",\n",
      "        \"age\": 28,\n",
      "        \"dialogue_tone\": \"playful, jovial, and engaging, with a witty humor and warmth that makes everyone feel at ease. Known for storytelling with captivating tales of space adventures.\",\n",
      "        \"career\": \"Astronaut\",\n",
      "        \"personality_traits\": [\n",
      "            {\n",
      "                \"trait\": \"Goofball\",\n",
      "                \"description\": \"Enjoys joking and making others laugh, bringing a playful spirit to social situations.\"\n",
      "            },\n",
      "            {\n",
      "                \"trait\": \"Materialistic\",\n",
      "                \"description\": \"Loves acquiring new possessions and often leans towards bragging about them.\"\n",
      "            },\n",
      "            {\n",
      "                \"trait\": \"Outgoing\",\n",
      "                \"description\": \"Flourishes in social situations and enjoys being around people.\"\n",
      "            },\n",
      "            {\n",
      "                \"trait\": \"Gloomy\",\n",
      "                \"description\": \"Grows sad when left alone for too long.\"\n",
      "            },\n",
      "            {\n",
      "                \"trait\": \"Ambitious\",\n",
      "                \"description\": \"Continuously strives to reach new milestones in his career.\"\n",
      "            }\n",
      "        ],\n",
      "        \"hobbies\": [\n",
      "            \"Fitness\",\n",
      "            \"Cooking\",\n",
      "            \"Painting\"\n",
      "        ],\n",
      "        \"living_conditions\": [\n",
      "            \"Resides in a modern city apartment filled with space memorabilia and art supplies.\",\n",
      "            \"Leads a healthy lifestyle, working out regularly, and maintaining balanced meals.\"\n",
      "        ],\n",
      "        \"social_relationships\": [\n",
      "            {\n",
      "                \"target\": \"Close-knit group of friends\",\n",
      "                \"status\": \"positive\",\n",
      "                \"description\": \"Share a strong bond through a mutual passion for space exploration.\"\n",
      "            },\n",
      "            {\n",
      "                \"target\": \"Community and professional field\",\n",
      "                \"status\": \"positive\",\n",
      "                \"description\": \"Well-respected and liked within community and professional circles.\"\n",
      "            }\n",
      "        ]\n",
      "    }\n",
      "}\n"
     ]
    }
   ],
   "source": [
    "print(character1.model_dump_json(indent=4))"
   ]
  },
  {
   "cell_type": "markdown",
   "metadata": {},
   "source": [
    "## 2-1. Generate initial trope"
   ]
  },
  {
   "cell_type": "code",
   "execution_count": 10,
   "metadata": {},
   "outputs": [
    {
     "name": "stderr",
     "output_type": "stream",
     "text": [
      "/var/folders/wj/0c7skj2154q4844jqxlw3yxr0000gn/T/ipykernel_89360/1748596206.py:20: PydanticDeprecatedSince20: `pydantic.config.Extra` is deprecated, use literal values instead (e.g. `extra='allow'`). Deprecated in Pydantic V2.0 to be removed in V3.0. See Pydantic V2 Migration Guide at https://errors.pydantic.dev/2.10/migration/\n",
      "  extra = Extra.forbid\n"
     ]
    }
   ],
   "source": [
    "TROPE_INIT_INSTRUCTION = '''Given the following 2 character specifications write a story trope that is suitable for the interaction of these characters.\n",
    "\n",
    "[Character1]\n",
    "{character1}\n",
    "[Character2]\n",
    "{character2}\n",
    "\n",
    "Return in the following json format\n",
    "{{\"trope\": str}}\n",
    "\n",
    "Rules:\n",
    "* trope must be detailed description in minimum 3 sentences.\n",
    "* trope must focus on character behavioral, emotional interaction and less about the surrounding settings (environment) of the characters\n",
    "* trope should describe a single small scene, keep the scope small\n",
    "* mention the character's gender, age, personality, living condition that are only relevant to the trope'''\n",
    "\n",
    "class InitTropeResult(BaseModel):\n",
    "    trope: str\n",
    "    class Config:\n",
    "        extra = Extra.forbid\n",
    "\n",
    "def generate_initial_trope(\n",
    "    character1: CharacterSpecification,\n",
    "    character2: CharacterSpecification,\n",
    "):\n",
    "    instruction = TROPE_INIT_INSTRUCTION.format(\n",
    "        character1=character1.model_dump_json(),\n",
    "        character2=character2.model_dump_json(),\n",
    "    )\n",
    "    # print(instruction)\n",
    "    messages = [\n",
    "        {\"role\": \"user\", \"content\": instruction}\n",
    "    ]\n",
    "    decode_params = {\"temperature\": 0.95}\n",
    "\n",
    "    response = openai_client.beta.chat.completions.parse(\n",
    "        model=\"gpt-4o\",\n",
    "        messages=messages,\n",
    "        response_format=InitTropeResult,\n",
    "        **decode_params,\n",
    "    )\n",
    "    return response.choices[0].message.parsed.trope\n",
    "    "
   ]
  },
  {
   "cell_type": "code",
   "execution_count": 11,
   "metadata": {},
   "outputs": [],
   "source": [
    "# initial_trope=generate_initial_trope(\n",
    "#     character1, character2\n",
    "# )\n",
    "initial_trope=\"In the glamorous hustle and bustle of a metropolitan fashion gala, **Zephyr Orion**, a 28-year-old social magnet with an astronaut's bravado, finds himself drawn to the assertive allure of **Vivienne LaRoux**, a renowned 28-year-old style influencer. Standing out in the crowd with his easy-going charm, Zephyr playfully engages Vivienne in a conversation, his jocular tone a stark contrast to her sharply assertive style. She, poised and confident, initially dismisses Zephyr's witty banter with an elegant roll of the eyes, but his relentless charisma gradually cracks her facade, revealing a flicker of intrigued amusement. Despite Vivienne's mean streak occasionally surfacing, the evening unfolds into a dynamic exchange, Zephyr's warmth melting Vivienne's icy exterior as they navigate through complex social dance, caught between playful banter and subtle challenges to each other's worldviews.\""
   ]
  },
  {
   "cell_type": "code",
   "execution_count": 12,
   "metadata": {},
   "outputs": [
    {
     "name": "stdout",
     "output_type": "stream",
     "text": [
      "In the glamorous hustle and bustle of a metropolitan fashion gala, **Zephyr Orion**, a 28-year-old social magnet with an astronaut's bravado, finds himself drawn to the assertive allure of **Vivienne LaRoux**, a renowned 28-year-old style influencer. Standing out in the crowd with his easy-going charm, Zephyr playfully engages Vivienne in a conversation, his jocular tone a stark contrast to her sharply assertive style. She, poised and confident, initially dismisses Zephyr's witty banter with an elegant roll of the eyes, but his relentless charisma gradually cracks her facade, revealing a flicker of intrigued amusement. Despite Vivienne's mean streak occasionally surfacing, the evening unfolds into a dynamic exchange, Zephyr's warmth melting Vivienne's icy exterior as they navigate through complex social dance, caught between playful banter and subtle challenges to each other's worldviews.\n"
     ]
    }
   ],
   "source": [
    "print(initial_trope)"
   ]
  },
  {
   "cell_type": "markdown",
   "metadata": {},
   "source": [
    "## 2-2. Retrieve similar tropes"
   ]
  },
  {
   "cell_type": "code",
   "execution_count": 13,
   "metadata": {},
   "outputs": [],
   "source": [
    "from qdrant_client import QdrantClient\n",
    "from llama_index.core import (\n",
    "\tDocument,\n",
    "\tSimpleDirectoryReader, VectorStoreIndex,\n",
    "\tStorageContext,\n",
    "\tSettings,\n",
    "\tQueryBundle\n",
    ")\n",
    "\n",
    "from llama_index.embeddings.text_embeddings_inference import (\n",
    "    TextEmbeddingsInference,\n",
    ")\n",
    "\n",
    "from src.tropes.retriever import TropeRetriever"
   ]
  },
  {
   "cell_type": "code",
   "execution_count": 14,
   "metadata": {},
   "outputs": [],
   "source": [
    "embedder = TextEmbeddingsInference(\n",
    "    settings.embedding_model,\n",
    "    base_url=settings.embedding_base_url,\n",
    "    auth_token=settings.embedding_api_key\n",
    ")\n",
    "Settings.embed_model = embedder\n",
    "client = QdrantClient(host=\"localhost\", port=app_settings.qdrant_port)\n",
    "\n",
    "retriever = TropeRetriever(client)"
   ]
  },
  {
   "cell_type": "code",
   "execution_count": 15,
   "metadata": {},
   "outputs": [
    {
     "name": "stdout",
     "output_type": "stream",
     "text": [
      "5\n"
     ]
    }
   ],
   "source": [
    "retrieved_tropes = retriever.retrieve(initial_trope)\n",
    "print(len(retrieved_tropes))"
   ]
  },
  {
   "cell_type": "code",
   "execution_count": 16,
   "metadata": {},
   "outputs": [
    {
     "name": "stdout",
     "output_type": "stream",
     "text": [
      "trope_id='t13173' name='LoonyFriendsImproveYourPersonality' explanation='A stiff character learns and grows from unwanted interaction with annoying and eccentric people.\\nThe focus character is a fairly stiff guy (rarely a gal), may be the Only Sane Man, The Comically Serious or a Jerkass of the \"stick up his rear\" type, and often comes across as an Ineffectual Loner. He may not be content with his life, but it\\'s stable, and he probably has a long-term plan for fixing what he thinks is wrong, if he can just get the right breaks. Instead, he is dragged into wacky hijinks by the other characters against his will, making a mess of his life. But implicitly or explicitly, the goal in the story is to make him a better person by putting him through \"horrible\" experiences - or at least ones he considers horrible, in order to show him the brighter side of things.\\nMay involve a Manic Pixie Dream Girl, but in most examples, it\\'s an entire cast imposing on the stiff guy\\'s time, money and patience. The Power of Friendship is usually evoked by the end of the story. There may be a montage as the character remembers how things used to be, and how despite how much the other characters irritate them, they have made stiff guy a better person by getting him to take off his Jade-Colored Glasses.\\nContrast Defrosting Ice Queen, an Always Female version, and Unsympathetic Comedy Protagonist, who may have a similar personality and equally annoying cohorts, but does not have the Character Development.'\n",
      "trope_id='t20361' name='SilverFox' explanation=\"Age is all in the mind.\\nWell, for some people, anyway. Most of us will likely get grumpy, perverted, or past our prime and will end up trying anything in order to look younger.\\nBut then, there are those who get better as they age; the ones who still qualify for the 'desirable' tag, even when they're grandparents. These men and women have maintained their dashing good looks, class, and sex appeal despite — or because of — their greying hair.\\nThey become a Silver Fox. Or, if they're female, a Silver Vixen.\\nA Silver Fox is an attractive, distinguished older (generally over 40) person, often noted for their sexy silver or white hair along with their good looks and charm. Note that this trope is only applicable to characters that look visibly old—characters who are Older Than They Look and resemble young people despite their age don't count.\\nFor the manga, go here. Not to be confused with either Gray Fox or actual silver foxes. For attractive characters that are literal foxes, see Foxy Vixen.\"\n",
      "trope_id='t29724' name='InterGenerationalFriendship' explanation=\"Two people are good friends. Only, one is about twice, or even three times the other person's age! Considering their differences in life experiences and worldviews, how do they relate? What could they possibly have in common? Assuming this is actually a platonic friendship and not something far more sinister, or for that matter an overtly stated mentoring situation, intergenerational friendships can be pretty weird. As the Real Life section indicates, while not everyone finds older or younger people completely unapproachable, there's still frequently a gap there.\\nThis can take the form of a young adult from one generation befriending someone old enough to be their parent or even grandparent, such as in the comedy Finding Forrester. It can take the form of an adult befriending a misguided or vulnerable youth, as in the French film Leon. Sometimes, the two happen to have more in common than they think, such as having surprisingly similar life experiences. Sometimes the younger generation is more mature, or the older generation is less mature - the latter especially helps writers to dodge away from worrying questions being asked about sexual attraction.\\nAs for how they become friends, it could well be contrived circumstances that bring them together, or a shared life experience. Sometimes it's a teacher trying to help a troubled teen, leading to them becoming close friends. Either way, the situation that leads to their friendship would often be something out of the ordinary, since in real life, people of two widely different age groups generally do not reach out to each other.\\nSadly though, if it's an adult and a child who are friends, in modern stories, expect someone to misinterpret it as being sexual, and violence to possibly result. Sometimes the younger one will have an innocent Precocious Crush on the older one.\\nThis trope does not generally apply if it's a parent-child relation between the two.\\nA subtrope of Odd Friendship. Contrast Age-Gap Romance and May–December Romance, in which there is a generation gap between romantic partners. Sister Trope to Mayfly–December Friendship, which involves friendship between beings of vastly different lifespans.\"\n",
      "trope_id='t19375' name='SavvyGuyEnergeticGirl' explanation=\"This is a potential pairing (platonic or otherwise) between a pragmatic guy and a girl who is very full of energy.\\nThe usual gender stereotype is that guys are stronger and may only care about sex, while girls are soft but nicer/smarter. This averts that stereotype (for the most part at least): the guy is the smart but physically inept one and it seems he got himself the company of a girl who most would have trouble keeping up with in the first place.\\nIn some cases, the girl can be smarter than the guy, but because she's too busy trying to have fun, this is occasional at most. Perhaps this is why she acts as a Morality Pet sometimes. Compare Good Is Dumb, although she's more likely to merely be calling out the savvy guy than be evil in her smart moments.\\nIf the guy and the girl are in a romantic relationship, the girl may also be a Manic Pixie Dream Girl. If this girl is living with several savvy guys, she's likely a Nerd Nanny.\\nUnlike the Savvy Girl, the Savvy Guy is usually wittier and more prone to wisecracks, and doesn't give in to his emotions quite as much.\\nIt doesn't even have to be a guy or a girl, either. Many works featuring male x male or female x female romantic relationships will also follow the trope, with one partner being perky and optimistic while the other is savvy and smarter.\\nCompare Perky Female Minion, Uptight Loves Wild, Red Oni, Blue Oni, Strong Girl, Smart Guy, Masculine Girl, Feminine Boy. For another couples trope based on personality, see Brooding Boy, Gentle Girl.\"\n",
      "trope_id='t11647' name='IntergenerationalFriendship' explanation=\"Two people are good friends. Only, one is about twice, or even three times the other person's age! Considering their differences in life experiences and worldviews, how do they relate? What could they possibly have in common? Assuming this is actually a platonic friendship and not something far more sinister, or for that matter an overtly stated mentoring situation, intergenerational friendships can be pretty weird. As the Real Life section indicates, while not everyone finds older or younger people completely unapproachable, there's still frequently a gap there.\\nThis can take the form of a young adult from one generation befriending someone old enough to be their parent or even grandparent, such as in the comedy Finding Forrester. It can take the form of an adult befriending a misguided or vulnerable youth, as in the French film Leon. Sometimes, the two happen to have more in common than they think, such as having surprisingly similar life experiences. Sometimes the younger generation is more mature, or the older generation is less mature - the latter especially helps writers to dodge away from worrying questions being asked about sexual attraction.\\nAs for how they become friends, it could well be contrived circumstances that bring them together, or a shared life experience. Sometimes it's a teacher trying to help a troubled teen, leading to them becoming close friends. Either way, the situation that leads to their friendship would often be something out of the ordinary, since in real life, people of two widely different age groups generally do not reach out to each other.\\nSadly though, if it's an adult and a child who are friends, in modern stories, expect someone to misinterpret it as being sexual, and violence to possibly result. Sometimes the younger one will have an innocent Precocious Crush on the older one.\\nThis trope does not generally apply if it's a parent-child relation between the two.\\nA subtrope of Odd Friendship. Contrast Age-Gap Romance and May–December Romance, in which there is a generation gap between romantic partners. Sister Trope to Mayfly–December Friendship, which involves friendship between beings of vastly different lifespans.\"\n"
     ]
    }
   ],
   "source": [
    "for trope in retrieved_tropes:\n",
    "    print(trope)"
   ]
  },
  {
   "cell_type": "markdown",
   "metadata": {},
   "source": [
    "## 2-4. Refine"
   ]
  },
  {
   "cell_type": "code",
   "execution_count": 17,
   "metadata": {},
   "outputs": [
    {
     "name": "stderr",
     "output_type": "stream",
     "text": [
      "/var/folders/wj/0c7skj2154q4844jqxlw3yxr0000gn/T/ipykernel_89360/1847138306.py:12: PydanticDeprecatedSince20: `pydantic.config.Extra` is deprecated, use literal values instead (e.g. `extra='allow'`). Deprecated in Pydantic V2.0 to be removed in V3.0. See Pydantic V2 Migration Guide at https://errors.pydantic.dev/2.10/migration/\n",
      "  extra = Extra.forbid\n"
     ]
    }
   ],
   "source": [
    "def format_trope(trope):\n",
    "    return \"{{\\\"name\\\": {name}, \\\"explanation\\\": {explanation}}}\".format(\n",
    "        name=trope.name, explanation=trope.explanation\n",
    "    )\n",
    "    \n",
    "class SceneState(BaseModel):\n",
    "    location: str\n",
    "    setting: str\n",
    "    explanation: str\n",
    "    \n",
    "    class Config:\n",
    "        extra = Extra.forbid\n",
    "        use_enum_values = True"
   ]
  },
  {
   "cell_type": "code",
   "execution_count": 18,
   "metadata": {},
   "outputs": [],
   "source": [
    "TROPE_REFINE_INSTRUCTION = '''You are a storyteller which is coming up with a suitable scene using the given information.\n",
    "# Given Informations\n",
    "You will be given the following informations\n",
    "* 2 Character descriptions\n",
    "* A draft version of the story trope involving these 2 characters\n",
    "* Reference story tropes that can be used to refine the draft\n",
    "\n",
    "Revise the draft trope by taking into considerations the Reference Tropes.\n",
    "* Only utilize the reference tropes if they are applicable to the given characters\n",
    "\n",
    "## Characters\n",
    "Character1:\n",
    "{character1}\n",
    "\n",
    "Character2:\n",
    "{character2}\n",
    "\n",
    "## Draft Trope\n",
    "{initial_trope}\n",
    "\n",
    "## Reference Tropes\n",
    "{reference_tropes}\n",
    "\n",
    "# Refine Process:\n",
    "Refine the draft trope by writing the following informations\n",
    "* 'revised_trope': \n",
    "* 'utilized_reference_tropes':\n",
    "* 'scene': explanation of the scene with background informations including location/setting\n",
    "\n",
    "Return in the following json format\n",
    "{{\n",
    "    \"revised_trope\": str,\n",
    "    \"utilized_reference_tropes\": List[str],\n",
    "    \"scene\": {{\n",
    "        \"location\": str,\n",
    "        \"setting\": str,\n",
    "        \"explanation\": str\n",
    "    }}\n",
    "}}\n",
    "* only return the name of the referenced tropes in utilized_reference_tropes\n",
    "\n",
    "Rules:\n",
    "* trope must be detailed description in minimum 3 sentences.\n",
    "* trope must focus on character behavioral, emotional interaction and less about the surrounding settings (environment) of the characters\n",
    "* trope should describe a single small scene, keep the scope small\n",
    "* mention the character's gender, age, personality, living condition that are only relevant to the trope\n",
    "'''"
   ]
  },
  {
   "cell_type": "code",
   "execution_count": 19,
   "metadata": {},
   "outputs": [],
   "source": [
    "refine_instruction = TROPE_REFINE_INSTRUCTION.format(\n",
    "    character1=character1.spec.model_dump_json(),\n",
    "    character2=character2.spec.model_dump_json(),\n",
    "    initial_trope=initial_trope,\n",
    "    reference_tropes=\"\\n\".join([format_trope(x) for x in retrieved_tropes])\n",
    ")\n",
    "# print(refine_instruction)"
   ]
  },
  {
   "cell_type": "code",
   "execution_count": 20,
   "metadata": {},
   "outputs": [
    {
     "name": "stderr",
     "output_type": "stream",
     "text": [
      "/var/folders/wj/0c7skj2154q4844jqxlw3yxr0000gn/T/ipykernel_89360/2621776176.py:7: PydanticDeprecatedSince20: `pydantic.config.Extra` is deprecated, use literal values instead (e.g. `extra='allow'`). Deprecated in Pydantic V2.0 to be removed in V3.0. See Pydantic V2 Migration Guide at https://errors.pydantic.dev/2.10/migration/\n",
      "  extra = Extra.forbid\n"
     ]
    }
   ],
   "source": [
    "class RefineTropeOutput(BaseModel):\n",
    "    revised_trope: str\n",
    "    utilized_reference_tropes: List[str]\n",
    "    scene: SceneState\n",
    "    \n",
    "    class Config:\n",
    "        extra = Extra.forbid\n",
    "        use_enum_values = True"
   ]
  },
  {
   "cell_type": "code",
   "execution_count": 21,
   "metadata": {},
   "outputs": [],
   "source": [
    "messages = [\n",
    "    {\"role\": \"user\", \"content\": refine_instruction}\n",
    "]\n",
    "decode_params = {\"temperature\": 0.95}\n",
    "\n",
    "response = openai_client.beta.chat.completions.parse(\n",
    "    model=\"gpt-4o\",\n",
    "    messages=messages,\n",
    "    response_format=RefineTropeOutput,\n",
    "    **decode_params,\n",
    ")\n",
    "initialized_scene = response.choices[0].message.parsed"
   ]
  },
  {
   "cell_type": "code",
   "execution_count": 22,
   "metadata": {},
   "outputs": [
    {
     "name": "stdout",
     "output_type": "stream",
     "text": [
      "{\n",
      "    \"revised_trope\": \"Inside the bustling grandeur of the metropolitan fashion gala, Zephyr Orion, a 28-year-old jocular astronaut with a penchant for playful storytelling, encounters Vivienne LaRoux. Vivienne, also 28, exudes sophistication and an assertive demeanor as a renowned style influencer. Initially, she greets Zephyr's lighthearted banter with icy indifference, her mean streak surfacing sporadically. However, Zephyr's infectious humor gradually softens her edges, revealing a subtly receptive side. Their verbal dance, rich with lively exchanges, challenges both to reconsider their outlooks, Zephyr embracing Vivienne's world of high fashion while she discovers a brighter perspective in his social magnetism.\",\n",
      "    \"utilized_reference_tropes\": [\n",
      "        \"Defrosting Ice Queen\",\n",
      "        \"SavvyGuyEnergeticGirl\"\n",
      "    ],\n",
      "    \"scene\": {\n",
      "        \"location\": \"The Metropolitan Fashion Gala\",\n",
      "        \"setting\": \"An opulent event hall adorned with sparkling chandeliers and cutting-edge fashion displays.\",\n",
      "        \"explanation\": \"In the midst of a vibrant and luxurious fashion gala, Zephyr Orion and Vivienne LaRoux engage in a compelling social interaction. Zephyr, with his distinctive brand of humor and affable nature, engages Vivienne in a conversation that is both disarming and endearing. Their exchange, a medley of banter and keen observations, reflects not only their mutual intrigue but also hints at a budding dynamic that bridges their contrasting worlds of space and style. As the evening unfolds, both characters experience subtle shifts in their perspectives, opening their minds to each other's unique lives, and suggesting the start of a meaningful connection.\"\n",
      "    }\n",
      "}\n"
     ]
    }
   ],
   "source": [
    "print(initialized_scene.model_dump_json(indent=4))"
   ]
  },
  {
   "cell_type": "markdown",
   "metadata": {},
   "source": [
    "# 3. Character state initialization"
   ]
  },
  {
   "cell_type": "code",
   "execution_count": 40,
   "metadata": {},
   "outputs": [],
   "source": [
    "## Emotion\n",
    "emotion_descriptions = {\n",
    "    \"joy\": \"Joy is a bright, uplifting emotion that reflects happiness, satisfaction, and a sense of well-being. It often arises when our desires are fulfilled or we experience positive moments, and it helps energize both our minds and bodies. Joy can enhance social connections and overall resilience by radiating positivity\",\n",
    "    \"trust\": \"Trust is the reassuring feeling of confidence and security in another person or situation. It builds from consistent, reliable interactions and underpins strong, supportive relationships. This emotion fosters cooperation and reduces anxiety by creating a sense of safety\",\n",
    "    \"fear\": \"Fear is an instinctive response to perceived threats that activates our fight-or-flight mechanism. It heightens awareness and prepares our body to respond quickly to danger, making it essential for survival. Despite its discomfort, fear is a crucial signal that prompts protective action and risk assessment\",\n",
    "    \"surprise\": \"Surprise occurs when we encounter the unexpected, momentarily halting our regular thought process. This emotion can be positive, neutral, or even negative, depending on the context, and often sparks curiosity about what comes next. Its brief nature helps redirect our focus and encourages adaptive responses to new situations\",\n",
    "    \"sadness\": \"Sadness is a deep, reflective emotion that often emerges from loss, disappointment, or unmet expectations. It can lead to introspection and a desire for support as we navigate feelings of grief or dejection. Although challenging, sadness can also foster empathy and pave the way for emotional healing and growth\",\n",
    "    \"disgust\": \"Disgust is an aversive emotion that signals rejection toward something perceived as harmful, unclean, or morally offensive. It serves as a protective mechanism, prompting us to avoid substances or situations that might be dangerous. This emotion plays a vital role in maintaining both physical health and ethical boundaries\",\n",
    "    \"anger\": \"Anger arises when we perceive injustice, frustration, or a threat to our well-being, often urging us to act in response. It can manifest as physical tension and heightened energy, signaling that something in our environment needs to change. When managed effectively, anger can motivate constructive action and help assert personal boundaries\",\n",
    "    \"anticipation\": \"Anticipation is the forward-looking emotion characterized by a mix of excitement and apprehension about future events. It motivates preparation and planning while balancing hope with cautious vigilance. This emotion bridges the gap between our present state and the potential for positive outcomes in the future\",\n",
    "}\n",
    "\n",
    "EmotionalState = create_dynamic_enum(\"EmtionalState\", list(emotion_descriptions.keys()))\n",
    "\n",
    "Sentiment = create_dynamic_enum(\"Sentiment\", [\"positive\", \"neutral\", \"negative\"])"
   ]
  },
  {
   "cell_type": "code",
   "execution_count": 41,
   "metadata": {},
   "outputs": [
    {
     "name": "stderr",
     "output_type": "stream",
     "text": [
      "/var/folders/wj/0c7skj2154q4844jqxlw3yxr0000gn/T/ipykernel_89360/3577680599.py:8: PydanticDeprecatedSince20: `pydantic.config.Extra` is deprecated, use literal values instead (e.g. `extra='allow'`). Deprecated in Pydantic V2.0 to be removed in V3.0. See Pydantic V2 Migration Guide at https://errors.pydantic.dev/2.10/migration/\n",
      "  extra = Extra.forbid\n",
      "/var/folders/wj/0c7skj2154q4844jqxlw3yxr0000gn/T/ipykernel_89360/3577680599.py:17: PydanticDeprecatedSince20: `pydantic.config.Extra` is deprecated, use literal values instead (e.g. `extra='allow'`). Deprecated in Pydantic V2.0 to be removed in V3.0. See Pydantic V2 Migration Guide at https://errors.pydantic.dev/2.10/migration/\n",
      "  extra = Extra.forbid\n"
     ]
    }
   ],
   "source": [
    "class CharacterRelationState(BaseModel):\n",
    "    \"\"\"1-directional Relationship state between 2 characters\"\"\"\n",
    "    character_uid: str\n",
    "    emotion: EmotionalState\n",
    "    knowledge: List[str]\n",
    "    \n",
    "    class Config:\n",
    "        extra = Extra.forbid\n",
    "        use_enum_values = True\n",
    "\n",
    "class CharacterState(BaseModel):\n",
    "    sentiment: Sentiment\n",
    "    emotion: EmotionalState\n",
    "    social_relations: List[CharacterRelationState]\n",
    "    \n",
    "    class Config:\n",
    "        extra = Extra.forbid\n",
    "        use_enum_values = True\n",
    "    "
   ]
  },
  {
   "cell_type": "code",
   "execution_count": 42,
   "metadata": {},
   "outputs": [],
   "source": [
    "CHARACTER_STATE_INIT_INSTRUCTION = '''You are a storyteller which is coming up with an initial state of 2 characters\n",
    "# Given Informations\n",
    "You will be given the following informations\n",
    "* 2 Character descriptions\n",
    "* Scene description\n",
    "Write the initial state of each character at the start of the scene\n",
    "\n",
    "## Characters\n",
    "Character1:\n",
    "{character1}\n",
    "\n",
    "Character2:\n",
    "{character2}\n",
    "\n",
    "## Scene\n",
    "{scene}\n",
    "\n",
    "# Character State Initialization:\n",
    "A character's state consists of the following informations\n",
    "* polarity: sentiment towards the character (positive/neutral/negative)\n",
    "* emotion: emotional state of the character\n",
    "* social_relations: a one-directional relationship with other characters. (ex. what character1 thinks of character2)\n",
    "    * character_uid: uid of the target character\n",
    "    * emotion: emotional relation towards the other character\n",
    "    * knowledge: what the character knows about the other character \n",
    "* only write the relations between the given characters\n",
    "\n",
    "## Emotions\n",
    "utilize the following emotion descriptions (from Plutchik's emotion wheel) to describe the emotional state of the character\n",
    "* \"joy\": Joy is a bright, uplifting emotion that reflects happiness, satisfaction, and a sense of well-being. It often arises when our desires are fulfilled or we experience positive moments, and it helps energize both our minds and bodies. Joy can enhance social connections and overall resilience by radiating positivity\n",
    "* \"trust\": Trust is the reassuring feeling of confidence and security in another person or situation. It builds from consistent, reliable interactions and underpins strong, supportive relationships. This emotion fosters cooperation and reduces anxiety by creating a sense of safety\n",
    "* \"fear\": Fear is an instinctive response to perceived threats that activates our fight-or-flight mechanism. It heightens awareness and prepares our body to respond quickly to danger, making it essential for survival. Despite its discomfort, fear is a crucial signal that prompts protective action and risk assessment\n",
    "* \"surprise\": Surprise occurs when we encounter the unexpected, momentarily halting our regular thought process. This emotion can be positive, neutral, or even negative, depending on the context, and often sparks curiosity about what comes next. Its brief nature helps redirect our focus and encourages adaptive responses to new situations\n",
    "* \"sadness\": Sadness is a deep, reflective emotion that often emerges from loss, disappointment, or unmet expectations. It can lead to introspection and a desire for support as we navigate feelings of grief or dejection. Although challenging, sadness can also foster empathy and pave the way for emotional healing and growth\n",
    "* \"disgust\": Disgust is an aversive emotion that signals rejection toward something perceived as harmful, unclean, or morally offensive. It serves as a protective mechanism, prompting us to avoid substances or situations that might be dangerous. This emotion plays a vital role in maintaining both physical health and ethical boundaries\n",
    "* \"anger\": Anger arises when we perceive injustice, frustration, or a threat to our well-being, often urging us to act in response. It can manifest as physical tension and heightened energy, signaling that something in our environment needs to change. When managed effectively, anger can motivate constructive action and help assert personal boundaries\n",
    "* \"anticipation\": Anticipation is the forward-looking emotion characterized by a mix of excitement and apprehension about future events. It motivates preparation and planning while balancing hope with cautious vigilance. This emotion bridges the gap between our present state and the potential for positive outcomes in the future\n",
    "\n",
    "Return in the following json format\n",
    "{{\n",
    "    \"character1_uid\": str,\n",
    "    \"character1_state\": {{\n",
    "        \"polarity\": str,\n",
    "        \"emotion\": str,\n",
    "        \"social_relations\": [\n",
    "            {{\n",
    "                \"character_uid\": str,\n",
    "                \"emotion\": str,\n",
    "                \"knowledge\": List[str]\n",
    "            }},\n",
    "            ...\n",
    "        ]\n",
    "    }},\n",
    "    \"character1_uid\": str,\n",
    "    \"character2_state\": {{\n",
    "        \"polarity\": str,\n",
    "        \"emotion\": str,\n",
    "        \"social_relations\": [\n",
    "            {{\n",
    "                \"character_uid\": str,\n",
    "                \"emotion\": str,\n",
    "                \"knowledge\": List[str]\n",
    "            }},\n",
    "            ...\n",
    "        ]\n",
    "    }}\n",
    "}}\n",
    "* only return the name of the referenced tropes in utilized_reference_tropes\n",
    "\n",
    "Rules:\n",
    "* trope must be detailed description in minimum 3 sentences.\n",
    "* trope must focus on character behavioral, emotional interaction and less about the surrounding settings (environment) of the characters\n",
    "* trope should describe a single small scene, keep the scope small\n",
    "* mention the character's gender, age, personality, living condition that are only relevant to the trope\n",
    "'''"
   ]
  },
  {
   "cell_type": "code",
   "execution_count": 43,
   "metadata": {},
   "outputs": [
    {
     "name": "stderr",
     "output_type": "stream",
     "text": [
      "/var/folders/wj/0c7skj2154q4844jqxlw3yxr0000gn/T/ipykernel_89360/3104826172.py:9: PydanticDeprecatedSince20: `pydantic.config.Extra` is deprecated, use literal values instead (e.g. `extra='allow'`). Deprecated in Pydantic V2.0 to be removed in V3.0. See Pydantic V2 Migration Guide at https://errors.pydantic.dev/2.10/migration/\n",
      "  extra = Extra.forbid\n"
     ]
    }
   ],
   "source": [
    "class CharacterStateInitOutput(BaseModel):\n",
    "    character1_uid: str\n",
    "    character1: CharacterState\n",
    "    \n",
    "    character2_uid: str\n",
    "    character2: CharacterState\n",
    "    \n",
    "    class Config:\n",
    "        extra = Extra.forbid\n",
    "        use_enum_values = True"
   ]
  },
  {
   "cell_type": "code",
   "execution_count": 44,
   "metadata": {},
   "outputs": [],
   "source": [
    "state_init_instruction = CHARACTER_STATE_INIT_INSTRUCTION.format(\n",
    "    character1=character1.model_dump_json(),\n",
    "    character2=character2.model_dump_json(),\n",
    "    scene=initialized_scene.model_dump_json(),\n",
    ")\n",
    "# print(refine_instruction)"
   ]
  },
  {
   "cell_type": "code",
   "execution_count": 45,
   "metadata": {},
   "outputs": [],
   "source": [
    "messages = [\n",
    "    {\"role\": \"user\", \"content\": state_init_instruction}\n",
    "]\n",
    "decode_params = {\"temperature\": 0.95}\n",
    "\n",
    "response = openai_client.beta.chat.completions.parse(\n",
    "    model=\"gpt-4o\",\n",
    "    messages=messages,\n",
    "    response_format=CharacterStateInitOutput,\n",
    "    **decode_params,\n",
    ")\n",
    "initialzed_character_states = response.choices[0].message.parsed"
   ]
  },
  {
   "cell_type": "code",
   "execution_count": 46,
   "metadata": {},
   "outputs": [
    {
     "name": "stdout",
     "output_type": "stream",
     "text": [
      "{\n",
      "    \"character1_uid\": \"35f0c56f-263d-42df-846c-e1833d8ca0ab\",\n",
      "    \"character1\": {\n",
      "        \"sentiment\": \"neutral\",\n",
      "        \"emotion\": \"anticipation\",\n",
      "        \"social_relations\": [\n",
      "            {\n",
      "                \"character_uid\": \"00d66087-9b3b-46da-bd74-bf45cbe81d3c\",\n",
      "                \"emotion\": \"trust\",\n",
      "                \"knowledge\": [\n",
      "                    \"Vivienne LaRoux is a renowned style influencer with an assertive demeanor.\",\n",
      "                    \"Vivienne initially greets Zephyr with icy indifference during their interaction at the gala.\",\n",
      "                    \"Despite Vivienne's dismissive nature, Zephyr sees potential for a deeper connection.\"\n",
      "                ]\n",
      "            }\n",
      "        ]\n",
      "    },\n",
      "    \"character2_uid\": \"00d66087-9b3b-46da-bd74-bf45cbe81d3c\",\n",
      "    \"character2\": {\n",
      "        \"sentiment\": \"neutral\",\n",
      "        \"emotion\": \"surprise\",\n",
      "        \"social_relations\": [\n",
      "            {\n",
      "                \"character_uid\": \"35f0c56f-263d-42df-846c-e1833d8ca0ab\",\n",
      "                \"emotion\": \"surprise\",\n",
      "                \"knowledge\": [\n",
      "                    \"Zephyr is a 28-year-old jocular astronaut known for his storytelling and humor.\",\n",
      "                    \"Zephyr engages Vivienne with playful banter despite her initial indifference.\",\n",
      "                    \"Vivienne is intrigued by Zephyr's ability to connect socially at the gala.\"\n",
      "                ]\n",
      "            }\n",
      "        ]\n",
      "    }\n",
      "}\n"
     ]
    }
   ],
   "source": [
    "print(initialzed_character_states.model_dump_json(indent=4))"
   ]
  },
  {
   "cell_type": "code",
   "execution_count": 47,
   "metadata": {},
   "outputs": [],
   "source": [
    "scene_id = str(uuid.uuid4())\n",
    "\n",
    "scene_dict = {\n",
    "    \"uid\": scene_id,\n",
    "    \"stage\": 0,\n",
    "    \"scene\": initialized_scene.model_dump(),\n",
    "    \"character_states\": initialzed_character_states.model_dump(),\n",
    "}\n",
    "with open(f\"simschat/scene/{scene_id}.json\", \"w\") as f:\n",
    "    f.write(json.dumps(scene_dict, indent=4))"
   ]
  },
  {
   "cell_type": "code",
   "execution_count": 48,
   "metadata": {},
   "outputs": [
    {
     "name": "stdout",
     "output_type": "stream",
     "text": [
      "2f2462c1-bdef-4089-b206-c47decd841f3\n"
     ]
    }
   ],
   "source": [
    "print(scene_id)"
   ]
  }
 ],
 "metadata": {
  "kernelspec": {
   "display_name": "docling",
   "language": "python",
   "name": "docling"
  },
  "language_info": {
   "codemirror_mode": {
    "name": "ipython",
    "version": 3
   },
   "file_extension": ".py",
   "mimetype": "text/x-python",
   "name": "python",
   "nbconvert_exporter": "python",
   "pygments_lexer": "ipython3",
   "version": "3.10.14"
  }
 },
 "nbformat": 4,
 "nbformat_minor": 2
}
