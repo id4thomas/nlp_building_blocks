{
 "cells": [
  {
   "cell_type": "code",
   "execution_count": 1,
   "metadata": {},
   "outputs": [],
   "source": [
    "import json\n",
    "import os\n",
    "import uuid\n",
    "\n",
    "import pandas as pd"
   ]
  },
  {
   "cell_type": "code",
   "execution_count": 20,
   "metadata": {},
   "outputs": [
    {
     "name": "stdout",
     "output_type": "stream",
     "text": [
      "(1076880, 3) Index(['source', 'relation', 'target'], dtype='object')\n",
      "train xReact 65984 oReact 54632\n",
      "React: 120616\n"
     ]
    }
   ],
   "source": [
    "comet_data_dir = \"/Users/id4thomas/datasets/commonsense/atomic2020_data-feb2021\"\n",
    "split = \"train\"\n",
    "# split = \"dev\"\n",
    "# split = \"test\"\n",
    "\n",
    "comet_df = pd.read_csv(os.path.join(comet_data_dir, f\"{split}.tsv\"), sep=\"\\t\", header=None, names=[\"source\", \"relation\", \"target\"])\n",
    "print(comet_df.shape, comet_df.columns)\n",
    "print(\n",
    "    \"{} xReact {} oReact {}\".format(\n",
    "        split,\n",
    "        comet_df[comet_df.relation=='xReact'].shape[0],\n",
    "        comet_df[comet_df.relation=='oReact'].shape[0]\n",
    "    )\n",
    ")\n",
    "\n",
    "react_df = comet_df[comet_df.relation.isin(['xReact', 'oReact'])]\n",
    "print(\"React: {}\".format(react_df.shape[0]))"
   ]
  },
  {
   "cell_type": "code",
   "execution_count": 21,
   "metadata": {},
   "outputs": [
    {
     "data": {
      "text/plain": [
       "20353"
      ]
     },
     "execution_count": 21,
     "metadata": {},
     "output_type": "execute_result"
    }
   ],
   "source": [
    "len(react_df.source.unique())"
   ]
  },
  {
   "cell_type": "code",
   "execution_count": 22,
   "metadata": {},
   "outputs": [
    {
     "name": "stdout",
     "output_type": "stream",
     "text": [
      "(36184, 3)\n"
     ]
    }
   ],
   "source": [
    "n = int(react_df.shape[0] * 0.3)\n",
    "react_df_sample = react_df.sample(n = n)\n",
    "print(react_df_sample.shape)"
   ]
  },
  {
   "cell_type": "code",
   "execution_count": 23,
   "metadata": {},
   "outputs": [
    {
     "data": {
      "text/plain": [
       "Index([497659, 153901, 469708, 455740, 809930, 612901, 377891, 27752, 438165,\n",
       "       703659],\n",
       "      dtype='int64')"
      ]
     },
     "execution_count": 23,
     "metadata": {},
     "output_type": "execute_result"
    }
   ],
   "source": [
    "react_df_sample.index[:10]"
   ]
  },
  {
   "cell_type": "code",
   "execution_count": 24,
   "metadata": {},
   "outputs": [],
   "source": [
    "react_df_sample.to_csv(f\"data/comet/{split}/react_sample.tsv\", sep=\"\\t\", index_label='original_idx')\n",
    "react_df_sample = pd.read_csv(f\"data/comet/{split}/react_sample.tsv\", sep=\"\\t\")"
   ]
  },
  {
   "cell_type": "code",
   "execution_count": 25,
   "metadata": {},
   "outputs": [
    {
     "data": {
      "text/html": [
       "<div>\n",
       "<style scoped>\n",
       "    .dataframe tbody tr th:only-of-type {\n",
       "        vertical-align: middle;\n",
       "    }\n",
       "\n",
       "    .dataframe tbody tr th {\n",
       "        vertical-align: top;\n",
       "    }\n",
       "\n",
       "    .dataframe thead th {\n",
       "        text-align: right;\n",
       "    }\n",
       "</style>\n",
       "<table border=\"1\" class=\"dataframe\">\n",
       "  <thead>\n",
       "    <tr style=\"text-align: right;\">\n",
       "      <th></th>\n",
       "      <th>original_idx</th>\n",
       "      <th>source</th>\n",
       "      <th>relation</th>\n",
       "      <th>target</th>\n",
       "    </tr>\n",
       "  </thead>\n",
       "  <tbody>\n",
       "    <tr>\n",
       "      <th>0</th>\n",
       "      <td>497659</td>\n",
       "      <td>PersonX reads PersonY's letters</td>\n",
       "      <td>oReact</td>\n",
       "      <td>none</td>\n",
       "    </tr>\n",
       "    <tr>\n",
       "      <th>1</th>\n",
       "      <td>153901</td>\n",
       "      <td>PersonX expects every ___</td>\n",
       "      <td>xReact</td>\n",
       "      <td>unsure</td>\n",
       "    </tr>\n",
       "    <tr>\n",
       "      <th>2</th>\n",
       "      <td>469708</td>\n",
       "      <td>PersonX produces ___ annually</td>\n",
       "      <td>oReact</td>\n",
       "      <td>very bad</td>\n",
       "    </tr>\n",
       "    <tr>\n",
       "      <th>3</th>\n",
       "      <td>455740</td>\n",
       "      <td>PersonX plays board games</td>\n",
       "      <td>xReact</td>\n",
       "      <td>entertained</td>\n",
       "    </tr>\n",
       "    <tr>\n",
       "      <th>4</th>\n",
       "      <td>809930</td>\n",
       "      <td>PersonX is very disappointed in PersonY</td>\n",
       "      <td>xReact</td>\n",
       "      <td>sad</td>\n",
       "    </tr>\n",
       "  </tbody>\n",
       "</table>\n",
       "</div>"
      ],
      "text/plain": [
       "   original_idx                                   source relation       target\n",
       "0        497659          PersonX reads PersonY's letters   oReact         none\n",
       "1        153901                PersonX expects every ___   xReact       unsure\n",
       "2        469708            PersonX produces ___ annually   oReact     very bad\n",
       "3        455740                PersonX plays board games   xReact  entertained\n",
       "4        809930  PersonX is very disappointed in PersonY   xReact          sad"
      ]
     },
     "execution_count": 25,
     "metadata": {},
     "output_type": "execute_result"
    }
   ],
   "source": [
    "react_df_sample.head()"
   ]
  },
  {
   "cell_type": "code",
   "execution_count": 26,
   "metadata": {},
   "outputs": [],
   "source": [
    "request_dir = f\"data/comet/{split}/request\""
   ]
  },
  {
   "cell_type": "code",
   "execution_count": 27,
   "metadata": {},
   "outputs": [],
   "source": [
    "def prepare_entries(rows):\n",
    "    uids = dict()\n",
    "    entries = []\n",
    "    for i in range(rows.shape[0]):\n",
    "        row = rows.iloc[i]\n",
    "        uid = str(uuid.uuid4())\n",
    "        entry = {\n",
    "            \"uid\": uid,\n",
    "            \"source\": row['source'],\n",
    "            \"relation\": row[\"relation\"],\n",
    "            \"target\": row[\"target\"]\n",
    "        }\n",
    "        \n",
    "        uids[int(row[\"original_idx\"])]=uid\n",
    "        entries.append(entry)\n",
    "    return uids, entries"
   ]
  },
  {
   "cell_type": "code",
   "execution_count": 28,
   "metadata": {},
   "outputs": [],
   "source": [
    "batch_size = 16\n",
    "\n",
    "for i in range(0, react_df_sample.shape[0], batch_size):\n",
    "    batch_df = react_df_sample.iloc[i:i+batch_size]\n",
    "    batch_uids, batch_entries = prepare_entries(batch_df)\n",
    "    request = {\n",
    "        \"uids\": batch_uids,\n",
    "        \"entries\": batch_entries,\n",
    "    }\n",
    "    with open(os.path.join(request_dir, f\"request_{i}_{i+batch_size}.json\"), \"w\") as f:\n",
    "        json.dump(request, f, indent=2)"
   ]
  },
  {
   "cell_type": "code",
   "execution_count": null,
   "metadata": {},
   "outputs": [],
   "source": []
  }
 ],
 "metadata": {
  "kernelspec": {
   "display_name": "llm",
   "language": "python",
   "name": "llm"
  },
  "language_info": {
   "codemirror_mode": {
    "name": "ipython",
    "version": 3
   },
   "file_extension": ".py",
   "mimetype": "text/x-python",
   "name": "python",
   "nbconvert_exporter": "python",
   "pygments_lexer": "ipython3",
   "version": "3.10.14"
  }
 },
 "nbformat": 4,
 "nbformat_minor": 2
}
