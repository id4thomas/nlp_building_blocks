{
 "cells": [
  {
   "cell_type": "code",
   "execution_count": 25,
   "id": "40fa6cce",
   "metadata": {},
   "outputs": [],
   "source": [
    "from collections import Counter\n",
    "import json\n",
    "import os\n",
    "\n",
    "import matplotlib.pyplot as plt\n",
    "import numpy as np\n",
    "\n",
    "import pandas as pd\n",
    "from transformers import pipeline"
   ]
  },
  {
   "cell_type": "markdown",
   "id": "fdb16019",
   "metadata": {},
   "source": [
    "# 1. Load Sentiment Analysis Pipeline"
   ]
  },
  {
   "cell_type": "code",
   "execution_count": 2,
   "id": "c694556a",
   "metadata": {},
   "outputs": [
    {
     "name": "stderr",
     "output_type": "stream",
     "text": [
      "No model was supplied, defaulted to distilbert/distilbert-base-uncased-finetuned-sst-2-english and revision 714eb0f (https://huggingface.co/distilbert/distilbert-base-uncased-finetuned-sst-2-english).\n",
      "Using a pipeline without specifying a model name and revision in production is not recommended.\n"
     ]
    },
    {
     "data": {
      "application/vnd.jupyter.widget-view+json": {
       "model_id": "0b865c8bf38244458eb7c82f7ff67512",
       "version_major": 2,
       "version_minor": 0
      },
      "text/plain": [
       "config.json:   0%|          | 0.00/629 [00:00<?, ?B/s]"
      ]
     },
     "metadata": {},
     "output_type": "display_data"
    },
    {
     "data": {
      "application/vnd.jupyter.widget-view+json": {
       "model_id": "9c6bb907c1d74bf9bc975b69caecceeb",
       "version_major": 2,
       "version_minor": 0
      },
      "text/plain": [
       "model.safetensors:   0%|          | 0.00/268M [00:00<?, ?B/s]"
      ]
     },
     "metadata": {},
     "output_type": "display_data"
    },
    {
     "data": {
      "application/vnd.jupyter.widget-view+json": {
       "model_id": "9fb30c53c85a4984a8ce7819592681a6",
       "version_major": 2,
       "version_minor": 0
      },
      "text/plain": [
       "tokenizer_config.json:   0%|          | 0.00/48.0 [00:00<?, ?B/s]"
      ]
     },
     "metadata": {},
     "output_type": "display_data"
    },
    {
     "data": {
      "application/vnd.jupyter.widget-view+json": {
       "model_id": "80f3b31e251741b69799b854cde9a4b4",
       "version_major": 2,
       "version_minor": 0
      },
      "text/plain": [
       "vocab.txt:   0%|          | 0.00/232k [00:00<?, ?B/s]"
      ]
     },
     "metadata": {},
     "output_type": "display_data"
    },
    {
     "name": "stderr",
     "output_type": "stream",
     "text": [
      "Device set to use mps\n"
     ]
    }
   ],
   "source": [
    "sentiment_pipeline = pipeline(\"sentiment-analysis\",device=\"mps\")"
   ]
  },
  {
   "cell_type": "markdown",
   "id": "727c7e03",
   "metadata": {},
   "source": [
    "# 2. Analyze Sampled Data\n",
    "* predict sentiment of 'target'"
   ]
  },
  {
   "cell_type": "code",
   "execution_count": 22,
   "id": "bff1949a",
   "metadata": {},
   "outputs": [],
   "source": [
    "weights = {\n",
    "    \"positive\": [],\n",
    "    \"neutral\": [],\n",
    "    \"negative\": []\n",
    "}\n",
    "\n",
    "splits = [\"train\", \"dev\", \"test\"]\n",
    "for split in splits:\n",
    "    df = pd.read_csv(f\"data/comet/{split}/react_sample.tsv\", sep = \"\\t\")\n",
    "    targets = [\n",
    "        x if isinstance(x, str) else \"none\" for x in df.target.values.tolist()\n",
    "    ]\n",
    "    predicted = sentiment_pipeline(targets)\n",
    "    labels = [x['label'] for x in predicted]\n",
    "    \n",
    "    counter = Counter(labels)\n",
    "    weights[\"positive\"].append(counter[\"POSITIVE\"]/len(targets))\n",
    "    weights[\"neutral\"].append(counter[\"NEUTRAL\"]/len(targets))\n",
    "    weights[\"negative\"].append(counter[\"NEGATIVE\"]/len(targets))"
   ]
  },
  {
   "cell_type": "code",
   "execution_count": 27,
   "id": "439749c9",
   "metadata": {},
   "outputs": [
    {
     "data": {
      "text/plain": [
       "{'positive': [0.5659563883591742, 0.5679574791192104, 0.5566037735849056],\n",
       " 'neutral': [0.0, 0.0, 0.0],\n",
       " 'negative': [0.4340436116408258, 0.43204252088078965, 0.44339622641509435]}"
      ]
     },
     "execution_count": 27,
     "metadata": {},
     "output_type": "execute_result"
    }
   ],
   "source": [
    "weights"
   ]
  },
  {
   "cell_type": "code",
   "execution_count": 31,
   "id": "501a36f3",
   "metadata": {},
   "outputs": [
    {
     "data": {
      "image/png": "[encoded data removed]",
      "text/plain": [
       "<Figure size 640x480 with 1 Axes>"
      ]
     },
     "metadata": {},
     "output_type": "display_data"
    }
   ],
   "source": [
    "width = 0.5\n",
    "\n",
    "fig, ax = plt.subplots()\n",
    "bottom = np.zeros(3)\n",
    "\n",
    "for boolean, weight_count in weights.items():\n",
    "    p = ax.bar(splits, weight_count, width, label=boolean, bottom=bottom)\n",
    "    bottom += weight_count\n",
    "\n",
    "ax.set_title(\"Sentiment distribution of targets\")\n",
    "# ax.legend(loc=\"upper right\")\n",
    "ax.legend()\n",
    "plt.tight_layout()\n",
    "\n",
    "plt.show()"
   ]
  }
 ],
 "metadata": {
  "kernelspec": {
   "display_name": "llm",
   "language": "python",
   "name": "llm"
  },
  "language_info": {
   "codemirror_mode": {
    "name": "ipython",
    "version": 3
   },
   "file_extension": ".py",
   "mimetype": "text/x-python",
   "name": "python",
   "nbconvert_exporter": "python",
   "pygments_lexer": "ipython3",
   "version": "3.10.14"
  }
 },
 "nbformat": 4,
 "nbformat_minor": 5
}
