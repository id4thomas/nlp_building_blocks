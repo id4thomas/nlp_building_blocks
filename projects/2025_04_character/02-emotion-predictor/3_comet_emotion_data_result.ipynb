{
 "cells": [
  {
   "cell_type": "code",
   "execution_count": 2,
   "metadata": {},
   "outputs": [],
   "source": [
    "\n",
    "import json\n",
    "import os\n",
    "import pandas as pd\n",
    "\n",
    "from config import settings"
   ]
  },
  {
   "cell_type": "code",
   "execution_count": null,
   "metadata": {},
   "outputs": [
    {
     "data": {
      "text/plain": [
       "47"
      ]
     },
     "execution_count": 27,
     "metadata": {},
     "output_type": "execute_result"
    }
   ],
   "source": [
    "llm_model = \"gpt-4.1-nano\"\n",
    "\n",
    "split = \"test\"\n",
    "request_dir = f\"data/comet/{split}/request\"\n",
    "output_dir = f\"data/comet/{split}/response/{llm_model}\"\n",
    "\n",
    "## 1. Prepare Input Batches\n",
    "fnames = [x for x in os.listdir(request_dir) if \".json\" in x]\n",
    "len(fnames)"
   ]
  },
  {
   "cell_type": "code",
   "execution_count": 28,
   "metadata": {},
   "outputs": [],
   "source": [
    "processed_data = {\n",
    "    \"uid\": [],\n",
    "    \"original_idx\": [],\n",
    "    \"original_src\": [],\n",
    "    \"original_relation\": [],\n",
    "    \"original_tgt\": [],\n",
    "    \"source\": [],\n",
    "    \"character\": [],\n",
    "    \"joy\": [],\n",
    "    \"trust\": [],\n",
    "    \"fear\": [],\n",
    "    \"surprise\": [],\n",
    "    \"sadness\": [],\n",
    "    \"disgust\": [],\n",
    "    \"anger\": [],\n",
    "    \"anticipation\": [],\n",
    "    \"reason\": []\n",
    "}\n",
    "for fname in fnames:\n",
    "    with open(os.path.join(request_dir, fname), \"r\") as f:\n",
    "        request = json.load(f)\n",
    "    with open(os.path.join(output_dir, fname), \"r\") as f:\n",
    "        response = json.load(f)\n",
    "        \n",
    "    # Parse entry\n",
    "    batch_entries = {}\n",
    "    for entry in request['entries']:\n",
    "        batch_entries[entry['uid']] = entry\n",
    "        \n",
    "    for original_idx, uid in request['uids'].items():\n",
    "        processed_data[\"uid\"].append(uid)\n",
    "        processed_data[\"original_idx\"].append(original_idx)\n",
    "        \n",
    "        # Entry\n",
    "        entry = batch_entries[uid]\n",
    "        processed_data[\"original_src\"].append(entry['source'])\n",
    "        processed_data[\"original_relation\"].append(entry['relation'])\n",
    "        processed_data[\"original_tgt\"].append(entry['target'])\n",
    "        \n",
    "        # Result\n",
    "        result = response[uid]\n",
    "        processed_data[\"source\"].append(result['source']) \n",
    "        processed_data[\"character\"].append(result['character']) \n",
    "        for k, v in result['emotion'].items():\n",
    "            processed_data[k].append(v)\n",
    "        processed_data[\"reason\"].append(result['reason'])"
   ]
  },
  {
   "cell_type": "code",
   "execution_count": 29,
   "metadata": {},
   "outputs": [],
   "source": [
    "processed_df = pd.DataFrame.from_dict(processed_data)"
   ]
  },
  {
   "cell_type": "code",
   "execution_count": 30,
   "metadata": {},
   "outputs": [
    {
     "name": "stdout",
     "output_type": "stream",
     "text": [
      "(1484, 16) Index(['uid', 'original_idx', 'original_src', 'original_relation',\n",
      "       'original_tgt', 'source', 'character', 'joy', 'trust', 'fear',\n",
      "       'surprise', 'sadness', 'disgust', 'anger', 'anticipation', 'reason'],\n",
      "      dtype='object')\n"
     ]
    },
    {
     "data": {
      "text/html": [
       "<div>\n",
       "<style scoped>\n",
       "    .dataframe tbody tr th:only-of-type {\n",
       "        vertical-align: middle;\n",
       "    }\n",
       "\n",
       "    .dataframe tbody tr th {\n",
       "        vertical-align: top;\n",
       "    }\n",
       "\n",
       "    .dataframe thead th {\n",
       "        text-align: right;\n",
       "    }\n",
       "</style>\n",
       "<table border=\"1\" class=\"dataframe\">\n",
       "  <thead>\n",
       "    <tr style=\"text-align: right;\">\n",
       "      <th></th>\n",
       "      <th>uid</th>\n",
       "      <th>original_idx</th>\n",
       "      <th>original_src</th>\n",
       "      <th>original_relation</th>\n",
       "      <th>original_tgt</th>\n",
       "      <th>source</th>\n",
       "      <th>character</th>\n",
       "      <th>joy</th>\n",
       "      <th>trust</th>\n",
       "      <th>fear</th>\n",
       "      <th>surprise</th>\n",
       "      <th>sadness</th>\n",
       "      <th>disgust</th>\n",
       "      <th>anger</th>\n",
       "      <th>anticipation</th>\n",
       "      <th>reason</th>\n",
       "    </tr>\n",
       "  </thead>\n",
       "  <tbody>\n",
       "    <tr>\n",
       "      <th>0</th>\n",
       "      <td>ea14b267-ad80-4c0d-8383-d76d37119b9f</td>\n",
       "      <td>87340</td>\n",
       "      <td>PersonX wraps PersonY's arm around PersonY</td>\n",
       "      <td>xReact</td>\n",
       "      <td>happy, satisfied</td>\n",
       "      <td>Maria was at a friendly gathering where she no...</td>\n",
       "      <td>Maria</td>\n",
       "      <td>medium</td>\n",
       "      <td>high</td>\n",
       "      <td>na</td>\n",
       "      <td>na</td>\n",
       "      <td>na</td>\n",
       "      <td>na</td>\n",
       "      <td>na</td>\n",
       "      <td>low</td>\n",
       "      <td>Maria feels happy and satisfied because her fr...</td>\n",
       "    </tr>\n",
       "    <tr>\n",
       "      <th>1</th>\n",
       "      <td>42c090ce-15e8-45e2-b351-50881fedee93</td>\n",
       "      <td>10406</td>\n",
       "      <td>PersonX chooses one 's ___</td>\n",
       "      <td>oReact</td>\n",
       "      <td>that x is bossy</td>\n",
       "      <td>Alex was hesitant as he chose a gift for his b...</td>\n",
       "      <td>Alex</td>\n",
       "      <td>na</td>\n",
       "      <td>medium</td>\n",
       "      <td>low</td>\n",
       "      <td>na</td>\n",
       "      <td>na</td>\n",
       "      <td>na</td>\n",
       "      <td>low</td>\n",
       "      <td>medium</td>\n",
       "      <td>Alex feels somewhat anxious because he worries...</td>\n",
       "    </tr>\n",
       "    <tr>\n",
       "      <th>2</th>\n",
       "      <td>c746042b-134c-4b62-9ca4-3e0f8a281bf1</td>\n",
       "      <td>26862</td>\n",
       "      <td>PersonX gets a part</td>\n",
       "      <td>xReact</td>\n",
       "      <td>competent</td>\n",
       "      <td>Emma received a new role in her team, which ma...</td>\n",
       "      <td>Emma</td>\n",
       "      <td>medium</td>\n",
       "      <td>high</td>\n",
       "      <td>na</td>\n",
       "      <td>na</td>\n",
       "      <td>na</td>\n",
       "      <td>na</td>\n",
       "      <td>na</td>\n",
       "      <td>high</td>\n",
       "      <td>Emma feels competent and confident after succe...</td>\n",
       "    </tr>\n",
       "    <tr>\n",
       "      <th>3</th>\n",
       "      <td>c88d7a4b-5c86-454e-aaca-a0ccb6aaf764</td>\n",
       "      <td>65517</td>\n",
       "      <td>PersonX sees PersonY frequently</td>\n",
       "      <td>xReact</td>\n",
       "      <td>happy</td>\n",
       "      <td>Liam sees his best friend frequently walking t...</td>\n",
       "      <td>Liam</td>\n",
       "      <td>medium</td>\n",
       "      <td>high</td>\n",
       "      <td>na</td>\n",
       "      <td>na</td>\n",
       "      <td>na</td>\n",
       "      <td>na</td>\n",
       "      <td>na</td>\n",
       "      <td>low</td>\n",
       "      <td>Liam feels happy because regular visits streng...</td>\n",
       "    </tr>\n",
       "    <tr>\n",
       "      <th>4</th>\n",
       "      <td>99bd7636-3159-4c3b-97d3-5616cf3c7ede</td>\n",
       "      <td>52469</td>\n",
       "      <td>PersonX offer PersonY opinion</td>\n",
       "      <td>xReact</td>\n",
       "      <td>interested</td>\n",
       "      <td>Grace offered her colleague an opinion on a pr...</td>\n",
       "      <td>Grace</td>\n",
       "      <td>low</td>\n",
       "      <td>medium</td>\n",
       "      <td>na</td>\n",
       "      <td>na</td>\n",
       "      <td>na</td>\n",
       "      <td>na</td>\n",
       "      <td>na</td>\n",
       "      <td>medium</td>\n",
       "      <td>Grace feels interested because sharing opinion...</td>\n",
       "    </tr>\n",
       "  </tbody>\n",
       "</table>\n",
       "</div>"
      ],
      "text/plain": [
       "                                    uid original_idx  \\\n",
       "0  ea14b267-ad80-4c0d-8383-d76d37119b9f        87340   \n",
       "1  42c090ce-15e8-45e2-b351-50881fedee93        10406   \n",
       "2  c746042b-134c-4b62-9ca4-3e0f8a281bf1        26862   \n",
       "3  c88d7a4b-5c86-454e-aaca-a0ccb6aaf764        65517   \n",
       "4  99bd7636-3159-4c3b-97d3-5616cf3c7ede        52469   \n",
       "\n",
       "                                 original_src original_relation  \\\n",
       "0  PersonX wraps PersonY's arm around PersonY            xReact   \n",
       "1                  PersonX chooses one 's ___            oReact   \n",
       "2                         PersonX gets a part            xReact   \n",
       "3             PersonX sees PersonY frequently            xReact   \n",
       "4               PersonX offer PersonY opinion            xReact   \n",
       "\n",
       "       original_tgt                                             source  \\\n",
       "0  happy, satisfied  Maria was at a friendly gathering where she no...   \n",
       "1   that x is bossy  Alex was hesitant as he chose a gift for his b...   \n",
       "2         competent  Emma received a new role in her team, which ma...   \n",
       "3             happy  Liam sees his best friend frequently walking t...   \n",
       "4        interested  Grace offered her colleague an opinion on a pr...   \n",
       "\n",
       "  character     joy   trust fear surprise sadness disgust anger anticipation  \\\n",
       "0     Maria  medium    high   na       na      na      na    na          low   \n",
       "1      Alex      na  medium  low       na      na      na   low       medium   \n",
       "2      Emma  medium    high   na       na      na      na    na         high   \n",
       "3      Liam  medium    high   na       na      na      na    na          low   \n",
       "4     Grace     low  medium   na       na      na      na    na       medium   \n",
       "\n",
       "                                              reason  \n",
       "0  Maria feels happy and satisfied because her fr...  \n",
       "1  Alex feels somewhat anxious because he worries...  \n",
       "2  Emma feels competent and confident after succe...  \n",
       "3  Liam feels happy because regular visits streng...  \n",
       "4  Grace feels interested because sharing opinion...  "
      ]
     },
     "execution_count": 30,
     "metadata": {},
     "output_type": "execute_result"
    }
   ],
   "source": [
    "print(processed_df.shape, processed_df.columns)\n",
    "processed_df.head()"
   ]
  },
  {
   "cell_type": "code",
   "execution_count": null,
   "metadata": {},
   "outputs": [],
   "source": [
    "processed_df.to_csv(\n",
    "    f\"data/comet/{split}/sample_result_{llm_model}.csv\",\n",
    "    sep = \"\\t\",\n",
    "    index=False\n",
    ")"
   ]
  },
  {
   "cell_type": "code",
   "execution_count": 8,
   "metadata": {},
   "outputs": [],
   "source": [
    "import matplotlib.pyplot as plt\n",
    "import numpy as np\n",
    "import tiktoken"
   ]
  },
  {
   "cell_type": "code",
   "execution_count": 9,
   "metadata": {},
   "outputs": [],
   "source": [
    "tokenizer = tiktoken.encoding_for_model('gpt-4o')\n",
    "def calculate_tokens(text):\n",
    "    tokens = tokenizer.encode(text)\n",
    "    return len(tokens)"
   ]
  },
  {
   "cell_type": "code",
   "execution_count": 10,
   "metadata": {},
   "outputs": [
    {
     "data": {
      "image/png": "[encoded data removed]",
      "text/plain": [
       "<Figure size 640x480 with 1 Axes>"
      ]
     },
     "metadata": {},
     "output_type": "display_data"
    }
   ],
   "source": [
    "source_lens = [len(x) for x in processed_df['source']]\n",
    "plt.hist(source_lens, bins = 20)\n",
    "plt.title(f'[COMET] Source Length Distribution ({llm_model})')\n",
    "plt.xlabel('Length')\n",
    "plt.show()"
   ]
  },
  {
   "cell_type": "code",
   "execution_count": 11,
   "metadata": {},
   "outputs": [
    {
     "data": {
      "text/plain": [
       "(165.65334549374015, 19)"
      ]
     },
     "execution_count": 11,
     "metadata": {},
     "output_type": "execute_result"
    }
   ],
   "source": [
    "np.array(source_lens).mean(), np.array(source_lens).min()"
   ]
  },
  {
   "cell_type": "code",
   "execution_count": 13,
   "metadata": {},
   "outputs": [
    {
     "name": "stdout",
     "output_type": "stream",
     "text": [
      "Nathan\n",
      "Nathan lost the chess match during the local tournament, feeling disappointed and frustrated with himself for not playing well enough. His friends tried to comfort him afterward. Nathan sat quietly, contemplating what went wrong.\n"
     ]
    }
   ],
   "source": [
    "row = processed_df.iloc[0]\n",
    "print(row['character'])\n",
    "print(row['source'])"
   ]
  },
  {
   "cell_type": "markdown",
   "metadata": {},
   "source": [
    "# Format as Instruction Format"
   ]
  },
  {
   "cell_type": "code",
   "execution_count": 18,
   "metadata": {},
   "outputs": [
    {
     "data": {
      "application/vnd.jupyter.widget-view+json": {
       "model_id": "f8b6d8608d09486e8d8679f4a85310a4",
       "version_major": 2,
       "version_minor": 0
      },
      "text/plain": [
       "tokenizer_config.json:   0%|          | 0.00/17.7k [00:00<?, ?B/s]"
      ]
     },
     "metadata": {},
     "output_type": "display_data"
    },
    {
     "data": {
      "application/vnd.jupyter.widget-view+json": {
       "model_id": "396ff1138ca248719aed49a67809af72",
       "version_major": 2,
       "version_minor": 0
      },
      "text/plain": [
       "vocab.json:   0%|          | 0.00/1.61M [00:00<?, ?B/s]"
      ]
     },
     "metadata": {},
     "output_type": "display_data"
    },
    {
     "data": {
      "application/vnd.jupyter.widget-view+json": {
       "model_id": "97f5eea6312c4381b2606a917a1d0baa",
       "version_major": 2,
       "version_minor": 0
      },
      "text/plain": [
       "merges.txt:   0%|          | 0.00/917k [00:00<?, ?B/s]"
      ]
     },
     "metadata": {},
     "output_type": "display_data"
    },
    {
     "data": {
      "application/vnd.jupyter.widget-view+json": {
       "model_id": "6908b1bb6e5b4f768a734ae0fc5434c3",
       "version_major": 2,
       "version_minor": 0
      },
      "text/plain": [
       "tokenizer.json:   0%|          | 0.00/4.25M [00:00<?, ?B/s]"
      ]
     },
     "metadata": {},
     "output_type": "display_data"
    },
    {
     "data": {
      "application/vnd.jupyter.widget-view+json": {
       "model_id": "042c6718e3114d70b3a6e1f996f82e44",
       "version_major": 2,
       "version_minor": 0
      },
      "text/plain": [
       "added_tokens.json:   0%|          | 0.00/2.50k [00:00<?, ?B/s]"
      ]
     },
     "metadata": {},
     "output_type": "display_data"
    },
    {
     "data": {
      "application/vnd.jupyter.widget-view+json": {
       "model_id": "ade7b78331b347f3a83f2a0524a6cf2a",
       "version_major": 2,
       "version_minor": 0
      },
      "text/plain": [
       "special_tokens_map.json:   0%|          | 0.00/95.0 [00:00<?, ?B/s]"
      ]
     },
     "metadata": {},
     "output_type": "display_data"
    }
   ],
   "source": [
    "from transformers import AutoTokenizer\n",
    "\n",
    "model_name = \"microsoft/phi-4\"\n",
    "tokenizer = AutoTokenizer.from_pretrained(model_name)"
   ]
  },
  {
   "cell_type": "code",
   "execution_count": 14,
   "metadata": {},
   "outputs": [],
   "source": [
    "system_message = '''\n",
    "You are building an emotion‑prediction component that, given a character name and a brief situational description, must identify the character’s emotional state and the reason for it.\n",
    "\n",
    "When given an input of the form:\n",
    "```\n",
    "Character:  {character}\n",
    "Source: {source}\n",
    "```\n",
    "your job is to:\n",
    "\n",
    "1. **Map the Emotion:**  \n",
    "   - Choose among the 8 primary emotions from Plutchik’s Wheel (joy, trust, fear, surprise, sadness, disgust, anger, anticipation).  \n",
    "   - For each, assign one of: `\"na\"` (not applicable), `\"low\"`, `\"medium\"`, or `\"high\"`.\n",
    "\n",
    "2. **Write a Reason:**  \n",
    "   - Provide a single sentence explaining why the character feels as you’ve labeled.\n",
    "\n",
    "## Map the Emotion: Map the target emotion onto the 8 primary emotions from Plutchik’s Wheel\n",
    "* Joy\n",
    "* Trust\n",
    "* Fear\n",
    "* Surprise\n",
    "* Sadness\n",
    "* Disgust\n",
    "* Anger\n",
    "* Anticipation\n",
    "\n",
    "For each emotion, assign one of the following intensities:\n",
    "* \"na\" (not applicable)\n",
    "* \"low\"\n",
    "* \"medium\"\n",
    "* \"high\"\n",
    "\n",
    "Interpret the target emotion (e.g., “authoritative”) in terms of Plutchik’s emotions. For example, you might decide:\n",
    "* trust: high\n",
    "* joy: low\n",
    "* anticipation: medium\n",
    "\n",
    "## Write a Reason:\n",
    "Provide a one-sentence rationale (\"reason\") explaining why the subject (if xReact) or the other person (if oReact) feels the given emotion(s).\n",
    "ex. “She feels empowered and confident after cutting out social media.”\n",
    "\n",
    "\n",
    "Return in the following JSON format (no extra keys, no explanation outside the JSON)\n",
    "{\n",
    "    \"emotion\": {\n",
    "        \"joy\": \"na\" | \"low\" | \"medium\" | \"high\",\n",
    "        \"trust\": \"na\" | \"low\" | \"medium\" | \"high\",\n",
    "        \"fear\": \"na\" | \"low\" | \"medium\" | \"high\",\n",
    "        \"surprise\": \"na\" | \"low\" | \"medium\" | \"high\",\n",
    "        \"sadness\": \"na\" | \"low\" | \"medium\" | \"high\",\n",
    "        \"disgust\": \"na\" | \"low\" | \"medium\" | \"high\",\n",
    "        \"anger\": \"na\" | \"low\" | \"medium\" | \"high\",\n",
    "        \"anticipation\": \"na\" | \"low\" | \"medium\" | \"high\"\n",
    "    },\n",
    "    \"reason\": \"One sentence explaining why these emotions occur\"\n",
    "}\n",
    "Only return the JSON'''\n",
    "\n",
    "user_template = '''Source: {source}\n",
    "Character: {character}'''\n"
   ]
  },
  {
   "cell_type": "code",
   "execution_count": 19,
   "metadata": {},
   "outputs": [],
   "source": [
    "# Test Formatting\n",
    "row = processed_df.iloc[0]\n",
    "\n",
    "user_message = user_template.format(\n",
    "    source=row['source'],\n",
    "    character=row['character']\n",
    ")\n",
    "\n",
    "assistant_message = json.dumps(\n",
    "    {\n",
    "        \"emotion\": {\n",
    "            \"joy\": row['joy'],\n",
    "            \"trust\": row['trust'],\n",
    "            \"fear\": row['fear'],\n",
    "            \"surprise\": row['surprise'],\n",
    "            \"sadness\": row['sadness'],\n",
    "            \"disgust\": row['disgust'],\n",
    "            \"anger\": row['anger'],\n",
    "            \"anticipation\": row['anticipation']\n",
    "        },\n",
    "        \"reason\": row['reason']\n",
    "    }\n",
    ")\n",
    "messages = [\n",
    "    {\"role\": \"system\", \"content\": system_message},\n",
    "    {\"role\": \"user\", \"content\": user_message},\n",
    "    {\"role\": \"assistant\", \"content\": assistant_message}\n",
    "]\n",
    "source = tokenizer.apply_chat_template(messages, tokenize = False)"
   ]
  },
  {
   "cell_type": "code",
   "execution_count": 21,
   "metadata": {},
   "outputs": [
    {
     "name": "stdout",
     "output_type": "stream",
     "text": [
      "('<|im_start|>system<|im_sep|>\\n'\n",
      " 'You are building an emotion‑prediction component that, given a character '\n",
      " 'name and a brief situational description, must identify the character’s '\n",
      " 'emotional state and the reason for it.\\n'\n",
      " '\\n'\n",
      " 'When given an input of the form:\\n'\n",
      " '```\\n'\n",
      " 'Character:  {character}\\n'\n",
      " 'Source: {source}\\n'\n",
      " '```\\n'\n",
      " 'your job is to:\\n'\n",
      " '\\n'\n",
      " '1. **Map the Emotion:**  \\n'\n",
      " '   - Choose among the 8 primary emotions from Plutchik’s Wheel (joy, trust, '\n",
      " 'fear, surprise, sadness, disgust, anger, anticipation).  \\n'\n",
      " '   - For each, assign one of: `\"na\"` (not applicable), `\"low\"`, `\"medium\"`, '\n",
      " 'or `\"high\"`.\\n'\n",
      " '\\n'\n",
      " '2. **Write a Reason:**  \\n'\n",
      " '   - Provide a single sentence explaining why the character feels as you’ve '\n",
      " 'labeled.\\n'\n",
      " '\\n'\n",
      " '## Map the Emotion: Map the target emotion onto the 8 primary emotions from '\n",
      " 'Plutchik’s Wheel\\n'\n",
      " '* Joy\\n'\n",
      " '* Trust\\n'\n",
      " '* Fear\\n'\n",
      " '* Surprise\\n'\n",
      " '* Sadness\\n'\n",
      " '* Disgust\\n'\n",
      " '* Anger\\n'\n",
      " '* Anticipation\\n'\n",
      " '\\n'\n",
      " 'For each emotion, assign one of the following intensities:\\n'\n",
      " '* \"na\" (not applicable)\\n'\n",
      " '* \"low\"\\n'\n",
      " '* \"medium\"\\n'\n",
      " '* \"high\"\\n'\n",
      " '\\n'\n",
      " 'Interpret the target emotion (e.g., “authoritative”) in terms of Plutchik’s '\n",
      " 'emotions. For example, you might decide:\\n'\n",
      " '* trust: high\\n'\n",
      " '* joy: low\\n'\n",
      " '* anticipation: medium\\n'\n",
      " '\\n'\n",
      " '## Write a Reason:\\n'\n",
      " 'Provide a one-sentence rationale (\"reason\") explaining why the subject (if '\n",
      " 'xReact) or the other person (if oReact) feels the given emotion(s).\\n'\n",
      " 'ex. “She feels empowered and confident after cutting out social media.”\\n'\n",
      " '\\n'\n",
      " '\\n'\n",
      " 'Return in the following JSON format (no extra keys, no explanation outside '\n",
      " 'the JSON)\\n'\n",
      " '{\\n'\n",
      " '    \"emotion\": {\\n'\n",
      " '        \"joy\": \"na\" | \"low\" | \"medium\" | \"high\",\\n'\n",
      " '        \"trust\": \"na\" | \"low\" | \"medium\" | \"high\",\\n'\n",
      " '        \"fear\": \"na\" | \"low\" | \"medium\" | \"high\",\\n'\n",
      " '        \"surprise\": \"na\" | \"low\" | \"medium\" | \"high\",\\n'\n",
      " '        \"sadness\": \"na\" | \"low\" | \"medium\" | \"high\",\\n'\n",
      " '        \"disgust\": \"na\" | \"low\" | \"medium\" | \"high\",\\n'\n",
      " '        \"anger\": \"na\" | \"low\" | \"medium\" | \"high\",\\n'\n",
      " '        \"anticipation\": \"na\" | \"low\" | \"medium\" | \"high\"\\n'\n",
      " '    },\\n'\n",
      " '    \"reason\": \"One sentence explaining why these emotions occur\"\\n'\n",
      " '}\\n'\n",
      " 'Only return the JSON<|im_end|><|im_start|>user<|im_sep|>Source: Nathan lost '\n",
      " 'the chess match during the local tournament, feeling disappointed and '\n",
      " 'frustrated with himself for not playing well enough. His friends tried to '\n",
      " 'comfort him afterward. Nathan sat quietly, contemplating what went wrong.\\n'\n",
      " 'Character: Nathan<|im_end|><|im_start|>assistant<|im_sep|>{\"emotion\": '\n",
      " '{\"joy\": \"na\", \"trust\": \"na\", \"fear\": \"na\", \"surprise\": \"na\", \"sadness\": '\n",
      " '\"high\", \"disgust\": \"na\", \"anger\": \"medium\", \"anticipation\": \"low\"}, '\n",
      " '\"reason\": \"He feels a deep sense of sadness and frustration because he did '\n",
      " 'not perform as he hoped.\"}<|im_end|>')\n"
     ]
    }
   ],
   "source": [
    "import pprint\n",
    "pprint.pprint(source)"
   ]
  },
  {
   "cell_type": "code",
   "execution_count": null,
   "metadata": {},
   "outputs": [],
   "source": []
  }
 ],
 "metadata": {
  "kernelspec": {
   "display_name": "llm",
   "language": "python",
   "name": "llm"
  },
  "language_info": {
   "codemirror_mode": {
    "name": "ipython",
    "version": 3
   },
   "file_extension": ".py",
   "mimetype": "text/x-python",
   "name": "python",
   "nbconvert_exporter": "python",
   "pygments_lexer": "ipython3",
   "version": "3.10.14"
  }
 },
 "nbformat": 4,
 "nbformat_minor": 2
}
