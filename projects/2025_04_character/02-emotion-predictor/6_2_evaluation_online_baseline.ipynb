{
 "cells": [
  {
   "cell_type": "markdown",
   "id": "4b854817",
   "metadata": {},
   "source": [
    "# Online Evaluation\n",
    "* evaluation with endpoint deployed with vllm"
   ]
  },
  {
   "cell_type": "code",
   "execution_count": 1,
   "id": "1572cbb3",
   "metadata": {},
   "outputs": [],
   "source": [
    "import asyncio\n",
    "from enum import Enum\n",
    "import json\n",
    "import os\n",
    "import requests\n",
    "from typing import Optional, Dict, Any, List\n",
    "import yaml\n",
    "\n",
    "from openai import OpenAI, AsyncOpenAI\n",
    "import outlines\n",
    "from outlines import models, generate\n",
    "import pandas as pd\n",
    "import pprint\n",
    "from pydantic import BaseModel\n",
    "from transformers import AutoTokenizer, AutoModelForCausalLM\n",
    "import torch\n",
    "from tqdm.asyncio import tqdm\n",
    "\n",
    "from config import experiment_settings"
   ]
  },
  {
   "cell_type": "code",
   "execution_count": 2,
   "id": "d78c8223",
   "metadata": {},
   "outputs": [],
   "source": [
    "RUN_NAME=\"qwen2_5-3b-baseline\""
   ]
  },
  {
   "cell_type": "markdown",
   "id": "2a0f878e",
   "metadata": {},
   "source": [
    "# 1. Preparation"
   ]
  },
  {
   "cell_type": "markdown",
   "id": "9b4cc754",
   "metadata": {},
   "source": [
    "## 1-1. OpenAI Client (vllm)"
   ]
  },
  {
   "cell_type": "code",
   "execution_count": 3,
   "id": "3837ffa5",
   "metadata": {},
   "outputs": [
    {
     "data": {
      "text/plain": [
       "{'object': 'list',\n",
       " 'data': [{'id': 'Qwen/Qwen2.5-3B-Instruct',\n",
       "   'object': 'model',\n",
       "   'created': 1745249761,\n",
       "   'owned_by': 'vllm',\n",
       "   'root': 'Qwen/Qwen2.5-3B-Instruct',\n",
       "   'parent': None,\n",
       "   'max_model_len': 32768,\n",
       "   'permission': [{'id': 'modelperm-beb134051a2042cda6a24178a2ce9185',\n",
       "     'object': 'model_permission',\n",
       "     'created': 1745249761,\n",
       "     'allow_create_engine': False,\n",
       "     'allow_sampling': True,\n",
       "     'allow_logprobs': True,\n",
       "     'allow_search_indices': False,\n",
       "     'allow_view': True,\n",
       "     'allow_fine_tuning': False,\n",
       "     'organization': '*',\n",
       "     'group': None,\n",
       "     'is_blocking': False}]},\n",
       "  {'id': 'emotion-predictor',\n",
       "   'object': 'model',\n",
       "   'created': 1745249761,\n",
       "   'owned_by': 'vllm',\n",
       "   'root': '/vllm-workspace/adapter',\n",
       "   'parent': 'Qwen/Qwen2.5-3B-Instruct',\n",
       "   'max_model_len': None,\n",
       "   'permission': [{'id': 'modelperm-65b4de11117c4315871735689d838095',\n",
       "     'object': 'model_permission',\n",
       "     'created': 1745249761,\n",
       "     'allow_create_engine': False,\n",
       "     'allow_sampling': True,\n",
       "     'allow_logprobs': True,\n",
       "     'allow_search_indices': False,\n",
       "     'allow_view': True,\n",
       "     'allow_fine_tuning': False,\n",
       "     'organization': '*',\n",
       "     'group': None,\n",
       "     'is_blocking': False}]}]}"
      ]
     },
     "execution_count": 3,
     "metadata": {},
     "output_type": "execute_result"
    }
   ],
   "source": [
    "requests.get(f\"{experiment_settings.vllm_base_url}/v1/models\").json()"
   ]
  },
  {
   "cell_type": "code",
   "execution_count": 4,
   "id": "fd5e0f06",
   "metadata": {},
   "outputs": [],
   "source": [
    "# print(f\"{experiment_settings.vllm_base_url}/v1\")\n",
    "client = AsyncOpenAI(\n",
    "    base_url=f\"{experiment_settings.vllm_base_url}/v1\",\n",
    "    api_key=experiment_settings.vllm_api_key,\n",
    ")"
   ]
  },
  {
   "cell_type": "markdown",
   "id": "4fef4f1d",
   "metadata": {},
   "source": [
    "## 1-2. Prompt"
   ]
  },
  {
   "cell_type": "code",
   "execution_count": 5,
   "id": "33c1a33a",
   "metadata": {},
   "outputs": [],
   "source": [
    "with open(\"prompts/inference.yaml\", \"r\") as f:\n",
    "    PROMPTS = yaml.safe_load(f)\n",
    "SYSTEM_MESSAGE = PROMPTS[\"system\"]\n",
    "USER_TEMPLATE = PROMPTS[\"user\"]"
   ]
  },
  {
   "cell_type": "code",
   "execution_count": 6,
   "id": "72bc1174",
   "metadata": {},
   "outputs": [],
   "source": [
    "# Output Schema\n",
    "class RelationshipStatus(str, Enum):\n",
    "    na = \"na\"\n",
    "    low = \"low\"\n",
    "    medium = \"medium\"\n",
    "    high = \"high\"\n",
    "    \n",
    "class EmotionLabel(BaseModel):\n",
    "    joy: RelationshipStatus\n",
    "    trust: RelationshipStatus\n",
    "    fear: RelationshipStatus\n",
    "    surprise: RelationshipStatus\n",
    "    sadness: RelationshipStatus\n",
    "    disgust: RelationshipStatus\n",
    "    anger: RelationshipStatus\n",
    "    anticipation: RelationshipStatus\n",
    "        \n",
    "class EntryResult(BaseModel):\n",
    "    emotion: EmotionLabel\n",
    "    reason: str"
   ]
  },
  {
   "cell_type": "markdown",
   "id": "d828b497",
   "metadata": {},
   "source": [
    "## 1-3. Test data"
   ]
  },
  {
   "cell_type": "code",
   "execution_count": 7,
   "id": "8aff6ac9",
   "metadata": {},
   "outputs": [
    {
     "name": "stdout",
     "output_type": "stream",
     "text": [
      "(4452, 16) Index(['uid', 'original_idx', 'original_src', 'original_relation',\n",
      "       'original_tgt', 'source', 'character', 'joy', 'trust', 'fear',\n",
      "       'surprise', 'sadness', 'disgust', 'anger', 'anticipation', 'reason'],\n",
      "      dtype='object')\n"
     ]
    }
   ],
   "source": [
    "llm_model = \"gpt-4.1-mini-2025-04-14\"\n",
    "df = pd.read_csv(f\"data/comet/test/test_{llm_model}.tsv\", sep=\"\\t\")\n",
    "# df = df.sample(10)\n",
    "print(df.shape, df.columns)"
   ]
  },
  {
   "cell_type": "code",
   "execution_count": 8,
   "id": "d20d6b16",
   "metadata": {},
   "outputs": [],
   "source": [
    "def make_messages(row):\n",
    "    user_message = USER_TEMPLATE.format(\n",
    "        source=row['source'],\n",
    "        character=row['character']\n",
    "    )\n",
    "    assistant_message = json.dumps(\n",
    "        {\n",
    "            \"emotion\": {\n",
    "                \"joy\": row['joy'],\n",
    "                \"trust\": row['trust'],\n",
    "                \"fear\": row['fear'],\n",
    "                \"surprise\": row['surprise'],\n",
    "                \"sadness\": row['sadness'],\n",
    "                \"disgust\": row['disgust'],\n",
    "                \"anger\": row['anger'],\n",
    "                \"anticipation\": row['anticipation']\n",
    "            },\n",
    "            \"reason\": row['reason']\n",
    "        }\n",
    "    )\n",
    "\n",
    "    messages = [\n",
    "        {\"role\": \"system\", \"content\": SYSTEM_MESSAGE},\n",
    "        {\"role\": \"user\", \"content\": user_message},\n",
    "        {\"role\": \"assistant\", \"content\": assistant_message}\n",
    "    ]\n",
    "    return messages"
   ]
  },
  {
   "cell_type": "code",
   "execution_count": 9,
   "id": "fdd67443",
   "metadata": {},
   "outputs": [],
   "source": [
    "all_messages = [\n",
    "    make_messages(df.iloc[i]) for i in range(df.shape[0])\n",
    "]"
   ]
  },
  {
   "cell_type": "markdown",
   "id": "366205b2",
   "metadata": {},
   "source": [
    "## 1-4. Prediction Function"
   ]
  },
  {
   "cell_type": "code",
   "execution_count": 12,
   "id": "7964c8b3",
   "metadata": {},
   "outputs": [],
   "source": [
    "async def predict(messages):\n",
    "    json_schema = EntryResult.model_json_schema()\n",
    "    completion = await client.chat.completions.create(\n",
    "        model=\"Qwen/Qwen2.5-3B-Instruct\",\n",
    "        messages=messages,\n",
    "        extra_body={\"guided_json\": json_schema},\n",
    "    )\n",
    "    result = json.loads(completion.choices[0].message.content)\n",
    "    return result"
   ]
  },
  {
   "cell_type": "code",
   "execution_count": 13,
   "id": "51d3e72c",
   "metadata": {},
   "outputs": [],
   "source": [
    "result = await predict(all_messages[0])"
   ]
  },
  {
   "cell_type": "code",
   "execution_count": 14,
   "id": "e8268791",
   "metadata": {},
   "outputs": [
    {
     "data": {
      "text/plain": [
       "{'emotion': {'joy': 'na',\n",
       "  'trust': 'na',\n",
       "  'fear': 'na',\n",
       "  'surprise': 'na',\n",
       "  'sadness': 'na',\n",
       "  'disgust': 'na',\n",
       "  'anger': 'na',\n",
       "  'anticipation': 'na'},\n",
       " 'reason': 'James feels neutral and has no emotional reaction to Emma getting something to drink.'}"
      ]
     },
     "execution_count": 14,
     "metadata": {},
     "output_type": "execute_result"
    }
   ],
   "source": [
    "result"
   ]
  },
  {
   "cell_type": "code",
   "execution_count": 15,
   "id": "f5531379",
   "metadata": {},
   "outputs": [
    {
     "name": "stderr",
     "output_type": "stream",
     "text": [
      "  0%|          | 0/32 [00:00<?, ?it/s]"
     ]
    },
    {
     "name": "stderr",
     "output_type": "stream",
     "text": [
      "100%|██████████| 32/32 [00:02<00:00, 11.01it/s]"
     ]
    },
    {
     "name": "stdout",
     "output_type": "stream",
     "text": [
      "Results:\n",
      "Result 0: {'emotion': {'joy': 'na', 'trust': 'na', 'fear': 'na', 'surprise': 'na', 'sadness': 'na', 'disgust': 'na', 'anger': 'na', 'anticipation': 'na'}, 'reason': 'James feels neutral and has no emotional reaction to Emma getting something to drink.'}\n",
      "Result 1: {'emotion': {'joy': 'na', 'trust': 'na', 'fear': 'low', 'surprise': 'na', 'sadness': 'high', 'disgust': 'na', 'anger': 'low', 'anticipation': 'medium'}, 'reason': 'Michael feels downtrodden due to the heavy workload and looming pressure to improve his project.'}\n",
      "Result 2: {'emotion': {'joy': 'na', 'trust': 'na', 'fear': 'high', 'surprise': 'na', 'sadness': 'high', 'disgust': 'na', 'anger': 'na', 'anticipation': 'low'}, 'reason': 'Sophia feels depressed because her worries and fears about failing exams overwhelm her.'}\n",
      "Result 3: {'emotion': {'joy': 'medium', 'trust': 'high', 'fear': 'na', 'surprise': 'na', 'sadness': 'na', 'disgust': 'na', 'anger': 'na', 'anticipation': 'na'}, 'reason': \"Lucas's mother feels grateful because he is taking good care of her in her vulnerable state.\"}\n",
      "Result 4: {'emotion': {'joy': 'high', 'trust': 'na', 'fear': 'na', 'surprise': 'medium', 'sadness': 'na', 'disgust': 'na', 'anger': 'na', 'anticipation': 'medium'}, 'reason': 'Olivia feels accomplished because she successfully finished her studies after persistent effort.'}\n",
      "Result 5: {'emotion': {'joy': 'na', 'trust': 'na', 'fear': 'na', 'surprise': 'low', 'sadness': 'low', 'disgust': 'na', 'anger': 'high', 'anticipation': 'low'}, 'reason': 'Ethan feels upset because frustration builds from his inability to solve the problem.'}\n",
      "Result 6: {'emotion': {'joy': 'na', 'trust': 'na', 'fear': 'na', 'surprise': 'na', 'sadness': 'na', 'disgust': 'na', 'anger': 'na', 'anticipation': 'na'}, 'reason': 'Clara does not experience any particular emotion seeing Mia get a manicure.'}\n",
      "Result 7: {'emotion': {'joy': 'na', 'trust': 'na', 'fear': 'low', 'surprise': 'na', 'sadness': 'medium', 'disgust': 'low', 'anger': 'low', 'anticipation': 'na'}, 'reason': 'Daniel feels upset because he regrets his betrayal and the pain caused to his partner.'}\n",
      "Result 8: {'emotion': {'joy': 'na', 'trust': 'na', 'fear': 'na', 'surprise': 'na', 'sadness': 'na', 'disgust': 'na', 'anger': 'na', 'anticipation': 'na'}, 'reason': \"The friend does not have any particular emotional reaction to Grace's action.\"}\n",
      "Result 9: {'emotion': {'joy': 'medium', 'trust': 'low', 'fear': 'na', 'surprise': 'na', 'sadness': 'na', 'disgust': 'na', 'anger': 'na', 'anticipation': 'na'}, 'reason': 'Liam feels happy because his comfortable lifestyle makes him content despite taking things for granted.'}\n",
      "Result 10: {'emotion': {'joy': 'high', 'trust': 'medium', 'fear': 'na', 'surprise': 'medium', 'sadness': 'na', 'disgust': 'na', 'anger': 'na', 'anticipation': 'medium'}, 'reason': 'Nina feels favored because she receives appreciation and benefits for her hard work.'}\n",
      "Result 11: {'emotion': {'joy': 'na', 'trust': 'na', 'fear': 'na', 'surprise': 'na', 'sadness': 'na', 'disgust': 'na', 'anger': 'na', 'anticipation': 'na'}, 'reason': 'The other person does not experience any noticeable emotion upon seeing Jacob.'}\n",
      "Result 12: {'emotion': {'joy': 'na', 'trust': 'na', 'fear': 'medium', 'surprise': 'low', 'sadness': 'high', 'disgust': 'na', 'anger': 'na', 'anticipation': 'medium'}, 'reason': \"Rachel feels sad and responsible for the loss of Olivia's phone due to the worry of disappointing her and the effort needed to replace it.\"}\n",
      "Result 13: {'emotion': {'joy': 'na', 'trust': 'na', 'fear': 'low', 'surprise': 'na', 'sadness': 'high', 'disgust': 'na', 'anger': 'na', 'anticipation': 'medium'}, 'reason': 'Alex feels sad because ending the relationship is hard, but he values honesty with his partner.'}\n",
      "Result 14: {'emotion': {'joy': 'na', 'trust': 'na', 'fear': 'na', 'surprise': 'na', 'sadness': 'na', 'disgust': 'na', 'anger': 'na', 'anticipation': 'na'}, 'reason': \"The colleague does not show any emotional response to Isabella's organizing action.\"}\n",
      "Result 15: {'emotion': {'joy': 'low', 'trust': 'medium', 'fear': 'na', 'surprise': 'medium', 'sadness': 'na', 'disgust': 'na', 'anger': 'na', 'anticipation': 'medium'}, 'reason': \"The friend feels curious and anticipates reconnecting through Evelyn's letter.\"}\n",
      "Result 16: {'emotion': {'joy': 'na', 'trust': 'na', 'fear': 'low', 'surprise': 'medium', 'sadness': 'na', 'disgust': 'na', 'anger': 'high', 'anticipation': 'na'}, 'reason': 'Noah feels angry because he was physically hit by Liam, which is a hostile act.'}\n",
      "Result 17: {'emotion': {'joy': 'high', 'trust': 'na', 'fear': 'na', 'surprise': 'na', 'sadness': 'na', 'disgust': 'na', 'anger': 'na', 'anticipation': 'medium'}, 'reason': 'She feels very good and satisfied because her careful revisions improved her work.'}\n",
      "Result 18: {'emotion': {'joy': 'na', 'trust': 'na', 'fear': 'na', 'surprise': 'na', 'sadness': 'na', 'disgust': 'na', 'anger': 'na', 'anticipation': 'na'}, 'reason': \"Mia shows no emotional reaction to Ethan's gesture.\"}\n",
      "Result 19: {'emotion': {'joy': 'na', 'trust': 'na', 'fear': 'na', 'surprise': 'na', 'sadness': 'na', 'disgust': 'na', 'anger': 'na', 'anticipation': 'na'}, 'reason': \"Others do not react emotionally to Olivia's routine breakfast making.\"}\n",
      "Result 20: {'emotion': {'joy': 'na', 'trust': 'na', 'fear': 'na', 'surprise': 'high', 'sadness': 'na', 'disgust': 'na', 'anger': 'na', 'anticipation': 'na'}, 'reason': 'Mia is surprised because Noah unexpectedly gets close to her.'}\n",
      "Result 21: {'emotion': {'joy': 'na', 'trust': 'na', 'fear': 'na', 'surprise': 'medium', 'sadness': 'na', 'disgust': 'na', 'anger': 'na', 'anticipation': 'na'}, 'reason': \"The others do not show noticeable emotional reactions to Alex's momentary physical staggering, indicating a lack of surprise but also no significant joy, trust, fear, sadness, disgust, or anger.\"}\n",
      "Result 22: {'emotion': {'joy': 'na', 'trust': 'low', 'fear': 'na', 'surprise': 'na', 'sadness': 'medium', 'disgust': 'na', 'anger': 'na', 'anticipation': 'na'}, 'reason': \"Emily feels tired noticing Sarah's exhaustion later that day.\"}\n",
      "Result 23: {'emotion': {'joy': 'medium', 'trust': 'na', 'fear': 'na', 'surprise': 'high', 'sadness': 'na', 'disgust': 'na', 'anger': 'na', 'anticipation': 'medium'}, 'reason': 'Daniel feels surprised because the results were completely unexpected.'}\n",
      "Result 24: {'emotion': {'joy': 'na', 'trust': 'na', 'fear': 'low', 'surprise': 'na', 'sadness': 'medium', 'disgust': 'na', 'anger': 'na', 'anticipation': 'na'}, 'reason': \"Others do not react emotionally when Grace doesn't make the cut.\"}\n",
      "Result 25: {'emotion': {'joy': 'high', 'trust': 'na', 'fear': 'na', 'surprise': 'na', 'sadness': 'na', 'disgust': 'na', 'anger': 'na', 'anticipation': 'medium'}, 'reason': 'Carlos feels proud and inspired by the creative process and the final result of building the bookshelf.'}\n",
      "Result 26: {'emotion': {'joy': 'medium', 'trust': 'high', 'fear': 'na', 'surprise': 'na', 'sadness': 'na', 'disgust': 'na', 'anger': 'na', 'anticipation': 'low'}, 'reason': 'Olivia feels useful and satisfied because she helps Mark make valuable connections at the networking event.'}\n",
      "Result 27: {'emotion': {'joy': 'na', 'trust': 'low', 'fear': 'medium', 'surprise': 'medium', 'sadness': 'medium', 'disgust': 'na', 'anger': 'low', 'anticipation': 'na'}, 'reason': 'Emma feels hurt because Jake accidentally injured her leg.'}\n",
      "Result 28: {'emotion': {'joy': 'na', 'trust': 'na', 'fear': 'na', 'surprise': 'high', 'sadness': 'na', 'disgust': 'na', 'anger': 'na', 'anticipation': 'na'}, 'reason': \"The interviewer is shocked because Lily's answer was unexpectedly negative.\"}\n",
      "Result 29: {'emotion': {'joy': 'low', 'trust': 'high', 'fear': 'na', 'surprise': 'na', 'sadness': 'low', 'disgust': 'na', 'anger': 'na', 'anticipation': 'na'}, 'reason': 'The doctor feels compassionate because he wants to understand and help James.'}\n",
      "Result 30: {'emotion': {'joy': 'low', 'trust': 'na', 'fear': 'na', 'surprise': 'na', 'sadness': 'na', 'disgust': 'na', 'anger': 'na', 'anticipation': 'low'}, 'reason': 'Emily feels satisfied and proud of her healthy lifestyle choices, which she has maintained through consistent self-care.'}\n",
      "Result 31: {'emotion': {'joy': 'na', 'trust': 'na', 'fear': 'na', 'surprise': 'na', 'sadness': 'na', 'disgust': 'na', 'anger': 'na', 'anticipation': 'na'}, 'reason': 'Others do not react emotionally to Michael buying a house.'}\n"
     ]
    },
    {
     "name": "stderr",
     "output_type": "stream",
     "text": [
      "\n"
     ]
    }
   ],
   "source": [
    "## Test Batch Prediction\n",
    "async def predict_with_sem(semaphore, messages):\n",
    "    async with semaphore:\n",
    "        return await predict(messages)\n",
    "    \n",
    "sem = asyncio.Semaphore(16)\n",
    "tasks = []\n",
    "\n",
    "for messages in all_messages[:32]:\n",
    "    task = asyncio.create_task(predict_with_sem(sem, messages))\n",
    "    tasks.append(task)\n",
    "results = await tqdm.gather(*tasks)\n",
    "print(\"Results:\")\n",
    "for i, result in enumerate(results):\n",
    "    print(f\"Result {i}: {result}\")\n",
    "    # print(f\"Emotion: {result['emotion']}\")\n",
    "    # print(f\"Reason: {result['reason']}\")\n",
    "    # print()"
   ]
  },
  {
   "cell_type": "markdown",
   "id": "4ffe7092",
   "metadata": {},
   "source": [
    "# 2. Predict Test Data"
   ]
  },
  {
   "cell_type": "code",
   "execution_count": 16,
   "id": "9860860f",
   "metadata": {},
   "outputs": [
    {
     "name": "stderr",
     "output_type": "stream",
     "text": [
      "100%|██████████| 4452/4452 [06:10<00:00, 12.03it/s]"
     ]
    },
    {
     "name": "stdout",
     "output_type": "stream",
     "text": [
      "Results: 4452\n"
     ]
    },
    {
     "name": "stderr",
     "output_type": "stream",
     "text": [
      "\n"
     ]
    }
   ],
   "source": [
    "## Test Batch Prediction\n",
    "async def predict_with_sem(semaphore, messages):\n",
    "    async with semaphore:\n",
    "        return await predict(messages)\n",
    "    \n",
    "sem = asyncio.Semaphore(16)\n",
    "tasks = []\n",
    "\n",
    "for messages in all_messages:\n",
    "    task = asyncio.create_task(predict_with_sem(sem, messages))\n",
    "    tasks.append(task)\n",
    "results = await tqdm.gather(*tasks)\n",
    "print(\"Results: {}\".format(len(results)))"
   ]
  },
  {
   "cell_type": "markdown",
   "id": "27769059",
   "metadata": {},
   "source": [
    "# 3. Analyze Predictions"
   ]
  },
  {
   "cell_type": "code",
   "execution_count": 17,
   "id": "05b7cf70",
   "metadata": {},
   "outputs": [],
   "source": [
    "import numpy as np\n",
    "import matplotlib.pyplot as plt\n",
    "from sklearn.metrics import classification_report"
   ]
  },
  {
   "cell_type": "code",
   "execution_count": 18,
   "id": "b0c12c02",
   "metadata": {},
   "outputs": [
    {
     "data": {
      "text/plain": [
       "{'joy': {'na': {'precision': 0.9959370238699847,\n",
       "   'recall': 0.9736842105263158,\n",
       "   'f1-score': 0.9846849108712026,\n",
       "   'support': 2014.0},\n",
       "  'low': {'precision': 0.8730769230769231,\n",
       "   'recall': 0.9956140350877193,\n",
       "   'f1-score': 0.930327868852459,\n",
       "   'support': 456.0},\n",
       "  'medium': {'precision': 0.9976,\n",
       "   'recall': 0.9704280155642023,\n",
       "   'f1-score': 0.9838264299802761,\n",
       "   'support': 1285.0},\n",
       "  'high': {'precision': 0.9733520336605891,\n",
       "   'recall': 0.9956958393113343,\n",
       "   'f1-score': 0.9843971631205674,\n",
       "   'support': 697.0},\n",
       "  'accuracy': 0.9784366576819407,\n",
       "  'macro avg': {'precision': 0.9599914951518742,\n",
       "   'recall': 0.9838555251223929,\n",
       "   'f1-score': 0.9708090932061262,\n",
       "   'support': 4452.0},\n",
       "  'weighted avg': {'precision': 0.9802970823132652,\n",
       "   'recall': 0.9784366576819407,\n",
       "   'f1-score': 0.9788245067185566,\n",
       "   'support': 4452.0}},\n",
       " 'trust': {'na': {'precision': 1.0,\n",
       "   'recall': 0.9736740224545103,\n",
       "   'f1-score': 0.9866614358571989,\n",
       "   'support': 2583.0},\n",
       "  'low': {'precision': 0.9553571428571429,\n",
       "   'recall': 1.0,\n",
       "   'f1-score': 0.9771689497716894,\n",
       "   'support': 321.0},\n",
       "  'medium': {'precision': 0.9752293577981651,\n",
       "   'recall': 0.9981220657276996,\n",
       "   'f1-score': 0.9865429234338747,\n",
       "   'support': 1065.0},\n",
       "  'high': {'precision': 0.9452054794520548,\n",
       "   'recall': 1.0,\n",
       "   'f1-score': 0.971830985915493,\n",
       "   'support': 483.0},\n",
       "  'accuracy': 0.9842767295597484,\n",
       "  'macro avg': {'precision': 0.9689479950268407,\n",
       "   'recall': 0.9929490220455525,\n",
       "   'f1-score': 0.980551073744564,\n",
       "   'support': 4452.0},\n",
       "  'weighted avg': {'precision': 0.9849108615201105,\n",
       "   'recall': 0.9842767295597484,\n",
       "   'f1-score': 0.984339690330215,\n",
       "   'support': 4452.0}},\n",
       " 'fear': {'na': {'precision': 0.9994636631804773,\n",
       "   'recall': 0.9795006570302234,\n",
       "   'f1-score': 0.9893814706663128,\n",
       "   'support': 3805.0},\n",
       "  'low': {'precision': 0.887468030690537,\n",
       "   'recall': 0.9914285714285714,\n",
       "   'f1-score': 0.9365721997300944,\n",
       "   'support': 350.0},\n",
       "  'medium': {'precision': 0.9356223175965666,\n",
       "   'recall': 0.9646017699115044,\n",
       "   'f1-score': 0.9498910675381264,\n",
       "   'support': 226.0},\n",
       "  'high': {'precision': 0.7171717171717171,\n",
       "   'recall': 1.0,\n",
       "   'f1-score': 0.8352941176470589,\n",
       "   'support': 71.0},\n",
       "  'accuracy': 0.9800089847259659,\n",
       "  'macro avg': {'precision': 0.8849314321598245,\n",
       "   'recall': 0.9838827495925748,\n",
       "   'f1-score': 0.9277847138953981,\n",
       "   'support': 4452.0},\n",
       "  'weighted avg': {'precision': 0.9829161915632121,\n",
       "   'recall': 0.9800089847259659,\n",
       "   'f1-score': 0.9807677514392207,\n",
       "   'support': 4452.0}},\n",
       " 'surprise': {'na': {'precision': 0.9952546662448593,\n",
       "   'recall': 0.9868255959849436,\n",
       "   'f1-score': 0.9910222082217672,\n",
       "   'support': 3188.0},\n",
       "  'low': {'precision': 0.9900744416873449,\n",
       "   'recall': 0.981549815498155,\n",
       "   'f1-score': 0.9857936998147004,\n",
       "   'support': 813.0},\n",
       "  'medium': {'precision': 0.9598997493734336,\n",
       "   'recall': 1.0,\n",
       "   'f1-score': 0.979539641943734,\n",
       "   'support': 383.0},\n",
       "  'high': {'precision': 0.7906976744186046,\n",
       "   'recall': 1.0,\n",
       "   'f1-score': 0.8831168831168831,\n",
       "   'support': 68.0},\n",
       "  'accuracy': 0.9871967654986523,\n",
       "  'macro avg': {'precision': 0.9339816329310606,\n",
       "   'recall': 0.9920938528707747,\n",
       "   'f1-score': 0.9598681082742712,\n",
       "   'support': 4452.0},\n",
       "  'weighted avg': {'precision': 0.9881427320195222,\n",
       "   'recall': 0.9871967654986523,\n",
       "   'f1-score': 0.9874314260280197,\n",
       "   'support': 4452.0}},\n",
       " 'sadness': {'na': {'precision': 0.9997288503253796,\n",
       "   'recall': 0.9694977649224297,\n",
       "   'f1-score': 0.9843812575090108,\n",
       "   'support': 3803.0},\n",
       "  'low': {'precision': 0.7473309608540926,\n",
       "   'recall': 0.9905660377358491,\n",
       "   'f1-score': 0.8519269776876268,\n",
       "   'support': 212.0},\n",
       "  'medium': {'precision': 0.9148264984227129,\n",
       "   'recall': 0.9931506849315068,\n",
       "   'f1-score': 0.9523809523809523,\n",
       "   'support': 292.0},\n",
       "  'high': {'precision': 0.8734939759036144,\n",
       "   'recall': 1.0,\n",
       "   'f1-score': 0.932475884244373,\n",
       "   'support': 145.0},\n",
       "  'accuracy': 0.9730458221024259,\n",
       "  'macro avg': {'precision': 0.8838450713764499,\n",
       "   'recall': 0.9883036218974464,\n",
       "   'f1-score': 0.9302912679554907,\n",
       "   'support': 4452.0},\n",
       "  'weighted avg': {'precision': 0.9780298619797714,\n",
       "   'recall': 0.9730458221024259,\n",
       "   'f1-score': 0.9742845199656821,\n",
       "   'support': 4452.0}},\n",
       " 'disgust': {'na': {'precision': 0.9979016087666123,\n",
       "   'recall': 0.999299556385711,\n",
       "   'f1-score': 0.9986000933271115,\n",
       "   'support': 4283.0},\n",
       "  'low': {'precision': 1.0,\n",
       "   'recall': 0.9210526315789473,\n",
       "   'f1-score': 0.958904109589041,\n",
       "   'support': 114.0},\n",
       "  'medium': {'precision': 1.0,\n",
       "   'recall': 0.9736842105263158,\n",
       "   'f1-score': 0.9866666666666667,\n",
       "   'support': 38.0},\n",
       "  'high': {'precision': 0.8095238095238095,\n",
       "   'recall': 1.0,\n",
       "   'f1-score': 0.8947368421052632,\n",
       "   'support': 17.0},\n",
       "  'accuracy': 0.9970799640610961,\n",
       "  'macro avg': {'precision': 0.9518563545726055,\n",
       "   'recall': 0.9735090996227436,\n",
       "   'f1-score': 0.9597269279220206,\n",
       "   'support': 4452.0},\n",
       "  'weighted avg': {'precision': 0.9972539297190711,\n",
       "   'recall': 0.9970799640610961,\n",
       "   'f1-score': 0.9970851589987177,\n",
       "   'support': 4452.0}},\n",
       " 'anger': {'na': {'precision': 0.999748743718593,\n",
       "   'recall': 0.9927644710578842,\n",
       "   'f1-score': 0.9962443665498247,\n",
       "   'support': 4008.0},\n",
       "  'low': {'precision': 0.9787234042553191,\n",
       "   'recall': 0.9945945945945946,\n",
       "   'f1-score': 0.9865951742627346,\n",
       "   'support': 185.0},\n",
       "  'medium': {'precision': 1.0,\n",
       "   'recall': 0.9602272727272727,\n",
       "   'f1-score': 0.9797101449275363,\n",
       "   'support': 176.0},\n",
       "  'high': {'precision': 0.7217391304347827,\n",
       "   'recall': 1.0,\n",
       "   'f1-score': 0.8383838383838383,\n",
       "   'support': 83.0},\n",
       "  'accuracy': 0.9916891284815813,\n",
       "  'macro avg': {'precision': 0.9250528196021737,\n",
       "   'recall': 0.9868965845949379,\n",
       "   'f1-score': 0.9502333810309835,\n",
       "   'support': 4452.0},\n",
       "  'weighted avg': {'precision': 0.9937019637101173,\n",
       "   'recall': 0.9916891284815813,\n",
       "   'f1-score': 0.9922467143898043,\n",
       "   'support': 4452.0}},\n",
       " 'anticipation': {'na': {'precision': 0.9972972972972973,\n",
       "   'recall': 0.9885189437428243,\n",
       "   'f1-score': 0.9928887180472804,\n",
       "   'support': 2613.0},\n",
       "  'low': {'precision': 0.9691444600280504,\n",
       "   'recall': 0.992816091954023,\n",
       "   'f1-score': 0.9808374733853797,\n",
       "   'support': 696.0},\n",
       "  'medium': {'precision': 0.9955604883462819,\n",
       "   'recall': 0.9824753559693319,\n",
       "   'f1-score': 0.9889746416758545,\n",
       "   'support': 913.0},\n",
       "  'high': {'precision': 0.9274193548387096,\n",
       "   'recall': 1.0,\n",
       "   'f1-score': 0.9623430962343096,\n",
       "   'support': 230.0},\n",
       "  'accuracy': 0.988544474393531,\n",
       "  'macro avg': {'precision': 0.9723554001275848,\n",
       "   'recall': 0.9909525979165448,\n",
       "   'f1-score': 0.981260982335706,\n",
       "   'support': 4452.0},\n",
       "  'weighted avg': {'precision': 0.9889298201910197,\n",
       "   'recall': 0.988544474393531,\n",
       "   'f1-score': 0.9886239581576178,\n",
       "   'support': 4452.0}}}"
      ]
     },
     "execution_count": 18,
     "metadata": {},
     "output_type": "execute_result"
    }
   ],
   "source": [
    "labels = [\"na\", \"low\", \"medium\", \"high\"]\n",
    "emotion_cols = [\"joy\", \"trust\", \"fear\", \"surprise\", \"sadness\", \"disgust\", \"anger\", \"anticipation\"]\n",
    "\n",
    "reports = {}\n",
    "for col in emotion_cols:\n",
    "    y_true = df[col].tolist()\n",
    "    # y_pred = [getattr(pred.emotion, col).value for pred in predictions]\n",
    "    y_pred = [pred[\"emotion\"][col] for pred in results]\n",
    "    reports[col] = classification_report(\n",
    "        y_true, \n",
    "        y_pred,\n",
    "        labels=labels,\n",
    "        output_dict=True,\n",
    "        zero_division=0\n",
    "    )\n",
    "reports"
   ]
  },
  {
   "cell_type": "code",
   "execution_count": 19,
   "id": "5837e75a",
   "metadata": {},
   "outputs": [
    {
     "data": {
      "text/plain": [
       "{'na': [0.9846849108712026,\n",
       "  0.9866614358571989,\n",
       "  0.9893814706663128,\n",
       "  0.9910222082217672,\n",
       "  0.9843812575090108,\n",
       "  0.9986000933271115,\n",
       "  0.9962443665498247,\n",
       "  0.9928887180472804],\n",
       " 'low': [0.930327868852459,\n",
       "  0.9771689497716894,\n",
       "  0.9365721997300944,\n",
       "  0.9857936998147004,\n",
       "  0.8519269776876268,\n",
       "  0.958904109589041,\n",
       "  0.9865951742627346,\n",
       "  0.9808374733853797],\n",
       " 'medium': [0.9838264299802761,\n",
       "  0.9865429234338747,\n",
       "  0.9498910675381264,\n",
       "  0.979539641943734,\n",
       "  0.9523809523809523,\n",
       "  0.9866666666666667,\n",
       "  0.9797101449275363,\n",
       "  0.9889746416758545],\n",
       " 'high': [0.9843971631205674,\n",
       "  0.971830985915493,\n",
       "  0.8352941176470589,\n",
       "  0.8831168831168831,\n",
       "  0.932475884244373,\n",
       "  0.8947368421052632,\n",
       "  0.8383838383838383,\n",
       "  0.9623430962343096]}"
      ]
     },
     "execution_count": 19,
     "metadata": {},
     "output_type": "execute_result"
    }
   ],
   "source": [
    "categories = emotion_cols\n",
    "labels = ['na', 'low', 'medium', 'high']\n",
    "\n",
    "# f1_values = {\n",
    "#     category: {\n",
    "#         label: reports[category][label]['f1-score']\n",
    "#         for label in labels\n",
    "#     }\n",
    "#     for category in categories\n",
    "# }\n",
    "f1_values = {\n",
    "    label: [reports[cat][label]['f1-score'] for cat in categories]\n",
    "    for label in labels\n",
    "}\n",
    "f1_values"
   ]
  },
  {
   "cell_type": "code",
   "execution_count": 20,
   "id": "fb769648",
   "metadata": {},
   "outputs": [
    {
     "name": "stdout",
     "output_type": "stream",
     "text": [
      "na\n",
      "[0.9846849108712026, 0.9866614358571989, 0.9893814706663128, 0.9910222082217672, 0.9843812575090108, 0.9986000933271115, 0.9962443665498247, 0.9928887180472804]\n",
      "low\n",
      "[0.930327868852459, 0.9771689497716894, 0.9365721997300944, 0.9857936998147004, 0.8519269776876268, 0.958904109589041, 0.9865951742627346, 0.9808374733853797]\n",
      "medium\n",
      "[0.9838264299802761, 0.9865429234338747, 0.9498910675381264, 0.979539641943734, 0.9523809523809523, 0.9866666666666667, 0.9797101449275363, 0.9889746416758545]\n",
      "high\n",
      "[0.9843971631205674, 0.971830985915493, 0.8352941176470589, 0.8831168831168831, 0.932475884244373, 0.8947368421052632, 0.8383838383838383, 0.9623430962343096]\n"
     ]
    },
    {
     "data": {
      "image/png": "[encoded data removed]",
      "text/plain": [
       "<Figure size 1200x600 with 1 Axes>"
      ]
     },
     "metadata": {},
     "output_type": "display_data"
    }
   ],
   "source": [
    "x = np.arange(len(categories))\n",
    "width = 0.2\n",
    "\n",
    "fig, ax = plt.subplots(figsize=(12, 6))\n",
    "\n",
    "# Plot grouped bars\n",
    "for i, label in enumerate(labels):\n",
    "    print(label)\n",
    "    print(f1_values[label])\n",
    "    ax.bar(x + i * width, f1_values[label], width, label=label)\n",
    "\n",
    "# Set chart details\n",
    "ax.set_xticks(x + width * (len(labels) - 1) / 2)\n",
    "ax.set_xticklabels(categories, rotation=45, ha='right')\n",
    "ax.set_ylabel('F1-score')\n",
    "ax.set_xlabel('Emotion Category')\n",
    "ax.set_title('F1-scores by Emotion Category and Label')\n",
    "# ax.legend(title='Label')\n",
    "ax.legend(title='Label', bbox_to_anchor=(1.02, 1), loc='upper left', borderaxespad=0)\n",
    "plt.tight_layout()\n",
    "plt.savefig(f\"figs/{RUN_NAME}-f1-scores.png\")\n",
    "plt.show()\n"
   ]
  },
  {
   "cell_type": "code",
   "execution_count": 21,
   "id": "e2377116",
   "metadata": {},
   "outputs": [],
   "source": [
    "# labels = [\"na\", \"low\", \"medium\", \"high\"]\n",
    "# for column in [\"joy\", \"trust\", \"fear\", \"surprise\", \"sadness\", \"disgust\", \"anger\", \"anticipation\"]:\n",
    "#     y_true = df[column].tolist()\n",
    "#     print(df[column].unique())\n",
    "#     y_pred = [getattr(pred.emotion, column).value for pred in predictions]\n",
    "#     print(f\"Classification report for {column}:\")\n",
    "#     print(classification_report(y_true, y_pred, labels=labels))"
   ]
  },
  {
   "cell_type": "code",
   "execution_count": null,
   "id": "fb74dbc6",
   "metadata": {},
   "outputs": [],
   "source": []
  }
 ],
 "metadata": {
  "kernelspec": {
   "display_name": "llm",
   "language": "python",
   "name": "llm"
  },
  "language_info": {
   "codemirror_mode": {
    "name": "ipython",
    "version": 3
   },
   "file_extension": ".py",
   "mimetype": "text/x-python",
   "name": "python",
   "nbconvert_exporter": "python",
   "pygments_lexer": "ipython3",
   "version": "3.10.14"
  }
 },
 "nbformat": 4,
 "nbformat_minor": 5
}
