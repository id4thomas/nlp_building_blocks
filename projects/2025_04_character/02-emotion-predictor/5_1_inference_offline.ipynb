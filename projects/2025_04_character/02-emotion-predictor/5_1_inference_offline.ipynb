{
 "cells": [
  {
   "cell_type": "code",
   "execution_count": 1,
   "id": "9099408b",
   "metadata": {},
   "outputs": [],
   "source": [
    "from enum import Enum\n",
    "import json\n",
    "import os\n",
    "from typing import Optional, Dict, Any, List\n",
    "\n",
    "import outlines\n",
    "from outlines import models, generate\n",
    "import pandas as pd\n",
    "import pprint\n",
    "from pydantic import BaseModel\n",
    "from transformers import AutoTokenizer, AutoModelForCausalLM\n",
    "import torch\n"
   ]
  },
  {
   "cell_type": "markdown",
   "id": "600e5260",
   "metadata": {},
   "source": [
    "# 1. Prepare Input"
   ]
  },
  {
   "cell_type": "code",
   "execution_count": 2,
   "id": "0c7a2c74",
   "metadata": {},
   "outputs": [],
   "source": [
    "SYSTEM_MESSAGE = '''You are building an emotion‑prediction component that, given a character name and a brief situational description, must identify the character’s emotional state and the reason for it.\n",
    "When given an input of the form:\n",
    "```\n",
    "Character:  {character}\n",
    "Source: {source}\n",
    "```\n",
    "your job is to:\n",
    "\n",
    "1. **Map the Emotion:**  \n",
    "   - Choose among the 8 primary emotions from Plutchik’s Wheel (joy, trust, fear, surprise, sadness, disgust, anger, anticipation).  \n",
    "   - For each, assign one of: `\"na\"` (not applicable), `\"low\"`, `\"medium\"`, or `\"high\"`.\n",
    "\n",
    "2. **Write a Reason:**  \n",
    "   - Provide a single sentence explaining why the character feels as you’ve labeled.\n",
    "\n",
    "## Map the Emotion: Map the target emotion onto the 8 primary emotions from Plutchik’s Wheel\n",
    "* \"joy\": Joy is a bright, uplifting emotion that reflects happiness, satisfaction, and a sense of well-being. It often arises when our desires are fulfilled or we experience positive moments, and it helps energize both our minds and bodies. Joy can enhance social connections and overall resilience by radiating positivity\n",
    "* \"trust\": Trust is the reassuring feeling of confidence and security in another person or situation. It builds from consistent, reliable interactions and underpins strong, supportive relationships. This emotion fosters cooperation and reduces anxiety by creating a sense of safety\n",
    "* \"fear\": Fear is an instinctive response to perceived threats that activates our fight-or-flight mechanism. It heightens awareness and prepares our body to respond quickly to danger, making it essential for survival. Despite its discomfort, fear is a crucial signal that prompts protective action and risk assessment\n",
    "* \"surprise\": Surprise occurs when we encounter the unexpected, momentarily halting our regular thought process. This emotion can be positive, neutral, or even negative, depending on the context, and often sparks curiosity about what comes next. Its brief nature helps redirect our focus and encourages adaptive responses to new situations\n",
    "* \"sadness\": Sadness is a deep, reflective emotion that often emerges from loss, disappointment, or unmet expectations. It can lead to introspection and a desire for support as we navigate feelings of grief or dejection. Although challenging, sadness can also foster empathy and pave the way for emotional healing and growth\n",
    "* \"disgust\": Disgust is an aversive emotion that signals rejection toward something perceived as harmful, unclean, or morally offensive. It serves as a protective mechanism, prompting us to avoid substances or situations that might be dangerous. This emotion plays a vital role in maintaining both physical health and ethical boundaries\n",
    "* \"anger\": Anger arises when we perceive injustice, frustration, or a threat to our well-being, often urging us to act in response. It can manifest as physical tension and heightened energy, signaling that something in our environment needs to change. When managed effectively, anger can motivate constructive action and help assert personal boundaries\n",
    "* \"anticipation\": Anticipation is the forward-looking emotion characterized by a mix of excitement and apprehension about future events. It motivates preparation and planning while balancing hope with cautious vigilance. This emotion bridges the gap between our present state and the potential for positive outcomes in the future\n",
    "\n",
    "For each emotion, assign one of the following intensities:\n",
    "* \"na\" (not applicable)\n",
    "* \"low\"\n",
    "* \"medium\"\n",
    "* \"high\"\n",
    "\n",
    "## Write a Reason:\n",
    "Provide a one-sentence rationale (\"reason\") explaining why the subject (if xReact) or the other person (if oReact) feels the given emotion(s).\n",
    "ex. “She feels empowered and confident after cutting out social media.”\n",
    "\n",
    "Return in the following JSON format (no extra keys, no explanation outside the JSON)\n",
    "{\n",
    "    \"emotion\": {\n",
    "        \"joy\": \"na\" | \"low\" | \"medium\" | \"high\",\n",
    "        \"trust\": \"na\" | \"low\" | \"medium\" | \"high\",\n",
    "        \"fear\": \"na\" | \"low\" | \"medium\" | \"high\",\n",
    "        \"surprise\": \"na\" | \"low\" | \"medium\" | \"high\",\n",
    "        \"sadness\": \"na\" | \"low\" | \"medium\" | \"high\",\n",
    "        \"disgust\": \"na\" | \"low\" | \"medium\" | \"high\",\n",
    "        \"anger\": \"na\" | \"low\" | \"medium\" | \"high\",\n",
    "        \"anticipation\": \"na\" | \"low\" | \"medium\" | \"high\"\n",
    "    },\n",
    "    \"reason\": \"One sentence explaining why these emotions occur\"\n",
    "}\n",
    "Only return the JSON'''\n",
    "\n",
    "USER_TEMPLATE = '''Source: {source}\n",
    "Character: {character}'''\n",
    "\n",
    "class RelationshipStatus(str, Enum):\n",
    "    na = \"na\"\n",
    "    low = \"low\"\n",
    "    medium = \"medium\"\n",
    "    high = \"high\"\n",
    "    \n",
    "class EmotionLabel(BaseModel):\n",
    "    joy: RelationshipStatus\n",
    "    trust: RelationshipStatus\n",
    "    fear: RelationshipStatus\n",
    "    surprise: RelationshipStatus\n",
    "    sadness: RelationshipStatus\n",
    "    disgust: RelationshipStatus\n",
    "    anger: RelationshipStatus\n",
    "    anticipation: RelationshipStatus\n",
    "    \n",
    "    # class Config:\n",
    "    #     extra = Extra.forbid\n",
    "    #     use_enum_values = True\n",
    "        \n",
    "class EntryResult(BaseModel):\n",
    "    emotion: EmotionLabel\n",
    "    reason: str"
   ]
  },
  {
   "cell_type": "code",
   "execution_count": 3,
   "id": "796faf6f",
   "metadata": {},
   "outputs": [
    {
     "name": "stdout",
     "output_type": "stream",
     "text": [
      "(4452, 16) Index(['uid', 'original_idx', 'original_src', 'original_relation',\n",
      "       'original_tgt', 'source', 'character', 'joy', 'trust', 'fear',\n",
      "       'surprise', 'sadness', 'disgust', 'anger', 'anticipation', 'reason'],\n",
      "      dtype='object')\n"
     ]
    }
   ],
   "source": [
    "llm_model = \"gpt-4.1-mini-2025-04-14\"\n",
    "df = pd.read_csv(f\"data/comet/test_{llm_model}.tsv\", sep=\"\\t\")\n",
    "print(df.shape, df.columns)"
   ]
  },
  {
   "cell_type": "code",
   "execution_count": 4,
   "id": "c771b3fa",
   "metadata": {},
   "outputs": [],
   "source": [
    "row = df.iloc[1]\n",
    "user_message = USER_TEMPLATE.format(\n",
    "    source=row['source'],\n",
    "    character=row['character']\n",
    ")\n",
    "assistant_message = json.dumps(\n",
    "    {\n",
    "        \"emotion\": {\n",
    "            \"joy\": row['joy'],\n",
    "            \"trust\": row['trust'],\n",
    "            \"fear\": row['fear'],\n",
    "            \"surprise\": row['surprise'],\n",
    "            \"sadness\": row['sadness'],\n",
    "            \"disgust\": row['disgust'],\n",
    "            \"anger\": row['anger'],\n",
    "            \"anticipation\": row['anticipation']\n",
    "        },\n",
    "        \"reason\": row['reason']\n",
    "    }\n",
    ")\n",
    "\n",
    "messages = [\n",
    "    {\"role\": \"system\", \"content\": SYSTEM_MESSAGE},\n",
    "    {\"role\": \"user\", \"content\": user_message},\n",
    "    {\"role\": \"assistant\", \"content\": assistant_message}\n",
    "]"
   ]
  },
  {
   "cell_type": "code",
   "execution_count": 5,
   "id": "85c0a4b6",
   "metadata": {},
   "outputs": [
    {
     "data": {
      "text/plain": [
       "[{'role': 'system',\n",
       "  'content': 'You are building an emotion‑prediction component that, given a character name and a brief situational description, must identify the character’s emotional state and the reason for it.\\nWhen given an input of the form:\\n```\\nCharacter:  {character}\\nSource: {source}\\n```\\nyour job is to:\\n\\n1. **Map the Emotion:**  \\n   - Choose among the 8 primary emotions from Plutchik’s Wheel (joy, trust, fear, surprise, sadness, disgust, anger, anticipation).  \\n   - For each, assign one of: `\"na\"` (not applicable), `\"low\"`, `\"medium\"`, or `\"high\"`.\\n\\n2. **Write a Reason:**  \\n   - Provide a single sentence explaining why the character feels as you’ve labeled.\\n\\n## Map the Emotion: Map the target emotion onto the 8 primary emotions from Plutchik’s Wheel\\n* \"joy\": Joy is a bright, uplifting emotion that reflects happiness, satisfaction, and a sense of well-being. It often arises when our desires are fulfilled or we experience positive moments, and it helps energize both our minds and bodies. Joy can enhance social connections and overall resilience by radiating positivity\\n* \"trust\": Trust is the reassuring feeling of confidence and security in another person or situation. It builds from consistent, reliable interactions and underpins strong, supportive relationships. This emotion fosters cooperation and reduces anxiety by creating a sense of safety\\n* \"fear\": Fear is an instinctive response to perceived threats that activates our fight-or-flight mechanism. It heightens awareness and prepares our body to respond quickly to danger, making it essential for survival. Despite its discomfort, fear is a crucial signal that prompts protective action and risk assessment\\n* \"surprise\": Surprise occurs when we encounter the unexpected, momentarily halting our regular thought process. This emotion can be positive, neutral, or even negative, depending on the context, and often sparks curiosity about what comes next. Its brief nature helps redirect our focus and encourages adaptive responses to new situations\\n* \"sadness\": Sadness is a deep, reflective emotion that often emerges from loss, disappointment, or unmet expectations. It can lead to introspection and a desire for support as we navigate feelings of grief or dejection. Although challenging, sadness can also foster empathy and pave the way for emotional healing and growth\\n* \"disgust\": Disgust is an aversive emotion that signals rejection toward something perceived as harmful, unclean, or morally offensive. It serves as a protective mechanism, prompting us to avoid substances or situations that might be dangerous. This emotion plays a vital role in maintaining both physical health and ethical boundaries\\n* \"anger\": Anger arises when we perceive injustice, frustration, or a threat to our well-being, often urging us to act in response. It can manifest as physical tension and heightened energy, signaling that something in our environment needs to change. When managed effectively, anger can motivate constructive action and help assert personal boundaries\\n* \"anticipation\": Anticipation is the forward-looking emotion characterized by a mix of excitement and apprehension about future events. It motivates preparation and planning while balancing hope with cautious vigilance. This emotion bridges the gap between our present state and the potential for positive outcomes in the future\\n\\nFor each emotion, assign one of the following intensities:\\n* \"na\" (not applicable)\\n* \"low\"\\n* \"medium\"\\n* \"high\"\\n\\n## Write a Reason:\\nProvide a one-sentence rationale (\"reason\") explaining why the subject (if xReact) or the other person (if oReact) feels the given emotion(s).\\nex. “She feels empowered and confident after cutting out social media.”\\n\\nReturn in the following JSON format (no extra keys, no explanation outside the JSON)\\n{\\n    \"emotion\": {\\n        \"joy\": \"na\" | \"low\" | \"medium\" | \"high\",\\n        \"trust\": \"na\" | \"low\" | \"medium\" | \"high\",\\n        \"fear\": \"na\" | \"low\" | \"medium\" | \"high\",\\n        \"surprise\": \"na\" | \"low\" | \"medium\" | \"high\",\\n        \"sadness\": \"na\" | \"low\" | \"medium\" | \"high\",\\n        \"disgust\": \"na\" | \"low\" | \"medium\" | \"high\",\\n        \"anger\": \"na\" | \"low\" | \"medium\" | \"high\",\\n        \"anticipation\": \"na\" | \"low\" | \"medium\" | \"high\"\\n    },\\n    \"reason\": \"One sentence explaining why these emotions occur\"\\n}\\nOnly return the JSON'},\n",
       " {'role': 'user',\n",
       "  'content': 'Source: Michael realizes his project proposal needs a lot of work before submission. He feels overwhelmed by the amount of revisions required and doubts his ability to finish on time. The pressure makes him feel downtrodden as he contemplates the long tasks ahead.\\nCharacter: Michael'},\n",
       " {'role': 'assistant',\n",
       "  'content': '{\"emotion\": {\"joy\": \"na\", \"trust\": \"na\", \"fear\": \"low\", \"surprise\": \"na\", \"sadness\": \"high\", \"disgust\": \"na\", \"anger\": \"low\", \"anticipation\": \"medium\"}, \"reason\": \"Michael feels downtrodden due to the heavy workload and looming pressure to improve his project.\"}'}]"
      ]
     },
     "execution_count": 5,
     "metadata": {},
     "output_type": "execute_result"
    }
   ],
   "source": [
    "messages"
   ]
  },
  {
   "cell_type": "markdown",
   "id": "ee914643",
   "metadata": {},
   "source": [
    "# 2. Baseline Inference"
   ]
  },
  {
   "cell_type": "code",
   "execution_count": 6,
   "id": "fa2d092d",
   "metadata": {},
   "outputs": [
    {
     "name": "stderr",
     "output_type": "stream",
     "text": [
      "Sliding Window Attention is enabled but not implemented for `sdpa`; unexpected results may be encountered.\n"
     ]
    },
    {
     "data": {
      "application/vnd.jupyter.widget-view+json": {
       "model_id": "8b66c094bdaf44a6bcf56fe6c97df8f3",
       "version_major": 2,
       "version_minor": 0
      },
      "text/plain": [
       "Loading checkpoint shards:   0%|          | 0/2 [00:00<?, ?it/s]"
      ]
     },
     "metadata": {},
     "output_type": "display_data"
    },
    {
     "name": "stdout",
     "output_type": "stream",
     "text": [
      "BASE MODEL LOADED\n"
     ]
    }
   ],
   "source": [
    "## Load Pretrained Model\n",
    "pretrained_model_dir = \"Qwen/Qwen2.5-3B-Instruct\"\n",
    "\n",
    "tokenizer = AutoTokenizer.from_pretrained(pretrained_model_dir)\n",
    "model = AutoModelForCausalLM.from_pretrained(\n",
    "    pretrained_model_dir, torch_dtype=torch.bfloat16\n",
    ")\n",
    "model.eval()\n",
    "print(\"BASE MODEL LOADED\")"
   ]
  },
  {
   "cell_type": "markdown",
   "id": "a6c0fb7c",
   "metadata": {},
   "source": [
    "## 2-1. Transformers"
   ]
  },
  {
   "cell_type": "code",
   "execution_count": 7,
   "id": "09f41e20",
   "metadata": {},
   "outputs": [],
   "source": [
    "text = tokenizer.apply_chat_template(\n",
    "    messages,\n",
    "    tokenize=False,\n",
    "    add_generation_prompt=True,\n",
    ")\n",
    "model_inputs = tokenizer([text], return_tensors=\"pt\").to(model.device)\n",
    "\n",
    "# Directly use generate() and tokenizer.decode() to get the output.\n",
    "# Use `max_new_tokens` to control the maximum output length.\n",
    "generated_ids = model.generate(\n",
    "    **model_inputs,\n",
    "    max_new_tokens=512,\n",
    ")"
   ]
  },
  {
   "cell_type": "code",
   "execution_count": 8,
   "id": "3b7b02ee",
   "metadata": {},
   "outputs": [
    {
     "name": "stdout",
     "output_type": "stream",
     "text": [
      "system\n",
      "You are building an emotion‑prediction component that, given a character name and a brief situational description, must identify the character’s emotional state and the reason for it.\n",
      "When given an input of the form:\n",
      "```\n",
      "Character:  {character}\n",
      "Source: {source}\n",
      "```\n",
      "your job is to:\n",
      "\n",
      "1. **Map the Emotion:**  \n",
      "   - Choose among the 8 primary emotions from Plutchik’s Wheel (joy, trust, fear, surprise, sadness, disgust, anger, anticipation).  \n",
      "   - For each, assign one of: `\"na\"` (not applicable), `\"low\"`, `\"medium\"`, or `\"high\"`.\n",
      "\n",
      "2. **Write a Reason:**  \n",
      "   - Provide a single sentence explaining why the character feels as you’ve labeled.\n",
      "\n",
      "## Map the Emotion: Map the target emotion onto the 8 primary emotions from Plutchik’s Wheel\n",
      "* \"joy\": Joy is a bright, uplifting emotion that reflects happiness, satisfaction, and a sense of well-being. It often arises when our desires are fulfilled or we experience positive moments, and it helps energize both our minds and bodies. Joy can enhance social connections and overall resilience by radiating positivity\n",
      "* \"trust\": Trust is the reassuring feeling of confidence and security in another person or situation. It builds from consistent, reliable interactions and underpins strong, supportive relationships. This emotion fosters cooperation and reduces anxiety by creating a sense of safety\n",
      "* \"fear\": Fear is an instinctive response to perceived threats that activates our fight-or-flight mechanism. It heightens awareness and prepares our body to respond quickly to danger, making it essential for survival. Despite its discomfort, fear is a crucial signal that prompts protective action and risk assessment\n",
      "* \"surprise\": Surprise occurs when we encounter the unexpected, momentarily halting our regular thought process. This emotion can be positive, neutral, or even negative, depending on the context, and often sparks curiosity about what comes next. Its brief nature helps redirect our focus and encourages adaptive responses to new situations\n",
      "* \"sadness\": Sadness is a deep, reflective emotion that often emerges from loss, disappointment, or unmet expectations. It can lead to introspection and a desire for support as we navigate feelings of grief or dejection. Although challenging, sadness can also foster empathy and pave the way for emotional healing and growth\n",
      "* \"disgust\": Disgust is an aversive emotion that signals rejection toward something perceived as harmful, unclean, or morally offensive. It serves as a protective mechanism, prompting us to avoid substances or situations that might be dangerous. This emotion plays a vital role in maintaining both physical health and ethical boundaries\n",
      "* \"anger\": Anger arises when we perceive injustice, frustration, or a threat to our well-being, often urging us to act in response. It can manifest as physical tension and heightened energy, signaling that something in our environment needs to change. When managed effectively, anger can motivate constructive action and help assert personal boundaries\n",
      "* \"anticipation\": Anticipation is the forward-looking emotion characterized by a mix of excitement and apprehension about future events. It motivates preparation and planning while balancing hope with cautious vigilance. This emotion bridges the gap between our present state and the potential for positive outcomes in the future\n",
      "\n",
      "For each emotion, assign one of the following intensities:\n",
      "* \"na\" (not applicable)\n",
      "* \"low\"\n",
      "* \"medium\"\n",
      "* \"high\"\n",
      "\n",
      "## Write a Reason:\n",
      "Provide a one-sentence rationale (\"reason\") explaining why the subject (if xReact) or the other person (if oReact) feels the given emotion(s).\n",
      "ex. “She feels empowered and confident after cutting out social media.”\n",
      "\n",
      "Return in the following JSON format (no extra keys, no explanation outside the JSON)\n",
      "{\n",
      "    \"emotion\": {\n",
      "        \"joy\": \"na\" | \"low\" | \"medium\" | \"high\",\n",
      "        \"trust\": \"na\" | \"low\" | \"medium\" | \"high\",\n",
      "        \"fear\": \"na\" | \"low\" | \"medium\" | \"high\",\n",
      "        \"surprise\": \"na\" | \"low\" | \"medium\" | \"high\",\n",
      "        \"sadness\": \"na\" | \"low\" | \"medium\" | \"high\",\n",
      "        \"disgust\": \"na\" | \"low\" | \"medium\" | \"high\",\n",
      "        \"anger\": \"na\" | \"low\" | \"medium\" | \"high\",\n",
      "        \"anticipation\": \"na\" | \"low\" | \"medium\" | \"high\"\n",
      "    },\n",
      "    \"reason\": \"One sentence explaining why these emotions occur\"\n",
      "}\n",
      "Only return the JSON\n",
      "user\n",
      "Source: Michael realizes his project proposal needs a lot of work before submission. He feels overwhelmed by the amount of revisions required and doubts his ability to finish on time. The pressure makes him feel downtrodden as he contemplates the long tasks ahead.\n",
      "Character: Michael\n",
      "assistant\n",
      "{\"emotion\": {\"joy\": \"na\", \"trust\": \"na\", \"fear\": \"low\", \"surprise\": \"na\", \"sadness\": \"high\", \"disgust\": \"na\", \"anger\": \"low\", \"anticipation\": \"medium\"}, \"reason\": \"Michael feels downtrodden due to the heavy workload and looming pressure to improve his project.\"}\n",
      "assistant\n",
      "Let's refine the emotion mapping and reasoning based on the provided scenario:\n",
      "\n",
      "### Emotion Mapping:\n",
      "- **Joy**: Bright, uplifting emotion reflecting happiness and satisfaction.\n",
      "- **Trust**: Reassuring feeling of confidence and security.\n",
      "- **Fear**: Instinctive response to perceived threats, activating fight-or-flight mechanism.\n",
      "- **Surprise**: Occurs when encountering the unexpected, often sparking curiosity.\n",
      "- **Sadness**: Deep, reflective emotion arising from loss, disappointment, or unmet expectations.\n",
      "- **Disgust**: Aversive emotion signaling rejection of something harmful, unclean, or morally offensive.\n",
      "- **Anger**: Urging response to perceived injustice, frustration, or threats to well-being.\n",
      "- **Anticipation**: Forward-looking emotion characterized by a mix of excitement and apprehension about future events.\n",
      "\n",
      "### Given Scenario:\n",
      "**Michael realizes his project proposal needs a lot of work before submission. He feels overwhelmed by the amount of revisions required and doubts his ability to finish on time. The pressure makes him feel downtrodden as he contemplates the long tasks ahead.**\n",
      "\n",
      "### Analysis:\n",
      "1. **Joy (na)**: Not applicable as there is no indication of happiness or satisfaction.\n",
      "2. **Trust (na)**: Not applicable as there is no reassurance or confidence.\n",
      "3. **Fear (low)**: Mild fear due to the pressure and uncertainty about finishing on time.\n",
      "4. **Surprise (na)**: Not applicable as there is no unexpected element.\n",
      "5. **Sadness (high)**: Significant sadness due to overwhelming workload and doubts about completing the task on time.\n",
      "6. **Disgust (na)**: Not applicable as there is no indication of rejection or aversion.\n",
      "7. **Anger (low)**: Mild anger due to frustration and pressure but not intense.\n",
      "8. **Anticipation (medium)**: Some anticipation due to the upcoming tasks but overshadowed by the challenges.\n",
      "\n",
      "### Rationale:\n",
      "**Michael feels sad and overwhelmed because the heavy workload and looming deadline make him doubt his ability to complete the project on time, causing him to feel depressed and frustrated.**\n",
      "\n",
      "### Final JSON:\n",
      "```json\n",
      "{\n",
      "    \"emotion\": {\n",
      "        \"joy\": \"na\",\n",
      "        \"trust\": \"na\",\n",
      "        \"fear\": \"low\",\n",
      "        \"surprise\": \"na\",\n",
      "        \"sadness\": \"high\",\n",
      "        \"disgust\": \"na\",\n",
      "        \"anger\": \"low\",\n",
      "        \"anticipation\": \"medium\"\n",
      "    },\n",
      "    \"reason\": \"Michael feels sad and\n"
     ]
    }
   ],
   "source": [
    "print(tokenizer.decode(\n",
    "    generated_ids[0],\n",
    "    skip_special_tokens=True,\n",
    "    clean_up_tokenization_spaces=True\n",
    "))"
   ]
  },
  {
   "cell_type": "markdown",
   "id": "e729dec5",
   "metadata": {},
   "source": [
    "## 2-2. Outlines"
   ]
  },
  {
   "cell_type": "code",
   "execution_count": 9,
   "id": "34496837",
   "metadata": {},
   "outputs": [],
   "source": [
    "outlines_model = models.Transformers(model, tokenizer,)\n",
    "generator = outlines.generate.json(outlines_model, EntryResult)"
   ]
  },
  {
   "cell_type": "code",
   "execution_count": 10,
   "id": "7265fa3e",
   "metadata": {},
   "outputs": [
    {
     "name": "stdout",
     "output_type": "stream",
     "text": [
      "ANSWER:\n",
      "joy: na\n",
      "trust: na\n",
      "fear: low\n",
      "surprise: na\n",
      "sadness: high\n",
      "disgust: na\n",
      "anger: low\n",
      "anticipation: medium\n",
      "PREDICTION:\n",
      "EntryResult(emotion=EmotionLabel(joy=<RelationshipStatus.na: 'na'>, trust=<RelationshipStatus.na: 'na'>, fear=<RelationshipStatus.low: 'low'>, surprise=<RelationshipStatus.na: 'na'>, sadness=<RelationshipStatus.high: 'high'>, disgust=<RelationshipStatus.na: 'na'>, anger=<RelationshipStatus.low: 'low'>, anticipation=<RelationshipStatus.medium: 'medium'>), reason='Michael feels overwhelmed and sad due to the numerous revisions needed and his doubts about completing the project on time.')\n",
      "{\n",
      "  \"emotion\": {\n",
      "    \"joy\": \"na\",\n",
      "    \"trust\": \"na\",\n",
      "    \"fear\": \"low\",\n",
      "    \"surprise\": \"na\",\n",
      "    \"sadness\": \"high\",\n",
      "    \"disgust\": \"na\",\n",
      "    \"anger\": \"low\",\n",
      "    \"anticipation\": \"medium\"\n",
      "  },\n",
      "  \"reason\": \"Michael feels overwhelmed and sad due to the numerous revisions needed and his doubts about completing the project on time.\"\n",
      "}\n"
     ]
    }
   ],
   "source": [
    "prediction = generator(text)\n",
    "\n",
    "print(\"ANSWER:\")\n",
    "emotions = [\"joy\", \"trust\", \"fear\", \"surprise\", \"sadness\", \"disgust\", \"anger\", \"anticipation\"]\n",
    "for emotion in emotions:\n",
    "    print(\"{}: {}\".format(emotion, row[emotion]))\n",
    "\n",
    "print(\"PREDICTION:\")\n",
    "print(repr(prediction))\n",
    "print(prediction.model_dump_json(indent=2))"
   ]
  },
  {
   "cell_type": "markdown",
   "id": "7b3f6311",
   "metadata": {},
   "source": [
    "# 3. Tuned Version"
   ]
  },
  {
   "cell_type": "code",
   "execution_count": 12,
   "id": "7e6e7d62",
   "metadata": {},
   "outputs": [
    {
     "name": "stdout",
     "output_type": "stream",
     "text": [
      "MODEL LOADED\n"
     ]
    }
   ],
   "source": [
    "run_name = \"250418-01-qwen2_5-3b-try1\"\n",
    "run_name = \"250421-01-qwen2_5-3b-mini-try1\"\n",
    "adapter_dir = f\"weights/{run_name}/best\"\n",
    "\n",
    "model.load_adapter(adapter_dir)\n",
    "model.eval()\n",
    "print(\"MODEL LOADED\")"
   ]
  },
  {
   "cell_type": "markdown",
   "id": "60b8be2e",
   "metadata": {},
   "source": [
    "## 3-1. Transformers"
   ]
  },
  {
   "cell_type": "code",
   "execution_count": 13,
   "id": "b0c0d416",
   "metadata": {},
   "outputs": [],
   "source": [
    "text = tokenizer.apply_chat_template(\n",
    "    messages,\n",
    "    tokenize=False,\n",
    "    add_generation_prompt=True,\n",
    ")\n",
    "model_inputs = tokenizer([text], return_tensors=\"pt\").to(model.device)\n",
    "\n",
    "# Directly use generate() and tokenizer.decode() to get the output.\n",
    "# Use `max_new_tokens` to control the maximum output length.\n",
    "generated_ids = model.generate(\n",
    "    **model_inputs,\n",
    "    max_new_tokens=512,\n",
    ")"
   ]
  },
  {
   "cell_type": "code",
   "execution_count": 14,
   "id": "c0ceb5f1",
   "metadata": {},
   "outputs": [
    {
     "name": "stdout",
     "output_type": "stream",
     "text": [
      "system\n",
      "You are building an emotion‑prediction component that, given a character name and a brief situational description, must identify the character’s emotional state and the reason for it.\n",
      "When given an input of the form:\n",
      "```\n",
      "Character:  {character}\n",
      "Source: {source}\n",
      "```\n",
      "your job is to:\n",
      "\n",
      "1. **Map the Emotion:**  \n",
      "   - Choose among the 8 primary emotions from Plutchik’s Wheel (joy, trust, fear, surprise, sadness, disgust, anger, anticipation).  \n",
      "   - For each, assign one of: `\"na\"` (not applicable), `\"low\"`, `\"medium\"`, or `\"high\"`.\n",
      "\n",
      "2. **Write a Reason:**  \n",
      "   - Provide a single sentence explaining why the character feels as you’ve labeled.\n",
      "\n",
      "## Map the Emotion: Map the target emotion onto the 8 primary emotions from Plutchik’s Wheel\n",
      "* \"joy\": Joy is a bright, uplifting emotion that reflects happiness, satisfaction, and a sense of well-being. It often arises when our desires are fulfilled or we experience positive moments, and it helps energize both our minds and bodies. Joy can enhance social connections and overall resilience by radiating positivity\n",
      "* \"trust\": Trust is the reassuring feeling of confidence and security in another person or situation. It builds from consistent, reliable interactions and underpins strong, supportive relationships. This emotion fosters cooperation and reduces anxiety by creating a sense of safety\n",
      "* \"fear\": Fear is an instinctive response to perceived threats that activates our fight-or-flight mechanism. It heightens awareness and prepares our body to respond quickly to danger, making it essential for survival. Despite its discomfort, fear is a crucial signal that prompts protective action and risk assessment\n",
      "* \"surprise\": Surprise occurs when we encounter the unexpected, momentarily halting our regular thought process. This emotion can be positive, neutral, or even negative, depending on the context, and often sparks curiosity about what comes next. Its brief nature helps redirect our focus and encourages adaptive responses to new situations\n",
      "* \"sadness\": Sadness is a deep, reflective emotion that often emerges from loss, disappointment, or unmet expectations. It can lead to introspection and a desire for support as we navigate feelings of grief or dejection. Although challenging, sadness can also foster empathy and pave the way for emotional healing and growth\n",
      "* \"disgust\": Disgust is an aversive emotion that signals rejection toward something perceived as harmful, unclean, or morally offensive. It serves as a protective mechanism, prompting us to avoid substances or situations that might be dangerous. This emotion plays a vital role in maintaining both physical health and ethical boundaries\n",
      "* \"anger\": Anger arises when we perceive injustice, frustration, or a threat to our well-being, often urging us to act in response. It can manifest as physical tension and heightened energy, signaling that something in our environment needs to change. When managed effectively, anger can motivate constructive action and help assert personal boundaries\n",
      "* \"anticipation\": Anticipation is the forward-looking emotion characterized by a mix of excitement and apprehension about future events. It motivates preparation and planning while balancing hope with cautious vigilance. This emotion bridges the gap between our present state and the potential for positive outcomes in the future\n",
      "\n",
      "For each emotion, assign one of the following intensities:\n",
      "* \"na\" (not applicable)\n",
      "* \"low\"\n",
      "* \"medium\"\n",
      "* \"high\"\n",
      "\n",
      "## Write a Reason:\n",
      "Provide a one-sentence rationale (\"reason\") explaining why the subject (if xReact) or the other person (if oReact) feels the given emotion(s).\n",
      "ex. “She feels empowered and confident after cutting out social media.”\n",
      "\n",
      "Return in the following JSON format (no extra keys, no explanation outside the JSON)\n",
      "{\n",
      "    \"emotion\": {\n",
      "        \"joy\": \"na\" | \"low\" | \"medium\" | \"high\",\n",
      "        \"trust\": \"na\" | \"low\" | \"medium\" | \"high\",\n",
      "        \"fear\": \"na\" | \"low\" | \"medium\" | \"high\",\n",
      "        \"surprise\": \"na\" | \"low\" | \"medium\" | \"high\",\n",
      "        \"sadness\": \"na\" | \"low\" | \"medium\" | \"high\",\n",
      "        \"disgust\": \"na\" | \"low\" | \"medium\" | \"high\",\n",
      "        \"anger\": \"na\" | \"low\" | \"medium\" | \"high\",\n",
      "        \"anticipation\": \"na\" | \"low\" | \"medium\" | \"high\"\n",
      "    },\n",
      "    \"reason\": \"One sentence explaining why these emotions occur\"\n",
      "}\n",
      "Only return the JSON\n",
      "user\n",
      "Source: Michael realizes his project proposal needs a lot of work before submission. He feels overwhelmed by the amount of revisions required and doubts his ability to finish on time. The pressure makes him feel downtrodden as he contemplates the long tasks ahead.\n",
      "Character: Michael\n",
      "assistant\n",
      "{\"emotion\": {\"joy\": \"na\", \"trust\": \"na\", \"fear\": \"low\", \"surprise\": \"na\", \"sadness\": \"high\", \"disgust\": \"na\", \"anger\": \"low\", \"anticipation\": \"medium\"}, \"reason\": \"Michael feels downtrodden due to the heavy workload and looming pressure to improve his project.\"}\n",
      "assistant\n",
      "```json\n",
      "{\n",
      "    \"emotion\": {\n",
      "        \"joy\": \"na\",\n",
      "        \"trust\": \"na\",\n",
      "        \"fear\": \"low\",\n",
      "        \"surprise\": \"na\",\n",
      "        \"sadness\": \"high\",\n",
      "        \"disgust\": \"na\",\n",
      "        \"anger\": \"low\",\n",
      "        \"anticipation\": \"medium\"\n",
      "    },\n",
      "    \"reason\": \"Michael feels downtrodden due to the heavy workload and looming pressure to improve his project.\"\n",
      "}\n",
      "```\n"
     ]
    }
   ],
   "source": [
    "print(tokenizer.decode(\n",
    "    generated_ids[0],\n",
    "    skip_special_tokens=True,\n",
    "    clean_up_tokenization_spaces=True\n",
    "))"
   ]
  },
  {
   "cell_type": "markdown",
   "id": "e0920325",
   "metadata": {},
   "source": [
    "## 3-2. Outlines"
   ]
  },
  {
   "cell_type": "code",
   "execution_count": 15,
   "id": "23861ed7",
   "metadata": {},
   "outputs": [],
   "source": [
    "outlines_model = models.Transformers(model, tokenizer,)"
   ]
  },
  {
   "cell_type": "code",
   "execution_count": 16,
   "id": "c8ff94b1",
   "metadata": {},
   "outputs": [],
   "source": [
    "generator = outlines.generate.json(outlines_model, EntryResult)"
   ]
  },
  {
   "cell_type": "code",
   "execution_count": 17,
   "id": "38d30b1a",
   "metadata": {},
   "outputs": [
    {
     "name": "stdout",
     "output_type": "stream",
     "text": [
      "original src: PersonX needs a lot of work\n",
      "original tgt: PersonX needs a lot of work\n",
      "('Source: Michael realizes his project proposal needs a lot of work before '\n",
      " 'submission. He feels overwhelmed by the amount of revisions required and '\n",
      " 'doubts his ability to finish on time. The pressure makes him feel '\n",
      " 'downtrodden as he contemplates the long tasks ahead.')\n",
      "Character: Michael\n"
     ]
    }
   ],
   "source": [
    "print(\"original src: {}\".format(row[\"original_src\"]))\n",
    "print(\"original tgt: {}\".format(row[\"original_src\"]))\n",
    "\n",
    "pprint.pprint(\"Source: {}\".format(row[\"source\"]))\n",
    "print(\"Character: {}\".format(row[\"character\"]))"
   ]
  },
  {
   "cell_type": "code",
   "execution_count": 18,
   "id": "c43b74ee",
   "metadata": {},
   "outputs": [
    {
     "name": "stdout",
     "output_type": "stream",
     "text": [
      "ANSWER:\n",
      "joy: na\n",
      "trust: na\n",
      "fear: low\n",
      "surprise: na\n",
      "sadness: high\n",
      "disgust: na\n",
      "anger: low\n",
      "anticipation: medium\n",
      "reason: Michael feels downtrodden due to the heavy workload and looming pressure to improve his project.\n",
      "PREDICTION:\n",
      "EntryResult(emotion=EmotionLabel(joy=<RelationshipStatus.na: 'na'>, trust=<RelationshipStatus.na: 'na'>, fear=<RelationshipStatus.low: 'low'>, surprise=<RelationshipStatus.na: 'na'>, sadness=<RelationshipStatus.high: 'high'>, disgust=<RelationshipStatus.na: 'na'>, anger=<RelationshipStatus.low: 'low'>, anticipation=<RelationshipStatus.medium: 'medium'>), reason='Michael feels downtrodden because of the overwhelming amount of tasks and the doubts about completing the project on time.')\n",
      "{\n",
      "  \"emotion\": {\n",
      "    \"joy\": \"na\",\n",
      "    \"trust\": \"na\",\n",
      "    \"fear\": \"low\",\n",
      "    \"surprise\": \"na\",\n",
      "    \"sadness\": \"high\",\n",
      "    \"disgust\": \"na\",\n",
      "    \"anger\": \"low\",\n",
      "    \"anticipation\": \"medium\"\n",
      "  },\n",
      "  \"reason\": \"Michael feels downtrodden because of the overwhelming amount of tasks and the doubts about completing the project on time.\"\n",
      "}\n"
     ]
    }
   ],
   "source": [
    "prediction = generator(text)\n",
    "\n",
    "print(\"ANSWER:\")\n",
    "emotions = [\"joy\", \"trust\", \"fear\", \"surprise\", \"sadness\", \"disgust\", \"anger\", \"anticipation\"]\n",
    "for emotion in emotions:\n",
    "    print(\"{}: {}\".format(emotion, row[emotion]))\n",
    "print(\"reason: {}\".format(row['reason']))\n",
    "\n",
    "print(\"PREDICTION:\")\n",
    "print(repr(prediction))\n",
    "print(prediction.model_dump_json(indent=2))"
   ]
  }
 ],
 "metadata": {
  "kernelspec": {
   "display_name": "hf",
   "language": "python",
   "name": "python3"
  },
  "language_info": {
   "codemirror_mode": {
    "name": "ipython",
    "version": 3
   },
   "file_extension": ".py",
   "mimetype": "text/x-python",
   "name": "python",
   "nbconvert_exporter": "python",
   "pygments_lexer": "ipython3",
   "version": "3.10.14"
  }
 },
 "nbformat": 4,
 "nbformat_minor": 5
}
