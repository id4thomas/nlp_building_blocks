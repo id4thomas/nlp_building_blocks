{
 "cells": [
  {
   "cell_type": "code",
   "execution_count": 13,
   "id": "ade82b6c",
   "metadata": {},
   "outputs": [],
   "source": [
    "from enum import Enum\n",
    "import json\n",
    "import yaml\n",
    "\n",
    "from openai import BadRequestError, OpenAI, AsyncOpenAI\n",
    "import pandas as pd\n",
    "from pydantic import BaseModel"
   ]
  },
  {
   "cell_type": "markdown",
   "id": "ed761f0f",
   "metadata": {},
   "source": [
    "# Load Model"
   ]
  },
  {
   "cell_type": "code",
   "execution_count": 2,
   "id": "91fa65f2",
   "metadata": {},
   "outputs": [],
   "source": [
    "with open(\"prompts/try1.yaml\", \"r\") as f:\n",
    "    PROMPTS = yaml.safe_load(f)\n",
    "SYSTEM_MESSAGE = PROMPTS[\"system\"]\n",
    "USER_TEMPLATE = PROMPTS[\"user\"]"
   ]
  },
  {
   "cell_type": "code",
   "execution_count": 3,
   "id": "16d4b6a4",
   "metadata": {},
   "outputs": [],
   "source": [
    "class RelationshipStatus(str, Enum):\n",
    "    na = \"na\"\n",
    "    low = \"low\"\n",
    "    medium = \"medium\"\n",
    "    high = \"high\"\n",
    "    \n",
    "class EmotionLabel(BaseModel):\n",
    "    joy: RelationshipStatus\n",
    "    trust: RelationshipStatus\n",
    "    fear: RelationshipStatus\n",
    "    surprise: RelationshipStatus\n",
    "    sadness: RelationshipStatus\n",
    "    disgust: RelationshipStatus\n",
    "    anger: RelationshipStatus\n",
    "    anticipation: RelationshipStatus\n",
    "    \n",
    "    # class Config:\n",
    "    #     extra = Extra.forbid\n",
    "    #     use_enum_values = True\n",
    "        \n",
    "class EntryResult(BaseModel):\n",
    "    emotion: EmotionLabel\n",
    "    reason: str"
   ]
  },
  {
   "cell_type": "code",
   "execution_count": 4,
   "id": "bbb90af3",
   "metadata": {},
   "outputs": [
    {
     "name": "stdout",
     "output_type": "stream",
     "text": [
      "(4452, 16) Index(['uid', 'original_idx', 'original_src', 'original_relation',\n",
      "       'original_tgt', 'source', 'character', 'joy', 'trust', 'fear',\n",
      "       'surprise', 'sadness', 'disgust', 'anger', 'anticipation', 'reason'],\n",
      "      dtype='object')\n"
     ]
    }
   ],
   "source": [
    "llm_model = \"gpt-4.1-mini-2025-04-14\"\n",
    "df = pd.read_csv(f\"data/comet/test_{llm_model}.tsv\", sep=\"\\t\")\n",
    "print(df.shape, df.columns)"
   ]
  },
  {
   "cell_type": "code",
   "execution_count": null,
   "id": "0d2ac1c9",
   "metadata": {},
   "outputs": [],
   "source": [
    "row = df.iloc[1]\n",
    "user_message = USER_TEMPLATE.format(\n",
    "    source=row['source'],\n",
    "    character=row['character']\n",
    ")\n",
    "assistant_message = json.dumps(\n",
    "    {\n",
    "        \"emotion\": {\n",
    "            \"joy\": row['joy'],\n",
    "            \"trust\": row['trust'],\n",
    "            \"fear\": row['fear'],\n",
    "            \"surprise\": row['surprise'],\n",
    "            \"sadness\": row['sadness'],\n",
    "            \"disgust\": row['disgust'],\n",
    "            \"anger\": row['anger'],\n",
    "            \"anticipation\": row['anticipation']\n",
    "        },\n",
    "        \"reason\": row['reason']\n",
    "    }\n",
    ")\n",
    "\n",
    "messages = [\n",
    "    {\"role\": \"system\", \"content\": SYSTEM_MESSAGE},\n",
    "    {\"role\": \"user\", \"content\": user_message},\n",
    "    # {\"role\": \"assistant\", \"content\": assistant_message}\n",
    "]"
   ]
  },
  {
   "cell_type": "markdown",
   "id": "88141c93",
   "metadata": {},
   "source": [
    "# Load Client"
   ]
  },
  {
   "cell_type": "code",
   "execution_count": 14,
   "id": "572f3f3a",
   "metadata": {},
   "outputs": [],
   "source": [
    "client = OpenAI(\n",
    "    base_url=\"http://localhost:8010/v1\",\n",
    "    api_key=\"abc\",\n",
    ")"
   ]
  },
  {
   "cell_type": "code",
   "execution_count": 15,
   "id": "8bb3ed85",
   "metadata": {},
   "outputs": [
    {
     "name": "stdout",
     "output_type": "stream",
     "text": [
      "{\n",
      "    \"emotion\": {\n",
      "        \"joy\": \"na\",\n",
      "        \"trust\": \"na\",\n",
      "        \"fear\": \"low\",\n",
      "        \"surprise\": \"na\",\n",
      "        \"sadness\": \"high\",\n",
      "        \"disgust\": \"na\",\n",
      "        \"anger\": \"low\",\n",
      "        \"anticipation\": \"medium\"\n",
      "    },\n",
      "    \"reason\": \"Michael feels downtrodden due to the heavy workload and looming pressure to improve his project.\"\n",
      "}\n"
     ]
    }
   ],
   "source": [
    "json_schema = EntryResult.model_json_schema()\n",
    "\n",
    "completion = client.chat.completions.create(\n",
    "    model=\"adapter\",\n",
    "    messages=messages,\n",
    "    extra_body={\"guided_json\": json_schema},\n",
    ")\n",
    "print(completion.choices[0].message.content)"
   ]
  },
  {
   "cell_type": "code",
   "execution_count": 16,
   "id": "c4f1ab62",
   "metadata": {},
   "outputs": [
    {
     "name": "stdout",
     "output_type": "stream",
     "text": [
      "ANSWER:\n",
      "joy: na\n",
      "trust: na\n",
      "fear: low\n",
      "surprise: na\n",
      "sadness: high\n",
      "disgust: na\n",
      "anger: low\n",
      "anticipation: medium\n"
     ]
    }
   ],
   "source": [
    "print(\"ANSWER:\")\n",
    "emotions = [\"joy\", \"trust\", \"fear\", \"surprise\", \"sadness\", \"disgust\", \"anger\", \"anticipation\"]\n",
    "for emotion in emotions:\n",
    "    print(\"{}: {}\".format(emotion, row[emotion]))"
   ]
  },
  {
   "cell_type": "code",
   "execution_count": null,
   "id": "512b8560",
   "metadata": {},
   "outputs": [],
   "source": []
  }
 ],
 "metadata": {
  "kernelspec": {
   "display_name": "hf",
   "language": "python",
   "name": "python3"
  },
  "language_info": {
   "codemirror_mode": {
    "name": "ipython",
    "version": 3
   },
   "file_extension": ".py",
   "mimetype": "text/x-python",
   "name": "python",
   "nbconvert_exporter": "python",
   "pygments_lexer": "ipython3",
   "version": "3.10.14"
  }
 },
 "nbformat": 4,
 "nbformat_minor": 5
}
