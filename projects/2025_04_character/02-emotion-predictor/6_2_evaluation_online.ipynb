{
 "cells": [
  {
   "cell_type": "markdown",
   "id": "4b854817",
   "metadata": {},
   "source": [
    "# Online Evaluation\n",
    "* evaluation with endpoint deployed with vllm"
   ]
  },
  {
   "cell_type": "code",
   "execution_count": 31,
   "id": "1572cbb3",
   "metadata": {},
   "outputs": [],
   "source": [
    "import asyncio\n",
    "from enum import Enum\n",
    "import json\n",
    "import os\n",
    "import requests\n",
    "from typing import Optional, Dict, Any, List\n",
    "import yaml\n",
    "\n",
    "from openai import OpenAI, AsyncOpenAI\n",
    "import outlines\n",
    "from outlines import models, generate\n",
    "import pandas as pd\n",
    "import pprint\n",
    "from pydantic import BaseModel\n",
    "from transformers import AutoTokenizer, AutoModelForCausalLM\n",
    "import torch\n",
    "from tqdm.asyncio import tqdm\n",
    "\n",
    "from config import experiment_settings"
   ]
  },
  {
   "cell_type": "code",
   "execution_count": 51,
   "id": "d78c8223",
   "metadata": {},
   "outputs": [],
   "source": [
    "RUN_NAME=\"250421-01-qwen2_5-3b-mini-try2\""
   ]
  },
  {
   "cell_type": "markdown",
   "id": "2a0f878e",
   "metadata": {},
   "source": [
    "# 1. Preparation"
   ]
  },
  {
   "cell_type": "markdown",
   "id": "9b4cc754",
   "metadata": {},
   "source": [
    "## 1-1. OpenAI Client (vllm)"
   ]
  },
  {
   "cell_type": "code",
   "execution_count": 23,
   "id": "3837ffa5",
   "metadata": {},
   "outputs": [
    {
     "data": {
      "text/plain": [
       "{'object': 'list',\n",
       " 'data': [{'id': 'Qwen/Qwen2.5-3B-Instruct',\n",
       "   'object': 'model',\n",
       "   'created': 1745248078,\n",
       "   'owned_by': 'vllm',\n",
       "   'root': 'Qwen/Qwen2.5-3B-Instruct',\n",
       "   'parent': None,\n",
       "   'max_model_len': 32768,\n",
       "   'permission': [{'id': 'modelperm-fd37889cc2254f88a411281af12e8f14',\n",
       "     'object': 'model_permission',\n",
       "     'created': 1745248078,\n",
       "     'allow_create_engine': False,\n",
       "     'allow_sampling': True,\n",
       "     'allow_logprobs': True,\n",
       "     'allow_search_indices': False,\n",
       "     'allow_view': True,\n",
       "     'allow_fine_tuning': False,\n",
       "     'organization': '*',\n",
       "     'group': None,\n",
       "     'is_blocking': False}]},\n",
       "  {'id': 'emotion-predictor',\n",
       "   'object': 'model',\n",
       "   'created': 1745248078,\n",
       "   'owned_by': 'vllm',\n",
       "   'root': '/vllm-workspace/adapter',\n",
       "   'parent': 'Qwen/Qwen2.5-3B-Instruct',\n",
       "   'max_model_len': None,\n",
       "   'permission': [{'id': 'modelperm-64b15fdd2e9348f3bd760513ef0e9a72',\n",
       "     'object': 'model_permission',\n",
       "     'created': 1745248078,\n",
       "     'allow_create_engine': False,\n",
       "     'allow_sampling': True,\n",
       "     'allow_logprobs': True,\n",
       "     'allow_search_indices': False,\n",
       "     'allow_view': True,\n",
       "     'allow_fine_tuning': False,\n",
       "     'organization': '*',\n",
       "     'group': None,\n",
       "     'is_blocking': False}]}]}"
      ]
     },
     "execution_count": 23,
     "metadata": {},
     "output_type": "execute_result"
    }
   ],
   "source": [
    "requests.get(f\"{experiment_settings.vllm_base_url}/v1/models\").json()"
   ]
  },
  {
   "cell_type": "code",
   "execution_count": 24,
   "id": "fd5e0f06",
   "metadata": {},
   "outputs": [],
   "source": [
    "# print(f\"{experiment_settings.vllm_base_url}/v1\")\n",
    "client = AsyncOpenAI(\n",
    "    base_url=f\"{experiment_settings.vllm_base_url}/v1\",\n",
    "    api_key=experiment_settings.vllm_api_key,\n",
    ")"
   ]
  },
  {
   "cell_type": "markdown",
   "id": "4fef4f1d",
   "metadata": {},
   "source": [
    "## 1-2. Prompt"
   ]
  },
  {
   "cell_type": "code",
   "execution_count": 14,
   "id": "33c1a33a",
   "metadata": {},
   "outputs": [],
   "source": [
    "with open(\"prompts/inference.yaml\", \"r\") as f:\n",
    "    PROMPTS = yaml.safe_load(f)\n",
    "SYSTEM_MESSAGE = PROMPTS[\"system\"]\n",
    "USER_TEMPLATE = PROMPTS[\"user\"]"
   ]
  },
  {
   "cell_type": "code",
   "execution_count": 15,
   "id": "72bc1174",
   "metadata": {},
   "outputs": [],
   "source": [
    "# Output Schema\n",
    "class RelationshipStatus(str, Enum):\n",
    "    na = \"na\"\n",
    "    low = \"low\"\n",
    "    medium = \"medium\"\n",
    "    high = \"high\"\n",
    "    \n",
    "class EmotionLabel(BaseModel):\n",
    "    joy: RelationshipStatus\n",
    "    trust: RelationshipStatus\n",
    "    fear: RelationshipStatus\n",
    "    surprise: RelationshipStatus\n",
    "    sadness: RelationshipStatus\n",
    "    disgust: RelationshipStatus\n",
    "    anger: RelationshipStatus\n",
    "    anticipation: RelationshipStatus\n",
    "        \n",
    "class EntryResult(BaseModel):\n",
    "    emotion: EmotionLabel\n",
    "    reason: str"
   ]
  },
  {
   "cell_type": "markdown",
   "id": "d828b497",
   "metadata": {},
   "source": [
    "## 1-3. Test data"
   ]
  },
  {
   "cell_type": "code",
   "execution_count": 34,
   "id": "8aff6ac9",
   "metadata": {},
   "outputs": [
    {
     "name": "stdout",
     "output_type": "stream",
     "text": [
      "(4452, 16) Index(['uid', 'original_idx', 'original_src', 'original_relation',\n",
      "       'original_tgt', 'source', 'character', 'joy', 'trust', 'fear',\n",
      "       'surprise', 'sadness', 'disgust', 'anger', 'anticipation', 'reason'],\n",
      "      dtype='object')\n"
     ]
    }
   ],
   "source": [
    "llm_model = \"gpt-4.1-mini-2025-04-14\"\n",
    "df = pd.read_csv(f\"data/comet/test/test_{llm_model}.tsv\", sep=\"\\t\")\n",
    "# df = df.sample(10)\n",
    "print(df.shape, df.columns)"
   ]
  },
  {
   "cell_type": "code",
   "execution_count": 17,
   "id": "d20d6b16",
   "metadata": {},
   "outputs": [],
   "source": [
    "def make_messages(row):\n",
    "    user_message = USER_TEMPLATE.format(\n",
    "        source=row['source'],\n",
    "        character=row['character']\n",
    "    )\n",
    "    assistant_message = json.dumps(\n",
    "        {\n",
    "            \"emotion\": {\n",
    "                \"joy\": row['joy'],\n",
    "                \"trust\": row['trust'],\n",
    "                \"fear\": row['fear'],\n",
    "                \"surprise\": row['surprise'],\n",
    "                \"sadness\": row['sadness'],\n",
    "                \"disgust\": row['disgust'],\n",
    "                \"anger\": row['anger'],\n",
    "                \"anticipation\": row['anticipation']\n",
    "            },\n",
    "            \"reason\": row['reason']\n",
    "        }\n",
    "    )\n",
    "\n",
    "    messages = [\n",
    "        {\"role\": \"system\", \"content\": SYSTEM_MESSAGE},\n",
    "        {\"role\": \"user\", \"content\": user_message},\n",
    "        {\"role\": \"assistant\", \"content\": assistant_message}\n",
    "    ]\n",
    "    return messages"
   ]
  },
  {
   "cell_type": "code",
   "execution_count": 35,
   "id": "fdd67443",
   "metadata": {},
   "outputs": [],
   "source": [
    "all_messages = [\n",
    "    make_messages(df.iloc[i]) for i in range(df.shape[0])\n",
    "]"
   ]
  },
  {
   "cell_type": "markdown",
   "id": "366205b2",
   "metadata": {},
   "source": [
    "## 1-4. Prediction Function"
   ]
  },
  {
   "cell_type": "code",
   "execution_count": 25,
   "id": "7964c8b3",
   "metadata": {},
   "outputs": [],
   "source": [
    "async def predict(messages):\n",
    "    json_schema = EntryResult.model_json_schema()\n",
    "    completion = await client.chat.completions.create(\n",
    "        model=\"emotion-predictor\",\n",
    "        messages=messages,\n",
    "        extra_body={\"guided_json\": json_schema},\n",
    "    )\n",
    "    result = json.loads(completion.choices[0].message.content)\n",
    "    return result"
   ]
  },
  {
   "cell_type": "code",
   "execution_count": 26,
   "id": "51d3e72c",
   "metadata": {},
   "outputs": [],
   "source": [
    "result = await predict(all_messages[0])"
   ]
  },
  {
   "cell_type": "code",
   "execution_count": 27,
   "id": "e8268791",
   "metadata": {},
   "outputs": [
    {
     "data": {
      "text/plain": [
       "{'emotion': {'joy': 'na',\n",
       "  'trust': 'low',\n",
       "  'fear': 'na',\n",
       "  'surprise': 'na',\n",
       "  'sadness': 'medium',\n",
       "  'disgust': 'na',\n",
       "  'anger': 'na',\n",
       "  'anticipation': 'na'},\n",
       " 'reason': \"Liam feels hurt because Noah's arm twist caused him physical pain.\"}"
      ]
     },
     "execution_count": 27,
     "metadata": {},
     "output_type": "execute_result"
    }
   ],
   "source": [
    "result"
   ]
  },
  {
   "cell_type": "code",
   "execution_count": 32,
   "id": "f5531379",
   "metadata": {},
   "outputs": [
    {
     "name": "stderr",
     "output_type": "stream",
     "text": [
      "100%|██████████| 10/10 [00:01<00:00,  5.10it/s]"
     ]
    },
    {
     "name": "stdout",
     "output_type": "stream",
     "text": [
      "Results:\n",
      "Result 0: {'emotion': {'joy': 'na', 'trust': 'low', 'fear': 'na', 'surprise': 'na', 'sadness': 'medium', 'disgust': 'na', 'anger': 'na', 'anticipation': 'na'}, 'reason': \"Liam feels hurt because Noah's arm twist caused him physical pain.\"}\n",
      "Result 1: {'emotion': {'joy': 'medium', 'trust': 'medium', 'fear': 'na', 'surprise': 'na', 'sadness': 'na', 'disgust': 'na', 'anger': 'na', 'anticipation': 'medium'}, 'reason': 'Rachel feels good because successfully building muscle boosts her confidence and satisfaction.'}\n",
      "Result 2: {'emotion': {'joy': 'low', 'trust': 'medium', 'fear': 'na', 'surprise': 'na', 'sadness': 'na', 'disgust': 'na', 'anger': 'na', 'anticipation': 'na'}, 'reason': 'Liam feels better because Sophia helped clean him and made him comfortable.'}\n",
      "Result 3: {'emotion': {'joy': 'na', 'trust': 'na', 'fear': 'na', 'surprise': 'na', 'sadness': 'na', 'disgust': 'low', 'anger': 'na', 'anticipation': 'na'}, 'reason': 'Jason finds comfort in nail chewing as a coping mechanism despite some mild disgust at the habit.'}\n",
      "Result 4: {'emotion': {'joy': 'medium', 'trust': 'medium', 'fear': 'na', 'surprise': 'low', 'sadness': 'low', 'disgust': 'na', 'anger': 'na', 'anticipation': 'medium'}, 'reason': 'Emma feels forgiven because she has chosen to maintain the friendship and move past previous conflicts.'}\n",
      "Result 5: {'emotion': {'joy': 'na', 'trust': 'na', 'fear': 'medium', 'surprise': 'low', 'sadness': 'high', 'disgust': 'na', 'anger': 'low', 'anticipation': 'na'}, 'reason': 'Liam feels depressed because losing his sight causes profound grief and fear of the unknown.'}\n",
      "Result 6: {'emotion': {'joy': 'na', 'trust': 'na', 'fear': 'na', 'surprise': 'na', 'sadness': 'na', 'disgust': 'na', 'anger': 'low', 'anticipation': 'medium'}, 'reason': 'Olivia feels impatient because the deferment delays what she hopes will be a positive recovery process.'}\n",
      "Result 7: {'emotion': {'joy': 'na', 'trust': 'na', 'fear': 'medium', 'surprise': 'low', 'sadness': 'medium', 'disgust': 'na', 'anger': 'na', 'anticipation': 'na'}, 'reason': 'Noah feels pained because of the physical hurt and discomfort caused by the injury.'}\n",
      "Result 8: {'emotion': {'joy': 'medium', 'trust': 'medium', 'fear': 'na', 'surprise': 'na', 'sadness': 'na', 'disgust': 'na', 'anger': 'na', 'anticipation': 'na'}, 'reason': 'James feels satisfied because he enjoys driving the new car and appreciates the trust.'}\n",
      "Result 9: {'emotion': {'joy': 'high', 'trust': 'na', 'fear': 'na', 'surprise': 'na', 'sadness': 'na', 'disgust': 'na', 'anger': 'na', 'anticipation': 'na'}, 'reason': 'Noah feels joyful and accomplished because bringing resources to others makes him feel he has achieved something meaningful.'}\n"
     ]
    },
    {
     "name": "stderr",
     "output_type": "stream",
     "text": [
      "\n"
     ]
    }
   ],
   "source": [
    "## Test Batch Prediction\n",
    "async def predict_with_sem(semaphore, messages):\n",
    "    async with semaphore:\n",
    "        return await predict(messages)\n",
    "    \n",
    "sem = asyncio.Semaphore(16)\n",
    "tasks = []\n",
    "\n",
    "for messages in all_messages[:32]:\n",
    "    task = asyncio.create_task(predict_with_sem(sem, messages))\n",
    "    tasks.append(task)\n",
    "results = await tqdm.gather(*tasks)\n",
    "print(\"Results:\")\n",
    "for i, result in enumerate(results):\n",
    "    print(f\"Result {i}: {result}\")\n",
    "    # print(f\"Emotion: {result['emotion']}\")\n",
    "    # print(f\"Reason: {result['reason']}\")\n",
    "    # print()"
   ]
  },
  {
   "cell_type": "markdown",
   "id": "4ffe7092",
   "metadata": {},
   "source": [
    "# 2. Predict Test Data"
   ]
  },
  {
   "cell_type": "code",
   "execution_count": 36,
   "id": "9860860f",
   "metadata": {},
   "outputs": [
    {
     "name": "stderr",
     "output_type": "stream",
     "text": [
      "100%|██████████| 4452/4452 [07:05<00:00, 10.45it/s]"
     ]
    },
    {
     "name": "stdout",
     "output_type": "stream",
     "text": [
      "Results: 4452\n"
     ]
    },
    {
     "name": "stderr",
     "output_type": "stream",
     "text": [
      "\n"
     ]
    }
   ],
   "source": [
    "## Test Batch Prediction\n",
    "async def predict_with_sem(semaphore, messages):\n",
    "    async with semaphore:\n",
    "        return await predict(messages)\n",
    "    \n",
    "sem = asyncio.Semaphore(16)\n",
    "tasks = []\n",
    "\n",
    "for messages in all_messages:\n",
    "    task = asyncio.create_task(predict_with_sem(sem, messages))\n",
    "    tasks.append(task)\n",
    "results = await tqdm.gather(*tasks)\n",
    "print(\"Results: {}\".format(len(results)))"
   ]
  },
  {
   "cell_type": "markdown",
   "id": "27769059",
   "metadata": {},
   "source": [
    "# 3. Analyze Predictions"
   ]
  },
  {
   "cell_type": "code",
   "execution_count": 37,
   "id": "05b7cf70",
   "metadata": {},
   "outputs": [],
   "source": [
    "import numpy as np\n",
    "import matplotlib.pyplot as plt\n",
    "from sklearn.metrics import classification_report"
   ]
  },
  {
   "cell_type": "code",
   "execution_count": 38,
   "id": "b0c12c02",
   "metadata": {},
   "outputs": [
    {
     "data": {
      "text/plain": [
       "{'joy': {'na': {'precision': 0.9995002498750625,\n",
       "   'recall': 0.9930486593843099,\n",
       "   'f1-score': 0.9962640099626401,\n",
       "   'support': 2014.0},\n",
       "  'low': {'precision': 0.9763948497854077,\n",
       "   'recall': 0.9978070175438597,\n",
       "   'f1-score': 0.9869848156182213,\n",
       "   'support': 456.0},\n",
       "  'medium': {'precision': 0.9992223950233281,\n",
       "   'recall': 1.0,\n",
       "   'f1-score': 0.999611046285492,\n",
       "   'support': 1285.0},\n",
       "  'high': {'precision': 0.9971387696709585,\n",
       "   'recall': 1.0,\n",
       "   'f1-score': 0.998567335243553,\n",
       "   'support': 697.0},\n",
       "  'accuracy': 0.9966307277628033,\n",
       "  'macro avg': {'precision': 0.9930640660886891,\n",
       "   'recall': 0.9977139192320423,\n",
       "   'f1-score': 0.9953568017774765,\n",
       "   'support': 4452.0},\n",
       "  'weighted avg': {'precision': 0.9966837499587053,\n",
       "   'recall': 0.9966307277628033,\n",
       "   'f1-score': 0.9966402558688859,\n",
       "   'support': 4452.0}},\n",
       " 'trust': {'na': {'precision': 1.0,\n",
       "   'recall': 0.9969028261711188,\n",
       "   'f1-score': 0.9984490112446684,\n",
       "   'support': 2583.0},\n",
       "  'low': {'precision': 0.9938080495356038,\n",
       "   'recall': 1.0,\n",
       "   'f1-score': 0.9968944099378882,\n",
       "   'support': 321.0},\n",
       "  'medium': {'precision': 0.9943977591036415,\n",
       "   'recall': 1.0,\n",
       "   'f1-score': 0.9971910112359551,\n",
       "   'support': 1065.0},\n",
       "  'high': {'precision': 1.0, 'recall': 1.0, 'f1-score': 1.0, 'support': 483.0},\n",
       "  'accuracy': 0.9982030548068284,\n",
       "  'macro avg': {'precision': 0.9970514521598113,\n",
       "   'recall': 0.9992257065427796,\n",
       "   'f1-score': 0.9981336081046279,\n",
       "   'support': 4452.0},\n",
       "  'weighted avg': {'precision': 0.9982133866456216,\n",
       "   'recall': 0.9982030548068284,\n",
       "   'f1-score': 0.9982042517073975,\n",
       "   'support': 4452.0}},\n",
       " 'fear': {'na': {'precision': 1.0,\n",
       "   'recall': 0.9994743758212877,\n",
       "   'f1-score': 0.9997371188222923,\n",
       "   'support': 3805.0},\n",
       "  'low': {'precision': 0.9943181818181818,\n",
       "   'recall': 1.0,\n",
       "   'f1-score': 0.9971509971509972,\n",
       "   'support': 350.0},\n",
       "  'medium': {'precision': 1.0,\n",
       "   'recall': 1.0,\n",
       "   'f1-score': 1.0,\n",
       "   'support': 226.0},\n",
       "  'high': {'precision': 1.0, 'recall': 1.0, 'f1-score': 1.0, 'support': 71.0},\n",
       "  'accuracy': 0.9995507637017071,\n",
       "  'macro avg': {'precision': 0.9985795454545454,\n",
       "   'recall': 0.9998685939553219,\n",
       "   'f1-score': 0.9992220289933224,\n",
       "   'support': 4452.0},\n",
       "  'weighted avg': {'precision': 0.9995533161806748,\n",
       "   'recall': 0.9995507637017071,\n",
       "   'f1-score': 0.9995513445915705,\n",
       "   'support': 4452.0}},\n",
       " 'surprise': {'na': {'precision': 0.998434074538052,\n",
       "   'recall': 1.0,\n",
       "   'f1-score': 0.9992164237580317,\n",
       "   'support': 3188.0},\n",
       "  'low': {'precision': 1.0,\n",
       "   'recall': 0.993849938499385,\n",
       "   'f1-score': 0.9969154842689698,\n",
       "   'support': 813.0},\n",
       "  'medium': {'precision': 1.0,\n",
       "   'recall': 1.0,\n",
       "   'f1-score': 1.0,\n",
       "   'support': 383.0},\n",
       "  'high': {'precision': 1.0, 'recall': 1.0, 'f1-score': 1.0, 'support': 68.0},\n",
       "  'accuracy': 0.9988769092542678,\n",
       "  'macro avg': {'precision': 0.9996085186345129,\n",
       "   'recall': 0.9984624846248462,\n",
       "   'f1-score': 0.9990329770067503,\n",
       "   'support': 4452.0},\n",
       "  'weighted avg': {'precision': 0.9988786679306625,\n",
       "   'recall': 0.9988769092542678,\n",
       "   'f1-score': 0.9988756171723443,\n",
       "   'support': 4452.0}},\n",
       " 'sadness': {'na': {'precision': 1.0,\n",
       "   'recall': 0.9994740993952143,\n",
       "   'f1-score': 0.9997369805365597,\n",
       "   'support': 3803.0},\n",
       "  'low': {'precision': 0.9906542056074766,\n",
       "   'recall': 1.0,\n",
       "   'f1-score': 0.9953051643192489,\n",
       "   'support': 212.0},\n",
       "  'medium': {'precision': 1.0,\n",
       "   'recall': 1.0,\n",
       "   'f1-score': 1.0,\n",
       "   'support': 292.0},\n",
       "  'high': {'precision': 1.0, 'recall': 1.0, 'f1-score': 1.0, 'support': 145.0},\n",
       "  'accuracy': 0.9995507637017071,\n",
       "  'macro avg': {'precision': 0.9976635514018691,\n",
       "   'recall': 0.9998685248488035,\n",
       "   'f1-score': 0.9987605362139521,\n",
       "   'support': 4452.0},\n",
       "  'weighted avg': {'precision': 0.9995549621717846,\n",
       "   'recall': 0.9995507637017071,\n",
       "   'f1-score': 0.9995517591680632,\n",
       "   'support': 4452.0}},\n",
       " 'disgust': {'na': {'precision': 0.9995331465919701,\n",
       "   'recall': 0.999766518795237,\n",
       "   'f1-score': 0.9996498190731878,\n",
       "   'support': 4283.0},\n",
       "  'low': {'precision': 1.0,\n",
       "   'recall': 0.9824561403508771,\n",
       "   'f1-score': 0.9911504424778761,\n",
       "   'support': 114.0},\n",
       "  'medium': {'precision': 1.0,\n",
       "   'recall': 1.0,\n",
       "   'f1-score': 1.0,\n",
       "   'support': 38.0},\n",
       "  'high': {'precision': 0.9444444444444444,\n",
       "   'recall': 1.0,\n",
       "   'f1-score': 0.9714285714285714,\n",
       "   'support': 17.0},\n",
       "  'accuracy': 0.9993261455525606,\n",
       "  'macro avg': {'precision': 0.9859943977591037,\n",
       "   'recall': 0.9955556647865286,\n",
       "   'f1-score': 0.9905572082449089,\n",
       "   'support': 4452.0},\n",
       "  'weighted avg': {'precision': 0.9993387292023729,\n",
       "   'recall': 0.9993261455525606,\n",
       "   'f1-score': 0.9993274059405273,\n",
       "   'support': 4452.0}},\n",
       " 'anger': {'na': {'precision': 1.0,\n",
       "   'recall': 0.999750499001996,\n",
       "   'f1-score': 0.9998752339363693,\n",
       "   'support': 4008.0},\n",
       "  'low': {'precision': 0.9946236559139785,\n",
       "   'recall': 1.0,\n",
       "   'f1-score': 0.9973045822102425,\n",
       "   'support': 185.0},\n",
       "  'medium': {'precision': 1.0,\n",
       "   'recall': 1.0,\n",
       "   'f1-score': 1.0,\n",
       "   'support': 176.0},\n",
       "  'high': {'precision': 1.0, 'recall': 1.0, 'f1-score': 1.0, 'support': 83.0},\n",
       "  'accuracy': 0.9997753818508536,\n",
       "  'macro avg': {'precision': 0.9986559139784946,\n",
       "   'recall': 0.999937624750499,\n",
       "   'f1-score': 0.9992949540366529,\n",
       "   'support': 4452.0},\n",
       "  'weighted avg': {'precision': 0.9997765894753115,\n",
       "   'recall': 0.9997753818508536,\n",
       "   'f1-score': 0.99977567055837,\n",
       "   'support': 4452.0}},\n",
       " 'anticipation': {'na': {'precision': 1.0,\n",
       "   'recall': 1.0,\n",
       "   'f1-score': 1.0,\n",
       "   'support': 2613.0},\n",
       "  'low': {'precision': 1.0, 'recall': 1.0, 'f1-score': 1.0, 'support': 696.0},\n",
       "  'medium': {'precision': 1.0,\n",
       "   'recall': 1.0,\n",
       "   'f1-score': 1.0,\n",
       "   'support': 913.0},\n",
       "  'high': {'precision': 1.0, 'recall': 1.0, 'f1-score': 1.0, 'support': 230.0},\n",
       "  'accuracy': 1.0,\n",
       "  'macro avg': {'precision': 1.0,\n",
       "   'recall': 1.0,\n",
       "   'f1-score': 1.0,\n",
       "   'support': 4452.0},\n",
       "  'weighted avg': {'precision': 1.0,\n",
       "   'recall': 1.0,\n",
       "   'f1-score': 1.0,\n",
       "   'support': 4452.0}}}"
      ]
     },
     "execution_count": 38,
     "metadata": {},
     "output_type": "execute_result"
    }
   ],
   "source": [
    "labels = [\"na\", \"low\", \"medium\", \"high\"]\n",
    "emotion_cols = [\"joy\", \"trust\", \"fear\", \"surprise\", \"sadness\", \"disgust\", \"anger\", \"anticipation\"]\n",
    "\n",
    "reports = {}\n",
    "for col in emotion_cols:\n",
    "    y_true = df[col].tolist()\n",
    "    # y_pred = [getattr(pred.emotion, col).value for pred in predictions]\n",
    "    y_pred = [pred[\"emotion\"][col] for pred in results]\n",
    "    reports[col] = classification_report(\n",
    "        y_true, \n",
    "        y_pred,\n",
    "        labels=labels,\n",
    "        output_dict=True,\n",
    "        zero_division=0\n",
    "    )\n",
    "reports"
   ]
  },
  {
   "cell_type": "code",
   "execution_count": 48,
   "id": "5837e75a",
   "metadata": {},
   "outputs": [
    {
     "data": {
      "text/plain": [
       "{'na': [0.9962640099626401,\n",
       "  0.9984490112446684,\n",
       "  0.9997371188222923,\n",
       "  0.9992164237580317,\n",
       "  0.9997369805365597,\n",
       "  0.9996498190731878,\n",
       "  0.9998752339363693,\n",
       "  1.0],\n",
       " 'low': [0.9869848156182213,\n",
       "  0.9968944099378882,\n",
       "  0.9971509971509972,\n",
       "  0.9969154842689698,\n",
       "  0.9953051643192489,\n",
       "  0.9911504424778761,\n",
       "  0.9973045822102425,\n",
       "  1.0],\n",
       " 'medium': [0.999611046285492,\n",
       "  0.9971910112359551,\n",
       "  1.0,\n",
       "  1.0,\n",
       "  1.0,\n",
       "  1.0,\n",
       "  1.0,\n",
       "  1.0],\n",
       " 'high': [0.998567335243553, 1.0, 1.0, 1.0, 1.0, 0.9714285714285714, 1.0, 1.0]}"
      ]
     },
     "execution_count": 48,
     "metadata": {},
     "output_type": "execute_result"
    }
   ],
   "source": [
    "categories = emotion_cols\n",
    "labels = ['na', 'low', 'medium', 'high']\n",
    "\n",
    "# f1_values = {\n",
    "#     category: {\n",
    "#         label: reports[category][label]['f1-score']\n",
    "#         for label in labels\n",
    "#     }\n",
    "#     for category in categories\n",
    "# }\n",
    "f1_values = {\n",
    "    label: [reports[cat][label]['f1-score'] for cat in categories]\n",
    "    for label in labels\n",
    "}\n",
    "f1_values"
   ]
  },
  {
   "cell_type": "code",
   "execution_count": 52,
   "id": "fb769648",
   "metadata": {},
   "outputs": [
    {
     "name": "stdout",
     "output_type": "stream",
     "text": [
      "na\n",
      "[0.9962640099626401, 0.9984490112446684, 0.9997371188222923, 0.9992164237580317, 0.9997369805365597, 0.9996498190731878, 0.9998752339363693, 1.0]\n",
      "low\n",
      "[0.9869848156182213, 0.9968944099378882, 0.9971509971509972, 0.9969154842689698, 0.9953051643192489, 0.9911504424778761, 0.9973045822102425, 1.0]\n",
      "medium\n",
      "[0.999611046285492, 0.9971910112359551, 1.0, 1.0, 1.0, 1.0, 1.0, 1.0]\n",
      "high\n",
      "[0.998567335243553, 1.0, 1.0, 1.0, 1.0, 0.9714285714285714, 1.0, 1.0]\n"
     ]
    },
    {
     "data": {
      "image/png": "[encoded data removed]",
      "text/plain": [
       "<Figure size 1200x600 with 1 Axes>"
      ]
     },
     "metadata": {},
     "output_type": "display_data"
    }
   ],
   "source": [
    "x = np.arange(len(categories))\n",
    "width = 0.2\n",
    "\n",
    "fig, ax = plt.subplots(figsize=(12, 6))\n",
    "\n",
    "# Plot grouped bars\n",
    "for i, label in enumerate(labels):\n",
    "    print(label)\n",
    "    print(f1_values[label])\n",
    "    ax.bar(x + i * width, f1_values[label], width, label=label)\n",
    "\n",
    "# Set chart details\n",
    "ax.set_xticks(x + width * (len(labels) - 1) / 2)\n",
    "ax.set_xticklabels(categories, rotation=45, ha='right')\n",
    "ax.set_ylabel('F1-score')\n",
    "ax.set_xlabel('Emotion Category')\n",
    "ax.set_title('F1-scores by Emotion Category and Label')\n",
    "# ax.legend(title='Label')\n",
    "ax.legend(title='Label', bbox_to_anchor=(1.02, 1), loc='upper left', borderaxespad=0)\n",
    "plt.tight_layout()\n",
    "plt.savefig(f\"figs/{RUN_NAME}-f1-scores.png\")\n",
    "plt.show()\n"
   ]
  },
  {
   "cell_type": "code",
   "execution_count": 39,
   "id": "e2377116",
   "metadata": {},
   "outputs": [],
   "source": [
    "# labels = [\"na\", \"low\", \"medium\", \"high\"]\n",
    "# for column in [\"joy\", \"trust\", \"fear\", \"surprise\", \"sadness\", \"disgust\", \"anger\", \"anticipation\"]:\n",
    "#     y_true = df[column].tolist()\n",
    "#     print(df[column].unique())\n",
    "#     y_pred = [getattr(pred.emotion, column).value for pred in predictions]\n",
    "#     print(f\"Classification report for {column}:\")\n",
    "#     print(classification_report(y_true, y_pred, labels=labels))"
   ]
  },
  {
   "cell_type": "code",
   "execution_count": null,
   "id": "fb74dbc6",
   "metadata": {},
   "outputs": [],
   "source": []
  }
 ],
 "metadata": {
  "kernelspec": {
   "display_name": "llm",
   "language": "python",
   "name": "llm"
  },
  "language_info": {
   "codemirror_mode": {
    "name": "ipython",
    "version": 3
   },
   "file_extension": ".py",
   "mimetype": "text/x-python",
   "name": "python",
   "nbconvert_exporter": "python",
   "pygments_lexer": "ipython3",
   "version": "3.10.14"
  }
 },
 "nbformat": 4,
 "nbformat_minor": 5
}
