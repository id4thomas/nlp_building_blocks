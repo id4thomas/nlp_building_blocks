{
 "cells": [
  {
   "cell_type": "code",
   "execution_count": 1,
   "id": "9099408b",
   "metadata": {},
   "outputs": [],
   "source": [
    "import json\n",
    "import pandas as pd\n",
    "from transformers import AutoTokenizer, AutoModelForCausalLM"
   ]
  },
  {
   "cell_type": "code",
   "execution_count": 2,
   "id": "0c7a2c74",
   "metadata": {},
   "outputs": [],
   "source": [
    "SYSTEM_MESSAGE = '''You are building an emotion‑prediction component that, given a character name and a brief situational description, must identify the character’s emotional state and the reason for it.\n",
    "When given an input of the form:\n",
    "```\n",
    "Character:  {character}\n",
    "Source: {source}\n",
    "```\n",
    "your job is to:\n",
    "\n",
    "1. **Map the Emotion:**  \n",
    "   - Choose among the 8 primary emotions from Plutchik’s Wheel (joy, trust, fear, surprise, sadness, disgust, anger, anticipation).  \n",
    "   - For each, assign one of: `\"na\"` (not applicable), `\"low\"`, `\"medium\"`, or `\"high\"`.\n",
    "\n",
    "2. **Write a Reason:**  \n",
    "   - Provide a single sentence explaining why the character feels as you’ve labeled.\n",
    "\n",
    "## Map the Emotion: Map the target emotion onto the 8 primary emotions from Plutchik’s Wheel\n",
    "* Joy\n",
    "* Trust\n",
    "* Fear\n",
    "* Surprise\n",
    "* Sadness\n",
    "* Disgust\n",
    "* Anger\n",
    "* Anticipation\n",
    "\n",
    "For each emotion, assign one of the following intensities:\n",
    "* \"na\" (not applicable)\n",
    "* \"low\"\n",
    "* \"medium\"\n",
    "* \"high\"\n",
    "\n",
    "Interpret the target emotion (e.g., “authoritative”) in terms of Plutchik’s emotions. For example, you might decide:\n",
    "* trust: high\n",
    "* joy: low\n",
    "* anticipation: medium\n",
    "\n",
    "## Write a Reason:\n",
    "Provide a one-sentence rationale (\"reason\") explaining why the subject (if xReact) or the other person (if oReact) feels the given emotion(s).\n",
    "ex. “She feels empowered and confident after cutting out social media.”\n",
    "\n",
    "\n",
    "Return in the following JSON format (no extra keys, no explanation outside the JSON)\n",
    "{\n",
    "    \"emotion\": {\n",
    "        \"joy\": \"na\" | \"low\" | \"medium\" | \"high\",\n",
    "        \"trust\": \"na\" | \"low\" | \"medium\" | \"high\",\n",
    "        \"fear\": \"na\" | \"low\" | \"medium\" | \"high\",\n",
    "        \"surprise\": \"na\" | \"low\" | \"medium\" | \"high\",\n",
    "        \"sadness\": \"na\" | \"low\" | \"medium\" | \"high\",\n",
    "        \"disgust\": \"na\" | \"low\" | \"medium\" | \"high\",\n",
    "        \"anger\": \"na\" | \"low\" | \"medium\" | \"high\",\n",
    "        \"anticipation\": \"na\" | \"low\" | \"medium\" | \"high\"\n",
    "    },\n",
    "    \"reason\": \"One sentence explaining why these emotions occur\"\n",
    "}\n",
    "Only return the JSON'''\n",
    "\n",
    "USER_TEMPLATE = '''Source: {source}\n",
    "Character: {character}'''"
   ]
  },
  {
   "cell_type": "code",
   "execution_count": 3,
   "id": "7e6e7d62",
   "metadata": {},
   "outputs": [
    {
     "name": "stderr",
     "output_type": "stream",
     "text": [
      "Sliding Window Attention is enabled but not implemented for `sdpa`; unexpected results may be encountered.\n"
     ]
    },
    {
     "data": {
      "application/vnd.jupyter.widget-view+json": {
       "model_id": "02afed580ec840bba9da820ed7a2a752",
       "version_major": 2,
       "version_minor": 0
      },
      "text/plain": [
       "Loading checkpoint shards:   0%|          | 0/2 [00:00<?, ?it/s]"
      ]
     },
     "metadata": {},
     "output_type": "display_data"
    },
    {
     "name": "stdout",
     "output_type": "stream",
     "text": [
      "MODEL LOADED\n"
     ]
    }
   ],
   "source": [
    "run_name = \"250418-01-qwen2_5-3b-try1\"\n",
    "model_dir = f\"weights/{run_name}/best\"\n",
    "\n",
    "tokenizer = AutoTokenizer.from_pretrained(model_dir)\n",
    "model = AutoModelForCausalLM.from_pretrained(model_dir, device_map=\"auto\", torch_dtype=\"auto\")\n",
    "model.eval()\n",
    "model.to(\"cuda:0\")\n",
    "print(\"MODEL LOADED\")"
   ]
  },
  {
   "cell_type": "code",
   "execution_count": 4,
   "id": "6b5c1032",
   "metadata": {},
   "outputs": [
    {
     "name": "stdout",
     "output_type": "stream",
     "text": [
      "(1484, 16) Index(['uid', 'original_idx', 'original_src', 'original_relation',\n",
      "       'original_tgt', 'source', 'character', 'joy', 'trust', 'fear',\n",
      "       'surprise', 'sadness', 'disgust', 'anger', 'anticipation', 'reason'],\n",
      "      dtype='object')\n"
     ]
    }
   ],
   "source": [
    "df = pd.read_csv(\"data/comet/test_gpt-4.1-nano.csv\", sep=\"\\t\")\n",
    "print(df.shape, df.columns)"
   ]
  },
  {
   "cell_type": "markdown",
   "id": "fa0b8746",
   "metadata": {},
   "source": [
    "# 1. Transformers Generate"
   ]
  },
  {
   "cell_type": "code",
   "execution_count": 5,
   "id": "de3f658c",
   "metadata": {},
   "outputs": [],
   "source": [
    "row = df.iloc[0]\n",
    "user_message = USER_TEMPLATE.format(\n",
    "    source=row['source'],\n",
    "    character=row['character']\n",
    ")\n",
    "assistant_message = json.dumps(\n",
    "    {\n",
    "        \"emotion\": {\n",
    "            \"joy\": row['joy'],\n",
    "            \"trust\": row['trust'],\n",
    "            \"fear\": row['fear'],\n",
    "            \"surprise\": row['surprise'],\n",
    "            \"sadness\": row['sadness'],\n",
    "            \"disgust\": row['disgust'],\n",
    "            \"anger\": row['anger'],\n",
    "            \"anticipation\": row['anticipation']\n",
    "        },\n",
    "        \"reason\": row['reason']\n",
    "    }\n",
    ")\n",
    "\n",
    "messages = [\n",
    "    {\"role\": \"system\", \"content\": SYSTEM_MESSAGE},\n",
    "    {\"role\": \"user\", \"content\": user_message},\n",
    "    {\"role\": \"assistant\", \"content\": assistant_message}\n",
    "]"
   ]
  },
  {
   "cell_type": "code",
   "execution_count": 6,
   "id": "76f1e8fd",
   "metadata": {},
   "outputs": [],
   "source": [
    "text = tokenizer.apply_chat_template(\n",
    "    messages,\n",
    "    tokenize=False,\n",
    "    add_generation_prompt=True,\n",
    ")\n",
    "model_inputs = tokenizer([text], return_tensors=\"pt\").to(model.device)\n",
    "\n",
    "# Directly use generate() and tokenizer.decode() to get the output.\n",
    "# Use `max_new_tokens` to control the maximum output length.\n",
    "generated_ids = model.generate(\n",
    "    **model_inputs,\n",
    "    max_new_tokens=512,\n",
    ")"
   ]
  },
  {
   "cell_type": "code",
   "execution_count": 7,
   "id": "4b72b53f",
   "metadata": {},
   "outputs": [
    {
     "name": "stdout",
     "output_type": "stream",
     "text": [
      "system\n",
      "You are building an emotion‑prediction component that, given a character name and a brief situational description, must identify the character’s emotional state and the reason for it.\n",
      "When given an input of the form:\n",
      "```\n",
      "Character:  {character}\n",
      "Source: {source}\n",
      "```\n",
      "your job is to:\n",
      "\n",
      "1. **Map the Emotion:**  \n",
      "   - Choose among the 8 primary emotions from Plutchik’s Wheel (joy, trust, fear, surprise, sadness, disgust, anger, anticipation).  \n",
      "   - For each, assign one of: `\"na\"` (not applicable), `\"low\"`, `\"medium\"`, or `\"high\"`.\n",
      "\n",
      "2. **Write a Reason:**  \n",
      "   - Provide a single sentence explaining why the character feels as you’ve labeled.\n",
      "\n",
      "## Map the Emotion: Map the target emotion onto the 8 primary emotions from Plutchik’s Wheel\n",
      "* Joy\n",
      "* Trust\n",
      "* Fear\n",
      "* Surprise\n",
      "* Sadness\n",
      "* Disgust\n",
      "* Anger\n",
      "* Anticipation\n",
      "\n",
      "For each emotion, assign one of the following intensities:\n",
      "* \"na\" (not applicable)\n",
      "* \"low\"\n",
      "* \"medium\"\n",
      "* \"high\"\n",
      "\n",
      "Interpret the target emotion (e.g., “authoritative”) in terms of Plutchik’s emotions. For example, you might decide:\n",
      "* trust: high\n",
      "* joy: low\n",
      "* anticipation: medium\n",
      "\n",
      "## Write a Reason:\n",
      "Provide a one-sentence rationale (\"reason\") explaining why the subject (if xReact) or the other person (if oReact) feels the given emotion(s).\n",
      "ex. “She feels empowered and confident after cutting out social media.”\n",
      "\n",
      "\n",
      "Return in the following JSON format (no extra keys, no explanation outside the JSON)\n",
      "{\n",
      "    \"emotion\": {\n",
      "        \"joy\": \"na\" | \"low\" | \"medium\" | \"high\",\n",
      "        \"trust\": \"na\" | \"low\" | \"medium\" | \"high\",\n",
      "        \"fear\": \"na\" | \"low\" | \"medium\" | \"high\",\n",
      "        \"surprise\": \"na\" | \"low\" | \"medium\" | \"high\",\n",
      "        \"sadness\": \"na\" | \"low\" | \"medium\" | \"high\",\n",
      "        \"disgust\": \"na\" | \"low\" | \"medium\" | \"high\",\n",
      "        \"anger\": \"na\" | \"low\" | \"medium\" | \"high\",\n",
      "        \"anticipation\": \"na\" | \"low\" | \"medium\" | \"high\"\n",
      "    },\n",
      "    \"reason\": \"One sentence explaining why these emotions occur\"\n",
      "}\n",
      "Only return the JSON\n",
      "user\n",
      "Source: Maria was at a friendly gathering where she noticed her friend gently wrap her arm around her shoulders. Feeling the warm gesture, she smiled and felt more connected with those around her. The atmosphere was comforting and joyful.\n",
      "Character: Maria\n",
      "assistant\n",
      "{\"emotion\": {\"joy\": \"medium\", \"trust\": \"high\", \"fear\": \"na\", \"surprise\": \"na\", \"sadness\": \"na\", \"disgust\": \"na\", \"anger\": \"na\", \"anticipation\": \"low\"}, \"reason\": \"Maria feels happy and satisfied because her friend showed affection, strengthening their bond.\"}\n",
      "assistant\n",
      "```json\n",
      "{\n",
      "    \"emotion\": {\n",
      "        \"joy\": \"medium\",\n",
      "        \"trust\": \"high\",\n",
      "        \"fear\": \"na\",\n",
      "        \"surprise\": \"na\",\n",
      "        \"sadness\": \"na\",\n",
      "        \"disgust\": \"na\",\n",
      "        \"anger\": \"na\",\n",
      "        \"anticipation\": \"low\"\n",
      "    },\n",
      "    \"reason\": \"Maria feels happy and satisfied because her friend showed affection, strengthening their bond.\"\n",
      "}\n",
      "```\n"
     ]
    }
   ],
   "source": [
    "print(tokenizer.decode(\n",
    "    generated_ids[0],\n",
    "    skip_special_tokens=True,\n",
    "    clean_up_tokenization_spaces=True\n",
    "))"
   ]
  },
  {
   "cell_type": "markdown",
   "id": "f22ec5a7",
   "metadata": {},
   "source": [
    "# 2. Outlines Generate"
   ]
  },
  {
   "cell_type": "code",
   "execution_count": 8,
   "id": "abc544a3",
   "metadata": {},
   "outputs": [],
   "source": [
    "import outlines\n",
    "from outlines import models, generate\n",
    "\n",
    "from pydantic import BaseModel\n",
    "from typing import Optional, Dict, Any, List\n",
    "from enum import Enum"
   ]
  },
  {
   "cell_type": "code",
   "execution_count": 9,
   "id": "c696a265",
   "metadata": {},
   "outputs": [],
   "source": [
    "class RelationshipStatus(str, Enum):\n",
    "    na = \"na\"\n",
    "    low = \"low\"\n",
    "    medium = \"medium\"\n",
    "    high = \"high\"\n",
    "    \n",
    "class EmotionLabel(BaseModel):\n",
    "    joy: RelationshipStatus\n",
    "    trust: RelationshipStatus\n",
    "    fear: RelationshipStatus\n",
    "    surprise: RelationshipStatus\n",
    "    sadness: RelationshipStatus\n",
    "    disgust: RelationshipStatus\n",
    "    anger: RelationshipStatus\n",
    "    anticipation: RelationshipStatus\n",
    "    \n",
    "    # class Config:\n",
    "    #     extra = Extra.forbid\n",
    "    #     use_enum_values = True\n",
    "        \n",
    "class EntryResult(BaseModel):\n",
    "    emotion: EmotionLabel\n",
    "    reason: str"
   ]
  },
  {
   "cell_type": "code",
   "execution_count": 11,
   "id": "8170d438",
   "metadata": {},
   "outputs": [],
   "source": [
    "outlines_model = models.Transformers(model, tokenizer,)"
   ]
  },
  {
   "cell_type": "code",
   "execution_count": 12,
   "id": "b5b1f392",
   "metadata": {},
   "outputs": [],
   "source": [
    "generator = outlines.generate.json(outlines_model, EntryResult)"
   ]
  },
  {
   "cell_type": "code",
   "execution_count": 13,
   "id": "3574ecc4",
   "metadata": {},
   "outputs": [
    {
     "name": "stdout",
     "output_type": "stream",
     "text": [
      "EntryResult(emotion=EmotionLabel(joy=<RelationshipStatus.medium: 'medium'>, trust=<RelationshipStatus.high: 'high'>, fear=<RelationshipStatus.na: 'na'>, surprise=<RelationshipStatus.na: 'na'>, sadness=<RelationshipStatus.na: 'na'>, disgust=<RelationshipStatus.na: 'na'>, anger=<RelationshipStatus.na: 'na'>, anticipation=<RelationshipStatus.low: 'low'>), reason='Maria feels happy and satisfied because her friend showed affection, strengthening their bond.')\n"
     ]
    }
   ],
   "source": [
    "prediction = generator(text)\n",
    "\n",
    "print(repr(prediction))"
   ]
  },
  {
   "cell_type": "code",
   "execution_count": null,
   "id": "27a477c3",
   "metadata": {},
   "outputs": [],
   "source": []
  }
 ],
 "metadata": {
  "kernelspec": {
   "display_name": "hf",
   "language": "python",
   "name": "python3"
  },
  "language_info": {
   "codemirror_mode": {
    "name": "ipython",
    "version": 3
   },
   "file_extension": ".py",
   "mimetype": "text/x-python",
   "name": "python",
   "nbconvert_exporter": "python",
   "pygments_lexer": "ipython3",
   "version": "3.10.14"
  }
 },
 "nbformat": 4,
 "nbformat_minor": 5
}
