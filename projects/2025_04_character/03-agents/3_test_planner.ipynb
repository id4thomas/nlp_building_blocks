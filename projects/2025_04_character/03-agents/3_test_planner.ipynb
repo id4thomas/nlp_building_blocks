{
 "cells": [
  {
   "cell_type": "code",
   "execution_count": 1,
   "id": "ff8f0ea3",
   "metadata": {},
   "outputs": [],
   "source": [
    "import json\n",
    "import random\n",
    "from typing import Any, List\n",
    "import yaml\n",
    "\n",
    "from jinja2 import Template, StrictUndefined\n",
    "\n",
    "from openai import AsyncOpenAI\n",
    "from pydantic import BaseModel, Extra, Field\n",
    "\n",
    "from pydantic_ai import Agent, RunContext\n",
    "from pydantic_ai.models.openai import OpenAIModel, OpenAIResponsesModelSettings\n",
    "from pydantic_ai.providers.openai import OpenAIProvider\n",
    "\n",
    "from src.models import (\n",
    "    CharacterSpecification,\n",
    "    CharacterState,\n",
    "    Character,\n",
    "    EmotionalState,\n",
    "    SceneBackground,\n",
    "    create_dynamic_enum\n",
    ")\n",
    "from src.action_predictor import (\n",
    "    CharcterActionPredictor\n",
    ")\n",
    "from src.character_store import CharacterStore\n",
    "\n",
    "from config import settings"
   ]
  },
  {
   "cell_type": "code",
   "execution_count": 2,
   "id": "b7f269e9",
   "metadata": {},
   "outputs": [
    {
     "name": "stdout",
     "output_type": "stream",
     "text": [
      "gpt-4.1-nano\n"
     ]
    }
   ],
   "source": [
    "# Initialize OpenAI provider\n",
    "print(settings.llm_model)\n",
    "\n",
    "# Pydantic Model\n",
    "provider = OpenAIProvider(\n",
    "    base_url=settings.llm_base_url,\n",
    "    api_key=settings.llm_api_key\n",
    ")\n",
    "model = OpenAIModel(\n",
    "    model_name=settings.llm_model,\n",
    "    provider=provider\n",
    ")\n",
    "\n",
    "# OpenAI Client\n",
    "client = AsyncOpenAI(\n",
    "    base_url=settings.llm_base_url,\n",
    "    api_key=settings.llm_api_key\n",
    ")"
   ]
  },
  {
   "cell_type": "markdown",
   "id": "b9894297",
   "metadata": {},
   "source": [
    "# Load Scene & Characters"
   ]
  },
  {
   "cell_type": "code",
   "execution_count": 3,
   "id": "0eddb870",
   "metadata": {},
   "outputs": [],
   "source": [
    "# Sample Scene\n",
    "# utilized trope: \"Defrosting Ice Queen\", \"SavvyGuyEnergeticGirl\"\n",
    "\n",
    "scene_outline=\"Inside the bustling grandeur of the metropolitan fashion gala, Zephyr Orion, a 28-year-old jocular astronaut with a penchant for playful storytelling, encounters Vivienne LaRoux. Vivienne, also 28, exudes sophistication and an assertive demeanor as a renowned style influencer. Initially, she greets Zephyr's lighthearted banter with icy indifference, her mean streak surfacing sporadically. However, Zephyr's infectious humor gradually softens her edges, revealing a subtly receptive side. Their verbal dance, rich with lively exchanges, challenges both to reconsider their outlooks, Zephyr embracing Vivienne's world of high fashion while she discovers a brighter perspective in his social magnetism.\"\n",
    "\n",
    "scene_background = {\n",
    "    \"location\": \"The Metropolitan Fashion Gala\",\n",
    "    \"setting\": \"An opulent event hall adorned with sparkling chandeliers and cutting-edge fashion displays.\",\n",
    "    \"explanation\": \"In the midst of a vibrant and luxurious fashion gala, Zephyr Orion and Vivienne LaRoux engage in a compelling social interaction. Zephyr, with his distinctive brand of humor and affable nature, engages Vivienne in a conversation that is both disarming and endearing. Their exchange, a medley of banter and keen observations, reflects not only their mutual intrigue but also hints at a budding dynamic that bridges their contrasting worlds of space and style. As the evening unfolds, both characters experience subtle shifts in their perspectives, opening their minds to each other's unique lives, and suggesting the start of a meaningful connection.\"\n",
    "}\n",
    "scene_background = SceneBackground(**scene_background)"
   ]
  },
  {
   "cell_type": "code",
   "execution_count": 4,
   "id": "05c64955",
   "metadata": {},
   "outputs": [
    {
     "name": "stdout",
     "output_type": "stream",
     "text": [
      "dict_keys(['Friendly', 'Ask', 'Romantic', 'Mean', 'Neutral'])\n"
     ]
    }
   ],
   "source": [
    "character_uids = [\n",
    "    \"35f0c56f-263d-42df-846c-e1833d8ca0ab\",\n",
    "    \"00d66087-9b3b-46da-bd74-bf45cbe81d3c\"\n",
    "]\n",
    "\n",
    "character_store = CharacterStore(\n",
    "    character_dir=\"assets/characters\",\n",
    "    uids=character_uids\n",
    ")\n",
    "\n",
    "with open(\"assets/sims_interactions.json\", \"r\") as f:\n",
    "    all_actions = json.load(f)\n",
    "n = 10\n",
    "actions = {k: random.sample(v, min(len(v), n)) for k,v in all_actions.items()}\n",
    "print(actions.keys())"
   ]
  },
  {
   "cell_type": "code",
   "execution_count": 5,
   "id": "003beb0c",
   "metadata": {},
   "outputs": [],
   "source": [
    "# get scene characters\n",
    "scene_characters = {\n",
    "    uid: character_store.get(uid).spec\n",
    "    for uid in character_uids\n",
    "}"
   ]
  },
  {
   "cell_type": "code",
   "execution_count": 6,
   "id": "ace725e3",
   "metadata": {},
   "outputs": [
    {
     "data": {
      "text/plain": [
       "{'35f0c56f-263d-42df-846c-e1833d8ca0ab': CharacterSpecification(name='Zephyr Orion', gender='male', age=28, dialogue_tone='playful, jovial, and engaging, with a witty humor and warmth that makes everyone feel at ease. Known for storytelling with captivating tales of space adventures.', career='Astronaut', personality_traits=[PersonalityTrait(trait='Goofball', description='Enjoys joking and making others laugh, bringing a playful spirit to social situations.'), PersonalityTrait(trait='Materialistic', description='Loves acquiring new possessions and often leans towards bragging about them.'), PersonalityTrait(trait='Outgoing', description='Flourishes in social situations and enjoys being around people.'), PersonalityTrait(trait='Gloomy', description='Grows sad when left alone for too long.'), PersonalityTrait(trait='Ambitious', description='Continuously strives to reach new milestones in his career.')], hobbies=['Fitness', 'Cooking', 'Painting'], living_conditions=['Resides in a modern city apartment filled with space memorabilia and art supplies.', 'Leads a healthy lifestyle, working out regularly, and maintaining balanced meals.']),\n",
       " '00d66087-9b3b-46da-bd74-bf45cbe81d3c': CharacterSpecification(name='Vivienne LaRoux', gender='female', age=28, dialogue_tone=\"Vivienne's speech is assertive and confident, laced with stylish, high-end fashion terminologies. Her voice is smooth and melodic, suggesting sophistication. However, it can become sharp when she is being dismissive or unkind.\", career='Style Influencer', personality_traits=[PersonalityTrait(trait='Genius', description='Intellectually gifted, Vivienne is viewed as a genius and thrives on intellectual pursuits.'), PersonalityTrait(trait='Noncommittal', description='Vivienne is known for frequently changing her mind on a whim.'), PersonalityTrait(trait='Mean', description='Despite her sophisticated demeanor, Vivienne possesses a mean streak and a dismissive nature that has created some contention among her peers.')], hobbies=['Acting', 'Singing'], living_conditions=['Vivienne resides in a luxurious apartment in a bustling metropolitan area, characterized by a hectic yet glamorous lifestyle.', 'Her work-life balance is skewed heavily towards her career, with frequent travel to fashion shows and events.', \"Vivienne's daily routine includes reviewing fashion trends, attending high-end boutiques, and engaging with her audience on social media.\"])}"
      ]
     },
     "execution_count": 6,
     "metadata": {},
     "output_type": "execute_result"
    }
   ],
   "source": [
    "scene_characters"
   ]
  },
  {
   "cell_type": "markdown",
   "id": "1048c28e",
   "metadata": {},
   "source": [
    "# Initialize Agent"
   ]
  },
  {
   "cell_type": "code",
   "execution_count": 7,
   "id": "c529a16c",
   "metadata": {},
   "outputs": [],
   "source": [
    "# Initialize Action Predictor\n",
    "with open('prompts/action_predictor.yaml', 'r') as file:\n",
    "    action_predictor_prompt = yaml.load(file, Loader=yaml.FullLoader)\n",
    "\n",
    "predictor = CharcterActionPredictor(\n",
    "    client=client,\n",
    "    prompt=action_predictor_prompt,\n",
    "    actions=actions,\n",
    "    character_store=character_store,\n",
    "    model=\"gpt-4.1-nano\"\n",
    ")"
   ]
  },
  {
   "cell_type": "code",
   "execution_count": 8,
   "id": "73fded7a",
   "metadata": {},
   "outputs": [],
   "source": [
    "class Action(BaseModel):\n",
    "    character_uid: str\n",
    "    action: str\n",
    "    targets: List[str]\n",
    "    \n",
    "    class Config:\n",
    "        extra = \"forbid\"\n",
    "        use_enum_values = True\n",
    "    \n",
    "with open('prompts/planning_agent.yaml', 'r') as file:\n",
    "    agent_prompt = yaml.load(file, Loader=yaml.FullLoader)\n",
    "    \n",
    "\n",
    "    \n",
    "agent = Agent(\n",
    "    model=model,\n",
    "    name=\"planning\",\n",
    "    output_type=Action,\n",
    "    system_prompt = agent_prompt['system']\n",
    ")"
   ]
  },
  {
   "cell_type": "code",
   "execution_count": 9,
   "id": "9f12f238",
   "metadata": {},
   "outputs": [],
   "source": [
    "# register tool\n",
    "\n",
    "@agent.tool\n",
    "async def predict_action(\n",
    "    ctx: RunContext[None],\n",
    "    scene_context: str,\n",
    "    character_uid: str,\n",
    "    related_character_uids: List[str]\n",
    ") -> Action:\n",
    "    \n",
    "    predicted_action = await predictor.forward(\n",
    "        scene_context=scene_context,\n",
    "        uid=\"35f0c56f-263d-42df-846c-e1833d8ca0ab\",\n",
    "        related_uids=related_character_uids\n",
    "    )\n",
    "    action = Action(\n",
    "        character_uid=character_uid,\n",
    "        action=predicted_action['action'],\n",
    "        targets=predicted_action['targets']\n",
    "    )\n",
    "    return action"
   ]
  },
  {
   "cell_type": "code",
   "execution_count": 10,
   "id": "9fc93c3a",
   "metadata": {},
   "outputs": [],
   "source": [
    "# render user message\n",
    "user_template  = Template(\n",
    "    agent_prompt['user'],\n",
    "    undefined=StrictUndefined\n",
    ")\n",
    "\n",
    "contents = {\n",
    "    \"scene_outline\": scene_outline,\n",
    "    \"scene_background\": scene_background,\n",
    "    \"characters\": scene_characters,\n",
    "    \"history\": []\n",
    "}\n",
    "user_message = user_template.render(**contents)"
   ]
  },
  {
   "cell_type": "code",
   "execution_count": 11,
   "id": "05b76164",
   "metadata": {},
   "outputs": [
    {
     "name": "stdout",
     "output_type": "stream",
     "text": [
      "Only predict one action step\n",
      "[Scene Description]\n",
      "* Outline: Inside the bustling grandeur of the metropolitan fashion gala, Zephyr Orion, a 28-year-old jocular astronaut with a penchant for playful storytelling, encounters Vivienne LaRoux. Vivienne, also 28, exudes sophistication and an assertive demeanor as a renowned style influencer. Initially, she greets Zephyr's lighthearted banter with icy indifference, her mean streak surfacing sporadically. However, Zephyr's infectious humor gradually softens her edges, revealing a subtly receptive side. Their verbal dance, rich with lively exchanges, challenges both to reconsider their outlooks, Zephyr embracing Vivienne's world of high fashion while she discovers a brighter perspective in his social magnetism.\n",
      "* Background:\n",
      "  * location: The Metropolitan Fashion Gala\n",
      "  * setting: An opulent event hall adorned with sparkling chandeliers and cutting-edge fashion displays.\n",
      "  * explanation: In the midst of a vibrant and luxurious fashion gala, Zephyr Orion and Vivienne LaRoux engage in a compelling social interaction. Zephyr, with his distinctive brand of humor and affable nature, engages Vivienne in a conversation that is both disarming and endearing. Their exchange, a medley of banter and keen observations, reflects not only their mutual intrigue but also hints at a budding dynamic that bridges their contrasting worlds of space and style. As the evening unfolds, both characters experience subtle shifts in their perspectives, opening their minds to each other's unique lives, and suggesting the start of a meaningful connection.\n",
      "\n",
      "[Characters]\n",
      "Character (uid: \"35f0c56f-263d-42df-846c-e1833d8ca0ab\"\")\n",
      "* specification: name='Zephyr Orion' gender='male' age=28 dialogue_tone='playful, jovial, and engaging, with a witty humor and warmth that makes everyone feel at ease. Known for storytelling with captivating tales of space adventures.' career='Astronaut' personality_traits=[PersonalityTrait(trait='Goofball', description='Enjoys joking and making others laugh, bringing a playful spirit to social situations.'), PersonalityTrait(trait='Materialistic', description='Loves acquiring new possessions and often leans towards bragging about them.'), PersonalityTrait(trait='Outgoing', description='Flourishes in social situations and enjoys being around people.'), PersonalityTrait(trait='Gloomy', description='Grows sad when left alone for too long.'), PersonalityTrait(trait='Ambitious', description='Continuously strives to reach new milestones in his career.')] hobbies=['Fitness', 'Cooking', 'Painting'] living_conditions=['Resides in a modern city apartment filled with space memorabilia and art supplies.', 'Leads a healthy lifestyle, working out regularly, and maintaining balanced meals.']\n",
      "Character (uid: \"00d66087-9b3b-46da-bd74-bf45cbe81d3c\"\")\n",
      "* specification: name='Vivienne LaRoux' gender='female' age=28 dialogue_tone=\"Vivienne's speech is assertive and confident, laced with stylish, high-end fashion terminologies. Her voice is smooth and melodic, suggesting sophistication. However, it can become sharp when she is being dismissive or unkind.\" career='Style Influencer' personality_traits=[PersonalityTrait(trait='Genius', description='Intellectually gifted, Vivienne is viewed as a genius and thrives on intellectual pursuits.'), PersonalityTrait(trait='Noncommittal', description='Vivienne is known for frequently changing her mind on a whim.'), PersonalityTrait(trait='Mean', description='Despite her sophisticated demeanor, Vivienne possesses a mean streak and a dismissive nature that has created some contention among her peers.')] hobbies=['Acting', 'Singing'] living_conditions=['Vivienne resides in a luxurious apartment in a bustling metropolitan area, characterized by a hectic yet glamorous lifestyle.', 'Her work-life balance is skewed heavily towards her career, with frequent travel to fashion shows and events.', \"Vivienne's daily routine includes reviewing fashion trends, attending high-end boutiques, and engaging with her audience on social media.\"]\n",
      "\n",
      "\n",
      "[History]\n",
      "\n"
     ]
    }
   ],
   "source": [
    "print(user_message)"
   ]
  },
  {
   "cell_type": "code",
   "execution_count": 12,
   "id": "7895ed54",
   "metadata": {},
   "outputs": [
    {
     "name": "stdout",
     "output_type": "stream",
     "text": [
      "Information:\n",
      "[Character]\n",
      "description:\n",
      "{\"name\":\"Zephyr Orion\",\"gender\":\"male\",\"age\":28,\"dialogue_tone\":\"playful, jovial, and engaging, with a witty humor and warmth that makes everyone feel at ease. Known for storytelling with captivating tales of space adventures.\",\"career\":\"Astronaut\",\"personality_traits\":[{\"trait\":\"Goofball\",\"description\":\"Enjoys joking and making others laugh, bringing a playful spirit to social situations.\"},{\"trait\":\"Materialistic\",\"description\":\"Loves acquiring new possessions and often leans towards bragging about them.\"},{\"trait\":\"Outgoing\",\"description\":\"Flourishes in social situations and enjoys being around people.\"},{\"trait\":\"Gloomy\",\"description\":\"Grows sad when left alone for too long.\"},{\"trait\":\"Ambitious\",\"description\":\"Continuously strives to reach new milestones in his career.\"}],\"hobbies\":[\"Fitness\",\"Cooking\",\"Painting\"],\"living_conditions\":[\"Resides in a modern city apartment filled with space memorabilia and art supplies.\",\"Leads a healthy lifestyle, working out regularly, and maintaining balanced meals.\"]}\n",
      "\n",
      "emotion:\n",
      "{\"joy\":\"na\",\"trust\":\"na\",\"fear\":\"na\",\"surprise\":\"na\",\"sadness\":\"na\",\"disgust\":\"na\",\"anger\":\"na\",\"anticipation\":\"na\"}\n",
      "\n",
      "social_relations\n",
      "* {\"character_uid\":\"00d66087-9b3b-46da-bd74-bf45cbe81d3c\",\"emotion\":{\"joy\":\"na\",\"trust\":\"na\",\"fear\":\"na\",\"surprise\":\"na\",\"sadness\":\"na\",\"disgust\":\"na\",\"anger\":\"na\",\"anticipation\":\"na\"},\"knowledge\":[]}\n",
      "\n",
      "\n",
      "[Scene Context]\n",
      "In the midst of the vibrant and luxurious fashion gala, Zephyr Orion and Vivienne LaRoux engage in a lively exchange of banter and keen observations. Zephyr, known for his playful storytelling and infectious humor, has been gradually winning over Vivienne's icy exterior, revealing a subtly receptive side. Their interaction is rich with mutual intrigue, challenging both to reconsider their outlooks, as Zephyr's humor and social magnetism begin to open Vivienne's perspective to his world of space adventures and lighthearted antics.\n"
     ]
    }
   ],
   "source": [
    "result = await agent.run(user_message)"
   ]
  },
  {
   "cell_type": "code",
   "execution_count": 13,
   "id": "36857797",
   "metadata": {},
   "outputs": [
    {
     "data": {
      "text/plain": [
       "AgentRunResult(output=Action(character_uid='35f0c56f-263d-42df-846c-e1833d8ca0ab', action=\"Zephyr chuckles softly and gestures with a playful wink, leaning in slightly as he shares a humorous space anecdote. 'You know, in the orbit of my last mission, even the stars were jealous of my shine.'\", targets=['00d66087-9b3b-46da-bd74-bf45cbe81d3c']))"
      ]
     },
     "execution_count": 13,
     "metadata": {},
     "output_type": "execute_result"
    }
   ],
   "source": [
    "result"
   ]
  },
  {
   "cell_type": "code",
   "execution_count": 14,
   "id": "c9fd3713",
   "metadata": {},
   "outputs": [
    {
     "name": "stdout",
     "output_type": "stream",
     "text": [
      "{\n",
      "  \"character_uid\": \"35f0c56f-263d-42df-846c-e1833d8ca0ab\",\n",
      "  \"action\": \"Zephyr chuckles softly and gestures with a playful wink, leaning in slightly as he shares a humorous space anecdote. 'You know, in the orbit of my last mission, even the stars were jealous of my shine.'\",\n",
      "  \"targets\": [\n",
      "    \"00d66087-9b3b-46da-bd74-bf45cbe81d3c\"\n",
      "  ]\n",
      "}\n"
     ]
    }
   ],
   "source": [
    "print(result.output.model_dump_json(indent=2))"
   ]
  },
  {
   "cell_type": "code",
   "execution_count": null,
   "id": "e6c01c07",
   "metadata": {},
   "outputs": [],
   "source": []
  }
 ],
 "metadata": {
  "kernelspec": {
   "display_name": "llm",
   "language": "python",
   "name": "llm"
  },
  "language_info": {
   "codemirror_mode": {
    "name": "ipython",
    "version": 3
   },
   "file_extension": ".py",
   "mimetype": "text/x-python",
   "name": "python",
   "nbconvert_exporter": "python",
   "pygments_lexer": "ipython3",
   "version": "3.10.14"
  }
 },
 "nbformat": 4,
 "nbformat_minor": 5
}
