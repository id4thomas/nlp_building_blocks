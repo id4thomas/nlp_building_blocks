{
 "cells": [
  {
   "cell_type": "markdown",
   "id": "ece0382b",
   "metadata": {},
   "source": [
    "# Planning Agent\n",
    "## Context\n",
    "* Scene Outline (trope) - `str`\n",
    "* Scene Setting - `Dict[str, str]`\n",
    "    * location, setting, exploration\n",
    "* Character Descriptions - `List[CharacterSpecification]`\n",
    "* Action History - `List[Dict[str, str]]`\n",
    "\n",
    "Example:\n",
    "```\n",
    "# Setting:\n",
    "class SceneSetting(BaseModel):\n",
    "    location: str\n",
    "    setting: str\n",
    "    explanation: str\n",
    "\n",
    "# Character\n",
    "class CharacterSpecification(BaseModel):\n",
    "    name: str\n",
    "    gender: DEFINED_ASPECTS[\"Gender\"]\n",
    "    age: int\n",
    "    dialogue_tone: str\n",
    "    career: DEFINED_ASPECTS[\"Career\"]\n",
    "    personality_traits: List[PersonalityTrait]\n",
    "    hobbies: List[DEFINED_ASPECTS[\"Skill\"]]\n",
    "    living_conditions: List[str]\n",
    "    social_relationships: List[SocialRelationship]\n",
    "    \n",
    "# History\n",
    "class CharacterAction(BaseModel):\n",
    "    character: str\n",
    "    action: str \n",
    "```\n",
    "## tool\n",
    "* Action Predictor: `predict_action(character_uid: str, context: str)`\n"
   ]
  },
  {
   "cell_type": "code",
   "execution_count": 1,
   "id": "b34ec55e",
   "metadata": {},
   "outputs": [],
   "source": [
    "import itertools\n",
    "import json\n",
    "import os\n",
    "import random\n",
    "from typing import Any, List\n",
    "import yaml\n",
    "\n",
    "from jinja2 import Template, StrictUndefined\n",
    "from jinja2.exceptions import TemplateError\n",
    "\n",
    "from openai import AsyncOpenAI\n",
    "from pydantic import BaseModel, Extra, Field\n",
    "\n",
    "# pydantic-ai\n",
    "from pydantic_ai import Agent, RunContext\n",
    "from pydantic_ai.models.openai import OpenAIModel, OpenAIResponsesModelSettings\n",
    "from pydantic_ai.providers.openai import OpenAIProvider\n",
    "\n",
    "import tiktoken\n",
    "\n",
    "from src.models import (\n",
    "    CharacterSpecification,\n",
    "    CharacterState,\n",
    "    Character,\n",
    "    EmotionalState,\n",
    "    create_dynamic_enum\n",
    ")\n",
    "\n",
    "from config import settings"
   ]
  },
  {
   "cell_type": "code",
   "execution_count": 2,
   "id": "31f35d2c",
   "metadata": {},
   "outputs": [
    {
     "data": {
      "text/plain": [
       "2"
      ]
     },
     "execution_count": 2,
     "metadata": {},
     "output_type": "execute_result"
    }
   ],
   "source": [
    "tokenizer = tiktoken.encoding_for_model(\"gpt-4o-mini\")\n",
    "def calculate_tokens(x):\n",
    "    return len(tokenizer.encode(x))\n",
    "calculate_tokens(\"hello world\")"
   ]
  },
  {
   "cell_type": "markdown",
   "id": "39e514b9",
   "metadata": {},
   "source": [
    "# 1. Prompt Test"
   ]
  },
  {
   "cell_type": "markdown",
   "id": "2e261a3f",
   "metadata": {},
   "source": [
    "## 1-1. Load Character Spec"
   ]
  },
  {
   "cell_type": "code",
   "execution_count": 3,
   "id": "cb837daa",
   "metadata": {},
   "outputs": [
    {
     "name": "stdout",
     "output_type": "stream",
     "text": [
      "{\n",
      "    \"uid\": \"2f2462c1-bdef-4089-b206-c47decd841f3\",\n",
      "    \"stage\": 0,\n",
      "    \"scene\": {\n",
      "        \"revised_trope\": \"Inside the bustling grandeur of the metropolitan fashion gala, Zephyr Orion, a 28-year-old jocular astronaut with a penchant for playful storytelling, encounters Vivienne LaRoux. Vivienne, also 28, exudes sophistication and an assertive demeanor as a renowned style influencer. Initially, she greets Zephyr's lighthearted banter with icy indifference, her mean streak surfacing sporadically. However, Zephyr's infectious humor gradually softens her edges, revealing a subtly receptive side. Their verbal dance, rich with lively exchanges, challenges both to reconsider their outlooks, Zephyr embracing Vivienne's world of high fashion while she discovers a brighter perspective in his social magnetism.\",\n",
      "        \"utilized_reference_tropes\": [\n",
      "            \"Defrosting Ice Queen\",\n",
      "            \"SavvyGuyEnergeticGirl\"\n",
      "        ],\n",
      "        \"scene\": {\n",
      "            \"location\": \"The Metropolitan Fashion Gala\",\n",
      "            \"setting\": \"An opulent event hall adorned with sparkling chandeliers and cutting-edge fashion displays.\",\n",
      "            \"explanation\": \"In the midst of a vibrant and luxurious fashion gala, Zephyr Orion and Vivienne LaRoux engage in a compelling social interaction. Zephyr, with his distinctive brand of humor and affable nature, engages Vivienne in a conversation that is both disarming and endearing. Their exchange, a medley of banter and keen observations, reflects not only their mutual intrigue but also hints at a budding dynamic that bridges their contrasting worlds of space and style. As the evening unfolds, both characters experience subtle shifts in their perspectives, opening their minds to each other's unique lives, and suggesting the start of a meaningful connection.\"\n",
      "        }\n",
      "    },\n",
      "    \"character_states\": {\n",
      "        \"character1_uid\": \"35f0c56f-263d-42df-846c-e1833d8ca0ab\",\n",
      "        \"character1\": {\n",
      "            \"sentiment\": \"neutral\",\n",
      "            \"emotion\": \"anticipation\",\n",
      "            \"social_relations\": [\n",
      "                {\n",
      "                    \"character_uid\": \"00d66087-9b3b-46da-bd74-bf45cbe81d3c\",\n",
      "                    \"emotion\": \"trust\",\n",
      "                    \"knowledge\": [\n",
      "                        \"Vivienne LaRoux is a renowned style influencer with an assertive demeanor.\",\n",
      "                        \"Vivienne initially greets Zephyr with icy indifference during their interaction at the gala.\",\n",
      "                        \"Despite Vivienne's dismissive nature, Zephyr sees potential for a deeper connection.\"\n",
      "                    ]\n",
      "                }\n",
      "            ]\n",
      "        },\n",
      "        \"character2_uid\": \"00d66087-9b3b-46da-bd74-bf45cbe81d3c\",\n",
      "        \"character2\": {\n",
      "            \"sentiment\": \"neutral\",\n",
      "            \"emotion\": \"surprise\",\n",
      "            \"social_relations\": [\n",
      "                {\n",
      "                    \"character_uid\": \"35f0c56f-263d-42df-846c-e1833d8ca0ab\",\n",
      "                    \"emotion\": \"surprise\",\n",
      "                    \"knowledge\": [\n",
      "                        \"Zephyr is a 28-year-old jocular astronaut known for his storytelling and humor.\",\n",
      "                        \"Zephyr engages Vivienne with playful banter despite her initial indifference.\",\n",
      "                        \"Vivienne is intrigued by Zephyr's ability to connect socially at the gala.\"\n",
      "                    ]\n",
      "                }\n",
      "            ]\n",
      "        }\n",
      "    }\n",
      "}\n"
     ]
    }
   ],
   "source": [
    "## Scene Data\n",
    "scene_uid = \"2f2462c1-bdef-4089-b206-c47decd841f3\"\n",
    "\n",
    "with open(f\"assets/simschat/scene/{scene_uid}.json\", \"r\") as f:\n",
    "    scene_dict = json.load(f)\n",
    "\n",
    "print(json.dumps(scene_dict,indent=4))\n",
    "\n",
    "## Character Data\n",
    "character_uids = [\n",
    "    scene_dict[\"character_states\"][\"character1_uid\"],\n",
    "    scene_dict[\"character_states\"][\"character2_uid\"],\n",
    "]\n",
    "\n",
    "character_specs = {}\n",
    "for character_uid in character_uids:\n",
    "    with open(f\"assets/simschat/characters/{character_uid}.json\", \"r\") as f:\n",
    "        character_spec_dict = json.load(f)\n",
    "    character_spec = CharacterSpecification(**character_spec_dict)\n",
    "    character_specs[character_uid] = character_spec"
   ]
  },
  {
   "cell_type": "code",
   "execution_count": 4,
   "id": "ecf7268b",
   "metadata": {},
   "outputs": [
    {
     "name": "stdout",
     "output_type": "stream",
     "text": [
      "{\n",
      "  \"name\": \"Vivienne LaRoux\",\n",
      "  \"gender\": \"female\",\n",
      "  \"age\": 28,\n",
      "  \"dialogue_tone\": \"Vivienne's speech is assertive and confident, laced with stylish, high-end fashion terminologies. Her voice is smooth and melodic, suggesting sophistication. However, it can become sharp when she is being dismissive or unkind.\",\n",
      "  \"career\": \"Style Influencer\",\n",
      "  \"personality_traits\": [\n",
      "    {\n",
      "      \"trait\": \"Genius\",\n",
      "      \"description\": \"Intellectually gifted, Vivienne is viewed as a genius and thrives on intellectual pursuits.\"\n",
      "    },\n",
      "    {\n",
      "      \"trait\": \"Noncommittal\",\n",
      "      \"description\": \"Vivienne is known for frequently changing her mind on a whim.\"\n",
      "    },\n",
      "    {\n",
      "      \"trait\": \"Mean\",\n",
      "      \"description\": \"Despite her sophisticated demeanor, Vivienne possesses a mean streak and a dismissive nature that has created some contention among her peers.\"\n",
      "    }\n",
      "  ],\n",
      "  \"hobbies\": [\n",
      "    \"Acting\",\n",
      "    \"Singing\"\n",
      "  ],\n",
      "  \"living_conditions\": [\n",
      "    \"Vivienne resides in a luxurious apartment in a bustling metropolitan area, characterized by a hectic yet glamorous lifestyle.\",\n",
      "    \"Her work-life balance is skewed heavily towards her career, with frequent travel to fashion shows and events.\",\n",
      "    \"Vivienne's daily routine includes reviewing fashion trends, attending high-end boutiques, and engaging with her audience on social media.\"\n",
      "  ],\n",
      "  \"social_relationships\": [\n",
      "    {\n",
      "      \"target\": \"Peers in the fashion industry\",\n",
      "      \"status\": \"neutral\",\n",
      "      \"description\": \"While well-regarded for her style, Vivienne's mean streak and dismissive nature occasionally lead to tense relationships with her peers.\"\n",
      "    },\n",
      "    {\n",
      "      \"target\": \"Animals\",\n",
      "      \"status\": \"negative\",\n",
      "      \"description\": \"Vivienne is not particularly fond of showing affection to animals, leading to a distant relationship.\"\n",
      "    }\n",
      "  ]\n",
      "}\n"
     ]
    }
   ],
   "source": [
    "print(character_spec.model_dump_json(indent=2))"
   ]
  },
  {
   "cell_type": "markdown",
   "id": "1142117d",
   "metadata": {},
   "source": [
    "## 1-2. Load Template"
   ]
  },
  {
   "cell_type": "code",
   "execution_count": 5,
   "id": "b4268541",
   "metadata": {},
   "outputs": [],
   "source": [
    "with open('prompts/planning_agent.yaml', 'r') as file:\n",
    "    action_predictor_prompt = yaml.load(file, Loader=yaml.FullLoader)\n",
    "\n",
    "system_message = action_predictor_prompt['system']\n",
    "user_template = Template(\n",
    "    action_predictor_prompt['user'],\n",
    "    undefined=StrictUndefined\n",
    ")"
   ]
  },
  {
   "cell_type": "code",
   "execution_count": 6,
   "id": "1758615b",
   "metadata": {},
   "outputs": [],
   "source": [
    "user_contents = {\n",
    "    \"scene_outline\": scene_dict[\"scene\"][\"revised_trope\"],\n",
    "    \"scene_background\": scene_dict[\"scene\"][\"scene\"],\n",
    "    \"characters\": {k: v.model_dump_json() for k,v in character_specs.items()},\n",
    "    \"history\": []\n",
    "}\n",
    "\n",
    "user_message = user_template.render(**user_contents)"
   ]
  },
  {
   "cell_type": "code",
   "execution_count": 7,
   "id": "31f26002",
   "metadata": {},
   "outputs": [
    {
     "name": "stdout",
     "output_type": "stream",
     "text": [
      "969\n",
      "[Scene Description]\n",
      "* Outline: Inside the bustling grandeur of the metropolitan fashion gala, Zephyr Orion, a 28-year-old jocular astronaut with a penchant for playful storytelling, encounters Vivienne LaRoux. Vivienne, also 28, exudes sophistication and an assertive demeanor as a renowned style influencer. Initially, she greets Zephyr's lighthearted banter with icy indifference, her mean streak surfacing sporadically. However, Zephyr's infectious humor gradually softens her edges, revealing a subtly receptive side. Their verbal dance, rich with lively exchanges, challenges both to reconsider their outlooks, Zephyr embracing Vivienne's world of high fashion while she discovers a brighter perspective in his social magnetism.\n",
      "* Background:\n",
      "  * location: The Metropolitan Fashion Gala\n",
      "  * setting: An opulent event hall adorned with sparkling chandeliers and cutting-edge fashion displays.\n",
      "  * explanation: In the midst of a vibrant and luxurious fashion gala, Zephyr Orion and Vivienne LaRoux engage in a compelling social interaction. Zephyr, with his distinctive brand of humor and affable nature, engages Vivienne in a conversation that is both disarming and endearing. Their exchange, a medley of banter and keen observations, reflects not only their mutual intrigue but also hints at a budding dynamic that bridges their contrasting worlds of space and style. As the evening unfolds, both characters experience subtle shifts in their perspectives, opening their minds to each other's unique lives, and suggesting the start of a meaningful connection.\n",
      "\n",
      "[Characters]\n",
      "Character (uid: \"35f0c56f-263d-42df-846c-e1833d8ca0ab\"\")\n",
      "* specification: {\"name\":\"Zephyr Orion\",\"gender\":\"male\",\"age\":28,\"dialogue_tone\":\"playful, jovial, and engaging, with a witty humor and warmth that makes everyone feel at ease. Known for storytelling with captivating tales of space adventures.\",\"career\":\"Astronaut\",\"personality_traits\":[{\"trait\":\"Goofball\",\"description\":\"Enjoys joking and making others laugh, bringing a playful spirit to social situations.\"},{\"trait\":\"Materialistic\",\"description\":\"Loves acquiring new possessions and often leans towards bragging about them.\"},{\"trait\":\"Outgoing\",\"description\":\"Flourishes in social situations and enjoys being around people.\"},{\"trait\":\"Gloomy\",\"description\":\"Grows sad when left alone for too long.\"},{\"trait\":\"Ambitious\",\"description\":\"Continuously strives to reach new milestones in his career.\"}],\"hobbies\":[\"Fitness\",\"Cooking\",\"Painting\"],\"living_conditions\":[\"Resides in a modern city apartment filled with space memorabilia and art supplies.\",\"Leads a healthy lifestyle, working out regularly, and maintaining balanced meals.\"],\"social_relationships\":[{\"target\":\"Close-knit group of friends\",\"status\":\"positive\",\"description\":\"Share a strong bond through a mutual passion for space exploration.\"},{\"target\":\"Community and professional field\",\"status\":\"positive\",\"description\":\"Well-respected and liked within community and professional circles.\"}]}\n",
      "Character (uid: \"00d66087-9b3b-46da-bd74-bf45cbe81d3c\"\")\n",
      "* specification: {\"name\":\"Vivienne LaRoux\",\"gender\":\"female\",\"age\":28,\"dialogue_tone\":\"Vivienne's speech is assertive and confident, laced with stylish, high-end fashion terminologies. Her voice is smooth and melodic, suggesting sophistication. However, it can become sharp when she is being dismissive or unkind.\",\"career\":\"Style Influencer\",\"personality_traits\":[{\"trait\":\"Genius\",\"description\":\"Intellectually gifted, Vivienne is viewed as a genius and thrives on intellectual pursuits.\"},{\"trait\":\"Noncommittal\",\"description\":\"Vivienne is known for frequently changing her mind on a whim.\"},{\"trait\":\"Mean\",\"description\":\"Despite her sophisticated demeanor, Vivienne possesses a mean streak and a dismissive nature that has created some contention among her peers.\"}],\"hobbies\":[\"Acting\",\"Singing\"],\"living_conditions\":[\"Vivienne resides in a luxurious apartment in a bustling metropolitan area, characterized by a hectic yet glamorous lifestyle.\",\"Her work-life balance is skewed heavily towards her career, with frequent travel to fashion shows and events.\",\"Vivienne's daily routine includes reviewing fashion trends, attending high-end boutiques, and engaging with her audience on social media.\"],\"social_relationships\":[{\"target\":\"Peers in the fashion industry\",\"status\":\"neutral\",\"description\":\"While well-regarded for her style, Vivienne's mean streak and dismissive nature occasionally lead to tense relationships with her peers.\"},{\"target\":\"Animals\",\"status\":\"negative\",\"description\":\"Vivienne is not particularly fond of showing affection to animals, leading to a distant relationship.\"}]}\n",
      "\n",
      "\n",
      "[History]\n",
      "\n"
     ]
    }
   ],
   "source": [
    "print(calculate_tokens(user_message))\n",
    "print(user_message)"
   ]
  },
  {
   "cell_type": "markdown",
   "id": "2da5b5e0",
   "metadata": {},
   "source": [
    "# 2. Initialize Agent"
   ]
  },
  {
   "cell_type": "code",
   "execution_count": 8,
   "id": "7f3ec30a",
   "metadata": {},
   "outputs": [
    {
     "name": "stdout",
     "output_type": "stream",
     "text": [
      "gpt-4.1-nano\n"
     ]
    }
   ],
   "source": [
    "# Initialize OpenAI provider\n",
    "print(settings.llm_model)\n",
    "\n",
    "# Pydantic Model\n",
    "provider = OpenAIProvider(\n",
    "    base_url=settings.llm_base_url,\n",
    "    api_key=settings.llm_api_key\n",
    ")\n",
    "model = OpenAIModel(\n",
    "    model_name=settings.llm_model,\n",
    "    provider=provider\n",
    ")\n",
    "\n",
    "# OpenAI Client\n",
    "aopenai_client = AsyncOpenAI(\n",
    "    base_url=settings.llm_base_url,\n",
    "    api_key=settings.llm_api_key\n",
    ")"
   ]
  },
  {
   "cell_type": "code",
   "execution_count": 9,
   "id": "86dc7118",
   "metadata": {},
   "outputs": [],
   "source": [
    "class CharacterAction(BaseModel):\n",
    "    character_uid: str\n",
    "    action: str\n",
    "    targets: List[str]\n",
    "    \n",
    "agent = Agent(\n",
    "    model=model,\n",
    "    name=\"planning\",\n",
    "    output_type=CharacterAction,\n",
    "    system_prompt = system_message\n",
    ")"
   ]
  },
  {
   "cell_type": "code",
   "execution_count": 10,
   "id": "7cd2b057",
   "metadata": {},
   "outputs": [],
   "source": [
    "@agent.tool\n",
    "async def predict_action(\n",
    "    ctx: RunContext[None],\n",
    "    character_uid: str,\n",
    "    scene_context: str\n",
    "):\n",
    "    \"\"\"Dummy predict_action function\"\"\"\n",
    "    print(\"CHARACTER_UID:\", character_uid)\n",
    "    print(\"SCENE_CONTEXT:\", scene_context)\n",
    "    \n",
    "    return {\n",
    "        \"action\": \"Walk towards Vivienne\",\n",
    "        \"targets\": [\n",
    "            \"00d66087-9b3b-46da-bd74-bf45cbe81d3c\"\n",
    "        ]\n",
    "    }\n"
   ]
  },
  {
   "cell_type": "code",
   "execution_count": 11,
   "id": "c132c17c",
   "metadata": {},
   "outputs": [
    {
     "name": "stdout",
     "output_type": "stream",
     "text": [
      "CHARACTER_UID: 35f0c56f-263d-42df-846c-e1833d8ca0ab\n",
      "SCENE_CONTEXT: Inside the opulent fashion gala with sparkling chandeliers and modern fashion displays, Zephyr Orion is engaging in a lively, playful conversation with Vivienne LaRoux. Zephyr's humor and storytelling are gradually softening her initially icy demeanor, revealing her subtly receptive side. Zephyr enjoys connecting with diverse social circles, blending his love of space and humor with fashion and high society.\n"
     ]
    }
   ],
   "source": [
    "result = await agent.run(user_message)"
   ]
  },
  {
   "cell_type": "code",
   "execution_count": 12,
   "id": "3f45856f",
   "metadata": {},
   "outputs": [
    {
     "data": {
      "text/plain": [
       "AgentRunResult(output=CharacterAction(character_uid='35f0c56f-263d-42df-846c-e1833d8ca0ab', action='Walk towards Vivienne', targets=['00d66087-9b3b-46da-bd74-bf45cbe81d3c']))"
      ]
     },
     "execution_count": 12,
     "metadata": {},
     "output_type": "execute_result"
    }
   ],
   "source": [
    "result"
   ]
  },
  {
   "cell_type": "code",
   "execution_count": 13,
   "id": "a193bdde",
   "metadata": {},
   "outputs": [
    {
     "name": "stdout",
     "output_type": "stream",
     "text": [
      "{\n",
      "    \"character_uid\": \"35f0c56f-263d-42df-846c-e1833d8ca0ab\",\n",
      "    \"action\": \"Walk towards Vivienne\",\n",
      "    \"targets\": [\n",
      "        \"00d66087-9b3b-46da-bd74-bf45cbe81d3c\"\n",
      "    ]\n",
      "}\n"
     ]
    }
   ],
   "source": [
    "print(result.output.model_dump_json(indent=4))"
   ]
  },
  {
   "cell_type": "code",
   "execution_count": null,
   "id": "9181a309",
   "metadata": {},
   "outputs": [],
   "source": []
  }
 ],
 "metadata": {
  "kernelspec": {
   "display_name": "llm",
   "language": "python",
   "name": "llm"
  },
  "language_info": {
   "codemirror_mode": {
    "name": "ipython",
    "version": 3
   },
   "file_extension": ".py",
   "mimetype": "text/x-python",
   "name": "python",
   "nbconvert_exporter": "python",
   "pygments_lexer": "ipython3",
   "version": "3.10.14"
  }
 },
 "nbformat": 4,
 "nbformat_minor": 5
}
