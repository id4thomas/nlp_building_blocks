{
 "cells": [
  {
   "cell_type": "code",
   "execution_count": 1,
   "id": "07b87863",
   "metadata": {},
   "outputs": [],
   "source": [
    "import copy\n",
    "import itertools\n",
    "import json\n",
    "import os\n",
    "import random\n",
    "from typing import Any, Dict, List\n",
    "import yaml\n",
    "\n",
    "from jinja2 import Template, StrictUndefined\n",
    "from jinja2.exceptions import TemplateError\n",
    "\n",
    "from openai import AsyncOpenAI\n",
    "from pydantic import BaseModel, Extra, Field\n",
    "\n",
    "# pydantic-ai\n",
    "from pydantic_ai import Agent, RunContext\n",
    "from pydantic_ai.models.openai import OpenAIModel, OpenAIResponsesModelSettings\n",
    "from pydantic_ai.providers.openai import OpenAIProvider\n",
    "\n",
    "from src.models import (\n",
    "    CharacterSpecification,\n",
    "    CharacterState,\n",
    "    Character,\n",
    "    EmotionalState,\n",
    "    SocialRelationState,\n",
    "    create_dynamic_enum\n",
    ")\n",
    "from config import settings"
   ]
  },
  {
   "cell_type": "code",
   "execution_count": 2,
   "id": "eac5e551",
   "metadata": {},
   "outputs": [
    {
     "name": "stdout",
     "output_type": "stream",
     "text": [
      "gpt-4.1-nano\n"
     ]
    }
   ],
   "source": [
    "# Initialize OpenAI provider\n",
    "print(settings.llm_model)\n",
    "\n",
    "# Pydantic Model\n",
    "provider = OpenAIProvider(\n",
    "    base_url=settings.llm_base_url,\n",
    "    api_key=settings.llm_api_key\n",
    ")\n",
    "model = OpenAIModel(\n",
    "    model_name=settings.llm_model,\n",
    "    provider=provider\n",
    ")\n",
    "\n",
    "# OpenAI Client\n",
    "aopenai_client = AsyncOpenAI(\n",
    "    base_url=settings.llm_base_url,\n",
    "    api_key=settings.llm_api_key\n",
    ")"
   ]
  },
  {
   "cell_type": "markdown",
   "id": "40e5f92b",
   "metadata": {},
   "source": [
    "# 1. Prepare Scene & Character Data"
   ]
  },
  {
   "cell_type": "code",
   "execution_count": 3,
   "id": "40206fa5",
   "metadata": {},
   "outputs": [
    {
     "name": "stdout",
     "output_type": "stream",
     "text": [
      "{\n",
      "    \"uid\": \"2f2462c1-bdef-4089-b206-c47decd841f3\",\n",
      "    \"stage\": 0,\n",
      "    \"scene\": {\n",
      "        \"revised_trope\": \"Inside the bustling grandeur of the metropolitan fashion gala, Zephyr Orion, a 28-year-old jocular astronaut with a penchant for playful storytelling, encounters Vivienne LaRoux. Vivienne, also 28, exudes sophistication and an assertive demeanor as a renowned style influencer. Initially, she greets Zephyr's lighthearted banter with icy indifference, her mean streak surfacing sporadically. However, Zephyr's infectious humor gradually softens her edges, revealing a subtly receptive side. Their verbal dance, rich with lively exchanges, challenges both to reconsider their outlooks, Zephyr embracing Vivienne's world of high fashion while she discovers a brighter perspective in his social magnetism.\",\n",
      "        \"utilized_reference_tropes\": [\n",
      "            \"Defrosting Ice Queen\",\n",
      "            \"SavvyGuyEnergeticGirl\"\n",
      "        ],\n",
      "        \"scene\": {\n",
      "            \"location\": \"The Metropolitan Fashion Gala\",\n",
      "            \"setting\": \"An opulent event hall adorned with sparkling chandeliers and cutting-edge fashion displays.\",\n",
      "            \"explanation\": \"In the midst of a vibrant and luxurious fashion gala, Zephyr Orion and Vivienne LaRoux engage in a compelling social interaction. Zephyr, with his distinctive brand of humor and affable nature, engages Vivienne in a conversation that is both disarming and endearing. Their exchange, a medley of banter and keen observations, reflects not only their mutual intrigue but also hints at a budding dynamic that bridges their contrasting worlds of space and style. As the evening unfolds, both characters experience subtle shifts in their perspectives, opening their minds to each other's unique lives, and suggesting the start of a meaningful connection.\"\n",
      "        }\n",
      "    },\n",
      "    \"character_states\": {\n",
      "        \"character1_uid\": \"35f0c56f-263d-42df-846c-e1833d8ca0ab\",\n",
      "        \"character1\": {\n",
      "            \"sentiment\": \"neutral\",\n",
      "            \"emotion\": \"anticipation\",\n",
      "            \"social_relations\": [\n",
      "                {\n",
      "                    \"character_uid\": \"00d66087-9b3b-46da-bd74-bf45cbe81d3c\",\n",
      "                    \"emotion\": \"trust\",\n",
      "                    \"knowledge\": [\n",
      "                        \"Vivienne LaRoux is a renowned style influencer with an assertive demeanor.\",\n",
      "                        \"Vivienne initially greets Zephyr with icy indifference during their interaction at the gala.\",\n",
      "                        \"Despite Vivienne's dismissive nature, Zephyr sees potential for a deeper connection.\"\n",
      "                    ]\n",
      "                }\n",
      "            ]\n",
      "        },\n",
      "        \"character2_uid\": \"00d66087-9b3b-46da-bd74-bf45cbe81d3c\",\n",
      "        \"character2\": {\n",
      "            \"sentiment\": \"neutral\",\n",
      "            \"emotion\": \"surprise\",\n",
      "            \"social_relations\": [\n",
      "                {\n",
      "                    \"character_uid\": \"35f0c56f-263d-42df-846c-e1833d8ca0ab\",\n",
      "                    \"emotion\": \"surprise\",\n",
      "                    \"knowledge\": [\n",
      "                        \"Zephyr is a 28-year-old jocular astronaut known for his storytelling and humor.\",\n",
      "                        \"Zephyr engages Vivienne with playful banter despite her initial indifference.\",\n",
      "                        \"Vivienne is intrigued by Zephyr's ability to connect socially at the gala.\"\n",
      "                    ]\n",
      "                }\n",
      "            ]\n",
      "        }\n",
      "    }\n",
      "}\n"
     ]
    }
   ],
   "source": [
    "## Scene Data\n",
    "scene_uid = \"2f2462c1-bdef-4089-b206-c47decd841f3\"\n",
    "\n",
    "with open(f\"assets/simschat/scene/{scene_uid}.json\", \"r\") as f:\n",
    "    scene_dict = json.load(f)\n",
    "\n",
    "print(json.dumps(scene_dict,indent=4))"
   ]
  },
  {
   "cell_type": "code",
   "execution_count": 4,
   "id": "242db8c1",
   "metadata": {},
   "outputs": [],
   "source": [
    "## Character Data\n",
    "character_uid =\"35f0c56f-263d-42df-846c-e1833d8ca0ab\"\n",
    "with open(f\"assets/simschat/characters/{character_uid}.json\", \"r\") as f:\n",
    "    character_spec_dict = json.load(f)\n",
    "    \n",
    "character_spec = CharacterSpecification(**character_spec_dict)\n",
    "# print(character_spec.model_dump_json(indent=2))"
   ]
  },
  {
   "cell_type": "code",
   "execution_count": 5,
   "id": "caf17872",
   "metadata": {},
   "outputs": [],
   "source": [
    "## Character State\n",
    "neutral_emotional_state = EmotionalState(\n",
    "    joy=\"na\",\n",
    "    trust=\"na\",\n",
    "    fear=\"na\",\n",
    "    surprise=\"na\",\n",
    "    sadness=\"na\",\n",
    "    disgust=\"na\",\n",
    "    anger=\"na\",\n",
    "    anticipation=\"na\",\n",
    ")\n",
    "\n",
    "character_state_dict = scene_dict[\"character_states\"][\"character1\"]\n",
    "\n",
    "## Override previous emotion values with new spec\n",
    "del character_state_dict[\"sentiment\"]\n",
    "del character_state_dict['emotion'] # remove emotion (replaced with plutchik)\n",
    "character_state_dict[\"emotion\"] = neutral_emotional_state.model_dump()\n",
    "for x in character_state_dict['social_relations']:\n",
    "    del x['emotion']\n",
    "    x['emotion'] = neutral_emotional_state.model_dump()\n",
    "\n",
    "\n",
    "character_state = CharacterState.model_validate(character_state_dict)"
   ]
  },
  {
   "cell_type": "code",
   "execution_count": 6,
   "id": "a4e4519b",
   "metadata": {},
   "outputs": [],
   "source": [
    "character = Character(\n",
    "    uid=character_uid,\n",
    "    spec=character_spec,\n",
    "    state=character_state,\n",
    ")"
   ]
  },
  {
   "cell_type": "markdown",
   "id": "0034eaa0",
   "metadata": {},
   "source": [
    "# 2. Initialize Prediction fn"
   ]
  },
  {
   "cell_type": "code",
   "execution_count": 7,
   "id": "7da19ee7",
   "metadata": {},
   "outputs": [
    {
     "name": "stdout",
     "output_type": "stream",
     "text": [
      "dict_keys(['Friendly', 'Ask', 'Romantic', 'Mean', 'Neutral'])\n"
     ]
    }
   ],
   "source": [
    "with open('prompts/action_predictor.yaml', 'r') as file:\n",
    "    action_predictor_prompt = yaml.load(file, Loader=yaml.FullLoader)\n",
    "\n",
    "system_template = Template(\n",
    "    action_predictor_prompt['system'],\n",
    "    undefined=StrictUndefined\n",
    ")\n",
    "user_template = Template(\n",
    "    action_predictor_prompt['user'],\n",
    "    undefined=StrictUndefined\n",
    ")\n",
    "\n",
    "with open(\"assets/sims_interactions.json\", \"r\") as f:\n",
    "    all_actions = json.load(f)\n",
    "n = 10\n",
    "actions = {k: random.sample(v, min(len(v), n)) for k,v in all_actions.items()}\n",
    "print(actions.keys())\n",
    "\n",
    "system_contents = {\n",
    "    \"actions\": actions\n",
    "}\n",
    "system_message = system_template.render(**system_contents)"
   ]
  },
  {
   "cell_type": "code",
   "execution_count": 8,
   "id": "8002a947",
   "metadata": {},
   "outputs": [],
   "source": [
    "## Make enum of actions\n",
    "possible_actions_model = create_dynamic_enum(\n",
    "    \"PossibleCharacterActions\",\n",
    "    itertools.chain(*[\n",
    "        [f\"{k}-{a['action']}\" for a in v]\n",
    "        for k,v in actions.items()\n",
    "    ])\n",
    ")"
   ]
  },
  {
   "cell_type": "code",
   "execution_count": 9,
   "id": "6e69afa6",
   "metadata": {},
   "outputs": [
    {
     "name": "stderr",
     "output_type": "stream",
     "text": [
      "/var/folders/wj/0c7skj2154q4844jqxlw3yxr0000gn/T/ipykernel_70677/3145226243.py:10: PydanticDeprecatedSince20: `pydantic.config.Extra` is deprecated, use literal values instead (e.g. `extra='allow'`). Deprecated in Pydantic V2.0 to be removed in V3.0. See Pydantic V2 Migration Guide at https://errors.pydantic.dev/2.10/migration/\n",
      "  extra = Extra.forbid\n",
      "/var/folders/wj/0c7skj2154q4844jqxlw3yxr0000gn/T/ipykernel_70677/3145226243.py:16: PydanticDeprecatedSince20: `pydantic.config.Extra` is deprecated, use literal values instead (e.g. `extra='allow'`). Deprecated in Pydantic V2.0 to be removed in V3.0. See Pydantic V2 Migration Guide at https://errors.pydantic.dev/2.10/migration/\n",
      "  extra = Extra.forbid\n"
     ]
    }
   ],
   "source": [
    "# Action Prediction Tool Function\n",
    "class CharacterAction(BaseModel):\n",
    "    # character: str\n",
    "    think: str\n",
    "    action_type: possible_actions_model\n",
    "    description: str\n",
    "    dialogue: str\n",
    "    targets: List[str]\n",
    "    class Config:\n",
    "        extra = Extra.forbid\n",
    "\n",
    "class ActionPredictionResult(BaseModel):\n",
    "    action: CharacterAction\n",
    "    updated_state: CharacterState\n",
    "    class Config:\n",
    "        extra = Extra.forbid"
   ]
  },
  {
   "cell_type": "code",
   "execution_count": 10,
   "id": "6e6be148",
   "metadata": {},
   "outputs": [],
   "source": [
    "async def predict_action(\n",
    "    character: Character,\n",
    "    scene_context: str\n",
    ")->ActionPredictionResult:\n",
    "    user_message = user_template.render(\n",
    "        character=character.model_dump_json(),\n",
    "        scene_context=scene_context\n",
    "    )\n",
    "    print(user_message)\n",
    "    result = await aopenai_client.beta.chat.completions.parse(\n",
    "        model=settings.llm_model,\n",
    "        messages=[\n",
    "            {\"role\": \"system\", \"content\": system_message},\n",
    "            {\"role\": \"user\", \"content\": user_message},\n",
    "        ],\n",
    "        response_format=ActionPredictionResult,\n",
    "    )\n",
    "    return result.choices[0].message.parsed"
   ]
  },
  {
   "cell_type": "code",
   "execution_count": 11,
   "id": "9b1d86b6",
   "metadata": {},
   "outputs": [
    {
     "name": "stdout",
     "output_type": "stream",
     "text": [
      "Information:\n",
      "[Character]\n",
      "{\"uid\":\"35f0c56f-263d-42df-846c-e1833d8ca0ab\",\"spec\":{\"name\":\"Zephyr Orion\",\"gender\":\"male\",\"age\":28,\"dialogue_tone\":\"playful, jovial, and engaging, with a witty humor and warmth that makes everyone feel at ease. Known for storytelling with captivating tales of space adventures.\",\"career\":\"Astronaut\",\"personality_traits\":[{\"trait\":\"Goofball\",\"description\":\"Enjoys joking and making others laugh, bringing a playful spirit to social situations.\"},{\"trait\":\"Materialistic\",\"description\":\"Loves acquiring new possessions and often leans towards bragging about them.\"},{\"trait\":\"Outgoing\",\"description\":\"Flourishes in social situations and enjoys being around people.\"},{\"trait\":\"Gloomy\",\"description\":\"Grows sad when left alone for too long.\"},{\"trait\":\"Ambitious\",\"description\":\"Continuously strives to reach new milestones in his career.\"}],\"hobbies\":[\"Fitness\",\"Cooking\",\"Painting\"],\"living_conditions\":[\"Resides in a modern city apartment filled with space memorabilia and art supplies.\",\"Leads a healthy lifestyle, working out regularly, and maintaining balanced meals.\"],\"social_relationships\":[{\"target\":\"Close-knit group of friends\",\"status\":\"positive\",\"description\":\"Share a strong bond through a mutual passion for space exploration.\"},{\"target\":\"Community and professional field\",\"status\":\"positive\",\"description\":\"Well-respected and liked within community and professional circles.\"}]},\"state\":{\"emotion\":{\"joy\":\"na\",\"trust\":\"na\",\"fear\":\"na\",\"surprise\":\"na\",\"sadness\":\"na\",\"disgust\":\"na\",\"anger\":\"na\",\"anticipation\":\"na\"},\"social_relations\":[{\"character_uid\":\"00d66087-9b3b-46da-bd74-bf45cbe81d3c\",\"emotion\":{\"joy\":\"na\",\"trust\":\"na\",\"fear\":\"na\",\"surprise\":\"na\",\"sadness\":\"na\",\"disgust\":\"na\",\"anger\":\"na\",\"anticipation\":\"na\"},\"knowledge\":[\"Vivienne LaRoux is a renowned style influencer with an assertive demeanor.\",\"Vivienne initially greets Zephyr with icy indifference during their interaction at the gala.\",\"Despite Vivienne's dismissive nature, Zephyr sees potential for a deeper connection.\"]}]}}\n",
      "\n",
      "[Scene Context]\n",
      "Inside the bustling grandeur of the metropolitan fashion gala, Zephyr Orion, a 28-year-old jocular astronaut with a penchant for playful storytelling, encounters Vivienne LaRoux. Vivienne, also 28, exudes sophistication and an assertive demeanor as a renowned style influencer. Initially, she greets Zephyr's lighthearted banter with icy indifference, her mean streak surfacing sporadically. However, Zephyr's infectious humor gradually softens her edges, revealing a subtly receptive side. Their verbal dance, rich with lively exchanges, challenges both to reconsider their outlooks, Zephyr embracing Vivienne's world of high fashion while she discovers a brighter perspective in his social magnetism.\n"
     ]
    }
   ],
   "source": [
    "scene_context=\"Inside the bustling grandeur of the metropolitan fashion gala, Zephyr Orion, a 28-year-old jocular astronaut with a penchant for playful storytelling, encounters Vivienne LaRoux. Vivienne, also 28, exudes sophistication and an assertive demeanor as a renowned style influencer. Initially, she greets Zephyr's lighthearted banter with icy indifference, her mean streak surfacing sporadically. However, Zephyr's infectious humor gradually softens her edges, revealing a subtly receptive side. Their verbal dance, rich with lively exchanges, challenges both to reconsider their outlooks, Zephyr embracing Vivienne's world of high fashion while she discovers a brighter perspective in his social magnetism.\"\n",
    "predicted_action = await predict_action(\n",
    "    character=character,\n",
    "    scene_context=scene_context\n",
    ")"
   ]
  },
  {
   "cell_type": "code",
   "execution_count": 12,
   "id": "6d14532d",
   "metadata": {},
   "outputs": [
    {
     "name": "stdout",
     "output_type": "stream",
     "text": [
      "{\n",
      "  \"action\": {\n",
      "    \"think\": \"Zephyr should continue to engage Vivienne with his playful charisma, attempting to warm her up further and break through her icy exterior. He aims to entertain her and perhaps share a witty story to create a more relaxed and inviting atmosphere.\",\n",
      "    \"action_type\": \"Friendly-Gestures/Greetings\",\n",
      "    \"description\": \"Zephyr smiles warmly and gestures with an open hand, making a playful comment about the fashion in the room as a way to continue the lighthearted interaction.\",\n",
      "    \"dialogue\": \"You know, with all these stunning outfits, I almost feel like I'm floating in a space parade—minus the zero gravity, thankfully.\",\n",
      "    \"targets\": [\n",
      "      \"00d66087-9b3b-46da-bd74-bf45cbe81d3c\"\n",
      "    ]\n",
      "  },\n",
      "  \"updated_state\": {\n",
      "    \"emotion\": {\n",
      "      \"joy\": \"low\",\n",
      "      \"trust\": \"low\",\n",
      "      \"fear\": \"na\",\n",
      "      \"surprise\": \"na\",\n",
      "      \"sadness\": \"na\",\n",
      "      \"disgust\": \"na\",\n",
      "      \"anger\": \"na\",\n",
      "      \"anticipation\": \"medium\"\n",
      "    },\n",
      "    \"social_relations\": [\n",
      "      {\n",
      "        \"character_uid\": \"00d66087-9b3b-46da-bd74-bf45cbe81d3c\",\n",
      "        \"emotion\": {\n",
      "          \"joy\": \"na\",\n",
      "          \"trust\": \"low\",\n",
      "          \"fear\": \"na\",\n",
      "          \"surprise\": \"na\",\n",
      "          \"sadness\": \"na\",\n",
      "          \"disgust\": \"na\",\n",
      "          \"anger\": \"na\",\n",
      "          \"anticipation\": \"medium\"\n",
      "        },\n",
      "        \"knowledge\": [\n",
      "          \"Vivienne LaRoux is a renowned style influencer with an assertive demeanor.\",\n",
      "          \"Vivienne initially greets Zephyr with icy indifference during their interaction at the gala.\",\n",
      "          \"Despite Vivienne's dismissive nature, Zephyr sees potential for a deeper connection.\"\n",
      "        ]\n",
      "      }\n",
      "    ]\n",
      "  }\n",
      "}\n"
     ]
    }
   ],
   "source": [
    "print(predicted_action.model_dump_json(indent=2))"
   ]
  },
  {
   "cell_type": "markdown",
   "id": "2a70fb38",
   "metadata": {},
   "source": [
    "# 3. CharacterActionPredictor Class"
   ]
  },
  {
   "cell_type": "code",
   "execution_count": 25,
   "id": "88cc4e79",
   "metadata": {},
   "outputs": [],
   "source": [
    "neutral_emotional_state = EmotionalState(\n",
    "    joy=\"na\",\n",
    "    trust=\"na\",\n",
    "    fear=\"na\",\n",
    "    surprise=\"na\",\n",
    "    sadness=\"na\",\n",
    "    disgust=\"na\",\n",
    "    anger=\"na\",\n",
    "    anticipation=\"na\",\n",
    ")\n",
    "\n",
    "class CharacterStore:\n",
    "    def __init__(self, character_dir: str, uids: List[str]):\n",
    "        self.characters = {}\n",
    "        \n",
    "        for uid in uids:\n",
    "            # Spec\n",
    "            with open(os.path.join(character_dir, f\"{character_uid}.json\"), \"r\") as f:\n",
    "                spec_dict = json.load(f)\n",
    "            spec = CharacterSpecification(**spec_dict)\n",
    "            \n",
    "            # Emotion\n",
    "            emotional_state = copy.deepcopy(neutral_emotional_state)\n",
    "            \n",
    "            # Social Relations\n",
    "            social_relations = []\n",
    "            for target_uid in uids:\n",
    "                if uid==target_uid:\n",
    "                    continue\n",
    "                relation = SocialRelationState(\n",
    "                    character_uid=target_uid,\n",
    "                    emotion = copy.deepcopy(neutral_emotional_state),\n",
    "                    knowledge = []\n",
    "                )\n",
    "                social_relations.append(relation)\n",
    "            state = CharacterState(\n",
    "                emotion=emotional_state,\n",
    "                social_relations=social_relations\n",
    "            )\n",
    "            character = Character(\n",
    "                uid=uid,\n",
    "                spec=spec,\n",
    "                state=state\n",
    "            )\n",
    "            self.characters[uid]=character\n",
    "            \n",
    "    \n",
    "    def get(self, uid: str) -> Character:\n",
    "        return self.characters[uid]\n",
    " \n",
    "\n",
    "character_dir = \"assets/simschat/characters\"\n",
    "character_uids = [\n",
    "    \"35f0c56f-263d-42df-846c-e1833d8ca0ab\",\n",
    "    \"00d66087-9b3b-46da-bd74-bf45cbe81d3c\"\n",
    "]\n",
    "CHARACTER_STORE = CharacterStore(\n",
    "    character_dir=character_dir,\n",
    "    uids=character_uids\n",
    ")"
   ]
  },
  {
   "cell_type": "code",
   "execution_count": 18,
   "id": "0d45e0f4",
   "metadata": {},
   "outputs": [],
   "source": [
    "class CharcterActionPredictor:\n",
    "    def __init__(\n",
    "        self,\n",
    "        prompt: Dict[str, str],\n",
    "        actions: Dict[str, str],\n",
    "        character_store: CharacterStore\n",
    "    ):\n",
    "        # Load Prompt\n",
    "        system_template = Template(\n",
    "            prompt['system'],\n",
    "            undefined=StrictUndefined\n",
    "        )\n",
    "        self.system_message = system_template.render(actions=actions)\n",
    "        \n",
    "        self.user_template = Template(\n",
    "            prompt['user'],\n",
    "            undefined=StrictUndefined\n",
    "        )\n",
    "        \n",
    "        # character store\n",
    "        self.character_store=character_store\n",
    "    \n",
    "    def _get_character(self, uid: str) -> Character:\n",
    "        return self.character_store.get(uid)\n",
    "    \n",
    "    async def predict_action(\n",
    "        self,\n",
    "        character: Character,\n",
    "        scene_context: str\n",
    "    )->ActionPredictionResult:\n",
    "        user_message = self.user_template.render(\n",
    "            character=character.model_dump_json(),\n",
    "            scene_context=scene_context\n",
    "        )\n",
    "        print(user_message)\n",
    "        result = await aopenai_client.beta.chat.completions.parse(\n",
    "            model=settings.llm_model,\n",
    "            messages=[\n",
    "                {\"role\": \"system\", \"content\": self.system_message},\n",
    "                {\"role\": \"user\", \"content\": user_message},\n",
    "            ],\n",
    "            response_format=ActionPredictionResult,\n",
    "        )\n",
    "        return result.choices[0].message.parsed\n",
    "    \n",
    "    def _update_character_state(self, character: Character, updated_state: CharacterState):\n",
    "        character.state=updated_state\n",
    "    \n",
    "    async def forward(self, uid: str, scene_context: str):\n",
    "        character = self._get_character(uid)\n",
    "        \n",
    "        # Predict Character Action\n",
    "        result = await self.predict_action(\n",
    "            character=character,\n",
    "            scene_context=scene_context\n",
    "        )\n",
    "        \n",
    "        # Update Character State\n",
    "        self._update_character_state(\n",
    "            character=character,\n",
    "            updated_state=result.updated_state\n",
    "        )\n",
    "        return {\n",
    "            \"action\": result.action.description,\n",
    "            \"targets\": result.action.targets\n",
    "        }"
   ]
  },
  {
   "cell_type": "code",
   "execution_count": 20,
   "id": "f00ee95f",
   "metadata": {},
   "outputs": [],
   "source": [
    "predictor = CharcterActionPredictor(\n",
    "    prompt=action_predictor_prompt,\n",
    "    actions=actions,\n",
    "    character_store=CHARACTER_STORE\n",
    ")"
   ]
  },
  {
   "cell_type": "code",
   "execution_count": 21,
   "id": "07f6c48a",
   "metadata": {},
   "outputs": [
    {
     "name": "stdout",
     "output_type": "stream",
     "text": [
      "emotion=EmotionalState(joy=<EmotionPolarity.na: 'na'>, trust=<EmotionPolarity.na: 'na'>, fear=<EmotionPolarity.na: 'na'>, surprise=<EmotionPolarity.na: 'na'>, sadness=<EmotionPolarity.na: 'na'>, disgust=<EmotionPolarity.na: 'na'>, anger=<EmotionPolarity.na: 'na'>, anticipation=<EmotionPolarity.na: 'na'>) social_relations=[SocialRelationState(character_uid='00d66087-9b3b-46da-bd74-bf45cbe81d3c', emotion=EmotionalState(joy=<EmotionPolarity.na: 'na'>, trust=<EmotionPolarity.na: 'na'>, fear=<EmotionPolarity.na: 'na'>, surprise=<EmotionPolarity.na: 'na'>, sadness=<EmotionPolarity.na: 'na'>, disgust=<EmotionPolarity.na: 'na'>, anger=<EmotionPolarity.na: 'na'>, anticipation=<EmotionPolarity.na: 'na'>), knowledge=['Vivienne LaRoux is a renowned style influencer with an assertive demeanor.', 'Vivienne initially greets Zephyr with icy indifference during their interaction at the gala.', \"Despite Vivienne's dismissive nature, Zephyr sees potential for a deeper connection.\"])]\n"
     ]
    }
   ],
   "source": [
    "# Before Prediction\n",
    "print(character.state)"
   ]
  },
  {
   "cell_type": "code",
   "execution_count": 22,
   "id": "677d6a32",
   "metadata": {},
   "outputs": [
    {
     "name": "stdout",
     "output_type": "stream",
     "text": [
      "Information:\n",
      "[Character]\n",
      "{\"uid\":\"35f0c56f-263d-42df-846c-e1833d8ca0ab\",\"spec\":{\"name\":\"Zephyr Orion\",\"gender\":\"male\",\"age\":28,\"dialogue_tone\":\"playful, jovial, and engaging, with a witty humor and warmth that makes everyone feel at ease. Known for storytelling with captivating tales of space adventures.\",\"career\":\"Astronaut\",\"personality_traits\":[{\"trait\":\"Goofball\",\"description\":\"Enjoys joking and making others laugh, bringing a playful spirit to social situations.\"},{\"trait\":\"Materialistic\",\"description\":\"Loves acquiring new possessions and often leans towards bragging about them.\"},{\"trait\":\"Outgoing\",\"description\":\"Flourishes in social situations and enjoys being around people.\"},{\"trait\":\"Gloomy\",\"description\":\"Grows sad when left alone for too long.\"},{\"trait\":\"Ambitious\",\"description\":\"Continuously strives to reach new milestones in his career.\"}],\"hobbies\":[\"Fitness\",\"Cooking\",\"Painting\"],\"living_conditions\":[\"Resides in a modern city apartment filled with space memorabilia and art supplies.\",\"Leads a healthy lifestyle, working out regularly, and maintaining balanced meals.\"],\"social_relationships\":[{\"target\":\"Close-knit group of friends\",\"status\":\"positive\",\"description\":\"Share a strong bond through a mutual passion for space exploration.\"},{\"target\":\"Community and professional field\",\"status\":\"positive\",\"description\":\"Well-respected and liked within community and professional circles.\"}]},\"state\":{\"emotion\":{\"joy\":\"na\",\"trust\":\"na\",\"fear\":\"na\",\"surprise\":\"na\",\"sadness\":\"na\",\"disgust\":\"na\",\"anger\":\"na\",\"anticipation\":\"na\"},\"social_relations\":[{\"character_uid\":\"00d66087-9b3b-46da-bd74-bf45cbe81d3c\",\"emotion\":{\"joy\":\"na\",\"trust\":\"na\",\"fear\":\"na\",\"surprise\":\"na\",\"sadness\":\"na\",\"disgust\":\"na\",\"anger\":\"na\",\"anticipation\":\"na\"},\"knowledge\":[]}]}}\n",
      "\n",
      "[Scene Context]\n",
      "Inside the bustling grandeur of the metropolitan fashion gala, Zephyr Orion, a 28-year-old jocular astronaut with a penchant for playful storytelling, encounters Vivienne LaRoux. Vivienne, also 28, exudes sophistication and an assertive demeanor as a renowned style influencer. Initially, she greets Zephyr's lighthearted banter with icy indifference, her mean streak surfacing sporadically. However, Zephyr's infectious humor gradually softens her edges, revealing a subtly receptive side. Their verbal dance, rich with lively exchanges, challenges both to reconsider their outlooks, Zephyr embracing Vivienne's world of high fashion while she discovers a brighter perspective in his social magnetism.\n"
     ]
    }
   ],
   "source": [
    "predicted_action = await predictor.forward(\n",
    "    uid=character_uid,\n",
    "    scene_context=scene_context\n",
    ")"
   ]
  },
  {
   "cell_type": "code",
   "execution_count": 23,
   "id": "876f2bfc",
   "metadata": {},
   "outputs": [
    {
     "name": "stdout",
     "output_type": "stream",
     "text": [
      "emotion=EmotionalState(joy=<EmotionPolarity.na: 'na'>, trust=<EmotionPolarity.na: 'na'>, fear=<EmotionPolarity.na: 'na'>, surprise=<EmotionPolarity.na: 'na'>, sadness=<EmotionPolarity.na: 'na'>, disgust=<EmotionPolarity.na: 'na'>, anger=<EmotionPolarity.na: 'na'>, anticipation=<EmotionPolarity.na: 'na'>) social_relations=[SocialRelationState(character_uid='00d66087-9b3b-46da-bd74-bf45cbe81d3c', emotion=EmotionalState(joy=<EmotionPolarity.na: 'na'>, trust=<EmotionPolarity.na: 'na'>, fear=<EmotionPolarity.na: 'na'>, surprise=<EmotionPolarity.na: 'na'>, sadness=<EmotionPolarity.na: 'na'>, disgust=<EmotionPolarity.na: 'na'>, anger=<EmotionPolarity.na: 'na'>, anticipation=<EmotionPolarity.na: 'na'>), knowledge=['Vivienne LaRoux is a renowned style influencer with an assertive demeanor.', 'Vivienne initially greets Zephyr with icy indifference during their interaction at the gala.', \"Despite Vivienne's dismissive nature, Zephyr sees potential for a deeper connection.\"])]\n"
     ]
    }
   ],
   "source": [
    "# After Update\n",
    "print(character.state)"
   ]
  },
  {
   "cell_type": "code",
   "execution_count": 24,
   "id": "9e2210cd",
   "metadata": {},
   "outputs": [
    {
     "name": "stdout",
     "output_type": "stream",
     "text": [
      "{\n",
      "  \"action\": \"Zephyr offers a charming and playful greeting, perhaps using a witty compliment about her style or making a humorous remark about the gala, aiming to forge a more relaxed and jovial connection.\",\n",
      "  \"targets\": [\n",
      "    \"00d66087-9b3b-46da-bd74-bf45cbe81d3c\"\n",
      "  ]\n",
      "}\n"
     ]
    }
   ],
   "source": [
    "print(json.dumps(predicted_action, indent=2))"
   ]
  },
  {
   "cell_type": "code",
   "execution_count": null,
   "id": "369e28e2",
   "metadata": {},
   "outputs": [],
   "source": []
  }
 ],
 "metadata": {
  "kernelspec": {
   "display_name": "llm",
   "language": "python",
   "name": "llm"
  },
  "language_info": {
   "codemirror_mode": {
    "name": "ipython",
    "version": 3
   },
   "file_extension": ".py",
   "mimetype": "text/x-python",
   "name": "python",
   "nbconvert_exporter": "python",
   "pygments_lexer": "ipython3",
   "version": "3.10.14"
  }
 },
 "nbformat": 4,
 "nbformat_minor": 5
}
