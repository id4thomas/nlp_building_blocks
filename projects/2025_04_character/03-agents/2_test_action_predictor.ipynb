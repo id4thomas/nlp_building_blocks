{
 "cells": [
  {
   "cell_type": "code",
   "execution_count": 1,
   "id": "1d58ccc9",
   "metadata": {},
   "outputs": [],
   "source": [
    "import json\n",
    "import os\n",
    "import yaml\n",
    "import random\n",
    "\n",
    "from openai import AsyncOpenAI\n",
    "\n",
    "from config import settings\n",
    "from src.action_predictor import (\n",
    "    CharcterActionPredictor\n",
    ")\n",
    "from src.character_store import CharacterStore"
   ]
  },
  {
   "cell_type": "code",
   "execution_count": 2,
   "id": "2e0e123d",
   "metadata": {},
   "outputs": [
    {
     "name": "stdout",
     "output_type": "stream",
     "text": [
      "gpt-4.1-nano\n"
     ]
    }
   ],
   "source": [
    "# Initialize OpenAI provider\n",
    "print(settings.llm_model)\n",
    "# OpenAI Client\n",
    "client = AsyncOpenAI(\n",
    "    base_url=settings.llm_base_url,\n",
    "    api_key=settings.llm_api_key\n",
    ")"
   ]
  },
  {
   "cell_type": "code",
   "execution_count": 3,
   "id": "1594d6fd",
   "metadata": {},
   "outputs": [
    {
     "name": "stdout",
     "output_type": "stream",
     "text": [
      "dict_keys(['Friendly', 'Ask', 'Romantic', 'Mean', 'Neutral'])\n"
     ]
    }
   ],
   "source": [
    "character_store = CharacterStore(\n",
    "    character_dir=\"assets/characters\",\n",
    "    uids=[\n",
    "        \"35f0c56f-263d-42df-846c-e1833d8ca0ab\"\n",
    "    ]\n",
    ")\n",
    "\n",
    "with open(\"assets/sims_interactions.json\", \"r\") as f:\n",
    "    all_actions = json.load(f)\n",
    "n = 10\n",
    "actions = {k: random.sample(v, min(len(v), n)) for k,v in all_actions.items()}\n",
    "print(actions.keys())"
   ]
  },
  {
   "cell_type": "code",
   "execution_count": 4,
   "id": "da16bfef",
   "metadata": {},
   "outputs": [],
   "source": [
    "with open('prompts/action_predictor.yaml', 'r') as file:\n",
    "    prompt = yaml.load(file, Loader=yaml.FullLoader)"
   ]
  },
  {
   "cell_type": "code",
   "execution_count": 5,
   "id": "10f62093",
   "metadata": {},
   "outputs": [],
   "source": [
    "predictor = CharcterActionPredictor(\n",
    "    client=client,\n",
    "    prompt=prompt,\n",
    "    actions=actions,\n",
    "    character_store=character_store,\n",
    "    model=\"gpt-4.1-nano\"\n",
    ")"
   ]
  },
  {
   "cell_type": "code",
   "execution_count": 6,
   "id": "361017e9",
   "metadata": {},
   "outputs": [
    {
     "name": "stdout",
     "output_type": "stream",
     "text": [
      "Information:\n",
      "[Character]\n",
      "description:\n",
      "{\"name\":\"Zephyr Orion\",\"gender\":\"male\",\"age\":28,\"dialogue_tone\":\"playful, jovial, and engaging, with a witty humor and warmth that makes everyone feel at ease. Known for storytelling with captivating tales of space adventures.\",\"career\":\"Astronaut\",\"personality_traits\":[{\"trait\":\"Goofball\",\"description\":\"Enjoys joking and making others laugh, bringing a playful spirit to social situations.\"},{\"trait\":\"Materialistic\",\"description\":\"Loves acquiring new possessions and often leans towards bragging about them.\"},{\"trait\":\"Outgoing\",\"description\":\"Flourishes in social situations and enjoys being around people.\"},{\"trait\":\"Gloomy\",\"description\":\"Grows sad when left alone for too long.\"},{\"trait\":\"Ambitious\",\"description\":\"Continuously strives to reach new milestones in his career.\"}],\"hobbies\":[\"Fitness\",\"Cooking\",\"Painting\"],\"living_conditions\":[\"Resides in a modern city apartment filled with space memorabilia and art supplies.\",\"Leads a healthy lifestyle, working out regularly, and maintaining balanced meals.\"]}\n",
      "\n",
      "emotion:\n",
      "{\"joy\":\"na\",\"trust\":\"na\",\"fear\":\"na\",\"surprise\":\"na\",\"sadness\":\"na\",\"disgust\":\"na\",\"anger\":\"na\",\"anticipation\":\"na\"}\n",
      "\n",
      "social_relations\n",
      "\n",
      "\n",
      "[Scene Context]\n",
      "Inside the bustling grandeur of the metropolitan fashion gala, Zephyr Orion, a 28-year-old jocular astronaut with a penchant for playful storytelling, encounters Vivienne LaRoux. Vivienne, also 28, exudes sophistication and an assertive demeanor as a renowned style influencer. Initially, she greets Zephyr's lighthearted banter with icy indifference, her mean streak surfacing sporadically. However, Zephyr's infectious humor gradually softens her edges, revealing a subtly receptive side. Their verbal dance, rich with lively exchanges, challenges both to reconsider their outlooks, Zephyr embracing Vivienne's world of high fashion while she discovers a brighter perspective in his social magnetism.\n"
     ]
    }
   ],
   "source": [
    "scene_context=\"Inside the bustling grandeur of the metropolitan fashion gala, Zephyr Orion, a 28-year-old jocular astronaut with a penchant for playful storytelling, encounters Vivienne LaRoux. Vivienne, also 28, exudes sophistication and an assertive demeanor as a renowned style influencer. Initially, she greets Zephyr's lighthearted banter with icy indifference, her mean streak surfacing sporadically. However, Zephyr's infectious humor gradually softens her edges, revealing a subtly receptive side. Their verbal dance, rich with lively exchanges, challenges both to reconsider their outlooks, Zephyr embracing Vivienne's world of high fashion while she discovers a brighter perspective in his social magnetism.\"\n",
    "\n",
    "predicted_action = await predictor.forward(\n",
    "    scene_context=scene_context,\n",
    "    uid=\"35f0c56f-263d-42df-846c-e1833d8ca0ab\",\n",
    "    related_uids=[]\n",
    ")"
   ]
  },
  {
   "cell_type": "code",
   "execution_count": 8,
   "id": "f55f646a",
   "metadata": {},
   "outputs": [
    {
     "name": "stdout",
     "output_type": "stream",
     "text": [
      "{\n",
      "  \"action\": \"Zephyr smirks mischievously and shifts his tone to a more playful one, saying, 'You know, I once had a space fashion show on the moon\\u2014absolutely out of this world!'\",\n",
      "  \"targets\": []\n",
      "}\n"
     ]
    }
   ],
   "source": [
    "print(json.dumps(predicted_action, indent=2))"
   ]
  },
  {
   "cell_type": "code",
   "execution_count": null,
   "id": "ab5063aa",
   "metadata": {},
   "outputs": [],
   "source": []
  }
 ],
 "metadata": {
  "kernelspec": {
   "display_name": "llm",
   "language": "python",
   "name": "llm"
  },
  "language_info": {
   "codemirror_mode": {
    "name": "ipython",
    "version": 3
   },
   "file_extension": ".py",
   "mimetype": "text/x-python",
   "name": "python",
   "nbconvert_exporter": "python",
   "pygments_lexer": "ipython3",
   "version": "3.10.14"
  }
 },
 "nbformat": 4,
 "nbformat_minor": 5
}
