{
 "cells": [
  {
   "cell_type": "code",
   "execution_count": 1,
   "metadata": {},
   "outputs": [],
   "source": [
    "import copy\n",
    "from enum import Enum\n",
    "import json\n",
    "import os\n",
    "from typing import Any, Dict, List, Union\n",
    "import yaml\n",
    "import uuid\n",
    "\n",
    "import openai\n",
    "from pydantic import BaseModel, Field, create_model\n"
   ]
  },
  {
   "cell_type": "markdown",
   "metadata": {},
   "source": [
    "# 1. Test schema definition"
   ]
  },
  {
   "cell_type": "code",
   "execution_count": 2,
   "metadata": {},
   "outputs": [],
   "source": [
    "def create_dynamic_enum(name: str, values: List[Any]) -> Enum:\n",
    "    return Enum(name, {str(v): v for v in values})\n",
    "\n",
    "class OpenAIResponseFormatBuilder(object):\n",
    "    @staticmethod\n",
    "    def build(\n",
    "        model: BaseModel, name: str = \"schema\", strict: bool = True\n",
    "    ) -> Dict[str, Any]:\n",
    "        schema = model.model_json_schema()\n",
    "        schema_dict = {\n",
    "            \"type\": \"json_schema\",\n",
    "            \"json_schema\": {\"name\": name, \"strict\": strict, \"schema\": schema},\n",
    "        }\n",
    "        return schema_dict\n",
    "\n",
    "def get_dtype(dtype_name: str) -> type:\n",
    "    if dtype_name == \"str\":\n",
    "        dtype = str\n",
    "    elif dtype_name == \"int\":\n",
    "        dtype = int\n",
    "    elif dtype_name == \"float\":\n",
    "        dtype = float\n",
    "    else:\n",
    "        raise ValueError(\"dtype {} not supported\".format(dtype_name))\n",
    "    return dtype\n",
    "\n",
    "\n",
    "class SchemaModelMaker(object):\n",
    "    @staticmethod\n",
    "    def make(specification: Dict[str, Any], name=\"model\") -> BaseModel:\n",
    "        \"\"\"\n",
    "        specification 다음과 같이 정의한다\n",
    "        {\n",
    "                \"키값\": {\n",
    "                        \"dim\": 0, ## 0: str, 1: List[str]\n",
    "                        \"dtype\": str, ## 스트링이면 type을 찾도록\n",
    "                        \"allowed_values\": [\"a\", \"b\"], ## For enum val\n",
    "                        \"optional\": False ##\n",
    "                }\n",
    "        }\n",
    "        \"\"\"\n",
    "        spec_dict = dict()\n",
    "        for k, v in specification.items():\n",
    "            dtype = v.get(\"dtype\", str)\n",
    "            dim = v.get(\"dim\", 0)\n",
    "            allowed_values = v.get(\"allowed_values\", None)\n",
    "            default_val = ...\n",
    "\n",
    "            if isinstance(dtype, str):\n",
    "                dtype = get_dtype(dtype)\n",
    "\n",
    "            if allowed_values:\n",
    "                allowed_values = [dtype(v) for v in allowed_values]\n",
    "                enum = create_dynamic_enum(f\"{k}-enum\", allowed_values)\n",
    "                dtype = enum\n",
    "\n",
    "            ## Dim\n",
    "            if dim == 1:\n",
    "                dtype = List[dtype]\n",
    "\n",
    "            spec_dict[k] = (dtype, default_val)\n",
    "\n",
    "        model = create_model(name, __config__={\"extra\": \"forbid\"}, **spec_dict)\n",
    "        return model"
   ]
  },
  {
   "cell_type": "code",
   "execution_count": 3,
   "metadata": {},
   "outputs": [
    {
     "name": "stdout",
     "output_type": "stream",
     "text": [
      "background='' scope='' impact=''\n"
     ]
    }
   ],
   "source": [
    "information_specification = {\n",
    "    \"background\": {\n",
    "        \"dim\": 0,\n",
    "        \"dtype\": str,\n",
    "        \"optional\": False,\n",
    "    },\n",
    "    \"scope\": {\n",
    "        \"dim\": 0,\n",
    "        \"dtype\": str,\n",
    "        \"optional\": False,\n",
    "    },\n",
    "    \"impact\": {\n",
    "        \"dim\": 0,\n",
    "        \"dtype\": str,\n",
    "        \"optional\": False,\n",
    "    },\n",
    "}\n",
    "\n",
    "Instance = SchemaModelMaker.make(information_specification, name=\"Instance\")\n",
    "instance = Instance(\n",
    "    background=\"\",\n",
    "    scope=\"\",\n",
    "    impact=\"\"\n",
    ")\n",
    "print(instance)"
   ]
  },
  {
   "cell_type": "code",
   "execution_count": 4,
   "metadata": {},
   "outputs": [
    {
     "data": {
      "text/plain": [
       "['background', 'scope', 'impact']"
      ]
     },
     "execution_count": 4,
     "metadata": {},
     "output_type": "execute_result"
    }
   ],
   "source": [
    "# class InformationColumn(Enum):\n",
    "# \tbackground=\"background\"\n",
    "# \tscope=\"scope\"\n",
    "# \timpact=\"impact\"\t\n",
    "\n",
    "InformationColumn = create_dynamic_enum(\"InformationColumn\", [\"background\", \"scope\", \"impact\"])\n",
    "[e.value for e in InformationColumn]"
   ]
  },
  {
   "cell_type": "code",
   "execution_count": 5,
   "metadata": {},
   "outputs": [],
   "source": [
    "class InformationColumn(Enum):\n",
    "\tbackground=\"background\"\n",
    "\tscope=\"scope\"\n",
    "\timpact=\"impact\"\t\n",
    "\n",
    "## Creation\n",
    "class Instance(BaseModel):\n",
    "\tbackground: str\n",
    "\tscope: str\n",
    "\timpact: str\n",
    "\t\n",
    "class InstanceCreation(BaseModel):\n",
    "\tinstance: Instance\n",
    "\n",
    "## Refinement\n",
    "class RefinementOperationType(Enum):\n",
    "\tedit=\"edit\"\n",
    "\tappend=\"append\"\n",
    "\t\n",
    "class InstanceRefinement(BaseModel):\n",
    "\toperation_type: RefinementOperationType\n",
    "\tuuid: str\n",
    "\tcolumn: InformationColumn\n",
    "\tvalue: str\n",
    "\t\n",
    "class InstanceRefinements(BaseModel):\n",
    "\t# background: List[InstanceRefinement]\n",
    "\t# scope: List[InstanceRefinement]\n",
    "\t# impact: List[InstanceRefinement]\n",
    "\trefinements: List[InstanceRefinement]\n",
    "\n",
    "## Operation\n",
    "class InstanceOperationType(Enum):\n",
    "\tcreate=\"create\"\n",
    "\trefine=\"refine\"\n",
    "\t\n",
    "class InstanceOperation(BaseModel):\n",
    "\ttype: InstanceOperationType\n",
    "\tuuid: str\n",
    "\toperation: Union[InstanceCreation, InstanceRefinements]\n",
    "\t\n",
    "class InstanceOperations(BaseModel):\n",
    "\toperations: List[InstanceOperation]"
   ]
  },
  {
   "cell_type": "code",
   "execution_count": 6,
   "metadata": {},
   "outputs": [
    {
     "data": {
      "text/plain": [
       "{'$defs': {'InformationColumn': {'enum': ['background', 'scope', 'impact'],\n",
       "   'title': 'InformationColumn',\n",
       "   'type': 'string'},\n",
       "  'Instance': {'properties': {'background': {'title': 'Background',\n",
       "     'type': 'string'},\n",
       "    'scope': {'title': 'Scope', 'type': 'string'},\n",
       "    'impact': {'title': 'Impact', 'type': 'string'}},\n",
       "   'required': ['background', 'scope', 'impact'],\n",
       "   'title': 'Instance',\n",
       "   'type': 'object'},\n",
       "  'InstanceCreation': {'properties': {'instance': {'$ref': '#/$defs/Instance'}},\n",
       "   'required': ['instance'],\n",
       "   'title': 'InstanceCreation',\n",
       "   'type': 'object'},\n",
       "  'InstanceOperation': {'properties': {'type': {'$ref': '#/$defs/InstanceOperationType'},\n",
       "    'uuid': {'title': 'Uuid', 'type': 'string'},\n",
       "    'operation': {'anyOf': [{'$ref': '#/$defs/InstanceCreation'},\n",
       "      {'$ref': '#/$defs/InstanceRefinements'}],\n",
       "     'title': 'Operation'}},\n",
       "   'required': ['type', 'uuid', 'operation'],\n",
       "   'title': 'InstanceOperation',\n",
       "   'type': 'object'},\n",
       "  'InstanceOperationType': {'enum': ['create', 'refine'],\n",
       "   'title': 'InstanceOperationType',\n",
       "   'type': 'string'},\n",
       "  'InstanceRefinement': {'properties': {'operation_type': {'$ref': '#/$defs/RefinementOperationType'},\n",
       "    'uuid': {'title': 'Uuid', 'type': 'string'},\n",
       "    'column': {'$ref': '#/$defs/InformationColumn'},\n",
       "    'value': {'title': 'Value', 'type': 'string'}},\n",
       "   'required': ['operation_type', 'uuid', 'column', 'value'],\n",
       "   'title': 'InstanceRefinement',\n",
       "   'type': 'object'},\n",
       "  'InstanceRefinements': {'properties': {'refinements': {'items': {'$ref': '#/$defs/InstanceRefinement'},\n",
       "     'title': 'Refinements',\n",
       "     'type': 'array'}},\n",
       "   'required': ['refinements'],\n",
       "   'title': 'InstanceRefinements',\n",
       "   'type': 'object'},\n",
       "  'RefinementOperationType': {'enum': ['edit', 'append'],\n",
       "   'title': 'RefinementOperationType',\n",
       "   'type': 'string'}},\n",
       " 'properties': {'operations': {'items': {'$ref': '#/$defs/InstanceOperation'},\n",
       "   'title': 'Operations',\n",
       "   'type': 'array'}},\n",
       " 'required': ['operations'],\n",
       " 'title': 'InstanceOperations',\n",
       " 'type': 'object'}"
      ]
     },
     "execution_count": 6,
     "metadata": {},
     "output_type": "execute_result"
    }
   ],
   "source": [
    "schema = InstanceOperations.model_json_schema()\n",
    "schema"
   ]
  },
  {
   "cell_type": "markdown",
   "metadata": {},
   "source": [
    "# 2. OpenAI call test"
   ]
  },
  {
   "cell_type": "code",
   "execution_count": 7,
   "metadata": {},
   "outputs": [],
   "source": [
    "SYSTEM_INSTRUCTION = '''## Instance 설명\n",
    "이 과정을 추출 결과를 업데이트 해나가는 방식으로 추출하려고 합니다.\n",
    "'Instance'는 정보의 단위 입니다. 같은 정보의 단위는 Instance로 묶도록 합니다.\n",
    "\n",
    "주어진 기존 instance 추출 결과를 보고 다음 InstanceOperation중 하나를 수행하세요\n",
    "* create: 기존과 구분되는 새로운 instance 1개를 새로 정의하여 추가합니다\n",
    "* refine: 수정이 필요한 기존 instance 하나를 uuid 기반으로 선택 후 수정이 필요한 값에 대한 RefinementOperation을 수행하세요\n",
    "\n",
    "RefinementOperation은 다음과 같습니다\n",
    "* edit: 기존 값을 수정\n",
    "    * ex. 중간에 값을 추가하여 기존 값을 수정해야 하는 경우\n",
    "    * 수정하는 InstanceColumn의 uuid를 꼭 기입하세요\n",
    "* append: 추가적인 값을 instance 컬럼에 추가\n",
    "    * uuid를 빈칸으로 기입합니다.\n",
    "\n",
    "## 정보 추출 성명\n",
    "다음은 사업의 제안 요청서 파일에서 읽은 문서 파일 파싱 결과와 중간 추출 결과입니다.\n",
    "파싱 결과는 과제의 개요에 대한 다음 3가지 정보들을 포함할 수 있습니다.\n",
    "정보 카테고리:\n",
    "1. 추진 배경 및 필요성 (background)\n",
    "* 제안 공고를 올리게 된 이유, 배경 상황\n",
    "* 사업으로 달성하고자 하는 목적 내용 (기대 효과와는 다르다)\n",
    "* 사업 (추진) 목적도 이런 정보를 담고 있다\n",
    "* 주로 '추진 배경', '필요성'의 하위 내용들이다\n",
    "2. 사업 범위 (scope)\n",
    "* 사업(과업)을 통해서 개발하려고 하는 내용\n",
    "* 실질적으로 개발하려는 내용\n",
    "* 주로 '사업 범위', '사업 내용', '추진 내용'과 같은 정보로 언급됨\n",
    "3. 기대 효과 (impact)\n",
    "* 사업을 통해서 기대하는 효과\n",
    "\n",
    "최종적으로 위 정보를 다음 JSON 스키마로 추출하려고 합니다.\n",
    "스키마:\n",
    "{{\"background\": str, \"scope\": str, \"impact\": str}\n",
    "\n",
    "규칙:\n",
    "* background, scope, impact는 파싱 결과에서 해당 카테고리에 해당되는 내용을 찾아서 모두 추출합니다.\n",
    "* 이 내용들은 요약하지 않으며 파싱 결과에 사용된 표현들 그대로 추출합니다.\n",
    "* 필요없는 정보는 추출하지 않고 정보 카테고리로 정의된 관련 내용만 추출하도록 합니다.\n",
    "* 파싱 결과에서 테이블은 \"<|start_table|>..<|end_table|>\" 처럼 감싸져 있습니다\n",
    "* 테이블이 근거자료와 같이 부가적인 정보를 가지는 경우 참고만 하고 굳이 추출하지는 않습니다\n",
    "* 정보 카테고리에 핵심적인 내용이 있는 경우만 추출합니다. 이때 표의 구조를 고려하여 상위 항목/하위 항목 카테고리화를 살리도록 합니다.\n",
    "* 사업명, 기간, 예산, 계약 방법등의 내용은 뽑지 않도록 합니다\n",
    "* background, scope, impact 정보와 같이 'ㅇ'와 '-'등으로 나열된 정보의 경우는 계층을 살려서 'html 리스트 문법'으로 바꿔 주세요 (ex. \"<ul><li>...</ul>\", \"<ol><li>..</ol>\")\n",
    "* 리스트의 계층 (depth) 정보는 ul/ol 태그를 사용하여 상위-하위 항목의 관계를 꼭 살리도록 합니다.\n",
    "* 새로운 정보를 '계층에 맞게' ul li 아래에 끼워넣어야 한다면 RefinementOperation을 append가 아닌 'edit'을 합니다\n",
    "* 순서 정보가 필요한 경우만 ol로 표기합니다\n",
    "* 상위, 하위 항목 내용은 모두 추출 합니다.\n",
    "상위/하위 정보 예시:\n",
    "\"1. 상위 정보\\n2. 상위정보2\\n\\tㅇ 하위 정보 1\\n\\tㅇ 하위 정보 2..\\n□. 상위정보3\"\n",
    "-> \"<ol><li>상위 정보</li><li>상위정보2<ul><li>하위 정보 1</li><li>하위 정보 2</li></ol><ul><li>상위정보3</li></ul>\"\n",
    "* 카테고리에 해당되는 내용이 없다면 스트링을 비워 주세요\n",
    "\n",
    "## 최종 스키마\n",
    "최종 다음 스키마대로 추출하세요\n",
    "{'$defs': {'InformationColumn': {'enum': ['background', 'scope', 'impact'],\n",
    "'title': 'InformationColumn',\n",
    "'type': 'string'},\n",
    "'Instance': {'additionalProperties': False,\n",
    "'properties': {'background': {'title': 'Background', 'type': 'string'},\n",
    "'scope': {'title': 'Scope', 'type': 'string'},\n",
    "'impact': {'title': 'Impact', 'type': 'string'}},\n",
    "'required': ['background', 'scope', 'impact'],\n",
    "'title': 'Instance',\n",
    "'type': 'object'},\n",
    "'InstanceCreation': {'properties': {'instance': {'$ref': '#/$defs/Instance'}},\n",
    "'required': ['instance'],\n",
    "'title': 'InstanceCreation',\n",
    "'type': 'object'},\n",
    "'InstanceOperation': {'properties': {'type': {'$ref': '#/$defs/InstanceOperationType'},\n",
    "'uuid': {'title': 'Uuid', 'type': 'string'},\n",
    "'operation': {'anyOf': [{'$ref': '#/$defs/InstanceCreation'},\n",
    "    {'$ref': '#/$defs/InstanceRefinements'}],\n",
    "    'title': 'Operation'}},\n",
    "'required': ['type', 'uuid', 'operation'],\n",
    "'title': 'InstanceOperation',\n",
    "'type': 'object'},\n",
    "'InstanceOperationType': {'enum': ['create', 'refine'],\n",
    "'title': 'InstanceOperationType',\n",
    "'type': 'string'},\n",
    "'InstanceRefinement': {'properties': {'operation_type': {'$ref': '#/$defs/RefinementOperationType'},\n",
    "'column': {'$ref': '#/$defs/InformationColumn'},\n",
    "'value': {'title': 'Value', 'type': 'string'}},\n",
    "'required': ['operation_type', 'column', 'value'],\n",
    "'title': 'InstanceRefinement',\n",
    "'type': 'object'},\n",
    "'InstanceRefinements': {'properties': {'refinements': {'items': {'$ref': '#/$defs/InstanceRefinement'},\n",
    "    'title': 'Refinements',\n",
    "    'type': 'array'}},\n",
    "'required': ['refinements'],\n",
    "'title': 'InstanceRefinements',\n",
    "'type': 'object'},\n",
    "'RefinementOperationType': {'enum': ['edit', 'append'],\n",
    "'title': 'RefinementOperationType',\n",
    "'type': 'string'}},\n",
    "'properties': {'operations': {'items': {'$ref': '#/$defs/InstanceOperation'},\n",
    "'title': 'Operations',\n",
    "'type': 'array'}},\n",
    "'required': ['operations'],\n",
    "'title': 'InstanceOperations',\n",
    "'type': 'object'}'''\n",
    "\n",
    "# USER_TEMPLATE = '''공고명: \"{bidding_name}\"\n",
    "# 파싱 결과: \"{text}\"\n",
    "# 기존 추출 결과: {previous_instances}'''\n",
    "\n",
    "USER_TEMPLATE = '''파싱 결과:\n",
    "\"{text}\"\n",
    "\n",
    "기존 추출 결과:\n",
    "{previous_instances}'''"
   ]
  },
  {
   "cell_type": "code",
   "execution_count": 8,
   "metadata": {},
   "outputs": [
    {
     "name": "stdout",
     "output_type": "stream",
     "text": [
      "uuid='055b4762-a2a0-4b2a-91ef-51566cd8471a' background=[InstanceColumn(uuid='87f6a63b-1604-410d-afbb-f3d731727bbf', value='<ul><li>통관 후 유통 중인 수입수산물에 대한 관리체계 고도화 필요<ul><li>유통 중인 수입수산물이 안전검사에 불합격하거나 위해사고가 발생된 경우 유통경로를 역추적, 회수하기 위한 통합 모니터링 시스템 구축 필요</li><li>수산물 안전관리의 실효성을 높이기 위하여 선제적인 위해 수산물 차단 및 회수 체계 시스템 필요</li></ul></li><li>최신 기술 트랜드를 반영하여 관계기관 간 협력과 정보공유를 위한 시스템 고도화 필요</li></ul>')] scope=[InstanceColumn(uuid='5a876c79-ce74-4581-826a-d14d159d94c5', value='<ul><li>수입수산물 유통 영업자 시스템 고도화<ul><li>상위업체 유통이력 등록요청관리 프로그램 개발</li><li>유통업체 ERP 시스템 연동 프로그램 개발</li><li>사용자 편의성 향상을 위한 유통이력 신고기능 고도화</li></ul></li><li>수입수산물 유통이력 업무 시스템 고도화<ul><li>유통이력 실태점검 기능 고도화</li><li>유통이력 모니터링 검색기능 고도화</li><li>위해수산물 유통 검색엔진 프로그램 개발</li><li>유통이력 추적관리 기능 개선</li><li>업무사용자 편의성 향상을 위한 유통이력 추적관리 기능 개선</li></ul></li><li>GIS기반 유통이력 추적관리 모니터링 시스템 구축<ul><li>대시보드 형태 GIS 추적모니터링 프로그램 개발</li><li>GIS 기반 통합검색 기능 개발</li></ul></li><li>온라인 교육용 컨텐츠 관리시스템 구축<ul><li>동영상 재생관리 프로그램 개발</li><li>통계프로그램 개발</li></ul></li><li>유전자원관리 정보시스템 구축</li></ul>')] impact=[]\n"
     ]
    }
   ],
   "source": [
    "class InstanceColumn(BaseModel):\n",
    "    uuid: str\n",
    "    value: str\n",
    "    \n",
    "class InformationInstance(BaseModel):\n",
    "    uuid: str\n",
    "    background: List[InstanceColumn]\n",
    "    scope: List[InstanceColumn]\n",
    "    impact: List[InstanceColumn]\n",
    "\n",
    "partial_background = InstanceColumn(\n",
    "    uuid=str(uuid.uuid4()),\n",
    "    value=\"<ul><li>통관 후 유통 중인 수입수산물에 대한 관리체계 고도화 필요<ul><li>유통 중인 수입수산물이 안전검사에 불합격하거나 위해사고가 발생된 경우 유통경로를 역추적, 회수하기 위한 통합 모니터링 시스템 구축 필요</li><li>수산물 안전관리의 실효성을 높이기 위하여 선제적인 위해 수산물 차단 및 회수 체계 시스템 필요</li></ul></li><li>최신 기술 트랜드를 반영하여 관계기관 간 협력과 정보공유를 위한 시스템 고도화 필요</li></ul>\"\n",
    ")\n",
    "\n",
    "partial_scope = InstanceColumn(\n",
    "    uuid=str(uuid.uuid4()),\n",
    "    value=\"<ul><li>수입수산물 유통 영업자 시스템 고도화<ul><li>상위업체 유통이력 등록요청관리 프로그램 개발</li><li>유통업체 ERP 시스템 연동 프로그램 개발</li><li>사용자 편의성 향상을 위한 유통이력 신고기능 고도화</li></ul></li><li>수입수산물 유통이력 업무 시스템 고도화<ul><li>유통이력 실태점검 기능 고도화</li><li>유통이력 모니터링 검색기능 고도화</li><li>위해수산물 유통 검색엔진 프로그램 개발</li><li>유통이력 추적관리 기능 개선</li><li>업무사용자 편의성 향상을 위한 유통이력 추적관리 기능 개선</li></ul></li><li>GIS기반 유통이력 추적관리 모니터링 시스템 구축<ul><li>대시보드 형태 GIS 추적모니터링 프로그램 개발</li><li>GIS 기반 통합검색 기능 개발</li></ul></li><li>온라인 교육용 컨텐츠 관리시스템 구축<ul><li>동영상 재생관리 프로그램 개발</li><li>통계프로그램 개발</li></ul></li><li>유전자원관리 정보시스템 구축</li></ul>\"\n",
    ")\n",
    "\n",
    "instance = InformationInstance(\n",
    "    uuid=str(uuid.uuid4()),\n",
    "    background=[\n",
    "        partial_background\n",
    "    ],\n",
    "    scope=[\n",
    "        partial_scope\n",
    "    ],\n",
    "    impact=[]\n",
    ")\n",
    "print(instance)"
   ]
  },
  {
   "cell_type": "code",
   "execution_count": 9,
   "metadata": {},
   "outputs": [
    {
     "data": {
      "text/plain": [
       "[{'uuid': '055b4762-a2a0-4b2a-91ef-51566cd8471a',\n",
       "  'background': [{'uuid': '87f6a63b-1604-410d-afbb-f3d731727bbf',\n",
       "    'value': '<ul><li>통관 후 유통 중인 수입수산물에 대한 관리체계 고도화 필요<ul><li>유통 중인 수입수산물이 안전검사에 불합격하거나 위해사고가 발생된 경우 유통경로를 역추적, 회수하기 위한 통합 모니터링 시스템 구축 필요</li><li>수산물 안전관리의 실효성을 높이기 위하여 선제적인 위해 수산물 차단 및 회수 체계 시스템 필요</li></ul></li><li>최신 기술 트랜드를 반영하여 관계기관 간 협력과 정보공유를 위한 시스템 고도화 필요</li></ul>'}],\n",
       "  'scope': [{'uuid': '5a876c79-ce74-4581-826a-d14d159d94c5',\n",
       "    'value': '<ul><li>수입수산물 유통 영업자 시스템 고도화<ul><li>상위업체 유통이력 등록요청관리 프로그램 개발</li><li>유통업체 ERP 시스템 연동 프로그램 개발</li><li>사용자 편의성 향상을 위한 유통이력 신고기능 고도화</li></ul></li><li>수입수산물 유통이력 업무 시스템 고도화<ul><li>유통이력 실태점검 기능 고도화</li><li>유통이력 모니터링 검색기능 고도화</li><li>위해수산물 유통 검색엔진 프로그램 개발</li><li>유통이력 추적관리 기능 개선</li><li>업무사용자 편의성 향상을 위한 유통이력 추적관리 기능 개선</li></ul></li><li>GIS기반 유통이력 추적관리 모니터링 시스템 구축<ul><li>대시보드 형태 GIS 추적모니터링 프로그램 개발</li><li>GIS 기반 통합검색 기능 개발</li></ul></li><li>온라인 교육용 컨텐츠 관리시스템 구축<ul><li>동영상 재생관리 프로그램 개발</li><li>통계프로그램 개발</li></ul></li><li>유전자원관리 정보시스템 구축</li></ul>'}],\n",
       "  'impact': []}]"
      ]
     },
     "execution_count": 9,
     "metadata": {},
     "output_type": "execute_result"
    }
   ],
   "source": [
    "previous_instances = [\n",
    "    instance\n",
    "]\n",
    "\n",
    "previous_instances = [\n",
    "    x.model_dump() for x in previous_instances\n",
    "]\n",
    "previous_instances"
   ]
  },
  {
   "cell_type": "code",
   "execution_count": 10,
   "metadata": {},
   "outputs": [
    {
     "data": {
      "text/plain": [
       "{'previous_instances': '[{\"uuid\": \"055b4762-a2a0-4b2a-91ef-51566cd8471a\", \"background\": [{\"uuid\": \"87f6a63b-1604-410d-afbb-f3d731727bbf\", \"value\": \"<ul><li>통관 후 유통 중인 수입수산물에 대한 관리체계 고도화 필요<ul><li>유통 중인 수입수산물이 안전검사에 불합격하거나 위해사고가 발생된 경우 유통경로를 역추적, 회수하기 위한 통합 모니터링 시스템 구축 필요</li><li>수산물 안전관리의 실효성을 높이기 위하여 선제적인 위해 수산물 차단 및 회수 체계 시스템 필요</li></ul></li><li>최신 기술 트랜드를 반영하여 관계기관 간 협력과 정보공유를 위한 시스템 고도화 필요</li></ul>\"}], \"scope\": [{\"uuid\": \"5a876c79-ce74-4581-826a-d14d159d94c5\", \"value\": \"<ul><li>수입수산물 유통 영업자 시스템 고도화<ul><li>상위업체 유통이력 등록요청관리 프로그램 개발</li><li>유통업체 ERP 시스템 연동 프로그램 개발</li><li>사용자 편의성 향상을 위한 유통이력 신고기능 고도화</li></ul></li><li>수입수산물 유통이력 업무 시스템 고도화<ul><li>유통이력 실태점검 기능 고도화</li><li>유통이력 모니터링 검색기능 고도화</li><li>위해수산물 유통 검색엔진 프로그램 개발</li><li>유통이력 추적관리 기능 개선</li><li>업무사용자 편의성 향상을 위한 유통이력 추적관리 기능 개선</li></ul></li><li>GIS기반 유통이력 추적관리 모니터링 시스템 구축<ul><li>대시보드 형태 GIS 추적모니터링 프로그램 개발</li><li>GIS 기반 통합검색 기능 개발</li></ul></li><li>온라인 교육용 컨텐츠 관리시스템 구축<ul><li>동영상 재생관리 프로그램 개발</li><li>통계프로그램 개발</li></ul></li><li>유전자원관리 정보시스템 구축</li></ul>\"}], \"impact\": []}]'}"
      ]
     },
     "execution_count": 10,
     "metadata": {},
     "output_type": "execute_result"
    }
   ],
   "source": [
    "contents = {\n",
    "    \"previous_instances\": json.dumps(previous_instances, ensure_ascii=False)\n",
    "}\n",
    "contents"
   ]
  },
  {
   "cell_type": "markdown",
   "metadata": {},
   "source": [
    "# 3. LLM call"
   ]
  },
  {
   "cell_type": "code",
   "execution_count": 11,
   "metadata": {},
   "outputs": [],
   "source": [
    "from config import get_settings\n",
    "settings = get_settings()"
   ]
  },
  {
   "cell_type": "code",
   "execution_count": 12,
   "metadata": {},
   "outputs": [],
   "source": [
    "sample_fname = \"rfp_abstract_sample1\"\n",
    "with open(f\"samples/{sample_fname}.yaml\", \"r\") as fr:\n",
    "    sample_dict = yaml.safe_load(fr)\n",
    "\n",
    "text = sample_dict[\"text\"]"
   ]
  },
  {
   "cell_type": "code",
   "execution_count": 13,
   "metadata": {},
   "outputs": [
    {
     "name": "stdout",
     "output_type": "stream",
     "text": [
      "파싱 결과:\n",
      "\"Ⅰ. 사업개요\n",
      "1. 사업 기본정보\n",
      "ㅇ 사 업 명 : 수입수산물 유통이력 관리시스템 고도화\n",
      "ㅇ 사업기간 : 계약 후 240일(SW개발사업 적정사업기간 산정기준에 따른 사업임)\n",
      "ㅇ 소요예산 : 550,000,000원(부가세 포함)\n",
      "ㅇ 계약방법 : 제한경쟁입찰(협상에 의한 계약)\n",
      "2. 추진 배경 및 필요성\n",
      "ㅇ 통관 후 유통 중인 수입수산물에 대한 관리체계 고도화 필요\n",
      "- 유통 중인 수입수산물이 안전검사에 불합격하거나 위해사고가 발생된 경우 유통경로를 역추적, 회수하기 위한 통합 모니터링 시스템 구축 필요\n",
      "- 수산물 안전관리의 실효성을 높이기 위하여 선제적인 위해 수산물 차단 및 회수 체계 시스템 필요\n",
      "ㅇ 최신 기술 트랜드를 반영하여 관계기관 간 협력과 정보공유를 위한 시스템 고도화 필요\n",
      "- 최신 기술의 적절한 활용을 통한 시스템 효율성 증대\n",
      "- 4차산업 혁명 시대에 부응하기 위해 사용자 중심의 정보고유/가치화를 위한 시스템 고도화 필요\n",
      "3. 사업 범위\n",
      "ㅇ 수입수산물 유통 영업자 시스템 고도화\n",
      "- 상위업체 유통이력 등록요청관리 프로그램 개발\n",
      "유통업체 ERP 시스템 연동 프로그램 개발\n",
      "사용자 편의성 향상을 위한 유통이력 신고기능 고도화\n",
      "ㅇ 수입수산물 유통이력 업무 시스템 고도화\n",
      "- 유통이력 실태점검 기능 고도화\n",
      "유통이력 모니터링 검색기능 고도화\n",
      "위해수산물 유통 검색엔진 프로그램 개발\n",
      "유통이력 추적관리 기능 개선\n",
      "업무사용자 편의성 향상을 위한 유통이력 추적관리 기능 개선\n",
      "ㅇ GIS기반 유통이력 추적관리 모니터링 시스템 구축\n",
      "- 대시보드 형태 GIS 추적모니터링 프로그램 개발\n",
      "GIS 기반 통합검색 기능 개발\n",
      "ㅇ 온라인 교육용 컨텐츠 관리시스템 구축\n",
      "- 동영상 재생관리 프로그램 개발\n",
      "- 통계프로그램 개발\n",
      "ㅇ 유전자원관리 정보시스템 구축\n",
      "- 매년 조사∙갱신되는 수산물에 대한 염기서열 등의 DB구축\n",
      "- 유전자(염기서열) 정보의 검색 및 데이터베이스 현황 제공\"\n",
      "\n",
      "기존 추출 결과:\n",
      "[{\"uuid\": \"055b4762-a2a0-4b2a-91ef-51566cd8471a\", \"background\": [{\"uuid\": \"87f6a63b-1604-410d-afbb-f3d731727bbf\", \"value\": \"<ul><li>통관 후 유통 중인 수입수산물에 대한 관리체계 고도화 필요<ul><li>유통 중인 수입수산물이 안전검사에 불합격하거나 위해사고가 발생된 경우 유통경로를 역추적, 회수하기 위한 통합 모니터링 시스템 구축 필요</li><li>수산물 안전관리의 실효성을 높이기 위하여 선제적인 위해 수산물 차단 및 회수 체계 시스템 필요</li></ul></li><li>최신 기술 트랜드를 반영하여 관계기관 간 협력과 정보공유를 위한 시스템 고도화 필요</li></ul>\"}], \"scope\": [{\"uuid\": \"5a876c79-ce74-4581-826a-d14d159d94c5\", \"value\": \"<ul><li>수입수산물 유통 영업자 시스템 고도화<ul><li>상위업체 유통이력 등록요청관리 프로그램 개발</li><li>유통업체 ERP 시스템 연동 프로그램 개발</li><li>사용자 편의성 향상을 위한 유통이력 신고기능 고도화</li></ul></li><li>수입수산물 유통이력 업무 시스템 고도화<ul><li>유통이력 실태점검 기능 고도화</li><li>유통이력 모니터링 검색기능 고도화</li><li>위해수산물 유통 검색엔진 프로그램 개발</li><li>유통이력 추적관리 기능 개선</li><li>업무사용자 편의성 향상을 위한 유통이력 추적관리 기능 개선</li></ul></li><li>GIS기반 유통이력 추적관리 모니터링 시스템 구축<ul><li>대시보드 형태 GIS 추적모니터링 프로그램 개발</li><li>GIS 기반 통합검색 기능 개발</li></ul></li><li>온라인 교육용 컨텐츠 관리시스템 구축<ul><li>동영상 재생관리 프로그램 개발</li><li>통계프로그램 개발</li></ul></li><li>유전자원관리 정보시스템 구축</li></ul>\"}], \"impact\": []}]\n"
     ]
    }
   ],
   "source": [
    "system_msg = copy.deepcopy(SYSTEM_INSTRUCTION)\n",
    "\n",
    "user_msg = copy.deepcopy(USER_TEMPLATE).format(\n",
    "    text=text,\n",
    "    previous_instances=json.dumps(previous_instances, ensure_ascii=False)\n",
    ")\n",
    "\n",
    "print(user_msg)"
   ]
  },
  {
   "cell_type": "code",
   "execution_count": 14,
   "metadata": {},
   "outputs": [
    {
     "data": {
      "text/plain": [
       "[{'role': 'system',\n",
       "  'content': '## Instance 설명\\n이 과정을 추출 결과를 업데이트 해나가는 방식으로 추출하려고 합니다.\\n\\'Instance\\'는 정보의 단위 입니다. 같은 정보의 단위는 Instance로 묶도록 합니다.\\n\\n주어진 기존 instance 추출 결과를 보고 다음 InstanceOperation중 하나를 수행하세요\\n* create: 기존과 구분되는 새로운 instance 1개를 새로 정의하여 추가합니다\\n* refine: 수정이 필요한 기존 instance 하나를 uuid 기반으로 선택 후 수정이 필요한 값에 대한 RefinementOperation을 수행하세요\\n\\nRefinementOperation은 다음과 같습니다\\n* edit: 기존 값을 수정\\n    * ex. 중간에 값을 추가하여 기존 값을 수정해야 하는 경우\\n    * 수정하는 InstanceColumn의 uuid를 꼭 기입하세요\\n* append: 추가적인 값을 instance 컬럼에 추가\\n    * uuid를 빈칸으로 기입합니다.\\n\\n## 정보 추출 성명\\n다음은 사업의 제안 요청서 파일에서 읽은 문서 파일 파싱 결과와 중간 추출 결과입니다.\\n파싱 결과는 과제의 개요에 대한 다음 3가지 정보들을 포함할 수 있습니다.\\n정보 카테고리:\\n1. 추진 배경 및 필요성 (background)\\n* 제안 공고를 올리게 된 이유, 배경 상황\\n* 사업으로 달성하고자 하는 목적 내용 (기대 효과와는 다르다)\\n* 사업 (추진) 목적도 이런 정보를 담고 있다\\n* 주로 \\'추진 배경\\', \\'필요성\\'의 하위 내용들이다\\n2. 사업 범위 (scope)\\n* 사업(과업)을 통해서 개발하려고 하는 내용\\n* 실질적으로 개발하려는 내용\\n* 주로 \\'사업 범위\\', \\'사업 내용\\', \\'추진 내용\\'과 같은 정보로 언급됨\\n3. 기대 효과 (impact)\\n* 사업을 통해서 기대하는 효과\\n\\n최종적으로 위 정보를 다음 JSON 스키마로 추출하려고 합니다.\\n스키마:\\n{{\"background\": str, \"scope\": str, \"impact\": str}\\n\\n규칙:\\n* background, scope, impact는 파싱 결과에서 해당 카테고리에 해당되는 내용을 찾아서 모두 추출합니다.\\n* 이 내용들은 요약하지 않으며 파싱 결과에 사용된 표현들 그대로 추출합니다.\\n* 필요없는 정보는 추출하지 않고 정보 카테고리로 정의된 관련 내용만 추출하도록 합니다.\\n* 파싱 결과에서 테이블은 \"<|start_table|>..<|end_table|>\" 처럼 감싸져 있습니다\\n* 테이블이 근거자료와 같이 부가적인 정보를 가지는 경우 참고만 하고 굳이 추출하지는 않습니다\\n* 정보 카테고리에 핵심적인 내용이 있는 경우만 추출합니다. 이때 표의 구조를 고려하여 상위 항목/하위 항목 카테고리화를 살리도록 합니다.\\n* 사업명, 기간, 예산, 계약 방법등의 내용은 뽑지 않도록 합니다\\n* background, scope, impact 정보와 같이 \\'ㅇ\\'와 \\'-\\'등으로 나열된 정보의 경우는 계층을 살려서 \\'html 리스트 문법\\'으로 바꿔 주세요 (ex. \"<ul><li>...</ul>\", \"<ol><li>..</ol>\")\\n* 리스트의 계층 (depth) 정보는 ul/ol 태그를 사용하여 상위-하위 항목의 관계를 꼭 살리도록 합니다.\\n* 새로운 정보를 \\'계층에 맞게\\' ul li 아래에 끼워넣어야 한다면 RefinementOperation을 append가 아닌 \\'edit\\'을 합니다\\n* 순서 정보가 필요한 경우만 ol로 표기합니다\\n* 상위, 하위 항목 내용은 모두 추출 합니다.\\n상위/하위 정보 예시:\\n\"1. 상위 정보\\n2. 상위정보2\\n\\tㅇ 하위 정보 1\\n\\tㅇ 하위 정보 2..\\n□. 상위정보3\"\\n-> \"<ol><li>상위 정보</li><li>상위정보2<ul><li>하위 정보 1</li><li>하위 정보 2</li></ol><ul><li>상위정보3</li></ul>\"\\n* 카테고리에 해당되는 내용이 없다면 스트링을 비워 주세요\\n\\n## 최종 스키마\\n최종 다음 스키마대로 추출하세요\\n{\\'$defs\\': {\\'InformationColumn\\': {\\'enum\\': [\\'background\\', \\'scope\\', \\'impact\\'],\\n\\'title\\': \\'InformationColumn\\',\\n\\'type\\': \\'string\\'},\\n\\'Instance\\': {\\'additionalProperties\\': False,\\n\\'properties\\': {\\'background\\': {\\'title\\': \\'Background\\', \\'type\\': \\'string\\'},\\n\\'scope\\': {\\'title\\': \\'Scope\\', \\'type\\': \\'string\\'},\\n\\'impact\\': {\\'title\\': \\'Impact\\', \\'type\\': \\'string\\'}},\\n\\'required\\': [\\'background\\', \\'scope\\', \\'impact\\'],\\n\\'title\\': \\'Instance\\',\\n\\'type\\': \\'object\\'},\\n\\'InstanceCreation\\': {\\'properties\\': {\\'instance\\': {\\'$ref\\': \\'#/$defs/Instance\\'}},\\n\\'required\\': [\\'instance\\'],\\n\\'title\\': \\'InstanceCreation\\',\\n\\'type\\': \\'object\\'},\\n\\'InstanceOperation\\': {\\'properties\\': {\\'type\\': {\\'$ref\\': \\'#/$defs/InstanceOperationType\\'},\\n\\'uuid\\': {\\'title\\': \\'Uuid\\', \\'type\\': \\'string\\'},\\n\\'operation\\': {\\'anyOf\\': [{\\'$ref\\': \\'#/$defs/InstanceCreation\\'},\\n    {\\'$ref\\': \\'#/$defs/InstanceRefinements\\'}],\\n    \\'title\\': \\'Operation\\'}},\\n\\'required\\': [\\'type\\', \\'uuid\\', \\'operation\\'],\\n\\'title\\': \\'InstanceOperation\\',\\n\\'type\\': \\'object\\'},\\n\\'InstanceOperationType\\': {\\'enum\\': [\\'create\\', \\'refine\\'],\\n\\'title\\': \\'InstanceOperationType\\',\\n\\'type\\': \\'string\\'},\\n\\'InstanceRefinement\\': {\\'properties\\': {\\'operation_type\\': {\\'$ref\\': \\'#/$defs/RefinementOperationType\\'},\\n\\'column\\': {\\'$ref\\': \\'#/$defs/InformationColumn\\'},\\n\\'value\\': {\\'title\\': \\'Value\\', \\'type\\': \\'string\\'}},\\n\\'required\\': [\\'operation_type\\', \\'column\\', \\'value\\'],\\n\\'title\\': \\'InstanceRefinement\\',\\n\\'type\\': \\'object\\'},\\n\\'InstanceRefinements\\': {\\'properties\\': {\\'refinements\\': {\\'items\\': {\\'$ref\\': \\'#/$defs/InstanceRefinement\\'},\\n    \\'title\\': \\'Refinements\\',\\n    \\'type\\': \\'array\\'}},\\n\\'required\\': [\\'refinements\\'],\\n\\'title\\': \\'InstanceRefinements\\',\\n\\'type\\': \\'object\\'},\\n\\'RefinementOperationType\\': {\\'enum\\': [\\'edit\\', \\'append\\'],\\n\\'title\\': \\'RefinementOperationType\\',\\n\\'type\\': \\'string\\'}},\\n\\'properties\\': {\\'operations\\': {\\'items\\': {\\'$ref\\': \\'#/$defs/InstanceOperation\\'},\\n\\'title\\': \\'Operations\\',\\n\\'type\\': \\'array\\'}},\\n\\'required\\': [\\'operations\\'],\\n\\'title\\': \\'InstanceOperations\\',\\n\\'type\\': \\'object\\'}'},\n",
       " {'role': 'user',\n",
       "  'content': '파싱 결과:\\n\"Ⅰ. 사업개요\\n1. 사업 기본정보\\nㅇ 사 업 명 : 수입수산물 유통이력 관리시스템 고도화\\nㅇ 사업기간 : 계약 후 240일(SW개발사업 적정사업기간 산정기준에 따른 사업임)\\nㅇ 소요예산 : 550,000,000원(부가세 포함)\\nㅇ 계약방법 : 제한경쟁입찰(협상에 의한 계약)\\n2. 추진 배경 및 필요성\\nㅇ 통관 후 유통 중인 수입수산물에 대한 관리체계 고도화 필요\\n- 유통 중인 수입수산물이 안전검사에 불합격하거나 위해사고가 발생된 경우 유통경로를 역추적, 회수하기 위한 통합 모니터링 시스템 구축 필요\\n- 수산물 안전관리의 실효성을 높이기 위하여 선제적인 위해 수산물 차단 및 회수 체계 시스템 필요\\nㅇ 최신 기술 트랜드를 반영하여 관계기관 간 협력과 정보공유를 위한 시스템 고도화 필요\\n- 최신 기술의 적절한 활용을 통한 시스템 효율성 증대\\n- 4차산업 혁명 시대에 부응하기 위해 사용자 중심의 정보고유/가치화를 위한 시스템 고도화 필요\\n3. 사업 범위\\nㅇ 수입수산물 유통 영업자 시스템 고도화\\n- 상위업체 유통이력 등록요청관리 프로그램 개발\\n유통업체 ERP 시스템 연동 프로그램 개발\\n사용자 편의성 향상을 위한 유통이력 신고기능 고도화\\nㅇ 수입수산물 유통이력 업무 시스템 고도화\\n- 유통이력 실태점검 기능 고도화\\n유통이력 모니터링 검색기능 고도화\\n위해수산물 유통 검색엔진 프로그램 개발\\n유통이력 추적관리 기능 개선\\n업무사용자 편의성 향상을 위한 유통이력 추적관리 기능 개선\\nㅇ GIS기반 유통이력 추적관리 모니터링 시스템 구축\\n- 대시보드 형태 GIS 추적모니터링 프로그램 개발\\nGIS 기반 통합검색 기능 개발\\nㅇ 온라인 교육용 컨텐츠 관리시스템 구축\\n- 동영상 재생관리 프로그램 개발\\n- 통계프로그램 개발\\nㅇ 유전자원관리 정보시스템 구축\\n- 매년 조사∙갱신되는 수산물에 대한 염기서열 등의 DB구축\\n- 유전자(염기서열) 정보의 검색 및 데이터베이스 현황 제공\"\\n\\n기존 추출 결과:\\n[{\"uuid\": \"055b4762-a2a0-4b2a-91ef-51566cd8471a\", \"background\": [{\"uuid\": \"87f6a63b-1604-410d-afbb-f3d731727bbf\", \"value\": \"<ul><li>통관 후 유통 중인 수입수산물에 대한 관리체계 고도화 필요<ul><li>유통 중인 수입수산물이 안전검사에 불합격하거나 위해사고가 발생된 경우 유통경로를 역추적, 회수하기 위한 통합 모니터링 시스템 구축 필요</li><li>수산물 안전관리의 실효성을 높이기 위하여 선제적인 위해 수산물 차단 및 회수 체계 시스템 필요</li></ul></li><li>최신 기술 트랜드를 반영하여 관계기관 간 협력과 정보공유를 위한 시스템 고도화 필요</li></ul>\"}], \"scope\": [{\"uuid\": \"5a876c79-ce74-4581-826a-d14d159d94c5\", \"value\": \"<ul><li>수입수산물 유통 영업자 시스템 고도화<ul><li>상위업체 유통이력 등록요청관리 프로그램 개발</li><li>유통업체 ERP 시스템 연동 프로그램 개발</li><li>사용자 편의성 향상을 위한 유통이력 신고기능 고도화</li></ul></li><li>수입수산물 유통이력 업무 시스템 고도화<ul><li>유통이력 실태점검 기능 고도화</li><li>유통이력 모니터링 검색기능 고도화</li><li>위해수산물 유통 검색엔진 프로그램 개발</li><li>유통이력 추적관리 기능 개선</li><li>업무사용자 편의성 향상을 위한 유통이력 추적관리 기능 개선</li></ul></li><li>GIS기반 유통이력 추적관리 모니터링 시스템 구축<ul><li>대시보드 형태 GIS 추적모니터링 프로그램 개발</li><li>GIS 기반 통합검색 기능 개발</li></ul></li><li>온라인 교육용 컨텐츠 관리시스템 구축<ul><li>동영상 재생관리 프로그램 개발</li><li>통계프로그램 개발</li></ul></li><li>유전자원관리 정보시스템 구축</li></ul>\"}], \"impact\": []}]'}]"
      ]
     },
     "execution_count": 14,
     "metadata": {},
     "output_type": "execute_result"
    }
   ],
   "source": [
    "messages = [\n",
    "    {\"role\": \"system\", \"content\": system_msg},\n",
    "    {\"role\": \"user\", \"content\": user_msg},\n",
    "]\n",
    "messages"
   ]
  },
  {
   "cell_type": "code",
   "execution_count": 15,
   "metadata": {},
   "outputs": [],
   "source": [
    "## call generation\n",
    "from openai_client import OpenAIClient"
   ]
  },
  {
   "cell_type": "code",
   "execution_count": 16,
   "metadata": {},
   "outputs": [],
   "source": [
    "client = OpenAIClient()"
   ]
  },
  {
   "cell_type": "code",
   "execution_count": 17,
   "metadata": {},
   "outputs": [],
   "source": [
    "result = await client.chat_completion_with_json_schema(\n",
    "    response_format=InstanceOperations,\n",
    "    messages=messages,\n",
    "    model=\"gpt-4o-mini-2024-07-18\",\n",
    "    # model=\"gpt-4o\",\n",
    "    decode_params={\n",
    "        \"temperature\": 0.3,\n",
    "        \"top_p\": 1.0,\n",
    "        # \"max_completion_tokens\": 16000\n",
    "    }\n",
    ")"
   ]
  },
  {
   "cell_type": "code",
   "execution_count": 19,
   "metadata": {},
   "outputs": [
    {
     "name": "stdout",
     "output_type": "stream",
     "text": [
      "{\n",
      "\t\"operations\": [\n",
      "\t\t{\n",
      "\t\t\t\"type\": \"refine\",\n",
      "\t\t\t\"uuid\": \"055b4762-a2a0-4b2a-91ef-51566cd8471a\",\n",
      "\t\t\t\"operation\": {\n",
      "\t\t\t\t\"refinements\": [\n",
      "\t\t\t\t\t{\n",
      "\t\t\t\t\t\t\"operation_type\": \"append\",\n",
      "\t\t\t\t\t\t\"uuid\": \"\",\n",
      "\t\t\t\t\t\t\"column\": \"impact\",\n",
      "\t\t\t\t\t\t\"value\": \"<ul><li>4차산업 혁명 시대에 부응하기 위해 사용자 중심의 정보고유/가치화를 위한 시스템 고도화 필요</li></ul>\"\n",
      "\t\t\t\t\t}\n",
      "\t\t\t\t]\n",
      "\t\t\t}\n",
      "\t\t}\n",
      "\t]\n",
      "}\n"
     ]
    }
   ],
   "source": [
    "operations = json.loads(result)\n",
    "print(json.dumps(operations, indent = \"\\t\", ensure_ascii=False))"
   ]
  }
 ],
 "metadata": {
  "kernelspec": {
   "display_name": "llm",
   "language": "python",
   "name": "llm"
  },
  "language_info": {
   "codemirror_mode": {
    "name": "ipython",
    "version": 3
   },
   "file_extension": ".py",
   "mimetype": "text/x-python",
   "name": "python",
   "nbconvert_exporter": "python",
   "pygments_lexer": "ipython3",
   "version": "3.10.14"
  }
 },
 "nbformat": 4,
 "nbformat_minor": 2
}
