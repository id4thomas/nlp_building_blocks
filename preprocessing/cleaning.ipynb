{
 "cells": [
  {
   "cell_type": "code",
   "execution_count": 1,
   "metadata": {},
   "outputs": [],
   "source": [
    "from nltk.util import ngrams, bigrams, trigrams\n",
    "from nltk.tokenize import word_tokenize,sent_tokenize\n",
    "import string\n",
    "from nltk.corpus import stopwords\n",
    "\n",
    "import pandas as pd"
   ]
  },
  {
   "cell_type": "code",
   "execution_count": 15,
   "metadata": {},
   "outputs": [],
   "source": [
    "def remove_punctuation(text):\n",
    "    tokens=word_tokenize(text)\n",
    "    no_punct=[words for words in tokens if words not in string.punctuation]\n",
    "    words_wo_punct=' '.join(no_punct)\n",
    "    # no_punct=[words for words in text if words not in string.punctuation]\n",
    "    # words_wo_punct=''.join(no_punct)\n",
    "    return words_wo_punct\n",
    "\n",
    "def remove_stopwords(text):\n",
    "    tokens=word_tokenize(text)\n",
    "    no_stop=[word for word in tokens if word not in set(stopwords.words('english'))]\n",
    "    words_wo_stop=' '.join(no_stop)\n",
    "    return words_wo_stop\n"
   ]
  },
  {
   "cell_type": "code",
   "execution_count": 3,
   "metadata": {},
   "outputs": [],
   "source": [
    "documents=[\"This is sentence 1, but it may be wrong.\",\"Well i'm not sure about the story nad it did seem biased.\"]\n",
    "\n",
    "df=pd.DataFrame({'document':documents})"
   ]
  },
  {
   "cell_type": "code",
   "execution_count": 19,
   "metadata": {},
   "outputs": [
    {
     "name": "stdout",
     "output_type": "stream",
     "text": [
      "0               This is sentence 1 but it may be wrong\n",
      "1    Well i 'm not sure about the story nad it did ...\n",
      "Name: doc_no_punct, dtype: object\n"
     ]
    }
   ],
   "source": [
    "#Remove Punctutation\n",
    "df['doc_no_punct']  = df['document'].map(lambda x : (remove_punctuation(x)))\n",
    "print(df['doc_no_punct'])\n"
   ]
  },
  {
   "cell_type": "code",
   "execution_count": 20,
   "metadata": {},
   "outputs": [
    {
     "name": "stdout",
     "output_type": "stream",
     "text": [
      "0           This sentence 1 , may wrong .\n",
      "1    Well 'm sure story nad seem biased .\n",
      "Name: doc_no_stop, dtype: object\n"
     ]
    }
   ],
   "source": [
    "df['doc_no_stop']  = df['document'].map(lambda x : (remove_stopwords(x)))\n",
    "print(df['doc_no_stop'])"
   ]
  }
 ],
 "metadata": {
  "interpreter": {
   "hash": "490463624bb20166a8667b7fa728dcad49f92cff15a6e94f417ad6118e23fbcd"
  },
  "kernelspec": {
   "display_name": "Python 3.8.8 64-bit ('comet2020': conda)",
   "language": "python",
   "name": "python3"
  },
  "language_info": {
   "codemirror_mode": {
    "name": "ipython",
    "version": 3
   },
   "file_extension": ".py",
   "mimetype": "text/x-python",
   "name": "python",
   "nbconvert_exporter": "python",
   "pygments_lexer": "ipython3",
   "version": "3.8.8"
  },
  "orig_nbformat": 4
 },
 "nbformat": 4,
 "nbformat_minor": 2
}
