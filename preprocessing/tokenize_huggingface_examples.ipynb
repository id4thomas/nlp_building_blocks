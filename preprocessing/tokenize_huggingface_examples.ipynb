{
 "cells": [
  {
   "cell_type": "code",
   "execution_count": 18,
   "metadata": {},
   "outputs": [],
   "source": [
    "# Import Tokenizers\n",
    "from transformers import BartTokenizer,BertTokenizer,GPT2Tokenizer,RobertaTokenizer,T5Tokenizer,XLNetTokenizer"
   ]
  },
  {
   "cell_type": "code",
   "execution_count": 19,
   "metadata": {},
   "outputs": [],
   "source": [
    "input_sent1=\"This is sample sentence 1.\"\n",
    "input_sent2=\"This is another.\"\n",
    "input_sents=[input_sent1,input_sent2]"
   ]
  },
  {
   "cell_type": "code",
   "execution_count": 20,
   "metadata": {},
   "outputs": [],
   "source": [
    "def get_tokenized_out(sents,tokenizer):\n",
    "    tokenized=tokenizer(sents,padding=True)\n",
    "    print(tokenized)\n",
    "\n",
    "    #Decoded\n",
    "    print(tokenizer.convert_ids_to_tokens(tokenized[\"input_ids\"][0]))\n",
    "    print(tokenizer.convert_ids_to_tokens(tokenized[\"input_ids\"][1]))"
   ]
  },
  {
   "cell_type": "code",
   "execution_count": 21,
   "metadata": {},
   "outputs": [
    {
     "name": "stdout",
     "output_type": "stream",
     "text": [
      "{'input_ids': [[0, 713, 16, 7728, 3645, 112, 4, 2], [0, 713, 16, 277, 4, 2, 1, 1]], 'attention_mask': [[1, 1, 1, 1, 1, 1, 1, 1], [1, 1, 1, 1, 1, 1, 0, 0]]}\n",
      "['<s>', 'This', 'Ġis', 'Ġsample', 'Ġsentence', 'Ġ1', '.', '</s>']\n",
      "['<s>', 'This', 'Ġis', 'Ġanother', '.', '</s>', '<pad>', '<pad>']\n"
     ]
    }
   ],
   "source": [
    "tokenizer=BartTokenizer.from_pretrained(\"facebook/bart-large\")\n",
    "get_tokenized_out(input_sents,tokenizer)"
   ]
  },
  {
   "cell_type": "code",
   "execution_count": 22,
   "metadata": {},
   "outputs": [
    {
     "name": "stdout",
     "output_type": "stream",
     "text": [
      "{'input_ids': [[101, 2023, 2003, 7099, 6251, 1015, 1012, 102], [101, 2023, 2003, 2178, 1012, 102, 0, 0]], 'token_type_ids': [[0, 0, 0, 0, 0, 0, 0, 0], [0, 0, 0, 0, 0, 0, 0, 0]], 'attention_mask': [[1, 1, 1, 1, 1, 1, 1, 1], [1, 1, 1, 1, 1, 1, 0, 0]]}\n",
      "['[CLS]', 'this', 'is', 'sample', 'sentence', '1', '.', '[SEP]']\n",
      "['[CLS]', 'this', 'is', 'another', '.', '[SEP]', '[PAD]', '[PAD]']\n"
     ]
    }
   ],
   "source": [
    "tokenizer = BertTokenizer.from_pretrained('bert-base-uncased')\n",
    "get_tokenized_out(input_sents,tokenizer)"
   ]
  },
  {
   "cell_type": "code",
   "execution_count": 23,
   "metadata": {},
   "outputs": [
    {
     "name": "stdout",
     "output_type": "stream",
     "text": [
      "{'input_ids': [[1212, 318, 6291, 6827, 352, 13], [1212, 318, 1194, 13, 50257, 50257]], 'attention_mask': [[1, 1, 1, 1, 1, 1], [1, 1, 1, 1, 0, 0]]}\n",
      "['This', 'Ġis', 'Ġsample', 'Ġsentence', 'Ġ1', '.']\n",
      "['This', 'Ġis', 'Ġanother', '.', '[PAD]', '[PAD]']\n"
     ]
    }
   ],
   "source": [
    "tokenizer = GPT2Tokenizer.from_pretrained(\"gpt2\")\n",
    "#GPT2 doesn't have padding token\n",
    "tokenizer.add_special_tokens({'pad_token': '[PAD]'})\n",
    "get_tokenized_out(input_sents,tokenizer)"
   ]
  },
  {
   "cell_type": "code",
   "execution_count": 24,
   "metadata": {},
   "outputs": [
    {
     "name": "stdout",
     "output_type": "stream",
     "text": [
      "{'input_ids': [[0, 713, 16, 7728, 3645, 112, 4, 2], [0, 713, 16, 277, 4, 2, 1, 1]], 'attention_mask': [[1, 1, 1, 1, 1, 1, 1, 1], [1, 1, 1, 1, 1, 1, 0, 0]]}\n",
      "['<s>', 'This', 'Ġis', 'Ġsample', 'Ġsentence', 'Ġ1', '.', '</s>']\n",
      "['<s>', 'This', 'Ġis', 'Ġanother', '.', '</s>', '<pad>', '<pad>']\n"
     ]
    }
   ],
   "source": [
    "tokenizer = RobertaTokenizer.from_pretrained(\"roberta-base\")\n",
    "get_tokenized_out(input_sents,tokenizer)"
   ]
  },
  {
   "cell_type": "code",
   "execution_count": 25,
   "metadata": {},
   "outputs": [
    {
     "name": "stdout",
     "output_type": "stream",
     "text": [
      "{'input_ids': [[100, 19, 3106, 7142, 1300, 1], [100, 19, 430, 5, 1, 0]], 'attention_mask': [[1, 1, 1, 1, 1, 1], [1, 1, 1, 1, 1, 0]]}\n",
      "['▁This', '▁is', '▁sample', '▁sentence', '▁1.', '</s>']\n",
      "['▁This', '▁is', '▁another', '.', '</s>', '<pad>']\n"
     ]
    }
   ],
   "source": [
    "tokenizer = T5Tokenizer.from_pretrained(\"t5-small\")\n",
    "get_tokenized_out(input_sents,tokenizer)"
   ]
  },
  {
   "cell_type": "code",
   "execution_count": 26,
   "metadata": {},
   "outputs": [
    {
     "name": "stdout",
     "output_type": "stream",
     "text": [
      "{'input_ids': [[122, 27, 4561, 3833, 156, 9, 4, 3], [5, 5, 122, 27, 245, 9, 4, 3]], 'token_type_ids': [[0, 0, 0, 0, 0, 0, 0, 2], [3, 3, 0, 0, 0, 0, 0, 2]], 'attention_mask': [[1, 1, 1, 1, 1, 1, 1, 1], [0, 0, 1, 1, 1, 1, 1, 1]]}\n",
      "['▁This', '▁is', '▁sample', '▁sentence', '▁1', '.', '<sep>', '<cls>']\n",
      "['<pad>', '<pad>', '▁This', '▁is', '▁another', '.', '<sep>', '<cls>']\n"
     ]
    }
   ],
   "source": [
    "tokenizer = XLNetTokenizer.from_pretrained('xlnet-base-cased')\n",
    "get_tokenized_out(input_sents,tokenizer)"
   ]
  }
 ],
 "metadata": {
  "interpreter": {
   "hash": "490463624bb20166a8667b7fa728dcad49f92cff15a6e94f417ad6118e23fbcd"
  },
  "kernelspec": {
   "display_name": "Python 3.8.8 64-bit ('comet2020': conda)",
   "language": "python",
   "name": "python3"
  },
  "language_info": {
   "codemirror_mode": {
    "name": "ipython",
    "version": 3
   },
   "file_extension": ".py",
   "mimetype": "text/x-python",
   "name": "python",
   "nbconvert_exporter": "python",
   "pygments_lexer": "ipython3",
   "version": "3.8.8"
  },
  "orig_nbformat": 4
 },
 "nbformat": 4,
 "nbformat_minor": 2
}
