{
 "cells": [
  {
   "cell_type": "code",
   "execution_count": 1,
   "metadata": {},
   "outputs": [],
   "source": [
    "import numpy as np\n",
    "import pandas as pd\n",
    "from sklearn.datasets import fetch_20newsgroups\n",
    "import matplotlib.pyplot as plt\n",
    "import nltk"
   ]
  },
  {
   "cell_type": "code",
   "execution_count": 17,
   "metadata": {},
   "outputs": [],
   "source": [
    "from nltk.util import ngrams, bigrams, trigrams\n",
    "from nltk.tokenize import word_tokenize,sent_tokenize"
   ]
  },
  {
   "cell_type": "code",
   "execution_count": 2,
   "metadata": {},
   "outputs": [],
   "source": [
    "dataset = fetch_20newsgroups(shuffle=True, random_state=1, remove=('headers', 'footers', 'quotes'))"
   ]
  },
  {
   "cell_type": "code",
   "execution_count": 4,
   "metadata": {},
   "outputs": [
    {
     "name": "stdout",
     "output_type": "stream",
     "text": [
      "dict_keys(['data', 'filenames', 'target_names', 'target', 'DESCR'])\n"
     ]
    }
   ],
   "source": [
    "print(dataset.keys())"
   ]
  },
  {
   "cell_type": "code",
   "execution_count": 5,
   "metadata": {},
   "outputs": [
    {
     "name": "stdout",
     "output_type": "stream",
     "text": [
      "# of Documents 11314\n",
      "Categories ['alt.atheism', 'comp.graphics', 'comp.os.ms-windows.misc', 'comp.sys.ibm.pc.hardware', 'comp.sys.mac.hardware', 'comp.windows.x', 'misc.forsale', 'rec.autos', 'rec.motorcycles', 'rec.sport.baseball', 'rec.sport.hockey', 'sci.crypt', 'sci.electronics', 'sci.med', 'sci.space', 'soc.religion.christian', 'talk.politics.guns', 'talk.politics.mideast', 'talk.politics.misc', 'talk.religion.misc']\n"
     ]
    }
   ],
   "source": [
    "documents=dataset.data\n",
    "print(\"# of Documents\",len(documents))\n",
    "print(\"Categories\",dataset.target_names)"
   ]
  },
  {
   "cell_type": "code",
   "execution_count": 6,
   "metadata": {},
   "outputs": [
    {
     "name": "stdout",
     "output_type": "stream",
     "text": [
      "<bound method NDFrame.head of                                                 document\n",
      "0      Well i'm not sure about the story nad it did s...\n",
      "1      \\n\\n\\n\\n\\n\\n\\nYeah, do you expect people to re...\n",
      "2      Although I realize that principle is not one o...\n",
      "3      Notwithstanding all the legitimate fuss about ...\n",
      "4      Well, I will have to change the scoring on my ...\n",
      "...                                                  ...\n",
      "11309  Danny Rubenstein, an Israeli journalist, will ...\n",
      "11310                                                 \\n\n",
      "11311  \\nI agree.  Home runs off Clemens are always m...\n",
      "11312  I used HP DeskJet with Orange Micros Grappler ...\n",
      "11313                                        ^^^^^^\\n...\n",
      "\n",
      "[11314 rows x 1 columns]>\n"
     ]
    }
   ],
   "source": [
    "news_df=pd.DataFrame({'document':documents})\n",
    "print(news_df.head)"
   ]
  },
  {
   "cell_type": "code",
   "execution_count": 19,
   "metadata": {},
   "outputs": [
    {
     "name": "stdout",
     "output_type": "stream",
     "text": [
      "0        [(Well, i), (i, 'm), ('m, not), (not, sure), (...\n",
      "1        [(Yeah, ,), (,, do), (do, you), (you, expect),...\n",
      "2        [(Although, I), (I, realize), (realize, that),...\n",
      "3        [(Notwithstanding, all), (all, the), (the, leg...\n",
      "4        [(Well, ,), (,, I), (I, will), (will, have), (...\n",
      "                               ...                        \n",
      "11309    [(Danny, Rubenstein), (Rubenstein, ,), (,, an)...\n",
      "11310                                                   []\n",
      "11311    [(I, agree), (agree, .), (., Home), (Home, run...\n",
      "11312    [(I, used), (used, HP), (HP, DeskJet), (DeskJe...\n",
      "11313    [(^^^^^^, No), (No, argument), (argument, at),...\n",
      "Name: bigrams, Length: 11314, dtype: object\n"
     ]
    }
   ],
   "source": [
    "news_df['bigrams']  = news_df['document'].map(lambda x : list(bigrams(word_tokenize(x))))\n",
    "print(news_df['bigrams'])"
   ]
  },
  {
   "cell_type": "code",
   "execution_count": 27,
   "metadata": {},
   "outputs": [
    {
     "name": "stdout",
     "output_type": "stream",
     "text": [
      "0        171\n",
      "1        122\n",
      "2        136\n",
      "3        200\n",
      "4         80\n",
      "        ... \n",
      "11309     51\n",
      "11310      0\n",
      "11311     23\n",
      "11312     57\n",
      "11313    296\n",
      "Name: bigrams_len, Length: 11314, dtype: int64\n",
      "0\n",
      "35954\n"
     ]
    },
    {
     "data": {
      "image/png": "[encoded data removed]",
      "text/plain": [
       "<Figure size 432x288 with 1 Axes>"
      ]
     },
     "metadata": {
      "needs_background": "light"
     },
     "output_type": "display_data"
    }
   ],
   "source": [
    "#Bigram Hist\n",
    "news_df['bigrams_len']=news_df.bigrams.apply(len)\n",
    "print(news_df['bigrams_len'])\n",
    "news_df['bigrams_len'].hist(range = (0,500))\n",
    "print(news_df['bigrams_len'].min())\n",
    "print(news_df['bigrams_len'].max())"
   ]
  },
  {
   "cell_type": "code",
   "execution_count": 9,
   "metadata": {},
   "outputs": [
    {
     "data": {
      "image/png": "[encoded data removed]",
      "text/plain": [
       "<Figure size 432x288 with 1 Axes>"
      ]
     },
     "metadata": {
      "needs_background": "light"
     },
     "output_type": "display_data"
    }
   ],
   "source": [
    "#Average word length in each sentence\n",
    "\n",
    "new=news_df['document'].str.len().hist()\n",
    "# new=new.values.tolist()\n",
    "# corpus=[word for i in new for word in i]\n",
    "# print(corpus)"
   ]
  },
  {
   "cell_type": "code",
   "execution_count": 16,
   "metadata": {},
   "outputs": [
    {
     "name": "stdout",
     "output_type": "stream",
     "text": [
      "Well i'm not sure about the story nad it did seem biased. What\n",
      "I disagree with is your statement that the U.S. Media is out to\n",
      "ruin Israels reputation. That is rediculous. The U.S. media is\n",
      "the most pro-israeli media in the world. Having lived in Europe\n",
      "I realize that incidences such as the one described in the\n",
      "letter have occured. The U.S. media as a whole seem to try to\n",
      "ignore them. The U.S. is subsidizing Israels existance and the\n",
      "Europeans are not (at least not to the same degree). So I think\n",
      "that might be a reason they report more clearly on the\n",
      "atrocities.\n",
      "\tWhat is a shame is that in Austria, daily reports of\n",
      "the inhuman acts commited by Israeli soldiers and the blessing\n",
      "received from the Government makes some of the Holocaust guilt\n",
      "go away. After all, look how the Jews are treating other races\n",
      "when they got power. It is unfortunate.\n",
      "\n",
      "156\n"
     ]
    }
   ],
   "source": [
    "print(news_df.iloc[0]['document'])\n",
    "print(len(news_df.iloc[0]['document'].split()))"
   ]
  },
  {
   "cell_type": "code",
   "execution_count": null,
   "metadata": {},
   "outputs": [],
   "source": [
    "from nltk.util import ngrams"
   ]
  },
  {
   "cell_type": "code",
   "execution_count": null,
   "metadata": {},
   "outputs": [],
   "source": []
  }
 ],
 "metadata": {
  "interpreter": {
   "hash": "490463624bb20166a8667b7fa728dcad49f92cff15a6e94f417ad6118e23fbcd"
  },
  "kernelspec": {
   "display_name": "Python 3.8.8 64-bit ('comet2020': conda)",
   "language": "python",
   "name": "python3"
  },
  "language_info": {
   "codemirror_mode": {
    "name": "ipython",
    "version": 3
   },
   "file_extension": ".py",
   "mimetype": "text/x-python",
   "name": "python",
   "nbconvert_exporter": "python",
   "pygments_lexer": "ipython3",
   "version": "3.8.8"
  },
  "orig_nbformat": 4
 },
 "nbformat": 4,
 "nbformat_minor": 2
}
