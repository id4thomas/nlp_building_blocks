{
 "cells": [
  {
   "cell_type": "code",
   "execution_count": 1,
   "metadata": {},
   "outputs": [],
   "source": [
    "import numpy as np\n",
    "import pandas as pd\n",
    "from sklearn.datasets import fetch_20newsgroups\n",
    "import matplotlib.pyplot as plt\n",
    "import nltk"
   ]
  },
  {
   "cell_type": "code",
   "execution_count": 2,
   "metadata": {},
   "outputs": [],
   "source": [
    "from nltk.util import ngrams, bigrams, trigrams\n",
    "from nltk.tokenize import word_tokenize,sent_tokenize"
   ]
  },
  {
   "cell_type": "code",
   "execution_count": 3,
   "metadata": {},
   "outputs": [],
   "source": [
    "dataset = fetch_20newsgroups(shuffle=True, random_state=1, remove=('headers', 'footers', 'quotes'))"
   ]
  },
  {
   "cell_type": "code",
   "execution_count": 4,
   "metadata": {},
   "outputs": [
    {
     "name": "stdout",
     "output_type": "stream",
     "text": [
      "dict_keys(['data', 'filenames', 'target_names', 'target', 'DESCR'])\n"
     ]
    }
   ],
   "source": [
    "print(dataset.keys())"
   ]
  },
  {
   "cell_type": "code",
   "execution_count": 5,
   "metadata": {},
   "outputs": [
    {
     "name": "stdout",
     "output_type": "stream",
     "text": [
      "# of Documents 11314\n",
      "Categories ['alt.atheism', 'comp.graphics', 'comp.os.ms-windows.misc', 'comp.sys.ibm.pc.hardware', 'comp.sys.mac.hardware', 'comp.windows.x', 'misc.forsale', 'rec.autos', 'rec.motorcycles', 'rec.sport.baseball', 'rec.sport.hockey', 'sci.crypt', 'sci.electronics', 'sci.med', 'sci.space', 'soc.religion.christian', 'talk.politics.guns', 'talk.politics.mideast', 'talk.politics.misc', 'talk.religion.misc']\n"
     ]
    }
   ],
   "source": [
    "documents=dataset.data\n",
    "print(\"# of Documents\",len(documents))\n",
    "print(\"Categories\",dataset.target_names)"
   ]
  },
  {
   "cell_type": "code",
   "execution_count": 19,
   "metadata": {},
   "outputs": [
    {
     "name": "stdout",
     "output_type": "stream",
     "text": [
      "<bound method NDFrame.head of                                                 document\n",
      "0      Well i'm not sure about the story nad it did s...\n",
      "1      \\n\\n\\n\\n\\n\\n\\nYeah, do you expect people to re...\n",
      "2      Although I realize that principle is not one o...\n",
      "3      Notwithstanding all the legitimate fuss about ...\n",
      "4      Well, I will have to change the scoring on my ...\n",
      "...                                                  ...\n",
      "11309  Danny Rubenstein, an Israeli journalist, will ...\n",
      "11310                                                 \\n\n",
      "11311  \\nI agree.  Home runs off Clemens are always m...\n",
      "11312  I used HP DeskJet with Orange Micros Grappler ...\n",
      "11313                                        ^^^^^^\\n...\n",
      "\n",
      "[11314 rows x 1 columns]>\n",
      "Well i'm not sure about the story nad it did seem biased. What\n",
      "I disagree with is your statement that the U.S. Media is out to\n",
      "ruin Israels reputation. That is rediculous. The U.S. media is\n",
      "the most pro-israeli media in the world. Having lived in Europe\n",
      "I realize that incidences such as the one described in the\n",
      "letter have occured. The U.S. media as a whole seem to try to\n",
      "ignore them. The U.S. is subsidizing Israels existance and the\n",
      "Europeans are not (at least not to the same degree). So I think\n",
      "that might be a reason they report more clearly on the\n",
      "atrocities.\n",
      "\tWhat is a shame is that in Austria, daily reports of\n",
      "the inhuman acts commited by Israeli soldiers and the blessing\n",
      "received from the Government makes some of the Holocaust guilt\n",
      "go away. After all, look how the Jews are treating other races\n",
      "when they got power. It is unfortunate.\n",
      "\n"
     ]
    }
   ],
   "source": [
    "news_df=pd.DataFrame({'document':documents})\n",
    "print(news_df.head)\n",
    "print(news_df.iloc[0]['document'])"
   ]
  },
  {
   "cell_type": "code",
   "execution_count": 7,
   "metadata": {},
   "outputs": [
    {
     "name": "stdout",
     "output_type": "stream",
     "text": [
      "<bound method NDFrame.head of 0        [Well, i, 'm, not, sure, about, the, story, na...\n",
      "1        [Yeah, ,, do, you, expect, people, to, read, t...\n",
      "2        [Although, I, realize, that, principle, is, no...\n",
      "3        [Notwithstanding, all, the, legitimate, fuss, ...\n",
      "4        [Well, ,, I, will, have, to, change, the, scor...\n",
      "                               ...                        \n",
      "11309    [Danny, Rubenstein, ,, an, Israeli, journalist...\n",
      "11310                                                   []\n",
      "11311    [I, agree, ., Home, runs, off, Clemens, are, a...\n",
      "11312    [I, used, HP, DeskJet, with, Orange, Micros, G...\n",
      "11313    [^^^^^^, No, argument, at, all, with, Murphy, ...\n",
      "Name: tokenized, Length: 11314, dtype: object>\n",
      "<bound method NDFrame.head of 0        [(Well, i), (i, 'm), ('m, not), (not, sure), (...\n",
      "1        [(Yeah, ,), (,, do), (do, you), (you, expect),...\n",
      "2        [(Although, I), (I, realize), (realize, that),...\n",
      "3        [(Notwithstanding, all), (all, the), (the, leg...\n",
      "4        [(Well, ,), (,, I), (I, will), (will, have), (...\n",
      "                               ...                        \n",
      "11309    [(Danny, Rubenstein), (Rubenstein, ,), (,, an)...\n",
      "11310                                                   []\n",
      "11311    [(I, agree), (agree, .), (., Home), (Home, run...\n",
      "11312    [(I, used), (used, HP), (HP, DeskJet), (DeskJe...\n",
      "11313    [(^^^^^^, No), (No, argument), (argument, at),...\n",
      "Name: bigrams, Length: 11314, dtype: object>\n"
     ]
    }
   ],
   "source": [
    "news_df['tokenized']  = news_df['document'].map(lambda x : (word_tokenize(x)))\n",
    "news_df['bigrams']  = news_df['document'].map(lambda x : list(bigrams(word_tokenize(x))))\n",
    "\n",
    "print(news_df['tokenized'].head)\n",
    "print(news_df['bigrams'].head)\n"
   ]
  },
  {
   "cell_type": "code",
   "execution_count": 10,
   "metadata": {},
   "outputs": [
    {
     "name": "stdout",
     "output_type": "stream",
     "text": [
      "0        172\n",
      "1        123\n",
      "2        137\n",
      "3        201\n",
      "4         81\n",
      "        ... \n",
      "11309     52\n",
      "11310      0\n",
      "11311     24\n",
      "11312     58\n",
      "11313    297\n",
      "Name: tokens_len, Length: 11314, dtype: int64\n",
      "0\n",
      "35955\n"
     ]
    },
    {
     "data": {
      "image/png": "[encoded data removed]",
      "text/plain": [
       "<Figure size 432x288 with 1 Axes>"
      ]
     },
     "metadata": {
      "needs_background": "light"
     },
     "output_type": "display_data"
    }
   ],
   "source": [
    "#Num Tokens Hist\n",
    "news_df['tokens_len']=news_df.tokenized.apply(len)\n",
    "print(news_df['tokens_len'])\n",
    "news_df['tokens_len'].hist(range = (0,1000),bins=20)\n",
    "print(news_df['tokens_len'].min())\n",
    "print(news_df['tokens_len'].max())"
   ]
  },
  {
   "cell_type": "code",
   "execution_count": 18,
   "metadata": {},
   "outputs": [
    {
     "name": "stdout",
     "output_type": "stream",
     "text": [
      "0        171\n",
      "1        122\n",
      "2        136\n",
      "3        200\n",
      "4         80\n",
      "        ... \n",
      "11309     51\n",
      "11310      0\n",
      "11311     23\n",
      "11312     57\n",
      "11313    296\n",
      "Name: bigrams_len, Length: 11314, dtype: int64\n",
      "0\n",
      "35954\n"
     ]
    },
    {
     "data": {
      "image/png": "[encoded data removed]",
      "text/plain": [
       "<Figure size 432x288 with 1 Axes>"
      ]
     },
     "metadata": {
      "needs_background": "light"
     },
     "output_type": "display_data"
    }
   ],
   "source": [
    "#Bigram Hist\n",
    "news_df['bigrams_len']=news_df.bigrams.apply(len)\n",
    "print(news_df['bigrams_len'])\n",
    "news_df['bigrams_len'].hist(range = (0,500),bins=20)\n",
    "print(news_df['bigrams_len'].min())\n",
    "print(news_df['bigrams_len'].max())"
   ]
  },
  {
   "cell_type": "code",
   "execution_count": 11,
   "metadata": {},
   "outputs": [],
   "source": [
    "from sklearn.feature_extraction.text import CountVectorizer"
   ]
  },
  {
   "cell_type": "code",
   "execution_count": 12,
   "metadata": {},
   "outputs": [],
   "source": [
    "vectorizer = CountVectorizer()\n",
    "\n",
    "cv_tokenizer=vectorizer.build_tokenizer()"
   ]
  },
  {
   "cell_type": "code",
   "execution_count": 13,
   "metadata": {},
   "outputs": [],
   "source": [
    "# Turn DF into List\n",
    "news_docs=news_df.document.tolist()"
   ]
  },
  {
   "cell_type": "code",
   "execution_count": 16,
   "metadata": {},
   "outputs": [
    {
     "name": "stdout",
     "output_type": "stream",
     "text": [
      "Well i'm not sure about the story nad it did seem biased. What\n",
      "I disagree with is your statement that the U.S. Media is out to\n",
      "ruin Israels reputation. That is rediculous. The U.S. media is\n",
      "the most pro-israeli media in the world. Having lived in Europe\n",
      "I realize that incidences such as the one described in the\n",
      "letter have occured. The U.S. media as a whole seem to try to\n",
      "ignore them. The U.S. is subsidizing Israels existance and the\n",
      "Europeans are not (at least not to the same degree). So I think\n",
      "that might be a reason they report more clearly on the\n",
      "atrocities.\n",
      "\tWhat is a shame is that in Austria, daily reports of\n",
      "the inhuman acts commited by Israeli soldiers and the blessing\n",
      "received from the Government makes some of the Holocaust guilt\n",
      "go away. After all, look how the Jews are treating other races\n",
      "when they got power. It is unfortunate.\n",
      "\n",
      "['Well', 'not', 'sure', 'about', 'the', 'story', 'nad', 'it', 'did', 'seem', 'biased', 'What', 'disagree', 'with', 'is']\n"
     ]
    }
   ],
   "source": [
    "# CountVectorizer Tokenization Example\n",
    "print(news_docs[0])\n",
    "print(cv_tokenizer(news_docs[0])[:15])"
   ]
  },
  {
   "cell_type": "code",
   "execution_count": 17,
   "metadata": {},
   "outputs": [
    {
     "name": "stdout",
     "output_type": "stream",
     "text": [
      "(11314, 101631)\n"
     ]
    }
   ],
   "source": [
    "#Term-Document Matrix\n",
    "X=vectorizer.fit_transform(news_docs)\n",
    "print(X.shape)"
   ]
  }
 ],
 "metadata": {
  "interpreter": {
   "hash": "490463624bb20166a8667b7fa728dcad49f92cff15a6e94f417ad6118e23fbcd"
  },
  "kernelspec": {
   "display_name": "Python 3.8.8 64-bit ('comet2020': conda)",
   "language": "python",
   "name": "python3"
  },
  "language_info": {
   "codemirror_mode": {
    "name": "ipython",
    "version": 3
   },
   "file_extension": ".py",
   "mimetype": "text/x-python",
   "name": "python",
   "nbconvert_exporter": "python",
   "pygments_lexer": "ipython3",
   "version": "3.8.8"
  },
  "orig_nbformat": 4
 },
 "nbformat": 4,
 "nbformat_minor": 2
}
