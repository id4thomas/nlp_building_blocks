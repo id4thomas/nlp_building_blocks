{
 "cells": [
  {
   "cell_type": "code",
   "execution_count": 1,
   "id": "7a0fdf24",
   "metadata": {},
   "outputs": [],
   "source": [
    "import os\n",
    "\n",
    "from agents import (\n",
    "    Agent,\n",
    "    Runner\n",
    ")\n",
    "from agents.mcp.server import MCPServerSse, MCPServerSseParams\n",
    "\n",
    "from config import settings\n",
    "\n",
    "os.environ[\"OPENAI_API_KEY\"] = settings.llm_api_key"
   ]
  },
  {
   "cell_type": "code",
   "execution_count": 2,
   "id": "8631fe7d",
   "metadata": {},
   "outputs": [],
   "source": [
    "params = MCPServerSseParams(\n",
    "    url=\"http://localhost:8000/sse\"\n",
    ")"
   ]
  },
  {
   "cell_type": "code",
   "execution_count": null,
   "id": "80ea110e",
   "metadata": {},
   "outputs": [],
   "source": [
    "mcp_sse_server = MCPServerSse(\n",
    "    params=params,\n",
    "    name=\"weather\"\n",
    ")\n",
    "# await mcp_sse_server.connect()"
   ]
  },
  {
   "cell_type": "code",
   "execution_count": null,
   "id": "15be0873",
   "metadata": {},
   "outputs": [
    {
     "name": "stderr",
     "output_type": "stream",
     "text": [
      "Error cleaning up server: Attempted to exit cancel scope in a different task than it was entered in\n"
     ]
    },
    {
     "name": "stdout",
     "output_type": "stream",
     "text": [
      "Here's the weather forecast for Sacramento:\n",
      "\n",
      "**Today:**\n",
      "- **Temperature:** 65°F\n",
      "- **Wind:** 6 to 10 mph SSW\n",
      "- **Forecast:** Partly sunny. High near 65, with temperatures falling to around 63 in the afternoon. South southwest wind with gusts up to 18 mph.\n",
      "\n",
      "**Tonight:**\n",
      "- **Temperature:** 49°F\n",
      "- **Wind:** 3 to 9 mph SSW\n",
      "- **Forecast:** A chance of rain showers after midnight. Mostly cloudy. Chance of precipitation is 30%.\n",
      "\n",
      "**Saturday:**\n",
      "- **Temperature:** 63°F\n",
      "- **Wind:** 6 mph S\n",
      "- **Forecast:** A chance of rain showers. Mostly cloudy. Chance of precipitation is 40%.\n",
      "\n",
      "**Saturday Night:**\n",
      "- **Temperature:** 50°F\n",
      "- **Wind:** 6 mph SSW\n",
      "- **Forecast:** A chance of rain showers before 5am. Mostly cloudy. Chance of precipitation is 40%.\n",
      "\n",
      "**Sunday:**\n",
      "- **Temperature:** 66°F\n",
      "- **Wind:** 6 mph SSE\n",
      "- **Forecast:** Partly sunny. High near 66.\n"
     ]
    }
   ],
   "source": [
    "async with mcp_sse_server as server:\n",
    "    agent=Agent(\n",
    "        name=\"Assistant\",\n",
    "        instructions=\"Use the tools to achieve the task\",\n",
    "        mcp_servers=[server]\n",
    "    )\n",
    "    result = await Runner.run(agent, \"What’s the weather in Sacramento?\")\n",
    "    print(result.final_output)"
   ]
  },
  {
   "cell_type": "code",
   "execution_count": null,
   "id": "b15f02e4",
   "metadata": {},
   "outputs": [],
   "source": []
  }
 ],
 "metadata": {
  "kernelspec": {
   "display_name": "llm",
   "language": "python",
   "name": "llm"
  },
  "language_info": {
   "codemirror_mode": {
    "name": "ipython",
    "version": 3
   },
   "file_extension": ".py",
   "mimetype": "text/x-python",
   "name": "python",
   "nbconvert_exporter": "python",
   "pygments_lexer": "ipython3",
   "version": "3.10.14"
  }
 },
 "nbformat": 4,
 "nbformat_minor": 5
}
