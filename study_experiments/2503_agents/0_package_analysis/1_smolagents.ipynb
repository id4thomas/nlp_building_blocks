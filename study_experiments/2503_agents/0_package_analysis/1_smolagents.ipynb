{
 "cells": [
  {
   "cell_type": "code",
   "execution_count": 6,
   "metadata": {},
   "outputs": [],
   "source": [
    "import openai\n",
    "import pprint\n",
    "\n",
    "from smolagents import (\n",
    "    CodeAgent,\n",
    "    GoogleSearchTool,\n",
    "    # HfApiModel,\n",
    "    OpenAIServerModel,\n",
    "    LiteLLMModel,\n",
    "    ToolCallingAgent,\n",
    ")\n",
    "\n",
    "from config import settings"
   ]
  },
  {
   "cell_type": "markdown",
   "metadata": {},
   "source": [
    "# Model"
   ]
  },
  {
   "cell_type": "code",
   "execution_count": 2,
   "metadata": {},
   "outputs": [
    {
     "name": "stdout",
     "output_type": "stream",
     "text": [
      "nvidia/llama-3.1-nemotron-nano-8b-v1:free\n"
     ]
    }
   ],
   "source": [
    "# https://openrouter.ai/nvidia/llama-3.1-nemotron-nano-8b-v1:free/api\n",
    "print(settings.llm_model)\n",
    "model = OpenAIServerModel(\n",
    "    model_id=settings.llm_model,\n",
    "    api_base=settings.llm_base_url,\n",
    "    api_key=settings.llm_api_key,\n",
    ")"
   ]
  },
  {
   "cell_type": "code",
   "execution_count": 3,
   "metadata": {},
   "outputs": [
    {
     "name": "stdout",
     "output_type": "stream",
     "text": [
      "ChatMessage(role='assistant', content='Here\\'s an explanation of quantum mechanics in simple terms:\\n\\n**What is Quantum Mechanics?**\\n\\nQuantum mechanics is a fundamental theory in physics that describes the behavior of particles at very small scales, such as atoms and subatomic particles (like electrons, protons, and neutrons). It is a branch of theoretical physics that lies at the heart of modern science, combining principles from classical physics with new, unfamiliar concepts.\\n\\n**How is it \"Simple\"?**\\n\\nWell, we\\'ll keep things brief and conceptual. The term \"simple\" here refers to the way we\\'ll explain the concepts, not that the theory itself is easy to learn. Let\\'s break down key ideas:\\n\\n1. **Wave-Particle Duality**: This is a core concept in quantum mechanics. Particles like electrons are not just little balls with a defined position. Instead, they exhibit both particle-like properties (self-repelling, occupying space) and wave-like properties (capable of spreading out at a single location in time). You can even imagine a particle\\'s \"body\" as a wave that influenced by surrounding waves!\\n\\n2. **Superposition**: In a more human scale, think of a cup [as a wave] and its mirror image (its superposition). Quantum particles can exist in multiple states at once simultaneously. For example, imagine a photon in a state where it\\'s both traveling towards the left and the right of a barrier at the same time. However, when measured, it ends up in one of those definite states.\\n\\n3. **Quantization**: Not all physical quantities can be measured to just any value. Instead, some properties (like energy of photons, or the orientation in certain quantum systems) can only change in specific, fixed amounts. This is why we get smaller, brighter colors as light passes through a prism: light is \"quantized\" into single photons, and there\\'s only 1 photon (a quantized unit of energy) to give, not a massive amount. However, could **Hamiltonian meaning in quantum from classical cross-over** also be relevant here? Well, this is about energy and how it\\'s conserved or transferred. In quantum physics, quantities like energy may be quantized, meaning they can take on only discrete values, not continuous ones as in classical physics. This is crucial for understanding phenomena such as electron transitions, energy levels in atoms, and how quantum chemistry works.\\n\\n4. **Entanglement**: This is when two (or more) quantum systems are linked together such that the state of one system is directly related to the state of another, no matter the distance between them. In the famous \"Einstein-Podolsky-Rosen\" (EPR) paradox, if two particles are entangled, measuring the state of one instantly determines the state of the other.\\n\\n5. **Heisenberg\\'s Uncertainty Principle**: You can\\'t measure both the position and momentum of a particle with absolute precision at the same time. The more precisely you know one, the less precisely you can know the other. This accompanies enormous complexities, such as explaining how particles and radiation behave when you try to measure them.\\n\\n**Quantum Mechanics in Everyday Life (Surprisingly Unsimple!)**:\\n\\n- **Computers and Telecommunications**: Quantum computers and quantum cryptography are proposed to be exponentially faster and more secure than their classical counterparts. \\n\\n- **Metastasis (Cancer) and Treatment**: Understanding how cancer progresses and how it evolves is a complex problem that quantum mechanics can help solve, though it\\'s a much smaller part of the overall understanding.\\n\\n- **Relativity**: Quantum mechanics is closely related to the theory of relativity (another theory from the early 20th century that bridged the gap between gravity and motion at high speeds). These theories have led to mind-bending ideas like time warps and black holes. While not related to particles and atoms, quantum mechanics is fundamentally different from classical physics and shares gravity-related theories with Einstein. \\n\\n- **Material Science**: What we think of as solid materials can be seen as seas of particles (atoms). Quantum mechanics describes how these particles interact and we can design new materials with quantum principles in mind.\\n\\n- **Climate Science**: Quantum mechanics plays a role in the theoretical understanding of molecules (like CO2 in the atmosphere), which can influence phenomena such as the greenhouse effect. \\n\\n**Key Points Revisited for Clarity**:\\n\\n- **Microscale**: Focuses on very small particles.\\n- **Wave-Particle Dualities in Organizations (I\\'ll keep the analogy)**: While the wave-particle duality concept from quantum physics won\\'t directly influence organizational behavior, the idea of duality can inspire planning, where both \"original\" and \"new\" directions might work for consideration.\\n- **Anywhere in the World**: The idea that particles can be felt everywhere, even when they are not in the same place.\\n- **In Straightforward Language**:\\n - How particles behave in the very small world of atoms and beyond\\n  - Essentially, the shape and motion of particles interacting in tiny, microscopic spaces.\\n - At such small scales, some things are not the way we would expect, especially concerning their wave nature\\n\\nThis breakdown should provide a foundational understanding of quantum mechanics in simple, conceptual terms, while acknowledging the complexity of its actual role across various scientific and technological aspects of our world. Read more about quantum networking (https://en.wikipedia.org/wiki/Quantum Networking) to delve deeper into its potential applications in secure communications.', tool_calls=None, raw=ChatCompletion(id='gen-1744533743-m1x5KA6kU3McCxEBYeDs', choices=[Choice(finish_reason='stop', index=0, logprobs=None, message=ChatCompletionMessage(content='Here\\'s an explanation of quantum mechanics in simple terms:\\n\\n**What is Quantum Mechanics?**\\n\\nQuantum mechanics is a fundamental theory in physics that describes the behavior of particles at very small scales, such as atoms and subatomic particles (like electrons, protons, and neutrons). It is a branch of theoretical physics that lies at the heart of modern science, combining principles from classical physics with new, unfamiliar concepts.\\n\\n**How is it \"Simple\"?**\\n\\nWell, we\\'ll keep things brief and conceptual. The term \"simple\" here refers to the way we\\'ll explain the concepts, not that the theory itself is easy to learn. Let\\'s break down key ideas:\\n\\n1. **Wave-Particle Duality**: This is a core concept in quantum mechanics. Particles like electrons are not just little balls with a defined position. Instead, they exhibit both particle-like properties (self-repelling, occupying space) and wave-like properties (capable of spreading out at a single location in time). You can even imagine a particle\\'s \"body\" as a wave that influenced by surrounding waves!\\n\\n2. **Superposition**: In a more human scale, think of a cup [as a wave] and its mirror image (its superposition). Quantum particles can exist in multiple states at once simultaneously. For example, imagine a photon in a state where it\\'s both traveling towards the left and the right of a barrier at the same time. However, when measured, it ends up in one of those definite states.\\n\\n3. **Quantization**: Not all physical quantities can be measured to just any value. Instead, some properties (like energy of photons, or the orientation in certain quantum systems) can only change in specific, fixed amounts. This is why we get smaller, brighter colors as light passes through a prism: light is \"quantized\" into single photons, and there\\'s only 1 photon (a quantized unit of energy) to give, not a massive amount. However, could **Hamiltonian meaning in quantum from classical cross-over** also be relevant here? Well, this is about energy and how it\\'s conserved or transferred. In quantum physics, quantities like energy may be quantized, meaning they can take on only discrete values, not continuous ones as in classical physics. This is crucial for understanding phenomena such as electron transitions, energy levels in atoms, and how quantum chemistry works.\\n\\n4. **Entanglement**: This is when two (or more) quantum systems are linked together such that the state of one system is directly related to the state of another, no matter the distance between them. In the famous \"Einstein-Podolsky-Rosen\" (EPR) paradox, if two particles are entangled, measuring the state of one instantly determines the state of the other.\\n\\n5. **Heisenberg\\'s Uncertainty Principle**: You can\\'t measure both the position and momentum of a particle with absolute precision at the same time. The more precisely you know one, the less precisely you can know the other. This accompanies enormous complexities, such as explaining how particles and radiation behave when you try to measure them.\\n\\n**Quantum Mechanics in Everyday Life (Surprisingly Unsimple!)**:\\n\\n- **Computers and Telecommunications**: Quantum computers and quantum cryptography are proposed to be exponentially faster and more secure than their classical counterparts. \\n\\n- **Metastasis (Cancer) and Treatment**: Understanding how cancer progresses and how it evolves is a complex problem that quantum mechanics can help solve, though it\\'s a much smaller part of the overall understanding.\\n\\n- **Relativity**: Quantum mechanics is closely related to the theory of relativity (another theory from the early 20th century that bridged the gap between gravity and motion at high speeds). These theories have led to mind-bending ideas like time warps and black holes. While not related to particles and atoms, quantum mechanics is fundamentally different from classical physics and shares gravity-related theories with Einstein. \\n\\n- **Material Science**: What we think of as solid materials can be seen as seas of particles (atoms). Quantum mechanics describes how these particles interact and we can design new materials with quantum principles in mind.\\n\\n- **Climate Science**: Quantum mechanics plays a role in the theoretical understanding of molecules (like CO2 in the atmosphere), which can influence phenomena such as the greenhouse effect. \\n\\n**Key Points Revisited for Clarity**:\\n\\n- **Microscale**: Focuses on very small particles.\\n- **Wave-Particle Dualities in Organizations (I\\'ll keep the analogy)**: While the wave-particle duality concept from quantum physics won\\'t directly influence organizational behavior, the idea of duality can inspire planning, where both \"original\" and \"new\" directions might work for consideration.\\n- **Anywhere in the World**: The idea that particles can be felt everywhere, even when they are not in the same place.\\n- **In Straightforward Language**:\\n - How particles behave in the very small world of atoms and beyond\\n  - Essentially, the shape and motion of particles interacting in tiny, microscopic spaces.\\n - At such small scales, some things are not the way we would expect, especially concerning their wave nature\\n\\nThis breakdown should provide a foundational understanding of quantum mechanics in simple, conceptual terms, while acknowledging the complexity of its actual role across various scientific and technological aspects of our world. Read more about quantum networking (https://en.wikipedia.org/wiki/Quantum Networking) to delve deeper into its potential applications in secure communications.', refusal=None, role='assistant', audio=None, function_call=None, tool_calls=None, reasoning=None), native_finish_reason='stop')], created=1744533743, model='nvidia/llama-3.1-nemotron-nano-8b-v1', object='chat.completion', service_tier=None, system_fingerprint=None, usage=CompletionUsage(completion_tokens=1106, prompt_tokens=23, total_tokens=1129, completion_tokens_details=None, prompt_tokens_details=None), provider='Chutes'))\n"
     ]
    }
   ],
   "source": [
    "# Test model inf\n",
    "messages = [{\"role\": \"user\", \"content\": \"Explain quantum mechanics in simple terms.\"}]\n",
    "response = model(messages)\n",
    "print(response)"
   ]
  },
  {
   "cell_type": "code",
   "execution_count": 8,
   "metadata": {},
   "outputs": [
    {
     "name": "stdout",
     "output_type": "stream",
     "text": [
      "5553\n",
      "(\"Here's an explanation of quantum mechanics in simple terms:\\n\"\n",
      " '\\n'\n",
      " '**What is Quantum Mechanics?**\\n'\n",
      " '\\n'\n",
      " 'Quantum mechanics is a fundamental theory in physics that describes the '\n",
      " 'behavior of particles at very small scales, such as atoms and subatomic '\n",
      " 'particles (like electrons, protons, and neutrons). It is a branch of '\n",
      " 'theoretical physics that lies at the heart of modern science, combining '\n",
      " 'principles from classical physics with new, unfamiliar concepts.\\n'\n",
      " '\\n'\n",
      " '**How is it \"Simple\"?**\\n'\n",
      " '\\n'\n",
      " 'Well, we\\'ll keep things brief and conceptual. The term \"simple\" here refers '\n",
      " \"to the way we'll explain the concepts, not that the theory itself is easy to \"\n",
      " \"learn. Let's break down key ideas:\\n\"\n",
      " '\\n'\n",
      " '1. **Wave-Particle Duality**: This is a core concept in quantum mechanics. '\n",
      " 'Particles like electrons are not just little balls with a defined position. '\n",
      " 'Instead, they exhibit both particle-like properties (self-repelling, '\n",
      " 'occupying space) and wave-like properties (capable of spreading out at a '\n",
      " 'single location in time). You can even imagine a particle\\'s \"body\" as a '\n",
      " 'wave that influenced by surrounding waves!\\n'\n",
      " '\\n'\n",
      " '2. **Superposition**: In a more human scale, think of a cup [as a wave] and '\n",
      " 'its mirror image (its superposition). Quantum particles can exist in '\n",
      " 'multiple states at once simultaneously. For example, imagine a photon in a '\n",
      " \"state where it's both traveling towards the left and the right of a barrier \"\n",
      " 'at the same time. However, when measured, it ends up in one of those '\n",
      " 'definite states.\\n'\n",
      " '\\n'\n",
      " '3. **Quantization**: Not all physical quantities can be measured to just any '\n",
      " 'value. Instead, some properties (like energy of photons, or the orientation '\n",
      " 'in certain quantum systems) can only change in specific, fixed amounts. This '\n",
      " 'is why we get smaller, brighter colors as light passes through a prism: '\n",
      " 'light is \"quantized\" into single photons, and there\\'s only 1 photon (a '\n",
      " 'quantized unit of energy) to give, not a massive amount. However, could '\n",
      " '**Hamiltonian meaning in quantum from classical cross-over** also be '\n",
      " \"relevant here? Well, this is about energy and how it's conserved or \"\n",
      " 'transferred. In quantum physics, quantities like energy may be quantized, '\n",
      " 'meaning they can take on only discrete values, not continuous ones as in '\n",
      " 'classical physics. This is crucial for understanding phenomena such as '\n",
      " 'electron transitions, energy levels in atoms, and how quantum chemistry '\n",
      " 'works.\\n'\n",
      " '\\n'\n",
      " '4. **Entanglement**: This is when two (or more) quantum systems are linked '\n",
      " 'together such that the state of one system is directly related to the state '\n",
      " 'of another, no matter the distance between them. In the famous '\n",
      " '\"Einstein-Podolsky-Rosen\" (EPR) paradox, if two particles are entangled, '\n",
      " 'measuring the state of one instantly determines the state of the other.\\n'\n",
      " '\\n'\n",
      " \"5. **Heisenberg's Uncertainty Principle**: You can't measure both the \"\n",
      " 'position and momentum of a particle with absolute precision at the same '\n",
      " 'time. The more precisely you know one, the less precisely you can know the '\n",
      " 'other. This accompanies enormous complexities, such as explaining how '\n",
      " 'particles and radiation behave when you try to measure them.\\n'\n",
      " '\\n'\n",
      " '**Quantum Mechanics in Everyday Life (Surprisingly Unsimple!)**:\\n'\n",
      " '\\n'\n",
      " '- **Computers and Telecommunications**: Quantum computers and quantum '\n",
      " 'cryptography are proposed to be exponentially faster and more secure than '\n",
      " 'their classical counterparts. \\n'\n",
      " '\\n'\n",
      " '- **Metastasis (Cancer) and Treatment**: Understanding how cancer progresses '\n",
      " 'and how it evolves is a complex problem that quantum mechanics can help '\n",
      " \"solve, though it's a much smaller part of the overall understanding.\\n\"\n",
      " '\\n'\n",
      " '- **Relativity**: Quantum mechanics is closely related to the theory of '\n",
      " 'relativity (another theory from the early 20th century that bridged the gap '\n",
      " 'between gravity and motion at high speeds). These theories have led to '\n",
      " 'mind-bending ideas like time warps and black holes. While not related to '\n",
      " 'particles and atoms, quantum mechanics is fundamentally different from '\n",
      " 'classical physics and shares gravity-related theories with Einstein. \\n'\n",
      " '\\n'\n",
      " '- **Material Science**: What we think of as solid materials can be seen as '\n",
      " 'seas of particles (atoms). Quantum mechanics describes how these particles '\n",
      " 'interact and we can design new materials with quantum principles in mind.\\n'\n",
      " '\\n'\n",
      " '- **Climate Science**: Quantum mechanics plays a role in the theoretical '\n",
      " 'understanding of molecules (like CO2 in the atmosphere), which can influence '\n",
      " 'phenomena such as the greenhouse effect. \\n'\n",
      " '\\n'\n",
      " '**Key Points Revisited for Clarity**:\\n'\n",
      " '\\n'\n",
      " '- **Microscale**: Focuses on very small particles.\\n'\n",
      " \"- **Wave-Particle Dualities in Organizations (I'll keep the analogy)**: \"\n",
      " \"While the wave-particle duality concept from quantum physics won't directly \"\n",
      " 'influence organizational behavior, the idea of duality can inspire planning, '\n",
      " 'where both \"original\" and \"new\" directions might work for consideration.\\n'\n",
      " '- **Anywhere in the World**: The idea that particles can be felt everywhere, '\n",
      " 'even when they are not in the same place.\\n'\n",
      " '- **In Straightforward Language**:\\n'\n",
      " ' - How particles behave in the very small world of atoms and beyond\\n'\n",
      " '  - Essentially, the shape and motion of particles interacting in tiny, '\n",
      " 'microscopic spaces.\\n'\n",
      " ' - At such small scales, some things are not the way we would expect, '\n",
      " 'especially concerning their wave nature\\n'\n",
      " '\\n'\n",
      " 'This breakdown should provide a foundational understanding of quantum '\n",
      " 'mechanics in simple, conceptual terms, while acknowledging the complexity of '\n",
      " 'its actual role across various scientific and technological aspects of our '\n",
      " 'world. Read more about quantum networking '\n",
      " '(https://en.wikipedia.org/wiki/Quantum Networking) to delve deeper into its '\n",
      " 'potential applications in secure communications.')\n"
     ]
    }
   ],
   "source": [
    "generated_text = response.content\n",
    "print(len(generated_text))\n",
    "pprint.pprint(generated_text)"
   ]
  },
  {
   "cell_type": "markdown",
   "metadata": {},
   "source": [
    "# Tool\n",
    "## Specification\n",
    "inputs, output_type need to be defined using AUTHORIZED_TYPES types\n",
    "```\n",
    "[\n",
    "    \"string\",\n",
    "    \"boolean\",\n",
    "    \"integer\",\n",
    "    \"number\",\n",
    "    \"image\",\n",
    "    \"audio\",\n",
    "    \"array\",\n",
    "    \"object\",\n",
    "    \"any\",\n",
    "    \"null\",\n",
    "]\n",
    "```"
   ]
  },
  {
   "cell_type": "code",
   "execution_count": 13,
   "metadata": {},
   "outputs": [],
   "source": [
    "from smolagents import Tool\n",
    "\n",
    "from enum import Enum\n",
    "from pydantic import BaseModel, Extra, Field"
   ]
  },
  {
   "cell_type": "code",
   "execution_count": 14,
   "metadata": {},
   "outputs": [],
   "source": [
    "class EmotionalState(str, Enum):\n",
    "    positive=\"positive\"\n",
    "    neutral=\"netural\"\n",
    "    negative=\"negative\"\n",
    "    \n",
    "class CharacterState(BaseModel):\n",
    "    emotional_state: EmotionalState\n",
    "    description: str\n",
    "    \n",
    "class AllowedActions(str, Enum):\n",
    "    talk=\"talk\"\n",
    "    walk=\"walk\"\n",
    "    \n",
    "class CharacterAction(BaseModel):\n",
    "    action: AllowedActions\n",
    "    description: str"
   ]
  },
  {
   "cell_type": "code",
   "execution_count": 23,
   "metadata": {},
   "outputs": [],
   "source": [
    "# authorized types:\n",
    "# https://github.com/huggingface/smolagents/blob/4f877034dc7c24377c380edc1d344d3086a5c60c/src/smolagents/tools.py#L70\n",
    "CharacterActionPredictionDescription = '''\n",
    "'''\n",
    "class CharacterActionPredictionTool(Tool):\n",
    "    name=\"character_action_prediction\"\n",
    "    description = CharacterActionPredictionDescription\n",
    "    inputs = {\n",
    "        \"emotional_state\": {\"description\": \"character state\", \"type\": \"string\"},\n",
    "        \"description\": {\"description\": \"character state\", \"type\": \"string\"}\n",
    "    }\n",
    "    output_type = \"string\"\n",
    "    \n",
    "    def __init__(self):\n",
    "        super().__init__()\n",
    "\n",
    "    def forward(self, emotional_state, description) -> str:\n",
    "        print(emotional_state)\n",
    "        action = CharacterAction(\n",
    "            action=AllowedActions.talk,\n",
    "            description=\"test dialogue\"\n",
    "        )\n",
    "        return action"
   ]
  },
  {
   "cell_type": "code",
   "execution_count": 24,
   "metadata": {},
   "outputs": [],
   "source": [
    "tool = CharacterActionPredictionTool()"
   ]
  },
  {
   "cell_type": "code",
   "execution_count": 26,
   "metadata": {},
   "outputs": [
    {
     "name": "stdout",
     "output_type": "stream",
     "text": [
      "EmotionalState.positive\n"
     ]
    }
   ],
   "source": [
    "state = CharacterState(\n",
    "    emotional_state=EmotionalState.positive,\n",
    "    description=\"character is currently happy\"\n",
    ")\n",
    "action = tool(**state.model_dump())"
   ]
  },
  {
   "cell_type": "code",
   "execution_count": null,
   "metadata": {},
   "outputs": [],
   "source": []
  }
 ],
 "metadata": {
  "kernelspec": {
   "display_name": "llm",
   "language": "python",
   "name": "llm"
  },
  "language_info": {
   "codemirror_mode": {
    "name": "ipython",
    "version": 3
   },
   "file_extension": ".py",
   "mimetype": "text/x-python",
   "name": "python",
   "nbconvert_exporter": "python",
   "pygments_lexer": "ipython3",
   "version": "3.10.14"
  }
 },
 "nbformat": 4,
 "nbformat_minor": 2
}
