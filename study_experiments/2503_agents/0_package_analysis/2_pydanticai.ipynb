{
 "cells": [
  {
   "cell_type": "markdown",
   "metadata": {},
   "source": [
    "# PydanticAI Agent\n",
    "pydantic-ai 패키지를 사용한 agent 구성\n",
    "\n",
    "[구성]\n",
    "* level1 agent (A): text 분석 에이전트\n",
    "    * level2 agent1 (B): sentiment-analysis agent\n",
    "    * level2 agent2 (C): emotion-prediction agent\n"
   ]
  },
  {
   "cell_type": "code",
   "execution_count": 1,
   "metadata": {},
   "outputs": [],
   "source": [
    "from enum import Enum\n",
    "from typing import List, Optional\n",
    "import yaml\n",
    "\n",
    "from jinja2 import Template, StrictUndefined\n",
    "from jinja2.exceptions import TemplateError\n",
    "\n",
    "from pydantic import BaseModel, Extra, Field\n",
    "\n",
    "from pydantic_ai import Agent, RunContext\n",
    "from pydantic_ai.models.openai import OpenAIModel, OpenAIResponsesModelSettings\n",
    "from pydantic_ai.providers.openai import OpenAIProvider\n",
    "\n",
    "from pydantic_ai.models import ModelRequestParameters\n",
    "from pydantic_ai.messages import ModelMessage\n",
    "from pydantic_ai.settings import ModelSettings\n",
    "\n",
    "from config import settings"
   ]
  },
  {
   "cell_type": "markdown",
   "metadata": {},
   "source": [
    "# Model Init\n",
    "\n",
    "OpenAIModel\n",
    "* https://ai.pydantic.dev/models/#environment-variable\n",
    "* https://github.com/pydantic/pydantic-ai/blob/1def7df728a5e757ceb16797a8b608e00da70982/pydantic_ai_slim/pydantic_ai/models/openai.py#L146\n",
    "\n",
    "ModelRequestParameters\n",
    "* Configuration for an agent's request to a model, specifically related to tools and output handling.\n",
    "\n",
    "\n",
    "ModelMessage\n",
    "\n",
    "ModelSettings"
   ]
  },
  {
   "cell_type": "code",
   "execution_count": 2,
   "metadata": {},
   "outputs": [
    {
     "name": "stdout",
     "output_type": "stream",
     "text": [
      "gpt-4.1-nano\n"
     ]
    }
   ],
   "source": [
    "# Inint LLM Provider\n",
    "print(settings.llm_model)\n",
    "provider = OpenAIProvider(\n",
    "    base_url=settings.llm_base_url,\n",
    "    api_key=settings.llm_api_key\n",
    ")\n",
    "model = OpenAIModel(\n",
    "    model_name=settings.llm_model,\n",
    "    provider=provider\n",
    ")"
   ]
  },
  {
   "cell_type": "code",
   "execution_count": 4,
   "metadata": {},
   "outputs": [
    {
     "name": "stdout",
     "output_type": "stream",
     "text": [
      "dict_keys(['agent_a', 'agent_b', 'agent_c'])\n"
     ]
    }
   ],
   "source": [
    "with open('prompts/2_pydanticai.yaml', 'r') as file:\n",
    "    prompts = yaml.load(file, Loader=yaml.FullLoader)\n",
    "print(prompts.keys())"
   ]
  },
  {
   "cell_type": "markdown",
   "metadata": {},
   "source": [
    "# 1. Init Agents"
   ]
  },
  {
   "cell_type": "code",
   "execution_count": 5,
   "metadata": {},
   "outputs": [],
   "source": [
    "# Agent A (level1)\n",
    "agent_a_system_message = prompts[\"agent_a\"][\"system\"]\n",
    "agent_a_user_template = Template(\n",
    "    prompts[\"agent_a\"][\"user\"],\n",
    "    undefined=StrictUndefined\n",
    ")\n",
    "\n",
    "AgentA = Agent(\n",
    "    model=model,\n",
    "    name=\"text_analyzer\",\n",
    "    system_prompt=agent_a_system_message\n",
    ")"
   ]
  },
  {
   "cell_type": "code",
   "execution_count": 6,
   "metadata": {},
   "outputs": [],
   "source": [
    "# Agent B (level2) - sentiment analysis\n",
    "class Polarity(str, Enum):\n",
    "    positive = \"positive\"\n",
    "    neutral = \"neutral\"\n",
    "    negative = \"negative\"\n",
    "    \n",
    "class SentimentAnalysisResult(BaseModel):\n",
    "    sentiment: Polarity\n",
    "    reason: str\n",
    "    \n",
    "agent_b_user_template = Template(\n",
    "    prompts[\"agent_b\"][\"user\"],\n",
    "    undefined=StrictUndefined\n",
    ")\n",
    "AgentB = Agent(\n",
    "    model=model,\n",
    "    name=\"sentiment_analyzer\",\n",
    "    system_prompt=prompts[\"agent_b\"][\"system\"],\n",
    "    output_type=SentimentAnalysisResult,\n",
    ")\n",
    "\n",
    "@AgentA.tool\n",
    "async def analyze_sentiment(\n",
    "    ctx: RunContext[None],\n",
    "    text: str,\n",
    ")->Optional[Polarity]:\n",
    "    print(\"[TOOL] analyze_sentiment\")\n",
    "    result = await AgentB.run(\n",
    "        agent_b_user_template.render(text=text)\n",
    "    )\n",
    "    output = result.output\n",
    "    print(output)\n",
    "    return output.sentiment.value"
   ]
  },
  {
   "cell_type": "code",
   "execution_count": 7,
   "metadata": {},
   "outputs": [
    {
     "name": "stdout",
     "output_type": "stream",
     "text": [
      "[TOOL] analyze_sentiment\n",
      "sentiment=<Polarity.positive: 'positive'> reason='The text expresses happiness and a positive emotional state.'\n"
     ]
    },
    {
     "data": {
      "text/plain": [
       "'positive'"
      ]
     },
     "execution_count": 7,
     "metadata": {},
     "output_type": "execute_result"
    }
   ],
   "source": [
    "await analyze_sentiment(ctx=None, text=\"I am happy\")"
   ]
  },
  {
   "cell_type": "code",
   "execution_count": 8,
   "metadata": {},
   "outputs": [],
   "source": [
    "# Agent C (level2) - emotion analysis\n",
    "class EmotionLevel(str, Enum):\n",
    "    low = \"low\"\n",
    "    medium = \"medium\"\n",
    "    high = \"high\"\n",
    "    \n",
    "class Emotion(BaseModel):\n",
    "    joy: EmotionLevel\n",
    "    anger: EmotionLevel\n",
    "    \n",
    "class EmotionAnalysisResult(BaseModel):\n",
    "    emotion: Emotion\n",
    "    \n",
    "agent_c_user_template = Template(\n",
    "    prompts[\"agent_c\"][\"user\"],\n",
    "    undefined=StrictUndefined\n",
    ")\n",
    "AgentC = Agent(\n",
    "    model=model,\n",
    "    name=\"emotion_analyzer\",\n",
    "    system_prompt=prompts[\"agent_c\"][\"system\"],\n",
    "    output_type=EmotionAnalysisResult,\n",
    ")\n",
    "\n",
    "@AgentA.tool\n",
    "async def analyze_emotion(\n",
    "    ctx: RunContext[None],\n",
    "    text: str,\n",
    ")->Optional[Emotion]:\n",
    "    print(\"[TOOL] analyze_emotion\")\n",
    "    result = await AgentC.run(\n",
    "        agent_b_user_template.render(text=text)\n",
    "    )\n",
    "    output = result.output\n",
    "    print(output)\n",
    "    return output.emotion"
   ]
  },
  {
   "cell_type": "code",
   "execution_count": 9,
   "metadata": {},
   "outputs": [
    {
     "name": "stdout",
     "output_type": "stream",
     "text": [
      "[TOOL] analyze_emotion\n",
      "emotion=Emotion(joy=<EmotionLevel.high: 'high'>, anger=<EmotionLevel.low: 'low'>)\n"
     ]
    },
    {
     "data": {
      "text/plain": [
       "Emotion(joy=<EmotionLevel.high: 'high'>, anger=<EmotionLevel.low: 'low'>)"
      ]
     },
     "execution_count": 9,
     "metadata": {},
     "output_type": "execute_result"
    }
   ],
   "source": [
    "await analyze_emotion(ctx=None, text=\"I am happy\")"
   ]
  },
  {
   "cell_type": "markdown",
   "metadata": {},
   "source": [
    "# 2. Agent Run"
   ]
  },
  {
   "cell_type": "code",
   "execution_count": 10,
   "metadata": {},
   "outputs": [
    {
     "name": "stdout",
     "output_type": "stream",
     "text": [
      "[TOOL] analyze_sentiment\n",
      "[TOOL] analyze_emotion\n",
      "sentiment=<Polarity.negative: 'negative'> reason='The person was having a good day but experienced a negative event (getting hit by a car), which indicates a negative sentiment.'\n",
      "emotion=Emotion(joy=<EmotionLevel.low: 'low'>, anger=<EmotionLevel.medium: 'medium'>)\n"
     ]
    }
   ],
   "source": [
    "text = \"I was having a good day but I got hit by a car\"\n",
    "result = await AgentA.run(\n",
    "    agent_a_user_template.render(text=text)\n",
    ")"
   ]
  },
  {
   "cell_type": "code",
   "execution_count": 11,
   "metadata": {},
   "outputs": [
    {
     "data": {
      "text/plain": [
       "AgentRunResult(output='The overall sentiment of the text is negative. Emotionally, the person initially felt joy or positivity, but the experience of being hit by a car has introduced feelings of anger and likely distress. This suggests a shift from a good mood to negative emotions due to an unfortunate incident.')"
      ]
     },
     "execution_count": 11,
     "metadata": {},
     "output_type": "execute_result"
    }
   ],
   "source": [
    "result"
   ]
  },
  {
   "cell_type": "code",
   "execution_count": 12,
   "metadata": {},
   "outputs": [
    {
     "name": "stdout",
     "output_type": "stream",
     "text": [
      "('The overall sentiment of the text is negative. Emotionally, the person '\n",
      " 'initially felt joy or positivity, but the experience of being hit by a car '\n",
      " 'has introduced feelings of anger and likely distress. This suggests a shift '\n",
      " 'from a good mood to negative emotions due to an unfortunate incident.')\n"
     ]
    }
   ],
   "source": [
    "import pprint\n",
    "pprint.pprint(result.output)"
   ]
  }
 ],
 "metadata": {
  "kernelspec": {
   "display_name": "llm",
   "language": "python",
   "name": "llm"
  },
  "language_info": {
   "codemirror_mode": {
    "name": "ipython",
    "version": 3
   },
   "file_extension": ".py",
   "mimetype": "text/x-python",
   "name": "python",
   "nbconvert_exporter": "python",
   "pygments_lexer": "ipython3",
   "version": "3.10.14"
  }
 },
 "nbformat": 4,
 "nbformat_minor": 2
}
