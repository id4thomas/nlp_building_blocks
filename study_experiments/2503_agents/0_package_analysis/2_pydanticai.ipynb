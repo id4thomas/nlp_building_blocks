{
 "cells": [
  {
   "cell_type": "markdown",
   "metadata": {},
   "source": [
    "# PydanticAI Agent"
   ]
  },
  {
   "cell_type": "code",
   "execution_count": 1,
   "metadata": {},
   "outputs": [],
   "source": [
    "from pydantic_ai import Agent\n",
    "from pydantic_ai.models.openai import OpenAIModel, OpenAIResponsesModelSettings\n",
    "from pydantic_ai.providers.openai import OpenAIProvider\n",
    "\n",
    "from pydantic_ai.models import ModelRequestParameters\n",
    "from pydantic_ai.messages import ModelMessage\n",
    "from pydantic_ai.settings import ModelSettings\n",
    "\n",
    "from config import settings"
   ]
  },
  {
   "cell_type": "markdown",
   "metadata": {},
   "source": [
    "# Model Init\n",
    "\n",
    "OpenAIModel\n",
    "* https://ai.pydantic.dev/models/#environment-variable\n",
    "* https://github.com/pydantic/pydantic-ai/blob/1def7df728a5e757ceb16797a8b608e00da70982/pydantic_ai_slim/pydantic_ai/models/openai.py#L146\n",
    "\n",
    "ModelRequestParameters\n",
    "* Configuration for an agent's request to a model, specifically related to tools and output handling.\n",
    "\n",
    "\n",
    "ModelMessage\n",
    "\n",
    "ModelSettings"
   ]
  },
  {
   "cell_type": "code",
   "execution_count": 2,
   "metadata": {},
   "outputs": [],
   "source": [
    "provider = OpenAIProvider(\n",
    "    base_url=settings.llm_base_url,\n",
    "    api_key=settings.llm_api_key\n",
    ")\n",
    "model = OpenAIModel(\n",
    "    model_name=settings.llm_model,\n",
    "    provider=provider\n",
    ")"
   ]
  },
  {
   "cell_type": "code",
   "execution_count": 3,
   "metadata": {},
   "outputs": [],
   "source": [
    "model_settings = OpenAIResponsesModelSettings()"
   ]
  },
  {
   "cell_type": "markdown",
   "metadata": {},
   "source": [
    "# Agent Test"
   ]
  },
  {
   "cell_type": "code",
   "execution_count": 4,
   "metadata": {},
   "outputs": [],
   "source": [
    "from enum import Enum\n",
    "from typing import List\n",
    "\n",
    "from pydantic import BaseModel, Extra, Field"
   ]
  },
  {
   "cell_type": "code",
   "execution_count": 5,
   "metadata": {},
   "outputs": [],
   "source": [
    "class EmotionalState(str, Enum):\n",
    "    positive=\"positive\"\n",
    "    neutral=\"netural\"\n",
    "    negative=\"negative\"\n",
    "    \n",
    "class AllowedActions(str, Enum):\n",
    "    talk=\"talk\"\n",
    "    walk=\"walk\"\n",
    "    \n",
    "class CharacterAction(BaseModel):\n",
    "    action_type: AllowedActions\n",
    "    description: str\n",
    "    \n",
    "class CharacterState(BaseModel):\n",
    "    emotional_state: EmotionalState\n",
    "    description: str\n",
    "    previous_actions: List[CharacterAction]"
   ]
  },
  {
   "cell_type": "code",
   "execution_count": 6,
   "metadata": {},
   "outputs": [],
   "source": [
    "CharacterActionPredictionDescription = '''You are a creative storyteller.\n",
    "Given the character state in the form of\n",
    "{\"emotional_state\": positive/neutral/negative, \"description\": str}\n",
    "\n",
    "Predict a suitable next action for the character to take\n",
    "The type of actions that are allowed are the following\n",
    "* talk\n",
    "* walk\n",
    "\n",
    "Character Action is in the form of\n",
    "{\"action_type\": str, \"description\": str}'''\n",
    "\n",
    "CharacterActionPredictionAgent = Agent(\n",
    "    model=model,\n",
    "    name=\"character_action_predictor\",\n",
    "    deps_type=CharacterState,\n",
    "    result_type=CharacterAction,\n",
    "    system_prompt = CharacterActionPredictionDescription\n",
    ")"
   ]
  },
  {
   "cell_type": "code",
   "execution_count": 7,
   "metadata": {},
   "outputs": [],
   "source": [
    "state = CharacterState(\n",
    "    emotional_state=EmotionalState.positive,\n",
    "    description=\"character is on a date\",\n",
    "    previous_actions=[]\n",
    ")"
   ]
  },
  {
   "cell_type": "code",
   "execution_count": 8,
   "metadata": {},
   "outputs": [],
   "source": [
    "result = await CharacterActionPredictionAgent.run(\n",
    "    \"Predict the next action\",\n",
    "    deps=state\n",
    ")"
   ]
  },
  {
   "cell_type": "code",
   "execution_count": 12,
   "metadata": {},
   "outputs": [
    {
     "data": {
      "text/plain": [
       "{'action_type': <AllowedActions.talk: 'talk'>,\n",
       " 'description': 'The character decides to talk to a passerby to ask for directions, hoping to find their way back to the main road after feeling lost in the woods. '}"
      ]
     },
     "execution_count": 12,
     "metadata": {},
     "output_type": "execute_result"
    }
   ],
   "source": [
    "result.data.model_dump()"
   ]
  },
  {
   "cell_type": "code",
   "execution_count": 9,
   "metadata": {},
   "outputs": [],
   "source": [
    "# # Test model inf\n",
    "# messages = [{\"role\": \"user\", \"content\": \"Explain quantum mechanics in one simple sentence.\"}]\n",
    "# response = model(messages)\n",
    "# print(response)"
   ]
  }
 ],
 "metadata": {
  "kernelspec": {
   "display_name": "llm",
   "language": "python",
   "name": "llm"
  },
  "language_info": {
   "codemirror_mode": {
    "name": "ipython",
    "version": 3
   },
   "file_extension": ".py",
   "mimetype": "text/x-python",
   "name": "python",
   "nbconvert_exporter": "python",
   "pygments_lexer": "ipython3",
   "version": "3.10.14"
  }
 },
 "nbformat": 4,
 "nbformat_minor": 2
}
