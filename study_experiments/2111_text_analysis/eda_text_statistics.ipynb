{
 "cells": [
  {
   "cell_type": "code",
   "execution_count": 2,
   "metadata": {},
   "outputs": [],
   "source": [
    "import numpy as np\n",
    "import pandas as pd\n",
    "from sklearn.datasets import fetch_20newsgroups\n",
    "import matplotlib.pyplot as plt\n",
    "import nltk"
   ]
  },
  {
   "cell_type": "code",
   "execution_count": 3,
   "metadata": {},
   "outputs": [],
   "source": [
    "from nltk.util import ngrams, bigrams, trigrams\n",
    "from nltk.tokenize import word_tokenize,sent_tokenize"
   ]
  },
  {
   "cell_type": "code",
   "execution_count": 4,
   "metadata": {},
   "outputs": [],
   "source": [
    "dataset = fetch_20newsgroups(shuffle=True, random_state=1, remove=('headers', 'footers', 'quotes'))"
   ]
  },
  {
   "cell_type": "code",
   "execution_count": 5,
   "metadata": {},
   "outputs": [
    {
     "name": "stdout",
     "output_type": "stream",
     "text": [
      "dict_keys(['data', 'filenames', 'target_names', 'target', 'DESCR'])\n"
     ]
    }
   ],
   "source": [
    "print(dataset.keys())"
   ]
  },
  {
   "cell_type": "code",
   "execution_count": 6,
   "metadata": {},
   "outputs": [
    {
     "name": "stdout",
     "output_type": "stream",
     "text": [
      "# of Documents 11314\n",
      "Categories ['alt.atheism', 'comp.graphics', 'comp.os.ms-windows.misc', 'comp.sys.ibm.pc.hardware', 'comp.sys.mac.hardware', 'comp.windows.x', 'misc.forsale', 'rec.autos', 'rec.motorcycles', 'rec.sport.baseball', 'rec.sport.hockey', 'sci.crypt', 'sci.electronics', 'sci.med', 'sci.space', 'soc.religion.christian', 'talk.politics.guns', 'talk.politics.mideast', 'talk.politics.misc', 'talk.religion.misc']\n"
     ]
    }
   ],
   "source": [
    "documents=dataset.data\n",
    "print(\"# of Documents\",len(documents))\n",
    "print(\"Categories\",dataset.target_names)"
   ]
  },
  {
   "cell_type": "code",
   "execution_count": 7,
   "metadata": {},
   "outputs": [
    {
     "name": "stdout",
     "output_type": "stream",
     "text": [
      "<bound method NDFrame.head of                                                 document\n",
      "0      Well i'm not sure about the story nad it did s...\n",
      "1      \\n\\n\\n\\n\\n\\n\\nYeah, do you expect people to re...\n",
      "2      Although I realize that principle is not one o...\n",
      "3      Notwithstanding all the legitimate fuss about ...\n",
      "4      Well, I will have to change the scoring on my ...\n",
      "...                                                  ...\n",
      "11309  Danny Rubenstein, an Israeli journalist, will ...\n",
      "11310                                                 \\n\n",
      "11311  \\nI agree.  Home runs off Clemens are always m...\n",
      "11312  I used HP DeskJet with Orange Micros Grappler ...\n",
      "11313                                        ^^^^^^\\n...\n",
      "\n",
      "[11314 rows x 1 columns]>\n",
      "Well i'm not sure about the story nad it did seem biased. What\n",
      "I disagree with is your statement that the U.S. Media is out to\n",
      "ruin Israels reputation. That is rediculous. The U.S. media is\n",
      "the most pro-israeli media in the world. Having lived in Europe\n",
      "I realize that incidences such as the one described in the\n",
      "letter have occured. The U.S. media as a whole seem to try to\n",
      "ignore them. The U.S. is subsidizing Israels existance and the\n",
      "Europeans are not (at least not to the same degree). So I think\n",
      "that might be a reason they report more clearly on the\n",
      "atrocities.\n",
      "\tWhat is a shame is that in Austria, daily reports of\n",
      "the inhuman acts commited by Israeli soldiers and the blessing\n",
      "received from the Government makes some of the Holocaust guilt\n",
      "go away. After all, look how the Jews are treating other races\n",
      "when they got power. It is unfortunate.\n",
      "\n"
     ]
    }
   ],
   "source": [
    "news_df=pd.DataFrame({'document':documents})\n",
    "print(news_df.head)\n",
    "print(news_df.iloc[0]['document'])"
   ]
  },
  {
   "cell_type": "code",
   "execution_count": 21,
   "metadata": {},
   "outputs": [
    {
     "name": "stdout",
     "output_type": "stream",
     "text": [
      "<bound method NDFrame.head of 0        [Well, i, 'm, not, sure, about, the, story, na...\n",
      "1        [Yeah, ,, do, you, expect, people, to, read, t...\n",
      "2        [Although, I, realize, that, principle, is, no...\n",
      "3        [Notwithstanding, all, the, legitimate, fuss, ...\n",
      "4        [Well, ,, I, will, have, to, change, the, scor...\n",
      "                               ...                        \n",
      "11309    [Danny, Rubenstein, ,, an, Israeli, journalist...\n",
      "11310                                                   []\n",
      "11311    [I, agree, ., Home, runs, off, Clemens, are, a...\n",
      "11312    [I, used, HP, DeskJet, with, Orange, Micros, G...\n",
      "11313    [^^^^^^, No, argument, at, all, with, Murphy, ...\n",
      "Name: tokenized, Length: 11314, dtype: object>\n",
      "<bound method NDFrame.head of 0        [(Well, i), (i, 'm), ('m, not), (not, sure), (...\n",
      "1        [(Yeah, ,), (,, do), (do, you), (you, expect),...\n",
      "2        [(Although, I), (I, realize), (realize, that),...\n",
      "3        [(Notwithstanding, all), (all, the), (the, leg...\n",
      "4        [(Well, ,), (,, I), (I, will), (will, have), (...\n",
      "                               ...                        \n",
      "11309    [(Danny, Rubenstein), (Rubenstein, ,), (,, an)...\n",
      "11310                                                   []\n",
      "11311    [(I, agree), (agree, .), (., Home), (Home, run...\n",
      "11312    [(I, used), (used, HP), (HP, DeskJet), (DeskJe...\n",
      "11313    [(^^^^^^, No), (No, argument), (argument, at),...\n",
      "Name: bigrams, Length: 11314, dtype: object>\n"
     ]
    }
   ],
   "source": [
    "news_df['tokenized']  = news_df['document'].map(lambda x : (word_tokenize(x)))\n",
    "news_df['bigrams']  = news_df['document'].map(lambda x : list(bigrams(word_tokenize(x))))\n",
    "\n",
    "print(news_df['tokenized'].head)\n",
    "print(news_df['bigrams'].head)\n"
   ]
  },
  {
   "cell_type": "code",
   "execution_count": 10,
   "metadata": {},
   "outputs": [
    {
     "name": "stdout",
     "output_type": "stream",
     "text": [
      "0        172\n",
      "1        123\n",
      "2        137\n",
      "3        201\n",
      "4         81\n",
      "        ... \n",
      "11309     52\n",
      "11310      0\n",
      "11311     24\n",
      "11312     58\n",
      "11313    297\n",
      "Name: tokens_len, Length: 11314, dtype: int64\n",
      "0\n",
      "35955\n"
     ]
    },
    {
     "data": {
      "image/png": "[encoded data removed]",
      "text/plain": [
       "<Figure size 432x288 with 1 Axes>"
      ]
     },
     "metadata": {
      "needs_background": "light"
     },
     "output_type": "display_data"
    }
   ],
   "source": [
    "#Num Tokens Hist\n",
    "news_df['tokens_len']=news_df.tokenized.apply(len)\n",
    "print(news_df['tokens_len'])\n",
    "news_df['tokens_len'].hist(range = (0,1000),bins=20)\n",
    "print(news_df['tokens_len'].min())\n",
    "print(news_df['tokens_len'].max())"
   ]
  },
  {
   "cell_type": "code",
   "execution_count": 18,
   "metadata": {},
   "outputs": [
    {
     "name": "stdout",
     "output_type": "stream",
     "text": [
      "0        171\n",
      "1        122\n",
      "2        136\n",
      "3        200\n",
      "4         80\n",
      "        ... \n",
      "11309     51\n",
      "11310      0\n",
      "11311     23\n",
      "11312     57\n",
      "11313    296\n",
      "Name: bigrams_len, Length: 11314, dtype: int64\n",
      "0\n",
      "35954\n"
     ]
    },
    {
     "data": {
      "image/png": "[encoded data removed]",
      "text/plain": [
       "<Figure size 432x288 with 1 Axes>"
      ]
     },
     "metadata": {
      "needs_background": "light"
     },
     "output_type": "display_data"
    }
   ],
   "source": [
    "#Bigram Hist\n",
    "news_df['bigrams_len']=news_df.bigrams.apply(len)\n",
    "print(news_df['bigrams_len'])\n",
    "news_df['bigrams_len'].hist(range = (0,500),bins=20)\n",
    "print(news_df['bigrams_len'].min())\n",
    "print(news_df['bigrams_len'].max())"
   ]
  },
  {
   "cell_type": "code",
   "execution_count": 11,
   "metadata": {},
   "outputs": [],
   "source": [
    "from sklearn.feature_extraction.text import CountVectorizer"
   ]
  },
  {
   "cell_type": "code",
   "execution_count": 12,
   "metadata": {},
   "outputs": [],
   "source": [
    "vectorizer = CountVectorizer()\n",
    "\n",
    "cv_tokenizer=vectorizer.build_tokenizer()"
   ]
  },
  {
   "cell_type": "code",
   "execution_count": 13,
   "metadata": {},
   "outputs": [],
   "source": [
    "# Turn DF into List\n",
    "news_docs=news_df.document.tolist()"
   ]
  },
  {
   "cell_type": "code",
   "execution_count": 16,
   "metadata": {},
   "outputs": [
    {
     "name": "stdout",
     "output_type": "stream",
     "text": [
      "Well i'm not sure about the story nad it did seem biased. What\n",
      "I disagree with is your statement that the U.S. Media is out to\n",
      "ruin Israels reputation. That is rediculous. The U.S. media is\n",
      "the most pro-israeli media in the world. Having lived in Europe\n",
      "I realize that incidences such as the one described in the\n",
      "letter have occured. The U.S. media as a whole seem to try to\n",
      "ignore them. The U.S. is subsidizing Israels existance and the\n",
      "Europeans are not (at least not to the same degree). So I think\n",
      "that might be a reason they report more clearly on the\n",
      "atrocities.\n",
      "\tWhat is a shame is that in Austria, daily reports of\n",
      "the inhuman acts commited by Israeli soldiers and the blessing\n",
      "received from the Government makes some of the Holocaust guilt\n",
      "go away. After all, look how the Jews are treating other races\n",
      "when they got power. It is unfortunate.\n",
      "\n",
      "['Well', 'not', 'sure', 'about', 'the', 'story', 'nad', 'it', 'did', 'seem', 'biased', 'What', 'disagree', 'with', 'is']\n"
     ]
    }
   ],
   "source": [
    "# CountVectorizer Tokenization Example\n",
    "print(news_docs[0])\n",
    "print(cv_tokenizer(news_docs[0])[:15])"
   ]
  },
  {
   "cell_type": "code",
   "execution_count": 17,
   "metadata": {},
   "outputs": [
    {
     "name": "stdout",
     "output_type": "stream",
     "text": [
      "(11314, 101631)\n"
     ]
    }
   ],
   "source": [
    "#Term-Document Matrix\n",
    "X=vectorizer.fit_transform(news_docs)\n",
    "print(X.shape)"
   ]
  },
  {
   "cell_type": "code",
   "execution_count": 23,
   "metadata": {},
   "outputs": [
    {
     "name": "stdout",
     "output_type": "stream",
     "text": [
      "[['Well', 'i', \"'m\", 'not', 'sure', 'about', 'the', 'story', 'nad', 'it', 'did', 'seem', 'biased', '.', 'What', 'I', 'disagree', 'with', 'is', 'your', 'statement', 'that', 'the', 'U.S.', 'Media', 'is', 'out', 'to', 'ruin', 'Israels', 'reputation', '.', 'That', 'is', 'rediculous', '.', 'The', 'U.S.', 'media', 'is', 'the', 'most', 'pro-israeli', 'media', 'in', 'the', 'world', '.', 'Having', 'lived', 'in', 'Europe', 'I', 'realize', 'that', 'incidences', 'such', 'as', 'the', 'one', 'described', 'in', 'the', 'letter', 'have', 'occured', '.', 'The', 'U.S.', 'media', 'as', 'a', 'whole', 'seem', 'to', 'try', 'to', 'ignore', 'them', '.', 'The', 'U.S.', 'is', 'subsidizing', 'Israels', 'existance', 'and', 'the', 'Europeans', 'are', 'not', '(', 'at', 'least', 'not', 'to', 'the', 'same', 'degree', ')', '.', 'So', 'I', 'think', 'that', 'might', 'be', 'a', 'reason', 'they', 'report', 'more', 'clearly', 'on', 'the', 'atrocities', '.', 'What', 'is', 'a', 'shame', 'is', 'that', 'in', 'Austria', ',', 'daily', 'reports', 'of', 'the', 'inhuman', 'acts', 'commited', 'by', 'Israeli', 'soldiers', 'and', 'the', 'blessing', 'received', 'from', 'the', 'Government', 'makes', 'some', 'of', 'the', 'Holocaust', 'guilt', 'go', 'away', '.', 'After', 'all', ',', 'look', 'how', 'the', 'Jews', 'are', 'treating', 'other', 'races', 'when', 'they', 'got', 'power', '.', 'It', 'is', 'unfortunate', '.'], ['Yeah', ',', 'do', 'you', 'expect', 'people', 'to', 'read', 'the', 'FAQ', ',', 'etc', '.', 'and', 'actually', 'accept', 'hard', 'atheism', '?', 'No', ',', 'you', 'need', 'a', 'little', 'leap', 'of', 'faith', ',', 'Jimmy', '.', 'Your', 'logic', 'runs', 'out', 'of', 'steam', '!', 'Jim', ',', 'Sorry', 'I', 'ca', \"n't\", 'pity', 'you', ',', 'Jim', '.', 'And', 'I', \"'m\", 'sorry', 'that', 'you', 'have', 'these', 'feelings', 'of', 'denial', 'about', 'the', 'faith', 'you', 'need', 'to', 'get', 'by', '.', 'Oh', 'well', ',', 'just', 'pretend', 'that', 'it', 'will', 'all', 'end', 'happily', 'ever', 'after', 'anyway', '.', 'Maybe', 'if', 'you', 'start', 'a', 'new', 'newsgroup', ',', 'alt.atheist.hard', ',', 'you', 'wo', \"n't\", 'be', 'bummin', \"'\", 'so', 'much', '?', 'Bye-Bye', ',', 'Big', 'Jim', '.', 'Do', \"n't\", 'forget', 'your', 'Flintstone', \"'s\", 'Chewables', '!', ':', ')', '--', 'Bake', 'Timmons', ',', 'III'], ['Although', 'I', 'realize', 'that', 'principle', 'is', 'not', 'one', 'of', 'your', 'strongest', 'points', ',', 'I', 'would', 'still', 'like', 'to', 'know', 'why', 'do', 'do', 'not', 'ask', 'any', 'question', 'of', 'this', 'sort', 'about', 'the', 'Arab', 'countries', '.', 'If', 'you', 'want', 'to', 'continue', 'this', 'think', 'tank', 'charade', 'of', 'yours', ',', 'your', 'fixation', 'on', 'Israel', 'must', 'stop', '.', 'You', 'might', 'have', 'to', 'start', 'asking', 'the', 'same', 'sort', 'of', 'questions', 'of', 'Arab', 'countries', 'as', 'well', '.', 'You', 'realize', 'it', 'would', 'not', 'work', ',', 'as', 'the', 'Arab', 'countries', \"'\", 'treatment', 'of', 'Jews', 'over', 'the', 'last', 'several', 'decades', 'is', 'so', 'bad', 'that', 'your', 'fixation', 'on', 'Israel', 'would', 'begin', 'to', 'look', 'like', 'the', 'biased', 'attack', 'that', 'it', 'is', '.', 'Everyone', 'in', 'this', 'group', 'recognizes', 'that', 'your', 'stupid', \"'Center\", 'for', 'Policy', 'Research', \"'\", 'is', 'nothing', 'more', 'than', 'a', 'fancy', 'name', 'for', 'some', 'bigot', 'who', 'hates', 'Israel', '.'], ['Notwithstanding', 'all', 'the', 'legitimate', 'fuss', 'about', 'this', 'proposal', ',', 'how', 'much', 'of', 'a', 'change', 'is', 'it', '?', 'ATT', \"'s\", 'last', 'product', 'in', 'this', 'area', '(', 'a', ')', 'was', 'priced', 'over', '$', '1000', ',', 'as', 'I', 'suspect', \"'clipper\", \"'\", 'phones', 'will', 'be', ';', '(', 'b', ')', 'came', 'to', 'the', 'customer', 'with', 'the', 'key', 'automatically', 'preregistered', 'with', 'government', 'authorities', '.', 'Thus', ',', 'aside', 'from', 'attempting', 'to', 'further', 'legitimize', 'and', 'solidify', 'the', 'fed', \"'s\", 'posture', ',', 'Clipper', 'seems', 'to', 'be', '``', 'more', 'of', 'the', 'same', \"''\", ',', 'rather', 'than', 'a', 'new', 'direction', '.', 'Yes', ',', 'technology', 'will', 'eventually', 'drive', 'the', 'cost', 'down', 'and', 'thereby', 'promote', 'more', 'widespread', 'use-', 'but', 'at', 'present', ',', 'the', 'man', 'on', 'the', 'street', 'is', 'not', 'going', 'to', 'purchase', 'a', '$', '1000', 'crypto', 'telephone', ',', 'especially', 'when', 'the', 'guy', 'on', 'the', 'other', 'end', 'probably', 'does', \"n't\", 'have', 'one', 'anyway', '.', 'Am', 'I', 'missing', 'something', '?', 'The', 'real', 'question', 'is', 'what', 'the', 'gov', 'will', 'do', 'in', 'a', 'year', 'or', 'two', 'when', 'air-', 'tight', 'voice', 'privacy', 'on', 'a', 'phone', 'line', 'is', 'as', 'close', 'as', 'your', 'nearest', 'pc', '.', 'That', 'has', 'got', 'to', 'a', 'problematic', 'scenario', 'for', 'them', ',', 'even', 'if', 'the', 'extent', 'of', 'usage', 'never', 'surpasses', 'the', \"'underground\", \"'\", 'stature', 'of', 'PGP', '.'], ['Well', ',', 'I', 'will', 'have', 'to', 'change', 'the', 'scoring', 'on', 'my', 'playoff', 'pool', '.', 'Unfortunately', 'I', 'do', \"n't\", 'have', 'time', 'right', 'now', ',', 'but', 'I', 'will', 'certainly', 'post', 'the', 'new', 'scoring', 'rules', 'by', 'tomorrow', '.', 'Does', 'it', 'matter', '?', 'No', ',', 'you', \"'ll\", 'enter', 'anyway', '!', '!', '!', 'Good', '!', '--', 'Keith', 'Keller', 'LET', \"'S\", 'GO', 'RANGERS', '!', '!', '!', '!', '!', 'LET', \"'S\", 'GO', 'QUAKERS', '!', '!', '!', '!', '!', 'kkeller', '@', 'mail.sas.upenn.edu', 'IVY', 'LEAGUE', 'CHAMPS', '!', '!', '!', '!']]\n"
     ]
    }
   ],
   "source": [
    "#Counter Based\n",
    "#Get tokenized list\n",
    "nltk_tokenized_data=news_df.tokenized.tolist()\n",
    "print(nltk_tokenized_data[:5])\n"
   ]
  },
  {
   "cell_type": "code",
   "execution_count": 24,
   "metadata": {},
   "outputs": [
    {
     "ename": "TypeError",
     "evalue": "unhashable type: 'list'",
     "output_type": "error",
     "traceback": [
      "\u001b[0;31m---------------------------------------------------------------------------\u001b[0m",
      "\u001b[0;31mTypeError\u001b[0m                                 Traceback (most recent call last)",
      "\u001b[0;32m<ipython-input-24-f4ba088303f6>\u001b[0m in \u001b[0;36m<module>\u001b[0;34m\u001b[0m\n\u001b[1;32m      1\u001b[0m \u001b[0;32mfrom\u001b[0m \u001b[0mcollections\u001b[0m \u001b[0;32mimport\u001b[0m \u001b[0mCounter\u001b[0m\u001b[0;34m\u001b[0m\u001b[0;34m\u001b[0m\u001b[0m\n\u001b[0;32m----> 2\u001b[0;31m \u001b[0mcount\u001b[0m\u001b[0;34m=\u001b[0m\u001b[0mCounter\u001b[0m\u001b[0;34m(\u001b[0m\u001b[0mnltk_tokenized_data\u001b[0m\u001b[0;34m)\u001b[0m\u001b[0;34m\u001b[0m\u001b[0;34m\u001b[0m\u001b[0m\n\u001b[0m",
      "\u001b[0;32m~/anaconda3/envs/comet2020/lib/python3.8/collections/__init__.py\u001b[0m in \u001b[0;36m__init__\u001b[0;34m(self, iterable, **kwds)\u001b[0m\n\u001b[1;32m    550\u001b[0m         '''\n\u001b[1;32m    551\u001b[0m         \u001b[0msuper\u001b[0m\u001b[0;34m(\u001b[0m\u001b[0mCounter\u001b[0m\u001b[0;34m,\u001b[0m \u001b[0mself\u001b[0m\u001b[0;34m)\u001b[0m\u001b[0;34m.\u001b[0m\u001b[0m__init__\u001b[0m\u001b[0;34m(\u001b[0m\u001b[0;34m)\u001b[0m\u001b[0;34m\u001b[0m\u001b[0;34m\u001b[0m\u001b[0m\n\u001b[0;32m--> 552\u001b[0;31m         \u001b[0mself\u001b[0m\u001b[0;34m.\u001b[0m\u001b[0mupdate\u001b[0m\u001b[0;34m(\u001b[0m\u001b[0miterable\u001b[0m\u001b[0;34m,\u001b[0m \u001b[0;34m**\u001b[0m\u001b[0mkwds\u001b[0m\u001b[0;34m)\u001b[0m\u001b[0;34m\u001b[0m\u001b[0;34m\u001b[0m\u001b[0m\n\u001b[0m\u001b[1;32m    553\u001b[0m \u001b[0;34m\u001b[0m\u001b[0m\n\u001b[1;32m    554\u001b[0m     \u001b[0;32mdef\u001b[0m \u001b[0m__missing__\u001b[0m\u001b[0;34m(\u001b[0m\u001b[0mself\u001b[0m\u001b[0;34m,\u001b[0m \u001b[0mkey\u001b[0m\u001b[0;34m)\u001b[0m\u001b[0;34m:\u001b[0m\u001b[0;34m\u001b[0m\u001b[0;34m\u001b[0m\u001b[0m\n",
      "\u001b[0;32m~/anaconda3/envs/comet2020/lib/python3.8/collections/__init__.py\u001b[0m in \u001b[0;36mupdate\u001b[0;34m(self, iterable, **kwds)\u001b[0m\n\u001b[1;32m    635\u001b[0m                     \u001b[0msuper\u001b[0m\u001b[0;34m(\u001b[0m\u001b[0mCounter\u001b[0m\u001b[0;34m,\u001b[0m \u001b[0mself\u001b[0m\u001b[0;34m)\u001b[0m\u001b[0;34m.\u001b[0m\u001b[0mupdate\u001b[0m\u001b[0;34m(\u001b[0m\u001b[0miterable\u001b[0m\u001b[0;34m)\u001b[0m \u001b[0;31m# fast path when counter is empty\u001b[0m\u001b[0;34m\u001b[0m\u001b[0;34m\u001b[0m\u001b[0m\n\u001b[1;32m    636\u001b[0m             \u001b[0;32melse\u001b[0m\u001b[0;34m:\u001b[0m\u001b[0;34m\u001b[0m\u001b[0;34m\u001b[0m\u001b[0m\n\u001b[0;32m--> 637\u001b[0;31m                 \u001b[0m_count_elements\u001b[0m\u001b[0;34m(\u001b[0m\u001b[0mself\u001b[0m\u001b[0;34m,\u001b[0m \u001b[0miterable\u001b[0m\u001b[0;34m)\u001b[0m\u001b[0;34m\u001b[0m\u001b[0;34m\u001b[0m\u001b[0m\n\u001b[0m\u001b[1;32m    638\u001b[0m         \u001b[0;32mif\u001b[0m \u001b[0mkwds\u001b[0m\u001b[0;34m:\u001b[0m\u001b[0;34m\u001b[0m\u001b[0;34m\u001b[0m\u001b[0m\n\u001b[1;32m    639\u001b[0m             \u001b[0mself\u001b[0m\u001b[0;34m.\u001b[0m\u001b[0mupdate\u001b[0m\u001b[0;34m(\u001b[0m\u001b[0mkwds\u001b[0m\u001b[0;34m)\u001b[0m\u001b[0;34m\u001b[0m\u001b[0;34m\u001b[0m\u001b[0m\n",
      "\u001b[0;31mTypeError\u001b[0m: unhashable type: 'list'"
     ]
    }
   ],
   "source": [
    "from collections import Counter\n",
    "count=Counter(nltk_tokenized_data)"
   ]
  },
  {
   "cell_type": "code",
   "execution_count": 40,
   "metadata": {},
   "outputs": [],
   "source": [
    "#Remove Punctutation, Stop Words\n",
    "import string\n",
    "from nltk.corpus import stopwords\n",
    "\n",
    "def remove_punctuation(text):\n",
    "    tokens=word_tokenize(text)\n",
    "    no_punct=[words for words in tokens if words not in string.punctuation]\n",
    "    words_wo_punct=' '.join(no_punct)\n",
    "    # no_punct=[words for words in text if words not in string.punctuation]\n",
    "    # words_wo_punct=''.join(no_punct)\n",
    "    return words_wo_punct\n",
    "\n",
    "def remove_stopwords(text):\n",
    "    tokens=word_tokenize(text)\n",
    "    no_stop=[word for word in tokens if word not in set(stopwords.words('english'))]\n",
    "    words_wo_stop=' '.join(no_stop)\n",
    "    return words_wo_stop\n"
   ]
  },
  {
   "cell_type": "code",
   "execution_count": null,
   "metadata": {},
   "outputs": [],
   "source": [
    "#Remove Punctuation\n",
    "news_df['document_no_punct']=news_df['document'].apply(lambda x: remove_punctuation(x))"
   ]
  },
  {
   "cell_type": "code",
   "execution_count": 47,
   "metadata": {},
   "outputs": [],
   "source": [
    "#Remove Stopwords\n",
    "news_df['document_no_stop']=news_df['document_no_punct'].apply(lambda x: remove_stopwords(x))"
   ]
  },
  {
   "cell_type": "code",
   "execution_count": 41,
   "metadata": {},
   "outputs": [],
   "source": [
    "# news_df['document_no_punct_tokenized']  = news_df['document_no_punct'].map(lambda x : (word_tokenize(x)))\n",
    "news_df['document_no_punct_tokenized']  = news_df['document_no_punct'].map(lambda x : (x.split()))\n",
    "nltk_tokenized_data=news_df.document_no_punct_tokenized.tolist()"
   ]
  },
  {
   "cell_type": "code",
   "execution_count": null,
   "metadata": {},
   "outputs": [],
   "source": [
    "news_df['document_no_stop_tokenized']  = news_df['document_no_stop'].map(lambda x : (x.split()))\n",
    "nltk_tokenized_data=news_df.document_no_punct_tokenized.tolist()"
   ]
  },
  {
   "cell_type": "code",
   "execution_count": 42,
   "metadata": {},
   "outputs": [
    {
     "name": "stdout",
     "output_type": "stream",
     "text": [
      "[('the', 94647), (\"'AX\", 61725), ('--', 61024), ('to', 51801), ('of', 45912), ('a', 40487), ('and', 40042), ('I', 33786), ('is', 29742), ('in', 28417), ('that', 26724), (\"''\", 22729), ('it', 19060), ('for', 18500), ('``', 18401), ('you', 15977), ('on', 13585), ('be', 13581), ('have', 12915), ('are', 12869), ('with', 12309), ('not', 12144), ('this', 11179), (\"'s\", 10928), ('The', 10864), ('as', 10152), ('or', 9864), (\"n't\", 9820), ('was', 9635), ('do', 8579), ('by', 7758), ('from', 7684), ('but', 7632), ('they', 7593), ('at', 7156), ('can', 6919), ('an', 6915), ('will', 6440), ('would', 6338), ('1', 5849), ('if', 5770), ('about', 5607), ('all', 5563), ('one', 5509), ('X', 5412), ('my', 5291), ('has', 5277), ('there', 5055), ('your', 4949), ('we', 4804)]\n"
     ]
    },
    {
     "data": {
      "image/png": "[encoded data removed]",
      "text/plain": [
       "<Figure size 432x288 with 1 Axes>"
      ]
     },
     "metadata": {
      "needs_background": "light"
     },
     "output_type": "display_data"
    },
    {
     "data": {
      "text/plain": [
       "<AxesSubplot:xlabel='Samples', ylabel='Counts'>"
      ]
     },
     "execution_count": 42,
     "metadata": {},
     "output_type": "execute_result"
    }
   ],
   "source": [
    "from nltk.probability import FreqDist\n",
    "fdist = FreqDist([word for sent in nltk_tokenized_data for word in sent])\n",
    "top_ten = fdist.most_common(50)\n",
    "print(top_ten)\n",
    "\n",
    "fdist.plot(20)"
   ]
  },
  {
   "cell_type": "code",
   "execution_count": 45,
   "metadata": {},
   "outputs": [],
   "source": [
    "import seaborn as sns\n",
    "\n",
    "def analyse_most_common(fdist,n):\n",
    "    mostcommon_words= fdist.most_common(n)\n",
    "    y=[]\n",
    "    x=[]\n",
    "    for word,count in mostcommon_words:\n",
    "        #Word longer thatn 2 characters\n",
    "        if len(word)>2:\n",
    "            x.append(word)\n",
    "            y.append(count)\n",
    "    sns.barplot(x=y,y=x)"
   ]
  },
  {
   "cell_type": "code",
   "execution_count": 46,
   "metadata": {},
   "outputs": [
    {
     "data": {
      "image/png": "[encoded data removed]",
      "text/plain": [
       "<Figure size 432x288 with 1 Axes>"
      ]
     },
     "metadata": {
      "needs_background": "light"
     },
     "output_type": "display_data"
    }
   ],
   "source": [
    "analyse_most_common(fdist,50)"
   ]
  }
 ],
 "metadata": {
  "interpreter": {
   "hash": "490463624bb20166a8667b7fa728dcad49f92cff15a6e94f417ad6118e23fbcd"
  },
  "kernelspec": {
   "display_name": "Python 3.8.8 64-bit ('comet2020': conda)",
   "language": "python",
   "name": "python3"
  },
  "language_info": {
   "codemirror_mode": {
    "name": "ipython",
    "version": 3
   },
   "file_extension": ".py",
   "mimetype": "text/x-python",
   "name": "python",
   "nbconvert_exporter": "python",
   "pygments_lexer": "ipython3",
   "version": "3.8.8"
  },
  "orig_nbformat": 4
 },
 "nbformat": 4,
 "nbformat_minor": 2
}
