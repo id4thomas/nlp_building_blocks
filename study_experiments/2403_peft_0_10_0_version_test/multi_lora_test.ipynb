{
 "cells": [
  {
   "cell_type": "code",
   "execution_count": 1,
   "metadata": {},
   "outputs": [
    {
     "name": "stdout",
     "output_type": "stream",
     "text": [
      "Name: peft\n",
      "Version: 0.10.0\n",
      "Summary: Parameter-Efficient Fine-Tuning (PEFT)\n",
      "Home-page: https://github.com/huggingface/peft\n",
      "Author: The HuggingFace team\n",
      "Author-email: sourab@huggingface.co\n",
      "License: Apache\n",
      "Location: /Users/id4thomas/miniforge3/envs/torch2/lib/python3.10/site-packages\n",
      "Requires: accelerate, huggingface-hub, numpy, packaging, psutil, pyyaml, safetensors, torch, tqdm, transformers\n",
      "Required-by: \n"
     ]
    }
   ],
   "source": [
    "!pip show peft"
   ]
  },
  {
   "cell_type": "markdown",
   "metadata": {},
   "source": [
    "# peft 0.10.0 multi-lora inference Test\n",
    "* 여러 adapter가 모두 load 되어있는 상태에서 서로 다른 어댑터 추론 호출"
   ]
  },
  {
   "cell_type": "code",
   "execution_count": 11,
   "metadata": {},
   "outputs": [],
   "source": [
    "import os\n",
    "# os.environ['KMP_DUPLICATE_LIB_OK']='True'\n",
    "import torch\n",
    "from peft import LoraConfig, get_peft_model\n",
    "from transformers import AutoModelForCausalLM, AutoTokenizer"
   ]
  },
  {
   "cell_type": "code",
   "execution_count": 3,
   "metadata": {},
   "outputs": [
    {
     "name": "stderr",
     "output_type": "stream",
     "text": [
      "config.json: 100%|██████████| 927/927 [00:00<00:00, 1.90MB/s]\n",
      "model.safetensors.index.json: 100%|██████████| 35.7k/35.7k [00:00<00:00, 9.54MB/s]\n",
      "model-00001-of-00002.safetensors: 100%|██████████| 4.97G/4.97G [01:19<00:00, 62.2MB/s]\n",
      "model-00002-of-00002.safetensors: 100%|██████████| 669M/669M [00:11<00:00, 60.1MB/s]\n",
      "Downloading shards: 100%|██████████| 2/2 [01:32<00:00, 46.04s/it]\n",
      "Loading checkpoint shards: 100%|██████████| 2/2 [00:06<00:00,  3.08s/it]\n"
     ]
    }
   ],
   "source": [
    "plm_name = \"yanolja/EEVE-Korean-Instruct-2.8B-v1.0\"\n",
    "plm_model = AutoModelForCausalLM.from_pretrained(\n",
    "\tplm_name,\n",
    "\ttorch_dtype = torch.bfloat16\n",
    ")\n",
    "phi_target_modules = [\n",
    "\t\"q_proj\", \"k_proj\", \"v_proj\", \"dense\"\n",
    "]"
   ]
  },
  {
   "cell_type": "code",
   "execution_count": 4,
   "metadata": {},
   "outputs": [],
   "source": [
    "## Adapter1\n",
    "adapter1_config = LoraConfig(\n",
    "\tinit_lora_weights=\"gaussian\",\n",
    "\tr = 8,\n",
    "\tlora_alpha=16,\n",
    "\tlora_dropout=0.05,\n",
    "\ttarget_modules = phi_target_modules\n",
    ")\n",
    "\n",
    "model_a1 = get_peft_model(\n",
    "\tplm_model,\n",
    "\tpeft_config = adapter1_config,\n",
    "\tadapter_name = \"a1\"\n",
    ")\n",
    "model_a1.save_pretrained(\"adapters/a1\")"
   ]
  },
  {
   "cell_type": "code",
   "execution_count": 5,
   "metadata": {},
   "outputs": [],
   "source": [
    "adapter2_config = LoraConfig(\n",
    "\tinit_lora_weights=\"gaussian\",\n",
    "\tr = 4,\n",
    "\tlora_alpha=8,\n",
    "\tlora_dropout=0.05,\n",
    "\ttarget_modules = phi_target_modules\n",
    ")\n",
    "\n",
    "model_a2 = get_peft_model(\n",
    "\tplm_model,\n",
    "\tpeft_config = adapter2_config,\n",
    "\tadapter_name = \"a2\"\n",
    ")\n",
    "model_a2.save_pretrained(\"adapters/a2\")"
   ]
  },
  {
   "cell_type": "code",
   "execution_count": 30,
   "metadata": {},
   "outputs": [
    {
     "name": "stdout",
     "output_type": "stream",
     "text": [
      "['a2', 'a1']\n",
      "['README.md', 'a1'] ['adapter_model.safetensors', 'adapter_config.json']\n",
      "['a2', 'README.md', 'a1'] ['adapter_model.safetensors', 'adapter_config.json']\n"
     ]
    }
   ],
   "source": [
    "print(os.listdir(\"adapters\"))\n",
    "print(os.listdir(\"adapters/a1\"), os.listdir(\"adapters/a1/a1\"))\n",
    "print(os.listdir(\"adapters/a2\"), os.listdir(\"adapters/a2/a2\")) # accidently saved 2 adapters"
   ]
  },
  {
   "cell_type": "code",
   "execution_count": 15,
   "metadata": {},
   "outputs": [
    {
     "data": {
      "text/plain": [
       "PeftModel(\n",
       "  (base_model): LoraModel(\n",
       "    (model): PhiForCausalLM(\n",
       "      (model): PhiModel(\n",
       "        (embed_tokens): Embedding(58944, 2560)\n",
       "        (embed_dropout): Dropout(p=0.0, inplace=False)\n",
       "        (layers): ModuleList(\n",
       "          (0-31): 32 x PhiDecoderLayer(\n",
       "            (self_attn): PhiSdpaAttention(\n",
       "              (q_proj): lora.Linear(\n",
       "                (base_layer): Linear(in_features=2560, out_features=2560, bias=True)\n",
       "                (lora_dropout): ModuleDict(\n",
       "                  (a1): Dropout(p=0.05, inplace=False)\n",
       "                  (a2): Dropout(p=0.05, inplace=False)\n",
       "                )\n",
       "                (lora_A): ModuleDict(\n",
       "                  (a1): Linear(in_features=2560, out_features=8, bias=False)\n",
       "                  (a2): Linear(in_features=2560, out_features=4, bias=False)\n",
       "                )\n",
       "                (lora_B): ModuleDict(\n",
       "                  (a1): Linear(in_features=8, out_features=2560, bias=False)\n",
       "                  (a2): Linear(in_features=4, out_features=2560, bias=False)\n",
       "                )\n",
       "                (lora_embedding_A): ParameterDict()\n",
       "                (lora_embedding_B): ParameterDict()\n",
       "              )\n",
       "              (k_proj): lora.Linear(\n",
       "                (base_layer): Linear(in_features=2560, out_features=2560, bias=True)\n",
       "                (lora_dropout): ModuleDict(\n",
       "                  (a1): Dropout(p=0.05, inplace=False)\n",
       "                  (a2): Dropout(p=0.05, inplace=False)\n",
       "                )\n",
       "                (lora_A): ModuleDict(\n",
       "                  (a1): Linear(in_features=2560, out_features=8, bias=False)\n",
       "                  (a2): Linear(in_features=2560, out_features=4, bias=False)\n",
       "                )\n",
       "                (lora_B): ModuleDict(\n",
       "                  (a1): Linear(in_features=8, out_features=2560, bias=False)\n",
       "                  (a2): Linear(in_features=4, out_features=2560, bias=False)\n",
       "                )\n",
       "                (lora_embedding_A): ParameterDict()\n",
       "                (lora_embedding_B): ParameterDict()\n",
       "              )\n",
       "              (v_proj): lora.Linear(\n",
       "                (base_layer): Linear(in_features=2560, out_features=2560, bias=True)\n",
       "                (lora_dropout): ModuleDict(\n",
       "                  (a1): Dropout(p=0.05, inplace=False)\n",
       "                  (a2): Dropout(p=0.05, inplace=False)\n",
       "                )\n",
       "                (lora_A): ModuleDict(\n",
       "                  (a1): Linear(in_features=2560, out_features=8, bias=False)\n",
       "                  (a2): Linear(in_features=2560, out_features=4, bias=False)\n",
       "                )\n",
       "                (lora_B): ModuleDict(\n",
       "                  (a1): Linear(in_features=8, out_features=2560, bias=False)\n",
       "                  (a2): Linear(in_features=4, out_features=2560, bias=False)\n",
       "                )\n",
       "                (lora_embedding_A): ParameterDict()\n",
       "                (lora_embedding_B): ParameterDict()\n",
       "              )\n",
       "              (dense): lora.Linear(\n",
       "                (base_layer): Linear(in_features=2560, out_features=2560, bias=True)\n",
       "                (lora_dropout): ModuleDict(\n",
       "                  (a1): Dropout(p=0.05, inplace=False)\n",
       "                  (a2): Dropout(p=0.05, inplace=False)\n",
       "                )\n",
       "                (lora_A): ModuleDict(\n",
       "                  (a1): Linear(in_features=2560, out_features=8, bias=False)\n",
       "                  (a2): Linear(in_features=2560, out_features=4, bias=False)\n",
       "                )\n",
       "                (lora_B): ModuleDict(\n",
       "                  (a1): Linear(in_features=8, out_features=2560, bias=False)\n",
       "                  (a2): Linear(in_features=4, out_features=2560, bias=False)\n",
       "                )\n",
       "                (lora_embedding_A): ParameterDict()\n",
       "                (lora_embedding_B): ParameterDict()\n",
       "              )\n",
       "              (rotary_emb): PhiRotaryEmbedding()\n",
       "            )\n",
       "            (mlp): PhiMLP(\n",
       "              (activation_fn): NewGELUActivation()\n",
       "              (fc1): Linear(in_features=2560, out_features=10240, bias=True)\n",
       "              (fc2): Linear(in_features=10240, out_features=2560, bias=True)\n",
       "            )\n",
       "            (input_layernorm): LayerNorm((2560,), eps=1e-05, elementwise_affine=True)\n",
       "            (resid_dropout): Dropout(p=0.1, inplace=False)\n",
       "          )\n",
       "        )\n",
       "        (final_layernorm): LayerNorm((2560,), eps=1e-05, elementwise_affine=True)\n",
       "      )\n",
       "      (lm_head): Linear(in_features=2560, out_features=58944, bias=True)\n",
       "    )\n",
       "  )\n",
       ")"
      ]
     },
     "execution_count": 15,
     "metadata": {},
     "output_type": "execute_result"
    }
   ],
   "source": [
    "model_a2.eval()"
   ]
  },
  {
   "cell_type": "code",
   "execution_count": 12,
   "metadata": {},
   "outputs": [
    {
     "name": "stderr",
     "output_type": "stream",
     "text": [
      "tokenizer_config.json: 100%|██████████| 1.89k/1.89k [00:00<00:00, 3.11MB/s]\n",
      "tokenizer.json: 100%|██████████| 2.57M/2.57M [00:01<00:00, 2.28MB/s]\n",
      "special_tokens_map.json: 100%|██████████| 565/565 [00:00<00:00, 6.01MB/s]\n"
     ]
    }
   ],
   "source": [
    "tokenizer = AutoTokenizer.from_pretrained(\"yanolja/EEVE-Korean-Instruct-2.8B-v1.0\")"
   ]
  },
  {
   "cell_type": "code",
   "execution_count": null,
   "metadata": {},
   "outputs": [],
   "source": [
    "model_a2"
   ]
  },
  {
   "cell_type": "code",
   "execution_count": 18,
   "metadata": {},
   "outputs": [],
   "source": [
    "inputs = tokenizer([\"안녕하세요\", \"안녕하세요2\", \"안녕하세요3\"], return_tensors = \"pt\", padding = True)"
   ]
  },
  {
   "cell_type": "code",
   "execution_count": 19,
   "metadata": {},
   "outputs": [],
   "source": [
    "output = model_a2(**inputs, adapter_names=[\"a1\", \"a2\", \"__base__\"])"
   ]
  },
  {
   "cell_type": "code",
   "execution_count": 21,
   "metadata": {},
   "outputs": [
    {
     "name": "stderr",
     "output_type": "stream",
     "text": [
      "Setting `pad_token_id` to `eos_token_id`:58943 for open-end generation.\n"
     ]
    }
   ],
   "source": [
    "## len(adapter_names)==len(inputs) 여야함 각 샘플별로 어댑터 정의\n",
    "generated = model_a2.generate(**inputs,  adapter_names=[\"a1\", \"a2\", \"__base__\"], max_new_tokens = 20)"
   ]
  },
  {
   "cell_type": "code",
   "execution_count": 25,
   "metadata": {},
   "outputs": [
    {
     "data": {
      "text/plain": [
       "['</s><s> 안녕하세요! 저는 웹사이트를 만들고, 콘텐츠를 만들고, 디자이너로 일',\n",
       " '<s> 안녕하세요2! 저는 웹사이트를 만들고자 하는 예비 웹디자이너입니다. 저는',\n",
       " '<s> 안녕하세요3D프린팅 챌린지 팀입니다. 3D프린팅 챌린지']"
      ]
     },
     "execution_count": 25,
     "metadata": {},
     "output_type": "execute_result"
    }
   ],
   "source": [
    "tokenizer.batch_decode(generated)"
   ]
  },
  {
   "cell_type": "code",
   "execution_count": 20,
   "metadata": {},
   "outputs": [
    {
     "data": {
      "text/plain": [
       "CausalLMOutputWithPast(loss=None, logits=tensor([[[ 7.5000,  7.1875,  3.0156,  ..., -1.4297, -1.3125,  3.8125],\n",
       "         [ 2.8906,  3.2031,  2.9062,  ..., -0.4531,  0.3574,  5.0312],\n",
       "         [ 8.6875,  5.6562,  6.8750,  ...,  2.8594,  4.2500,  5.1250],\n",
       "         [17.8750, 11.1875,  1.3906,  ...,  2.5469,  3.0625,  6.9375],\n",
       "         [19.1250,  8.2500,  5.1562,  ...,  0.5000,  2.7031,  7.0625]],\n",
       "\n",
       "        [[ 2.8906,  3.2031,  2.9062,  ..., -0.4531,  0.3574,  5.0312],\n",
       "         [ 8.6875,  5.6250,  6.8125,  ...,  2.8750,  4.2188,  5.2188],\n",
       "         [17.6250, 11.0000,  1.4062,  ...,  2.4844,  3.0938,  6.8125],\n",
       "         [19.0000,  8.3125,  5.1562,  ...,  0.4590,  2.5781,  7.0312],\n",
       "         [14.8750,  6.2812,  5.3125,  ..., -1.0625,  1.2031,  3.3594]],\n",
       "\n",
       "        [[ 2.8906,  3.2031,  2.9062,  ..., -0.4531,  0.3574,  5.0312],\n",
       "         [ 8.6875,  5.6250,  6.8125,  ...,  2.8750,  4.2188,  5.2188],\n",
       "         [17.6250, 11.0000,  1.4062,  ...,  2.4844,  3.0938,  6.8125],\n",
       "         [19.0000,  8.3125,  5.1562,  ...,  0.4590,  2.5781,  7.0312],\n",
       "         [13.5000,  5.0625,  4.6562,  ..., -0.1982,  0.3613,  3.6562]]],\n",
       "       grad_fn=<ToCopyBackward0>), past_key_values=None, hidden_states=None, attentions=None)"
      ]
     },
     "execution_count": 20,
     "metadata": {},
     "output_type": "execute_result"
    }
   ],
   "source": [
    "output"
   ]
  }
 ],
 "metadata": {
  "kernelspec": {
   "display_name": "torch2",
   "language": "python",
   "name": "torch2"
  },
  "language_info": {
   "codemirror_mode": {
    "name": "ipython",
    "version": 3
   },
   "file_extension": ".py",
   "mimetype": "text/x-python",
   "name": "python",
   "nbconvert_exporter": "python",
   "pygments_lexer": "ipython3",
   "version": "3.10.8"
  }
 },
 "nbformat": 4,
 "nbformat_minor": 2
}
