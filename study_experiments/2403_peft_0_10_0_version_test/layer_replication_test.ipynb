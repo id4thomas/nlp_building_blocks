{
 "cells": [
  {
   "cell_type": "markdown",
   "metadata": {},
   "source": [
    "# peft 0.10.0 layer replication test\n",
    "* 레이어 복사하여 깊이 늘리는 방식 테스트\n",
    "* 복사된 레이어 웨이트 메모리 공유하는지 확인\n",
    "\n",
    "## 뒷 구현 방식\n",
    "* 레이어를 복사 후 (같은 레이어는 메모리 1개 만큼만 차지) lora adapter 달아줘서 어댑터만 학습\n",
    "\t* replicated layers do not take additional memory as they share the underlying weights\n"
   ]
  },
  {
   "cell_type": "code",
   "execution_count": 1,
   "metadata": {},
   "outputs": [
    {
     "name": "stderr",
     "output_type": "stream",
     "text": [
      "/Users/id4thomas/miniforge3/envs/torch2/lib/python3.10/site-packages/tqdm/auto.py:21: TqdmWarning: IProgress not found. Please update jupyter and ipywidgets. See https://ipywidgets.readthedocs.io/en/stable/user_install.html\n",
      "  from .autonotebook import tqdm as notebook_tqdm\n",
      "/Users/id4thomas/miniforge3/envs/torch2/lib/python3.10/site-packages/bitsandbytes/cextension.py:34: UserWarning: The installed version of bitsandbytes was compiled without GPU support. 8-bit optimizers, 8-bit multiplication, and GPU quantization are unavailable.\n",
      "  warn(\"The installed version of bitsandbytes was compiled without GPU support. \"\n"
     ]
    },
    {
     "name": "stdout",
     "output_type": "stream",
     "text": [
      "'NoneType' object has no attribute 'cadam32bit_grad_fp32'\n"
     ]
    }
   ],
   "source": [
    "import os\n",
    "# os.environ['KMP_DUPLICATE_LIB_OK']='True'\n",
    "import torch\n",
    "from peft import LoraConfig, get_peft_model\n",
    "from transformers import AutoModelForCausalLM, AutoTokenizer"
   ]
  },
  {
   "cell_type": "code",
   "execution_count": 2,
   "metadata": {},
   "outputs": [
    {
     "name": "stderr",
     "output_type": "stream",
     "text": [
      "Loading checkpoint shards: 100%|██████████| 2/2 [00:06<00:00,  3.16s/it]\n"
     ]
    }
   ],
   "source": [
    "'''\n",
    "decoder: yanolja/EEVE-Korean-Instruct-2.8B-v1.0\n",
    "\"num_hidden_layers\": 32,\n",
    "'''\n",
    "plm_name = \"yanolja/EEVE-Korean-Instruct-2.8B-v1.0\"\n",
    "plm_model = AutoModelForCausalLM.from_pretrained(\n",
    "\tplm_name,\n",
    "\ttorch_dtype = torch.bfloat16\n",
    ")\n",
    "phi_target_modules = [\n",
    "\t\"q_proj\", \"k_proj\", \"v_proj\", \"dense\"\n",
    "]"
   ]
  },
  {
   "cell_type": "code",
   "execution_count": 3,
   "metadata": {},
   "outputs": [],
   "source": [
    "adapter1_config = LoraConfig(\n",
    "\tinit_lora_weights=\"gaussian\",\n",
    "\tr = 8,\n",
    "\tlora_alpha=16,\n",
    "\tlora_dropout=0.05,\n",
    "\ttarget_modules = phi_target_modules,\n",
    "\t## layer_replication 값: 아래서 부터 [0,3]: 0,1,2 + [2,7]: 2,3,4,5,6\n",
    "\t## -> 총 0,1,2,2,3,4,5,6 -> 8레이어 모델\n",
    "\tlayer_replication=[[0,3], [2,7]]\n",
    ")"
   ]
  },
  {
   "cell_type": "code",
   "execution_count": 4,
   "metadata": {},
   "outputs": [],
   "source": [
    "model_a1 = get_peft_model(\n",
    "\tplm_model,\n",
    "\tpeft_config = adapter1_config,\n",
    "\tadapter_name = \"copied1\"\n",
    ")\n",
    "model_a1.save_pretrained(\"adapters\")"
   ]
  },
  {
   "cell_type": "code",
   "execution_count": 7,
   "metadata": {},
   "outputs": [
    {
     "data": {
      "text/plain": [
       "PeftModel(\n",
       "  (base_model): LoraModel(\n",
       "    (model): PhiForCausalLM(\n",
       "      (model): PhiModel(\n",
       "        (embed_tokens): Embedding(58944, 2560)\n",
       "        (embed_dropout): Dropout(p=0.0, inplace=False)\n",
       "        (layers): ModuleList(\n",
       "          (0-7): 8 x PhiDecoderLayer(\n",
       "            (self_attn): PhiSdpaAttention(\n",
       "              (q_proj): lora.Linear(\n",
       "                (base_layer): Linear(in_features=2560, out_features=2560, bias=True)\n",
       "                (lora_dropout): ModuleDict(\n",
       "                  (copied1): Dropout(p=0.05, inplace=False)\n",
       "                )\n",
       "                (lora_A): ModuleDict(\n",
       "                  (copied1): Linear(in_features=2560, out_features=8, bias=False)\n",
       "                )\n",
       "                (lora_B): ModuleDict(\n",
       "                  (copied1): Linear(in_features=8, out_features=2560, bias=False)\n",
       "                )\n",
       "                (lora_embedding_A): ParameterDict()\n",
       "                (lora_embedding_B): ParameterDict()\n",
       "              )\n",
       "              (k_proj): lora.Linear(\n",
       "                (base_layer): Linear(in_features=2560, out_features=2560, bias=True)\n",
       "                (lora_dropout): ModuleDict(\n",
       "                  (copied1): Dropout(p=0.05, inplace=False)\n",
       "                )\n",
       "                (lora_A): ModuleDict(\n",
       "                  (copied1): Linear(in_features=2560, out_features=8, bias=False)\n",
       "                )\n",
       "                (lora_B): ModuleDict(\n",
       "                  (copied1): Linear(in_features=8, out_features=2560, bias=False)\n",
       "                )\n",
       "                (lora_embedding_A): ParameterDict()\n",
       "                (lora_embedding_B): ParameterDict()\n",
       "              )\n",
       "              (v_proj): lora.Linear(\n",
       "                (base_layer): Linear(in_features=2560, out_features=2560, bias=True)\n",
       "                (lora_dropout): ModuleDict(\n",
       "                  (copied1): Dropout(p=0.05, inplace=False)\n",
       "                )\n",
       "                (lora_A): ModuleDict(\n",
       "                  (copied1): Linear(in_features=2560, out_features=8, bias=False)\n",
       "                )\n",
       "                (lora_B): ModuleDict(\n",
       "                  (copied1): Linear(in_features=8, out_features=2560, bias=False)\n",
       "                )\n",
       "                (lora_embedding_A): ParameterDict()\n",
       "                (lora_embedding_B): ParameterDict()\n",
       "              )\n",
       "              (dense): lora.Linear(\n",
       "                (base_layer): Linear(in_features=2560, out_features=2560, bias=True)\n",
       "                (lora_dropout): ModuleDict(\n",
       "                  (copied1): Dropout(p=0.05, inplace=False)\n",
       "                )\n",
       "                (lora_A): ModuleDict(\n",
       "                  (copied1): Linear(in_features=2560, out_features=8, bias=False)\n",
       "                )\n",
       "                (lora_B): ModuleDict(\n",
       "                  (copied1): Linear(in_features=8, out_features=2560, bias=False)\n",
       "                )\n",
       "                (lora_embedding_A): ParameterDict()\n",
       "                (lora_embedding_B): ParameterDict()\n",
       "              )\n",
       "              (rotary_emb): PhiRotaryEmbedding()\n",
       "            )\n",
       "            (mlp): PhiMLP(\n",
       "              (activation_fn): NewGELUActivation()\n",
       "              (fc1): Linear(in_features=2560, out_features=10240, bias=True)\n",
       "              (fc2): Linear(in_features=10240, out_features=2560, bias=True)\n",
       "            )\n",
       "            (input_layernorm): LayerNorm((2560,), eps=1e-05, elementwise_affine=True)\n",
       "            (resid_dropout): Dropout(p=0.1, inplace=False)\n",
       "          )\n",
       "        )\n",
       "        (final_layernorm): LayerNorm((2560,), eps=1e-05, elementwise_affine=True)\n",
       "      )\n",
       "      (lm_head): Linear(in_features=2560, out_features=58944, bias=True)\n",
       "    )\n",
       "  )\n",
       ")"
      ]
     },
     "execution_count": 7,
     "metadata": {},
     "output_type": "execute_result"
    }
   ],
   "source": [
    "model_a1"
   ]
  },
  {
   "cell_type": "code",
   "execution_count": 10,
   "metadata": {},
   "outputs": [
    {
     "name": "stdout",
     "output_type": "stream",
     "text": [
      "8\n"
     ]
    }
   ],
   "source": [
    "layers = model_a1.base_model.model.model.layers\n",
    "print(len(layers))"
   ]
  },
  {
   "cell_type": "code",
   "execution_count": 25,
   "metadata": {},
   "outputs": [
    {
     "name": "stdout",
     "output_type": "stream",
     "text": [
      "LAYER 1 WEIGHT: Parameter containing:\n",
      "tensor([[ 0.0106,  0.0288, -0.0092,  ...,  0.0332, -0.0047, -0.0254],\n",
      "        [ 0.0013, -0.0060,  0.0170,  ..., -0.0425,  0.0139, -0.0199],\n",
      "        [-0.0028, -0.0187, -0.0078,  ...,  0.0025, -0.0183,  0.0093],\n",
      "        ...,\n",
      "        [-0.0156, -0.0244,  0.0049,  ...,  0.0010,  0.0258,  0.0039],\n",
      "        [ 0.0100, -0.0281, -0.0479,  ...,  0.0312,  0.0125, -0.0063],\n",
      "        [-0.0889,  0.0188, -0.0138,  ...,  0.0540, -0.0259, -0.0016]],\n",
      "       dtype=torch.bfloat16)\n",
      "------------------------------\n",
      "Checking if same tensor\n",
      "13802160128 13802160128\n",
      "l1 vs l2 True\n",
      "13802160128 13959446528\n",
      "l1 vs l3 False\n"
     ]
    }
   ],
   "source": [
    "## Checking memory usage\n",
    "## layer 2 & 3 should share memory (both from layer 2 of original model)\n",
    "l1 = layers[2]\n",
    "l2 = layers[3]\n",
    "l3 = layers[4]\n",
    "\n",
    "## weight example\n",
    "l1w = l1.self_attn.q_proj.base_layer.weight\n",
    "print(\"LAYER 1 WEIGHT:\",l1w)\n",
    "\n",
    "print(\"-\"*30)\n",
    "print(\"Checking if same tensor\")\n",
    "def is_layer_same(x, y):\n",
    "\t## check q_proj weight\n",
    "\tweight_x = x.self_attn.q_proj.base_layer.weight\n",
    "\tweight_y = y.self_attn.q_proj.base_layer.weight\n",
    "\tprint(weight_x.data_ptr(), weight_y.data_ptr())\n",
    "\treturn weight_x.data_ptr() == weight_y.data_ptr()\n",
    "print(\"l1 vs l2\", is_layer_same(l1, l2))\n",
    "print(\"l1 vs l3\", is_layer_same(l1, l3))"
   ]
  },
  {
   "cell_type": "markdown",
   "metadata": {},
   "source": [
    "## Testing Encoder Models"
   ]
  },
  {
   "cell_type": "code",
   "execution_count": 29,
   "metadata": {},
   "outputs": [
    {
     "name": "stderr",
     "output_type": "stream",
     "text": [
      "config.json: 100%|██████████| 425/425 [00:00<00:00, 1.43MB/s]\n",
      "model.safetensors: 100%|██████████| 445M/445M [01:11<00:00, 6.27MB/s] \n",
      "Some weights of BertForSequenceClassification were not initialized from the model checkpoint at klue/bert-base and are newly initialized: ['classifier.bias', 'classifier.weight']\n",
      "You should probably TRAIN this model on a down-stream task to be able to use it for predictions and inference.\n"
     ]
    }
   ],
   "source": [
    "## testing with encoder models\n",
    "from transformers import AutoModelForSequenceClassification\n",
    "'''\n",
    "encoder: klue/roberta-base\n",
    "\"num_hidden_layers\": 12,\n",
    "## roberta gives err:\n",
    "ValueError: Could not locate the layers attribute in the model. Expected Llama, Bert or Falcon compatible architectures.\n",
    "\n",
    "encoder: klue/bert-base\n",
    "\"num_hidden_layers\": 12,\n",
    "## roberta gives err:\n",
    "ValueError: Could not locate the layers attribute in the model. Expected Llama, Bert or Falcon compatible architectures.\n",
    "'''\n",
    "# plm_name = \"klue/roberta-base\"\n",
    "plm_name = \"klue/bert-base\"\n",
    "plm_model = AutoModelForSequenceClassification.from_pretrained(\n",
    "\tplm_name,\n",
    "\ttorch_dtype = torch.bfloat16\n",
    ")\n",
    "roberta_target_modules = [\n",
    "\t\"query\", \"key\", \"value\"\n",
    "]"
   ]
  },
  {
   "cell_type": "code",
   "execution_count": 30,
   "metadata": {},
   "outputs": [],
   "source": [
    "adapter2_config = LoraConfig(\n",
    "\tinit_lora_weights=\"gaussian\",\n",
    "\tr = 8,\n",
    "\tlora_alpha=16,\n",
    "\tlora_dropout=0.05,\n",
    "\ttarget_modules = roberta_target_modules,\n",
    "\t## layer_replication 값: 아래서 부터 [0,3]: 0,1,2 + [2,7]: 2,3,4,5,6\n",
    "\t## -> 총 0,1,2,2,3,4,5,6 -> 8레이어 모델\n",
    "\tlayer_replication=[[0,3], [2,7]]\n",
    ")"
   ]
  },
  {
   "cell_type": "code",
   "execution_count": 31,
   "metadata": {},
   "outputs": [],
   "source": [
    "model_a2 = get_peft_model(\n",
    "\tplm_model,\n",
    "\tpeft_config = adapter2_config,\n",
    "\tadapter_name = \"copied2\"\n",
    ")\n",
    "model_a2.save_pretrained(\"adapters\")"
   ]
  },
  {
   "cell_type": "code",
   "execution_count": 32,
   "metadata": {},
   "outputs": [
    {
     "data": {
      "text/plain": [
       "PeftModel(\n",
       "  (base_model): LoraModel(\n",
       "    (model): BertForSequenceClassification(\n",
       "      (bert): BertModel(\n",
       "        (embeddings): BertEmbeddings(\n",
       "          (word_embeddings): Embedding(32000, 768, padding_idx=0)\n",
       "          (position_embeddings): Embedding(512, 768)\n",
       "          (token_type_embeddings): Embedding(2, 768)\n",
       "          (LayerNorm): LayerNorm((768,), eps=1e-12, elementwise_affine=True)\n",
       "          (dropout): Dropout(p=0.1, inplace=False)\n",
       "        )\n",
       "        (encoder): BertEncoder(\n",
       "          (layer): ModuleList(\n",
       "            (0-7): 8 x BertLayer(\n",
       "              (attention): BertAttention(\n",
       "                (self): BertSelfAttention(\n",
       "                  (query): lora.Linear(\n",
       "                    (base_layer): Linear(in_features=768, out_features=768, bias=True)\n",
       "                    (lora_dropout): ModuleDict(\n",
       "                      (copied2): Dropout(p=0.05, inplace=False)\n",
       "                    )\n",
       "                    (lora_A): ModuleDict(\n",
       "                      (copied2): Linear(in_features=768, out_features=8, bias=False)\n",
       "                    )\n",
       "                    (lora_B): ModuleDict(\n",
       "                      (copied2): Linear(in_features=8, out_features=768, bias=False)\n",
       "                    )\n",
       "                    (lora_embedding_A): ParameterDict()\n",
       "                    (lora_embedding_B): ParameterDict()\n",
       "                  )\n",
       "                  (key): lora.Linear(\n",
       "                    (base_layer): Linear(in_features=768, out_features=768, bias=True)\n",
       "                    (lora_dropout): ModuleDict(\n",
       "                      (copied2): Dropout(p=0.05, inplace=False)\n",
       "                    )\n",
       "                    (lora_A): ModuleDict(\n",
       "                      (copied2): Linear(in_features=768, out_features=8, bias=False)\n",
       "                    )\n",
       "                    (lora_B): ModuleDict(\n",
       "                      (copied2): Linear(in_features=8, out_features=768, bias=False)\n",
       "                    )\n",
       "                    (lora_embedding_A): ParameterDict()\n",
       "                    (lora_embedding_B): ParameterDict()\n",
       "                  )\n",
       "                  (value): lora.Linear(\n",
       "                    (base_layer): Linear(in_features=768, out_features=768, bias=True)\n",
       "                    (lora_dropout): ModuleDict(\n",
       "                      (copied2): Dropout(p=0.05, inplace=False)\n",
       "                    )\n",
       "                    (lora_A): ModuleDict(\n",
       "                      (copied2): Linear(in_features=768, out_features=8, bias=False)\n",
       "                    )\n",
       "                    (lora_B): ModuleDict(\n",
       "                      (copied2): Linear(in_features=8, out_features=768, bias=False)\n",
       "                    )\n",
       "                    (lora_embedding_A): ParameterDict()\n",
       "                    (lora_embedding_B): ParameterDict()\n",
       "                  )\n",
       "                  (dropout): Dropout(p=0.1, inplace=False)\n",
       "                )\n",
       "                (output): BertSelfOutput(\n",
       "                  (dense): Linear(in_features=768, out_features=768, bias=True)\n",
       "                  (LayerNorm): LayerNorm((768,), eps=1e-12, elementwise_affine=True)\n",
       "                  (dropout): Dropout(p=0.1, inplace=False)\n",
       "                )\n",
       "              )\n",
       "              (intermediate): BertIntermediate(\n",
       "                (dense): Linear(in_features=768, out_features=3072, bias=True)\n",
       "                (intermediate_act_fn): GELUActivation()\n",
       "              )\n",
       "              (output): BertOutput(\n",
       "                (dense): Linear(in_features=3072, out_features=768, bias=True)\n",
       "                (LayerNorm): LayerNorm((768,), eps=1e-12, elementwise_affine=True)\n",
       "                (dropout): Dropout(p=0.1, inplace=False)\n",
       "              )\n",
       "            )\n",
       "          )\n",
       "        )\n",
       "        (pooler): BertPooler(\n",
       "          (dense): Linear(in_features=768, out_features=768, bias=True)\n",
       "          (activation): Tanh()\n",
       "        )\n",
       "      )\n",
       "      (dropout): Dropout(p=0.1, inplace=False)\n",
       "      (classifier): Linear(in_features=768, out_features=2, bias=True)\n",
       "    )\n",
       "  )\n",
       ")"
      ]
     },
     "execution_count": 32,
     "metadata": {},
     "output_type": "execute_result"
    }
   ],
   "source": [
    "model_a2"
   ]
  },
  {
   "cell_type": "code",
   "execution_count": 33,
   "metadata": {},
   "outputs": [
    {
     "name": "stdout",
     "output_type": "stream",
     "text": [
      "8\n"
     ]
    }
   ],
   "source": [
    "layers = model_a2.base_model.model.bert.encoder.layer\n",
    "print(len(layers))"
   ]
  },
  {
   "cell_type": "code",
   "execution_count": 34,
   "metadata": {},
   "outputs": [
    {
     "name": "stdout",
     "output_type": "stream",
     "text": [
      "LAYER 1 WEIGHT: Parameter containing:\n",
      "tensor([[ 0.0273, -0.0165,  0.0703,  ...,  0.0520, -0.0200, -0.0452],\n",
      "        [ 0.0033,  0.0144,  0.0615,  ...,  0.0232,  0.0457,  0.0359],\n",
      "        [ 0.0309, -0.0039,  0.0342,  ..., -0.0422, -0.0267, -0.0095],\n",
      "        ...,\n",
      "        [ 0.0566, -0.0047, -0.0654,  ..., -0.0283, -0.0206, -0.0286],\n",
      "        [-0.0308,  0.0320,  0.0364,  ...,  0.0444, -0.0515, -0.0114],\n",
      "        [-0.0247,  0.0247,  0.0090,  ...,  0.0070,  0.0347,  0.0214]],\n",
      "       dtype=torch.bfloat16)\n",
      "------------------------------\n",
      "Checking if same tensor\n",
      "4875386880 4875386880\n",
      "l1 vs l2 True\n",
      "4875386880 4889542656\n",
      "l1 vs l3 False\n"
     ]
    }
   ],
   "source": [
    "## Checking memory usage\n",
    "## layer 2 & 3 should share memory (both from layer 2 of original model)\n",
    "l1 = layers[2]\n",
    "l2 = layers[3]\n",
    "l3 = layers[4]\n",
    "\n",
    "## weight example\n",
    "l1w = l1.attention.self.query.base_layer.weight\n",
    "print(\"LAYER 1 WEIGHT:\",l1w)\n",
    "\n",
    "print(\"-\"*30)\n",
    "print(\"Checking if same tensor\")\n",
    "def is_layer_same(x, y):\n",
    "\t## check q_proj weight\n",
    "\tweight_x = x.attention.self.query.base_layer.weight\n",
    "\tweight_y = y.attention.self.query.base_layer.weight\n",
    "\tprint(weight_x.data_ptr(), weight_y.data_ptr())\n",
    "\treturn weight_x.data_ptr() == weight_y.data_ptr()\n",
    "print(\"l1 vs l2\", is_layer_same(l1, l2))\n",
    "print(\"l1 vs l3\", is_layer_same(l1, l3))"
   ]
  }
 ],
 "metadata": {
  "kernelspec": {
   "display_name": "torch2",
   "language": "python",
   "name": "torch2"
  },
  "language_info": {
   "codemirror_mode": {
    "name": "ipython",
    "version": 3
   },
   "file_extension": ".py",
   "mimetype": "text/x-python",
   "name": "python",
   "nbconvert_exporter": "python",
   "pygments_lexer": "ipython3",
   "version": "3.10.8"
  }
 },
 "nbformat": 4,
 "nbformat_minor": 2
}
