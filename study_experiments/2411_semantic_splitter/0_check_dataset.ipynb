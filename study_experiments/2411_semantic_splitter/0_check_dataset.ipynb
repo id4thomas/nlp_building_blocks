{
 "cells": [
  {
   "cell_type": "code",
   "execution_count": 3,
   "metadata": {},
   "outputs": [],
   "source": [
    "import os\n",
    "import pandas as pd\n",
    "from pydantic import Field\n",
    "from pydantic_settings import BaseSettings, SettingsConfigDict"
   ]
  },
  {
   "cell_type": "code",
   "execution_count": 5,
   "metadata": {},
   "outputs": [],
   "source": [
    "class Settings(BaseSettings):\n",
    "    model_config = SettingsConfigDict(\n",
    "        env_file=\".env\", env_file_encoding=\"utf-8\", extra=\"ignore\"\n",
    "    )\n",
    "    data_dir: str\n",
    "settings = Settings()"
   ]
  },
  {
   "cell_type": "code",
   "execution_count": 7,
   "metadata": {},
   "outputs": [
    {
     "name": "stdout",
     "output_type": "stream",
     "text": [
      "(63357, 7) Index(['id', 'title', 'abstract', 'authors', 'published_date', 'link',\n",
      "       'markdown'],\n",
      "      dtype='object')\n"
     ]
    }
   ],
   "source": [
    "df = pd.read_parquet(os.path.join(settings.data_dir, \"arxiver/data/train.parquet\"))\n",
    "print(df.shape, df.columns)"
   ]
  },
  {
   "cell_type": "code",
   "execution_count": 8,
   "metadata": {},
   "outputs": [
    {
     "data": {
      "text/html": [
       "<div>\n",
       "<style scoped>\n",
       "    .dataframe tbody tr th:only-of-type {\n",
       "        vertical-align: middle;\n",
       "    }\n",
       "\n",
       "    .dataframe tbody tr th {\n",
       "        vertical-align: top;\n",
       "    }\n",
       "\n",
       "    .dataframe thead th {\n",
       "        text-align: right;\n",
       "    }\n",
       "</style>\n",
       "<table border=\"1\" class=\"dataframe\">\n",
       "  <thead>\n",
       "    <tr style=\"text-align: right;\">\n",
       "      <th></th>\n",
       "      <th>id</th>\n",
       "      <th>title</th>\n",
       "      <th>abstract</th>\n",
       "      <th>authors</th>\n",
       "      <th>published_date</th>\n",
       "      <th>link</th>\n",
       "      <th>markdown</th>\n",
       "    </tr>\n",
       "  </thead>\n",
       "  <tbody>\n",
       "    <tr>\n",
       "      <th>0</th>\n",
       "      <td>2305.00379</td>\n",
       "      <td>Image Completion via Dual-path Cooperative Fil...</td>\n",
       "      <td>Given the recent advances with image-generatin...</td>\n",
       "      <td>Pourya Shamsolmoali, Masoumeh Zareapoor, Eric ...</td>\n",
       "      <td>2023-04-30T03:54:53Z</td>\n",
       "      <td>http://arxiv.org/abs/2305.00379v1</td>\n",
       "      <td># Image Completion via Dual-Path Cooperative F...</td>\n",
       "    </tr>\n",
       "    <tr>\n",
       "      <th>1</th>\n",
       "      <td>2307.16362</td>\n",
       "      <td>High Sensitivity Beamformed Observations of th...</td>\n",
       "      <td>We analyzed four epochs of beamformed EVN data...</td>\n",
       "      <td>Rebecca Lin, Marten H. van Kerkwijk</td>\n",
       "      <td>2023-07-31T01:36:55Z</td>\n",
       "      <td>http://arxiv.org/abs/2307.16362v2</td>\n",
       "      <td># High Sensitivity Beamformed Observations of ...</td>\n",
       "    </tr>\n",
       "    <tr>\n",
       "      <th>2</th>\n",
       "      <td>2301.07687</td>\n",
       "      <td>Maybe, Maybe Not: A Survey on Uncertainty in V...</td>\n",
       "      <td>Understanding and evaluating uncertainty play ...</td>\n",
       "      <td>Krisha Mehta</td>\n",
       "      <td>2022-12-14T00:07:06Z</td>\n",
       "      <td>http://arxiv.org/abs/2301.07687v1</td>\n",
       "      <td># Maybe, Maybe Not: A Survey on Uncertainty in...</td>\n",
       "    </tr>\n",
       "    <tr>\n",
       "      <th>3</th>\n",
       "      <td>2309.09088</td>\n",
       "      <td>Enhancing GAN-Based Vocoders with Contrastive ...</td>\n",
       "      <td>Vocoder models have recently achieved substant...</td>\n",
       "      <td>Haoming Guo, Seth Z. Zhao, Jiachen Lian, Gopal...</td>\n",
       "      <td>2023-09-16T20:04:16Z</td>\n",
       "      <td>http://arxiv.org/abs/2309.09088v2</td>\n",
       "      <td># Enhancing Gan-Based Vocoders with Contrastiv...</td>\n",
       "    </tr>\n",
       "    <tr>\n",
       "      <th>4</th>\n",
       "      <td>2307.16404</td>\n",
       "      <td>Nonvolatile Magneto-Thermal Switching in MgB2</td>\n",
       "      <td>Ongoing research explores thermal switching ma...</td>\n",
       "      <td>Hiroto Arima, Yoshikazu Mizuguchi</td>\n",
       "      <td>2023-07-31T04:59:19Z</td>\n",
       "      <td>http://arxiv.org/abs/2307.16404v1</td>\n",
       "      <td># Nonvolatile Magneto-Thermal Switching in MgB...</td>\n",
       "    </tr>\n",
       "  </tbody>\n",
       "</table>\n",
       "</div>"
      ],
      "text/plain": [
       "           id                                              title  \\\n",
       "0  2305.00379  Image Completion via Dual-path Cooperative Fil...   \n",
       "1  2307.16362  High Sensitivity Beamformed Observations of th...   \n",
       "2  2301.07687  Maybe, Maybe Not: A Survey on Uncertainty in V...   \n",
       "3  2309.09088  Enhancing GAN-Based Vocoders with Contrastive ...   \n",
       "4  2307.16404      Nonvolatile Magneto-Thermal Switching in MgB2   \n",
       "\n",
       "                                            abstract  \\\n",
       "0  Given the recent advances with image-generatin...   \n",
       "1  We analyzed four epochs of beamformed EVN data...   \n",
       "2  Understanding and evaluating uncertainty play ...   \n",
       "3  Vocoder models have recently achieved substant...   \n",
       "4  Ongoing research explores thermal switching ma...   \n",
       "\n",
       "                                             authors        published_date  \\\n",
       "0  Pourya Shamsolmoali, Masoumeh Zareapoor, Eric ...  2023-04-30T03:54:53Z   \n",
       "1                Rebecca Lin, Marten H. van Kerkwijk  2023-07-31T01:36:55Z   \n",
       "2                                       Krisha Mehta  2022-12-14T00:07:06Z   \n",
       "3  Haoming Guo, Seth Z. Zhao, Jiachen Lian, Gopal...  2023-09-16T20:04:16Z   \n",
       "4                  Hiroto Arima, Yoshikazu Mizuguchi  2023-07-31T04:59:19Z   \n",
       "\n",
       "                                link  \\\n",
       "0  http://arxiv.org/abs/2305.00379v1   \n",
       "1  http://arxiv.org/abs/2307.16362v2   \n",
       "2  http://arxiv.org/abs/2301.07687v1   \n",
       "3  http://arxiv.org/abs/2309.09088v2   \n",
       "4  http://arxiv.org/abs/2307.16404v1   \n",
       "\n",
       "                                            markdown  \n",
       "0  # Image Completion via Dual-Path Cooperative F...  \n",
       "1  # High Sensitivity Beamformed Observations of ...  \n",
       "2  # Maybe, Maybe Not: A Survey on Uncertainty in...  \n",
       "3  # Enhancing Gan-Based Vocoders with Contrastiv...  \n",
       "4  # Nonvolatile Magneto-Thermal Switching in MgB...  "
      ]
     },
     "execution_count": 8,
     "metadata": {},
     "output_type": "execute_result"
    }
   ],
   "source": [
    "df.head()"
   ]
  }
 ],
 "metadata": {
  "kernelspec": {
   "display_name": "llm",
   "language": "python",
   "name": "llm"
  },
  "language_info": {
   "codemirror_mode": {
    "name": "ipython",
    "version": 3
   },
   "file_extension": ".py",
   "mimetype": "text/x-python",
   "name": "python",
   "nbconvert_exporter": "python",
   "pygments_lexer": "ipython3",
   "version": "3.10.14"
  }
 },
 "nbformat": 4,
 "nbformat_minor": 2
}
